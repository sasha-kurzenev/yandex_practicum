{
  "cells": [
    {
      "cell_type": "markdown",
      "metadata": {
        "id": "view-in-github",
        "colab_type": "text"
      },
      "source": [
        "<a href=\"https://colab.research.google.com/github/sasha-kurzenev/yandex_practicum/blob/main/AB_tests/14_AB_tests.ipynb\" target=\"_parent\"><img src=\"https://colab.research.google.com/assets/colab-badge.svg\" alt=\"Open In Colab\"/></a>"
      ]
    },
    {
      "cell_type": "markdown",
      "metadata": {
        "id": "zezyzxg3t5yX"
      },
      "source": [
        "# A / B  Тестирование "
      ]
    },
    {
      "cell_type": "markdown",
      "metadata": {
        "id": "ManmO5M1uCfR"
      },
      "source": [
        "##  Постановка задачи\n",
        "\n",
        "Ваша задача — провести оценку результатов A/B-теста. В вашем распоряжении есть датасет с действиями пользователей, техническое задание и несколько вспомогательных датасетов.\n",
        "\n",
        "- Оцените корректность проведения теста\n",
        "- Проанализируйте результаты теста\n",
        "\n",
        "Чтобы оценить корректность проведения теста, проверьте:\n",
        "- пересечение тестовой аудитории с конкурирующим тестом,\n",
        "- совпадение теста и маркетинговых событий, другие проблемы временных границ теста.\n",
        "\n",
        "## Техническое задание\n",
        "\n",
        "- Название теста: `recommender_system_test`;\n",
        "- группы: А — контрольная, B — новая платёжная воронка;\n",
        "- дата запуска: 2020-12-07;\n",
        "- дата остановки набора новых пользователей: 2020-12-21;\n",
        "- дата остановки: 2021-01-04;\n",
        "- аудитория: 15% новых пользователей из региона EU;\n",
        "- назначение теста: тестирование изменений, связанных с внедрением улучшенной рекомендательной системы;\n",
        "- ожидаемое количество участников теста: 6000.\n",
        "- ожидаемый эффект: за 14 дней с момента регистрации пользователи покажут улучшение каждой метрики не менее, чем на 10%:\n",
        "    - конверсии в просмотр карточек товаров — событие `product_page`,\n",
        "    - просмотры корзины — `product_cart`,\n",
        "    - покупки — `purchase`."
      ]
    },
    {
      "cell_type": "markdown",
      "metadata": {
        "id": "M31pjmzwuNkZ"
      },
      "source": [
        "## Описание данных\n",
        "\n",
        "`ab_project_marketing_events.csv` — календарь маркетинговых событий на 2020 год.\n",
        "\n",
        "Структура файла:\n",
        "\n",
        "- `name` — название маркетингового события;\n",
        "- `regions` — регионы, в которых будет проводиться рекламная кампания;\n",
        "- `start_dt` — дата начала кампании;\n",
        "- `finish_dt` — дата завершения кампании.\n",
        "\n",
        "`final_ab_new_users.csv` — пользователи, зарегистрировавшиеся с 7 по 21 декабря 2020 года.\n",
        "\n",
        "Структура файла:\n",
        "\n",
        "- `user_id` — идентификатор пользователя;\n",
        "- `first_date` — дата регистрации;\n",
        "- `region` — регион пользователя;\n",
        "- `device` — устройство, с которого происходила регистрация.\n",
        "\n",
        "`final_ab_events.csv` — действия новых пользователей в период с 7 декабря 2020 по 4 января 2021 года.\n",
        "\n",
        "Структура файла:\n",
        "\n",
        "- `user_id` — идентификатор пользователя;\n",
        "- `event_dt` — дата и время покупки;\n",
        "- `event_name` — тип события;\n",
        "- `details` — дополнительные данные о событии. Например, для покупок, `purchase,` в этом поле хранится стоимость покупки в долларах.\n",
        "\n",
        "`final_ab_participants.csv` — таблица участников тестов.\n",
        "\n",
        "Структура файла:\n",
        "\n",
        "- `user_id` — идентификатор пользователя;\n",
        "- `ab_test` — название теста;\n",
        "- `group` — группа пользователя."
      ]
    },
    {
      "cell_type": "markdown",
      "metadata": {
        "id": "38WJKj9WvANh"
      },
      "source": [
        "# Загрузим необходимые модули"
      ]
    },
    {
      "cell_type": "code",
      "execution_count": null,
      "metadata": {
        "id": "lHjwLziWtIbK"
      },
      "outputs": [],
      "source": [
        "import pandas as pd\n",
        "import numpy as np\n",
        "import seaborn as sns\n",
        "import datetime as dt\n",
        "import plotly.express as px\n",
        "import math as mth\n",
        "import re\n",
        "import scipy.stats as stats\n",
        "import warnings\n",
        "import requests\n",
        "\n",
        "from plotly import graph_objects as go\n",
        "#from google.colab import files\n",
        "from matplotlib import pyplot as plt\n",
        "from scipy import stats as st\n",
        "from pandas.plotting import register_matplotlib_converters\n",
        "from datetime import datetime, timedelta\n",
        "\n",
        "register_matplotlib_converters()\n",
        "warnings.filterwarnings(\"ignore\")"
      ]
    },
    {
      "cell_type": "markdown",
      "metadata": {
        "id": "1iiTrHnquiOo"
      },
      "source": [
        "# Загрузим датасеты из файлов"
      ]
    },
    {
      "cell_type": "code",
      "execution_count": null,
      "metadata": {
        "colab": {
          "base_uri": "https://localhost:8080/"
        },
        "id": "kcNLd4pXt2J-",
        "outputId": "00952721-74a1-4fa2-c450-c2d35da50b1f"
      },
      "outputs": [
        {
          "output_type": "stream",
          "name": "stdout",
          "text": [
            "Загружаем локально...\n",
            "Локально не нашли, загружаем с сервера...\n",
            "Done\n"
          ]
        }
      ],
      "source": [
        "try:\n",
        "    print('Загружаем локально...')\n",
        "    final_ab_events = pd.read_csv('/final_ab_events.csv')\n",
        "    ab_project_marketing_events = pd.read_csv('/ab_project_marketing_events.csv')\n",
        "    final_ab_new_users = pd.read_csv('/final_ab_new_users.csv')\n",
        "    final_ab_participants = pd.read_csv('/final_ab_participants.csv')    \n",
        "except:\n",
        "    print('Локально не нашли, загружаем с сервера...')\n",
        "    final_ab_events = pd.read_csv('https://code.s3.yandex.net/datasets/final_ab_events.csv')\n",
        "    ab_project_marketing_events = pd.read_csv('https://code.s3.yandex.net/datasets/ab_project_marketing_events.csv')\n",
        "    final_ab_new_users = pd.read_csv('https://code.s3.yandex.net/datasets/final_ab_new_users.csv')\n",
        "    final_ab_participants = pd.read_csv('https://code.s3.yandex.net/datasets/final_ab_participants.csv') \n",
        "print('Done')"
      ]
    },
    {
      "cell_type": "markdown",
      "metadata": {
        "id": "hHruTg37V4NT"
      },
      "source": [
        "# Исследуем данные"
      ]
    },
    {
      "cell_type": "code",
      "execution_count": null,
      "metadata": {
        "colab": {
          "base_uri": "https://localhost:8080/"
        },
        "id": "ZQDIBK6CV8Lr",
        "outputId": "fba4a43d-db21-478f-a549-6977e8098aa9"
      },
      "outputs": [
        {
          "output_type": "stream",
          "name": "stdout",
          "text": [
            "<class 'pandas.core.frame.DataFrame'>\n",
            "RangeIndex: 440317 entries, 0 to 440316\n",
            "Data columns (total 4 columns):\n",
            " #   Column      Non-Null Count   Dtype  \n",
            "---  ------      --------------   -----  \n",
            " 0   user_id     440317 non-null  object \n",
            " 1   event_dt    440317 non-null  object \n",
            " 2   event_name  440317 non-null  object \n",
            " 3   details     62740 non-null   float64\n",
            "dtypes: float64(1), object(3)\n",
            "memory usage: 13.4+ MB\n",
            "None\n",
            "Количество NAN final_ab_events user_id            0\n",
            "event_dt           0\n",
            "event_name         0\n",
            "details       377577\n",
            "dtype: int64\n",
            "Количество дублей final_ab_events 0\n",
            "\n",
            "<class 'pandas.core.frame.DataFrame'>\n",
            "RangeIndex: 14 entries, 0 to 13\n",
            "Data columns (total 4 columns):\n",
            " #   Column     Non-Null Count  Dtype \n",
            "---  ------     --------------  ----- \n",
            " 0   name       14 non-null     object\n",
            " 1   regions    14 non-null     object\n",
            " 2   start_dt   14 non-null     object\n",
            " 3   finish_dt  14 non-null     object\n",
            "dtypes: object(4)\n",
            "memory usage: 576.0+ bytes\n",
            "None\n",
            "Количество NAN ab_project_marketing_events name         0\n",
            "regions      0\n",
            "start_dt     0\n",
            "finish_dt    0\n",
            "dtype: int64\n",
            "Количество дублей ab_project_marketing_events 0\n",
            "\n",
            "<class 'pandas.core.frame.DataFrame'>\n",
            "RangeIndex: 61733 entries, 0 to 61732\n",
            "Data columns (total 4 columns):\n",
            " #   Column      Non-Null Count  Dtype \n",
            "---  ------      --------------  ----- \n",
            " 0   user_id     61733 non-null  object\n",
            " 1   first_date  61733 non-null  object\n",
            " 2   region      61733 non-null  object\n",
            " 3   device      61733 non-null  object\n",
            "dtypes: object(4)\n",
            "memory usage: 1.9+ MB\n",
            "None\n",
            "Количество NAN final_ab_new_users user_id       0\n",
            "first_date    0\n",
            "region        0\n",
            "device        0\n",
            "dtype: int64\n",
            "Количество дублей final_ab_new_users 0\n",
            "Количество дублей final_ab_new_users 0\n",
            "\n",
            "<class 'pandas.core.frame.DataFrame'>\n",
            "RangeIndex: 18268 entries, 0 to 18267\n",
            "Data columns (total 3 columns):\n",
            " #   Column   Non-Null Count  Dtype \n",
            "---  ------   --------------  ----- \n",
            " 0   user_id  18268 non-null  object\n",
            " 1   group    18268 non-null  object\n",
            " 2   ab_test  18268 non-null  object\n",
            "dtypes: object(3)\n",
            "memory usage: 428.3+ KB\n",
            "None\n",
            "Количество NAN final_ab_participants user_id    0\n",
            "group      0\n",
            "ab_test    0\n",
            "dtype: int64\n",
            "Количество дублей final_ab_participants 0\n",
            "\n",
            "Начало измериняия final_ab_events 2020-12-07 00:00:33\n",
            "Окончание измериняия final_ab_events 2020-12-30 23:36:33\n",
            "\n",
            "Начало измериняия final_ab_new_users 2020-12-07\n",
            "Окончание измериняия final_ab_new_users 2020-12-23\n"
          ]
        }
      ],
      "source": [
        "print(final_ab_events.info())\n",
        "print('Количество NAN final_ab_events',final_ab_events.isna().sum())\n",
        "print('Количество дублей final_ab_events',final_ab_events.duplicated().sum())\n",
        "print()\n",
        "print(ab_project_marketing_events.info())\n",
        "print('Количество NAN ab_project_marketing_events',ab_project_marketing_events.isna().sum())\n",
        "print('Количество дублей ab_project_marketing_events',ab_project_marketing_events.duplicated().sum())\n",
        "print()\n",
        "print(final_ab_new_users.info())\n",
        "print('Количество NAN final_ab_new_users',final_ab_new_users.isna().sum())\n",
        "print('Количество дублей final_ab_new_users',final_ab_new_users.duplicated().sum())\n",
        "print('Количество дублей final_ab_new_users',final_ab_new_users.duplicated(['user_id']).sum())\n",
        "\n",
        "print()\n",
        "print(final_ab_participants.info())\n",
        "print('Количество NAN final_ab_participants',final_ab_participants.isna().sum())\n",
        "print('Количество дублей final_ab_participants',final_ab_participants.duplicated().sum())\n",
        "print()\n",
        "print('Начало измериняия final_ab_events',final_ab_events['event_dt'].min())\n",
        "print('Окончание измериняия final_ab_events',final_ab_events['event_dt'].max())\n",
        "print()\n",
        "print('Начало измериняия final_ab_new_users',final_ab_new_users['first_date'].min())\n",
        "print('Окончание измериняия final_ab_new_users',final_ab_new_users['first_date'].max())"
      ]
    },
    {
      "cell_type": "code",
      "execution_count": null,
      "metadata": {
        "colab": {
          "base_uri": "https://localhost:8080/",
          "height": 281
        },
        "id": "JOAKOZd9YXcE",
        "outputId": "364495f5-8612-4d82-9e01-463efdbe830c"
      },
      "outputs": [
        {
          "output_type": "display_data",
          "data": {
            "text/plain": [
              "<Figure size 432x288 with 1 Axes>"
            ],
            "image/png": "[encoded data removed]"
          },
          "metadata": {
            "needs_background": "light"
          }
        }
      ],
      "source": [
        "plt.title('Регионы пользователей')\n",
        "final_ab_new_users['region'].hist(bins=final_ab_new_users['region'].nunique()*2);"
      ]
    },
    {
      "cell_type": "code",
      "execution_count": null,
      "metadata": {
        "colab": {
          "base_uri": "https://localhost:8080/",
          "height": 281
        },
        "id": "ChnV9sXcWXs0",
        "outputId": "c1096dac-d402-49d7-ffd5-553ce5443198"
      },
      "outputs": [
        {
          "output_type": "display_data",
          "data": {
            "text/plain": [
              "<Figure size 432x288 with 1 Axes>"
            ],
            "image/png": "[encoded data removed]"
          },
          "metadata": {
            "needs_background": "light"
          }
        }
      ],
      "source": [
        "plt.title('Устройства пользователей')\n",
        "final_ab_new_users['device'].hist(bins=final_ab_new_users['device'].nunique()*2);"
      ]
    },
    {
      "cell_type": "code",
      "execution_count": null,
      "metadata": {
        "colab": {
          "base_uri": "https://localhost:8080/",
          "height": 282
        },
        "id": "LVRntb_MWXfk",
        "outputId": "1f36a76f-757f-410a-af3a-52fe13cc83f4"
      },
      "outputs": [
        {
          "output_type": "display_data",
          "data": {
            "text/plain": [
              "<Figure size 432x288 with 1 Axes>"
            ],
            "image/png": "[encoded data removed]"
          },
          "metadata": {
            "needs_background": "light"
          }
        }
      ],
      "source": [
        "plt.title('Типы событий')\n",
        "final_ab_events['event_name'].hist(bins=final_ab_events['event_name'].nunique()*2);"
      ]
    },
    {
      "cell_type": "markdown",
      "metadata": {
        "id": "ya-WW1jpYaqr"
      },
      "source": [
        "### Вывод \n",
        "\n",
        "Нужно привести даты в правильный формат\n",
        "final_ab_new_users['details'] есть nan , но это сказано в условиях, что это дополнительная информация. которой может не быть"
      ]
    },
    {
      "cell_type": "markdown",
      "metadata": {
        "id": "1CVoz0RfTfw8"
      },
      "source": [
        "## Даты в правильный формат"
      ]
    },
    {
      "cell_type": "code",
      "execution_count": null,
      "metadata": {
        "id": "vAVq15CEt2Et"
      },
      "outputs": [],
      "source": [
        "final_ab_events['event_dt'] = pd.to_datetime(final_ab_events['event_dt'])\n",
        "ab_project_marketing_events['start_dt'] = pd.to_datetime(ab_project_marketing_events['start_dt'])\n",
        "ab_project_marketing_events['finish_dt'] = pd.to_datetime(ab_project_marketing_events['finish_dt'])\n",
        "final_ab_new_users['first_date'] = pd.to_datetime(final_ab_new_users['first_date'])"
      ]
    },
    {
      "cell_type": "markdown",
      "metadata": {
        "id": "P57MElagaoCb"
      },
      "source": [
        "## Создадим профиль пользователей"
      ]
    },
    {
      "cell_type": "code",
      "execution_count": null,
      "metadata": {
        "id": "HjQ4yvl2aoCb"
      },
      "outputs": [],
      "source": [
        "log = final_ab_events.merge(final_ab_participants, on='user_id')\n",
        "log = log.merge(final_ab_new_users, on='user_id')\n",
        "\n",
        "# Колонка lifetime события\n",
        "log['event_lifetime'] = (log['event_dt'] - log['first_date']).dt.days"
      ]
    },
    {
      "cell_type": "markdown",
      "metadata": {
        "id": "O8oU4DAoadet"
      },
      "source": [
        "# Оцените корректность проведения теста. Обратите внимание на:"
      ]
    },
    {
      "cell_type": "markdown",
      "metadata": {
        "id": "QDn82askagxl"
      },
      "source": [
        "## Соответствие данных требованиям технического задания. Проверьте корректность всех пунктов технического задания.\n",
        "\n",
        "\n"
      ]
    },
    {
      "cell_type": "code",
      "execution_count": null,
      "metadata": {
        "scrolled": true,
        "colab": {
          "base_uri": "https://localhost:8080/"
        },
        "id": "9K5BRQp_aoCd",
        "outputId": "d1269cd8-0774-486a-8303-d98f1883ad52"
      },
      "outputs": [
        {
          "output_type": "stream",
          "name": "stdout",
          "text": [
            "Какие тесты есть в датафрейме ['interface_eu_test' 'recommender_system_test']\n"
          ]
        }
      ],
      "source": [
        "print('Какие тесты есть в датафрейме',log['ab_test'].unique())"
      ]
    },
    {
      "cell_type": "markdown",
      "metadata": {
        "id": "ZH7beH-VaoCd"
      },
      "source": [
        "### - Название теста: `recommender_system_test`; ✔️ ОК"
      ]
    },
    {
      "cell_type": "code",
      "execution_count": null,
      "metadata": {
        "colab": {
          "base_uri": "https://localhost:8080/"
        },
        "id": "hmKu_eqtaoCe",
        "outputId": "2ff38786-e5bf-4d05-d2f9-e378b238a78e"
      },
      "outputs": [
        {
          "output_type": "stream",
          "name": "stdout",
          "text": [
            "Какие группы есть в датафрейме ['B' 'A']\n"
          ]
        }
      ],
      "source": [
        "print('Какие группы есть в датафрейме',log['group'].unique())"
      ]
    },
    {
      "cell_type": "markdown",
      "metadata": {
        "id": "wHE4ydxlaoCf"
      },
      "source": [
        "### - группы: А — контрольная, B — новая платёжная воронка; ✔️ OK"
      ]
    },
    {
      "cell_type": "code",
      "execution_count": null,
      "metadata": {
        "colab": {
          "base_uri": "https://localhost:8080/"
        },
        "id": "PoVDtD0caoCf",
        "outputId": "f1bfed1b-2752-4d15-9709-e20ca94d19a9"
      },
      "outputs": [
        {
          "output_type": "stream",
          "name": "stdout",
          "text": [
            "Начало действий 2020-12-07 00:02:48\n",
            "Окончание действий 2020-12-30 18:28:55\n",
            "Начало регистрайии пользователей 2020-12-07 00:00:00\n",
            "Окончание регистрайии пользователей 2020-12-23 00:00:00\n"
          ]
        }
      ],
      "source": [
        "print('Начало действий',log['event_dt'].min())\n",
        "print('Окончание действий',log['event_dt'].max())\n",
        "print('Начало регистрайии пользователей',log['first_date'].min())\n",
        "print('Окончание регистрайии пользователей',log['first_date'].max())"
      ]
    },
    {
      "cell_type": "code",
      "execution_count": null,
      "metadata": {
        "colab": {
          "base_uri": "https://localhost:8080/"
        },
        "id": "_CXJTQ6YaoCg",
        "outputId": "7a97795f-e76d-428e-9254-da7ee1856dd7"
      },
      "outputs": [
        {
          "output_type": "stream",
          "name": "stdout",
          "text": [
            "61733 пользователей\n",
            "13444 Пользователей из Европы в тесте\n",
            "Процент из Европы 21.78\n"
          ]
        }
      ],
      "source": [
        "n_users = final_ab_new_users['user_id'].nunique()\n",
        "ue_users = log.query('region==\"EU\"')['user_id'].nunique()\n",
        "print(n_users ,'пользователей')\n",
        "print(ue_users,'Пользователей из Европы в тесте')\n",
        "print( 'Процент из Европы',round(ue_users/n_users *100,2))"
      ]
    },
    {
      "cell_type": "code",
      "execution_count": null,
      "metadata": {
        "colab": {
          "base_uri": "https://localhost:8080/"
        },
        "id": "pNd5cE70aoCg",
        "outputId": "1d71ded3-2b6c-4742-ffa8-6439c4b9e5d5"
      },
      "outputs": [
        {
          "output_type": "stream",
          "name": "stdout",
          "text": [
            "Какие группы есть в датафрейме ['EU' 'N.America' 'CIS' 'APAC']\n"
          ]
        }
      ],
      "source": [
        "print('Какие группы есть в датафрейме',log['region'].unique())"
      ]
    },
    {
      "cell_type": "markdown",
      "metadata": {
        "id": "T9WOBpxCcy09",
        "outputId": "0715a497-1247-45b1-9263-f6c5b80091cc"
      },
      "source": [
        "Нам для теста нужны будут только из Европы\n",
        "\n",
        "Посмотрим на пользователей, которые\n",
        "- из европы\n",
        "- зарегистрировались до 21 декабря\n",
        "- учавствуют в тесте recommender_system_test"
      ]
    },
    {
      "cell_type": "code",
      "execution_count": null,
      "metadata": {
        "id": "MPvlQGEhaoCh"
      },
      "outputs": [],
      "source": [
        "log_temp = log"
      ]
    },
    {
      "cell_type": "code",
      "execution_count": null,
      "metadata": {
        "colab": {
          "base_uri": "https://localhost:8080/"
        },
        "id": "gXxxpGoSaoCh",
        "outputId": "9dc1820a-1814-4e87-b7f1-d69cf75c27f2"
      },
      "outputs": [
        {
          "output_type": "stream",
          "name": "stdout",
          "text": [
            "42340 пользователей\n",
            "3481  пользователей удовлетворяющих условию теста\n",
            "Процент таких пользователей 8.22\n"
          ]
        }
      ],
      "source": [
        "#n_users = log_temp['user_id'].nunique()\n",
        "n_users = final_ab_new_users.query('region==\"EU\"').query('first_date<=\"2020-12-21\"').query('first_date>=\"2020-12-07\"')['user_id'].nunique()\n",
        "good_users = log_temp.query('first_date<=\"2020-12-21\"').query('ab_test==\"recommender_system_test\"').query('region==\"EU\"')['user_id'].nunique()\n",
        "print(n_users ,'пользователей')\n",
        "print(good_users ,' пользователей удовлетворяющих условию теста')\n",
        "print( 'Процент таких пользователей',round(good_users/n_users *100,2))"
      ]
    },
    {
      "cell_type": "code",
      "execution_count": null,
      "metadata": {
        "colab": {
          "base_uri": "https://localhost:8080/"
        },
        "id": "p5HAFMZsaoCi",
        "outputId": "e7e95492-2018-489c-ff7d-58a687621ba9"
      },
      "outputs": [
        {
          "output_type": "stream",
          "name": "stdout",
          "text": [
            "Количество пользователей 13638\n",
            "Пользователи в нескольких тестах 887\n",
            "Пользователи в нескольких группах 441\n"
          ]
        }
      ],
      "source": [
        "log_temp = log_temp.query('first_date<=\"2020-12-21\"').query('region==\"EU\"')\n",
        "both_test_users = log_temp.pivot_table(index=['user_id'], values='ab_test', aggfunc='nunique')\n",
        "both_g_users = log_temp.pivot_table(index=['user_id'], values='group', aggfunc='nunique')\n",
        "print('Количество пользователей',log['user_id'].nunique())\n",
        "print('Пользователи в нескольких тестах',len(both_test_users[both_test_users['ab_test'] > 1]))\n",
        "print('Пользователи в нескольких группах',len(both_g_users[both_g_users['group'] > 1]))"
      ]
    },
    {
      "cell_type": "markdown",
      "metadata": {
        "id": "_TeEYm0naoCj"
      },
      "source": [
        "Даже если брать пользователей зарегистрировавшихся до 21 и из европы, всеравно много пользователей из нескольких групп и нескольких тестов.\n",
        "Такое исследование будет некорректным."
      ]
    },
    {
      "cell_type": "markdown",
      "metadata": {
        "id": "BCds6-KtaoCj"
      },
      "source": [
        "### - ожидаемое количество участников теста: > 6000. ❌ **Not OK**\n",
        "### - аудитория: 15% новых пользователей из региона EU;  ✔️ OK"
      ]
    },
    {
      "cell_type": "markdown",
      "metadata": {
        "id": "GoLiBVBkaj4V"
      },
      "source": [
        "### Время проведения теста. Убедитесь, что оно не совпадает с маркетинговыми и другими активностями."
      ]
    },
    {
      "cell_type": "code",
      "execution_count": null,
      "metadata": {
        "colab": {
          "base_uri": "https://localhost:8080/"
        },
        "id": "qO4ONRY5kCzw",
        "outputId": "9da6b2d6-d34d-4fc6-91f9-52a08e830b03"
      },
      "outputs": [
        {
          "output_type": "stream",
          "name": "stdout",
          "text": [
            "Акция  Christmas&New Year Promo 2020-12-25 00:00:00 2021-01-03 00:00:00 попадает на период тестирования\n"
          ]
        }
      ],
      "source": [
        "ev_dt_max = log['event_dt'].max()\n",
        "ev_dt_min = log['event_dt'].min()\n",
        "\n",
        "for i , j in ab_project_marketing_events[ab_project_marketing_events['regions'].str.contains(r'\\bEU')].iterrows():\n",
        "   if((j['start_dt']<ev_dt_min)and(j['finish_dt']>ev_dt_min))\\\n",
        "       or ((j['start_dt']<ev_dt_max)and(j['finish_dt']>ev_dt_max))\\\n",
        "       or ((j['start_dt']>ev_dt_min)and(j['finish_dt']<ev_dt_max)):\n",
        "       print('Акция ', j['name'] , j['start_dt'], j['finish_dt'], 'попадает на период тестирования')"
      ]
    },
    {
      "cell_type": "markdown",
      "metadata": {
        "id": "BF6Yu_Baf99u"
      },
      "source": [
        "На веремя проведелния теста в Европе приходиться акция  Christmas&New Year Promo. Но эта акция скорее всего влияет на обе группы исследуемых одинаково, поэтому этим фактом можно пренебречь"
      ]
    },
    {
      "cell_type": "markdown",
      "metadata": {
        "id": "hQWtlq4Hmnxr"
      },
      "source": [
        "##  Удостоверьтесь, что нет пересечений с конкурирующим тестом и нет пользователей, участвующих в двух группах теста одновременно."
      ]
    },
    {
      "cell_type": "code",
      "execution_count": null,
      "metadata": {
        "colab": {
          "base_uri": "https://localhost:8080/"
        },
        "id": "E141bXqHms4a",
        "outputId": "9ac820ec-b0ea-4c8e-91d0-70994d09b06a"
      },
      "outputs": [
        {
          "output_type": "stream",
          "name": "stdout",
          "text": [
            "Количество пользователей 13638\n",
            "Пользователи в нескольких тестах 887\n",
            "Пользователи в нескольких группах 441\n"
          ]
        }
      ],
      "source": [
        "both_test_users = log.pivot_table(index=['user_id'], values='ab_test', aggfunc='nunique')\n",
        "both_g_users = log.pivot_table(index=['user_id'], values='group', aggfunc='nunique')\n",
        "print('Количество пользователей',log['user_id'].nunique())\n",
        "print('Пользователи в нескольких тестах',len(both_test_users[both_test_users['ab_test'] > 1]))\n",
        "print('Пользователи в нескольких группах',len(both_g_users[both_g_users['group'] > 1]))"
      ]
    },
    {
      "cell_type": "markdown",
      "metadata": {
        "id": "Xo1fxFK6aoCl"
      },
      "source": [
        "Есть пользователи , которые учавствуют сразу в двух тестах. Попробуем убрать таких пользователей\n",
        "\n",
        "Посмотрим, что получилось"
      ]
    },
    {
      "cell_type": "code",
      "execution_count": null,
      "metadata": {
        "colab": {
          "base_uri": "https://localhost:8080/"
        },
        "id": "JqySvtBIoNuD",
        "outputId": "cad4f1fe-c2f2-4756-dea2-07020b5063b0"
      },
      "outputs": [
        {
          "output_type": "stream",
          "name": "stdout",
          "text": [
            "Количество пользователей 13638\n",
            "Пользователи в нескольких тестах 0\n",
            "Пользователи в нескольких группах 0\n"
          ]
        }
      ],
      "source": [
        "both_test_users = log.query('ab_test==\"recommender_system_test\"').pivot_table(index=['user_id'], values='ab_test', aggfunc='nunique')\n",
        "both_g_users = log.query('ab_test==\"recommender_system_test\"').pivot_table(index=['user_id'], values='group', aggfunc='nunique')\n",
        "print('Количество пользователей',log['user_id'].nunique())\n",
        "print('Пользователи в нескольких тестах',len(both_test_users[both_test_users['ab_test'] > 1]))\n",
        "print('Пользователи в нескольких группах',len(both_g_users[both_g_users['group'] > 1]))"
      ]
    },
    {
      "cell_type": "markdown",
      "metadata": {
        "id": "Fav5gb9iaoCm"
      },
      "source": [
        "Есть пользователи в нескольких тестах и в нескольких группах. Но если оставить только тех пользователей которые принимают участие в нашем тесте то пользователей в нескольких группах тоже не будет."
      ]
    },
    {
      "cell_type": "markdown",
      "metadata": {
        "id": "8HjU9N13amUU"
      },
      "source": [
        "## Проверьте равномерность распределения по тестовым группам и правильность их формирования."
      ]
    },
    {
      "cell_type": "code",
      "execution_count": null,
      "metadata": {
        "colab": {
          "base_uri": "https://localhost:8080/",
          "height": 542
        },
        "id": "N0Q2rupWhRKv",
        "outputId": "4f151b7c-470a-41d2-c58e-7464a060c761",
        "scrolled": false
      },
      "outputs": [
        {
          "output_type": "display_data",
          "data": {
            "text/html": [
              "<html>\n",
              "<head><meta charset=\"utf-8\" /></head>\n",
              "<body>\n",
              "    <div>            <script src=\"https://cdnjs.cloudflare.com/ajax/libs/mathjax/2.7.5/MathJax.js?config=TeX-AMS-MML_SVG\"></script><script type=\"text/javascript\">if (window.MathJax) {MathJax.Hub.Config({SVG: {font: \"STIX-Web\"}});}</script>                <script type=\"text/javascript\">window.PlotlyConfig = {MathJaxConfig: 'local'};</script>\n",
              "        <script src=\"https://cdn.plot.ly/plotly-2.8.3.min.js\"></script>                <div id=\"114676d5-82b0-411d-a684-09d19a025ff1\" class=\"plotly-graph-div\" style=\"height:525px; width:400px;\"></div>            <script type=\"text/javascript\">                                    window.PLOTLYENV=window.PLOTLYENV || {};                                    if (document.getElementById(\"114676d5-82b0-411d-a684-09d19a025ff1\")) {                    Plotly.newPlot(                        \"114676d5-82b0-411d-a684-09d19a025ff1\",                        [{\"domain\":{\"x\":[0.0,1.0],\"y\":[0.0,1.0]},\"hovertemplate\":\"group=%{label}<br>user_id=%{value}<extra></extra>\",\"labels\":[\"A\",\"B\"],\"legendgroup\":\"\",\"name\":\"\",\"showlegend\":true,\"values\":[60874,45751],\"type\":\"pie\",\"textinfo\":\"percent+label\",\"textposition\":\"inside\"}],                        {\"template\":{\"data\":{\"bar\":[{\"error_x\":{\"color\":\"#2a3f5f\"},\"error_y\":{\"color\":\"#2a3f5f\"},\"marker\":{\"line\":{\"color\":\"#E5ECF6\",\"width\":0.5},\"pattern\":{\"fillmode\":\"overlay\",\"size\":10,\"solidity\":0.2}},\"type\":\"bar\"}],\"barpolar\":[{\"marker\":{\"line\":{\"color\":\"#E5ECF6\",\"width\":0.5},\"pattern\":{\"fillmode\":\"overlay\",\"size\":10,\"solidity\":0.2}},\"type\":\"barpolar\"}],\"carpet\":[{\"aaxis\":{\"endlinecolor\":\"#2a3f5f\",\"gridcolor\":\"white\",\"linecolor\":\"white\",\"minorgridcolor\":\"white\",\"startlinecolor\":\"#2a3f5f\"},\"baxis\":{\"endlinecolor\":\"#2a3f5f\",\"gridcolor\":\"white\",\"linecolor\":\"white\",\"minorgridcolor\":\"white\",\"startlinecolor\":\"#2a3f5f\"},\"type\":\"carpet\"}],\"choropleth\":[{\"colorbar\":{\"outlinewidth\":0,\"ticks\":\"\"},\"type\":\"choropleth\"}],\"contour\":[{\"colorbar\":{\"outlinewidth\":0,\"ticks\":\"\"},\"colorscale\":[[0.0,\"#0d0887\"],[0.1111111111111111,\"#46039f\"],[0.2222222222222222,\"#7201a8\"],[0.3333333333333333,\"#9c179e\"],[0.4444444444444444,\"#bd3786\"],[0.5555555555555556,\"#d8576b\"],[0.6666666666666666,\"#ed7953\"],[0.7777777777777778,\"#fb9f3a\"],[0.8888888888888888,\"#fdca26\"],[1.0,\"#f0f921\"]],\"type\":\"contour\"}],\"contourcarpet\":[{\"colorbar\":{\"outlinewidth\":0,\"ticks\":\"\"},\"type\":\"contourcarpet\"}],\"heatmap\":[{\"colorbar\":{\"outlinewidth\":0,\"ticks\":\"\"},\"colorscale\":[[0.0,\"#0d0887\"],[0.1111111111111111,\"#46039f\"],[0.2222222222222222,\"#7201a8\"],[0.3333333333333333,\"#9c179e\"],[0.4444444444444444,\"#bd3786\"],[0.5555555555555556,\"#d8576b\"],[0.6666666666666666,\"#ed7953\"],[0.7777777777777778,\"#fb9f3a\"],[0.8888888888888888,\"#fdca26\"],[1.0,\"#f0f921\"]],\"type\":\"heatmap\"}],\"heatmapgl\":[{\"colorbar\":{\"outlinewidth\":0,\"ticks\":\"\"},\"colorscale\":[[0.0,\"#0d0887\"],[0.1111111111111111,\"#46039f\"],[0.2222222222222222,\"#7201a8\"],[0.3333333333333333,\"#9c179e\"],[0.4444444444444444,\"#bd3786\"],[0.5555555555555556,\"#d8576b\"],[0.6666666666666666,\"#ed7953\"],[0.7777777777777778,\"#fb9f3a\"],[0.8888888888888888,\"#fdca26\"],[1.0,\"#f0f921\"]],\"type\":\"heatmapgl\"}],\"histogram\":[{\"marker\":{\"pattern\":{\"fillmode\":\"overlay\",\"size\":10,\"solidity\":0.2}},\"type\":\"histogram\"}],\"histogram2d\":[{\"colorbar\":{\"outlinewidth\":0,\"ticks\":\"\"},\"colorscale\":[[0.0,\"#0d0887\"],[0.1111111111111111,\"#46039f\"],[0.2222222222222222,\"#7201a8\"],[0.3333333333333333,\"#9c179e\"],[0.4444444444444444,\"#bd3786\"],[0.5555555555555556,\"#d8576b\"],[0.6666666666666666,\"#ed7953\"],[0.7777777777777778,\"#fb9f3a\"],[0.8888888888888888,\"#fdca26\"],[1.0,\"#f0f921\"]],\"type\":\"histogram2d\"}],\"histogram2dcontour\":[{\"colorbar\":{\"outlinewidth\":0,\"ticks\":\"\"},\"colorscale\":[[0.0,\"#0d0887\"],[0.1111111111111111,\"#46039f\"],[0.2222222222222222,\"#7201a8\"],[0.3333333333333333,\"#9c179e\"],[0.4444444444444444,\"#bd3786\"],[0.5555555555555556,\"#d8576b\"],[0.6666666666666666,\"#ed7953\"],[0.7777777777777778,\"#fb9f3a\"],[0.8888888888888888,\"#fdca26\"],[1.0,\"#f0f921\"]],\"type\":\"histogram2dcontour\"}],\"mesh3d\":[{\"colorbar\":{\"outlinewidth\":0,\"ticks\":\"\"},\"type\":\"mesh3d\"}],\"parcoords\":[{\"line\":{\"colorbar\":{\"outlinewidth\":0,\"ticks\":\"\"}},\"type\":\"parcoords\"}],\"pie\":[{\"automargin\":true,\"type\":\"pie\"}],\"scatter\":[{\"marker\":{\"colorbar\":{\"outlinewidth\":0,\"ticks\":\"\"}},\"type\":\"scatter\"}],\"scatter3d\":[{\"line\":{\"colorbar\":{\"outlinewidth\":0,\"ticks\":\"\"}},\"marker\":{\"colorbar\":{\"outlinewidth\":0,\"ticks\":\"\"}},\"type\":\"scatter3d\"}],\"scattercarpet\":[{\"marker\":{\"colorbar\":{\"outlinewidth\":0,\"ticks\":\"\"}},\"type\":\"scattercarpet\"}],\"scattergeo\":[{\"marker\":{\"colorbar\":{\"outlinewidth\":0,\"ticks\":\"\"}},\"type\":\"scattergeo\"}],\"scattergl\":[{\"marker\":{\"colorbar\":{\"outlinewidth\":0,\"ticks\":\"\"}},\"type\":\"scattergl\"}],\"scattermapbox\":[{\"marker\":{\"colorbar\":{\"outlinewidth\":0,\"ticks\":\"\"}},\"type\":\"scattermapbox\"}],\"scatterpolar\":[{\"marker\":{\"colorbar\":{\"outlinewidth\":0,\"ticks\":\"\"}},\"type\":\"scatterpolar\"}],\"scatterpolargl\":[{\"marker\":{\"colorbar\":{\"outlinewidth\":0,\"ticks\":\"\"}},\"type\":\"scatterpolargl\"}],\"scatterternary\":[{\"marker\":{\"colorbar\":{\"outlinewidth\":0,\"ticks\":\"\"}},\"type\":\"scatterternary\"}],\"surface\":[{\"colorbar\":{\"outlinewidth\":0,\"ticks\":\"\"},\"colorscale\":[[0.0,\"#0d0887\"],[0.1111111111111111,\"#46039f\"],[0.2222222222222222,\"#7201a8\"],[0.3333333333333333,\"#9c179e\"],[0.4444444444444444,\"#bd3786\"],[0.5555555555555556,\"#d8576b\"],[0.6666666666666666,\"#ed7953\"],[0.7777777777777778,\"#fb9f3a\"],[0.8888888888888888,\"#fdca26\"],[1.0,\"#f0f921\"]],\"type\":\"surface\"}],\"table\":[{\"cells\":{\"fill\":{\"color\":\"#EBF0F8\"},\"line\":{\"color\":\"white\"}},\"header\":{\"fill\":{\"color\":\"#C8D4E3\"},\"line\":{\"color\":\"white\"}},\"type\":\"table\"}]},\"layout\":{\"annotationdefaults\":{\"arrowcolor\":\"#2a3f5f\",\"arrowhead\":0,\"arrowwidth\":1},\"autotypenumbers\":\"strict\",\"coloraxis\":{\"colorbar\":{\"outlinewidth\":0,\"ticks\":\"\"}},\"colorscale\":{\"diverging\":[[0,\"#8e0152\"],[0.1,\"#c51b7d\"],[0.2,\"#de77ae\"],[0.3,\"#f1b6da\"],[0.4,\"#fde0ef\"],[0.5,\"#f7f7f7\"],[0.6,\"#e6f5d0\"],[0.7,\"#b8e186\"],[0.8,\"#7fbc41\"],[0.9,\"#4d9221\"],[1,\"#276419\"]],\"sequential\":[[0.0,\"#0d0887\"],[0.1111111111111111,\"#46039f\"],[0.2222222222222222,\"#7201a8\"],[0.3333333333333333,\"#9c179e\"],[0.4444444444444444,\"#bd3786\"],[0.5555555555555556,\"#d8576b\"],[0.6666666666666666,\"#ed7953\"],[0.7777777777777778,\"#fb9f3a\"],[0.8888888888888888,\"#fdca26\"],[1.0,\"#f0f921\"]],\"sequentialminus\":[[0.0,\"#0d0887\"],[0.1111111111111111,\"#46039f\"],[0.2222222222222222,\"#7201a8\"],[0.3333333333333333,\"#9c179e\"],[0.4444444444444444,\"#bd3786\"],[0.5555555555555556,\"#d8576b\"],[0.6666666666666666,\"#ed7953\"],[0.7777777777777778,\"#fb9f3a\"],[0.8888888888888888,\"#fdca26\"],[1.0,\"#f0f921\"]]},\"colorway\":[\"#636efa\",\"#EF553B\",\"#00cc96\",\"#ab63fa\",\"#FFA15A\",\"#19d3f3\",\"#FF6692\",\"#B6E880\",\"#FF97FF\",\"#FECB52\"],\"font\":{\"color\":\"#2a3f5f\"},\"geo\":{\"bgcolor\":\"white\",\"lakecolor\":\"white\",\"landcolor\":\"#E5ECF6\",\"showlakes\":true,\"showland\":true,\"subunitcolor\":\"white\"},\"hoverlabel\":{\"align\":\"left\"},\"hovermode\":\"closest\",\"mapbox\":{\"style\":\"light\"},\"paper_bgcolor\":\"white\",\"plot_bgcolor\":\"#E5ECF6\",\"polar\":{\"angularaxis\":{\"gridcolor\":\"white\",\"linecolor\":\"white\",\"ticks\":\"\"},\"bgcolor\":\"#E5ECF6\",\"radialaxis\":{\"gridcolor\":\"white\",\"linecolor\":\"white\",\"ticks\":\"\"}},\"scene\":{\"xaxis\":{\"backgroundcolor\":\"#E5ECF6\",\"gridcolor\":\"white\",\"gridwidth\":2,\"linecolor\":\"white\",\"showbackground\":true,\"ticks\":\"\",\"zerolinecolor\":\"white\"},\"yaxis\":{\"backgroundcolor\":\"#E5ECF6\",\"gridcolor\":\"white\",\"gridwidth\":2,\"linecolor\":\"white\",\"showbackground\":true,\"ticks\":\"\",\"zerolinecolor\":\"white\"},\"zaxis\":{\"backgroundcolor\":\"#E5ECF6\",\"gridcolor\":\"white\",\"gridwidth\":2,\"linecolor\":\"white\",\"showbackground\":true,\"ticks\":\"\",\"zerolinecolor\":\"white\"}},\"shapedefaults\":{\"line\":{\"color\":\"#2a3f5f\"}},\"ternary\":{\"aaxis\":{\"gridcolor\":\"white\",\"linecolor\":\"white\",\"ticks\":\"\"},\"baxis\":{\"gridcolor\":\"white\",\"linecolor\":\"white\",\"ticks\":\"\"},\"bgcolor\":\"#E5ECF6\",\"caxis\":{\"gridcolor\":\"white\",\"linecolor\":\"white\",\"ticks\":\"\"}},\"title\":{\"x\":0.05},\"xaxis\":{\"automargin\":true,\"gridcolor\":\"white\",\"linecolor\":\"white\",\"ticks\":\"\",\"title\":{\"standoff\":15},\"zerolinecolor\":\"white\",\"zerolinewidth\":2},\"yaxis\":{\"automargin\":true,\"gridcolor\":\"white\",\"linecolor\":\"white\",\"ticks\":\"\",\"title\":{\"standoff\":15},\"zerolinecolor\":\"white\",\"zerolinewidth\":2}}},\"legend\":{\"tracegroupgap\":0},\"title\":{\"text\":\"\\u0420\\u0430\\u0437\\u0434\\u0435\\u043b\\u0435\\u043d\\u0438\\u0435 \\u043f\\u043e \\u0433\\u0440\\u0443\\u043f\\u043f\\u0430\\u043c\"},\"width\":400},                        {\"responsive\": true}                    ).then(function(){\n",
              "                            \n",
              "var gd = document.getElementById('114676d5-82b0-411d-a684-09d19a025ff1');\n",
              "var x = new MutationObserver(function (mutations, observer) {{\n",
              "        var display = window.getComputedStyle(gd).display;\n",
              "        if (!display || display === 'none') {{\n",
              "            console.log([gd, 'removed!']);\n",
              "            Plotly.purge(gd);\n",
              "            observer.disconnect();\n",
              "        }}\n",
              "}});\n",
              "\n",
              "// Listen for the removal of the full notebook cells\n",
              "var notebookContainer = gd.closest('#notebook-container');\n",
              "if (notebookContainer) {{\n",
              "    x.observe(notebookContainer, {childList: true});\n",
              "}}\n",
              "\n",
              "// Listen for the clearing of the current output cell\n",
              "var outputEl = gd.closest('.output');\n",
              "if (outputEl) {{\n",
              "    x.observe(outputEl, {childList: true});\n",
              "}}\n",
              "\n",
              "                        })                };                            </script>        </div>\n",
              "</body>\n",
              "</html>"
            ]
          },
          "metadata": {}
        }
      ],
      "source": [
        "users_g = log.pivot_table(index=['group'], values='user_id', aggfunc='count')\n",
        "fig = px.pie(users_g, values='user_id', width=400, names=users_g.index, title='Разделение по группам')\n",
        "fig.update_traces(textposition='inside', textinfo='percent+label')\n",
        "fig.show();"
      ]
    },
    {
      "cell_type": "markdown",
      "metadata": {
        "id": "G83HO7CjaoCo"
      },
      "source": [
        "Пользователи по гурппам распределены равномерно"
      ]
    },
    {
      "cell_type": "markdown",
      "metadata": {
        "id": "s2RAVF4eaqWm"
      },
      "source": [
        "# Проведите исследовательский анализ данных:"
      ]
    },
    {
      "cell_type": "markdown",
      "metadata": {
        "id": "cGvrwz6rXBu7"
      },
      "source": [
        "## Корректируем данные\n",
        "\n",
        "Оставим только recommender_system_test\n",
        "Оставим пользователей зарегистрировавшихся по условиям эксперимента\n",
        "Оставим события только в течении 14 дней после регистрации и только полтзователей из Европы"
      ]
    },
    {
      "cell_type": "code",
      "execution_count": null,
      "metadata": {
        "id": "6r_6i5m8aoCp"
      },
      "outputs": [],
      "source": [
        "# Оставим только recommender_system_test\n",
        "log = log.query('ab_test==\"recommender_system_test\"')"
      ]
    },
    {
      "cell_type": "markdown",
      "metadata": {
        "id": "DjQlaNl-aoCp"
      },
      "source": [
        "<div class=\"alert alert-info\"> <b>Комментарии студента: </b>Вот тут забыл исправить </div>"
      ]
    },
    {
      "cell_type": "code",
      "execution_count": null,
      "metadata": {
        "id": "OiLNOP6lVh4T",
        "scrolled": true
      },
      "outputs": [],
      "source": [
        "# Оставим пользователей зарегистрировавшихся по условиям эксперимента\n",
        "log = log.query('first_date<=\"2020-12-21\"').query('region==\"EU\"')"
      ]
    },
    {
      "cell_type": "code",
      "execution_count": null,
      "metadata": {
        "id": "thrcpFx3aoCq"
      },
      "outputs": [],
      "source": [
        "# Оставим события только в течении 14 дней после регистрации\n",
        "log = log.query('event_lifetime<=14')"
      ]
    },
    {
      "cell_type": "code",
      "execution_count": null,
      "metadata": {
        "colab": {
          "base_uri": "https://localhost:8080/"
        },
        "id": "HGnfY-MTaoCr",
        "outputId": "05caae71-5388-4903-af92-2a7e84675c9e"
      },
      "outputs": [
        {
          "output_type": "execute_result",
          "data": {
            "text/plain": [
              "3481"
            ]
          },
          "metadata": {},
          "execution_count": 24
        }
      ],
      "source": [
        "# КОД РЕВЬЮЕРА\n",
        "\n",
        "log['user_id'].nunique()\n"
      ]
    },
    {
      "cell_type": "markdown",
      "metadata": {
        "id": "ERqdVLACasm8"
      },
      "source": [
        "## Количество событий на пользователя одинаково распределены в выборках?"
      ]
    },
    {
      "cell_type": "code",
      "execution_count": null,
      "metadata": {
        "id": "s5V_3-xjaoCr"
      },
      "outputs": [],
      "source": [
        "log_users = log.pivot_table(index=['user_id'], values=['event_dt'], aggfunc='count')\n",
        "log_users_a = log.query('group==\"A\"').pivot_table(index=['user_id'], values=['event_dt'], aggfunc='count')\n",
        "log_users_b = log.query('group==\"B\"').pivot_table(index=['user_id'], values=['event_dt'], aggfunc='count')\n"
      ]
    },
    {
      "cell_type": "code",
      "execution_count": null,
      "metadata": {
        "colab": {
          "base_uri": "https://localhost:8080/",
          "height": 417
        },
        "id": "gmY_mJ0yaoCs",
        "outputId": "d8687079-57f1-4849-f96d-51722c386acb"
      },
      "outputs": [
        {
          "output_type": "display_data",
          "data": {
            "text/html": [
              "<html>\n",
              "<head><meta charset=\"utf-8\" /></head>\n",
              "<body>\n",
              "    <div>            <script src=\"https://cdnjs.cloudflare.com/ajax/libs/mathjax/2.7.5/MathJax.js?config=TeX-AMS-MML_SVG\"></script><script type=\"text/javascript\">if (window.MathJax) {MathJax.Hub.Config({SVG: {font: \"STIX-Web\"}});}</script>                <script type=\"text/javascript\">window.PlotlyConfig = {MathJaxConfig: 'local'};</script>\n",
              "        <script src=\"https://cdn.plot.ly/plotly-2.8.3.min.js\"></script>                <div id=\"ac592ebd-4c3c-4e65-86c2-1af5cf2ff973\" class=\"plotly-graph-div\" style=\"height:400px; width:100%;\"></div>            <script type=\"text/javascript\">                                    window.PLOTLYENV=window.PLOTLYENV || {};                                    if (document.getElementById(\"ac592ebd-4c3c-4e65-86c2-1af5cf2ff973\")) {                    Plotly.newPlot(                        \"ac592ebd-4c3c-4e65-86c2-1af5cf2ff973\",                        [{\"alignmentgroup\":\"True\",\"hovertemplate\":\"variable=%{x}<br>value=%{y}<extra></extra>\",\"legendgroup\":\"\",\"marker\":{\"color\":\"#636efa\"},\"name\":\"\",\"notched\":false,\"offsetgroup\":\"\",\"orientation\":\"v\",\"showlegend\":false,\"x\":[\"event_dt\",\"event_dt\",\"event_dt\",\"event_dt\",\"event_dt\",\"event_dt\",\"event_dt\",\"event_dt\",\"event_dt\",\"event_dt\",\"event_dt\",\"event_dt\",\"event_dt\",\"event_dt\",\"event_dt\",\"event_dt\",\"event_dt\",\"event_dt\",\"event_dt\",\"event_dt\",\"event_dt\",\"event_dt\",\"event_dt\",\"event_dt\",\"event_dt\",\"event_dt\",\"event_dt\",\"event_dt\",\"event_dt\",\"event_dt\",\"event_dt\",\"event_dt\",\"event_dt\",\"event_dt\",\"event_dt\",\"event_dt\",\"event_dt\",\"event_dt\",\"event_dt\",\"event_dt\",\"event_dt\",\"event_dt\",\"event_dt\",\"event_dt\",\"event_dt\",\"event_dt\",\"event_dt\",\"event_dt\",\"event_dt\",\"event_dt\",\"event_dt\",\"event_dt\",\"event_dt\",\"event_dt\",\"event_dt\",\"event_dt\",\"event_dt\",\"event_dt\",\"event_dt\",\"event_dt\",\"event_dt\",\"event_dt\",\"event_dt\",\"event_dt\",\"event_dt\",\"event_dt\",\"event_dt\",\"event_dt\",\"event_dt\",\"event_dt\",\"event_dt\",\"event_dt\",\"event_dt\",\"event_dt\",\"event_dt\",\"event_dt\",\"event_dt\",\"event_dt\",\"event_dt\",\"event_dt\",\"event_dt\",\"event_dt\",\"event_dt\",\"event_dt\",\"event_dt\",\"event_dt\",\"event_dt\",\"event_dt\",\"event_dt\",\"event_dt\",\"event_dt\",\"event_dt\",\"event_dt\",\"event_dt\",\"event_dt\",\"event_dt\",\"event_dt\",\"event_dt\",\"event_dt\",\"event_dt\",\"event_dt\",\"event_dt\",\"event_dt\",\"event_dt\",\"event_dt\",\"event_dt\",\"event_dt\",\"event_dt\",\"event_dt\",\"event_dt\",\"event_dt\",\"event_dt\",\"event_dt\",\"event_dt\",\"event_dt\",\"event_dt\",\"event_dt\",\"event_dt\",\"event_dt\",\"event_dt\",\"event_dt\",\"event_dt\",\"event_dt\",\"event_dt\",\"event_dt\",\"event_dt\",\"event_dt\",\"event_dt\",\"event_dt\",\"event_dt\",\"event_dt\",\"event_dt\",\"event_dt\",\"event_dt\",\"event_dt\",\"event_dt\",\"event_dt\",\"event_dt\",\"event_dt\",\"event_dt\",\"event_dt\",\"event_dt\",\"event_dt\",\"event_dt\",\"event_dt\",\"event_dt\",\"event_dt\",\"event_dt\",\"event_dt\",\"event_dt\",\"event_dt\",\"event_dt\",\"event_dt\",\"event_dt\",\"event_dt\",\"event_dt\",\"event_dt\",\"event_dt\",\"event_dt\",\"event_dt\",\"event_dt\",\"event_dt\",\"event_dt\",\"event_dt\",\"event_dt\",\"event_dt\",\"event_dt\",\"event_dt\",\"event_dt\",\"event_dt\",\"event_dt\",\"event_dt\",\"event_dt\",\"event_dt\",\"event_dt\",\"event_dt\",\"event_dt\",\"event_dt\",\"event_dt\",\"event_dt\",\"event_dt\",\"event_dt\",\"event_dt\",\"event_dt\",\"event_dt\",\"event_dt\",\"event_dt\",\"event_dt\",\"event_dt\",\"event_dt\",\"event_dt\",\"event_dt\",\"event_dt\",\"event_dt\",\"event_dt\",\"event_dt\",\"event_dt\",\"event_dt\",\"event_dt\",\"event_dt\",\"event_dt\",\"event_dt\",\"event_dt\",\"event_dt\",\"event_dt\",\"event_dt\",\"event_dt\",\"event_dt\",\"event_dt\",\"event_dt\",\"event_dt\",\"event_dt\",\"event_dt\",\"event_dt\",\"event_dt\",\"event_dt\",\"event_dt\",\"event_dt\",\"event_dt\",\"event_dt\",\"event_dt\",\"event_dt\",\"event_dt\",\"event_dt\",\"event_dt\",\"event_dt\",\"event_dt\",\"event_dt\",\"event_dt\",\"event_dt\",\"event_dt\",\"event_dt\",\"event_dt\",\"event_dt\",\"event_dt\",\"event_dt\",\"event_dt\",\"event_dt\",\"event_dt\",\"event_dt\",\"event_dt\",\"event_dt\",\"event_dt\",\"event_dt\",\"event_dt\",\"event_dt\",\"event_dt\",\"event_dt\",\"event_dt\",\"event_dt\",\"event_dt\",\"event_dt\",\"event_dt\",\"event_dt\",\"event_dt\",\"event_dt\",\"event_dt\",\"event_dt\",\"event_dt\",\"event_dt\",\"event_dt\",\"event_dt\",\"event_dt\",\"event_dt\",\"event_dt\",\"event_dt\",\"event_dt\",\"event_dt\",\"event_dt\",\"event_dt\",\"event_dt\",\"event_dt\",\"event_dt\",\"event_dt\",\"event_dt\",\"event_dt\",\"event_dt\",\"event_dt\",\"event_dt\",\"event_dt\",\"event_dt\",\"event_dt\",\"event_dt\",\"event_dt\",\"event_dt\",\"event_dt\",\"event_dt\",\"event_dt\",\"event_dt\",\"event_dt\",\"event_dt\",\"event_dt\",\"event_dt\",\"event_dt\",\"event_dt\",\"event_dt\",\"event_dt\",\"event_dt\",\"event_dt\",\"event_dt\",\"event_dt\",\"event_dt\",\"event_dt\",\"event_dt\",\"event_dt\",\"event_dt\",\"event_dt\",\"event_dt\",\"event_dt\",\"event_dt\",\"event_dt\",\"event_dt\",\"event_dt\",\"event_dt\",\"event_dt\",\"event_dt\",\"event_dt\",\"event_dt\",\"event_dt\",\"event_dt\",\"event_dt\",\"event_dt\",\"event_dt\",\"event_dt\",\"event_dt\",\"event_dt\",\"event_dt\",\"event_dt\",\"event_dt\",\"event_dt\",\"event_dt\",\"event_dt\",\"event_dt\",\"event_dt\",\"event_dt\",\"event_dt\",\"event_dt\",\"event_dt\",\"event_dt\",\"event_dt\",\"event_dt\",\"event_dt\",\"event_dt\",\"event_dt\",\"event_dt\",\"event_dt\",\"event_dt\",\"event_dt\",\"event_dt\",\"event_dt\",\"event_dt\",\"event_dt\",\"event_dt\",\"event_dt\",\"event_dt\",\"event_dt\",\"event_dt\",\"event_dt\",\"event_dt\",\"event_dt\",\"event_dt\",\"event_dt\",\"event_dt\",\"event_dt\",\"event_dt\",\"event_dt\",\"event_dt\",\"event_dt\",\"event_dt\",\"event_dt\",\"event_dt\",\"event_dt\",\"event_dt\",\"event_dt\",\"event_dt\",\"event_dt\",\"event_dt\",\"event_dt\",\"event_dt\",\"event_dt\",\"event_dt\",\"event_dt\",\"event_dt\",\"event_dt\",\"event_dt\",\"event_dt\",\"event_dt\",\"event_dt\",\"event_dt\",\"event_dt\",\"event_dt\",\"event_dt\",\"event_dt\",\"event_dt\",\"event_dt\",\"event_dt\",\"event_dt\",\"event_dt\",\"event_dt\",\"event_dt\",\"event_dt\",\"event_dt\",\"event_dt\",\"event_dt\",\"event_dt\",\"event_dt\",\"event_dt\",\"event_dt\",\"event_dt\",\"event_dt\",\"event_dt\",\"event_dt\",\"event_dt\",\"event_dt\",\"event_dt\",\"event_dt\",\"event_dt\",\"event_dt\",\"event_dt\",\"event_dt\",\"event_dt\",\"event_dt\",\"event_dt\",\"event_dt\",\"event_dt\",\"event_dt\",\"event_dt\",\"event_dt\",\"event_dt\",\"event_dt\",\"event_dt\",\"event_dt\",\"event_dt\",\"event_dt\",\"event_dt\",\"event_dt\",\"event_dt\",\"event_dt\",\"event_dt\",\"event_dt\",\"event_dt\",\"event_dt\",\"event_dt\",\"event_dt\",\"event_dt\",\"event_dt\",\"event_dt\",\"event_dt\",\"event_dt\",\"event_dt\",\"event_dt\",\"event_dt\",\"event_dt\",\"event_dt\",\"event_dt\",\"event_dt\",\"event_dt\",\"event_dt\",\"event_dt\",\"event_dt\",\"event_dt\",\"event_dt\",\"event_dt\",\"event_dt\",\"event_dt\",\"event_dt\",\"event_dt\",\"event_dt\",\"event_dt\",\"event_dt\",\"event_dt\",\"event_dt\",\"event_dt\",\"event_dt\",\"event_dt\",\"event_dt\",\"event_dt\",\"event_dt\",\"event_dt\",\"event_dt\",\"event_dt\",\"event_dt\",\"event_dt\",\"event_dt\",\"event_dt\",\"event_dt\",\"event_dt\",\"event_dt\",\"event_dt\",\"event_dt\",\"event_dt\",\"event_dt\",\"event_dt\",\"event_dt\",\"event_dt\",\"event_dt\",\"event_dt\",\"event_dt\",\"event_dt\",\"event_dt\",\"event_dt\",\"event_dt\",\"event_dt\",\"event_dt\",\"event_dt\",\"event_dt\",\"event_dt\",\"event_dt\",\"event_dt\",\"event_dt\",\"event_dt\",\"event_dt\",\"event_dt\",\"event_dt\",\"event_dt\",\"event_dt\",\"event_dt\",\"event_dt\",\"event_dt\",\"event_dt\",\"event_dt\",\"event_dt\",\"event_dt\",\"event_dt\",\"event_dt\",\"event_dt\",\"event_dt\",\"event_dt\",\"event_dt\",\"event_dt\",\"event_dt\",\"event_dt\",\"event_dt\",\"event_dt\",\"event_dt\",\"event_dt\",\"event_dt\",\"event_dt\",\"event_dt\",\"event_dt\",\"event_dt\",\"event_dt\",\"event_dt\",\"event_dt\",\"event_dt\",\"event_dt\",\"event_dt\",\"event_dt\",\"event_dt\",\"event_dt\",\"event_dt\",\"event_dt\",\"event_dt\",\"event_dt\",\"event_dt\",\"event_dt\",\"event_dt\",\"event_dt\",\"event_dt\",\"event_dt\",\"event_dt\",\"event_dt\",\"event_dt\",\"event_dt\",\"event_dt\",\"event_dt\",\"event_dt\",\"event_dt\",\"event_dt\",\"event_dt\",\"event_dt\",\"event_dt\",\"event_dt\",\"event_dt\",\"event_dt\",\"event_dt\",\"event_dt\",\"event_dt\",\"event_dt\",\"event_dt\",\"event_dt\",\"event_dt\",\"event_dt\",\"event_dt\",\"event_dt\",\"event_dt\",\"event_dt\",\"event_dt\",\"event_dt\",\"event_dt\",\"event_dt\",\"event_dt\",\"event_dt\",\"event_dt\",\"event_dt\",\"event_dt\",\"event_dt\",\"event_dt\",\"event_dt\",\"event_dt\",\"event_dt\",\"event_dt\",\"event_dt\",\"event_dt\",\"event_dt\",\"event_dt\",\"event_dt\",\"event_dt\",\"event_dt\",\"event_dt\",\"event_dt\",\"event_dt\",\"event_dt\",\"event_dt\",\"event_dt\",\"event_dt\",\"event_dt\",\"event_dt\",\"event_dt\",\"event_dt\",\"event_dt\",\"event_dt\",\"event_dt\",\"event_dt\",\"event_dt\",\"event_dt\",\"event_dt\",\"event_dt\",\"event_dt\",\"event_dt\",\"event_dt\",\"event_dt\",\"event_dt\",\"event_dt\",\"event_dt\",\"event_dt\",\"event_dt\",\"event_dt\",\"event_dt\",\"event_dt\",\"event_dt\",\"event_dt\",\"event_dt\",\"event_dt\",\"event_dt\",\"event_dt\",\"event_dt\",\"event_dt\",\"event_dt\",\"event_dt\",\"event_dt\",\"event_dt\",\"event_dt\",\"event_dt\",\"event_dt\",\"event_dt\",\"event_dt\",\"event_dt\",\"event_dt\",\"event_dt\",\"event_dt\",\"event_dt\",\"event_dt\",\"event_dt\",\"event_dt\",\"event_dt\",\"event_dt\",\"event_dt\",\"event_dt\",\"event_dt\",\"event_dt\",\"event_dt\",\"event_dt\",\"event_dt\",\"event_dt\",\"event_dt\",\"event_dt\",\"event_dt\",\"event_dt\",\"event_dt\",\"event_dt\",\"event_dt\",\"event_dt\",\"event_dt\",\"event_dt\",\"event_dt\",\"event_dt\",\"event_dt\",\"event_dt\",\"event_dt\",\"event_dt\",\"event_dt\",\"event_dt\",\"event_dt\",\"event_dt\",\"event_dt\",\"event_dt\",\"event_dt\",\"event_dt\",\"event_dt\",\"event_dt\",\"event_dt\",\"event_dt\",\"event_dt\",\"event_dt\",\"event_dt\",\"event_dt\",\"event_dt\",\"event_dt\",\"event_dt\",\"event_dt\",\"event_dt\",\"event_dt\",\"event_dt\",\"event_dt\",\"event_dt\",\"event_dt\",\"event_dt\",\"event_dt\",\"event_dt\",\"event_dt\",\"event_dt\",\"event_dt\",\"event_dt\",\"event_dt\",\"event_dt\",\"event_dt\",\"event_dt\",\"event_dt\",\"event_dt\",\"event_dt\",\"event_dt\",\"event_dt\",\"event_dt\",\"event_dt\",\"event_dt\",\"event_dt\",\"event_dt\",\"event_dt\",\"event_dt\",\"event_dt\",\"event_dt\",\"event_dt\",\"event_dt\",\"event_dt\",\"event_dt\",\"event_dt\",\"event_dt\",\"event_dt\",\"event_dt\",\"event_dt\",\"event_dt\",\"event_dt\",\"event_dt\",\"event_dt\",\"event_dt\",\"event_dt\",\"event_dt\",\"event_dt\",\"event_dt\",\"event_dt\",\"event_dt\",\"event_dt\",\"event_dt\",\"event_dt\",\"event_dt\",\"event_dt\",\"event_dt\",\"event_dt\",\"event_dt\",\"event_dt\",\"event_dt\",\"event_dt\",\"event_dt\",\"event_dt\",\"event_dt\",\"event_dt\",\"event_dt\",\"event_dt\",\"event_dt\",\"event_dt\",\"event_dt\",\"event_dt\",\"event_dt\",\"event_dt\",\"event_dt\",\"event_dt\",\"event_dt\",\"event_dt\",\"event_dt\",\"event_dt\",\"event_dt\",\"event_dt\",\"event_dt\",\"event_dt\",\"event_dt\",\"event_dt\",\"event_dt\",\"event_dt\",\"event_dt\",\"event_dt\",\"event_dt\",\"event_dt\",\"event_dt\",\"event_dt\",\"event_dt\",\"event_dt\",\"event_dt\",\"event_dt\",\"event_dt\",\"event_dt\",\"event_dt\",\"event_dt\",\"event_dt\",\"event_dt\",\"event_dt\",\"event_dt\",\"event_dt\",\"event_dt\",\"event_dt\",\"event_dt\",\"event_dt\",\"event_dt\",\"event_dt\",\"event_dt\",\"event_dt\",\"event_dt\",\"event_dt\",\"event_dt\",\"event_dt\",\"event_dt\",\"event_dt\",\"event_dt\",\"event_dt\",\"event_dt\",\"event_dt\",\"event_dt\",\"event_dt\",\"event_dt\",\"event_dt\",\"event_dt\",\"event_dt\",\"event_dt\",\"event_dt\",\"event_dt\",\"event_dt\",\"event_dt\",\"event_dt\",\"event_dt\",\"event_dt\",\"event_dt\",\"event_dt\",\"event_dt\",\"event_dt\",\"event_dt\",\"event_dt\",\"event_dt\",\"event_dt\",\"event_dt\",\"event_dt\",\"event_dt\",\"event_dt\",\"event_dt\",\"event_dt\",\"event_dt\",\"event_dt\",\"event_dt\",\"event_dt\",\"event_dt\",\"event_dt\",\"event_dt\",\"event_dt\",\"event_dt\",\"event_dt\",\"event_dt\",\"event_dt\",\"event_dt\",\"event_dt\",\"event_dt\",\"event_dt\",\"event_dt\",\"event_dt\",\"event_dt\",\"event_dt\",\"event_dt\",\"event_dt\",\"event_dt\",\"event_dt\",\"event_dt\",\"event_dt\",\"event_dt\",\"event_dt\",\"event_dt\",\"event_dt\",\"event_dt\",\"event_dt\",\"event_dt\",\"event_dt\",\"event_dt\",\"event_dt\",\"event_dt\",\"event_dt\",\"event_dt\",\"event_dt\",\"event_dt\",\"event_dt\",\"event_dt\",\"event_dt\",\"event_dt\",\"event_dt\",\"event_dt\",\"event_dt\",\"event_dt\",\"event_dt\",\"event_dt\",\"event_dt\",\"event_dt\",\"event_dt\",\"event_dt\",\"event_dt\",\"event_dt\",\"event_dt\",\"event_dt\",\"event_dt\",\"event_dt\",\"event_dt\",\"event_dt\",\"event_dt\",\"event_dt\",\"event_dt\",\"event_dt\",\"event_dt\",\"event_dt\",\"event_dt\",\"event_dt\",\"event_dt\",\"event_dt\",\"event_dt\",\"event_dt\",\"event_dt\",\"event_dt\",\"event_dt\",\"event_dt\",\"event_dt\",\"event_dt\",\"event_dt\",\"event_dt\",\"event_dt\",\"event_dt\",\"event_dt\",\"event_dt\",\"event_dt\",\"event_dt\",\"event_dt\",\"event_dt\",\"event_dt\",\"event_dt\",\"event_dt\",\"event_dt\",\"event_dt\",\"event_dt\",\"event_dt\",\"event_dt\",\"event_dt\",\"event_dt\",\"event_dt\",\"event_dt\",\"event_dt\",\"event_dt\",\"event_dt\",\"event_dt\",\"event_dt\",\"event_dt\",\"event_dt\",\"event_dt\",\"event_dt\",\"event_dt\",\"event_dt\",\"event_dt\",\"event_dt\",\"event_dt\",\"event_dt\",\"event_dt\",\"event_dt\",\"event_dt\",\"event_dt\",\"event_dt\",\"event_dt\",\"event_dt\",\"event_dt\",\"event_dt\",\"event_dt\",\"event_dt\",\"event_dt\",\"event_dt\",\"event_dt\",\"event_dt\",\"event_dt\",\"event_dt\",\"event_dt\",\"event_dt\",\"event_dt\",\"event_dt\",\"event_dt\",\"event_dt\",\"event_dt\",\"event_dt\",\"event_dt\",\"event_dt\",\"event_dt\",\"event_dt\",\"event_dt\",\"event_dt\",\"event_dt\",\"event_dt\",\"event_dt\",\"event_dt\",\"event_dt\",\"event_dt\",\"event_dt\",\"event_dt\",\"event_dt\",\"event_dt\",\"event_dt\",\"event_dt\",\"event_dt\",\"event_dt\",\"event_dt\",\"event_dt\",\"event_dt\",\"event_dt\",\"event_dt\",\"event_dt\",\"event_dt\",\"event_dt\",\"event_dt\",\"event_dt\",\"event_dt\",\"event_dt\",\"event_dt\",\"event_dt\",\"event_dt\",\"event_dt\",\"event_dt\",\"event_dt\",\"event_dt\",\"event_dt\",\"event_dt\",\"event_dt\",\"event_dt\",\"event_dt\",\"event_dt\",\"event_dt\",\"event_dt\",\"event_dt\",\"event_dt\",\"event_dt\",\"event_dt\",\"event_dt\",\"event_dt\",\"event_dt\",\"event_dt\",\"event_dt\",\"event_dt\",\"event_dt\",\"event_dt\",\"event_dt\",\"event_dt\",\"event_dt\",\"event_dt\",\"event_dt\",\"event_dt\",\"event_dt\",\"event_dt\",\"event_dt\",\"event_dt\",\"event_dt\",\"event_dt\",\"event_dt\",\"event_dt\",\"event_dt\",\"event_dt\",\"event_dt\",\"event_dt\",\"event_dt\",\"event_dt\",\"event_dt\",\"event_dt\",\"event_dt\",\"event_dt\",\"event_dt\",\"event_dt\",\"event_dt\",\"event_dt\",\"event_dt\",\"event_dt\",\"event_dt\",\"event_dt\",\"event_dt\",\"event_dt\",\"event_dt\",\"event_dt\",\"event_dt\",\"event_dt\",\"event_dt\",\"event_dt\",\"event_dt\",\"event_dt\",\"event_dt\",\"event_dt\",\"event_dt\",\"event_dt\",\"event_dt\",\"event_dt\",\"event_dt\",\"event_dt\",\"event_dt\",\"event_dt\",\"event_dt\",\"event_dt\",\"event_dt\",\"event_dt\",\"event_dt\",\"event_dt\",\"event_dt\",\"event_dt\",\"event_dt\",\"event_dt\",\"event_dt\",\"event_dt\",\"event_dt\",\"event_dt\",\"event_dt\",\"event_dt\",\"event_dt\",\"event_dt\",\"event_dt\",\"event_dt\",\"event_dt\",\"event_dt\",\"event_dt\",\"event_dt\",\"event_dt\",\"event_dt\",\"event_dt\",\"event_dt\",\"event_dt\",\"event_dt\",\"event_dt\",\"event_dt\",\"event_dt\",\"event_dt\",\"event_dt\",\"event_dt\",\"event_dt\",\"event_dt\",\"event_dt\",\"event_dt\",\"event_dt\",\"event_dt\",\"event_dt\",\"event_dt\",\"event_dt\",\"event_dt\",\"event_dt\",\"event_dt\",\"event_dt\",\"event_dt\",\"event_dt\",\"event_dt\",\"event_dt\",\"event_dt\",\"event_dt\",\"event_dt\",\"event_dt\",\"event_dt\",\"event_dt\",\"event_dt\",\"event_dt\",\"event_dt\",\"event_dt\",\"event_dt\",\"event_dt\",\"event_dt\",\"event_dt\",\"event_dt\",\"event_dt\",\"event_dt\",\"event_dt\",\"event_dt\",\"event_dt\",\"event_dt\",\"event_dt\",\"event_dt\",\"event_dt\",\"event_dt\",\"event_dt\",\"event_dt\",\"event_dt\",\"event_dt\",\"event_dt\",\"event_dt\",\"event_dt\",\"event_dt\",\"event_dt\",\"event_dt\",\"event_dt\",\"event_dt\",\"event_dt\",\"event_dt\",\"event_dt\",\"event_dt\",\"event_dt\",\"event_dt\",\"event_dt\",\"event_dt\",\"event_dt\",\"event_dt\",\"event_dt\",\"event_dt\",\"event_dt\",\"event_dt\",\"event_dt\",\"event_dt\",\"event_dt\",\"event_dt\",\"event_dt\",\"event_dt\",\"event_dt\",\"event_dt\",\"event_dt\",\"event_dt\",\"event_dt\",\"event_dt\",\"event_dt\",\"event_dt\",\"event_dt\",\"event_dt\",\"event_dt\",\"event_dt\",\"event_dt\",\"event_dt\",\"event_dt\",\"event_dt\",\"event_dt\",\"event_dt\",\"event_dt\",\"event_dt\",\"event_dt\",\"event_dt\",\"event_dt\",\"event_dt\",\"event_dt\",\"event_dt\",\"event_dt\",\"event_dt\",\"event_dt\",\"event_dt\",\"event_dt\",\"event_dt\",\"event_dt\",\"event_dt\",\"event_dt\",\"event_dt\",\"event_dt\",\"event_dt\",\"event_dt\",\"event_dt\",\"event_dt\",\"event_dt\",\"event_dt\",\"event_dt\",\"event_dt\",\"event_dt\",\"event_dt\",\"event_dt\",\"event_dt\",\"event_dt\",\"event_dt\",\"event_dt\",\"event_dt\",\"event_dt\",\"event_dt\",\"event_dt\",\"event_dt\",\"event_dt\",\"event_dt\",\"event_dt\",\"event_dt\",\"event_dt\",\"event_dt\",\"event_dt\",\"event_dt\",\"event_dt\",\"event_dt\",\"event_dt\",\"event_dt\",\"event_dt\",\"event_dt\",\"event_dt\",\"event_dt\",\"event_dt\",\"event_dt\",\"event_dt\",\"event_dt\",\"event_dt\",\"event_dt\",\"event_dt\",\"event_dt\",\"event_dt\",\"event_dt\",\"event_dt\",\"event_dt\",\"event_dt\",\"event_dt\",\"event_dt\",\"event_dt\",\"event_dt\",\"event_dt\",\"event_dt\",\"event_dt\",\"event_dt\",\"event_dt\",\"event_dt\",\"event_dt\",\"event_dt\",\"event_dt\",\"event_dt\",\"event_dt\",\"event_dt\",\"event_dt\",\"event_dt\",\"event_dt\",\"event_dt\",\"event_dt\",\"event_dt\",\"event_dt\",\"event_dt\",\"event_dt\",\"event_dt\",\"event_dt\",\"event_dt\",\"event_dt\",\"event_dt\",\"event_dt\",\"event_dt\",\"event_dt\",\"event_dt\",\"event_dt\",\"event_dt\",\"event_dt\",\"event_dt\",\"event_dt\",\"event_dt\",\"event_dt\",\"event_dt\",\"event_dt\",\"event_dt\",\"event_dt\",\"event_dt\",\"event_dt\",\"event_dt\",\"event_dt\",\"event_dt\",\"event_dt\",\"event_dt\",\"event_dt\",\"event_dt\",\"event_dt\",\"event_dt\",\"event_dt\",\"event_dt\",\"event_dt\",\"event_dt\",\"event_dt\",\"event_dt\",\"event_dt\",\"event_dt\",\"event_dt\",\"event_dt\",\"event_dt\",\"event_dt\",\"event_dt\",\"event_dt\",\"event_dt\",\"event_dt\",\"event_dt\",\"event_dt\",\"event_dt\",\"event_dt\",\"event_dt\",\"event_dt\",\"event_dt\",\"event_dt\",\"event_dt\",\"event_dt\",\"event_dt\",\"event_dt\",\"event_dt\",\"event_dt\",\"event_dt\",\"event_dt\",\"event_dt\",\"event_dt\",\"event_dt\",\"event_dt\",\"event_dt\",\"event_dt\",\"event_dt\",\"event_dt\",\"event_dt\",\"event_dt\",\"event_dt\",\"event_dt\",\"event_dt\",\"event_dt\",\"event_dt\",\"event_dt\",\"event_dt\",\"event_dt\",\"event_dt\",\"event_dt\",\"event_dt\",\"event_dt\",\"event_dt\",\"event_dt\",\"event_dt\",\"event_dt\",\"event_dt\",\"event_dt\",\"event_dt\",\"event_dt\",\"event_dt\",\"event_dt\",\"event_dt\",\"event_dt\",\"event_dt\",\"event_dt\",\"event_dt\",\"event_dt\",\"event_dt\",\"event_dt\",\"event_dt\",\"event_dt\",\"event_dt\",\"event_dt\",\"event_dt\",\"event_dt\",\"event_dt\",\"event_dt\",\"event_dt\",\"event_dt\",\"event_dt\",\"event_dt\",\"event_dt\",\"event_dt\",\"event_dt\",\"event_dt\",\"event_dt\",\"event_dt\",\"event_dt\",\"event_dt\",\"event_dt\",\"event_dt\",\"event_dt\",\"event_dt\",\"event_dt\",\"event_dt\",\"event_dt\",\"event_dt\",\"event_dt\",\"event_dt\",\"event_dt\",\"event_dt\",\"event_dt\",\"event_dt\",\"event_dt\",\"event_dt\",\"event_dt\",\"event_dt\",\"event_dt\",\"event_dt\",\"event_dt\",\"event_dt\",\"event_dt\",\"event_dt\",\"event_dt\",\"event_dt\",\"event_dt\",\"event_dt\",\"event_dt\",\"event_dt\",\"event_dt\",\"event_dt\",\"event_dt\",\"event_dt\",\"event_dt\",\"event_dt\",\"event_dt\",\"event_dt\",\"event_dt\",\"event_dt\",\"event_dt\",\"event_dt\",\"event_dt\",\"event_dt\",\"event_dt\",\"event_dt\",\"event_dt\",\"event_dt\",\"event_dt\",\"event_dt\",\"event_dt\",\"event_dt\",\"event_dt\",\"event_dt\",\"event_dt\",\"event_dt\",\"event_dt\",\"event_dt\",\"event_dt\",\"event_dt\",\"event_dt\",\"event_dt\",\"event_dt\",\"event_dt\",\"event_dt\",\"event_dt\",\"event_dt\",\"event_dt\",\"event_dt\",\"event_dt\",\"event_dt\",\"event_dt\",\"event_dt\",\"event_dt\",\"event_dt\",\"event_dt\",\"event_dt\",\"event_dt\",\"event_dt\",\"event_dt\",\"event_dt\",\"event_dt\",\"event_dt\",\"event_dt\",\"event_dt\",\"event_dt\",\"event_dt\",\"event_dt\",\"event_dt\",\"event_dt\",\"event_dt\",\"event_dt\",\"event_dt\",\"event_dt\",\"event_dt\",\"event_dt\",\"event_dt\",\"event_dt\",\"event_dt\",\"event_dt\",\"event_dt\",\"event_dt\",\"event_dt\",\"event_dt\",\"event_dt\",\"event_dt\",\"event_dt\",\"event_dt\",\"event_dt\",\"event_dt\",\"event_dt\",\"event_dt\",\"event_dt\",\"event_dt\",\"event_dt\",\"event_dt\",\"event_dt\",\"event_dt\",\"event_dt\",\"event_dt\",\"event_dt\",\"event_dt\",\"event_dt\",\"event_dt\",\"event_dt\",\"event_dt\",\"event_dt\",\"event_dt\",\"event_dt\",\"event_dt\",\"event_dt\",\"event_dt\",\"event_dt\",\"event_dt\",\"event_dt\",\"event_dt\",\"event_dt\",\"event_dt\",\"event_dt\",\"event_dt\",\"event_dt\",\"event_dt\",\"event_dt\",\"event_dt\",\"event_dt\",\"event_dt\",\"event_dt\",\"event_dt\",\"event_dt\",\"event_dt\",\"event_dt\",\"event_dt\",\"event_dt\",\"event_dt\",\"event_dt\",\"event_dt\",\"event_dt\",\"event_dt\",\"event_dt\",\"event_dt\",\"event_dt\",\"event_dt\",\"event_dt\",\"event_dt\",\"event_dt\",\"event_dt\",\"event_dt\",\"event_dt\",\"event_dt\",\"event_dt\",\"event_dt\",\"event_dt\",\"event_dt\",\"event_dt\",\"event_dt\",\"event_dt\",\"event_dt\",\"event_dt\",\"event_dt\",\"event_dt\",\"event_dt\",\"event_dt\",\"event_dt\",\"event_dt\",\"event_dt\",\"event_dt\",\"event_dt\",\"event_dt\",\"event_dt\",\"event_dt\",\"event_dt\",\"event_dt\",\"event_dt\",\"event_dt\",\"event_dt\",\"event_dt\",\"event_dt\",\"event_dt\",\"event_dt\",\"event_dt\",\"event_dt\",\"event_dt\",\"event_dt\",\"event_dt\",\"event_dt\",\"event_dt\",\"event_dt\",\"event_dt\",\"event_dt\",\"event_dt\",\"event_dt\",\"event_dt\",\"event_dt\",\"event_dt\",\"event_dt\",\"event_dt\",\"event_dt\",\"event_dt\",\"event_dt\",\"event_dt\",\"event_dt\",\"event_dt\",\"event_dt\",\"event_dt\",\"event_dt\",\"event_dt\",\"event_dt\",\"event_dt\",\"event_dt\",\"event_dt\",\"event_dt\",\"event_dt\",\"event_dt\",\"event_dt\",\"event_dt\",\"event_dt\",\"event_dt\",\"event_dt\",\"event_dt\",\"event_dt\",\"event_dt\",\"event_dt\",\"event_dt\",\"event_dt\",\"event_dt\",\"event_dt\",\"event_dt\",\"event_dt\",\"event_dt\",\"event_dt\",\"event_dt\",\"event_dt\",\"event_dt\",\"event_dt\",\"event_dt\",\"event_dt\",\"event_dt\",\"event_dt\",\"event_dt\",\"event_dt\",\"event_dt\",\"event_dt\",\"event_dt\",\"event_dt\",\"event_dt\",\"event_dt\",\"event_dt\",\"event_dt\",\"event_dt\",\"event_dt\",\"event_dt\",\"event_dt\",\"event_dt\",\"event_dt\",\"event_dt\",\"event_dt\",\"event_dt\",\"event_dt\",\"event_dt\",\"event_dt\",\"event_dt\",\"event_dt\",\"event_dt\",\"event_dt\",\"event_dt\",\"event_dt\",\"event_dt\",\"event_dt\",\"event_dt\",\"event_dt\",\"event_dt\",\"event_dt\",\"event_dt\",\"event_dt\",\"event_dt\",\"event_dt\",\"event_dt\",\"event_dt\",\"event_dt\",\"event_dt\",\"event_dt\",\"event_dt\",\"event_dt\",\"event_dt\",\"event_dt\",\"event_dt\",\"event_dt\",\"event_dt\",\"event_dt\",\"event_dt\",\"event_dt\",\"event_dt\",\"event_dt\",\"event_dt\",\"event_dt\",\"event_dt\",\"event_dt\",\"event_dt\",\"event_dt\",\"event_dt\",\"event_dt\",\"event_dt\",\"event_dt\",\"event_dt\",\"event_dt\",\"event_dt\",\"event_dt\",\"event_dt\",\"event_dt\",\"event_dt\",\"event_dt\",\"event_dt\",\"event_dt\",\"event_dt\",\"event_dt\",\"event_dt\",\"event_dt\",\"event_dt\",\"event_dt\",\"event_dt\",\"event_dt\",\"event_dt\",\"event_dt\",\"event_dt\",\"event_dt\",\"event_dt\",\"event_dt\",\"event_dt\",\"event_dt\",\"event_dt\",\"event_dt\",\"event_dt\",\"event_dt\",\"event_dt\",\"event_dt\",\"event_dt\",\"event_dt\",\"event_dt\",\"event_dt\",\"event_dt\",\"event_dt\",\"event_dt\",\"event_dt\",\"event_dt\",\"event_dt\",\"event_dt\",\"event_dt\",\"event_dt\",\"event_dt\",\"event_dt\",\"event_dt\",\"event_dt\",\"event_dt\",\"event_dt\",\"event_dt\",\"event_dt\",\"event_dt\",\"event_dt\",\"event_dt\",\"event_dt\",\"event_dt\",\"event_dt\",\"event_dt\",\"event_dt\",\"event_dt\",\"event_dt\",\"event_dt\",\"event_dt\",\"event_dt\",\"event_dt\",\"event_dt\",\"event_dt\",\"event_dt\",\"event_dt\",\"event_dt\",\"event_dt\",\"event_dt\",\"event_dt\",\"event_dt\",\"event_dt\",\"event_dt\",\"event_dt\",\"event_dt\",\"event_dt\",\"event_dt\",\"event_dt\",\"event_dt\",\"event_dt\",\"event_dt\",\"event_dt\",\"event_dt\",\"event_dt\",\"event_dt\",\"event_dt\",\"event_dt\",\"event_dt\",\"event_dt\",\"event_dt\",\"event_dt\",\"event_dt\",\"event_dt\",\"event_dt\",\"event_dt\",\"event_dt\",\"event_dt\",\"event_dt\",\"event_dt\",\"event_dt\",\"event_dt\",\"event_dt\",\"event_dt\",\"event_dt\",\"event_dt\",\"event_dt\",\"event_dt\",\"event_dt\",\"event_dt\",\"event_dt\",\"event_dt\",\"event_dt\",\"event_dt\",\"event_dt\",\"event_dt\",\"event_dt\",\"event_dt\",\"event_dt\",\"event_dt\",\"event_dt\",\"event_dt\",\"event_dt\",\"event_dt\",\"event_dt\",\"event_dt\",\"event_dt\",\"event_dt\",\"event_dt\",\"event_dt\",\"event_dt\",\"event_dt\",\"event_dt\",\"event_dt\",\"event_dt\",\"event_dt\",\"event_dt\",\"event_dt\",\"event_dt\",\"event_dt\",\"event_dt\",\"event_dt\",\"event_dt\",\"event_dt\",\"event_dt\",\"event_dt\",\"event_dt\",\"event_dt\",\"event_dt\",\"event_dt\",\"event_dt\",\"event_dt\",\"event_dt\",\"event_dt\",\"event_dt\",\"event_dt\",\"event_dt\",\"event_dt\",\"event_dt\",\"event_dt\",\"event_dt\",\"event_dt\",\"event_dt\",\"event_dt\",\"event_dt\",\"event_dt\",\"event_dt\",\"event_dt\",\"event_dt\",\"event_dt\",\"event_dt\",\"event_dt\",\"event_dt\",\"event_dt\",\"event_dt\",\"event_dt\",\"event_dt\",\"event_dt\",\"event_dt\",\"event_dt\",\"event_dt\",\"event_dt\",\"event_dt\",\"event_dt\",\"event_dt\",\"event_dt\",\"event_dt\",\"event_dt\",\"event_dt\",\"event_dt\",\"event_dt\",\"event_dt\",\"event_dt\",\"event_dt\",\"event_dt\",\"event_dt\",\"event_dt\",\"event_dt\",\"event_dt\",\"event_dt\",\"event_dt\",\"event_dt\",\"event_dt\",\"event_dt\",\"event_dt\",\"event_dt\",\"event_dt\",\"event_dt\",\"event_dt\",\"event_dt\",\"event_dt\",\"event_dt\",\"event_dt\",\"event_dt\",\"event_dt\",\"event_dt\",\"event_dt\",\"event_dt\",\"event_dt\",\"event_dt\",\"event_dt\",\"event_dt\",\"event_dt\",\"event_dt\",\"event_dt\",\"event_dt\",\"event_dt\",\"event_dt\",\"event_dt\",\"event_dt\",\"event_dt\",\"event_dt\",\"event_dt\",\"event_dt\",\"event_dt\",\"event_dt\",\"event_dt\",\"event_dt\",\"event_dt\",\"event_dt\",\"event_dt\",\"event_dt\",\"event_dt\",\"event_dt\",\"event_dt\",\"event_dt\",\"event_dt\",\"event_dt\",\"event_dt\",\"event_dt\",\"event_dt\",\"event_dt\",\"event_dt\",\"event_dt\",\"event_dt\",\"event_dt\",\"event_dt\",\"event_dt\",\"event_dt\",\"event_dt\",\"event_dt\",\"event_dt\",\"event_dt\",\"event_dt\",\"event_dt\",\"event_dt\",\"event_dt\",\"event_dt\",\"event_dt\",\"event_dt\",\"event_dt\",\"event_dt\",\"event_dt\",\"event_dt\",\"event_dt\",\"event_dt\",\"event_dt\",\"event_dt\",\"event_dt\",\"event_dt\",\"event_dt\",\"event_dt\",\"event_dt\",\"event_dt\",\"event_dt\",\"event_dt\",\"event_dt\",\"event_dt\",\"event_dt\",\"event_dt\",\"event_dt\",\"event_dt\",\"event_dt\",\"event_dt\",\"event_dt\",\"event_dt\",\"event_dt\",\"event_dt\",\"event_dt\",\"event_dt\",\"event_dt\",\"event_dt\",\"event_dt\",\"event_dt\",\"event_dt\",\"event_dt\",\"event_dt\",\"event_dt\",\"event_dt\",\"event_dt\",\"event_dt\",\"event_dt\",\"event_dt\",\"event_dt\",\"event_dt\",\"event_dt\",\"event_dt\",\"event_dt\",\"event_dt\",\"event_dt\",\"event_dt\",\"event_dt\",\"event_dt\",\"event_dt\",\"event_dt\",\"event_dt\",\"event_dt\",\"event_dt\",\"event_dt\",\"event_dt\",\"event_dt\",\"event_dt\",\"event_dt\",\"event_dt\",\"event_dt\",\"event_dt\",\"event_dt\",\"event_dt\",\"event_dt\",\"event_dt\",\"event_dt\",\"event_dt\",\"event_dt\",\"event_dt\",\"event_dt\",\"event_dt\",\"event_dt\",\"event_dt\",\"event_dt\",\"event_dt\",\"event_dt\",\"event_dt\",\"event_dt\",\"event_dt\",\"event_dt\",\"event_dt\",\"event_dt\",\"event_dt\",\"event_dt\",\"event_dt\",\"event_dt\",\"event_dt\",\"event_dt\",\"event_dt\",\"event_dt\",\"event_dt\",\"event_dt\",\"event_dt\",\"event_dt\",\"event_dt\",\"event_dt\",\"event_dt\",\"event_dt\",\"event_dt\",\"event_dt\",\"event_dt\",\"event_dt\",\"event_dt\",\"event_dt\",\"event_dt\",\"event_dt\",\"event_dt\",\"event_dt\",\"event_dt\",\"event_dt\",\"event_dt\",\"event_dt\",\"event_dt\",\"event_dt\",\"event_dt\",\"event_dt\",\"event_dt\",\"event_dt\",\"event_dt\",\"event_dt\",\"event_dt\",\"event_dt\",\"event_dt\",\"event_dt\",\"event_dt\",\"event_dt\",\"event_dt\",\"event_dt\",\"event_dt\",\"event_dt\",\"event_dt\",\"event_dt\",\"event_dt\",\"event_dt\",\"event_dt\",\"event_dt\",\"event_dt\",\"event_dt\",\"event_dt\",\"event_dt\",\"event_dt\",\"event_dt\",\"event_dt\",\"event_dt\",\"event_dt\",\"event_dt\",\"event_dt\",\"event_dt\",\"event_dt\",\"event_dt\",\"event_dt\",\"event_dt\",\"event_dt\",\"event_dt\",\"event_dt\",\"event_dt\",\"event_dt\",\"event_dt\",\"event_dt\",\"event_dt\",\"event_dt\",\"event_dt\",\"event_dt\",\"event_dt\",\"event_dt\",\"event_dt\",\"event_dt\",\"event_dt\",\"event_dt\",\"event_dt\",\"event_dt\",\"event_dt\",\"event_dt\",\"event_dt\",\"event_dt\",\"event_dt\",\"event_dt\",\"event_dt\",\"event_dt\",\"event_dt\",\"event_dt\",\"event_dt\",\"event_dt\",\"event_dt\",\"event_dt\",\"event_dt\",\"event_dt\",\"event_dt\",\"event_dt\",\"event_dt\",\"event_dt\",\"event_dt\",\"event_dt\",\"event_dt\",\"event_dt\",\"event_dt\",\"event_dt\",\"event_dt\",\"event_dt\",\"event_dt\",\"event_dt\",\"event_dt\",\"event_dt\",\"event_dt\",\"event_dt\",\"event_dt\",\"event_dt\",\"event_dt\",\"event_dt\",\"event_dt\",\"event_dt\",\"event_dt\",\"event_dt\",\"event_dt\",\"event_dt\",\"event_dt\",\"event_dt\",\"event_dt\",\"event_dt\",\"event_dt\",\"event_dt\",\"event_dt\",\"event_dt\",\"event_dt\",\"event_dt\",\"event_dt\",\"event_dt\",\"event_dt\",\"event_dt\",\"event_dt\",\"event_dt\",\"event_dt\",\"event_dt\",\"event_dt\",\"event_dt\",\"event_dt\",\"event_dt\",\"event_dt\",\"event_dt\",\"event_dt\",\"event_dt\",\"event_dt\",\"event_dt\",\"event_dt\",\"event_dt\",\"event_dt\",\"event_dt\",\"event_dt\",\"event_dt\",\"event_dt\",\"event_dt\",\"event_dt\",\"event_dt\",\"event_dt\",\"event_dt\",\"event_dt\",\"event_dt\",\"event_dt\",\"event_dt\",\"event_dt\",\"event_dt\",\"event_dt\",\"event_dt\",\"event_dt\",\"event_dt\",\"event_dt\",\"event_dt\",\"event_dt\",\"event_dt\",\"event_dt\",\"event_dt\",\"event_dt\",\"event_dt\",\"event_dt\",\"event_dt\",\"event_dt\",\"event_dt\",\"event_dt\",\"event_dt\",\"event_dt\",\"event_dt\",\"event_dt\",\"event_dt\",\"event_dt\",\"event_dt\",\"event_dt\",\"event_dt\",\"event_dt\",\"event_dt\",\"event_dt\",\"event_dt\",\"event_dt\",\"event_dt\",\"event_dt\",\"event_dt\",\"event_dt\",\"event_dt\",\"event_dt\",\"event_dt\",\"event_dt\",\"event_dt\",\"event_dt\",\"event_dt\",\"event_dt\",\"event_dt\",\"event_dt\",\"event_dt\",\"event_dt\",\"event_dt\",\"event_dt\",\"event_dt\",\"event_dt\",\"event_dt\",\"event_dt\",\"event_dt\",\"event_dt\",\"event_dt\",\"event_dt\",\"event_dt\",\"event_dt\",\"event_dt\",\"event_dt\",\"event_dt\",\"event_dt\",\"event_dt\",\"event_dt\",\"event_dt\",\"event_dt\",\"event_dt\",\"event_dt\",\"event_dt\",\"event_dt\",\"event_dt\",\"event_dt\",\"event_dt\",\"event_dt\",\"event_dt\",\"event_dt\",\"event_dt\",\"event_dt\",\"event_dt\",\"event_dt\",\"event_dt\",\"event_dt\",\"event_dt\",\"event_dt\",\"event_dt\",\"event_dt\",\"event_dt\",\"event_dt\",\"event_dt\",\"event_dt\",\"event_dt\",\"event_dt\",\"event_dt\",\"event_dt\",\"event_dt\",\"event_dt\",\"event_dt\",\"event_dt\",\"event_dt\",\"event_dt\",\"event_dt\",\"event_dt\",\"event_dt\",\"event_dt\",\"event_dt\",\"event_dt\",\"event_dt\",\"event_dt\",\"event_dt\",\"event_dt\",\"event_dt\",\"event_dt\",\"event_dt\",\"event_dt\",\"event_dt\",\"event_dt\",\"event_dt\",\"event_dt\",\"event_dt\",\"event_dt\",\"event_dt\",\"event_dt\",\"event_dt\",\"event_dt\",\"event_dt\",\"event_dt\",\"event_dt\",\"event_dt\",\"event_dt\",\"event_dt\",\"event_dt\",\"event_dt\",\"event_dt\",\"event_dt\",\"event_dt\",\"event_dt\",\"event_dt\",\"event_dt\",\"event_dt\",\"event_dt\",\"event_dt\",\"event_dt\",\"event_dt\",\"event_dt\",\"event_dt\",\"event_dt\",\"event_dt\",\"event_dt\",\"event_dt\",\"event_dt\",\"event_dt\",\"event_dt\",\"event_dt\",\"event_dt\",\"event_dt\",\"event_dt\",\"event_dt\",\"event_dt\",\"event_dt\",\"event_dt\",\"event_dt\",\"event_dt\",\"event_dt\",\"event_dt\",\"event_dt\",\"event_dt\",\"event_dt\",\"event_dt\",\"event_dt\",\"event_dt\",\"event_dt\",\"event_dt\",\"event_dt\",\"event_dt\",\"event_dt\",\"event_dt\",\"event_dt\",\"event_dt\",\"event_dt\",\"event_dt\",\"event_dt\",\"event_dt\",\"event_dt\",\"event_dt\",\"event_dt\",\"event_dt\",\"event_dt\",\"event_dt\",\"event_dt\",\"event_dt\",\"event_dt\",\"event_dt\",\"event_dt\",\"event_dt\",\"event_dt\",\"event_dt\",\"event_dt\",\"event_dt\",\"event_dt\",\"event_dt\",\"event_dt\",\"event_dt\",\"event_dt\",\"event_dt\",\"event_dt\",\"event_dt\",\"event_dt\",\"event_dt\",\"event_dt\",\"event_dt\",\"event_dt\",\"event_dt\",\"event_dt\",\"event_dt\",\"event_dt\",\"event_dt\",\"event_dt\",\"event_dt\",\"event_dt\",\"event_dt\",\"event_dt\",\"event_dt\",\"event_dt\",\"event_dt\",\"event_dt\",\"event_dt\",\"event_dt\",\"event_dt\",\"event_dt\",\"event_dt\",\"event_dt\",\"event_dt\",\"event_dt\",\"event_dt\",\"event_dt\",\"event_dt\",\"event_dt\",\"event_dt\",\"event_dt\",\"event_dt\",\"event_dt\",\"event_dt\",\"event_dt\",\"event_dt\",\"event_dt\",\"event_dt\",\"event_dt\",\"event_dt\",\"event_dt\",\"event_dt\",\"event_dt\",\"event_dt\",\"event_dt\",\"event_dt\",\"event_dt\",\"event_dt\",\"event_dt\",\"event_dt\",\"event_dt\",\"event_dt\",\"event_dt\",\"event_dt\",\"event_dt\",\"event_dt\",\"event_dt\",\"event_dt\",\"event_dt\",\"event_dt\",\"event_dt\",\"event_dt\",\"event_dt\",\"event_dt\",\"event_dt\",\"event_dt\",\"event_dt\",\"event_dt\",\"event_dt\",\"event_dt\",\"event_dt\",\"event_dt\",\"event_dt\",\"event_dt\",\"event_dt\",\"event_dt\",\"event_dt\",\"event_dt\",\"event_dt\",\"event_dt\",\"event_dt\",\"event_dt\",\"event_dt\",\"event_dt\",\"event_dt\",\"event_dt\",\"event_dt\",\"event_dt\",\"event_dt\",\"event_dt\",\"event_dt\",\"event_dt\",\"event_dt\",\"event_dt\",\"event_dt\",\"event_dt\",\"event_dt\",\"event_dt\",\"event_dt\",\"event_dt\",\"event_dt\",\"event_dt\",\"event_dt\",\"event_dt\",\"event_dt\",\"event_dt\",\"event_dt\",\"event_dt\",\"event_dt\",\"event_dt\",\"event_dt\",\"event_dt\",\"event_dt\",\"event_dt\",\"event_dt\",\"event_dt\",\"event_dt\",\"event_dt\",\"event_dt\",\"event_dt\",\"event_dt\",\"event_dt\",\"event_dt\",\"event_dt\",\"event_dt\",\"event_dt\",\"event_dt\",\"event_dt\",\"event_dt\",\"event_dt\",\"event_dt\",\"event_dt\",\"event_dt\",\"event_dt\",\"event_dt\",\"event_dt\",\"event_dt\",\"event_dt\",\"event_dt\",\"event_dt\",\"event_dt\",\"event_dt\",\"event_dt\",\"event_dt\",\"event_dt\",\"event_dt\",\"event_dt\",\"event_dt\",\"event_dt\",\"event_dt\",\"event_dt\",\"event_dt\",\"event_dt\",\"event_dt\",\"event_dt\",\"event_dt\",\"event_dt\",\"event_dt\",\"event_dt\",\"event_dt\",\"event_dt\",\"event_dt\",\"event_dt\",\"event_dt\",\"event_dt\",\"event_dt\",\"event_dt\",\"event_dt\",\"event_dt\",\"event_dt\",\"event_dt\",\"event_dt\",\"event_dt\",\"event_dt\",\"event_dt\",\"event_dt\",\"event_dt\",\"event_dt\",\"event_dt\",\"event_dt\",\"event_dt\",\"event_dt\",\"event_dt\",\"event_dt\",\"event_dt\",\"event_dt\",\"event_dt\",\"event_dt\",\"event_dt\",\"event_dt\",\"event_dt\",\"event_dt\",\"event_dt\",\"event_dt\",\"event_dt\",\"event_dt\",\"event_dt\",\"event_dt\",\"event_dt\",\"event_dt\",\"event_dt\",\"event_dt\",\"event_dt\",\"event_dt\",\"event_dt\",\"event_dt\",\"event_dt\",\"event_dt\",\"event_dt\",\"event_dt\",\"event_dt\",\"event_dt\",\"event_dt\",\"event_dt\",\"event_dt\",\"event_dt\",\"event_dt\",\"event_dt\",\"event_dt\",\"event_dt\",\"event_dt\",\"event_dt\",\"event_dt\",\"event_dt\",\"event_dt\",\"event_dt\",\"event_dt\",\"event_dt\",\"event_dt\",\"event_dt\",\"event_dt\",\"event_dt\",\"event_dt\",\"event_dt\",\"event_dt\",\"event_dt\",\"event_dt\",\"event_dt\",\"event_dt\",\"event_dt\",\"event_dt\",\"event_dt\",\"event_dt\",\"event_dt\",\"event_dt\",\"event_dt\",\"event_dt\",\"event_dt\",\"event_dt\",\"event_dt\",\"event_dt\",\"event_dt\",\"event_dt\",\"event_dt\",\"event_dt\",\"event_dt\",\"event_dt\",\"event_dt\",\"event_dt\",\"event_dt\",\"event_dt\",\"event_dt\",\"event_dt\",\"event_dt\",\"event_dt\",\"event_dt\",\"event_dt\",\"event_dt\",\"event_dt\",\"event_dt\",\"event_dt\",\"event_dt\",\"event_dt\",\"event_dt\",\"event_dt\",\"event_dt\",\"event_dt\",\"event_dt\",\"event_dt\",\"event_dt\",\"event_dt\",\"event_dt\",\"event_dt\",\"event_dt\",\"event_dt\",\"event_dt\",\"event_dt\",\"event_dt\",\"event_dt\",\"event_dt\",\"event_dt\",\"event_dt\",\"event_dt\",\"event_dt\",\"event_dt\",\"event_dt\",\"event_dt\",\"event_dt\",\"event_dt\",\"event_dt\",\"event_dt\",\"event_dt\",\"event_dt\",\"event_dt\",\"event_dt\",\"event_dt\",\"event_dt\",\"event_dt\",\"event_dt\",\"event_dt\",\"event_dt\",\"event_dt\",\"event_dt\",\"event_dt\",\"event_dt\",\"event_dt\",\"event_dt\",\"event_dt\",\"event_dt\",\"event_dt\",\"event_dt\",\"event_dt\",\"event_dt\",\"event_dt\",\"event_dt\",\"event_dt\",\"event_dt\",\"event_dt\",\"event_dt\",\"event_dt\",\"event_dt\",\"event_dt\",\"event_dt\",\"event_dt\",\"event_dt\",\"event_dt\",\"event_dt\",\"event_dt\",\"event_dt\",\"event_dt\",\"event_dt\",\"event_dt\",\"event_dt\",\"event_dt\",\"event_dt\",\"event_dt\",\"event_dt\",\"event_dt\",\"event_dt\",\"event_dt\",\"event_dt\",\"event_dt\",\"event_dt\",\"event_dt\",\"event_dt\",\"event_dt\",\"event_dt\",\"event_dt\",\"event_dt\",\"event_dt\",\"event_dt\",\"event_dt\",\"event_dt\",\"event_dt\",\"event_dt\",\"event_dt\",\"event_dt\",\"event_dt\",\"event_dt\",\"event_dt\",\"event_dt\",\"event_dt\",\"event_dt\",\"event_dt\",\"event_dt\",\"event_dt\",\"event_dt\",\"event_dt\",\"event_dt\",\"event_dt\",\"event_dt\",\"event_dt\",\"event_dt\",\"event_dt\",\"event_dt\",\"event_dt\",\"event_dt\",\"event_dt\",\"event_dt\",\"event_dt\",\"event_dt\",\"event_dt\",\"event_dt\",\"event_dt\",\"event_dt\",\"event_dt\",\"event_dt\",\"event_dt\",\"event_dt\",\"event_dt\",\"event_dt\",\"event_dt\",\"event_dt\",\"event_dt\",\"event_dt\",\"event_dt\",\"event_dt\",\"event_dt\",\"event_dt\",\"event_dt\",\"event_dt\",\"event_dt\",\"event_dt\",\"event_dt\",\"event_dt\",\"event_dt\",\"event_dt\",\"event_dt\",\"event_dt\",\"event_dt\",\"event_dt\",\"event_dt\",\"event_dt\",\"event_dt\",\"event_dt\",\"event_dt\",\"event_dt\",\"event_dt\",\"event_dt\",\"event_dt\",\"event_dt\",\"event_dt\",\"event_dt\",\"event_dt\",\"event_dt\",\"event_dt\",\"event_dt\",\"event_dt\",\"event_dt\",\"event_dt\",\"event_dt\",\"event_dt\",\"event_dt\",\"event_dt\",\"event_dt\",\"event_dt\",\"event_dt\",\"event_dt\",\"event_dt\",\"event_dt\",\"event_dt\",\"event_dt\",\"event_dt\",\"event_dt\",\"event_dt\",\"event_dt\",\"event_dt\",\"event_dt\",\"event_dt\",\"event_dt\",\"event_dt\",\"event_dt\",\"event_dt\",\"event_dt\",\"event_dt\",\"event_dt\",\"event_dt\",\"event_dt\",\"event_dt\",\"event_dt\",\"event_dt\",\"event_dt\",\"event_dt\",\"event_dt\",\"event_dt\",\"event_dt\",\"event_dt\",\"event_dt\",\"event_dt\",\"event_dt\",\"event_dt\",\"event_dt\",\"event_dt\",\"event_dt\",\"event_dt\",\"event_dt\",\"event_dt\",\"event_dt\",\"event_dt\",\"event_dt\",\"event_dt\",\"event_dt\",\"event_dt\",\"event_dt\",\"event_dt\",\"event_dt\",\"event_dt\",\"event_dt\",\"event_dt\",\"event_dt\",\"event_dt\",\"event_dt\",\"event_dt\",\"event_dt\",\"event_dt\",\"event_dt\",\"event_dt\",\"event_dt\",\"event_dt\",\"event_dt\",\"event_dt\",\"event_dt\",\"event_dt\",\"event_dt\",\"event_dt\",\"event_dt\",\"event_dt\",\"event_dt\",\"event_dt\",\"event_dt\",\"event_dt\",\"event_dt\",\"event_dt\",\"event_dt\",\"event_dt\",\"event_dt\",\"event_dt\",\"event_dt\",\"event_dt\",\"event_dt\",\"event_dt\",\"event_dt\",\"event_dt\",\"event_dt\",\"event_dt\",\"event_dt\",\"event_dt\",\"event_dt\",\"event_dt\",\"event_dt\",\"event_dt\",\"event_dt\",\"event_dt\",\"event_dt\",\"event_dt\",\"event_dt\",\"event_dt\",\"event_dt\",\"event_dt\",\"event_dt\",\"event_dt\",\"event_dt\",\"event_dt\",\"event_dt\",\"event_dt\",\"event_dt\",\"event_dt\",\"event_dt\",\"event_dt\",\"event_dt\",\"event_dt\",\"event_dt\",\"event_dt\",\"event_dt\",\"event_dt\",\"event_dt\",\"event_dt\",\"event_dt\",\"event_dt\",\"event_dt\",\"event_dt\",\"event_dt\",\"event_dt\",\"event_dt\",\"event_dt\",\"event_dt\",\"event_dt\",\"event_dt\",\"event_dt\",\"event_dt\",\"event_dt\",\"event_dt\",\"event_dt\",\"event_dt\",\"event_dt\",\"event_dt\",\"event_dt\",\"event_dt\",\"event_dt\",\"event_dt\",\"event_dt\",\"event_dt\",\"event_dt\",\"event_dt\",\"event_dt\",\"event_dt\",\"event_dt\",\"event_dt\",\"event_dt\",\"event_dt\",\"event_dt\",\"event_dt\",\"event_dt\",\"event_dt\",\"event_dt\",\"event_dt\",\"event_dt\",\"event_dt\",\"event_dt\",\"event_dt\",\"event_dt\",\"event_dt\",\"event_dt\",\"event_dt\",\"event_dt\",\"event_dt\",\"event_dt\",\"event_dt\",\"event_dt\",\"event_dt\",\"event_dt\",\"event_dt\",\"event_dt\",\"event_dt\",\"event_dt\",\"event_dt\",\"event_dt\",\"event_dt\",\"event_dt\",\"event_dt\",\"event_dt\",\"event_dt\",\"event_dt\",\"event_dt\",\"event_dt\",\"event_dt\",\"event_dt\",\"event_dt\",\"event_dt\",\"event_dt\",\"event_dt\",\"event_dt\",\"event_dt\",\"event_dt\",\"event_dt\",\"event_dt\",\"event_dt\",\"event_dt\",\"event_dt\",\"event_dt\",\"event_dt\",\"event_dt\",\"event_dt\",\"event_dt\",\"event_dt\",\"event_dt\",\"event_dt\",\"event_dt\",\"event_dt\",\"event_dt\",\"event_dt\",\"event_dt\",\"event_dt\",\"event_dt\",\"event_dt\",\"event_dt\",\"event_dt\",\"event_dt\",\"event_dt\",\"event_dt\",\"event_dt\",\"event_dt\",\"event_dt\",\"event_dt\",\"event_dt\",\"event_dt\",\"event_dt\",\"event_dt\",\"event_dt\",\"event_dt\",\"event_dt\",\"event_dt\",\"event_dt\",\"event_dt\",\"event_dt\",\"event_dt\",\"event_dt\",\"event_dt\",\"event_dt\",\"event_dt\",\"event_dt\",\"event_dt\",\"event_dt\",\"event_dt\",\"event_dt\",\"event_dt\",\"event_dt\",\"event_dt\",\"event_dt\",\"event_dt\",\"event_dt\",\"event_dt\",\"event_dt\",\"event_dt\",\"event_dt\",\"event_dt\",\"event_dt\",\"event_dt\",\"event_dt\",\"event_dt\",\"event_dt\",\"event_dt\",\"event_dt\",\"event_dt\",\"event_dt\",\"event_dt\",\"event_dt\",\"event_dt\",\"event_dt\",\"event_dt\",\"event_dt\",\"event_dt\",\"event_dt\",\"event_dt\",\"event_dt\",\"event_dt\",\"event_dt\",\"event_dt\",\"event_dt\",\"event_dt\",\"event_dt\",\"event_dt\",\"event_dt\",\"event_dt\",\"event_dt\",\"event_dt\",\"event_dt\",\"event_dt\",\"event_dt\",\"event_dt\",\"event_dt\",\"event_dt\",\"event_dt\",\"event_dt\",\"event_dt\",\"event_dt\",\"event_dt\",\"event_dt\",\"event_dt\",\"event_dt\",\"event_dt\",\"event_dt\",\"event_dt\",\"event_dt\",\"event_dt\",\"event_dt\",\"event_dt\",\"event_dt\",\"event_dt\",\"event_dt\",\"event_dt\",\"event_dt\",\"event_dt\",\"event_dt\",\"event_dt\",\"event_dt\",\"event_dt\",\"event_dt\",\"event_dt\",\"event_dt\",\"event_dt\",\"event_dt\",\"event_dt\",\"event_dt\",\"event_dt\",\"event_dt\",\"event_dt\",\"event_dt\",\"event_dt\",\"event_dt\",\"event_dt\",\"event_dt\",\"event_dt\",\"event_dt\",\"event_dt\",\"event_dt\",\"event_dt\",\"event_dt\",\"event_dt\",\"event_dt\",\"event_dt\",\"event_dt\",\"event_dt\",\"event_dt\",\"event_dt\",\"event_dt\",\"event_dt\",\"event_dt\",\"event_dt\",\"event_dt\",\"event_dt\",\"event_dt\",\"event_dt\",\"event_dt\",\"event_dt\",\"event_dt\",\"event_dt\",\"event_dt\",\"event_dt\",\"event_dt\",\"event_dt\",\"event_dt\",\"event_dt\",\"event_dt\",\"event_dt\",\"event_dt\",\"event_dt\",\"event_dt\",\"event_dt\",\"event_dt\",\"event_dt\",\"event_dt\",\"event_dt\",\"event_dt\",\"event_dt\",\"event_dt\",\"event_dt\",\"event_dt\",\"event_dt\",\"event_dt\",\"event_dt\",\"event_dt\",\"event_dt\",\"event_dt\",\"event_dt\",\"event_dt\",\"event_dt\",\"event_dt\",\"event_dt\",\"event_dt\",\"event_dt\",\"event_dt\",\"event_dt\",\"event_dt\",\"event_dt\",\"event_dt\",\"event_dt\",\"event_dt\",\"event_dt\",\"event_dt\",\"event_dt\",\"event_dt\",\"event_dt\",\"event_dt\",\"event_dt\",\"event_dt\",\"event_dt\",\"event_dt\",\"event_dt\",\"event_dt\",\"event_dt\",\"event_dt\",\"event_dt\",\"event_dt\",\"event_dt\",\"event_dt\",\"event_dt\",\"event_dt\",\"event_dt\",\"event_dt\",\"event_dt\",\"event_dt\",\"event_dt\",\"event_dt\",\"event_dt\",\"event_dt\",\"event_dt\",\"event_dt\",\"event_dt\",\"event_dt\",\"event_dt\",\"event_dt\",\"event_dt\",\"event_dt\",\"event_dt\",\"event_dt\",\"event_dt\",\"event_dt\",\"event_dt\",\"event_dt\",\"event_dt\",\"event_dt\",\"event_dt\",\"event_dt\",\"event_dt\",\"event_dt\",\"event_dt\",\"event_dt\",\"event_dt\",\"event_dt\",\"event_dt\",\"event_dt\",\"event_dt\",\"event_dt\",\"event_dt\",\"event_dt\",\"event_dt\",\"event_dt\",\"event_dt\",\"event_dt\",\"event_dt\",\"event_dt\",\"event_dt\",\"event_dt\",\"event_dt\",\"event_dt\",\"event_dt\",\"event_dt\",\"event_dt\",\"event_dt\",\"event_dt\",\"event_dt\",\"event_dt\",\"event_dt\",\"event_dt\",\"event_dt\",\"event_dt\",\"event_dt\",\"event_dt\",\"event_dt\",\"event_dt\",\"event_dt\",\"event_dt\",\"event_dt\",\"event_dt\",\"event_dt\",\"event_dt\",\"event_dt\",\"event_dt\",\"event_dt\",\"event_dt\",\"event_dt\",\"event_dt\",\"event_dt\",\"event_dt\",\"event_dt\",\"event_dt\"],\"x0\":\" \",\"xaxis\":\"x\",\"y\":[6,12,2,15,5,4,6,20,2,9,9,9,4,9,4,8,4,6,2,3,6,12,9,1,2,6,8,4,3,8,9,2,9,6,6,4,10,6,9,8,4,4,12,6,8,5,6,9,8,15,12,10,3,4,8,3,4,8,5,2,3,8,10,8,3,3,6,9,6,3,12,2,6,6,2,12,3,4,3,3,4,8,6,2,3,4,4,3,8,8,6,6,5,9,6,9,6,6,9,4,2,10,6,9,3,9,9,8,4,4,12,10,9,9,7,6,3,9,9,6,2,12,6,6,8,16,9,4,1,2,2,12,9,12,15,15,6,4,9,9,5,6,4,3,6,4,4,8,4,10,3,6,10,12,8,15,6,9,2,8,3,9,4,9,8,12,9,2,6,10,8,6,12,4,9,8,8,6,6,6,10,6,9,3,3,6,5,2,4,4,4,5,3,6,1,4,3,8,4,3,6,8,9,10,12,12,20,4,3,4,6,3,4,8,6,9,2,8,6,6,24,6,8,4,24,2,6,4,8,2,6,10,9,2,6,8,4,5,8,12,8,4,10,6,4,12,3,4,10,12,5,12,12,4,9,2,4,10,4,9,3,10,6,2,6,6,4,12,6,6,2,3,6,6,9,12,3,2,12,8,3,16,6,15,2,8,12,8,8,6,9,3,3,6,9,8,3,9,3,9,6,6,4,4,8,4,6,4,6,6,10,12,6,3,4,4,6,2,6,6,8,15,9,4,2,12,4,1,2,3,6,6,9,20,3,4,20,15,6,8,3,12,4,6,8,16,8,9,4,4,4,9,3,9,8,6,8,6,16,6,20,15,2,8,12,6,4,4,9,9,16,4,4,4,6,4,8,8,9,2,9,4,2,4,6,24,9,6,4,4,9,3,9,2,4,12,6,2,8,3,9,4,12,3,4,6,1,8,3,9,10,9,12,12,4,6,4,1,2,4,4,9,2,8,6,4,1,12,4,2,6,9,8,3,9,4,4,18,8,4,6,6,4,15,9,6,4,3,8,9,4,6,2,6,6,5,3,8,3,6,2,6,8,4,8,8,6,4,6,6,10,12,4,4,4,9,4,1,6,4,6,4,6,4,12,9,16,3,3,9,8,2,3,2,3,9,12,15,6,2,2,4,2,8,3,6,2,6,4,2,1,4,9,4,9,15,6,8,3,12,2,4,6,9,6,12,12,8,9,4,3,6,12,8,9,12,4,4,9,9,3,4,8,4,8,4,9,6,12,8,8,2,6,6,3,4,6,15,8,3,8,2,4,15,8,6,15,6,8,6,4,6,3,12,8,10,20,6,4,4,12,6,6,8,12,10,6,20,4,8,3,3,4,2,6,3,4,3,5,8,1,4,12,10,6,5,9,8,6,6,6,6,6,4,12,4,6,12,4,4,5,3,6,6,8,3,6,20,4,12,6,6,12,6,9,3,6,3,8,6,15,6,8,6,8,8,3,6,8,3,8,3,9,9,6,4,2,15,3,12,6,9,15,8,2,6,4,8,4,4,9,7,6,8,15,6,5,3,6,6,6,8,4,9,8,9,9,15,2,4,3,6,6,4,8,12,3,2,4,8,2,5,8,12,8,3,2,6,5,8,9,12,6,4,4,4,4,10,6,12,9,10,6,4,6,9,6,4,10,16,2,15,1,10,15,4,9,3,6,4,6,10,6,3,4,9,6,3,9,12,8,3,5,9,16,5,3,10,15,4,4,12,12,6,18,2,6,6,6,2,6,8,4,6,4,8,3,3,8,6,12,12,2,3,10,3,6,2,8,4,1,4,4,4,2,11,6,12,2,6,6,4,8,6,16,3,5,4,4,3,2,4,9,3,8,8,15,3,6,4,1,4,12,6,12,4,12,9,4,12,3,9,12,9,12,4,6,9,1,8,6,12,2,3,2,6,6,6,2,6,8,12,2,9,9,6,3,6,4,6,2,6,3,6,3,9,4,4,12,4,6,14,9,2,12,8,6,6,18,6,9,3,2,2,8,4,8,4,8,4,2,4,4,4,6,1,4,2,1,4,12,9,6,6,12,4,8,8,3,4,6,4,2,8,6,12,4,6,8,6,2,4,15,12,6,2,4,3,3,6,4,6,8,15,4,9,9,8,9,2,2,6,4,3,16,9,6,2,8,2,2,2,4,15,9,4,6,3,8,9,6,8,4,5,9,9,9,3,9,2,9,4,4,9,8,6,8,16,4,12,1,4,15,6,4,12,4,4,3,15,8,3,6,15,8,6,20,4,6,4,6,12,12,6,16,6,3,2,8,4,6,8,9,8,4,9,9,10,6,4,4,6,4,12,8,4,4,4,2,5,3,9,6,9,9,6,3,2,12,8,3,9,5,12,4,4,12,2,9,6,12,4,10,12,5,3,2,5,8,4,20,12,12,2,2,12,4,4,4,8,6,6,12,4,8,4,10,12,6,2,4,8,9,4,12,4,4,6,2,10,12,9,15,2,6,6,4,6,12,4,5,6,3,2,6,8,2,4,9,4,3,4,2,4,8,8,4,4,4,2,2,6,4,9,10,3,4,6,6,9,3,2,3,6,6,2,6,6,6,6,4,4,6,2,2,1,8,6,9,9,9,4,12,10,4,8,9,12,8,4,12,6,3,4,2,6,2,8,16,9,3,12,12,12,6,9,1,1,8,6,2,8,4,2,6,4,4,12,8,8,8,4,3,4,12,1,9,6,6,9,4,12,8,4,4,4,2,9,4,6,10,6,2,9,9,8,3,6,9,6,12,5,1,9,10,1,9,3,6,3,8,2,9,6,8,6,2,6,3,8,3,5,3,4,8,8,4,4,12,6,12,8,10,10,8,12,6,12,9,8,4,3,15,6,6,3,6,6,4,6,2,4,8,3,10,18,3,6,10,4,8,8,8,4,3,3,9,2,3,3,8,9,1,15,14,6,8,8,6,4,6,15,3,4,8,6,4,12,14,4,9,9,8,12,9,12,8,2,6,12,3,6,3,12,2,6,4,2,8,4,8,4,12,18,9,4,2,8,6,5,10,16,9,4,8,4,15,4,4,6,12,2,10,8,3,9,12,12,6,6,12,6,4,9,6,12,2,8,6,3,8,6,9,6,10,3,4,8,4,4,4,6,15,4,3,4,3,2,6,10,3,9,4,2,2,2,12,8,6,6,9,12,6,4,3,12,9,3,4,4,6,15,8,9,6,9,8,6,4,6,2,6,4,2,2,4,2,2,6,3,6,4,3,6,4,1,8,4,2,3,9,4,20,10,6,4,12,3,2,2,6,9,12,6,6,15,3,6,12,6,8,9,6,6,10,9,5,6,9,2,9,1,4,3,4,3,6,9,12,9,6,8,21,2,3,12,2,15,12,2,3,2,6,6,9,5,6,9,6,6,4,9,9,4,6,2,3,8,3,3,6,6,2,6,5,4,6,18,9,12,8,4,14,6,6,9,3,9,6,12,8,4,6,12,6,5,2,6,10,12,2,12,20,12,6,9,9,4,7,5,6,3,12,4,3,6,9,8,3,12,2,12,3,8,12,3,9,4,6,15,12,10,6,9,6,12,3,3,3,9,2,5,10,3,12,3,4,4,8,4,6,3,4,3,6,9,6,11,6,8,12,6,4,20,3,6,2,2,9,1,15,6,5,8,12,6,15,3,2,12,9,4,10,12,12,4,3,6,4,20,9,2,6,1,8,12,8,3,3,2,8,6,4,3,12,3,6,2,6,6,12,7,10,2,2,4,6,3,6,5,2,4,6,4,6,3,2,3,6,12,8,6,6,9,12,6,4,20,8,6,4,2,2,14,2,6,4,8,9,6,1,6,3,2,4,4,3,4,6,4,4,4,6,12,9,9,12,2,4,4,10,6,4,6,3,8,6,11,6,10,3,2,4,9,12,4,12,6,3,3,3,4,12,8,12,2,4,2,4,8,3,2,6,8,4,4,8,4,10,6,20,6,8,4,1,10,8,3,6,6,6,6,20,3,6,4,9,2,12,10,6,3,4,4,6,3,3,12,2,12,6,2,9,6,6,6,6,2,12,6,12,6,4,9,18,1,6,6,9,2,6,8,6,4,6,6,8,3,10,16,9,5,16,4,3,8,16,9,12,3,6,21,10,14,9,6,10,8,8,3,3,3,8,4,8,2,2,4,12,2,4,8,4,2,6,9,3,8,4,8,4,2,4,4,9,3,2,6,4,4,6,4,3,3,6,4,4,9,8,4,10,4,4,9,6,3,6,9,9,6,8,9,2,4,3,12,6,3,6,12,3,12,12,6,8,18,2,4,3,6,1,8,6,2,3,3,3,2,8,3,2,12,8,4,6,5,6,16,13,6,4,2,12,12,2,4,8,4,15,8,2,4,3,12,4,4,8,12,6,9,6,2,4,6,6,9,4,1,2,8,1,8,3,8,9,8,6,2,2,8,12,16,6,9,3,6,3,3,6,6,8,9,4,6,6,9,6,9,9,9,10,6,6,4,2,9,4,3,6,6,8,6,4,1,6,4,8,3,2,6,4,6,4,6,2,9,2,2,3,6,8,4,4,9,8,3,2,4,9,2,4,5,12,20,9,6,4,4,2,6,3,12,9,12,6,15,5,9,18,6,4,9,4,4,2,4,6,9,12,12,3,4,6,4,6,12,6,15,8,8,15,19,3,3,6,4,16,12,4,4,9,3,4,10,3,8,1,3,3,6,6,12,9,8,10,10,4,6,6,6,4,5,16,6,4,8,9,4,4,10,2,3,6,4,2,9,4,8,8,6,4,2,4,12,6,4,6,3,4,3,6,6,6,3,3,6,15,12,4,6,6,2,6,10,6,6,2,4,6,8,10,15,8,3,16,5,6,15,2,2,4,3,4,6,1,2,2,6,12,12,4,4,9,6,4,15,10,6,4,9,4,4,6,2,20,6,2,6,12,4,12,6,20,6,9,4,6,15,15,2,4,4,18,11,8,6,6,3,3,8,4,9,12,18,4,9,10,8,15,3,6,8,2,4,7,14,8,6,3,4,5,4,4,12,15,8,9,6,3,4,8,9,8,8,3,6,3,4,6,3,6,15,6,6,8,4,4,4,14,6,6,6,3,6,4,9,4,2,4,6,6,6,12,6,3,6,10,15,6,5,4,4,2,3,9,3,12,16,2,10,4,4,2,6,6,16,8,9,12,6,6,16,16,9,6,6,6,12,6,2,2,3,9,10,6,4,8,4,2,6,10,6,12,9,4,2,2,6,6,6,16,8,6,12,10,10,4,4,2,2,6,4,8,12,4,20,8,6,12,6,16,9,4,3,5,6,3,4,6,9,2,6,4,6,9,6,6,6,12,6,12,10,15,3,3,8,3,4,12,9,6,4,6,10,6,2,4,3,4,8,10,10,3,4,1,10,6,15,5,8,8,3,3,12,6,12,6,9,8,2,6,9,15,8,4,6,9,2,3,12,6,3,6,4,6,4,4,6,4,3,6,6,8,2,10,15,6,3,5,4,8,4,6,9,14,4,8,12,6,6,3,6,15,4,6,4,15,6,10,6,4,4,9,12,2,2,6,12,6,6,8,2,8,4,3,3,12,10,11,15,5,4,9,4,3,9,12,3,4,8,9,4,4,12,3,8,2,3,3,6,10,4,6,8,15,4,4,2,4,15,12,15,15,3,2,8,2,4,8,9,6,8,8,12,6,15,21,4,9,8,6,2,6,6,3,12,8,2,8,8,6,3,4,6,2,8,15,6,2,2,12,16,3,4,6,8,8,5,8,20,3,18,8,12,8,6,4,4,6,4,4,5,2,4,8,4,4,8,4,6,5,9,10,12,4,4,6,6,9,4,4,1,3,8,8,6,15,8,10,4,3,8,8,3,9,3,9,6,12,4,6,8,4,6,6,12,4,4,6,3,2,2,6,6,6,6,4,20,9,4,6,2,18,6,3,4,5,6,6,4,8,3,3,20,9,12,9,8,4,9,6,4,2,3,4,8,6,6,2,2,2,6,6,4,4,4,4,6,9,9,7,3,8,3,9,4,4,9,2,8,9,6,3,6,15,9,6,6,4,9,6,16,8,10,3,8,3,4,4,4,6,4,8,9,3,12,9,4,9,2,1,8,6,9,4,6,6,6,8,3,6,9,9,12,3,2,6,16,9,4,4,6,3,6,6,12,3,3,2,8,3,6,13,3,18,6,12,5,18,4,5,6,12,8,3,4,9,4,6,8,6,3,12,4,4,12,2,6,6,6,4,6,5,4,8,10,9,6,6,6,8,1,3,8,2,10,6,12,8,2,9,4,4,8,3,4,6,3,8,9,6,4,4,6,12,3,8,2,4,9,18,2,6,8,12,6,12,2,6,9,8,4,15,4,4,9,6,3,1,4,8,12,12,6,6,24,3,6,2,8,6,2,8,6,9,8,6,4,10,3,6,6,2,8,4,6,8,9,5,1,2,9,8,9,2,6,2,12,4,14,6,6,6,6,6,8,4,3,2,4,1,6,2,4,8,4,12,4,2,2,9,5,3,12,3,12,3,2,3,6,6,9,6,4,4,6,4,6,9,10,2,6,8,4,6,12,6,10,2,2,4,8,4,12,6,6,3,12,9,12,9,2,4,15,4,6,6,3,10,2,4,4,9,12,4,4,12,4,6,10,2,4,6,15,6,9,12,8,4,2,6,6,8,6,4,12,15,4,6,4,16,6,9,4,4,6,6,6,18,10,4,6,12,9,2,3,6,1,8,9,2,15,6,16,12,4,6,1,8,2,12,2,3,4,1,8,6,6,8,3,8,9,6,9,3,15,10,2,6,12,9,6,6,4,6,9,12,6,6,5,4,8,4,12,12,1,6,6,6,6,4,2,6,4,6,4,12,6,9,4,4,2,3,6,4,6,12,2,9,6,8,4,12,8,16,8,4,2,10,3,6,6,12,6,3,6,4,3,4,6,15,6,12,8,6,4,20,6,12,4,6,9,6,2,3,8,3,6,6,4,3,6,8,2,2,3,2,3,3,6,3,8,18,4,2,3,6,4,8,6,4,6,2,1,9,2,8,12,10,4,2,8,9,9,3,10,16,9,3,6,15,6,4,8,1,6,1,4,6,3,6,8,4,3,6,6,3,2,6,3,6,3,3,15,8,3,6,9,9,4,8,9,6,2,3,4,6,8,3,2,4,6,4,10,2,18,3,6,8,9,9,9,5,9,6,12,9,6,6,6,8,6,8,6,3,8,6,2,3,3,6,6,8,6,6,6,3,9,4,2,6,12,2,4,2,6,9,4,6,4,3,4,3,2,15,6,4,6,6,8,6,4,9,6,12,6,6,3,9,6,6,9,2,2,4,4,4,8,6,9,8,6,8,6,8,6,9,6,6,2,6,2,2,4,9,8,8,8,3,2,9,6,4,3,12,15,3,12,10,4,12,12,12,12,9,9,6,2,15,8,15,3,3,1,3,6,3,3,8,5,3,1,7,9,6,5,8,4,4,4,4,4,8,4,9,6,6,6,6,6,4,9,6,15,6,9,8,10,9,6,5,9,6,8,2,2,2,2,3,8,9,2,8,6,6,6,10,8,4,3,8,4,3,3,6,3,12,2,4,6,4,3,2,8,4,8,14,10,20,12,4,2,6,9,9,4,4,12,8,4,6,12,6,12,12,4,15,2,8,5,8,20,6,8,6,6,9,8,4,9,4,4,6,4,2,6,9,12,6,6,6,4,12,3,4,2,2,1,6,9,6,6,1,2,6,12,4,4,6,8,8,4,6,8,6,8,3,8,4,4,4,4,6,6,9,2,8,4,3,6,16,12,3,2,3,4,8,3,20,6,2,1,3,6,9,12,6,9,10,4,4,4,4,12,6,10,9,8,4,6,9],\"y0\":\" \",\"yaxis\":\"y\",\"type\":\"box\"}],                        {\"template\":{\"data\":{\"bar\":[{\"error_x\":{\"color\":\"#2a3f5f\"},\"error_y\":{\"color\":\"#2a3f5f\"},\"marker\":{\"line\":{\"color\":\"#E5ECF6\",\"width\":0.5},\"pattern\":{\"fillmode\":\"overlay\",\"size\":10,\"solidity\":0.2}},\"type\":\"bar\"}],\"barpolar\":[{\"marker\":{\"line\":{\"color\":\"#E5ECF6\",\"width\":0.5},\"pattern\":{\"fillmode\":\"overlay\",\"size\":10,\"solidity\":0.2}},\"type\":\"barpolar\"}],\"carpet\":[{\"aaxis\":{\"endlinecolor\":\"#2a3f5f\",\"gridcolor\":\"white\",\"linecolor\":\"white\",\"minorgridcolor\":\"white\",\"startlinecolor\":\"#2a3f5f\"},\"baxis\":{\"endlinecolor\":\"#2a3f5f\",\"gridcolor\":\"white\",\"linecolor\":\"white\",\"minorgridcolor\":\"white\",\"startlinecolor\":\"#2a3f5f\"},\"type\":\"carpet\"}],\"choropleth\":[{\"colorbar\":{\"outlinewidth\":0,\"ticks\":\"\"},\"type\":\"choropleth\"}],\"contour\":[{\"colorbar\":{\"outlinewidth\":0,\"ticks\":\"\"},\"colorscale\":[[0.0,\"#0d0887\"],[0.1111111111111111,\"#46039f\"],[0.2222222222222222,\"#7201a8\"],[0.3333333333333333,\"#9c179e\"],[0.4444444444444444,\"#bd3786\"],[0.5555555555555556,\"#d8576b\"],[0.6666666666666666,\"#ed7953\"],[0.7777777777777778,\"#fb9f3a\"],[0.8888888888888888,\"#fdca26\"],[1.0,\"#f0f921\"]],\"type\":\"contour\"}],\"contourcarpet\":[{\"colorbar\":{\"outlinewidth\":0,\"ticks\":\"\"},\"type\":\"contourcarpet\"}],\"heatmap\":[{\"colorbar\":{\"outlinewidth\":0,\"ticks\":\"\"},\"colorscale\":[[0.0,\"#0d0887\"],[0.1111111111111111,\"#46039f\"],[0.2222222222222222,\"#7201a8\"],[0.3333333333333333,\"#9c179e\"],[0.4444444444444444,\"#bd3786\"],[0.5555555555555556,\"#d8576b\"],[0.6666666666666666,\"#ed7953\"],[0.7777777777777778,\"#fb9f3a\"],[0.8888888888888888,\"#fdca26\"],[1.0,\"#f0f921\"]],\"type\":\"heatmap\"}],\"heatmapgl\":[{\"colorbar\":{\"outlinewidth\":0,\"ticks\":\"\"},\"colorscale\":[[0.0,\"#0d0887\"],[0.1111111111111111,\"#46039f\"],[0.2222222222222222,\"#7201a8\"],[0.3333333333333333,\"#9c179e\"],[0.4444444444444444,\"#bd3786\"],[0.5555555555555556,\"#d8576b\"],[0.6666666666666666,\"#ed7953\"],[0.7777777777777778,\"#fb9f3a\"],[0.8888888888888888,\"#fdca26\"],[1.0,\"#f0f921\"]],\"type\":\"heatmapgl\"}],\"histogram\":[{\"marker\":{\"pattern\":{\"fillmode\":\"overlay\",\"size\":10,\"solidity\":0.2}},\"type\":\"histogram\"}],\"histogram2d\":[{\"colorbar\":{\"outlinewidth\":0,\"ticks\":\"\"},\"colorscale\":[[0.0,\"#0d0887\"],[0.1111111111111111,\"#46039f\"],[0.2222222222222222,\"#7201a8\"],[0.3333333333333333,\"#9c179e\"],[0.4444444444444444,\"#bd3786\"],[0.5555555555555556,\"#d8576b\"],[0.6666666666666666,\"#ed7953\"],[0.7777777777777778,\"#fb9f3a\"],[0.8888888888888888,\"#fdca26\"],[1.0,\"#f0f921\"]],\"type\":\"histogram2d\"}],\"histogram2dcontour\":[{\"colorbar\":{\"outlinewidth\":0,\"ticks\":\"\"},\"colorscale\":[[0.0,\"#0d0887\"],[0.1111111111111111,\"#46039f\"],[0.2222222222222222,\"#7201a8\"],[0.3333333333333333,\"#9c179e\"],[0.4444444444444444,\"#bd3786\"],[0.5555555555555556,\"#d8576b\"],[0.6666666666666666,\"#ed7953\"],[0.7777777777777778,\"#fb9f3a\"],[0.8888888888888888,\"#fdca26\"],[1.0,\"#f0f921\"]],\"type\":\"histogram2dcontour\"}],\"mesh3d\":[{\"colorbar\":{\"outlinewidth\":0,\"ticks\":\"\"},\"type\":\"mesh3d\"}],\"parcoords\":[{\"line\":{\"colorbar\":{\"outlinewidth\":0,\"ticks\":\"\"}},\"type\":\"parcoords\"}],\"pie\":[{\"automargin\":true,\"type\":\"pie\"}],\"scatter\":[{\"marker\":{\"colorbar\":{\"outlinewidth\":0,\"ticks\":\"\"}},\"type\":\"scatter\"}],\"scatter3d\":[{\"line\":{\"colorbar\":{\"outlinewidth\":0,\"ticks\":\"\"}},\"marker\":{\"colorbar\":{\"outlinewidth\":0,\"ticks\":\"\"}},\"type\":\"scatter3d\"}],\"scattercarpet\":[{\"marker\":{\"colorbar\":{\"outlinewidth\":0,\"ticks\":\"\"}},\"type\":\"scattercarpet\"}],\"scattergeo\":[{\"marker\":{\"colorbar\":{\"outlinewidth\":0,\"ticks\":\"\"}},\"type\":\"scattergeo\"}],\"scattergl\":[{\"marker\":{\"colorbar\":{\"outlinewidth\":0,\"ticks\":\"\"}},\"type\":\"scattergl\"}],\"scattermapbox\":[{\"marker\":{\"colorbar\":{\"outlinewidth\":0,\"ticks\":\"\"}},\"type\":\"scattermapbox\"}],\"scatterpolar\":[{\"marker\":{\"colorbar\":{\"outlinewidth\":0,\"ticks\":\"\"}},\"type\":\"scatterpolar\"}],\"scatterpolargl\":[{\"marker\":{\"colorbar\":{\"outlinewidth\":0,\"ticks\":\"\"}},\"type\":\"scatterpolargl\"}],\"scatterternary\":[{\"marker\":{\"colorbar\":{\"outlinewidth\":0,\"ticks\":\"\"}},\"type\":\"scatterternary\"}],\"surface\":[{\"colorbar\":{\"outlinewidth\":0,\"ticks\":\"\"},\"colorscale\":[[0.0,\"#0d0887\"],[0.1111111111111111,\"#46039f\"],[0.2222222222222222,\"#7201a8\"],[0.3333333333333333,\"#9c179e\"],[0.4444444444444444,\"#bd3786\"],[0.5555555555555556,\"#d8576b\"],[0.6666666666666666,\"#ed7953\"],[0.7777777777777778,\"#fb9f3a\"],[0.8888888888888888,\"#fdca26\"],[1.0,\"#f0f921\"]],\"type\":\"surface\"}],\"table\":[{\"cells\":{\"fill\":{\"color\":\"#EBF0F8\"},\"line\":{\"color\":\"white\"}},\"header\":{\"fill\":{\"color\":\"#C8D4E3\"},\"line\":{\"color\":\"white\"}},\"type\":\"table\"}]},\"layout\":{\"annotationdefaults\":{\"arrowcolor\":\"#2a3f5f\",\"arrowhead\":0,\"arrowwidth\":1},\"autotypenumbers\":\"strict\",\"coloraxis\":{\"colorbar\":{\"outlinewidth\":0,\"ticks\":\"\"}},\"colorscale\":{\"diverging\":[[0,\"#8e0152\"],[0.1,\"#c51b7d\"],[0.2,\"#de77ae\"],[0.3,\"#f1b6da\"],[0.4,\"#fde0ef\"],[0.5,\"#f7f7f7\"],[0.6,\"#e6f5d0\"],[0.7,\"#b8e186\"],[0.8,\"#7fbc41\"],[0.9,\"#4d9221\"],[1,\"#276419\"]],\"sequential\":[[0.0,\"#0d0887\"],[0.1111111111111111,\"#46039f\"],[0.2222222222222222,\"#7201a8\"],[0.3333333333333333,\"#9c179e\"],[0.4444444444444444,\"#bd3786\"],[0.5555555555555556,\"#d8576b\"],[0.6666666666666666,\"#ed7953\"],[0.7777777777777778,\"#fb9f3a\"],[0.8888888888888888,\"#fdca26\"],[1.0,\"#f0f921\"]],\"sequentialminus\":[[0.0,\"#0d0887\"],[0.1111111111111111,\"#46039f\"],[0.2222222222222222,\"#7201a8\"],[0.3333333333333333,\"#9c179e\"],[0.4444444444444444,\"#bd3786\"],[0.5555555555555556,\"#d8576b\"],[0.6666666666666666,\"#ed7953\"],[0.7777777777777778,\"#fb9f3a\"],[0.8888888888888888,\"#fdca26\"],[1.0,\"#f0f921\"]]},\"colorway\":[\"#636efa\",\"#EF553B\",\"#00cc96\",\"#ab63fa\",\"#FFA15A\",\"#19d3f3\",\"#FF6692\",\"#B6E880\",\"#FF97FF\",\"#FECB52\"],\"font\":{\"color\":\"#2a3f5f\"},\"geo\":{\"bgcolor\":\"white\",\"lakecolor\":\"white\",\"landcolor\":\"#E5ECF6\",\"showlakes\":true,\"showland\":true,\"subunitcolor\":\"white\"},\"hoverlabel\":{\"align\":\"left\"},\"hovermode\":\"closest\",\"mapbox\":{\"style\":\"light\"},\"paper_bgcolor\":\"white\",\"plot_bgcolor\":\"#E5ECF6\",\"polar\":{\"angularaxis\":{\"gridcolor\":\"white\",\"linecolor\":\"white\",\"ticks\":\"\"},\"bgcolor\":\"#E5ECF6\",\"radialaxis\":{\"gridcolor\":\"white\",\"linecolor\":\"white\",\"ticks\":\"\"}},\"scene\":{\"xaxis\":{\"backgroundcolor\":\"#E5ECF6\",\"gridcolor\":\"white\",\"gridwidth\":2,\"linecolor\":\"white\",\"showbackground\":true,\"ticks\":\"\",\"zerolinecolor\":\"white\"},\"yaxis\":{\"backgroundcolor\":\"#E5ECF6\",\"gridcolor\":\"white\",\"gridwidth\":2,\"linecolor\":\"white\",\"showbackground\":true,\"ticks\":\"\",\"zerolinecolor\":\"white\"},\"zaxis\":{\"backgroundcolor\":\"#E5ECF6\",\"gridcolor\":\"white\",\"gridwidth\":2,\"linecolor\":\"white\",\"showbackground\":true,\"ticks\":\"\",\"zerolinecolor\":\"white\"}},\"shapedefaults\":{\"line\":{\"color\":\"#2a3f5f\"}},\"ternary\":{\"aaxis\":{\"gridcolor\":\"white\",\"linecolor\":\"white\",\"ticks\":\"\"},\"baxis\":{\"gridcolor\":\"white\",\"linecolor\":\"white\",\"ticks\":\"\"},\"bgcolor\":\"#E5ECF6\",\"caxis\":{\"gridcolor\":\"white\",\"linecolor\":\"white\",\"ticks\":\"\"}},\"title\":{\"x\":0.05},\"xaxis\":{\"automargin\":true,\"gridcolor\":\"white\",\"linecolor\":\"white\",\"ticks\":\"\",\"title\":{\"standoff\":15},\"zerolinecolor\":\"white\",\"zerolinewidth\":2},\"yaxis\":{\"automargin\":true,\"gridcolor\":\"white\",\"linecolor\":\"white\",\"ticks\":\"\",\"title\":{\"standoff\":15},\"zerolinecolor\":\"white\",\"zerolinewidth\":2}}},\"xaxis\":{\"anchor\":\"y\",\"domain\":[0.0,1.0],\"title\":{\"text\":\"\\u0412\\u0441\\u0435 \\u043f\\u043e\\u043b\\u044c\\u0437\\u043e\\u0432\\u0430\\u0442\\u0435\\u043b\\u0438\"}},\"yaxis\":{\"anchor\":\"x\",\"domain\":[0.0,1.0],\"title\":{\"text\":\"\\u0421\\u043e\\u0431\\u044b\\u0442\\u0438\\u0439\"}},\"legend\":{\"tracegroupgap\":0},\"margin\":{\"t\":60},\"boxmode\":\"group\",\"height\":400,\"title\":{\"text\":\"\\u0421\\u043e\\u0431\\u044b\\u0442\\u0438\\u0439 \\u043d\\u0430 \\u043f\\u043e\\u043b\\u044c\\u0437\\u043e\\u0432\\u0430\\u0442\\u0435\\u043b\\u044f\"}},                        {\"responsive\": true}                    ).then(function(){\n",
              "                            \n",
              "var gd = document.getElementById('ac592ebd-4c3c-4e65-86c2-1af5cf2ff973');\n",
              "var x = new MutationObserver(function (mutations, observer) {{\n",
              "        var display = window.getComputedStyle(gd).display;\n",
              "        if (!display || display === 'none') {{\n",
              "            console.log([gd, 'removed!']);\n",
              "            Plotly.purge(gd);\n",
              "            observer.disconnect();\n",
              "        }}\n",
              "}});\n",
              "\n",
              "// Listen for the removal of the full notebook cells\n",
              "var notebookContainer = gd.closest('#notebook-container');\n",
              "if (notebookContainer) {{\n",
              "    x.observe(notebookContainer, {childList: true});\n",
              "}}\n",
              "\n",
              "// Listen for the clearing of the current output cell\n",
              "var outputEl = gd.closest('.output');\n",
              "if (outputEl) {{\n",
              "    x.observe(outputEl, {childList: true});\n",
              "}}\n",
              "\n",
              "                        })                };                            </script>        </div>\n",
              "</body>\n",
              "</html>"
            ]
          },
          "metadata": {}
        }
      ],
      "source": [
        "fig = px.box(log_users['event_dt'],  height=400,)\n",
        "fig.update_layout(title='Событий на пользователя',\n",
        "                   xaxis_title='Все пользователи',\n",
        "                   yaxis_title='Событий',\n",
        "                   )\n",
        "fig.show();"
      ]
    },
    {
      "cell_type": "code",
      "execution_count": null,
      "metadata": {
        "colab": {
          "base_uri": "https://localhost:8080/",
          "height": 417
        },
        "id": "ZwjrIZoJaoCs",
        "outputId": "f58a0884-f50d-4576-8527-d1312cba520e"
      },
      "outputs": [
        {
          "output_type": "display_data",
          "data": {
            "text/html": [
              "<html>\n",
              "<head><meta charset=\"utf-8\" /></head>\n",
              "<body>\n",
              "    <div>            <script src=\"https://cdnjs.cloudflare.com/ajax/libs/mathjax/2.7.5/MathJax.js?config=TeX-AMS-MML_SVG\"></script><script type=\"text/javascript\">if (window.MathJax) {MathJax.Hub.Config({SVG: {font: \"STIX-Web\"}});}</script>                <script type=\"text/javascript\">window.PlotlyConfig = {MathJaxConfig: 'local'};</script>\n",
              "        <script src=\"https://cdn.plot.ly/plotly-2.8.3.min.js\"></script>                <div id=\"8ad3e6dd-7977-402d-8017-49c4132ba98b\" class=\"plotly-graph-div\" style=\"height:400px; width:100%;\"></div>            <script type=\"text/javascript\">                                    window.PLOTLYENV=window.PLOTLYENV || {};                                    if (document.getElementById(\"8ad3e6dd-7977-402d-8017-49c4132ba98b\")) {                    Plotly.newPlot(                        \"8ad3e6dd-7977-402d-8017-49c4132ba98b\",                        [{\"alignmentgroup\":\"True\",\"hovertemplate\":\"variable=%{x}<br>value=%{y}<extra></extra>\",\"legendgroup\":\"\",\"marker\":{\"color\":\"#636efa\"},\"name\":\"\",\"notched\":false,\"offsetgroup\":\"\",\"orientation\":\"v\",\"showlegend\":false,\"x\":[\"event_dt\",\"event_dt\",\"event_dt\",\"event_dt\",\"event_dt\",\"event_dt\",\"event_dt\",\"event_dt\",\"event_dt\",\"event_dt\",\"event_dt\",\"event_dt\",\"event_dt\",\"event_dt\",\"event_dt\",\"event_dt\",\"event_dt\",\"event_dt\",\"event_dt\",\"event_dt\",\"event_dt\",\"event_dt\",\"event_dt\",\"event_dt\",\"event_dt\",\"event_dt\",\"event_dt\",\"event_dt\",\"event_dt\",\"event_dt\",\"event_dt\",\"event_dt\",\"event_dt\",\"event_dt\",\"event_dt\",\"event_dt\",\"event_dt\",\"event_dt\",\"event_dt\",\"event_dt\",\"event_dt\",\"event_dt\",\"event_dt\",\"event_dt\",\"event_dt\",\"event_dt\",\"event_dt\",\"event_dt\",\"event_dt\",\"event_dt\",\"event_dt\",\"event_dt\",\"event_dt\",\"event_dt\",\"event_dt\",\"event_dt\",\"event_dt\",\"event_dt\",\"event_dt\",\"event_dt\",\"event_dt\",\"event_dt\",\"event_dt\",\"event_dt\",\"event_dt\",\"event_dt\",\"event_dt\",\"event_dt\",\"event_dt\",\"event_dt\",\"event_dt\",\"event_dt\",\"event_dt\",\"event_dt\",\"event_dt\",\"event_dt\",\"event_dt\",\"event_dt\",\"event_dt\",\"event_dt\",\"event_dt\",\"event_dt\",\"event_dt\",\"event_dt\",\"event_dt\",\"event_dt\",\"event_dt\",\"event_dt\",\"event_dt\",\"event_dt\",\"event_dt\",\"event_dt\",\"event_dt\",\"event_dt\",\"event_dt\",\"event_dt\",\"event_dt\",\"event_dt\",\"event_dt\",\"event_dt\",\"event_dt\",\"event_dt\",\"event_dt\",\"event_dt\",\"event_dt\",\"event_dt\",\"event_dt\",\"event_dt\",\"event_dt\",\"event_dt\",\"event_dt\",\"event_dt\",\"event_dt\",\"event_dt\",\"event_dt\",\"event_dt\",\"event_dt\",\"event_dt\",\"event_dt\",\"event_dt\",\"event_dt\",\"event_dt\",\"event_dt\",\"event_dt\",\"event_dt\",\"event_dt\",\"event_dt\",\"event_dt\",\"event_dt\",\"event_dt\",\"event_dt\",\"event_dt\",\"event_dt\",\"event_dt\",\"event_dt\",\"event_dt\",\"event_dt\",\"event_dt\",\"event_dt\",\"event_dt\",\"event_dt\",\"event_dt\",\"event_dt\",\"event_dt\",\"event_dt\",\"event_dt\",\"event_dt\",\"event_dt\",\"event_dt\",\"event_dt\",\"event_dt\",\"event_dt\",\"event_dt\",\"event_dt\",\"event_dt\",\"event_dt\",\"event_dt\",\"event_dt\",\"event_dt\",\"event_dt\",\"event_dt\",\"event_dt\",\"event_dt\",\"event_dt\",\"event_dt\",\"event_dt\",\"event_dt\",\"event_dt\",\"event_dt\",\"event_dt\",\"event_dt\",\"event_dt\",\"event_dt\",\"event_dt\",\"event_dt\",\"event_dt\",\"event_dt\",\"event_dt\",\"event_dt\",\"event_dt\",\"event_dt\",\"event_dt\",\"event_dt\",\"event_dt\",\"event_dt\",\"event_dt\",\"event_dt\",\"event_dt\",\"event_dt\",\"event_dt\",\"event_dt\",\"event_dt\",\"event_dt\",\"event_dt\",\"event_dt\",\"event_dt\",\"event_dt\",\"event_dt\",\"event_dt\",\"event_dt\",\"event_dt\",\"event_dt\",\"event_dt\",\"event_dt\",\"event_dt\",\"event_dt\",\"event_dt\",\"event_dt\",\"event_dt\",\"event_dt\",\"event_dt\",\"event_dt\",\"event_dt\",\"event_dt\",\"event_dt\",\"event_dt\",\"event_dt\",\"event_dt\",\"event_dt\",\"event_dt\",\"event_dt\",\"event_dt\",\"event_dt\",\"event_dt\",\"event_dt\",\"event_dt\",\"event_dt\",\"event_dt\",\"event_dt\",\"event_dt\",\"event_dt\",\"event_dt\",\"event_dt\",\"event_dt\",\"event_dt\",\"event_dt\",\"event_dt\",\"event_dt\",\"event_dt\",\"event_dt\",\"event_dt\",\"event_dt\",\"event_dt\",\"event_dt\",\"event_dt\",\"event_dt\",\"event_dt\",\"event_dt\",\"event_dt\",\"event_dt\",\"event_dt\",\"event_dt\",\"event_dt\",\"event_dt\",\"event_dt\",\"event_dt\",\"event_dt\",\"event_dt\",\"event_dt\",\"event_dt\",\"event_dt\",\"event_dt\",\"event_dt\",\"event_dt\",\"event_dt\",\"event_dt\",\"event_dt\",\"event_dt\",\"event_dt\",\"event_dt\",\"event_dt\",\"event_dt\",\"event_dt\",\"event_dt\",\"event_dt\",\"event_dt\",\"event_dt\",\"event_dt\",\"event_dt\",\"event_dt\",\"event_dt\",\"event_dt\",\"event_dt\",\"event_dt\",\"event_dt\",\"event_dt\",\"event_dt\",\"event_dt\",\"event_dt\",\"event_dt\",\"event_dt\",\"event_dt\",\"event_dt\",\"event_dt\",\"event_dt\",\"event_dt\",\"event_dt\",\"event_dt\",\"event_dt\",\"event_dt\",\"event_dt\",\"event_dt\",\"event_dt\",\"event_dt\",\"event_dt\",\"event_dt\",\"event_dt\",\"event_dt\",\"event_dt\",\"event_dt\",\"event_dt\",\"event_dt\",\"event_dt\",\"event_dt\",\"event_dt\",\"event_dt\",\"event_dt\",\"event_dt\",\"event_dt\",\"event_dt\",\"event_dt\",\"event_dt\",\"event_dt\",\"event_dt\",\"event_dt\",\"event_dt\",\"event_dt\",\"event_dt\",\"event_dt\",\"event_dt\",\"event_dt\",\"event_dt\",\"event_dt\",\"event_dt\",\"event_dt\",\"event_dt\",\"event_dt\",\"event_dt\",\"event_dt\",\"event_dt\",\"event_dt\",\"event_dt\",\"event_dt\",\"event_dt\",\"event_dt\",\"event_dt\",\"event_dt\",\"event_dt\",\"event_dt\",\"event_dt\",\"event_dt\",\"event_dt\",\"event_dt\",\"event_dt\",\"event_dt\",\"event_dt\",\"event_dt\",\"event_dt\",\"event_dt\",\"event_dt\",\"event_dt\",\"event_dt\",\"event_dt\",\"event_dt\",\"event_dt\",\"event_dt\",\"event_dt\",\"event_dt\",\"event_dt\",\"event_dt\",\"event_dt\",\"event_dt\",\"event_dt\",\"event_dt\",\"event_dt\",\"event_dt\",\"event_dt\",\"event_dt\",\"event_dt\",\"event_dt\",\"event_dt\",\"event_dt\",\"event_dt\",\"event_dt\",\"event_dt\",\"event_dt\",\"event_dt\",\"event_dt\",\"event_dt\",\"event_dt\",\"event_dt\",\"event_dt\",\"event_dt\",\"event_dt\",\"event_dt\",\"event_dt\",\"event_dt\",\"event_dt\",\"event_dt\",\"event_dt\",\"event_dt\",\"event_dt\",\"event_dt\",\"event_dt\",\"event_dt\",\"event_dt\",\"event_dt\",\"event_dt\",\"event_dt\",\"event_dt\",\"event_dt\",\"event_dt\",\"event_dt\",\"event_dt\",\"event_dt\",\"event_dt\",\"event_dt\",\"event_dt\",\"event_dt\",\"event_dt\",\"event_dt\",\"event_dt\",\"event_dt\",\"event_dt\",\"event_dt\",\"event_dt\",\"event_dt\",\"event_dt\",\"event_dt\",\"event_dt\",\"event_dt\",\"event_dt\",\"event_dt\",\"event_dt\",\"event_dt\",\"event_dt\",\"event_dt\",\"event_dt\",\"event_dt\",\"event_dt\",\"event_dt\",\"event_dt\",\"event_dt\",\"event_dt\",\"event_dt\",\"event_dt\",\"event_dt\",\"event_dt\",\"event_dt\",\"event_dt\",\"event_dt\",\"event_dt\",\"event_dt\",\"event_dt\",\"event_dt\",\"event_dt\",\"event_dt\",\"event_dt\",\"event_dt\",\"event_dt\",\"event_dt\",\"event_dt\",\"event_dt\",\"event_dt\",\"event_dt\",\"event_dt\",\"event_dt\",\"event_dt\",\"event_dt\",\"event_dt\",\"event_dt\",\"event_dt\",\"event_dt\",\"event_dt\",\"event_dt\",\"event_dt\",\"event_dt\",\"event_dt\",\"event_dt\",\"event_dt\",\"event_dt\",\"event_dt\",\"event_dt\",\"event_dt\",\"event_dt\",\"event_dt\",\"event_dt\",\"event_dt\",\"event_dt\",\"event_dt\",\"event_dt\",\"event_dt\",\"event_dt\",\"event_dt\",\"event_dt\",\"event_dt\",\"event_dt\",\"event_dt\",\"event_dt\",\"event_dt\",\"event_dt\",\"event_dt\",\"event_dt\",\"event_dt\",\"event_dt\",\"event_dt\",\"event_dt\",\"event_dt\",\"event_dt\",\"event_dt\",\"event_dt\",\"event_dt\",\"event_dt\",\"event_dt\",\"event_dt\",\"event_dt\",\"event_dt\",\"event_dt\",\"event_dt\",\"event_dt\",\"event_dt\",\"event_dt\",\"event_dt\",\"event_dt\",\"event_dt\",\"event_dt\",\"event_dt\",\"event_dt\",\"event_dt\",\"event_dt\",\"event_dt\",\"event_dt\",\"event_dt\",\"event_dt\",\"event_dt\",\"event_dt\",\"event_dt\",\"event_dt\",\"event_dt\",\"event_dt\",\"event_dt\",\"event_dt\",\"event_dt\",\"event_dt\",\"event_dt\",\"event_dt\",\"event_dt\",\"event_dt\",\"event_dt\",\"event_dt\",\"event_dt\",\"event_dt\",\"event_dt\",\"event_dt\",\"event_dt\",\"event_dt\",\"event_dt\",\"event_dt\",\"event_dt\",\"event_dt\",\"event_dt\",\"event_dt\",\"event_dt\",\"event_dt\",\"event_dt\",\"event_dt\",\"event_dt\",\"event_dt\",\"event_dt\",\"event_dt\",\"event_dt\",\"event_dt\",\"event_dt\",\"event_dt\",\"event_dt\",\"event_dt\",\"event_dt\",\"event_dt\",\"event_dt\",\"event_dt\",\"event_dt\",\"event_dt\",\"event_dt\",\"event_dt\",\"event_dt\",\"event_dt\",\"event_dt\",\"event_dt\",\"event_dt\",\"event_dt\",\"event_dt\",\"event_dt\",\"event_dt\",\"event_dt\",\"event_dt\",\"event_dt\",\"event_dt\",\"event_dt\",\"event_dt\",\"event_dt\",\"event_dt\",\"event_dt\",\"event_dt\",\"event_dt\",\"event_dt\",\"event_dt\",\"event_dt\",\"event_dt\",\"event_dt\",\"event_dt\",\"event_dt\",\"event_dt\",\"event_dt\",\"event_dt\",\"event_dt\",\"event_dt\",\"event_dt\",\"event_dt\",\"event_dt\",\"event_dt\",\"event_dt\",\"event_dt\",\"event_dt\",\"event_dt\",\"event_dt\",\"event_dt\",\"event_dt\",\"event_dt\",\"event_dt\",\"event_dt\",\"event_dt\",\"event_dt\",\"event_dt\",\"event_dt\",\"event_dt\",\"event_dt\",\"event_dt\",\"event_dt\",\"event_dt\",\"event_dt\",\"event_dt\",\"event_dt\",\"event_dt\",\"event_dt\",\"event_dt\",\"event_dt\",\"event_dt\",\"event_dt\",\"event_dt\",\"event_dt\",\"event_dt\",\"event_dt\",\"event_dt\",\"event_dt\",\"event_dt\",\"event_dt\",\"event_dt\",\"event_dt\",\"event_dt\",\"event_dt\",\"event_dt\",\"event_dt\",\"event_dt\",\"event_dt\",\"event_dt\",\"event_dt\",\"event_dt\",\"event_dt\",\"event_dt\",\"event_dt\",\"event_dt\",\"event_dt\",\"event_dt\",\"event_dt\",\"event_dt\",\"event_dt\",\"event_dt\",\"event_dt\",\"event_dt\",\"event_dt\",\"event_dt\",\"event_dt\",\"event_dt\",\"event_dt\",\"event_dt\",\"event_dt\",\"event_dt\",\"event_dt\",\"event_dt\",\"event_dt\",\"event_dt\",\"event_dt\",\"event_dt\",\"event_dt\",\"event_dt\",\"event_dt\",\"event_dt\",\"event_dt\",\"event_dt\",\"event_dt\",\"event_dt\",\"event_dt\",\"event_dt\",\"event_dt\",\"event_dt\",\"event_dt\",\"event_dt\",\"event_dt\",\"event_dt\",\"event_dt\",\"event_dt\",\"event_dt\",\"event_dt\",\"event_dt\",\"event_dt\",\"event_dt\",\"event_dt\",\"event_dt\",\"event_dt\",\"event_dt\",\"event_dt\",\"event_dt\",\"event_dt\",\"event_dt\",\"event_dt\",\"event_dt\",\"event_dt\",\"event_dt\",\"event_dt\",\"event_dt\",\"event_dt\",\"event_dt\",\"event_dt\",\"event_dt\",\"event_dt\",\"event_dt\",\"event_dt\",\"event_dt\",\"event_dt\",\"event_dt\",\"event_dt\",\"event_dt\",\"event_dt\",\"event_dt\",\"event_dt\",\"event_dt\",\"event_dt\",\"event_dt\",\"event_dt\",\"event_dt\",\"event_dt\",\"event_dt\",\"event_dt\",\"event_dt\",\"event_dt\",\"event_dt\",\"event_dt\",\"event_dt\",\"event_dt\",\"event_dt\",\"event_dt\",\"event_dt\",\"event_dt\",\"event_dt\",\"event_dt\",\"event_dt\",\"event_dt\",\"event_dt\",\"event_dt\",\"event_dt\",\"event_dt\",\"event_dt\",\"event_dt\",\"event_dt\",\"event_dt\",\"event_dt\",\"event_dt\",\"event_dt\",\"event_dt\",\"event_dt\",\"event_dt\",\"event_dt\",\"event_dt\",\"event_dt\",\"event_dt\",\"event_dt\",\"event_dt\",\"event_dt\",\"event_dt\",\"event_dt\",\"event_dt\",\"event_dt\",\"event_dt\",\"event_dt\",\"event_dt\",\"event_dt\",\"event_dt\",\"event_dt\",\"event_dt\",\"event_dt\",\"event_dt\",\"event_dt\",\"event_dt\",\"event_dt\",\"event_dt\",\"event_dt\",\"event_dt\",\"event_dt\",\"event_dt\",\"event_dt\",\"event_dt\",\"event_dt\",\"event_dt\",\"event_dt\",\"event_dt\",\"event_dt\",\"event_dt\",\"event_dt\",\"event_dt\",\"event_dt\",\"event_dt\",\"event_dt\",\"event_dt\",\"event_dt\",\"event_dt\",\"event_dt\",\"event_dt\",\"event_dt\",\"event_dt\",\"event_dt\",\"event_dt\",\"event_dt\",\"event_dt\",\"event_dt\",\"event_dt\",\"event_dt\",\"event_dt\",\"event_dt\",\"event_dt\",\"event_dt\",\"event_dt\",\"event_dt\",\"event_dt\",\"event_dt\",\"event_dt\",\"event_dt\",\"event_dt\",\"event_dt\",\"event_dt\",\"event_dt\",\"event_dt\",\"event_dt\",\"event_dt\",\"event_dt\",\"event_dt\",\"event_dt\",\"event_dt\",\"event_dt\",\"event_dt\",\"event_dt\",\"event_dt\",\"event_dt\",\"event_dt\",\"event_dt\",\"event_dt\",\"event_dt\",\"event_dt\",\"event_dt\",\"event_dt\",\"event_dt\",\"event_dt\",\"event_dt\",\"event_dt\",\"event_dt\",\"event_dt\",\"event_dt\",\"event_dt\",\"event_dt\",\"event_dt\",\"event_dt\",\"event_dt\",\"event_dt\",\"event_dt\",\"event_dt\",\"event_dt\",\"event_dt\",\"event_dt\",\"event_dt\",\"event_dt\",\"event_dt\",\"event_dt\",\"event_dt\",\"event_dt\",\"event_dt\",\"event_dt\",\"event_dt\",\"event_dt\",\"event_dt\",\"event_dt\",\"event_dt\",\"event_dt\",\"event_dt\",\"event_dt\",\"event_dt\",\"event_dt\",\"event_dt\",\"event_dt\",\"event_dt\",\"event_dt\",\"event_dt\",\"event_dt\",\"event_dt\",\"event_dt\",\"event_dt\",\"event_dt\",\"event_dt\",\"event_dt\",\"event_dt\",\"event_dt\",\"event_dt\",\"event_dt\",\"event_dt\",\"event_dt\",\"event_dt\",\"event_dt\",\"event_dt\",\"event_dt\",\"event_dt\",\"event_dt\",\"event_dt\",\"event_dt\",\"event_dt\",\"event_dt\",\"event_dt\",\"event_dt\",\"event_dt\",\"event_dt\",\"event_dt\",\"event_dt\",\"event_dt\",\"event_dt\",\"event_dt\",\"event_dt\",\"event_dt\",\"event_dt\",\"event_dt\",\"event_dt\",\"event_dt\",\"event_dt\",\"event_dt\",\"event_dt\",\"event_dt\",\"event_dt\",\"event_dt\",\"event_dt\",\"event_dt\",\"event_dt\",\"event_dt\",\"event_dt\",\"event_dt\",\"event_dt\",\"event_dt\",\"event_dt\",\"event_dt\",\"event_dt\",\"event_dt\",\"event_dt\",\"event_dt\",\"event_dt\",\"event_dt\",\"event_dt\",\"event_dt\",\"event_dt\",\"event_dt\",\"event_dt\",\"event_dt\",\"event_dt\",\"event_dt\",\"event_dt\",\"event_dt\",\"event_dt\",\"event_dt\",\"event_dt\",\"event_dt\",\"event_dt\",\"event_dt\",\"event_dt\",\"event_dt\",\"event_dt\",\"event_dt\",\"event_dt\",\"event_dt\",\"event_dt\",\"event_dt\",\"event_dt\",\"event_dt\",\"event_dt\",\"event_dt\",\"event_dt\",\"event_dt\",\"event_dt\",\"event_dt\",\"event_dt\",\"event_dt\",\"event_dt\",\"event_dt\",\"event_dt\",\"event_dt\",\"event_dt\",\"event_dt\",\"event_dt\",\"event_dt\",\"event_dt\",\"event_dt\",\"event_dt\",\"event_dt\",\"event_dt\",\"event_dt\",\"event_dt\",\"event_dt\",\"event_dt\",\"event_dt\",\"event_dt\",\"event_dt\",\"event_dt\",\"event_dt\",\"event_dt\",\"event_dt\",\"event_dt\",\"event_dt\",\"event_dt\",\"event_dt\",\"event_dt\",\"event_dt\",\"event_dt\",\"event_dt\",\"event_dt\",\"event_dt\",\"event_dt\",\"event_dt\",\"event_dt\",\"event_dt\",\"event_dt\",\"event_dt\",\"event_dt\",\"event_dt\",\"event_dt\",\"event_dt\",\"event_dt\",\"event_dt\",\"event_dt\",\"event_dt\",\"event_dt\",\"event_dt\",\"event_dt\",\"event_dt\",\"event_dt\",\"event_dt\",\"event_dt\",\"event_dt\",\"event_dt\",\"event_dt\",\"event_dt\",\"event_dt\",\"event_dt\",\"event_dt\",\"event_dt\",\"event_dt\",\"event_dt\",\"event_dt\",\"event_dt\",\"event_dt\",\"event_dt\",\"event_dt\",\"event_dt\",\"event_dt\",\"event_dt\",\"event_dt\",\"event_dt\",\"event_dt\",\"event_dt\",\"event_dt\",\"event_dt\",\"event_dt\",\"event_dt\",\"event_dt\",\"event_dt\",\"event_dt\",\"event_dt\",\"event_dt\",\"event_dt\",\"event_dt\",\"event_dt\",\"event_dt\",\"event_dt\",\"event_dt\",\"event_dt\",\"event_dt\",\"event_dt\",\"event_dt\",\"event_dt\",\"event_dt\",\"event_dt\",\"event_dt\",\"event_dt\",\"event_dt\",\"event_dt\",\"event_dt\",\"event_dt\",\"event_dt\",\"event_dt\",\"event_dt\",\"event_dt\",\"event_dt\",\"event_dt\",\"event_dt\",\"event_dt\",\"event_dt\",\"event_dt\",\"event_dt\",\"event_dt\",\"event_dt\",\"event_dt\",\"event_dt\",\"event_dt\",\"event_dt\",\"event_dt\",\"event_dt\",\"event_dt\",\"event_dt\",\"event_dt\",\"event_dt\",\"event_dt\",\"event_dt\",\"event_dt\",\"event_dt\",\"event_dt\",\"event_dt\",\"event_dt\",\"event_dt\",\"event_dt\",\"event_dt\",\"event_dt\",\"event_dt\",\"event_dt\",\"event_dt\",\"event_dt\",\"event_dt\",\"event_dt\",\"event_dt\",\"event_dt\",\"event_dt\",\"event_dt\",\"event_dt\",\"event_dt\",\"event_dt\",\"event_dt\",\"event_dt\",\"event_dt\",\"event_dt\",\"event_dt\",\"event_dt\",\"event_dt\",\"event_dt\",\"event_dt\",\"event_dt\",\"event_dt\",\"event_dt\",\"event_dt\",\"event_dt\",\"event_dt\",\"event_dt\",\"event_dt\",\"event_dt\",\"event_dt\",\"event_dt\",\"event_dt\",\"event_dt\",\"event_dt\",\"event_dt\",\"event_dt\",\"event_dt\",\"event_dt\",\"event_dt\",\"event_dt\",\"event_dt\",\"event_dt\",\"event_dt\",\"event_dt\",\"event_dt\",\"event_dt\",\"event_dt\",\"event_dt\",\"event_dt\",\"event_dt\",\"event_dt\",\"event_dt\",\"event_dt\",\"event_dt\",\"event_dt\",\"event_dt\",\"event_dt\",\"event_dt\",\"event_dt\",\"event_dt\",\"event_dt\",\"event_dt\",\"event_dt\",\"event_dt\",\"event_dt\",\"event_dt\",\"event_dt\",\"event_dt\",\"event_dt\",\"event_dt\",\"event_dt\",\"event_dt\",\"event_dt\",\"event_dt\",\"event_dt\",\"event_dt\",\"event_dt\",\"event_dt\",\"event_dt\",\"event_dt\",\"event_dt\",\"event_dt\",\"event_dt\",\"event_dt\",\"event_dt\",\"event_dt\",\"event_dt\",\"event_dt\",\"event_dt\",\"event_dt\",\"event_dt\",\"event_dt\",\"event_dt\",\"event_dt\",\"event_dt\",\"event_dt\",\"event_dt\",\"event_dt\",\"event_dt\",\"event_dt\",\"event_dt\",\"event_dt\",\"event_dt\",\"event_dt\",\"event_dt\",\"event_dt\",\"event_dt\",\"event_dt\",\"event_dt\",\"event_dt\",\"event_dt\",\"event_dt\",\"event_dt\",\"event_dt\",\"event_dt\",\"event_dt\",\"event_dt\",\"event_dt\",\"event_dt\",\"event_dt\",\"event_dt\",\"event_dt\",\"event_dt\",\"event_dt\",\"event_dt\",\"event_dt\",\"event_dt\",\"event_dt\",\"event_dt\",\"event_dt\",\"event_dt\",\"event_dt\",\"event_dt\",\"event_dt\",\"event_dt\",\"event_dt\",\"event_dt\",\"event_dt\",\"event_dt\",\"event_dt\",\"event_dt\",\"event_dt\",\"event_dt\",\"event_dt\",\"event_dt\",\"event_dt\",\"event_dt\",\"event_dt\",\"event_dt\",\"event_dt\",\"event_dt\",\"event_dt\",\"event_dt\",\"event_dt\",\"event_dt\",\"event_dt\",\"event_dt\",\"event_dt\",\"event_dt\",\"event_dt\",\"event_dt\",\"event_dt\",\"event_dt\",\"event_dt\",\"event_dt\",\"event_dt\",\"event_dt\",\"event_dt\",\"event_dt\",\"event_dt\",\"event_dt\",\"event_dt\",\"event_dt\",\"event_dt\",\"event_dt\",\"event_dt\",\"event_dt\",\"event_dt\",\"event_dt\",\"event_dt\",\"event_dt\",\"event_dt\",\"event_dt\",\"event_dt\",\"event_dt\",\"event_dt\",\"event_dt\",\"event_dt\",\"event_dt\",\"event_dt\",\"event_dt\",\"event_dt\",\"event_dt\",\"event_dt\",\"event_dt\",\"event_dt\",\"event_dt\",\"event_dt\",\"event_dt\",\"event_dt\",\"event_dt\",\"event_dt\",\"event_dt\",\"event_dt\",\"event_dt\",\"event_dt\",\"event_dt\",\"event_dt\",\"event_dt\",\"event_dt\",\"event_dt\",\"event_dt\",\"event_dt\",\"event_dt\",\"event_dt\",\"event_dt\",\"event_dt\",\"event_dt\",\"event_dt\",\"event_dt\",\"event_dt\",\"event_dt\",\"event_dt\",\"event_dt\",\"event_dt\",\"event_dt\",\"event_dt\",\"event_dt\",\"event_dt\",\"event_dt\",\"event_dt\",\"event_dt\",\"event_dt\",\"event_dt\",\"event_dt\",\"event_dt\",\"event_dt\",\"event_dt\",\"event_dt\",\"event_dt\",\"event_dt\",\"event_dt\",\"event_dt\",\"event_dt\",\"event_dt\",\"event_dt\",\"event_dt\",\"event_dt\",\"event_dt\",\"event_dt\",\"event_dt\",\"event_dt\",\"event_dt\",\"event_dt\",\"event_dt\",\"event_dt\",\"event_dt\",\"event_dt\",\"event_dt\",\"event_dt\",\"event_dt\",\"event_dt\",\"event_dt\",\"event_dt\",\"event_dt\",\"event_dt\",\"event_dt\",\"event_dt\",\"event_dt\",\"event_dt\",\"event_dt\",\"event_dt\",\"event_dt\",\"event_dt\",\"event_dt\",\"event_dt\",\"event_dt\",\"event_dt\",\"event_dt\",\"event_dt\",\"event_dt\",\"event_dt\",\"event_dt\",\"event_dt\",\"event_dt\",\"event_dt\",\"event_dt\",\"event_dt\",\"event_dt\",\"event_dt\",\"event_dt\",\"event_dt\",\"event_dt\",\"event_dt\",\"event_dt\",\"event_dt\",\"event_dt\",\"event_dt\",\"event_dt\",\"event_dt\",\"event_dt\",\"event_dt\",\"event_dt\",\"event_dt\",\"event_dt\",\"event_dt\",\"event_dt\",\"event_dt\",\"event_dt\",\"event_dt\",\"event_dt\",\"event_dt\",\"event_dt\",\"event_dt\",\"event_dt\",\"event_dt\",\"event_dt\",\"event_dt\",\"event_dt\",\"event_dt\",\"event_dt\",\"event_dt\",\"event_dt\",\"event_dt\",\"event_dt\",\"event_dt\",\"event_dt\",\"event_dt\",\"event_dt\",\"event_dt\",\"event_dt\",\"event_dt\",\"event_dt\",\"event_dt\",\"event_dt\",\"event_dt\",\"event_dt\",\"event_dt\",\"event_dt\",\"event_dt\",\"event_dt\",\"event_dt\",\"event_dt\",\"event_dt\",\"event_dt\",\"event_dt\",\"event_dt\",\"event_dt\",\"event_dt\",\"event_dt\",\"event_dt\",\"event_dt\",\"event_dt\",\"event_dt\",\"event_dt\",\"event_dt\",\"event_dt\",\"event_dt\",\"event_dt\",\"event_dt\",\"event_dt\",\"event_dt\",\"event_dt\",\"event_dt\",\"event_dt\",\"event_dt\",\"event_dt\",\"event_dt\",\"event_dt\",\"event_dt\",\"event_dt\",\"event_dt\",\"event_dt\",\"event_dt\",\"event_dt\",\"event_dt\",\"event_dt\",\"event_dt\",\"event_dt\",\"event_dt\",\"event_dt\",\"event_dt\",\"event_dt\",\"event_dt\",\"event_dt\",\"event_dt\",\"event_dt\",\"event_dt\",\"event_dt\",\"event_dt\",\"event_dt\",\"event_dt\",\"event_dt\",\"event_dt\",\"event_dt\",\"event_dt\",\"event_dt\",\"event_dt\",\"event_dt\",\"event_dt\",\"event_dt\",\"event_dt\",\"event_dt\",\"event_dt\",\"event_dt\",\"event_dt\",\"event_dt\",\"event_dt\",\"event_dt\",\"event_dt\",\"event_dt\",\"event_dt\",\"event_dt\",\"event_dt\",\"event_dt\",\"event_dt\",\"event_dt\",\"event_dt\",\"event_dt\",\"event_dt\",\"event_dt\",\"event_dt\",\"event_dt\",\"event_dt\",\"event_dt\",\"event_dt\",\"event_dt\",\"event_dt\",\"event_dt\",\"event_dt\",\"event_dt\",\"event_dt\",\"event_dt\",\"event_dt\",\"event_dt\",\"event_dt\",\"event_dt\",\"event_dt\",\"event_dt\",\"event_dt\",\"event_dt\",\"event_dt\",\"event_dt\",\"event_dt\",\"event_dt\",\"event_dt\",\"event_dt\",\"event_dt\",\"event_dt\",\"event_dt\",\"event_dt\",\"event_dt\",\"event_dt\",\"event_dt\",\"event_dt\",\"event_dt\",\"event_dt\",\"event_dt\",\"event_dt\",\"event_dt\",\"event_dt\",\"event_dt\",\"event_dt\",\"event_dt\",\"event_dt\",\"event_dt\",\"event_dt\",\"event_dt\",\"event_dt\",\"event_dt\",\"event_dt\",\"event_dt\",\"event_dt\",\"event_dt\",\"event_dt\",\"event_dt\",\"event_dt\",\"event_dt\",\"event_dt\",\"event_dt\",\"event_dt\",\"event_dt\",\"event_dt\",\"event_dt\",\"event_dt\",\"event_dt\",\"event_dt\",\"event_dt\",\"event_dt\",\"event_dt\",\"event_dt\",\"event_dt\",\"event_dt\",\"event_dt\",\"event_dt\",\"event_dt\",\"event_dt\",\"event_dt\",\"event_dt\",\"event_dt\",\"event_dt\",\"event_dt\",\"event_dt\",\"event_dt\",\"event_dt\",\"event_dt\",\"event_dt\",\"event_dt\",\"event_dt\",\"event_dt\",\"event_dt\",\"event_dt\",\"event_dt\",\"event_dt\",\"event_dt\",\"event_dt\",\"event_dt\",\"event_dt\",\"event_dt\",\"event_dt\",\"event_dt\",\"event_dt\",\"event_dt\",\"event_dt\",\"event_dt\",\"event_dt\",\"event_dt\",\"event_dt\",\"event_dt\",\"event_dt\",\"event_dt\",\"event_dt\",\"event_dt\",\"event_dt\",\"event_dt\",\"event_dt\",\"event_dt\",\"event_dt\",\"event_dt\",\"event_dt\",\"event_dt\",\"event_dt\",\"event_dt\",\"event_dt\",\"event_dt\",\"event_dt\",\"event_dt\",\"event_dt\",\"event_dt\",\"event_dt\",\"event_dt\",\"event_dt\",\"event_dt\",\"event_dt\",\"event_dt\",\"event_dt\",\"event_dt\",\"event_dt\",\"event_dt\",\"event_dt\",\"event_dt\",\"event_dt\",\"event_dt\",\"event_dt\",\"event_dt\",\"event_dt\",\"event_dt\",\"event_dt\",\"event_dt\",\"event_dt\",\"event_dt\",\"event_dt\",\"event_dt\",\"event_dt\",\"event_dt\",\"event_dt\",\"event_dt\",\"event_dt\",\"event_dt\",\"event_dt\",\"event_dt\",\"event_dt\",\"event_dt\",\"event_dt\",\"event_dt\",\"event_dt\",\"event_dt\",\"event_dt\",\"event_dt\",\"event_dt\",\"event_dt\",\"event_dt\",\"event_dt\",\"event_dt\",\"event_dt\",\"event_dt\",\"event_dt\",\"event_dt\",\"event_dt\",\"event_dt\",\"event_dt\",\"event_dt\",\"event_dt\",\"event_dt\",\"event_dt\",\"event_dt\",\"event_dt\",\"event_dt\",\"event_dt\",\"event_dt\",\"event_dt\",\"event_dt\",\"event_dt\",\"event_dt\",\"event_dt\",\"event_dt\",\"event_dt\",\"event_dt\",\"event_dt\",\"event_dt\",\"event_dt\",\"event_dt\",\"event_dt\",\"event_dt\",\"event_dt\",\"event_dt\",\"event_dt\",\"event_dt\",\"event_dt\",\"event_dt\",\"event_dt\",\"event_dt\",\"event_dt\",\"event_dt\",\"event_dt\",\"event_dt\",\"event_dt\",\"event_dt\",\"event_dt\",\"event_dt\",\"event_dt\",\"event_dt\",\"event_dt\",\"event_dt\",\"event_dt\",\"event_dt\",\"event_dt\",\"event_dt\",\"event_dt\",\"event_dt\",\"event_dt\",\"event_dt\",\"event_dt\",\"event_dt\",\"event_dt\",\"event_dt\",\"event_dt\",\"event_dt\",\"event_dt\",\"event_dt\",\"event_dt\",\"event_dt\",\"event_dt\",\"event_dt\",\"event_dt\",\"event_dt\",\"event_dt\",\"event_dt\",\"event_dt\",\"event_dt\",\"event_dt\",\"event_dt\",\"event_dt\",\"event_dt\",\"event_dt\",\"event_dt\",\"event_dt\",\"event_dt\",\"event_dt\",\"event_dt\",\"event_dt\",\"event_dt\",\"event_dt\",\"event_dt\",\"event_dt\",\"event_dt\",\"event_dt\",\"event_dt\",\"event_dt\",\"event_dt\",\"event_dt\",\"event_dt\",\"event_dt\",\"event_dt\",\"event_dt\",\"event_dt\",\"event_dt\",\"event_dt\",\"event_dt\",\"event_dt\",\"event_dt\",\"event_dt\",\"event_dt\",\"event_dt\",\"event_dt\",\"event_dt\",\"event_dt\",\"event_dt\",\"event_dt\",\"event_dt\",\"event_dt\",\"event_dt\",\"event_dt\",\"event_dt\",\"event_dt\",\"event_dt\",\"event_dt\",\"event_dt\",\"event_dt\",\"event_dt\",\"event_dt\",\"event_dt\",\"event_dt\",\"event_dt\",\"event_dt\",\"event_dt\",\"event_dt\",\"event_dt\",\"event_dt\",\"event_dt\",\"event_dt\",\"event_dt\",\"event_dt\",\"event_dt\",\"event_dt\",\"event_dt\",\"event_dt\",\"event_dt\",\"event_dt\",\"event_dt\",\"event_dt\",\"event_dt\",\"event_dt\",\"event_dt\",\"event_dt\",\"event_dt\",\"event_dt\",\"event_dt\",\"event_dt\",\"event_dt\",\"event_dt\",\"event_dt\",\"event_dt\",\"event_dt\",\"event_dt\",\"event_dt\",\"event_dt\",\"event_dt\",\"event_dt\",\"event_dt\",\"event_dt\",\"event_dt\",\"event_dt\",\"event_dt\",\"event_dt\",\"event_dt\",\"event_dt\",\"event_dt\",\"event_dt\",\"event_dt\",\"event_dt\",\"event_dt\",\"event_dt\",\"event_dt\",\"event_dt\",\"event_dt\",\"event_dt\",\"event_dt\",\"event_dt\",\"event_dt\",\"event_dt\",\"event_dt\",\"event_dt\",\"event_dt\",\"event_dt\",\"event_dt\",\"event_dt\",\"event_dt\",\"event_dt\",\"event_dt\",\"event_dt\",\"event_dt\",\"event_dt\",\"event_dt\",\"event_dt\",\"event_dt\",\"event_dt\",\"event_dt\",\"event_dt\",\"event_dt\",\"event_dt\",\"event_dt\",\"event_dt\",\"event_dt\",\"event_dt\",\"event_dt\",\"event_dt\",\"event_dt\",\"event_dt\",\"event_dt\",\"event_dt\",\"event_dt\",\"event_dt\",\"event_dt\",\"event_dt\",\"event_dt\",\"event_dt\",\"event_dt\",\"event_dt\",\"event_dt\",\"event_dt\",\"event_dt\",\"event_dt\",\"event_dt\",\"event_dt\",\"event_dt\",\"event_dt\",\"event_dt\",\"event_dt\",\"event_dt\",\"event_dt\",\"event_dt\",\"event_dt\",\"event_dt\",\"event_dt\",\"event_dt\",\"event_dt\",\"event_dt\",\"event_dt\",\"event_dt\",\"event_dt\",\"event_dt\",\"event_dt\",\"event_dt\",\"event_dt\",\"event_dt\",\"event_dt\",\"event_dt\",\"event_dt\",\"event_dt\",\"event_dt\",\"event_dt\",\"event_dt\",\"event_dt\",\"event_dt\",\"event_dt\",\"event_dt\",\"event_dt\",\"event_dt\",\"event_dt\",\"event_dt\",\"event_dt\",\"event_dt\",\"event_dt\",\"event_dt\",\"event_dt\",\"event_dt\",\"event_dt\",\"event_dt\",\"event_dt\",\"event_dt\",\"event_dt\",\"event_dt\",\"event_dt\",\"event_dt\",\"event_dt\",\"event_dt\",\"event_dt\",\"event_dt\",\"event_dt\",\"event_dt\",\"event_dt\",\"event_dt\",\"event_dt\",\"event_dt\",\"event_dt\",\"event_dt\",\"event_dt\",\"event_dt\",\"event_dt\",\"event_dt\",\"event_dt\",\"event_dt\",\"event_dt\",\"event_dt\",\"event_dt\",\"event_dt\",\"event_dt\",\"event_dt\",\"event_dt\",\"event_dt\",\"event_dt\",\"event_dt\",\"event_dt\",\"event_dt\",\"event_dt\",\"event_dt\",\"event_dt\",\"event_dt\",\"event_dt\",\"event_dt\",\"event_dt\",\"event_dt\",\"event_dt\",\"event_dt\",\"event_dt\",\"event_dt\",\"event_dt\",\"event_dt\",\"event_dt\",\"event_dt\",\"event_dt\",\"event_dt\",\"event_dt\",\"event_dt\",\"event_dt\",\"event_dt\",\"event_dt\",\"event_dt\",\"event_dt\",\"event_dt\",\"event_dt\",\"event_dt\",\"event_dt\",\"event_dt\",\"event_dt\",\"event_dt\",\"event_dt\",\"event_dt\",\"event_dt\",\"event_dt\",\"event_dt\",\"event_dt\",\"event_dt\",\"event_dt\",\"event_dt\",\"event_dt\",\"event_dt\",\"event_dt\",\"event_dt\",\"event_dt\",\"event_dt\",\"event_dt\",\"event_dt\",\"event_dt\",\"event_dt\",\"event_dt\",\"event_dt\",\"event_dt\",\"event_dt\",\"event_dt\",\"event_dt\",\"event_dt\",\"event_dt\",\"event_dt\",\"event_dt\",\"event_dt\",\"event_dt\",\"event_dt\",\"event_dt\",\"event_dt\",\"event_dt\",\"event_dt\",\"event_dt\",\"event_dt\",\"event_dt\",\"event_dt\",\"event_dt\",\"event_dt\",\"event_dt\",\"event_dt\",\"event_dt\",\"event_dt\",\"event_dt\",\"event_dt\",\"event_dt\",\"event_dt\",\"event_dt\",\"event_dt\",\"event_dt\",\"event_dt\",\"event_dt\",\"event_dt\",\"event_dt\",\"event_dt\",\"event_dt\",\"event_dt\",\"event_dt\",\"event_dt\",\"event_dt\",\"event_dt\",\"event_dt\",\"event_dt\",\"event_dt\",\"event_dt\",\"event_dt\",\"event_dt\",\"event_dt\",\"event_dt\",\"event_dt\",\"event_dt\",\"event_dt\",\"event_dt\",\"event_dt\",\"event_dt\",\"event_dt\",\"event_dt\",\"event_dt\",\"event_dt\",\"event_dt\",\"event_dt\",\"event_dt\",\"event_dt\",\"event_dt\",\"event_dt\",\"event_dt\",\"event_dt\",\"event_dt\",\"event_dt\",\"event_dt\",\"event_dt\",\"event_dt\",\"event_dt\",\"event_dt\",\"event_dt\",\"event_dt\",\"event_dt\",\"event_dt\",\"event_dt\",\"event_dt\",\"event_dt\",\"event_dt\",\"event_dt\",\"event_dt\",\"event_dt\",\"event_dt\",\"event_dt\",\"event_dt\",\"event_dt\",\"event_dt\",\"event_dt\",\"event_dt\",\"event_dt\",\"event_dt\",\"event_dt\",\"event_dt\",\"event_dt\",\"event_dt\",\"event_dt\",\"event_dt\",\"event_dt\",\"event_dt\",\"event_dt\",\"event_dt\",\"event_dt\",\"event_dt\",\"event_dt\",\"event_dt\",\"event_dt\",\"event_dt\",\"event_dt\",\"event_dt\",\"event_dt\",\"event_dt\",\"event_dt\",\"event_dt\",\"event_dt\",\"event_dt\",\"event_dt\",\"event_dt\",\"event_dt\",\"event_dt\",\"event_dt\",\"event_dt\",\"event_dt\",\"event_dt\",\"event_dt\",\"event_dt\",\"event_dt\",\"event_dt\",\"event_dt\",\"event_dt\",\"event_dt\",\"event_dt\",\"event_dt\",\"event_dt\",\"event_dt\",\"event_dt\",\"event_dt\",\"event_dt\",\"event_dt\",\"event_dt\",\"event_dt\",\"event_dt\",\"event_dt\",\"event_dt\",\"event_dt\",\"event_dt\",\"event_dt\",\"event_dt\",\"event_dt\",\"event_dt\",\"event_dt\",\"event_dt\",\"event_dt\",\"event_dt\",\"event_dt\",\"event_dt\",\"event_dt\",\"event_dt\",\"event_dt\",\"event_dt\",\"event_dt\",\"event_dt\",\"event_dt\",\"event_dt\",\"event_dt\",\"event_dt\",\"event_dt\",\"event_dt\",\"event_dt\",\"event_dt\",\"event_dt\",\"event_dt\",\"event_dt\",\"event_dt\",\"event_dt\",\"event_dt\",\"event_dt\",\"event_dt\",\"event_dt\",\"event_dt\",\"event_dt\",\"event_dt\",\"event_dt\",\"event_dt\",\"event_dt\",\"event_dt\",\"event_dt\",\"event_dt\",\"event_dt\",\"event_dt\",\"event_dt\",\"event_dt\",\"event_dt\",\"event_dt\",\"event_dt\",\"event_dt\",\"event_dt\",\"event_dt\",\"event_dt\",\"event_dt\",\"event_dt\",\"event_dt\",\"event_dt\",\"event_dt\",\"event_dt\",\"event_dt\",\"event_dt\",\"event_dt\",\"event_dt\",\"event_dt\",\"event_dt\",\"event_dt\",\"event_dt\",\"event_dt\",\"event_dt\",\"event_dt\",\"event_dt\",\"event_dt\",\"event_dt\",\"event_dt\",\"event_dt\",\"event_dt\",\"event_dt\",\"event_dt\",\"event_dt\",\"event_dt\",\"event_dt\",\"event_dt\",\"event_dt\",\"event_dt\",\"event_dt\",\"event_dt\",\"event_dt\",\"event_dt\",\"event_dt\",\"event_dt\",\"event_dt\",\"event_dt\",\"event_dt\",\"event_dt\",\"event_dt\",\"event_dt\",\"event_dt\",\"event_dt\",\"event_dt\",\"event_dt\",\"event_dt\",\"event_dt\",\"event_dt\",\"event_dt\",\"event_dt\",\"event_dt\",\"event_dt\",\"event_dt\",\"event_dt\",\"event_dt\",\"event_dt\",\"event_dt\",\"event_dt\",\"event_dt\",\"event_dt\",\"event_dt\",\"event_dt\",\"event_dt\",\"event_dt\",\"event_dt\",\"event_dt\",\"event_dt\",\"event_dt\",\"event_dt\",\"event_dt\",\"event_dt\",\"event_dt\",\"event_dt\",\"event_dt\",\"event_dt\",\"event_dt\",\"event_dt\",\"event_dt\",\"event_dt\",\"event_dt\",\"event_dt\",\"event_dt\",\"event_dt\",\"event_dt\",\"event_dt\",\"event_dt\",\"event_dt\",\"event_dt\",\"event_dt\",\"event_dt\",\"event_dt\",\"event_dt\",\"event_dt\",\"event_dt\",\"event_dt\",\"event_dt\",\"event_dt\",\"event_dt\",\"event_dt\",\"event_dt\",\"event_dt\",\"event_dt\",\"event_dt\",\"event_dt\",\"event_dt\",\"event_dt\",\"event_dt\",\"event_dt\",\"event_dt\",\"event_dt\",\"event_dt\",\"event_dt\",\"event_dt\",\"event_dt\",\"event_dt\",\"event_dt\",\"event_dt\",\"event_dt\",\"event_dt\",\"event_dt\",\"event_dt\",\"event_dt\",\"event_dt\",\"event_dt\",\"event_dt\",\"event_dt\",\"event_dt\",\"event_dt\",\"event_dt\",\"event_dt\",\"event_dt\",\"event_dt\",\"event_dt\",\"event_dt\",\"event_dt\",\"event_dt\",\"event_dt\",\"event_dt\",\"event_dt\",\"event_dt\",\"event_dt\",\"event_dt\",\"event_dt\",\"event_dt\",\"event_dt\",\"event_dt\",\"event_dt\",\"event_dt\",\"event_dt\",\"event_dt\",\"event_dt\",\"event_dt\",\"event_dt\",\"event_dt\",\"event_dt\",\"event_dt\",\"event_dt\",\"event_dt\",\"event_dt\",\"event_dt\",\"event_dt\",\"event_dt\",\"event_dt\",\"event_dt\",\"event_dt\",\"event_dt\",\"event_dt\",\"event_dt\",\"event_dt\",\"event_dt\",\"event_dt\",\"event_dt\",\"event_dt\",\"event_dt\",\"event_dt\",\"event_dt\",\"event_dt\",\"event_dt\",\"event_dt\",\"event_dt\",\"event_dt\",\"event_dt\",\"event_dt\",\"event_dt\",\"event_dt\",\"event_dt\",\"event_dt\",\"event_dt\",\"event_dt\",\"event_dt\",\"event_dt\",\"event_dt\",\"event_dt\",\"event_dt\",\"event_dt\",\"event_dt\",\"event_dt\",\"event_dt\",\"event_dt\",\"event_dt\",\"event_dt\",\"event_dt\",\"event_dt\",\"event_dt\",\"event_dt\",\"event_dt\",\"event_dt\",\"event_dt\",\"event_dt\",\"event_dt\",\"event_dt\",\"event_dt\",\"event_dt\",\"event_dt\",\"event_dt\",\"event_dt\",\"event_dt\",\"event_dt\",\"event_dt\",\"event_dt\",\"event_dt\",\"event_dt\",\"event_dt\",\"event_dt\",\"event_dt\",\"event_dt\",\"event_dt\",\"event_dt\",\"event_dt\",\"event_dt\",\"event_dt\",\"event_dt\",\"event_dt\",\"event_dt\",\"event_dt\",\"event_dt\",\"event_dt\",\"event_dt\",\"event_dt\",\"event_dt\",\"event_dt\",\"event_dt\",\"event_dt\",\"event_dt\",\"event_dt\",\"event_dt\",\"event_dt\",\"event_dt\",\"event_dt\",\"event_dt\",\"event_dt\",\"event_dt\",\"event_dt\",\"event_dt\",\"event_dt\",\"event_dt\",\"event_dt\",\"event_dt\",\"event_dt\",\"event_dt\",\"event_dt\",\"event_dt\",\"event_dt\",\"event_dt\",\"event_dt\",\"event_dt\",\"event_dt\",\"event_dt\",\"event_dt\",\"event_dt\",\"event_dt\",\"event_dt\",\"event_dt\",\"event_dt\",\"event_dt\",\"event_dt\",\"event_dt\",\"event_dt\",\"event_dt\",\"event_dt\",\"event_dt\",\"event_dt\",\"event_dt\",\"event_dt\",\"event_dt\",\"event_dt\",\"event_dt\",\"event_dt\",\"event_dt\",\"event_dt\",\"event_dt\",\"event_dt\",\"event_dt\",\"event_dt\",\"event_dt\",\"event_dt\"],\"x0\":\" \",\"xaxis\":\"x\",\"y\":[12,2,15,5,6,20,2,9,9,9,4,9,4,8,4,3,6,9,1,2,4,8,9,9,6,6,4,10,6,9,8,4,4,12,6,8,9,15,12,10,4,8,4,8,5,3,8,10,8,3,6,9,6,3,12,2,6,12,3,4,8,6,2,4,4,3,8,6,5,9,6,6,6,4,10,6,9,3,9,9,8,4,12,10,9,9,6,3,9,6,12,6,6,8,16,9,2,9,12,15,15,6,4,9,5,6,4,3,6,4,4,8,4,10,3,6,10,8,15,6,9,2,8,3,9,4,8,12,9,2,6,10,8,6,12,4,9,8,8,6,6,10,6,9,3,3,6,4,4,4,5,3,6,1,4,3,8,6,8,10,12,20,4,4,4,8,9,2,8,6,6,4,6,4,8,2,6,10,9,2,6,8,4,5,8,12,8,4,10,6,4,3,4,10,12,5,12,12,4,9,10,4,9,3,6,2,6,6,12,2,3,12,2,12,3,16,6,15,8,12,8,8,6,9,3,9,3,6,6,4,4,8,4,4,6,6,10,12,3,4,4,6,6,6,15,9,4,2,12,2,3,6,6,9,20,3,4,20,15,6,8,3,12,6,8,16,8,9,4,4,4,9,8,6,6,16,6,20,15,2,8,12,6,16,4,4,4,8,8,9,9,4,4,6,24,9,6,4,4,3,9,2,4,12,6,2,8,3,9,4,12,6,1,10,12,12,6,2,4,4,9,2,8,6,1,12,4,2,9,8,3,9,4,18,8,6,15,9,6,3,9,4,6,2,6,6,5,3,6,2,6,8,4,8,8,6,6,6,10,12,4,9,4,1,4,6,4,9,16,3,9,8,2,3,3,12,15,2,4,2,8,3,6,2,1,4,9,15,6,8,3,12,4,6,9,6,12,12,8,9,4,3,8,9,12,4,9,9,3,4,8,8,9,6,12,8,6,6,4,6,15,8,3,8,2,4,15,8,6,6,8,6,4,6,12,8,10,20,4,6,6,8,6,4,8,3,2,6,3,3,5,8,12,10,5,9,6,6,6,6,6,4,12,6,12,4,4,3,6,6,3,6,20,12,6,6,12,6,9,3,3,8,6,15,6,8,6,8,8,3,6,8,3,9,6,2,15,3,12,6,9,15,8,6,4,4,9,8,15,6,5,6,6,8,4,9,8,9,9,15,2,3,6,6,4,8,12,4,8,2,5,8,12,8,3,5,8,12,6,4,4,4,4,10,6,12,9,10,6,9,6,4,2,15,1,15,4,6,6,10,3,9,12,8,5,9,16,5,10,15,4,12,12,6,18,2,6,6,2,6,4,4,8,6,12,12,2,3,10,3,6,2,8,1,4,4,2,6,12,6,4,8,16,3,5,4,4,3,4,9,3,8,8,15,3,6,4,1,4,12,6,12,4,4,12,3,9,12,9,12,4,6,9,8,6,2,3,6,6,6,8,12,9,9,6,3,6,6,6,6,3,9,4,12,4,6,14,2,12,8,6,18,6,9,3,2,2,8,4,4,8,4,4,6,1,2,1,12,9,6,12,4,8,8,3,6,4,2,8,6,12,4,6,8,6,2,15,3,3,6,8,15,4,9,9,8,9,2,2,6,4,3,16,9,2,2,15,6,8,9,6,8,9,9,3,9,2,9,4,9,8,6,8,16,12,1,4,6,12,4,3,15,3,6,15,8,6,20,6,4,6,12,12,6,16,6,3,2,8,4,8,9,8,4,9,9,10,6,4,12,4,4,4,5,9,6,9,9,6,3,2,12,8,3,9,5,12,4,12,2,9,6,4,10,12,5,3,8,4,12,12,2,12,4,4,8,6,12,4,10,12,6,2,9,4,12,4,6,2,10,12,9,15,2,6,6,4,6,12,5,6,6,2,4,9,4,3,4,4,8,4,4,2,2,6,9,6,6,9,3,2,3,6,2,6,6,6,4,4,6,2,2,6,9,9,4,12,10,4,8,9,8,4,12,6,3,4,2,6,16,9,12,12,6,1,8,8,4,6,4,12,8,8,3,4,12,1,9,4,12,8,4,2,9,4,6,10,6,9,9,8,3,9,6,12,1,9,1,9,3,6,8,2,9,8,6,2,6,3,8,3,5,4,8,8,4,4,12,6,10,10,8,12,12,9,8,4,3,15,3,6,2,4,8,10,18,3,6,10,4,8,8,8,3,3,9,2,8,9,15,14,6,8,6,4,6,3,4,8,4,12,14,4,9,8,12,9,12,8,6,12,3,6,3,12,2,4,4,8,4,12,18,9,4,2,8,6,5,10,16,9,4,8,4,4,6,12,2,8,12,12,6,6,12,6,4,9,6,12,2,8,6,8,6,6,3,4,4,4,6,15,4,4,3,6,10,3,9,4,2,12,8,6,9,12,6,4,12,9,3,4,4,15,8,9,6,9,6,4,2,6,4,2,4,2,6,3,6,3,6,4,8,4,3,9,4,20,10,12,3,2,6,12,6,6,15,6,12,8,9,10,5,6,9,2,9,1,4,3,6,9,9,6,8,21,2,3,2,15,12,2,3,2,6,9,5,6,9,6,6,4,9,4,2,3,8,3,6,6,2,6,5,4,18,12,4,14,6,9,3,9,6,8,4,6,6,10,12,12,20,9,9,4,7,5,3,12,4,3,6,9,8,12,12,3,8,12,3,9,6,15,6,9,12,3,3,3,2,3,4,8,4,6,3,4,3,6,9,6,11,6,12,6,20,3,6,9,1,15,6,5,8,12,6,15,2,12,9,4,10,12,12,4,3,6,4,20,9,6,12,8,3,3,2,8,6,3,2,6,6,12,10,2,2,4,6,6,5,2,4,6,6,3,2,3,8,6,9,12,6,4,8,6,4,2,2,14,2,6,4,8,6,1,6,3,2,4,3,4,6,4,4,4,6,12,9,9,12,2,6,3,8,6,6,10,3,4,9,12,4,12,3,3,4,8,12,2,4,8,6,8,4,4,8,4,10,20,6,4,1,10,8,6,6,20,6,4,9,12,10,6,3,4,4,3,3,12,2,12,2,9,6,6,6,2,12,6,12,6,4,18,9,6,8,4,6,6,3,16,16,4,3,8,16,9,12,3,10,14,9,6,8,8,3,3,4,8,2,4,12,2,4,8,4,2,6,3,8,4,8,4,2,4,6,4,6,3,4,4,9,8,4,10,4,9,3,6,9,9,6,8,9,2,4,3,6,6,12,3,12,12,6,8,18,2,4,6,1,8,2,3,3,8,3,12,16,13,6,4,12,4,8,4,15,8,2,4,12,4,4,8,12,6,9,2,4,6,6,9,1,8,8,9,8,6,2,2,12,16,6,9,3,6,3,3,8,9,4,6,9,6,9,9,10,6,4,9,6,6,8,6,4,6,8,3,2,6,4,6,4,6,2,9,2,2,3,8,4,4,9,8,2,4,9,5,12,20,9,6,4,2,6,3,12,9,6,15,5,18,9,4,2,6,9,12,12,6,4,6,12,6,15,8,15,19,3,3,6,4,16,12,4,4,9,10,3,6,6,12,9,10,10,6,6,4,5,16,6,4,8,9,4,4,3,4,2,9,4,8,8,6,4,2,4,12,6,4,6,3,4,3,6,3,3,6,15,12,4,6,6,10,6,2,4,6,8,10,15,8,3,5,6,15,2,2,4,4,6,1,2,6,12,12,4,9,6,4,15,10,4,9,4,4,2,20,6,2,6,12,6,20,6,9,4,6,15,15,4,18,11,8,6,3,8,4,9,18,4,9,10,8,15,6,8,2,4,14,8,3,4,4,12,15,6,9,8,8,6,4,6,3,15,6,6,4,4,4,14,6,4,9,2,6,6,12,6,3,6,10,15,6,4,4,9,12,16,10,4,4,2,8,9,12,6,6,16,16,9,6,6,12,6,2,3,9,10,6,4,2,6,10,6,12,9,2,6,6,6,16,8,6,12,10,10,4,2,2,6,4,8,12,4,20,8,6,12,6,16,9,4,3,5,6,3,4,9,6,4,6,9,6,12,12,10,15,4,9,6,6,10,6,2,4,8,10,10,3,4,1,10,6,5,8,8,3,12,6,12,6,9,8,2,9,15,8,4,6,9,2,3,12,6,3,6,6,4,4,6,4,3,6,6,8,10,15,3,4,4,6,9,14,8,12,6,6,3,6,15,4,6,4,15,6,10,6,4,9,12,2,2,6,6,8,2,8,4,3,3,12,10,15,5,4,9,12,3,4,8,9,4,4,12,3,2,3,6,10,4,6,15,4,4,2,4,15,15,15,3,2,8,4,8,9,8,12,6,15,21,4,8,6,6,12,8,8,6,4,6,15,6,12,16,4,6,8,8,5,8,20,18,8,12,8,6,4,6,4,5,8,4,4,8,4,5,9,10,12,4,4,6,4,4,1,3,8,8,6,15,8,10,4,8,8,3,9,9,6,12,8,4,6,6,12,4,6,3,6,6,6,6,4,20,6,2,18,6,4,5,6,8,3,20,9,12,8,4,9,6,4,2,4,8,6,6,2,2,6,4,6,9,3,8,3,4,4,9,2,8,9,6,3,6,9,6,6,9,6,16,8,10,8,3,4,8,9,12,9,4,9,1,8,6,9,4,6,6,8,6,9,12,2,6,16,9,4,6,3,6,12,2,8,3,6,3,18,6,12,4,6,12,8,8,3,12,4,4,12,2,6,6,6,8,9,6,6,1,3,8,10,6,12,8,2,9,4,4,4,6,9,6,12,8,2,4,9,18,6,8,12,12,9,8,4,15,4,6,3,1,4,8,12,12,6,6,24,6,8,6,2,8,6,9,6,4,3,6,6,2,8,4,6,9,5,2,9,8,9,2,12,4,6,6,6,6,6,8,4,2,1,2,4,8,4,12,4,2,2,9,5,12,12,3,6,6,9,6,4,4,6,4,2,6,8,4,6,12,6,10,2,2,4,8,4,12,6,6,3,12,9,12,2,4,15,6,3,10,2,4,4,12,4,12,4,6,10,2,6,15,6,12,4,2,6,6,4,12,15,4,6,16,6,9,4,4,6,18,4,6,9,2,3,6,8,15,6,16,12,4,1,8,2,3,4,8,6,6,8,8,9,6,9,3,15,6,9,6,4,6,12,6,6,4,8,4,12,12,1,6,6,6,4,4,6,12,6,9,4,3,6,6,12,2,9,8,12,16,8,4,10,3,6,6,12,6,3,6,4,3,4,15,6,12,6,20,6,12,6,9,3,6,6,3,2,3,2,3,18,4,2,3,6,4,8,6,4,6,1,9,2,8,12,10,4,2,8,9,16,9,3,4,8,6,4,6,3,8,3,6,3,2,6,3,6,3,3,15,6,9,9,4,8,9,2,4,6,3,2,4,6,2,18,3,6,8,9,9,12,9,6,6,6,8,6,3,6,2,3,6,8,6,6,6,3,9,4,2,6,12,2,4,2,6,4,6,4,3,2,15,6,4,6,6,8,9,6,12,6,6,9,6,6,9,2,2,4,4,8,6,9,8,6,8,8,6,9,6,6,2,6,2,9,8,8,8,3,2,9,6,3,12,15,3,10,4,12,12,12,12,9,9,6,15,8,15,3,3,3,8,5,1,9,6,8,4,4,4,4,4,8,4,9,6,6,6,6,4,9,6,15,6,9,8,10,9,9,6,8,2,2,3,8,2,8,6,6,6,10,8,4,8,4,3,3,6,6,4,3,8,4,8,14,10,20,12,4,6,9,9,4,4,12,8,6,12,6,12,12,15,2,8,8,20,6,8,6,6,9,8,9,4,4,6,2,6,9,12,6,6,12,3,4,2,1,6,4,4,8,4,6,8,8,8,4,6,9,2,8,4,3,16,12,3,3,4,8,3,6,1,6,9,12,6,9,10,4,4,4,4,12,6,10,9,8,6],\"y0\":\" \",\"yaxis\":\"y\",\"type\":\"box\"}],                        {\"template\":{\"data\":{\"bar\":[{\"error_x\":{\"color\":\"#2a3f5f\"},\"error_y\":{\"color\":\"#2a3f5f\"},\"marker\":{\"line\":{\"color\":\"#E5ECF6\",\"width\":0.5},\"pattern\":{\"fillmode\":\"overlay\",\"size\":10,\"solidity\":0.2}},\"type\":\"bar\"}],\"barpolar\":[{\"marker\":{\"line\":{\"color\":\"#E5ECF6\",\"width\":0.5},\"pattern\":{\"fillmode\":\"overlay\",\"size\":10,\"solidity\":0.2}},\"type\":\"barpolar\"}],\"carpet\":[{\"aaxis\":{\"endlinecolor\":\"#2a3f5f\",\"gridcolor\":\"white\",\"linecolor\":\"white\",\"minorgridcolor\":\"white\",\"startlinecolor\":\"#2a3f5f\"},\"baxis\":{\"endlinecolor\":\"#2a3f5f\",\"gridcolor\":\"white\",\"linecolor\":\"white\",\"minorgridcolor\":\"white\",\"startlinecolor\":\"#2a3f5f\"},\"type\":\"carpet\"}],\"choropleth\":[{\"colorbar\":{\"outlinewidth\":0,\"ticks\":\"\"},\"type\":\"choropleth\"}],\"contour\":[{\"colorbar\":{\"outlinewidth\":0,\"ticks\":\"\"},\"colorscale\":[[0.0,\"#0d0887\"],[0.1111111111111111,\"#46039f\"],[0.2222222222222222,\"#7201a8\"],[0.3333333333333333,\"#9c179e\"],[0.4444444444444444,\"#bd3786\"],[0.5555555555555556,\"#d8576b\"],[0.6666666666666666,\"#ed7953\"],[0.7777777777777778,\"#fb9f3a\"],[0.8888888888888888,\"#fdca26\"],[1.0,\"#f0f921\"]],\"type\":\"contour\"}],\"contourcarpet\":[{\"colorbar\":{\"outlinewidth\":0,\"ticks\":\"\"},\"type\":\"contourcarpet\"}],\"heatmap\":[{\"colorbar\":{\"outlinewidth\":0,\"ticks\":\"\"},\"colorscale\":[[0.0,\"#0d0887\"],[0.1111111111111111,\"#46039f\"],[0.2222222222222222,\"#7201a8\"],[0.3333333333333333,\"#9c179e\"],[0.4444444444444444,\"#bd3786\"],[0.5555555555555556,\"#d8576b\"],[0.6666666666666666,\"#ed7953\"],[0.7777777777777778,\"#fb9f3a\"],[0.8888888888888888,\"#fdca26\"],[1.0,\"#f0f921\"]],\"type\":\"heatmap\"}],\"heatmapgl\":[{\"colorbar\":{\"outlinewidth\":0,\"ticks\":\"\"},\"colorscale\":[[0.0,\"#0d0887\"],[0.1111111111111111,\"#46039f\"],[0.2222222222222222,\"#7201a8\"],[0.3333333333333333,\"#9c179e\"],[0.4444444444444444,\"#bd3786\"],[0.5555555555555556,\"#d8576b\"],[0.6666666666666666,\"#ed7953\"],[0.7777777777777778,\"#fb9f3a\"],[0.8888888888888888,\"#fdca26\"],[1.0,\"#f0f921\"]],\"type\":\"heatmapgl\"}],\"histogram\":[{\"marker\":{\"pattern\":{\"fillmode\":\"overlay\",\"size\":10,\"solidity\":0.2}},\"type\":\"histogram\"}],\"histogram2d\":[{\"colorbar\":{\"outlinewidth\":0,\"ticks\":\"\"},\"colorscale\":[[0.0,\"#0d0887\"],[0.1111111111111111,\"#46039f\"],[0.2222222222222222,\"#7201a8\"],[0.3333333333333333,\"#9c179e\"],[0.4444444444444444,\"#bd3786\"],[0.5555555555555556,\"#d8576b\"],[0.6666666666666666,\"#ed7953\"],[0.7777777777777778,\"#fb9f3a\"],[0.8888888888888888,\"#fdca26\"],[1.0,\"#f0f921\"]],\"type\":\"histogram2d\"}],\"histogram2dcontour\":[{\"colorbar\":{\"outlinewidth\":0,\"ticks\":\"\"},\"colorscale\":[[0.0,\"#0d0887\"],[0.1111111111111111,\"#46039f\"],[0.2222222222222222,\"#7201a8\"],[0.3333333333333333,\"#9c179e\"],[0.4444444444444444,\"#bd3786\"],[0.5555555555555556,\"#d8576b\"],[0.6666666666666666,\"#ed7953\"],[0.7777777777777778,\"#fb9f3a\"],[0.8888888888888888,\"#fdca26\"],[1.0,\"#f0f921\"]],\"type\":\"histogram2dcontour\"}],\"mesh3d\":[{\"colorbar\":{\"outlinewidth\":0,\"ticks\":\"\"},\"type\":\"mesh3d\"}],\"parcoords\":[{\"line\":{\"colorbar\":{\"outlinewidth\":0,\"ticks\":\"\"}},\"type\":\"parcoords\"}],\"pie\":[{\"automargin\":true,\"type\":\"pie\"}],\"scatter\":[{\"marker\":{\"colorbar\":{\"outlinewidth\":0,\"ticks\":\"\"}},\"type\":\"scatter\"}],\"scatter3d\":[{\"line\":{\"colorbar\":{\"outlinewidth\":0,\"ticks\":\"\"}},\"marker\":{\"colorbar\":{\"outlinewidth\":0,\"ticks\":\"\"}},\"type\":\"scatter3d\"}],\"scattercarpet\":[{\"marker\":{\"colorbar\":{\"outlinewidth\":0,\"ticks\":\"\"}},\"type\":\"scattercarpet\"}],\"scattergeo\":[{\"marker\":{\"colorbar\":{\"outlinewidth\":0,\"ticks\":\"\"}},\"type\":\"scattergeo\"}],\"scattergl\":[{\"marker\":{\"colorbar\":{\"outlinewidth\":0,\"ticks\":\"\"}},\"type\":\"scattergl\"}],\"scattermapbox\":[{\"marker\":{\"colorbar\":{\"outlinewidth\":0,\"ticks\":\"\"}},\"type\":\"scattermapbox\"}],\"scatterpolar\":[{\"marker\":{\"colorbar\":{\"outlinewidth\":0,\"ticks\":\"\"}},\"type\":\"scatterpolar\"}],\"scatterpolargl\":[{\"marker\":{\"colorbar\":{\"outlinewidth\":0,\"ticks\":\"\"}},\"type\":\"scatterpolargl\"}],\"scatterternary\":[{\"marker\":{\"colorbar\":{\"outlinewidth\":0,\"ticks\":\"\"}},\"type\":\"scatterternary\"}],\"surface\":[{\"colorbar\":{\"outlinewidth\":0,\"ticks\":\"\"},\"colorscale\":[[0.0,\"#0d0887\"],[0.1111111111111111,\"#46039f\"],[0.2222222222222222,\"#7201a8\"],[0.3333333333333333,\"#9c179e\"],[0.4444444444444444,\"#bd3786\"],[0.5555555555555556,\"#d8576b\"],[0.6666666666666666,\"#ed7953\"],[0.7777777777777778,\"#fb9f3a\"],[0.8888888888888888,\"#fdca26\"],[1.0,\"#f0f921\"]],\"type\":\"surface\"}],\"table\":[{\"cells\":{\"fill\":{\"color\":\"#EBF0F8\"},\"line\":{\"color\":\"white\"}},\"header\":{\"fill\":{\"color\":\"#C8D4E3\"},\"line\":{\"color\":\"white\"}},\"type\":\"table\"}]},\"layout\":{\"annotationdefaults\":{\"arrowcolor\":\"#2a3f5f\",\"arrowhead\":0,\"arrowwidth\":1},\"autotypenumbers\":\"strict\",\"coloraxis\":{\"colorbar\":{\"outlinewidth\":0,\"ticks\":\"\"}},\"colorscale\":{\"diverging\":[[0,\"#8e0152\"],[0.1,\"#c51b7d\"],[0.2,\"#de77ae\"],[0.3,\"#f1b6da\"],[0.4,\"#fde0ef\"],[0.5,\"#f7f7f7\"],[0.6,\"#e6f5d0\"],[0.7,\"#b8e186\"],[0.8,\"#7fbc41\"],[0.9,\"#4d9221\"],[1,\"#276419\"]],\"sequential\":[[0.0,\"#0d0887\"],[0.1111111111111111,\"#46039f\"],[0.2222222222222222,\"#7201a8\"],[0.3333333333333333,\"#9c179e\"],[0.4444444444444444,\"#bd3786\"],[0.5555555555555556,\"#d8576b\"],[0.6666666666666666,\"#ed7953\"],[0.7777777777777778,\"#fb9f3a\"],[0.8888888888888888,\"#fdca26\"],[1.0,\"#f0f921\"]],\"sequentialminus\":[[0.0,\"#0d0887\"],[0.1111111111111111,\"#46039f\"],[0.2222222222222222,\"#7201a8\"],[0.3333333333333333,\"#9c179e\"],[0.4444444444444444,\"#bd3786\"],[0.5555555555555556,\"#d8576b\"],[0.6666666666666666,\"#ed7953\"],[0.7777777777777778,\"#fb9f3a\"],[0.8888888888888888,\"#fdca26\"],[1.0,\"#f0f921\"]]},\"colorway\":[\"#636efa\",\"#EF553B\",\"#00cc96\",\"#ab63fa\",\"#FFA15A\",\"#19d3f3\",\"#FF6692\",\"#B6E880\",\"#FF97FF\",\"#FECB52\"],\"font\":{\"color\":\"#2a3f5f\"},\"geo\":{\"bgcolor\":\"white\",\"lakecolor\":\"white\",\"landcolor\":\"#E5ECF6\",\"showlakes\":true,\"showland\":true,\"subunitcolor\":\"white\"},\"hoverlabel\":{\"align\":\"left\"},\"hovermode\":\"closest\",\"mapbox\":{\"style\":\"light\"},\"paper_bgcolor\":\"white\",\"plot_bgcolor\":\"#E5ECF6\",\"polar\":{\"angularaxis\":{\"gridcolor\":\"white\",\"linecolor\":\"white\",\"ticks\":\"\"},\"bgcolor\":\"#E5ECF6\",\"radialaxis\":{\"gridcolor\":\"white\",\"linecolor\":\"white\",\"ticks\":\"\"}},\"scene\":{\"xaxis\":{\"backgroundcolor\":\"#E5ECF6\",\"gridcolor\":\"white\",\"gridwidth\":2,\"linecolor\":\"white\",\"showbackground\":true,\"ticks\":\"\",\"zerolinecolor\":\"white\"},\"yaxis\":{\"backgroundcolor\":\"#E5ECF6\",\"gridcolor\":\"white\",\"gridwidth\":2,\"linecolor\":\"white\",\"showbackground\":true,\"ticks\":\"\",\"zerolinecolor\":\"white\"},\"zaxis\":{\"backgroundcolor\":\"#E5ECF6\",\"gridcolor\":\"white\",\"gridwidth\":2,\"linecolor\":\"white\",\"showbackground\":true,\"ticks\":\"\",\"zerolinecolor\":\"white\"}},\"shapedefaults\":{\"line\":{\"color\":\"#2a3f5f\"}},\"ternary\":{\"aaxis\":{\"gridcolor\":\"white\",\"linecolor\":\"white\",\"ticks\":\"\"},\"baxis\":{\"gridcolor\":\"white\",\"linecolor\":\"white\",\"ticks\":\"\"},\"bgcolor\":\"#E5ECF6\",\"caxis\":{\"gridcolor\":\"white\",\"linecolor\":\"white\",\"ticks\":\"\"}},\"title\":{\"x\":0.05},\"xaxis\":{\"automargin\":true,\"gridcolor\":\"white\",\"linecolor\":\"white\",\"ticks\":\"\",\"title\":{\"standoff\":15},\"zerolinecolor\":\"white\",\"zerolinewidth\":2},\"yaxis\":{\"automargin\":true,\"gridcolor\":\"white\",\"linecolor\":\"white\",\"ticks\":\"\",\"title\":{\"standoff\":15},\"zerolinecolor\":\"white\",\"zerolinewidth\":2}}},\"xaxis\":{\"anchor\":\"y\",\"domain\":[0.0,1.0],\"title\":{\"text\":\"A \\u043f\\u043e\\u043b\\u044c\\u0437\\u043e\\u0432\\u0430\\u0442\\u0435\\u043b\\u0438\"}},\"yaxis\":{\"anchor\":\"x\",\"domain\":[0.0,1.0],\"title\":{\"text\":\"\\u0421\\u043e\\u0431\\u044b\\u0442\\u0438\\u0439\"}},\"legend\":{\"tracegroupgap\":0},\"margin\":{\"t\":60},\"boxmode\":\"group\",\"height\":400,\"title\":{\"text\":\"\\u0421\\u043e\\u0431\\u044b\\u0442\\u0438\\u0439 \\u043d\\u0430 \\u043f\\u043e\\u043b\\u044c\\u0437\\u043e\\u0432\\u0430\\u0442\\u0435\\u043b\\u044f\"}},                        {\"responsive\": true}                    ).then(function(){\n",
              "                            \n",
              "var gd = document.getElementById('8ad3e6dd-7977-402d-8017-49c4132ba98b');\n",
              "var x = new MutationObserver(function (mutations, observer) {{\n",
              "        var display = window.getComputedStyle(gd).display;\n",
              "        if (!display || display === 'none') {{\n",
              "            console.log([gd, 'removed!']);\n",
              "            Plotly.purge(gd);\n",
              "            observer.disconnect();\n",
              "        }}\n",
              "}});\n",
              "\n",
              "// Listen for the removal of the full notebook cells\n",
              "var notebookContainer = gd.closest('#notebook-container');\n",
              "if (notebookContainer) {{\n",
              "    x.observe(notebookContainer, {childList: true});\n",
              "}}\n",
              "\n",
              "// Listen for the clearing of the current output cell\n",
              "var outputEl = gd.closest('.output');\n",
              "if (outputEl) {{\n",
              "    x.observe(outputEl, {childList: true});\n",
              "}}\n",
              "\n",
              "                        })                };                            </script>        </div>\n",
              "</body>\n",
              "</html>"
            ]
          },
          "metadata": {}
        }
      ],
      "source": [
        "fig = px.box(log_users_a['event_dt'],  height=400,)\n",
        "fig.update_layout(title='Событий на пользователя',\n",
        "                   xaxis_title='A пользователи',\n",
        "                   yaxis_title='Событий',\n",
        "                   )\n",
        "fig.show();"
      ]
    },
    {
      "cell_type": "code",
      "execution_count": null,
      "metadata": {
        "colab": {
          "base_uri": "https://localhost:8080/",
          "height": 417
        },
        "id": "aPRclDqMaoCs",
        "outputId": "fe271606-a5d6-4842-804e-84eadd16a037"
      },
      "outputs": [
        {
          "output_type": "display_data",
          "data": {
            "text/html": [
              "<html>\n",
              "<head><meta charset=\"utf-8\" /></head>\n",
              "<body>\n",
              "    <div>            <script src=\"https://cdnjs.cloudflare.com/ajax/libs/mathjax/2.7.5/MathJax.js?config=TeX-AMS-MML_SVG\"></script><script type=\"text/javascript\">if (window.MathJax) {MathJax.Hub.Config({SVG: {font: \"STIX-Web\"}});}</script>                <script type=\"text/javascript\">window.PlotlyConfig = {MathJaxConfig: 'local'};</script>\n",
              "        <script src=\"https://cdn.plot.ly/plotly-2.8.3.min.js\"></script>                <div id=\"77d0565c-606e-4112-b5c4-e908856e3699\" class=\"plotly-graph-div\" style=\"height:400px; width:100%;\"></div>            <script type=\"text/javascript\">                                    window.PLOTLYENV=window.PLOTLYENV || {};                                    if (document.getElementById(\"77d0565c-606e-4112-b5c4-e908856e3699\")) {                    Plotly.newPlot(                        \"77d0565c-606e-4112-b5c4-e908856e3699\",                        [{\"alignmentgroup\":\"True\",\"hovertemplate\":\"variable=%{x}<br>value=%{y}<extra></extra>\",\"legendgroup\":\"\",\"marker\":{\"color\":\"#636efa\"},\"name\":\"\",\"notched\":false,\"offsetgroup\":\"\",\"orientation\":\"v\",\"showlegend\":false,\"x\":[\"event_dt\",\"event_dt\",\"event_dt\",\"event_dt\",\"event_dt\",\"event_dt\",\"event_dt\",\"event_dt\",\"event_dt\",\"event_dt\",\"event_dt\",\"event_dt\",\"event_dt\",\"event_dt\",\"event_dt\",\"event_dt\",\"event_dt\",\"event_dt\",\"event_dt\",\"event_dt\",\"event_dt\",\"event_dt\",\"event_dt\",\"event_dt\",\"event_dt\",\"event_dt\",\"event_dt\",\"event_dt\",\"event_dt\",\"event_dt\",\"event_dt\",\"event_dt\",\"event_dt\",\"event_dt\",\"event_dt\",\"event_dt\",\"event_dt\",\"event_dt\",\"event_dt\",\"event_dt\",\"event_dt\",\"event_dt\",\"event_dt\",\"event_dt\",\"event_dt\",\"event_dt\",\"event_dt\",\"event_dt\",\"event_dt\",\"event_dt\",\"event_dt\",\"event_dt\",\"event_dt\",\"event_dt\",\"event_dt\",\"event_dt\",\"event_dt\",\"event_dt\",\"event_dt\",\"event_dt\",\"event_dt\",\"event_dt\",\"event_dt\",\"event_dt\",\"event_dt\",\"event_dt\",\"event_dt\",\"event_dt\",\"event_dt\",\"event_dt\",\"event_dt\",\"event_dt\",\"event_dt\",\"event_dt\",\"event_dt\",\"event_dt\",\"event_dt\",\"event_dt\",\"event_dt\",\"event_dt\",\"event_dt\",\"event_dt\",\"event_dt\",\"event_dt\",\"event_dt\",\"event_dt\",\"event_dt\",\"event_dt\",\"event_dt\",\"event_dt\",\"event_dt\",\"event_dt\",\"event_dt\",\"event_dt\",\"event_dt\",\"event_dt\",\"event_dt\",\"event_dt\",\"event_dt\",\"event_dt\",\"event_dt\",\"event_dt\",\"event_dt\",\"event_dt\",\"event_dt\",\"event_dt\",\"event_dt\",\"event_dt\",\"event_dt\",\"event_dt\",\"event_dt\",\"event_dt\",\"event_dt\",\"event_dt\",\"event_dt\",\"event_dt\",\"event_dt\",\"event_dt\",\"event_dt\",\"event_dt\",\"event_dt\",\"event_dt\",\"event_dt\",\"event_dt\",\"event_dt\",\"event_dt\",\"event_dt\",\"event_dt\",\"event_dt\",\"event_dt\",\"event_dt\",\"event_dt\",\"event_dt\",\"event_dt\",\"event_dt\",\"event_dt\",\"event_dt\",\"event_dt\",\"event_dt\",\"event_dt\",\"event_dt\",\"event_dt\",\"event_dt\",\"event_dt\",\"event_dt\",\"event_dt\",\"event_dt\",\"event_dt\",\"event_dt\",\"event_dt\",\"event_dt\",\"event_dt\",\"event_dt\",\"event_dt\",\"event_dt\",\"event_dt\",\"event_dt\",\"event_dt\",\"event_dt\",\"event_dt\",\"event_dt\",\"event_dt\",\"event_dt\",\"event_dt\",\"event_dt\",\"event_dt\",\"event_dt\",\"event_dt\",\"event_dt\",\"event_dt\",\"event_dt\",\"event_dt\",\"event_dt\",\"event_dt\",\"event_dt\",\"event_dt\",\"event_dt\",\"event_dt\",\"event_dt\",\"event_dt\",\"event_dt\",\"event_dt\",\"event_dt\",\"event_dt\",\"event_dt\",\"event_dt\",\"event_dt\",\"event_dt\",\"event_dt\",\"event_dt\",\"event_dt\",\"event_dt\",\"event_dt\",\"event_dt\",\"event_dt\",\"event_dt\",\"event_dt\",\"event_dt\",\"event_dt\",\"event_dt\",\"event_dt\",\"event_dt\",\"event_dt\",\"event_dt\",\"event_dt\",\"event_dt\",\"event_dt\",\"event_dt\",\"event_dt\",\"event_dt\",\"event_dt\",\"event_dt\",\"event_dt\",\"event_dt\",\"event_dt\",\"event_dt\",\"event_dt\",\"event_dt\",\"event_dt\",\"event_dt\",\"event_dt\",\"event_dt\",\"event_dt\",\"event_dt\",\"event_dt\",\"event_dt\",\"event_dt\",\"event_dt\",\"event_dt\",\"event_dt\",\"event_dt\",\"event_dt\",\"event_dt\",\"event_dt\",\"event_dt\",\"event_dt\",\"event_dt\",\"event_dt\",\"event_dt\",\"event_dt\",\"event_dt\",\"event_dt\",\"event_dt\",\"event_dt\",\"event_dt\",\"event_dt\",\"event_dt\",\"event_dt\",\"event_dt\",\"event_dt\",\"event_dt\",\"event_dt\",\"event_dt\",\"event_dt\",\"event_dt\",\"event_dt\",\"event_dt\",\"event_dt\",\"event_dt\",\"event_dt\",\"event_dt\",\"event_dt\",\"event_dt\",\"event_dt\",\"event_dt\",\"event_dt\",\"event_dt\",\"event_dt\",\"event_dt\",\"event_dt\",\"event_dt\",\"event_dt\",\"event_dt\",\"event_dt\",\"event_dt\",\"event_dt\",\"event_dt\",\"event_dt\",\"event_dt\",\"event_dt\",\"event_dt\",\"event_dt\",\"event_dt\",\"event_dt\",\"event_dt\",\"event_dt\",\"event_dt\",\"event_dt\",\"event_dt\",\"event_dt\",\"event_dt\",\"event_dt\",\"event_dt\",\"event_dt\",\"event_dt\",\"event_dt\",\"event_dt\",\"event_dt\",\"event_dt\",\"event_dt\",\"event_dt\",\"event_dt\",\"event_dt\",\"event_dt\",\"event_dt\",\"event_dt\",\"event_dt\",\"event_dt\",\"event_dt\",\"event_dt\",\"event_dt\",\"event_dt\",\"event_dt\",\"event_dt\",\"event_dt\",\"event_dt\",\"event_dt\",\"event_dt\",\"event_dt\",\"event_dt\",\"event_dt\",\"event_dt\",\"event_dt\",\"event_dt\",\"event_dt\",\"event_dt\",\"event_dt\",\"event_dt\",\"event_dt\",\"event_dt\",\"event_dt\",\"event_dt\",\"event_dt\",\"event_dt\",\"event_dt\",\"event_dt\",\"event_dt\",\"event_dt\",\"event_dt\",\"event_dt\",\"event_dt\",\"event_dt\",\"event_dt\",\"event_dt\",\"event_dt\",\"event_dt\",\"event_dt\",\"event_dt\",\"event_dt\",\"event_dt\",\"event_dt\",\"event_dt\",\"event_dt\",\"event_dt\",\"event_dt\",\"event_dt\",\"event_dt\",\"event_dt\",\"event_dt\",\"event_dt\",\"event_dt\",\"event_dt\",\"event_dt\",\"event_dt\",\"event_dt\",\"event_dt\",\"event_dt\",\"event_dt\",\"event_dt\",\"event_dt\",\"event_dt\",\"event_dt\",\"event_dt\",\"event_dt\",\"event_dt\",\"event_dt\",\"event_dt\",\"event_dt\",\"event_dt\",\"event_dt\",\"event_dt\",\"event_dt\",\"event_dt\",\"event_dt\",\"event_dt\",\"event_dt\",\"event_dt\",\"event_dt\",\"event_dt\",\"event_dt\",\"event_dt\",\"event_dt\",\"event_dt\",\"event_dt\",\"event_dt\",\"event_dt\",\"event_dt\",\"event_dt\",\"event_dt\",\"event_dt\",\"event_dt\",\"event_dt\",\"event_dt\",\"event_dt\",\"event_dt\",\"event_dt\",\"event_dt\",\"event_dt\",\"event_dt\",\"event_dt\",\"event_dt\",\"event_dt\",\"event_dt\",\"event_dt\",\"event_dt\",\"event_dt\",\"event_dt\",\"event_dt\",\"event_dt\",\"event_dt\",\"event_dt\",\"event_dt\",\"event_dt\",\"event_dt\",\"event_dt\",\"event_dt\",\"event_dt\",\"event_dt\",\"event_dt\",\"event_dt\",\"event_dt\",\"event_dt\",\"event_dt\",\"event_dt\",\"event_dt\",\"event_dt\",\"event_dt\",\"event_dt\",\"event_dt\",\"event_dt\",\"event_dt\",\"event_dt\",\"event_dt\",\"event_dt\",\"event_dt\",\"event_dt\",\"event_dt\",\"event_dt\",\"event_dt\",\"event_dt\",\"event_dt\",\"event_dt\",\"event_dt\",\"event_dt\",\"event_dt\",\"event_dt\",\"event_dt\",\"event_dt\",\"event_dt\",\"event_dt\",\"event_dt\",\"event_dt\",\"event_dt\",\"event_dt\",\"event_dt\",\"event_dt\",\"event_dt\",\"event_dt\",\"event_dt\",\"event_dt\",\"event_dt\",\"event_dt\",\"event_dt\",\"event_dt\",\"event_dt\",\"event_dt\",\"event_dt\",\"event_dt\",\"event_dt\",\"event_dt\",\"event_dt\",\"event_dt\",\"event_dt\",\"event_dt\",\"event_dt\",\"event_dt\",\"event_dt\",\"event_dt\",\"event_dt\",\"event_dt\",\"event_dt\",\"event_dt\",\"event_dt\",\"event_dt\",\"event_dt\",\"event_dt\",\"event_dt\",\"event_dt\",\"event_dt\",\"event_dt\",\"event_dt\",\"event_dt\",\"event_dt\",\"event_dt\",\"event_dt\",\"event_dt\",\"event_dt\",\"event_dt\",\"event_dt\",\"event_dt\",\"event_dt\",\"event_dt\",\"event_dt\",\"event_dt\",\"event_dt\",\"event_dt\",\"event_dt\",\"event_dt\",\"event_dt\",\"event_dt\",\"event_dt\",\"event_dt\",\"event_dt\",\"event_dt\",\"event_dt\",\"event_dt\",\"event_dt\",\"event_dt\",\"event_dt\",\"event_dt\",\"event_dt\",\"event_dt\",\"event_dt\",\"event_dt\",\"event_dt\",\"event_dt\",\"event_dt\",\"event_dt\",\"event_dt\",\"event_dt\",\"event_dt\",\"event_dt\",\"event_dt\",\"event_dt\",\"event_dt\",\"event_dt\",\"event_dt\",\"event_dt\",\"event_dt\",\"event_dt\",\"event_dt\",\"event_dt\",\"event_dt\",\"event_dt\",\"event_dt\",\"event_dt\",\"event_dt\",\"event_dt\",\"event_dt\",\"event_dt\",\"event_dt\",\"event_dt\",\"event_dt\",\"event_dt\",\"event_dt\",\"event_dt\",\"event_dt\",\"event_dt\",\"event_dt\",\"event_dt\",\"event_dt\",\"event_dt\",\"event_dt\",\"event_dt\",\"event_dt\",\"event_dt\",\"event_dt\",\"event_dt\",\"event_dt\",\"event_dt\",\"event_dt\",\"event_dt\",\"event_dt\",\"event_dt\",\"event_dt\",\"event_dt\",\"event_dt\",\"event_dt\",\"event_dt\",\"event_dt\",\"event_dt\",\"event_dt\",\"event_dt\",\"event_dt\",\"event_dt\",\"event_dt\",\"event_dt\",\"event_dt\",\"event_dt\",\"event_dt\",\"event_dt\",\"event_dt\",\"event_dt\",\"event_dt\",\"event_dt\",\"event_dt\",\"event_dt\",\"event_dt\",\"event_dt\",\"event_dt\",\"event_dt\",\"event_dt\",\"event_dt\",\"event_dt\",\"event_dt\",\"event_dt\",\"event_dt\",\"event_dt\",\"event_dt\",\"event_dt\",\"event_dt\",\"event_dt\",\"event_dt\",\"event_dt\",\"event_dt\",\"event_dt\",\"event_dt\",\"event_dt\",\"event_dt\",\"event_dt\",\"event_dt\",\"event_dt\",\"event_dt\",\"event_dt\",\"event_dt\",\"event_dt\",\"event_dt\",\"event_dt\",\"event_dt\",\"event_dt\",\"event_dt\",\"event_dt\",\"event_dt\",\"event_dt\",\"event_dt\",\"event_dt\",\"event_dt\",\"event_dt\",\"event_dt\",\"event_dt\",\"event_dt\",\"event_dt\",\"event_dt\",\"event_dt\",\"event_dt\",\"event_dt\",\"event_dt\",\"event_dt\",\"event_dt\",\"event_dt\",\"event_dt\",\"event_dt\",\"event_dt\",\"event_dt\",\"event_dt\",\"event_dt\",\"event_dt\",\"event_dt\",\"event_dt\",\"event_dt\",\"event_dt\",\"event_dt\",\"event_dt\",\"event_dt\",\"event_dt\",\"event_dt\",\"event_dt\",\"event_dt\",\"event_dt\",\"event_dt\",\"event_dt\",\"event_dt\",\"event_dt\",\"event_dt\",\"event_dt\",\"event_dt\",\"event_dt\",\"event_dt\",\"event_dt\",\"event_dt\",\"event_dt\",\"event_dt\",\"event_dt\",\"event_dt\",\"event_dt\",\"event_dt\",\"event_dt\",\"event_dt\",\"event_dt\",\"event_dt\",\"event_dt\",\"event_dt\",\"event_dt\",\"event_dt\",\"event_dt\",\"event_dt\",\"event_dt\",\"event_dt\",\"event_dt\",\"event_dt\",\"event_dt\",\"event_dt\",\"event_dt\",\"event_dt\",\"event_dt\",\"event_dt\",\"event_dt\",\"event_dt\",\"event_dt\",\"event_dt\",\"event_dt\",\"event_dt\",\"event_dt\",\"event_dt\",\"event_dt\",\"event_dt\",\"event_dt\",\"event_dt\",\"event_dt\",\"event_dt\",\"event_dt\",\"event_dt\",\"event_dt\",\"event_dt\",\"event_dt\",\"event_dt\",\"event_dt\",\"event_dt\",\"event_dt\",\"event_dt\",\"event_dt\",\"event_dt\",\"event_dt\",\"event_dt\",\"event_dt\",\"event_dt\",\"event_dt\",\"event_dt\",\"event_dt\",\"event_dt\",\"event_dt\",\"event_dt\",\"event_dt\",\"event_dt\",\"event_dt\",\"event_dt\",\"event_dt\",\"event_dt\",\"event_dt\",\"event_dt\",\"event_dt\",\"event_dt\",\"event_dt\",\"event_dt\",\"event_dt\",\"event_dt\",\"event_dt\",\"event_dt\",\"event_dt\",\"event_dt\",\"event_dt\",\"event_dt\",\"event_dt\",\"event_dt\",\"event_dt\",\"event_dt\",\"event_dt\",\"event_dt\",\"event_dt\",\"event_dt\",\"event_dt\",\"event_dt\",\"event_dt\",\"event_dt\",\"event_dt\",\"event_dt\",\"event_dt\",\"event_dt\",\"event_dt\",\"event_dt\",\"event_dt\",\"event_dt\",\"event_dt\",\"event_dt\",\"event_dt\",\"event_dt\",\"event_dt\",\"event_dt\",\"event_dt\",\"event_dt\",\"event_dt\",\"event_dt\",\"event_dt\",\"event_dt\",\"event_dt\",\"event_dt\",\"event_dt\",\"event_dt\",\"event_dt\",\"event_dt\",\"event_dt\",\"event_dt\",\"event_dt\",\"event_dt\",\"event_dt\",\"event_dt\",\"event_dt\",\"event_dt\",\"event_dt\",\"event_dt\",\"event_dt\",\"event_dt\",\"event_dt\",\"event_dt\",\"event_dt\",\"event_dt\",\"event_dt\",\"event_dt\",\"event_dt\",\"event_dt\",\"event_dt\",\"event_dt\",\"event_dt\",\"event_dt\",\"event_dt\",\"event_dt\",\"event_dt\",\"event_dt\",\"event_dt\",\"event_dt\",\"event_dt\",\"event_dt\",\"event_dt\",\"event_dt\",\"event_dt\",\"event_dt\",\"event_dt\",\"event_dt\",\"event_dt\",\"event_dt\",\"event_dt\",\"event_dt\",\"event_dt\",\"event_dt\",\"event_dt\",\"event_dt\",\"event_dt\",\"event_dt\",\"event_dt\",\"event_dt\",\"event_dt\",\"event_dt\",\"event_dt\",\"event_dt\",\"event_dt\",\"event_dt\",\"event_dt\",\"event_dt\",\"event_dt\",\"event_dt\",\"event_dt\",\"event_dt\",\"event_dt\",\"event_dt\",\"event_dt\",\"event_dt\",\"event_dt\"],\"x0\":\" \",\"xaxis\":\"x\",\"y\":[6,4,6,2,12,6,8,3,2,5,6,8,3,3,2,3,6,2,3,3,4,3,8,6,9,9,2,4,7,9,2,4,1,2,12,9,12,9,6,5,2,4,3,9,12,3,6,3,6,6,24,8,24,2,12,2,4,10,4,6,6,6,6,9,3,8,2,3,6,8,3,9,9,6,6,2,8,4,1,4,9,3,8,4,4,9,9,4,6,2,2,9,3,4,8,3,9,9,4,4,1,4,6,4,4,6,4,4,8,8,3,4,4,4,6,4,6,12,3,2,9,6,2,2,6,4,4,9,2,6,12,4,4,4,8,2,3,15,3,6,4,12,12,10,20,3,4,4,1,4,6,8,4,5,8,4,6,3,8,9,4,2,4,8,7,6,3,6,4,3,2,2,6,9,4,6,10,16,10,9,3,4,6,4,6,3,9,3,3,4,6,8,6,8,3,3,4,4,11,2,6,6,2,12,9,1,12,2,2,6,2,4,2,3,4,9,6,8,2,4,4,4,4,6,4,4,12,6,2,4,4,6,6,2,8,2,4,9,4,3,4,5,9,4,4,15,4,4,8,4,6,4,6,4,8,2,3,4,12,2,5,20,2,4,6,8,4,4,8,4,4,3,2,8,2,8,4,4,10,3,4,6,6,1,8,9,12,2,8,3,12,9,1,6,2,2,4,8,4,9,6,6,4,4,2,6,5,10,3,6,3,12,8,6,6,6,6,4,6,3,4,3,3,1,8,15,6,9,2,6,2,8,15,4,10,3,9,3,9,10,8,4,3,2,2,2,6,3,6,8,6,2,2,4,1,2,6,4,2,9,3,6,6,6,9,3,4,12,12,6,9,6,3,6,9,8,6,12,12,5,2,6,2,12,6,6,3,2,4,12,10,6,9,5,10,12,3,4,8,4,2,2,3,2,1,8,4,12,3,6,7,3,4,6,12,6,20,9,4,4,4,10,6,4,11,2,6,3,12,2,4,3,2,6,8,3,6,6,3,2,6,6,6,9,1,6,6,2,6,8,10,9,5,6,21,10,3,8,2,9,4,9,3,2,4,4,3,6,4,6,12,3,3,6,3,2,2,8,4,6,5,6,2,12,2,3,6,4,2,8,1,3,8,6,6,6,9,6,2,4,3,1,4,6,3,2,4,4,12,9,6,4,4,4,3,4,8,3,4,8,1,3,3,8,4,6,10,2,6,6,6,6,2,6,16,3,2,4,6,6,12,4,2,4,6,3,12,3,7,6,5,4,8,9,3,4,8,3,3,6,8,6,6,3,6,4,4,6,5,2,3,3,2,6,6,16,6,2,8,4,4,2,4,6,2,6,6,6,3,3,8,3,12,4,4,3,15,3,6,4,2,6,5,8,4,4,12,6,11,4,9,3,8,3,8,12,2,6,8,9,6,2,3,2,8,3,2,8,2,2,3,3,4,4,2,4,6,6,9,3,3,4,6,4,2,2,9,4,3,6,4,3,9,3,2,6,4,4,4,9,7,9,15,4,3,4,4,6,4,3,2,6,3,9,3,4,6,3,3,13,5,18,5,3,4,9,4,6,6,4,6,5,4,10,6,8,2,8,3,3,8,6,4,4,3,2,6,2,6,4,9,3,2,8,10,8,1,2,6,14,3,4,6,3,3,2,3,6,9,10,9,4,6,9,4,4,9,8,8,6,4,6,6,10,12,1,9,2,6,2,12,1,3,10,2,12,6,9,5,6,2,6,4,4,2,4,6,4,8,2,6,8,4,4,6,2,8,3,4,6,8,2,3,3,6,8,2,9,3,10,6,15,6,1,1,6,4,6,8,3,6,3,8,4,10,9,5,9,6,8,6,8,3,6,9,4,3,6,4,3,4,6,2,4,4,12,2,3,1,3,6,3,7,5,6,6,5,2,2,9,3,3,12,2,4,2,2,4,4,5,4,4,6,4,2,6,9,6,6,1,2,12,6,8,6,3,4,4,4,6,6,2,20,2,3,4,9],\"y0\":\" \",\"yaxis\":\"y\",\"type\":\"box\"}],                        {\"template\":{\"data\":{\"bar\":[{\"error_x\":{\"color\":\"#2a3f5f\"},\"error_y\":{\"color\":\"#2a3f5f\"},\"marker\":{\"line\":{\"color\":\"#E5ECF6\",\"width\":0.5},\"pattern\":{\"fillmode\":\"overlay\",\"size\":10,\"solidity\":0.2}},\"type\":\"bar\"}],\"barpolar\":[{\"marker\":{\"line\":{\"color\":\"#E5ECF6\",\"width\":0.5},\"pattern\":{\"fillmode\":\"overlay\",\"size\":10,\"solidity\":0.2}},\"type\":\"barpolar\"}],\"carpet\":[{\"aaxis\":{\"endlinecolor\":\"#2a3f5f\",\"gridcolor\":\"white\",\"linecolor\":\"white\",\"minorgridcolor\":\"white\",\"startlinecolor\":\"#2a3f5f\"},\"baxis\":{\"endlinecolor\":\"#2a3f5f\",\"gridcolor\":\"white\",\"linecolor\":\"white\",\"minorgridcolor\":\"white\",\"startlinecolor\":\"#2a3f5f\"},\"type\":\"carpet\"}],\"choropleth\":[{\"colorbar\":{\"outlinewidth\":0,\"ticks\":\"\"},\"type\":\"choropleth\"}],\"contour\":[{\"colorbar\":{\"outlinewidth\":0,\"ticks\":\"\"},\"colorscale\":[[0.0,\"#0d0887\"],[0.1111111111111111,\"#46039f\"],[0.2222222222222222,\"#7201a8\"],[0.3333333333333333,\"#9c179e\"],[0.4444444444444444,\"#bd3786\"],[0.5555555555555556,\"#d8576b\"],[0.6666666666666666,\"#ed7953\"],[0.7777777777777778,\"#fb9f3a\"],[0.8888888888888888,\"#fdca26\"],[1.0,\"#f0f921\"]],\"type\":\"contour\"}],\"contourcarpet\":[{\"colorbar\":{\"outlinewidth\":0,\"ticks\":\"\"},\"type\":\"contourcarpet\"}],\"heatmap\":[{\"colorbar\":{\"outlinewidth\":0,\"ticks\":\"\"},\"colorscale\":[[0.0,\"#0d0887\"],[0.1111111111111111,\"#46039f\"],[0.2222222222222222,\"#7201a8\"],[0.3333333333333333,\"#9c179e\"],[0.4444444444444444,\"#bd3786\"],[0.5555555555555556,\"#d8576b\"],[0.6666666666666666,\"#ed7953\"],[0.7777777777777778,\"#fb9f3a\"],[0.8888888888888888,\"#fdca26\"],[1.0,\"#f0f921\"]],\"type\":\"heatmap\"}],\"heatmapgl\":[{\"colorbar\":{\"outlinewidth\":0,\"ticks\":\"\"},\"colorscale\":[[0.0,\"#0d0887\"],[0.1111111111111111,\"#46039f\"],[0.2222222222222222,\"#7201a8\"],[0.3333333333333333,\"#9c179e\"],[0.4444444444444444,\"#bd3786\"],[0.5555555555555556,\"#d8576b\"],[0.6666666666666666,\"#ed7953\"],[0.7777777777777778,\"#fb9f3a\"],[0.8888888888888888,\"#fdca26\"],[1.0,\"#f0f921\"]],\"type\":\"heatmapgl\"}],\"histogram\":[{\"marker\":{\"pattern\":{\"fillmode\":\"overlay\",\"size\":10,\"solidity\":0.2}},\"type\":\"histogram\"}],\"histogram2d\":[{\"colorbar\":{\"outlinewidth\":0,\"ticks\":\"\"},\"colorscale\":[[0.0,\"#0d0887\"],[0.1111111111111111,\"#46039f\"],[0.2222222222222222,\"#7201a8\"],[0.3333333333333333,\"#9c179e\"],[0.4444444444444444,\"#bd3786\"],[0.5555555555555556,\"#d8576b\"],[0.6666666666666666,\"#ed7953\"],[0.7777777777777778,\"#fb9f3a\"],[0.8888888888888888,\"#fdca26\"],[1.0,\"#f0f921\"]],\"type\":\"histogram2d\"}],\"histogram2dcontour\":[{\"colorbar\":{\"outlinewidth\":0,\"ticks\":\"\"},\"colorscale\":[[0.0,\"#0d0887\"],[0.1111111111111111,\"#46039f\"],[0.2222222222222222,\"#7201a8\"],[0.3333333333333333,\"#9c179e\"],[0.4444444444444444,\"#bd3786\"],[0.5555555555555556,\"#d8576b\"],[0.6666666666666666,\"#ed7953\"],[0.7777777777777778,\"#fb9f3a\"],[0.8888888888888888,\"#fdca26\"],[1.0,\"#f0f921\"]],\"type\":\"histogram2dcontour\"}],\"mesh3d\":[{\"colorbar\":{\"outlinewidth\":0,\"ticks\":\"\"},\"type\":\"mesh3d\"}],\"parcoords\":[{\"line\":{\"colorbar\":{\"outlinewidth\":0,\"ticks\":\"\"}},\"type\":\"parcoords\"}],\"pie\":[{\"automargin\":true,\"type\":\"pie\"}],\"scatter\":[{\"marker\":{\"colorbar\":{\"outlinewidth\":0,\"ticks\":\"\"}},\"type\":\"scatter\"}],\"scatter3d\":[{\"line\":{\"colorbar\":{\"outlinewidth\":0,\"ticks\":\"\"}},\"marker\":{\"colorbar\":{\"outlinewidth\":0,\"ticks\":\"\"}},\"type\":\"scatter3d\"}],\"scattercarpet\":[{\"marker\":{\"colorbar\":{\"outlinewidth\":0,\"ticks\":\"\"}},\"type\":\"scattercarpet\"}],\"scattergeo\":[{\"marker\":{\"colorbar\":{\"outlinewidth\":0,\"ticks\":\"\"}},\"type\":\"scattergeo\"}],\"scattergl\":[{\"marker\":{\"colorbar\":{\"outlinewidth\":0,\"ticks\":\"\"}},\"type\":\"scattergl\"}],\"scattermapbox\":[{\"marker\":{\"colorbar\":{\"outlinewidth\":0,\"ticks\":\"\"}},\"type\":\"scattermapbox\"}],\"scatterpolar\":[{\"marker\":{\"colorbar\":{\"outlinewidth\":0,\"ticks\":\"\"}},\"type\":\"scatterpolar\"}],\"scatterpolargl\":[{\"marker\":{\"colorbar\":{\"outlinewidth\":0,\"ticks\":\"\"}},\"type\":\"scatterpolargl\"}],\"scatterternary\":[{\"marker\":{\"colorbar\":{\"outlinewidth\":0,\"ticks\":\"\"}},\"type\":\"scatterternary\"}],\"surface\":[{\"colorbar\":{\"outlinewidth\":0,\"ticks\":\"\"},\"colorscale\":[[0.0,\"#0d0887\"],[0.1111111111111111,\"#46039f\"],[0.2222222222222222,\"#7201a8\"],[0.3333333333333333,\"#9c179e\"],[0.4444444444444444,\"#bd3786\"],[0.5555555555555556,\"#d8576b\"],[0.6666666666666666,\"#ed7953\"],[0.7777777777777778,\"#fb9f3a\"],[0.8888888888888888,\"#fdca26\"],[1.0,\"#f0f921\"]],\"type\":\"surface\"}],\"table\":[{\"cells\":{\"fill\":{\"color\":\"#EBF0F8\"},\"line\":{\"color\":\"white\"}},\"header\":{\"fill\":{\"color\":\"#C8D4E3\"},\"line\":{\"color\":\"white\"}},\"type\":\"table\"}]},\"layout\":{\"annotationdefaults\":{\"arrowcolor\":\"#2a3f5f\",\"arrowhead\":0,\"arrowwidth\":1},\"autotypenumbers\":\"strict\",\"coloraxis\":{\"colorbar\":{\"outlinewidth\":0,\"ticks\":\"\"}},\"colorscale\":{\"diverging\":[[0,\"#8e0152\"],[0.1,\"#c51b7d\"],[0.2,\"#de77ae\"],[0.3,\"#f1b6da\"],[0.4,\"#fde0ef\"],[0.5,\"#f7f7f7\"],[0.6,\"#e6f5d0\"],[0.7,\"#b8e186\"],[0.8,\"#7fbc41\"],[0.9,\"#4d9221\"],[1,\"#276419\"]],\"sequential\":[[0.0,\"#0d0887\"],[0.1111111111111111,\"#46039f\"],[0.2222222222222222,\"#7201a8\"],[0.3333333333333333,\"#9c179e\"],[0.4444444444444444,\"#bd3786\"],[0.5555555555555556,\"#d8576b\"],[0.6666666666666666,\"#ed7953\"],[0.7777777777777778,\"#fb9f3a\"],[0.8888888888888888,\"#fdca26\"],[1.0,\"#f0f921\"]],\"sequentialminus\":[[0.0,\"#0d0887\"],[0.1111111111111111,\"#46039f\"],[0.2222222222222222,\"#7201a8\"],[0.3333333333333333,\"#9c179e\"],[0.4444444444444444,\"#bd3786\"],[0.5555555555555556,\"#d8576b\"],[0.6666666666666666,\"#ed7953\"],[0.7777777777777778,\"#fb9f3a\"],[0.8888888888888888,\"#fdca26\"],[1.0,\"#f0f921\"]]},\"colorway\":[\"#636efa\",\"#EF553B\",\"#00cc96\",\"#ab63fa\",\"#FFA15A\",\"#19d3f3\",\"#FF6692\",\"#B6E880\",\"#FF97FF\",\"#FECB52\"],\"font\":{\"color\":\"#2a3f5f\"},\"geo\":{\"bgcolor\":\"white\",\"lakecolor\":\"white\",\"landcolor\":\"#E5ECF6\",\"showlakes\":true,\"showland\":true,\"subunitcolor\":\"white\"},\"hoverlabel\":{\"align\":\"left\"},\"hovermode\":\"closest\",\"mapbox\":{\"style\":\"light\"},\"paper_bgcolor\":\"white\",\"plot_bgcolor\":\"#E5ECF6\",\"polar\":{\"angularaxis\":{\"gridcolor\":\"white\",\"linecolor\":\"white\",\"ticks\":\"\"},\"bgcolor\":\"#E5ECF6\",\"radialaxis\":{\"gridcolor\":\"white\",\"linecolor\":\"white\",\"ticks\":\"\"}},\"scene\":{\"xaxis\":{\"backgroundcolor\":\"#E5ECF6\",\"gridcolor\":\"white\",\"gridwidth\":2,\"linecolor\":\"white\",\"showbackground\":true,\"ticks\":\"\",\"zerolinecolor\":\"white\"},\"yaxis\":{\"backgroundcolor\":\"#E5ECF6\",\"gridcolor\":\"white\",\"gridwidth\":2,\"linecolor\":\"white\",\"showbackground\":true,\"ticks\":\"\",\"zerolinecolor\":\"white\"},\"zaxis\":{\"backgroundcolor\":\"#E5ECF6\",\"gridcolor\":\"white\",\"gridwidth\":2,\"linecolor\":\"white\",\"showbackground\":true,\"ticks\":\"\",\"zerolinecolor\":\"white\"}},\"shapedefaults\":{\"line\":{\"color\":\"#2a3f5f\"}},\"ternary\":{\"aaxis\":{\"gridcolor\":\"white\",\"linecolor\":\"white\",\"ticks\":\"\"},\"baxis\":{\"gridcolor\":\"white\",\"linecolor\":\"white\",\"ticks\":\"\"},\"bgcolor\":\"#E5ECF6\",\"caxis\":{\"gridcolor\":\"white\",\"linecolor\":\"white\",\"ticks\":\"\"}},\"title\":{\"x\":0.05},\"xaxis\":{\"automargin\":true,\"gridcolor\":\"white\",\"linecolor\":\"white\",\"ticks\":\"\",\"title\":{\"standoff\":15},\"zerolinecolor\":\"white\",\"zerolinewidth\":2},\"yaxis\":{\"automargin\":true,\"gridcolor\":\"white\",\"linecolor\":\"white\",\"ticks\":\"\",\"title\":{\"standoff\":15},\"zerolinecolor\":\"white\",\"zerolinewidth\":2}}},\"xaxis\":{\"anchor\":\"y\",\"domain\":[0.0,1.0],\"title\":{\"text\":\"B \\u043f\\u043e\\u043b\\u044c\\u0437\\u043e\\u0432\\u0430\\u0442\\u0435\\u043b\\u0438\"}},\"yaxis\":{\"anchor\":\"x\",\"domain\":[0.0,1.0],\"title\":{\"text\":\"\\u0421\\u043e\\u0431\\u044b\\u0442\\u0438\\u0439\"}},\"legend\":{\"tracegroupgap\":0},\"margin\":{\"t\":60},\"boxmode\":\"group\",\"height\":400,\"title\":{\"text\":\"\\u0421\\u043e\\u0431\\u044b\\u0442\\u0438\\u0439 \\u043d\\u0430 \\u043f\\u043e\\u043b\\u044c\\u0437\\u043e\\u0432\\u0430\\u0442\\u0435\\u043b\\u044f\"}},                        {\"responsive\": true}                    ).then(function(){\n",
              "                            \n",
              "var gd = document.getElementById('77d0565c-606e-4112-b5c4-e908856e3699');\n",
              "var x = new MutationObserver(function (mutations, observer) {{\n",
              "        var display = window.getComputedStyle(gd).display;\n",
              "        if (!display || display === 'none') {{\n",
              "            console.log([gd, 'removed!']);\n",
              "            Plotly.purge(gd);\n",
              "            observer.disconnect();\n",
              "        }}\n",
              "}});\n",
              "\n",
              "// Listen for the removal of the full notebook cells\n",
              "var notebookContainer = gd.closest('#notebook-container');\n",
              "if (notebookContainer) {{\n",
              "    x.observe(notebookContainer, {childList: true});\n",
              "}}\n",
              "\n",
              "// Listen for the clearing of the current output cell\n",
              "var outputEl = gd.closest('.output');\n",
              "if (outputEl) {{\n",
              "    x.observe(outputEl, {childList: true});\n",
              "}}\n",
              "\n",
              "                        })                };                            </script>        </div>\n",
              "</body>\n",
              "</html>"
            ]
          },
          "metadata": {}
        }
      ],
      "source": [
        "fig = px.box(log_users_b['event_dt'],  height=400,)\n",
        "fig.update_layout(title='Событий на пользователя',\n",
        "                   xaxis_title='B пользователи',\n",
        "                   yaxis_title='Событий',\n",
        "                   )\n",
        "fig.show();"
      ]
    },
    {
      "cell_type": "markdown",
      "metadata": {
        "id": "zcKRRGVOaoCt"
      },
      "source": [
        "### Вывод\n",
        "\n",
        "Медианное количество событий на пользователя в группах не одинаково, В группе А это 6 , в группе Б это 4. Группы неравномерные.\n"
      ]
    },
    {
      "cell_type": "markdown",
      "metadata": {
        "id": "_NXN3RcGawBl"
      },
      "source": [
        "## Как число событий в выборках распределено по дням?\n",
        "\n",
        "Построим гистограмму по времени"
      ]
    },
    {
      "cell_type": "code",
      "execution_count": null,
      "metadata": {
        "colab": {
          "base_uri": "https://localhost:8080/",
          "height": 617
        },
        "id": "363WPUcbaoCu",
        "outputId": "ea729fea-7490-4909-849d-77cf017da8c7"
      },
      "outputs": [
        {
          "output_type": "display_data",
          "data": {
            "text/html": [
              "<html>\n",
              "<head><meta charset=\"utf-8\" /></head>\n",
              "<body>\n",
              "    <div>            <script src=\"https://cdnjs.cloudflare.com/ajax/libs/mathjax/2.7.5/MathJax.js?config=TeX-AMS-MML_SVG\"></script><script type=\"text/javascript\">if (window.MathJax) {MathJax.Hub.Config({SVG: {font: \"STIX-Web\"}});}</script>                <script type=\"text/javascript\">window.PlotlyConfig = {MathJaxConfig: 'local'};</script>\n",
              "        <script src=\"https://cdn.plot.ly/plotly-2.8.3.min.js\"></script>                <div id=\"24f3804a-9925-4352-a611-6812a2516bbd\" class=\"plotly-graph-div\" style=\"height:600px; width:100%;\"></div>            <script type=\"text/javascript\">                                    window.PLOTLYENV=window.PLOTLYENV || {};                                    if (document.getElementById(\"24f3804a-9925-4352-a611-6812a2516bbd\")) {                    Plotly.newPlot(                        \"24f3804a-9925-4352-a611-6812a2516bbd\",                        [{\"name\":\"\\u0413\\u0440\\u0443\\u043f\\u043f\\u0430 A\",\"x\":[\"2020-12-07T06:50:29\",\"2020-12-09T02:19:17\",\"2020-12-07T06:50:30\",\"2020-12-08T10:52:27\",\"2020-12-09T02:19:17\",\"2020-12-07T06:50:29\",\"2020-12-08T10:52:26\",\"2020-12-09T02:19:17\",\"2020-12-07T19:42:40\",\"2020-12-07T19:42:40\",\"2020-12-07T19:42:40\",\"2020-12-07T21:36:38\",\"2020-12-12T07:51:36\",\"2020-12-07T21:36:38\",\"2020-12-12T07:51:38\",\"2020-12-07T21:36:38\",\"2020-12-12T07:51:37\",\"2020-12-07T21:36:38\",\"2020-12-12T07:51:36\",\"2020-12-07T13:29:30\",\"2020-12-20T22:28:35\",\"2020-12-07T13:29:32\",\"2020-12-20T22:28:37\",\"2020-12-07T13:29:30\",\"2020-12-20T22:28:35\",\"2020-12-07T07:12:05\",\"2020-12-08T02:18:42\",\"2020-12-16T01:02:32\",\"2020-12-07T07:12:08\",\"2020-12-08T02:18:42\",\"2020-12-16T01:02:32\",\"2020-12-07T07:12:05\",\"2020-12-08T02:18:42\",\"2020-12-16T01:02:32\",\"2020-12-07T11:43:42\",\"2020-12-09T22:19:08\",\"2020-12-07T11:43:42\",\"2020-12-09T22:19:08\",\"2020-12-07T19:21:29\",\"2020-12-09T13:17:01\",\"2020-12-15T02:58:28\",\"2020-12-07T19:21:31\",\"2020-12-09T13:17:05\",\"2020-12-15T02:58:29\",\"2020-12-07T19:21:29\",\"2020-12-09T13:17:01\",\"2020-12-15T02:58:28\",\"2020-12-07T01:22:52\",\"2020-12-10T07:00:18\",\"2020-12-13T13:59:23\",\"2020-12-19T01:46:01\",\"2020-12-07T01:22:53\",\"2020-12-10T07:00:21\",\"2020-12-13T13:59:23\",\"2020-12-19T01:46:01\",\"2020-12-07T01:22:52\",\"2020-12-10T07:00:18\",\"2020-12-13T13:59:23\",\"2020-12-19T01:46:01\",\"2020-12-07T12:50:10\",\"2020-12-09T02:47:54\",\"2020-12-12T14:41:42\",\"2020-12-16T19:57:03\",\"2020-12-18T16:34:45\",\"2020-12-07T12:50:11\",\"2020-12-09T02:47:55\",\"2020-12-12T14:41:42\",\"2020-12-16T19:57:06\",\"2020-12-18T16:34:45\",\"2020-12-07T12:50:10\",\"2020-12-09T02:47:54\",\"2020-12-12T14:41:42\",\"2020-12-16T19:57:03\",\"2020-12-18T16:34:45\",\"2020-12-07T16:43:32\",\"2020-12-12T17:16:12\",\"2020-12-07T16:43:32\",\"2020-12-12T17:16:14\",\"2020-12-07T16:43:32\",\"2020-12-12T17:16:12\",\"2020-12-07T00:31:08\",\"2020-12-08T22:53:58\",\"2020-12-12T19:05:12\",\"2020-12-07T00:31:08\",\"2020-12-08T22:53:58\",\"2020-12-12T19:05:12\",\"2020-12-07T23:36:46\",\"2020-12-11T05:37:35\",\"2020-12-07T23:36:46\",\"2020-12-11T05:37:37\",\"2020-12-07T23:36:46\",\"2020-12-11T05:37:35\",\"2020-12-07T18:35:21\",\"2020-12-09T04:48:15\",\"2020-12-07T18:35:21\",\"2020-12-09T04:48:15\",\"2020-12-07T18:35:21\",\"2020-12-09T04:48:15\",\"2020-12-07T02:53:41\",\"2020-12-10T08:21:36\",\"2020-12-14T22:49:09\",\"2020-12-07T02:53:41\",\"2020-12-10T08:21:36\",\"2020-12-14T22:49:12\",\"2020-12-07T02:53:41\",\"2020-12-10T08:21:36\",\"2020-12-14T22:49:09\",\"2020-12-07T08:37:36\",\"2020-12-08T19:47:51\",\"2020-12-07T08:37:36\",\"2020-12-08T19:47:51\",\"2020-12-07T04:59:28\",\"2020-12-08T19:27:46\",\"2020-12-09T16:40:12\",\"2020-12-13T00:25:05\",\"2020-12-14T14:07:59\",\"2020-12-07T04:59:33\",\"2020-12-08T19:27:48\",\"2020-12-09T16:40:13\",\"2020-12-13T00:25:05\",\"2020-12-14T14:07:59\",\"2020-12-07T04:59:28\",\"2020-12-08T19:27:47\",\"2020-12-09T16:40:13\",\"2020-12-13T00:25:06\",\"2020-12-14T14:07:59\",\"2020-12-07T04:59:28\",\"2020-12-08T19:27:46\",\"2020-12-09T16:40:12\",\"2020-12-13T00:25:05\",\"2020-12-14T14:07:59\",\"2020-12-07T07:11:54\",\"2020-12-09T15:13:28\",\"2020-12-07T07:11:54\",\"2020-12-09T15:13:28\",\"2020-12-07T07:11:54\",\"2020-12-09T15:13:28\",\"2020-12-07T14:04:43\",\"2020-12-13T12:38:13\",\"2020-12-07T14:04:43\",\"2020-12-13T12:38:13\",\"2020-12-07T10:19:55\",\"2020-12-11T10:15:55\",\"2020-12-15T22:58:47\",\"2020-12-07T10:19:56\",\"2020-12-11T10:15:58\",\"2020-12-15T22:58:48\",\"2020-12-07T10:19:55\",\"2020-12-11T10:15:55\",\"2020-12-15T22:58:47\",\"2020-12-07T02:45:38\",\"2020-12-08T22:24:36\",\"2020-12-09T20:50:20\",\"2020-12-07T02:45:38\",\"2020-12-08T22:24:36\",\"2020-12-09T20:50:20\",\"2020-12-07T08:04:37\",\"2020-12-10T09:28:07\",\"2020-12-15T17:26:48\",\"2020-12-07T08:04:37\",\"2020-12-10T09:28:08\",\"2020-12-15T17:26:49\",\"2020-12-07T08:04:37\",\"2020-12-10T09:28:07\",\"2020-12-15T17:26:48\",\"2020-12-07T20:23:30\",\"2020-12-07T20:23:30\",\"2020-12-07T20:23:30\",\"2020-12-07T06:43:19\",\"2020-12-08T23:38:18\",\"2020-12-14T19:14:35\",\"2020-12-15T19:05:33\",\"2020-12-07T06:43:19\",\"2020-12-08T23:38:18\",\"2020-12-14T19:14:36\",\"2020-12-15T19:05:34\",\"2020-12-07T06:43:19\",\"2020-12-08T23:38:18\",\"2020-12-14T19:14:35\",\"2020-12-15T19:05:33\",\"2020-12-07T05:45:00\",\"2020-12-08T18:59:46\",\"2020-12-17T03:12:36\",\"2020-12-07T05:45:01\",\"2020-12-08T18:59:47\",\"2020-12-17T03:12:36\",\"2020-12-07T05:45:00\",\"2020-12-08T18:59:46\",\"2020-12-17T03:12:36\",\"2020-12-07T00:16:00\",\"2020-12-10T11:17:51\",\"2020-12-11T11:15:48\",\"2020-12-14T18:31:36\",\"2020-12-19T08:59:07\",\"2020-12-07T00:16:00\",\"2020-12-10T11:17:53\",\"2020-12-11T11:15:49\",\"2020-12-14T18:31:38\",\"2020-12-19T08:59:08\",\"2020-12-07T00:16:00\",\"2020-12-10T11:17:51\",\"2020-12-11T11:15:48\",\"2020-12-14T18:31:36\",\"2020-12-19T08:59:07\",\"2020-12-07T23:15:57\",\"2020-12-07T23:15:57\",\"2020-12-07T16:18:35\",\"2020-12-07T16:18:35\",\"2020-12-07T20:18:30\",\"2020-12-12T10:30:15\",\"2020-12-07T20:18:32\",\"2020-12-12T10:30:17\",\"2020-12-07T20:18:30\",\"2020-12-12T10:30:15\",\"2020-12-07T11:20:33\",\"2020-12-07T11:20:36\",\"2020-12-07T11:20:33\",\"2020-12-07T16:46:28\",\"2020-12-09T01:15:57\",\"2020-12-13T21:20:16\",\"2020-12-21T23:07:31\",\"2020-12-07T16:46:31\",\"2020-12-09T01:15:57\",\"2020-12-13T21:20:16\",\"2020-12-21T23:07:31\",\"2020-12-07T16:46:28\",\"2020-12-09T01:15:57\",\"2020-12-13T21:20:16\",\"2020-12-21T23:07:31\",\"2020-12-07T22:35:44\",\"2020-12-09T03:17:52\",\"2020-12-10T00:23:43\",\"2020-12-07T22:35:44\",\"2020-12-09T03:17:54\",\"2020-12-10T00:23:43\",\"2020-12-07T22:35:44\",\"2020-12-09T03:17:52\",\"2020-12-10T00:23:43\",\"2020-12-07T04:23:37\",\"2020-12-08T02:26:15\",\"2020-12-09T05:42:22\",\"2020-12-14T16:38:37\",\"2020-12-17T01:58:58\",\"2020-12-07T04:23:38\",\"2020-12-08T02:26:15\",\"2020-12-09T05:42:23\",\"2020-12-14T16:38:37\",\"2020-12-17T01:58:58\",\"2020-12-07T04:23:37\",\"2020-12-08T02:26:15\",\"2020-12-09T05:42:22\",\"2020-12-14T16:38:37\",\"2020-12-17T01:58:58\",\"2020-12-07T12:50:10\",\"2020-12-08T08:13:26\",\"2020-12-09T18:13:45\",\"2020-12-16T03:22:08\",\"2020-12-18T07:09:19\",\"2020-12-07T12:50:13\",\"2020-12-09T18:13:46\",\"2020-12-16T03:22:09\",\"2020-12-18T07:09:19\",\"2020-12-07T12:50:10\",\"2020-12-09T18:13:45\",\"2020-12-16T03:22:08\",\"2020-12-18T07:09:19\",\"2020-12-07T00:14:01\",\"2020-12-13T19:37:44\",\"2020-12-07T00:14:01\",\"2020-12-13T19:37:44\",\"2020-12-07T23:32:41\",\"2020-12-12T02:12:43\",\"2020-12-18T16:00:51\",\"2020-12-07T23:32:41\",\"2020-12-12T02:12:45\",\"2020-12-18T16:00:53\",\"2020-12-07T23:32:41\",\"2020-12-12T02:12:43\",\"2020-12-18T16:00:51\",\"2020-12-07T23:42:32\",\"2020-12-11T01:43:55\",\"2020-12-14T10:05:04\",\"2020-12-15T22:56:42\",\"2020-12-07T23:42:32\",\"2020-12-11T01:43:55\",\"2020-12-14T10:05:04\",\"2020-12-15T22:56:44\",\"2020-12-07T23:42:32\",\"2020-12-11T01:43:55\",\"2020-12-14T10:05:04\",\"2020-12-15T22:56:42\",\"2020-12-07T16:41:37\",\"2020-12-10T08:04:58\",\"2020-12-07T16:41:37\",\"2020-12-10T08:04:58\",\"2020-12-07T21:00:18\",\"2020-12-08T11:57:07\",\"2020-12-07T21:00:18\",\"2020-12-08T11:57:07\",\"2020-12-07T11:32:40\",\"2020-12-13T04:58:08\",\"2020-12-14T06:00:00\",\"2020-12-17T02:05:09\",\"2020-12-07T11:32:40\",\"2020-12-13T04:58:08\",\"2020-12-14T06:00:00\",\"2020-12-17T02:05:09\",\"2020-12-07T08:28:25\",\"2020-12-10T15:08:35\",\"2020-12-14T21:19:24\",\"2020-12-07T08:28:26\",\"2020-12-10T15:08:35\",\"2020-12-14T21:19:27\",\"2020-12-07T08:28:25\",\"2020-12-10T15:08:35\",\"2020-12-14T21:19:24\",\"2020-12-07T14:43:27\",\"2020-12-07T14:43:29\",\"2020-12-07T14:43:27\",\"2020-12-07T14:43:27\",\"2020-12-07T13:53:32\",\"2020-12-08T12:32:10\",\"2020-12-13T18:52:00\",\"2020-12-07T13:53:32\",\"2020-12-08T12:32:12\",\"2020-12-13T18:52:03\",\"2020-12-07T13:53:32\",\"2020-12-08T12:32:10\",\"2020-12-13T18:52:00\",\"2020-12-07T20:08:54\",\"2020-12-07T20:08:56\",\"2020-12-07T20:08:54\",\"2020-12-08T03:53:38\",\"2020-12-09T21:46:20\",\"2020-12-11T06:07:27\",\"2020-12-07T11:09:07\",\"2020-12-08T03:53:38\",\"2020-12-09T21:46:21\",\"2020-12-11T06:07:27\",\"2020-12-07T11:09:07\",\"2020-12-08T03:53:38\",\"2020-12-09T21:46:20\",\"2020-12-11T06:07:27\",\"2020-12-08T03:36:58\",\"2020-12-11T15:39:20\",\"2020-12-16T03:12:40\",\"2020-12-07T17:52:58\",\"2020-12-08T03:36:58\",\"2020-12-11T15:39:20\",\"2020-12-16T03:12:40\",\"2020-12-08T11:25:39\",\"2020-12-09T04:12:14\",\"2020-12-11T22:28:15\",\"2020-12-15T14:16:28\",\"2020-12-20T17:28:41\",\"2020-12-21T05:41:41\",\"2020-12-08T11:25:41\",\"2020-12-09T04:12:15\",\"2020-12-11T22:28:15\",\"2020-12-15T14:16:28\",\"2020-12-20T17:28:42\",\"2020-12-21T05:41:41\",\"2020-12-08T11:25:39\",\"2020-12-09T04:12:14\",\"2020-12-11T22:28:15\",\"2020-12-15T14:16:28\",\"2020-12-20T17:28:41\",\"2020-12-21T05:41:41\",\"2020-12-08T02:43:46\",\"2020-12-10T12:44:38\",\"2020-12-19T14:43:56\",\"2020-12-22T15:31:34\",\"2020-12-08T02:43:46\",\"2020-12-10T12:44:38\",\"2020-12-19T14:43:56\",\"2020-12-22T15:31:34\",\"2020-12-08T18:50:58\",\"2020-12-10T13:04:35\",\"2020-12-14T08:21:45\",\"2020-12-08T18:50:58\",\"2020-12-10T13:04:37\",\"2020-12-14T08:21:47\",\"2020-12-08T18:50:58\",\"2020-12-10T13:04:35\",\"2020-12-14T08:21:45\",\"2020-12-08T04:13:10\",\"2020-12-13T23:06:14\",\"2020-12-19T15:25:13\",\"2020-12-08T04:13:11\",\"2020-12-13T23:06:16\",\"2020-12-19T15:25:13\",\"2020-12-08T04:13:10\",\"2020-12-13T23:06:14\",\"2020-12-19T15:25:13\",\"2020-12-08T09:14:40\",\"2020-12-09T13:22:02\",\"2020-12-14T21:55:23\",\"2020-12-15T09:04:16\",\"2020-12-08T09:14:40\",\"2020-12-09T13:22:03\",\"2020-12-14T21:55:24\",\"2020-12-15T09:04:17\",\"2020-12-08T09:14:40\",\"2020-12-09T13:22:02\",\"2020-12-14T21:55:23\",\"2020-12-15T09:04:16\",\"2020-12-08T21:49:28\",\"2020-12-09T19:05:19\",\"2020-12-11T10:57:50\",\"2020-12-08T21:49:28\",\"2020-12-09T19:05:19\",\"2020-12-11T10:57:50\",\"2020-12-08T16:18:56\",\"2020-12-13T01:55:01\",\"2020-12-08T16:18:56\",\"2020-12-13T01:55:01\",\"2020-12-08T01:36:23\",\"2020-12-09T04:56:13\",\"2020-12-08T01:36:23\",\"2020-12-09T04:56:13\",\"2020-12-08T01:23:56\",\"2020-12-09T08:20:45\",\"2020-12-13T23:06:32\",\"2020-12-17T09:35:10\",\"2020-12-08T01:23:56\",\"2020-12-09T08:20:46\",\"2020-12-13T23:06:34\",\"2020-12-17T09:35:12\",\"2020-12-08T01:23:58\",\"2020-12-09T08:20:45\",\"2020-12-13T23:06:33\",\"2020-12-17T09:35:10\",\"2020-12-08T01:23:56\",\"2020-12-09T08:20:45\",\"2020-12-13T23:06:32\",\"2020-12-17T09:35:10\",\"2020-12-08T03:20:23\",\"2020-12-13T09:08:52\",\"2020-12-08T03:20:23\",\"2020-12-13T09:08:53\",\"2020-12-08T03:20:23\",\"2020-12-13T09:08:52\",\"2020-12-08T14:55:08\",\"2020-12-08T14:55:08\",\"2020-12-08T17:22:31\",\"2020-12-09T07:40:59\",\"2020-12-10T19:01:41\",\"2020-12-11T17:25:59\",\"2020-12-08T17:22:31\",\"2020-12-09T07:40:59\",\"2020-12-10T19:01:41\",\"2020-12-11T17:25:59\",\"2020-12-08T12:45:56\",\"2020-12-09T13:33:39\",\"2020-12-10T06:35:29\",\"2020-12-11T00:53:59\",\"2020-12-12T18:48:12\",\"2020-12-16T02:08:09\",\"2020-12-08T12:45:56\",\"2020-12-09T13:33:39\",\"2020-12-10T06:35:29\",\"2020-12-11T00:54:01\",\"2020-12-12T18:48:12\",\"2020-12-16T02:08:09\",\"2020-12-08T12:45:56\",\"2020-12-09T13:33:39\",\"2020-12-10T06:35:29\",\"2020-12-11T00:53:59\",\"2020-12-12T18:48:12\",\"2020-12-16T02:08:09\",\"2020-12-08T09:27:59\",\"2020-12-09T08:52:34\",\"2020-12-10T04:12:16\",\"2020-12-11T01:51:18\",\"2020-12-08T09:27:59\",\"2020-12-09T08:52:34\",\"2020-12-10T04:12:16\",\"2020-12-11T01:51:18\",\"2020-12-08T23:52:55\",\"2020-12-08T23:52:59\",\"2020-12-08T23:52:59\",\"2020-12-08T23:52:55\",\"2020-12-08T23:19:53\",\"2020-12-17T08:31:05\",\"2020-12-08T23:19:54\",\"2020-12-17T08:31:08\",\"2020-12-08T23:19:53\",\"2020-12-17T08:31:05\",\"2020-12-08T08:42:40\",\"2020-12-09T10:37:14\",\"2020-12-08T08:42:40\",\"2020-12-09T10:37:17\",\"2020-12-08T08:42:40\",\"2020-12-09T10:37:14\",\"2020-12-08T11:14:03\",\"2020-12-08T11:14:06\",\"2020-12-08T11:14:03\",\"2020-12-08T11:14:03\",\"2020-12-08T06:29:25\",\"2020-12-09T19:01:05\",\"2020-12-08T06:29:28\",\"2020-12-09T19:01:05\",\"2020-12-08T06:29:26\",\"2020-12-09T19:01:09\",\"2020-12-08T06:29:25\",\"2020-12-09T19:01:05\",\"2020-12-08T08:50:58\",\"2020-12-09T04:54:31\",\"2020-12-12T05:31:16\",\"2020-12-08T08:50:58\",\"2020-12-09T04:54:33\",\"2020-12-12T05:31:18\",\"2020-12-08T08:50:58\",\"2020-12-09T04:54:31\",\"2020-12-12T05:31:16\",\"2020-12-09T09:20:20\",\"2020-12-10T20:03:03\",\"2020-12-08T22:23:36\",\"2020-12-09T09:20:21\",\"2020-12-10T20:03:03\",\"2020-12-08T22:23:35\",\"2020-12-09T09:20:20\",\"2020-12-10T20:03:03\",\"2020-12-09T02:25:00\",\"2020-12-10T11:40:02\",\"2020-12-11T16:13:40\",\"2020-12-12T01:48:44\",\"2020-12-18T23:15:06\",\"2020-12-09T02:25:02\",\"2020-12-10T11:40:04\",\"2020-12-11T16:13:41\",\"2020-12-12T01:48:44\",\"2020-12-18T23:15:06\",\"2020-12-09T02:25:00\",\"2020-12-10T11:40:02\",\"2020-12-11T16:13:40\",\"2020-12-12T01:48:44\",\"2020-12-18T23:15:06\",\"2020-12-09T15:24:33\",\"2020-12-11T07:22:03\",\"2020-12-12T21:55:44\",\"2020-12-13T15:25:56\",\"2020-12-09T15:24:34\",\"2020-12-11T07:22:05\",\"2020-12-12T21:55:45\",\"2020-12-13T15:25:57\",\"2020-12-09T15:24:33\",\"2020-12-11T07:22:03\",\"2020-12-12T21:55:44\",\"2020-12-13T15:25:56\",\"2020-12-09T19:07:46\",\"2020-12-10T04:36:11\",\"2020-12-17T10:53:01\",\"2020-12-09T19:07:46\",\"2020-12-10T04:36:11\",\"2020-12-17T10:53:01\",\"2020-12-09T03:48:03\",\"2020-12-12T08:06:22\",\"2020-12-09T03:48:04\",\"2020-12-12T08:06:23\",\"2020-12-09T03:48:03\",\"2020-12-12T08:06:22\",\"2020-12-09T01:28:22\",\"2020-12-10T19:55:45\",\"2020-12-17T00:23:47\",\"2020-12-09T01:28:22\",\"2020-12-10T19:55:46\",\"2020-12-17T00:23:47\",\"2020-12-09T01:28:22\",\"2020-12-10T19:55:46\",\"2020-12-17T00:23:47\",\"2020-12-09T01:28:22\",\"2020-12-10T19:55:45\",\"2020-12-17T00:23:47\",\"2020-12-09T12:49:54\",\"2020-12-12T05:05:39\",\"2020-12-09T12:49:56\",\"2020-12-12T05:05:43\",\"2020-12-09T12:49:54\",\"2020-12-12T05:05:39\",\"2020-12-09T22:36:05\",\"2020-12-10T03:11:19\",\"2020-12-09T22:36:07\",\"2020-12-10T03:11:19\",\"2020-12-09T22:36:05\",\"2020-12-10T03:11:19\",\"2020-12-09T21:04:19\",\"2020-12-10T03:17:17\",\"2020-12-12T06:24:49\",\"2020-12-19T12:58:38\",\"2020-12-09T21:04:19\",\"2020-12-10T03:17:17\",\"2020-12-12T06:24:49\",\"2020-12-19T12:58:38\",\"2020-12-09T08:57:33\",\"2020-12-12T06:04:04\",\"2020-12-19T10:27:53\",\"2020-12-09T08:57:34\",\"2020-12-12T06:04:05\",\"2020-12-19T10:27:53\",\"2020-12-09T08:57:34\",\"2020-12-12T06:04:04\",\"2020-12-19T10:27:53\",\"2020-12-09T08:57:33\",\"2020-12-12T06:04:04\",\"2020-12-19T10:27:53\",\"2020-12-09T00:44:58\",\"2020-12-10T18:14:45\",\"2020-12-11T15:51:49\",\"2020-12-09T00:45:01\",\"2020-12-10T18:14:46\",\"2020-12-11T15:51:50\",\"2020-12-09T00:44:58\",\"2020-12-10T18:14:45\",\"2020-12-11T15:51:49\",\"2020-12-09T02:08:31\",\"2020-12-10T09:04:50\",\"2020-12-09T02:08:34\",\"2020-12-10T09:04:51\",\"2020-12-09T02:08:35\",\"2020-12-10T09:04:51\",\"2020-12-09T02:08:31\",\"2020-12-10T09:04:50\",\"2020-12-09T23:07:28\",\"2020-12-12T14:58:41\",\"2020-12-21T19:59:42\",\"2020-12-09T23:07:29\",\"2020-12-12T14:58:42\",\"2020-12-21T19:59:42\",\"2020-12-09T23:07:29\",\"2020-12-12T14:58:41\",\"2020-12-21T19:59:42\",\"2020-12-09T23:07:28\",\"2020-12-12T14:58:41\",\"2020-12-21T19:59:42\",\"2020-12-09T21:48:27\",\"2020-12-10T23:38:47\",\"2020-12-11T19:17:29\",\"2020-12-09T21:48:27\",\"2020-12-10T23:38:47\",\"2020-12-11T19:17:29\",\"2020-12-09T22:57:10\",\"2020-12-12T05:20:24\",\"2020-12-15T03:56:49\",\"2020-12-20T22:44:21\",\"2020-12-09T22:57:10\",\"2020-12-12T05:20:26\",\"2020-12-15T03:56:49\",\"2020-12-20T22:44:21\",\"2020-12-09T22:57:10\",\"2020-12-12T05:20:24\",\"2020-12-15T03:56:49\",\"2020-12-20T22:44:21\",\"2020-12-09T14:19:52\",\"2020-12-09T14:19:53\",\"2020-12-09T14:19:52\",\"2020-12-09T15:50:50\",\"2020-12-10T01:36:05\",\"2020-12-11T02:48:36\",\"2020-12-16T14:21:20\",\"2020-12-09T15:50:50\",\"2020-12-10T01:36:05\",\"2020-12-11T02:48:36\",\"2020-12-16T14:21:20\",\"2020-12-09T23:50:47\",\"2020-12-10T13:21:06\",\"2020-12-12T20:15:56\",\"2020-12-22T23:33:33\",\"2020-12-09T23:50:47\",\"2020-12-10T13:21:07\",\"2020-12-12T20:15:56\",\"2020-12-22T23:33:33\",\"2020-12-09T23:50:47\",\"2020-12-10T13:21:06\",\"2020-12-12T20:15:56\",\"2020-12-22T23:33:33\",\"2020-12-09T04:32:17\",\"2020-12-20T19:01:28\",\"2020-12-09T04:32:17\",\"2020-12-20T19:01:28\",\"2020-12-09T04:32:17\",\"2020-12-20T19:01:28\",\"2020-12-09T04:29:57\",\"2020-12-10T01:26:05\",\"2020-12-13T01:53:43\",\"2020-12-16T04:24:28\",\"2020-12-09T04:29:58\",\"2020-12-10T01:26:05\",\"2020-12-13T01:53:44\",\"2020-12-16T04:24:28\",\"2020-12-09T04:29:57\",\"2020-12-10T01:26:05\",\"2020-12-13T01:53:43\",\"2020-12-16T04:24:28\",\"2020-12-09T01:07:51\",\"2020-12-13T11:47:30\",\"2020-12-21T13:10:46\",\"2020-12-09T01:07:51\",\"2020-12-13T11:47:30\",\"2020-12-21T13:10:46\",\"2020-12-09T01:59:43\",\"2020-12-09T01:59:43\",\"2020-12-09T01:59:43\",\"2020-12-09T08:01:43\",\"2020-12-10T21:09:29\",\"2020-12-20T17:35:22\",\"2020-12-09T08:01:44\",\"2020-12-10T21:09:34\",\"2020-12-20T17:35:23\",\"2020-12-09T08:01:43\",\"2020-12-10T21:09:29\",\"2020-12-20T17:35:22\",\"2020-12-10T19:07:04\",\"2020-12-11T14:13:14\",\"2020-12-10T19:07:04\",\"2020-12-11T14:13:14\",\"2020-12-10T19:07:04\",\"2020-12-11T14:13:14\",\"2020-12-10T00:49:11\",\"2020-12-11T11:50:56\",\"2020-12-10T00:49:11\",\"2020-12-11T11:50:56\",\"2020-12-10T03:41:27\",\"2020-12-13T02:36:44\",\"2020-12-10T03:41:27\",\"2020-12-13T02:36:46\",\"2020-12-10T03:41:27\",\"2020-12-13T02:36:44\",\"2020-12-10T06:28:40\",\"2020-12-11T19:06:44\",\"2020-12-17T16:08:30\",\"2020-12-10T06:28:40\",\"2020-12-11T19:06:44\",\"2020-12-17T16:08:30\",\"2020-12-10T08:54:13\",\"2020-12-16T15:23:17\",\"2020-12-10T08:54:15\",\"2020-12-16T15:23:19\",\"2020-12-10T08:54:13\",\"2020-12-16T15:23:17\",\"2020-12-10T06:45:50\",\"2020-12-10T06:45:50\",\"2020-12-10T06:45:50\",\"2020-12-10T21:09:36\",\"2020-12-10T21:09:37\",\"2020-12-10T21:09:36\",\"2020-12-10T21:09:36\",\"2020-12-10T02:12:59\",\"2020-12-11T07:04:14\",\"2020-12-10T02:13:01\",\"2020-12-11T07:04:14\",\"2020-12-10T02:12:59\",\"2020-12-11T07:04:14\",\"2020-12-10T06:00:22\",\"2020-12-10T06:00:25\",\"2020-12-10T06:00:22\",\"2020-12-10T21:42:48\",\"2020-12-20T17:51:26\",\"2020-12-10T21:42:50\",\"2020-12-20T17:51:27\",\"2020-12-10T21:42:48\",\"2020-12-20T17:51:26\",\"2020-12-10T02:06:33\",\"2020-12-11T02:19:45\",\"2020-12-17T01:23:17\",\"2020-12-23T02:13:45\",\"2020-12-10T02:06:33\",\"2020-12-11T02:19:45\",\"2020-12-17T01:23:17\",\"2020-12-23T02:13:45\",\"2020-12-10T17:17:26\",\"2020-12-11T09:01:10\",\"2020-12-16T15:41:12\",\"2020-12-10T17:17:28\",\"2020-12-11T09:01:11\",\"2020-12-16T15:41:12\",\"2020-12-10T17:17:26\",\"2020-12-11T09:01:10\",\"2020-12-16T15:41:12\",\"2020-12-10T13:30:53\",\"2020-12-11T23:58:33\",\"2020-12-17T07:11:43\",\"2020-12-24T20:46:51\",\"2020-12-10T13:30:53\",\"2020-12-11T23:58:33\",\"2020-12-17T07:11:44\",\"2020-12-24T20:46:54\",\"2020-12-10T13:30:53\",\"2020-12-11T23:58:33\",\"2020-12-17T07:11:43\",\"2020-12-24T20:46:51\",\"2020-12-10T18:57:03\",\"2020-12-12T13:08:13\",\"2020-12-15T10:50:38\",\"2020-12-10T18:57:03\",\"2020-12-12T13:08:16\",\"2020-12-15T10:50:39\",\"2020-12-10T18:57:03\",\"2020-12-12T13:08:13\",\"2020-12-15T10:50:38\",\"2020-12-10T21:02:38\",\"2020-12-10T21:02:38\",\"2020-12-10T21:02:38\",\"2020-12-10T05:39:37\",\"2020-12-11T19:46:06\",\"2020-12-10T05:39:37\",\"2020-12-11T19:46:07\",\"2020-12-10T05:39:37\",\"2020-12-11T19:46:06\",\"2020-12-10T14:28:13\",\"2020-12-11T18:42:39\",\"2020-12-14T22:54:12\",\"2020-12-10T14:28:13\",\"2020-12-11T18:42:40\",\"2020-12-14T22:54:13\",\"2020-12-10T14:28:13\",\"2020-12-11T18:42:39\",\"2020-12-14T22:54:12\",\"2020-12-11T18:59:02\",\"2020-12-12T22:14:42\",\"2020-12-17T17:49:48\",\"2020-12-11T18:59:02\",\"2020-12-12T22:14:42\",\"2020-12-17T17:49:48\",\"2020-12-11T08:54:43\",\"2020-12-14T02:00:26\",\"2020-12-11T08:54:43\",\"2020-12-14T02:00:26\",\"2020-12-11T04:18:07\",\"2020-12-12T05:30:51\",\"2020-12-22T17:03:43\",\"2020-12-11T04:18:07\",\"2020-12-12T05:30:51\",\"2020-12-22T17:03:43\",\"2020-12-11T22:47:21\",\"2020-12-14T00:03:17\",\"2020-12-11T22:47:21\",\"2020-12-14T00:03:17\",\"2020-12-11T22:47:21\",\"2020-12-14T00:03:17\",\"2020-12-11T08:54:14\",\"2020-12-17T18:47:22\",\"2020-12-11T08:54:14\",\"2020-12-17T18:47:22\",\"2020-12-11T08:54:15\",\"2020-12-17T18:47:22\",\"2020-12-11T08:54:14\",\"2020-12-17T18:47:22\",\"2020-12-11T18:12:57\",\"2020-12-20T13:21:17\",\"2020-12-11T18:12:59\",\"2020-12-20T13:21:20\",\"2020-12-11T18:12:57\",\"2020-12-20T13:21:17\",\"2020-12-11T05:56:46\",\"2020-12-12T07:30:13\",\"2020-12-11T05:56:46\",\"2020-12-12T07:30:18\",\"2020-12-11T05:56:46\",\"2020-12-12T07:30:13\",\"2020-12-11T03:50:23\",\"2020-12-11T03:50:23\",\"2020-12-11T03:50:23\",\"2020-12-11T07:25:59\",\"2020-12-12T01:02:12\",\"2020-12-13T04:14:19\",\"2020-12-16T04:28:14\",\"2020-12-21T03:01:13\",\"2020-12-11T07:26:00\",\"2020-12-12T01:02:12\",\"2020-12-13T04:14:20\",\"2020-12-16T04:28:14\",\"2020-12-21T03:01:13\",\"2020-12-11T07:25:59\",\"2020-12-12T01:02:12\",\"2020-12-13T04:14:19\",\"2020-12-16T04:28:14\",\"2020-12-21T03:01:13\",\"2020-12-11T16:41:11\",\"2020-12-12T13:00:15\",\"2020-12-11T16:41:13\",\"2020-12-12T13:00:15\",\"2020-12-11T16:41:11\",\"2020-12-12T13:00:15\",\"2020-12-11T16:41:11\",\"2020-12-12T13:00:15\",\"2020-12-11T07:38:31\",\"2020-12-14T23:04:59\",\"2020-12-15T11:01:41\",\"2020-12-11T07:38:31\",\"2020-12-14T23:04:59\",\"2020-12-15T11:01:41\",\"2020-12-11T14:57:40\",\"2020-12-12T03:08:20\",\"2020-12-13T08:51:23\",\"2020-12-11T14:57:40\",\"2020-12-12T03:08:22\",\"2020-12-13T08:51:23\",\"2020-12-11T14:57:40\",\"2020-12-12T03:08:20\",\"2020-12-13T08:51:23\",\"2020-12-11T12:59:58\",\"2020-12-13T20:57:09\",\"2020-12-14T12:44:30\",\"2020-12-11T12:59:58\",\"2020-12-13T20:57:09\",\"2020-12-14T12:44:33\",\"2020-12-11T12:59:58\",\"2020-12-13T20:57:11\",\"2020-12-14T12:44:31\",\"2020-12-11T12:59:58\",\"2020-12-13T20:57:09\",\"2020-12-14T12:44:30\",\"2020-12-11T16:57:05\",\"2020-12-13T14:54:38\",\"2020-12-11T16:57:06\",\"2020-12-13T14:54:40\",\"2020-12-11T16:57:05\",\"2020-12-13T14:54:38\",\"2020-12-11T20:25:42\",\"2020-12-21T18:23:04\",\"2020-12-24T06:45:29\",\"2020-12-11T20:25:44\",\"2020-12-21T18:23:04\",\"2020-12-24T06:45:29\",\"2020-12-11T20:25:42\",\"2020-12-21T18:23:04\",\"2020-12-24T06:45:29\",\"2020-12-11T20:25:42\",\"2020-12-21T18:23:04\",\"2020-12-24T06:45:29\",\"2020-12-12T22:12:34\",\"2020-12-12T22:12:34\",\"2020-12-12T22:12:34\",\"2020-12-12T10:57:09\",\"2020-12-12T10:57:09\",\"2020-12-12T10:02:17\",\"2020-12-12T10:02:18\",\"2020-12-12T10:02:17\",\"2020-12-12T09:14:50\",\"2020-12-12T09:14:50\",\"2020-12-12T09:14:50\",\"2020-12-12T17:14:01\",\"2020-12-12T17:14:03\",\"2020-12-12T17:14:01\",\"2020-12-12T20:52:11\",\"2020-12-13T20:16:02\",\"2020-12-12T20:52:12\",\"2020-12-13T20:16:02\",\"2020-12-12T20:52:11\",\"2020-12-13T20:16:02\",\"2020-12-12T19:16:32\",\"2020-12-14T01:54:45\",\"2020-12-15T11:42:19\",\"2020-12-21T18:56:19\",\"2020-12-12T19:16:34\",\"2020-12-14T01:54:45\",\"2020-12-15T11:42:22\",\"2020-12-21T18:56:19\",\"2020-12-12T19:16:32\",\"2020-12-14T01:54:45\",\"2020-12-15T11:42:19\",\"2020-12-21T18:56:19\",\"2020-12-12T19:33:07\",\"2020-12-12T19:33:07\",\"2020-12-12T20:57:45\",\"2020-12-13T07:11:44\",\"2020-12-12T20:57:45\",\"2020-12-13T07:11:47\",\"2020-12-12T20:57:46\",\"2020-12-13T07:11:44\",\"2020-12-12T20:57:45\",\"2020-12-13T07:11:44\",\"2020-12-12T21:01:56\",\"2020-12-13T09:31:04\",\"2020-12-12T21:01:58\",\"2020-12-13T09:31:04\",\"2020-12-12T21:01:56\",\"2020-12-13T09:31:04\",\"2020-12-12T06:15:32\",\"2020-12-18T17:19:00\",\"2020-12-12T06:15:34\",\"2020-12-18T17:19:00\",\"2020-12-12T06:15:34\",\"2020-12-18T17:19:01\",\"2020-12-12T06:15:32\",\"2020-12-18T17:19:00\",\"2020-12-12T08:45:30\",\"2020-12-13T01:10:07\",\"2020-12-23T10:40:04\",\"2020-12-12T08:45:32\",\"2020-12-13T01:10:08\",\"2020-12-23T10:40:04\",\"2020-12-12T08:45:30\",\"2020-12-13T01:10:07\",\"2020-12-23T10:40:04\",\"2020-12-12T15:47:45\",\"2020-12-13T08:22:50\",\"2020-12-15T07:03:33\",\"2020-12-21T14:44:27\",\"2020-12-12T15:47:45\",\"2020-12-13T08:22:50\",\"2020-12-15T07:03:33\",\"2020-12-21T14:44:27\",\"2020-12-12T10:50:59\",\"2020-12-14T09:37:55\",\"2020-12-12T10:51:01\",\"2020-12-14T09:37:56\",\"2020-12-12T10:50:59\",\"2020-12-14T09:37:55\",\"2020-12-13T17:06:09\",\"2020-12-20T14:11:56\",\"2020-12-24T00:51:59\",\"2020-12-13T17:06:09\",\"2020-12-20T14:11:57\",\"2020-12-24T00:52:00\",\"2020-12-13T17:06:09\",\"2020-12-20T14:11:56\",\"2020-12-24T00:51:59\",\"2020-12-13T10:51:37\",\"2020-12-13T10:51:38\",\"2020-12-13T10:51:37\",\"2020-12-13T06:08:05\",\"2020-12-14T04:45:52\",\"2020-12-20T04:43:29\",\"2020-12-13T06:08:05\",\"2020-12-14T04:45:54\",\"2020-12-20T04:43:30\",\"2020-12-13T06:08:05\",\"2020-12-14T04:45:52\",\"2020-12-20T04:43:29\",\"2020-12-13T00:59:42\",\"2020-12-13T00:59:42\",\"2020-12-13T00:59:42\",\"2020-12-13T15:06:12\",\"2020-12-13T15:06:13\",\"2020-12-13T15:06:12\",\"2020-12-13T22:39:32\",\"2020-12-14T14:41:18\",\"2020-12-15T10:25:11\",\"2020-12-13T22:39:34\",\"2020-12-14T14:41:19\",\"2020-12-15T10:25:11\",\"2020-12-13T22:39:32\",\"2020-12-14T14:41:18\",\"2020-12-15T10:25:11\",\"2020-12-13T02:33:48\",\"2020-12-17T22:54:39\",\"2020-12-20T04:52:03\",\"2020-12-13T02:33:52\",\"2020-12-17T22:54:41\",\"2020-12-20T04:52:05\",\"2020-12-13T02:33:48\",\"2020-12-17T22:54:39\",\"2020-12-20T04:52:03\",\"2020-12-13T01:47:12\",\"2020-12-16T15:49:02\",\"2020-12-13T01:47:13\",\"2020-12-16T15:49:04\",\"2020-12-26T11:30:05\",\"2020-12-13T01:47:12\",\"2020-12-16T15:49:02\",\"2020-12-26T11:30:04\",\"2020-12-14T04:04:46\",\"2020-12-21T16:52:35\",\"2020-12-14T04:04:46\",\"2020-12-21T16:52:35\",\"2020-12-14T13:41:07\",\"2020-12-16T04:53:31\",\"2020-12-14T13:41:08\",\"2020-12-16T04:53:31\",\"2020-12-14T13:41:07\",\"2020-12-16T04:53:31\",\"2020-12-14T10:18:11\",\"2020-12-18T13:40:33\",\"2020-12-23T17:53:41\",\"2020-12-14T10:18:11\",\"2020-12-18T13:40:34\",\"2020-12-23T17:53:43\",\"2020-12-14T10:18:11\",\"2020-12-18T13:40:33\",\"2020-12-23T17:53:41\",\"2020-12-14T12:02:53\",\"2020-12-15T15:17:06\",\"2020-12-17T20:27:25\",\"2020-12-14T12:02:53\",\"2020-12-15T15:17:06\",\"2020-12-17T20:27:25\",\"2020-12-14T10:28:52\",\"2020-12-16T13:30:12\",\"2020-12-22T11:33:28\",\"2020-12-26T19:26:48\",\"2020-12-14T10:28:53\",\"2020-12-16T13:30:12\",\"2020-12-22T11:33:29\",\"2020-12-26T19:26:48\",\"2020-12-14T10:28:52\",\"2020-12-16T13:30:12\",\"2020-12-22T11:33:28\",\"2020-12-26T19:26:48\",\"2020-12-14T22:28:31\",\"2020-12-15T10:51:31\",\"2020-12-16T14:03:18\",\"2020-12-21T02:49:22\",\"2020-12-22T01:50:32\",\"2020-12-14T22:28:31\",\"2020-12-15T10:51:32\",\"2020-12-16T14:03:20\",\"2020-12-21T02:49:24\",\"2020-12-22T01:50:33\",\"2020-12-14T22:28:31\",\"2020-12-15T10:51:31\",\"2020-12-16T14:03:18\",\"2020-12-21T02:49:22\",\"2020-12-22T01:50:32\",\"2020-12-14T04:00:11\",\"2020-12-15T14:45:14\",\"2020-12-18T23:44:20\",\"2020-12-24T05:20:41\",\"2020-12-14T04:00:12\",\"2020-12-15T14:45:15\",\"2020-12-18T23:44:23\",\"2020-12-24T05:20:41\",\"2020-12-14T04:00:11\",\"2020-12-15T14:45:14\",\"2020-12-18T23:44:20\",\"2020-12-24T05:20:41\",\"2020-12-14T09:43:59\",\"2020-12-15T22:37:22\",\"2020-12-16T04:10:30\",\"2020-12-14T09:43:59\",\"2020-12-15T22:37:23\",\"2020-12-16T04:10:30\",\"2020-12-14T09:43:59\",\"2020-12-15T22:37:22\",\"2020-12-16T04:10:30\",\"2020-12-14T18:49:25\",\"2020-12-15T20:32:43\",\"2020-12-18T02:04:21\",\"2020-12-22T07:06:15\",\"2020-12-14T18:49:27\",\"2020-12-15T20:32:43\",\"2020-12-18T02:04:21\",\"2020-12-22T07:06:17\",\"2020-12-14T18:49:25\",\"2020-12-15T20:32:43\",\"2020-12-18T02:04:21\",\"2020-12-22T07:06:15\",\"2020-12-14T01:22:02\",\"2020-12-15T20:24:57\",\"2020-12-16T03:27:16\",\"2020-12-17T23:52:40\",\"2020-12-21T16:47:14\",\"2020-12-14T01:22:04\",\"2020-12-15T20:24:57\",\"2020-12-16T03:27:17\",\"2020-12-17T23:52:41\",\"2020-12-21T16:47:14\",\"2020-12-14T01:22:02\",\"2020-12-15T20:24:57\",\"2020-12-16T03:27:16\",\"2020-12-17T23:52:42\",\"2020-12-21T16:47:14\",\"2020-12-14T01:22:02\",\"2020-12-15T20:24:57\",\"2020-12-16T03:27:16\",\"2020-12-17T23:52:40\",\"2020-12-21T16:47:14\",\"2020-12-14T06:16:00\",\"2020-12-16T12:04:35\",\"2020-12-17T02:51:15\",\"2020-12-26T09:39:25\",\"2020-12-27T23:09:35\",\"2020-12-14T06:16:03\",\"2020-12-16T12:04:36\",\"2020-12-17T02:51:16\",\"2020-12-26T09:39:27\",\"2020-12-27T23:09:35\",\"2020-12-14T06:16:00\",\"2020-12-16T12:04:35\",\"2020-12-17T02:51:15\",\"2020-12-26T09:39:25\",\"2020-12-27T23:09:35\",\"2020-12-14T01:01:02\",\"2020-12-15T02:26:19\",\"2020-12-16T19:56:32\",\"2020-12-18T18:27:59\",\"2020-12-24T18:58:31\",\"2020-12-14T01:01:03\",\"2020-12-15T02:26:20\",\"2020-12-16T19:56:32\",\"2020-12-18T18:28:01\",\"2020-12-24T18:58:31\",\"2020-12-14T01:01:02\",\"2020-12-15T02:26:19\",\"2020-12-16T19:56:32\",\"2020-12-18T18:27:59\",\"2020-12-24T18:58:31\",\"2020-12-14T06:30:35\",\"2020-12-16T08:44:13\",\"2020-12-17T17:32:29\",\"2020-12-19T21:59:00\",\"2020-12-21T01:06:02\",\"2020-12-14T06:30:35\",\"2020-12-16T08:44:14\",\"2020-12-17T17:32:31\",\"2020-12-19T21:59:00\",\"2020-12-21T01:06:02\",\"2020-12-14T06:30:35\",\"2020-12-16T08:44:13\",\"2020-12-17T17:32:29\",\"2020-12-19T21:59:00\",\"2020-12-21T01:06:02\",\"2020-12-14T04:07:36\",\"2020-12-16T01:55:31\",\"2020-12-18T07:39:05\",\"2020-12-22T18:02:18\",\"2020-12-14T04:07:36\",\"2020-12-16T01:55:32\",\"2020-12-18T07:39:07\",\"2020-12-22T18:02:20\",\"2020-12-14T04:07:36\",\"2020-12-16T01:55:31\",\"2020-12-18T07:39:05\",\"2020-12-22T18:02:18\",\"2020-12-14T07:29:56\",\"2020-12-15T17:04:26\",\"2020-12-16T00:03:04\",\"2020-12-14T07:29:56\",\"2020-12-15T17:04:26\",\"2020-12-16T00:03:04\",\"2020-12-14T05:55:20\",\"2020-12-15T14:28:15\",\"2020-12-14T05:55:22\",\"2020-12-15T14:28:17\",\"2020-12-14T05:55:20\",\"2020-12-15T14:28:15\",\"2020-12-14T01:08:56\",\"2020-12-18T15:32:07\",\"2020-12-19T21:23:09\",\"2020-12-21T15:58:37\",\"2020-12-25T08:33:18\",\"2020-12-14T01:08:58\",\"2020-12-18T15:32:11\",\"2020-12-19T21:23:09\",\"2020-12-21T15:58:38\",\"2020-12-25T08:33:21\",\"2020-12-14T01:08:56\",\"2020-12-18T15:32:07\",\"2020-12-19T21:23:09\",\"2020-12-21T15:58:37\",\"2020-12-25T08:33:18\",\"2020-12-14T00:57:26\",\"2020-12-15T02:59:04\",\"2020-12-19T18:49:32\",\"2020-12-20T18:10:37\",\"2020-12-14T00:57:26\",\"2020-12-15T02:59:04\",\"2020-12-19T18:49:32\",\"2020-12-20T18:10:37\",\"2020-12-14T04:18:48\",\"2020-12-14T04:18:52\",\"2020-12-14T04:18:53\",\"2020-12-14T04:18:48\",\"2020-12-14T19:02:14\",\"2020-12-18T18:42:20\",\"2020-12-19T11:03:23\",\"2020-12-23T15:49:23\",\"2020-12-26T02:40:34\",\"2020-12-14T19:02:14\",\"2020-12-18T18:42:23\",\"2020-12-19T11:03:23\",\"2020-12-23T15:49:23\",\"2020-12-26T02:40:35\",\"2020-12-14T19:02:14\",\"2020-12-18T18:42:20\",\"2020-12-19T11:03:23\",\"2020-12-23T15:49:23\",\"2020-12-26T02:40:34\",\"2020-12-14T19:03:30\",\"2020-12-15T18:59:54\",\"2020-12-19T10:07:41\",\"2020-12-20T04:53:55\",\"2020-12-24T07:38:30\",\"2020-12-26T00:05:35\",\"2020-12-14T19:03:32\",\"2020-12-15T18:59:55\",\"2020-12-19T10:07:41\",\"2020-12-20T04:53:56\",\"2020-12-24T07:38:32\",\"2020-12-26T00:05:38\",\"2020-12-14T19:03:30\",\"2020-12-15T18:59:54\",\"2020-12-19T10:07:41\",\"2020-12-20T04:53:55\",\"2020-12-24T07:38:30\",\"2020-12-26T00:05:35\",\"2020-12-14T09:44:55\",\"2020-12-15T23:04:02\",\"2020-12-16T07:35:09\",\"2020-12-20T10:00:15\",\"2020-12-14T09:44:55\",\"2020-12-15T23:04:02\",\"2020-12-16T07:35:11\",\"2020-12-20T10:00:15\",\"2020-12-14T09:44:55\",\"2020-12-15T23:04:02\",\"2020-12-16T07:35:09\",\"2020-12-20T10:00:15\",\"2020-12-14T13:49:47\",\"2020-12-16T23:26:12\",\"2020-12-17T02:59:59\",\"2020-12-20T10:03:23\",\"2020-12-14T13:49:50\",\"2020-12-16T23:26:12\",\"2020-12-17T02:59:59\",\"2020-12-20T10:03:24\",\"2020-12-14T13:49:47\",\"2020-12-16T23:26:13\",\"2020-12-17T02:59:59\",\"2020-12-20T10:03:23\",\"2020-12-14T13:49:47\",\"2020-12-16T23:26:12\",\"2020-12-17T02:59:59\",\"2020-12-20T10:03:23\",\"2020-12-14T09:11:06\",\"2020-12-15T15:38:03\",\"2020-12-17T13:55:44\",\"2020-12-19T00:30:54\",\"2020-12-14T09:11:10\",\"2020-12-15T15:38:04\",\"2020-12-17T13:55:45\",\"2020-12-19T00:30:58\",\"2020-12-14T09:11:10\",\"2020-12-15T15:38:05\",\"2020-12-17T13:55:45\",\"2020-12-19T00:30:57\",\"2020-12-14T09:11:06\",\"2020-12-15T15:38:03\",\"2020-12-17T13:55:44\",\"2020-12-19T00:30:54\",\"2020-12-14T00:16:23\",\"2020-12-21T03:08:01\",\"2020-12-14T00:16:23\",\"2020-12-21T03:08:04\",\"2020-12-14T00:16:23\",\"2020-12-21T03:08:01\",\"2020-12-14T12:44:33\",\"2020-12-16T12:55:33\",\"2020-12-18T02:07:16\",\"2020-12-27T11:47:28\",\"2020-12-14T12:44:33\",\"2020-12-16T12:55:33\",\"2020-12-18T02:07:16\",\"2020-12-27T11:47:29\",\"2020-12-14T12:44:36\",\"2020-12-16T12:55:35\",\"2020-12-18T02:07:16\",\"2020-12-27T11:47:28\",\"2020-12-14T12:44:33\",\"2020-12-16T12:55:33\",\"2020-12-18T02:07:16\",\"2020-12-27T11:47:28\",\"2020-12-14T01:28:23\",\"2020-12-18T01:37:21\",\"2020-12-14T01:28:23\",\"2020-12-18T01:37:21\",\"2020-12-14T04:49:44\",\"2020-12-16T09:21:10\",\"2020-12-17T23:41:03\",\"2020-12-21T18:15:07\",\"2020-12-14T04:49:44\",\"2020-12-16T09:21:10\",\"2020-12-17T23:41:04\",\"2020-12-21T18:15:07\",\"2020-12-14T04:49:44\",\"2020-12-16T09:21:10\",\"2020-12-17T23:41:03\",\"2020-12-21T18:15:07\",\"2020-12-14T07:47:36\",\"2020-12-15T23:32:12\",\"2020-12-18T00:58:50\",\"2020-12-19T14:11:42\",\"2020-12-27T01:38:27\",\"2020-12-14T07:47:36\",\"2020-12-15T23:32:12\",\"2020-12-18T00:58:50\",\"2020-12-19T14:11:42\",\"2020-12-27T01:38:27\",\"2020-12-14T07:58:46\",\"2020-12-16T08:57:17\",\"2020-12-14T07:58:46\",\"2020-12-16T08:57:17\",\"2020-12-14T14:53:06\",\"2020-12-15T06:46:27\",\"2020-12-16T11:57:27\",\"2020-12-24T14:38:00\",\"2020-12-26T23:16:56\",\"2020-12-27T02:29:23\",\"2020-12-14T14:53:06\",\"2020-12-15T06:46:27\",\"2020-12-16T11:57:27\",\"2020-12-24T14:38:02\",\"2020-12-26T23:16:56\",\"2020-12-27T02:29:24\",\"2020-12-14T14:53:06\",\"2020-12-15T06:46:27\",\"2020-12-16T11:57:27\",\"2020-12-24T14:38:00\",\"2020-12-26T23:16:56\",\"2020-12-27T02:29:23\",\"2020-12-14T18:45:26\",\"2020-12-15T15:06:12\",\"2020-12-16T23:45:02\",\"2020-12-18T12:18:32\",\"2020-12-14T18:45:27\",\"2020-12-15T15:06:14\",\"2020-12-16T23:45:05\",\"2020-12-18T12:18:32\",\"2020-12-14T18:45:26\",\"2020-12-15T15:06:12\",\"2020-12-16T23:45:02\",\"2020-12-18T12:18:32\",\"2020-12-14T11:53:32\",\"2020-12-16T23:30:33\",\"2020-12-14T11:53:34\",\"2020-12-16T23:30:33\",\"2020-12-14T11:53:32\",\"2020-12-16T23:30:33\",\"2020-12-14T03:49:02\",\"2020-12-15T18:41:35\",\"2020-12-17T09:12:31\",\"2020-12-20T08:17:38\",\"2020-12-23T12:49:09\",\"2020-12-14T03:49:03\",\"2020-12-15T18:41:37\",\"2020-12-17T09:12:32\",\"2020-12-20T08:17:38\",\"2020-12-23T12:49:09\",\"2020-12-14T03:49:02\",\"2020-12-15T18:41:35\",\"2020-12-17T09:12:31\",\"2020-12-20T08:17:38\",\"2020-12-23T12:49:09\",\"2020-12-14T09:39:49\",\"2020-12-23T02:43:52\",\"2020-12-14T09:39:50\",\"2020-12-23T02:43:54\",\"2020-12-14T09:39:49\",\"2020-12-23T02:43:52\",\"2020-12-14T20:15:17\",\"2020-12-16T07:08:34\",\"2020-12-17T06:06:29\",\"2020-12-25T07:31:07\",\"2020-12-28T08:53:30\",\"2020-12-14T20:15:17\",\"2020-12-16T07:08:34\",\"2020-12-17T06:06:29\",\"2020-12-25T07:31:07\",\"2020-12-28T08:53:31\",\"2020-12-14T20:15:18\",\"2020-12-16T07:08:34\",\"2020-12-17T06:06:30\",\"2020-12-25T07:31:07\",\"2020-12-28T08:53:31\",\"2020-12-14T20:15:17\",\"2020-12-16T07:08:34\",\"2020-12-17T06:06:29\",\"2020-12-25T07:31:07\",\"2020-12-28T08:53:30\",\"2020-12-14T20:26:33\",\"2020-12-17T18:31:37\",\"2020-12-20T08:33:15\",\"2020-12-14T20:26:33\",\"2020-12-17T18:31:37\",\"2020-12-20T08:33:15\",\"2020-12-14T21:13:48\",\"2020-12-15T21:22:41\",\"2020-12-16T23:50:48\",\"2020-12-18T21:47:21\",\"2020-12-14T21:13:48\",\"2020-12-15T21:22:42\",\"2020-12-16T23:50:49\",\"2020-12-18T21:47:23\",\"2020-12-14T21:13:48\",\"2020-12-15T21:22:41\",\"2020-12-16T23:50:48\",\"2020-12-18T21:47:21\",\"2020-12-14T10:01:56\",\"2020-12-18T04:36:43\",\"2020-12-28T14:01:53\",\"2020-12-14T10:01:56\",\"2020-12-18T04:36:43\",\"2020-12-28T14:01:53\",\"2020-12-14T10:01:56\",\"2020-12-18T04:36:43\",\"2020-12-28T14:01:53\",\"2020-12-14T10:01:56\",\"2020-12-18T04:36:43\",\"2020-12-28T14:01:53\",\"2020-12-14T03:08:58\",\"2020-12-17T20:11:48\",\"2020-12-18T08:37:30\",\"2020-12-19T21:47:48\",\"2020-12-21T18:22:09\",\"2020-12-14T03:09:01\",\"2020-12-17T20:11:50\",\"2020-12-18T08:37:31\",\"2020-12-19T21:47:52\",\"2020-12-21T18:22:09\",\"2020-12-14T03:08:58\",\"2020-12-17T20:11:48\",\"2020-12-18T08:37:30\",\"2020-12-19T21:47:48\",\"2020-12-21T18:22:09\",\"2020-12-14T19:03:12\",\"2020-12-20T21:12:59\",\"2020-12-22T19:32:59\",\"2020-12-14T19:03:14\",\"2020-12-20T21:13:05\",\"2020-12-22T19:33:00\",\"2020-12-14T19:03:12\",\"2020-12-20T21:12:59\",\"2020-12-22T19:32:59\",\"2020-12-14T09:16:58\",\"2020-12-15T13:07:58\",\"2020-12-23T17:16:55\",\"2020-12-14T09:16:58\",\"2020-12-15T13:08:00\",\"2020-12-23T17:17:00\",\"2020-12-14T09:16:58\",\"2020-12-15T13:07:58\",\"2020-12-23T17:16:55\",\"2020-12-14T10:45:49\",\"2020-12-28T11:15:41\",\"2020-12-14T10:45:51\",\"2020-12-28T11:15:41\",\"2020-12-14T10:45:51\",\"2020-12-28T11:15:41\",\"2020-12-14T10:45:49\",\"2020-12-28T11:15:41\",\"2020-12-14T18:25:48\",\"2020-12-18T18:36:34\",\"2020-12-23T07:03:10\",\"2020-12-14T18:25:48\",\"2020-12-18T18:36:34\",\"2020-12-23T07:03:10\",\"2020-12-14T18:25:48\",\"2020-12-18T18:36:34\",\"2020-12-23T07:03:10\",\"2020-12-14T18:15:42\",\"2020-12-16T23:58:54\",\"2020-12-27T09:48:25\",\"2020-12-14T18:15:43\",\"2020-12-16T23:58:54\",\"2020-12-27T09:48:27\",\"2020-12-14T18:15:42\",\"2020-12-16T23:58:54\",\"2020-12-27T09:48:25\",\"2020-12-14T11:58:58\",\"2020-12-19T01:17:46\",\"2020-12-14T11:58:58\",\"2020-12-19T01:17:46\",\"2020-12-14T11:58:58\",\"2020-12-19T01:17:46\",\"2020-12-14T05:31:01\",\"2020-12-15T14:18:09\",\"2020-12-19T02:25:13\",\"2020-12-21T14:09:32\",\"2020-12-14T05:31:01\",\"2020-12-15T14:18:09\",\"2020-12-19T02:25:13\",\"2020-12-21T14:09:32\",\"2020-12-14T19:05:50\",\"2020-12-15T13:22:21\",\"2020-12-16T03:40:43\",\"2020-12-22T16:11:23\",\"2020-12-23T17:57:55\",\"2020-12-14T19:05:50\",\"2020-12-15T13:22:21\",\"2020-12-16T03:40:44\",\"2020-12-22T16:11:23\",\"2020-12-23T17:57:55\",\"2020-12-14T19:05:50\",\"2020-12-15T13:22:21\",\"2020-12-16T03:40:43\",\"2020-12-22T16:11:23\",\"2020-12-23T17:57:55\",\"2020-12-14T17:32:08\",\"2020-12-24T22:12:20\",\"2020-12-14T17:32:09\",\"2020-12-24T22:12:20\",\"2020-12-14T17:32:08\",\"2020-12-24T22:12:20\",\"2020-12-14T10:32:42\",\"2020-12-15T07:04:52\",\"2020-12-22T14:52:16\",\"2020-12-25T05:39:57\",\"2020-12-26T17:14:46\",\"2020-12-14T10:32:47\",\"2020-12-15T07:04:53\",\"2020-12-22T14:52:21\",\"2020-12-25T05:39:59\",\"2020-12-26T17:14:49\",\"2020-12-14T10:32:42\",\"2020-12-15T07:04:52\",\"2020-12-22T14:52:16\",\"2020-12-25T05:39:57\",\"2020-12-26T17:14:46\",\"2020-12-14T14:05:14\",\"2020-12-18T04:32:12\",\"2020-12-19T17:26:11\",\"2020-12-20T16:24:38\",\"2020-12-26T13:02:45\",\"2020-12-14T14:05:17\",\"2020-12-18T04:32:14\",\"2020-12-19T17:26:13\",\"2020-12-20T16:24:38\",\"2020-12-26T13:02:45\",\"2020-12-14T14:05:14\",\"2020-12-18T04:32:12\",\"2020-12-19T17:26:11\",\"2020-12-20T16:24:38\",\"2020-12-26T13:02:45\",\"2020-12-14T00:50:30\",\"2020-12-24T20:34:53\",\"2020-12-14T00:50:30\",\"2020-12-24T20:34:53\",\"2020-12-14T00:50:30\",\"2020-12-24T20:34:53\",\"2020-12-14T23:58:21\",\"2020-12-14T23:58:21\",\"2020-12-14T23:58:21\",\"2020-12-14T11:11:34\",\"2020-12-15T21:32:58\",\"2020-12-25T15:21:16\",\"2020-12-26T15:58:25\",\"2020-12-28T03:55:47\",\"2020-12-14T11:11:34\",\"2020-12-15T21:32:58\",\"2020-12-25T15:21:17\",\"2020-12-26T15:58:27\",\"2020-12-28T03:55:51\",\"2020-12-14T11:11:34\",\"2020-12-15T21:32:58\",\"2020-12-25T15:21:16\",\"2020-12-26T15:58:25\",\"2020-12-28T03:55:47\",\"2020-12-14T15:36:01\",\"2020-12-15T13:41:47\",\"2020-12-16T19:57:09\",\"2020-12-14T15:36:01\",\"2020-12-15T13:41:47\",\"2020-12-16T19:57:09\",\"2020-12-14T15:36:01\",\"2020-12-15T13:41:47\",\"2020-12-16T19:57:12\",\"2020-12-14T15:36:01\",\"2020-12-15T13:41:47\",\"2020-12-16T19:57:09\",\"2020-12-14T06:01:33\",\"2020-12-17T08:16:08\",\"2020-12-14T06:01:37\",\"2020-12-17T08:16:09\",\"2020-12-14T06:01:33\",\"2020-12-17T08:16:08\",\"2020-12-14T11:36:45\",\"2020-12-17T15:09:53\",\"2020-12-19T19:42:07\",\"2020-12-14T11:36:45\",\"2020-12-17T15:09:55\",\"2020-12-19T19:42:08\",\"2020-12-14T11:36:46\",\"2020-12-17T15:09:53\",\"2020-12-19T19:42:07\",\"2020-12-14T11:36:45\",\"2020-12-17T15:09:53\",\"2020-12-19T19:42:07\",\"2020-12-14T14:25:43\",\"2020-12-16T00:21:54\",\"2020-12-17T20:05:16\",\"2020-12-19T15:49:48\",\"2020-12-28T01:13:16\",\"2020-12-14T14:25:45\",\"2020-12-16T00:21:54\",\"2020-12-17T20:05:19\",\"2020-12-19T15:49:49\",\"2020-12-28T01:13:16\",\"2020-12-14T14:25:43\",\"2020-12-16T00:21:54\",\"2020-12-17T20:05:16\",\"2020-12-19T15:49:48\",\"2020-12-28T01:13:16\",\"2020-12-14T20:30:47\",\"2020-12-15T05:25:30\",\"2020-12-16T21:31:30\",\"2020-12-17T14:34:15\",\"2020-12-14T20:30:49\",\"2020-12-15T05:25:30\",\"2020-12-16T21:31:30\",\"2020-12-17T14:34:15\",\"2020-12-14T20:30:47\",\"2020-12-15T05:25:30\",\"2020-12-16T21:31:30\",\"2020-12-17T14:34:15\",\"2020-12-14T20:30:47\",\"2020-12-15T05:25:30\",\"2020-12-16T21:31:30\",\"2020-12-17T14:34:15\",\"2020-12-14T14:27:49\",\"2020-12-17T23:33:04\",\"2020-12-18T10:54:37\",\"2020-12-23T07:10:50\",\"2020-12-24T12:50:45\",\"2020-12-14T14:27:51\",\"2020-12-17T23:33:05\",\"2020-12-18T10:54:37\",\"2020-12-23T07:10:50\",\"2020-12-24T12:50:46\",\"2020-12-14T14:27:49\",\"2020-12-17T23:33:04\",\"2020-12-18T10:54:37\",\"2020-12-23T07:10:50\",\"2020-12-24T12:50:45\",\"2020-12-14T12:18:02\",\"2020-12-15T00:13:07\",\"2020-12-17T11:04:37\",\"2020-12-14T12:18:05\",\"2020-12-15T00:13:07\",\"2020-12-17T11:04:37\",\"2020-12-14T12:18:02\",\"2020-12-15T00:13:07\",\"2020-12-17T11:04:37\",\"2020-12-14T15:45:34\",\"2020-12-15T07:55:28\",\"2020-12-17T18:16:20\",\"2020-12-23T20:59:44\",\"2020-12-14T15:45:34\",\"2020-12-15T07:55:28\",\"2020-12-17T18:16:21\",\"2020-12-23T20:59:50\",\"2020-12-14T15:45:34\",\"2020-12-15T07:55:28\",\"2020-12-17T18:16:20\",\"2020-12-23T20:59:44\",\"2020-12-14T07:28:03\",\"2020-12-21T20:20:49\",\"2020-12-14T07:28:03\",\"2020-12-21T20:20:49\",\"2020-12-14T19:03:01\",\"2020-12-17T20:22:04\",\"2020-12-19T07:12:21\",\"2020-12-21T15:50:28\",\"2020-12-14T19:03:02\",\"2020-12-17T20:22:04\",\"2020-12-19T07:12:22\",\"2020-12-21T15:50:29\",\"2020-12-14T19:03:01\",\"2020-12-17T20:22:04\",\"2020-12-19T07:12:21\",\"2020-12-21T15:50:28\",\"2020-12-14T05:34:52\",\"2020-12-15T18:54:04\",\"2020-12-27T09:27:49\",\"2020-12-14T05:34:52\",\"2020-12-15T18:54:04\",\"2020-12-27T09:27:49\",\"2020-12-14T16:28:22\",\"2020-12-15T07:51:11\",\"2020-12-17T10:49:43\",\"2020-12-21T00:18:24\",\"2020-12-26T13:47:19\",\"2020-12-28T04:23:22\",\"2020-12-14T16:28:22\",\"2020-12-15T07:51:12\",\"2020-12-17T10:49:43\",\"2020-12-21T00:18:26\",\"2020-12-26T13:47:19\",\"2020-12-28T04:23:23\",\"2020-12-14T16:28:22\",\"2020-12-15T07:51:18\",\"2020-12-17T10:49:43\",\"2020-12-21T00:18:24\",\"2020-12-26T13:47:19\",\"2020-12-28T04:23:23\",\"2020-12-14T16:28:22\",\"2020-12-15T07:51:11\",\"2020-12-17T10:49:43\",\"2020-12-21T00:18:24\",\"2020-12-26T13:47:19\",\"2020-12-28T04:23:22\",\"2020-12-14T18:20:21\",\"2020-12-16T16:58:53\",\"2020-12-18T17:56:13\",\"2020-12-14T18:20:21\",\"2020-12-16T16:58:54\",\"2020-12-18T17:56:13\",\"2020-12-14T18:20:21\",\"2020-12-16T16:58:53\",\"2020-12-18T17:56:13\",\"2020-12-14T17:01:37\",\"2020-12-15T03:43:55\",\"2020-12-16T20:49:05\",\"2020-12-23T05:48:52\",\"2020-12-14T17:01:38\",\"2020-12-15T03:43:55\",\"2020-12-16T20:49:06\",\"2020-12-23T05:48:53\",\"2020-12-14T17:01:38\",\"2020-12-15T03:43:58\",\"2020-12-16T20:49:06\",\"2020-12-23T05:48:52\",\"2020-12-14T17:01:37\",\"2020-12-15T03:43:55\",\"2020-12-16T20:49:05\",\"2020-12-23T05:48:52\",\"2020-12-14T11:24:08\",\"2020-12-16T11:50:09\",\"2020-12-17T06:31:21\",\"2020-12-19T08:50:54\",\"2020-12-14T11:24:10\",\"2020-12-16T11:50:10\",\"2020-12-17T06:31:23\",\"2020-12-19T08:50:56\",\"2020-12-14T11:24:10\",\"2020-12-16T11:50:10\",\"2020-12-17T06:31:22\",\"2020-12-19T08:50:56\",\"2020-12-14T11:24:08\",\"2020-12-16T11:50:09\",\"2020-12-17T06:31:21\",\"2020-12-19T08:50:54\",\"2020-12-14T19:29:17\",\"2020-12-15T09:18:49\",\"2020-12-22T14:24:32\",\"2020-12-23T19:41:55\",\"2020-12-14T19:29:20\",\"2020-12-15T09:18:49\",\"2020-12-22T14:24:34\",\"2020-12-23T19:41:56\",\"2020-12-14T19:29:17\",\"2020-12-15T09:18:49\",\"2020-12-22T14:24:33\",\"2020-12-23T19:41:57\",\"2020-12-14T19:29:17\",\"2020-12-15T09:18:49\",\"2020-12-22T14:24:32\",\"2020-12-23T19:41:55\",\"2020-12-14T09:38:58\",\"2020-12-17T04:52:48\",\"2020-12-14T09:38:58\",\"2020-12-17T04:52:49\",\"2020-12-14T09:38:58\",\"2020-12-17T04:52:48\",\"2020-12-14T03:55:17\",\"2020-12-15T12:21:27\",\"2020-12-14T03:55:17\",\"2020-12-15T12:21:27\",\"2020-12-14T12:23:33\",\"2020-12-15T02:57:31\",\"2020-12-18T13:27:40\",\"2020-12-20T03:09:42\",\"2020-12-14T12:23:33\",\"2020-12-15T02:57:32\",\"2020-12-18T13:27:44\",\"2020-12-20T03:09:43\",\"2020-12-14T12:23:33\",\"2020-12-15T02:57:31\",\"2020-12-18T13:27:40\",\"2020-12-20T03:09:42\",\"2020-12-14T10:11:50\",\"2020-12-16T16:08:04\",\"2020-12-19T04:08:36\",\"2020-12-20T10:19:48\",\"2020-12-28T19:09:43\",\"2020-12-14T10:11:51\",\"2020-12-16T16:08:04\",\"2020-12-19T04:08:36\",\"2020-12-20T10:19:49\",\"2020-12-28T19:09:44\",\"2020-12-14T10:11:53\",\"2020-12-16T16:08:04\",\"2020-12-19T04:08:37\",\"2020-12-20T10:19:50\",\"2020-12-28T19:09:44\",\"2020-12-14T10:11:50\",\"2020-12-16T16:08:04\",\"2020-12-19T04:08:36\",\"2020-12-20T10:19:48\",\"2020-12-28T19:09:43\",\"2020-12-14T21:21:56\",\"2020-12-15T10:08:01\",\"2020-12-19T10:53:53\",\"2020-12-26T15:23:35\",\"2020-12-14T21:21:57\",\"2020-12-15T10:08:01\",\"2020-12-19T10:53:54\",\"2020-12-26T15:23:37\",\"2020-12-14T21:21:56\",\"2020-12-15T10:08:01\",\"2020-12-19T10:53:53\",\"2020-12-26T15:23:35\",\"2020-12-14T10:45:33\",\"2020-12-16T13:59:17\",\"2020-12-19T15:34:41\",\"2020-12-14T10:45:36\",\"2020-12-16T13:59:19\",\"2020-12-19T15:34:41\",\"2020-12-14T10:45:33\",\"2020-12-16T13:59:17\",\"2020-12-19T15:34:41\",\"2020-12-14T11:06:29\",\"2020-12-15T15:03:32\",\"2020-12-17T10:57:20\",\"2020-12-19T10:41:54\",\"2020-12-14T11:06:29\",\"2020-12-15T15:03:32\",\"2020-12-17T10:57:22\",\"2020-12-19T10:41:55\",\"2020-12-14T11:06:29\",\"2020-12-15T15:03:32\",\"2020-12-17T10:57:20\",\"2020-12-19T10:41:54\",\"2020-12-14T22:03:20\",\"2020-12-15T09:17:42\",\"2020-12-20T15:42:44\",\"2020-12-21T11:18:41\",\"2020-12-25T20:03:33\",\"2020-12-14T22:03:20\",\"2020-12-15T09:17:42\",\"2020-12-20T15:42:44\",\"2020-12-21T11:18:41\",\"2020-12-25T20:03:33\",\"2020-12-14T12:19:00\",\"2020-12-16T19:05:05\",\"2020-12-14T12:19:00\",\"2020-12-16T19:05:06\",\"2020-12-14T12:19:02\",\"2020-12-16T19:05:05\",\"2020-12-14T12:19:00\",\"2020-12-16T19:05:05\",\"2020-12-14T10:47:01\",\"2020-12-15T23:28:13\",\"2020-12-18T13:29:30\",\"2020-12-19T04:16:51\",\"2020-12-27T16:27:52\",\"2020-12-14T10:47:05\",\"2020-12-15T23:28:13\",\"2020-12-18T13:29:30\",\"2020-12-19T04:16:52\",\"2020-12-27T16:27:53\",\"2020-12-14T10:47:01\",\"2020-12-15T23:28:13\",\"2020-12-18T13:29:30\",\"2020-12-19T04:16:51\",\"2020-12-27T16:27:52\",\"2020-12-14T03:34:26\",\"2020-12-15T03:04:13\",\"2020-12-19T01:15:42\",\"2020-12-14T03:34:26\",\"2020-12-15T03:04:13\",\"2020-12-19T01:15:42\",\"2020-12-14T17:43:18\",\"2020-12-15T02:32:27\",\"2020-12-16T15:23:01\",\"2020-12-21T18:52:07\",\"2020-12-28T06:14:13\",\"2020-12-14T17:43:19\",\"2020-12-15T02:32:28\",\"2020-12-16T15:23:01\",\"2020-12-21T18:52:09\",\"2020-12-28T06:14:14\",\"2020-12-14T17:43:18\",\"2020-12-15T02:32:27\",\"2020-12-16T15:23:01\",\"2020-12-21T18:52:07\",\"2020-12-28T06:14:13\",\"2020-12-14T15:40:36\",\"2020-12-16T18:22:00\",\"2020-12-14T15:40:38\",\"2020-12-16T18:22:02\",\"2020-12-14T15:40:36\",\"2020-12-16T18:22:00\",\"2020-12-14T21:17:09\",\"2020-12-15T10:23:46\",\"2020-12-24T14:27:53\",\"2020-12-14T21:17:09\",\"2020-12-15T10:23:46\",\"2020-12-24T14:27:54\",\"2020-12-14T21:17:09\",\"2020-12-15T10:23:46\",\"2020-12-24T14:27:53\",\"2020-12-14T20:36:51\",\"2020-12-16T15:17:38\",\"2020-12-19T09:52:09\",\"2020-12-14T20:36:51\",\"2020-12-16T15:17:40\",\"2020-12-19T09:52:09\",\"2020-12-14T20:36:51\",\"2020-12-16T15:17:38\",\"2020-12-19T09:52:09\",\"2020-12-14T15:50:27\",\"2020-12-15T05:36:05\",\"2020-12-25T05:16:08\",\"2020-12-14T15:50:31\",\"2020-12-15T05:36:06\",\"2020-12-25T05:16:09\",\"2020-12-14T15:50:27\",\"2020-12-15T05:36:05\",\"2020-12-25T05:16:08\",\"2020-12-14T00:47:43\",\"2020-12-16T10:49:35\",\"2020-12-17T23:03:45\",\"2020-12-22T09:28:02\",\"2020-12-14T00:47:44\",\"2020-12-16T10:49:38\",\"2020-12-17T23:03:48\",\"2020-12-22T09:28:02\",\"2020-12-14T00:47:45\",\"2020-12-16T10:49:37\",\"2020-12-17T23:03:47\",\"2020-12-22T09:28:02\",\"2020-12-14T00:47:43\",\"2020-12-16T10:49:35\",\"2020-12-17T23:03:45\",\"2020-12-22T09:28:02\",\"2020-12-14T20:24:24\",\"2020-12-15T00:03:18\",\"2020-12-16T17:04:36\",\"2020-12-17T08:19:57\",\"2020-12-20T11:02:59\",\"2020-12-27T20:50:10\",\"2020-12-14T20:24:24\",\"2020-12-15T00:03:18\",\"2020-12-16T17:04:36\",\"2020-12-17T08:19:57\",\"2020-12-20T11:02:59\",\"2020-12-27T20:50:10\",\"2020-12-14T18:21:06\",\"2020-12-18T19:42:04\",\"2020-12-27T03:09:23\",\"2020-12-14T18:21:06\",\"2020-12-18T19:42:05\",\"2020-12-27T03:09:24\",\"2020-12-14T18:21:06\",\"2020-12-18T19:42:04\",\"2020-12-27T03:09:23\",\"2020-12-14T04:35:53\",\"2020-12-25T17:39:01\",\"2020-12-26T21:06:46\",\"2020-12-14T04:35:53\",\"2020-12-25T17:39:02\",\"2020-12-26T21:06:46\",\"2020-12-14T04:35:53\",\"2020-12-25T17:39:01\",\"2020-12-26T21:06:46\",\"2020-12-14T03:20:49\",\"2020-12-16T17:30:48\",\"2020-12-17T16:00:16\",\"2020-12-21T19:23:08\",\"2020-12-14T03:20:49\",\"2020-12-16T17:30:48\",\"2020-12-17T16:00:16\",\"2020-12-21T19:23:08\",\"2020-12-14T03:20:49\",\"2020-12-16T17:30:48\",\"2020-12-17T16:00:16\",\"2020-12-21T19:23:08\",\"2020-12-14T12:47:56\",\"2020-12-14T12:47:56\",\"2020-12-14T12:47:56\",\"2020-12-14T08:25:17\",\"2020-12-17T08:58:56\",\"2020-12-24T19:39:28\",\"2020-12-14T08:25:19\",\"2020-12-17T08:58:57\",\"2020-12-24T19:39:28\",\"2020-12-14T08:25:17\",\"2020-12-17T08:58:56\",\"2020-12-24T19:39:28\",\"2020-12-14T23:05:27\",\"2020-12-16T22:04:37\",\"2020-12-26T14:08:36\",\"2020-12-14T23:05:27\",\"2020-12-16T22:04:37\",\"2020-12-26T14:08:36\",\"2020-12-14T23:05:28\",\"2020-12-16T22:04:37\",\"2020-12-26T14:08:36\",\"2020-12-14T23:05:27\",\"2020-12-16T22:04:37\",\"2020-12-26T14:08:36\",\"2020-12-14T11:14:34\",\"2020-12-16T14:07:31\",\"2020-12-14T11:14:34\",\"2020-12-16T14:07:32\",\"2020-12-14T11:14:34\",\"2020-12-16T14:07:31\",\"2020-12-14T09:36:34\",\"2020-12-22T20:26:53\",\"2020-12-14T09:36:36\",\"2020-12-22T20:26:54\",\"2020-12-14T09:36:34\",\"2020-12-22T20:26:53\",\"2020-12-14T09:04:08\",\"2020-12-15T09:20:18\",\"2020-12-16T20:46:28\",\"2020-12-19T14:51:33\",\"2020-12-26T01:28:31\",\"2020-12-14T09:04:08\",\"2020-12-15T09:20:21\",\"2020-12-16T20:46:29\",\"2020-12-19T14:51:33\",\"2020-12-26T01:28:32\",\"2020-12-14T09:04:08\",\"2020-12-15T09:20:18\",\"2020-12-16T20:46:28\",\"2020-12-19T14:51:33\",\"2020-12-26T01:28:31\",\"2020-12-14T01:40:20\",\"2020-12-15T11:47:12\",\"2020-12-19T05:48:23\",\"2020-12-28T20:22:55\",\"2020-12-14T01:40:20\",\"2020-12-15T11:47:13\",\"2020-12-19T05:48:25\",\"2020-12-28T20:22:56\",\"2020-12-14T01:40:20\",\"2020-12-15T11:47:12\",\"2020-12-19T05:48:23\",\"2020-12-28T20:22:55\",\"2020-12-14T22:37:16\",\"2020-12-15T00:15:55\",\"2020-12-17T13:59:01\",\"2020-12-14T22:37:16\",\"2020-12-15T00:15:55\",\"2020-12-17T13:59:02\",\"2020-12-14T22:37:16\",\"2020-12-15T00:15:55\",\"2020-12-17T13:59:01\",\"2020-12-14T22:37:16\",\"2020-12-15T00:15:55\",\"2020-12-17T13:59:01\",\"2020-12-14T12:27:43\",\"2020-12-15T13:15:01\",\"2020-12-17T20:42:19\",\"2020-12-14T12:27:43\",\"2020-12-15T13:15:01\",\"2020-12-17T20:42:19\",\"2020-12-14T02:11:44\",\"2020-12-21T06:12:22\",\"2020-12-14T02:11:44\",\"2020-12-21T06:12:22\",\"2020-12-14T02:11:44\",\"2020-12-21T06:12:22\",\"2020-12-14T02:11:44\",\"2020-12-21T06:12:22\",\"2020-12-14T02:07:00\",\"2020-12-15T05:51:47\",\"2020-12-18T20:15:59\",\"2020-12-20T05:25:03\",\"2020-12-23T01:40:34\",\"2020-12-14T02:07:00\",\"2020-12-15T05:51:47\",\"2020-12-18T20:16:00\",\"2020-12-20T05:25:04\",\"2020-12-23T01:40:36\",\"2020-12-14T02:07:00\",\"2020-12-15T05:51:49\",\"2020-12-18T20:16:02\",\"2020-12-20T05:25:03\",\"2020-12-23T01:40:36\",\"2020-12-14T02:07:00\",\"2020-12-15T05:51:47\",\"2020-12-18T20:15:59\",\"2020-12-20T05:25:03\",\"2020-12-23T01:40:34\",\"2020-12-14T21:29:05\",\"2020-12-17T22:23:58\",\"2020-12-18T07:37:09\",\"2020-12-23T08:57:22\",\"2020-12-14T21:29:06\",\"2020-12-17T22:24:01\",\"2020-12-18T07:37:10\",\"2020-12-23T08:57:22\",\"2020-12-14T21:29:05\",\"2020-12-17T22:23:58\",\"2020-12-18T07:37:09\",\"2020-12-23T08:57:22\",\"2020-12-14T03:20:36\",\"2020-12-17T15:12:24\",\"2020-12-21T13:23:40\",\"2020-12-24T23:37:55\",\"2020-12-14T03:20:37\",\"2020-12-17T15:12:24\",\"2020-12-21T13:23:40\",\"2020-12-24T23:37:56\",\"2020-12-14T03:20:36\",\"2020-12-17T15:12:24\",\"2020-12-21T13:23:40\",\"2020-12-24T23:37:55\",\"2020-12-14T13:36:18\",\"2020-12-15T18:07:50\",\"2020-12-14T13:36:20\",\"2020-12-15T18:07:50\",\"2020-12-14T13:36:18\",\"2020-12-15T18:07:50\",\"2020-12-14T01:20:57\",\"2020-12-19T19:16:29\",\"2020-12-24T14:46:37\",\"2020-12-26T06:34:42\",\"2020-12-14T01:20:59\",\"2020-12-19T19:16:29\",\"2020-12-24T14:46:38\",\"2020-12-26T06:34:43\",\"2020-12-14T01:20:57\",\"2020-12-19T19:16:29\",\"2020-12-24T14:46:37\",\"2020-12-26T06:34:42\",\"2020-12-14T17:16:22\",\"2020-12-15T11:32:45\",\"2020-12-16T19:45:33\",\"2020-12-14T17:16:22\",\"2020-12-15T11:32:45\",\"2020-12-16T19:45:33\",\"2020-12-14T17:16:22\",\"2020-12-15T11:32:45\",\"2020-12-16T19:45:33\",\"2020-12-14T06:16:35\",\"2020-12-15T09:14:06\",\"2020-12-18T05:14:39\",\"2020-12-23T18:30:24\",\"2020-12-14T06:16:35\",\"2020-12-15T09:14:06\",\"2020-12-18T05:14:39\",\"2020-12-23T18:30:24\",\"2020-12-14T18:16:51\",\"2020-12-19T16:18:51\",\"2020-12-26T02:13:31\",\"2020-12-27T22:19:20\",\"2020-12-14T18:16:51\",\"2020-12-19T16:18:52\",\"2020-12-26T02:13:33\",\"2020-12-27T22:19:23\",\"2020-12-14T18:16:51\",\"2020-12-19T16:18:51\",\"2020-12-26T02:13:31\",\"2020-12-27T22:19:20\",\"2020-12-14T04:04:31\",\"2020-12-16T18:30:58\",\"2020-12-22T14:18:58\",\"2020-12-14T04:04:31\",\"2020-12-16T18:30:58\",\"2020-12-22T14:18:58\",\"2020-12-14T18:51:34\",\"2020-12-15T02:39:20\",\"2020-12-18T04:33:43\",\"2020-12-20T04:12:27\",\"2020-12-25T14:45:19\",\"2020-12-14T18:51:34\",\"2020-12-15T02:39:21\",\"2020-12-18T04:33:45\",\"2020-12-20T04:12:28\",\"2020-12-25T14:45:19\",\"2020-12-14T18:51:34\",\"2020-12-15T02:39:20\",\"2020-12-18T04:33:43\",\"2020-12-20T04:12:27\",\"2020-12-25T14:45:19\",\"2020-12-14T02:41:34\",\"2020-12-16T14:04:35\",\"2020-12-27T18:55:24\",\"2020-12-14T02:41:36\",\"2020-12-16T14:04:35\",\"2020-12-27T18:55:25\",\"2020-12-14T02:41:37\",\"2020-12-16T14:04:35\",\"2020-12-27T18:55:25\",\"2020-12-14T02:41:34\",\"2020-12-16T14:04:35\",\"2020-12-27T18:55:24\",\"2020-12-14T20:38:48\",\"2020-12-15T09:55:15\",\"2020-12-25T09:48:28\",\"2020-12-14T20:38:48\",\"2020-12-15T09:55:17\",\"2020-12-25T09:48:28\",\"2020-12-14T20:38:48\",\"2020-12-15T09:55:16\",\"2020-12-25T09:48:28\",\"2020-12-14T20:38:48\",\"2020-12-15T09:55:15\",\"2020-12-25T09:48:28\",\"2020-12-14T06:30:46\",\"2020-12-16T03:40:47\",\"2020-12-25T18:12:43\",\"2020-12-14T06:30:47\",\"2020-12-16T03:40:47\",\"2020-12-25T18:12:44\",\"2020-12-14T06:30:46\",\"2020-12-16T03:40:49\",\"2020-12-25T18:12:45\",\"2020-12-14T06:30:46\",\"2020-12-16T03:40:47\",\"2020-12-25T18:12:43\",\"2020-12-15T04:06:07\",\"2020-12-15T04:06:07\",\"2020-12-15T14:11:26\",\"2020-12-24T18:02:31\",\"2020-12-15T14:11:27\",\"2020-12-24T18:02:31\",\"2020-12-15T14:11:26\",\"2020-12-24T18:02:31\",\"2020-12-15T10:26:53\",\"2020-12-16T21:09:59\",\"2020-12-20T02:18:44\",\"2020-12-21T03:34:30\",\"2020-12-22T05:53:36\",\"2020-12-15T10:26:53\",\"2020-12-16T21:09:59\",\"2020-12-20T02:18:44\",\"2020-12-21T03:34:30\",\"2020-12-22T05:53:36\",\"2020-12-15T11:58:08\",\"2020-12-16T10:59:43\",\"2020-12-17T16:18:12\",\"2020-12-15T11:58:10\",\"2020-12-16T10:59:43\",\"2020-12-17T16:18:13\",\"2020-12-15T11:58:08\",\"2020-12-16T10:59:43\",\"2020-12-17T16:18:12\",\"2020-12-15T10:49:54\",\"2020-12-17T17:55:20\",\"2020-12-23T19:46:16\",\"2020-12-25T23:03:35\",\"2020-12-15T10:49:54\",\"2020-12-17T17:55:21\",\"2020-12-23T19:46:20\",\"2020-12-25T23:03:35\",\"2020-12-15T10:49:54\",\"2020-12-17T17:55:20\",\"2020-12-23T19:46:16\",\"2020-12-25T23:03:35\",\"2020-12-15T17:52:50\",\"2020-12-16T09:55:16\",\"2020-12-17T08:37:30\",\"2020-12-26T13:15:21\",\"2020-12-15T17:52:50\",\"2020-12-16T09:55:20\",\"2020-12-17T08:37:30\",\"2020-12-26T13:15:21\",\"2020-12-15T17:52:50\",\"2020-12-16T09:55:16\",\"2020-12-17T08:37:30\",\"2020-12-26T13:15:21\",\"2020-12-15T04:08:50\",\"2020-12-15T04:08:51\",\"2020-12-15T04:08:50\",\"2020-12-15T04:08:50\",\"2020-12-15T16:30:38\",\"2020-12-16T22:42:15\",\"2020-12-15T16:30:39\",\"2020-12-16T22:42:15\",\"2020-12-15T16:30:38\",\"2020-12-16T22:42:15\",\"2020-12-15T10:51:52\",\"2020-12-22T15:43:13\",\"2020-12-28T22:54:04\",\"2020-12-15T10:51:52\",\"2020-12-22T15:43:13\",\"2020-12-28T22:54:04\",\"2020-12-15T10:51:53\",\"2020-12-22T15:43:14\",\"2020-12-28T22:54:04\",\"2020-12-15T10:51:52\",\"2020-12-22T15:43:13\",\"2020-12-28T22:54:04\",\"2020-12-15T04:23:57\",\"2020-12-21T17:07:06\",\"2020-12-15T04:23:57\",\"2020-12-21T17:07:06\",\"2020-12-15T07:08:44\",\"2020-12-18T20:14:53\",\"2020-12-19T15:43:35\",\"2020-12-15T07:08:46\",\"2020-12-18T20:14:56\",\"2020-12-19T15:43:36\",\"2020-12-15T07:08:44\",\"2020-12-18T20:14:53\",\"2020-12-19T15:43:35\",\"2020-12-15T18:40:32\",\"2020-12-19T07:33:15\",\"2020-12-15T18:40:32\",\"2020-12-19T07:33:16\",\"2020-12-15T18:40:32\",\"2020-12-19T07:33:15\",\"2020-12-15T23:38:56\",\"2020-12-16T18:25:30\",\"2020-12-17T10:15:50\",\"2020-12-18T19:58:51\",\"2020-12-19T09:40:11\",\"2020-12-15T23:38:56\",\"2020-12-16T18:25:31\",\"2020-12-17T10:15:51\",\"2020-12-18T19:58:53\",\"2020-12-19T09:40:11\",\"2020-12-15T23:38:56\",\"2020-12-16T18:25:30\",\"2020-12-17T10:15:50\",\"2020-12-18T19:58:51\",\"2020-12-19T09:40:11\",\"2020-12-15T04:38:30\",\"2020-12-17T23:38:56\",\"2020-12-15T04:38:30\",\"2020-12-17T23:38:56\",\"2020-12-15T04:38:30\",\"2020-12-17T23:38:56\",\"2020-12-15T05:11:29\",\"2020-12-16T01:25:45\",\"2020-12-17T20:41:40\",\"2020-12-18T19:07:13\",\"2020-12-15T05:11:29\",\"2020-12-16T01:25:45\",\"2020-12-17T20:41:41\",\"2020-12-18T19:07:14\",\"2020-12-15T05:11:31\",\"2020-12-16T01:25:45\",\"2020-12-17T20:41:40\",\"2020-12-18T19:07:13\",\"2020-12-15T05:11:29\",\"2020-12-16T01:25:45\",\"2020-12-17T20:41:40\",\"2020-12-18T19:07:13\",\"2020-12-15T20:20:32\",\"2020-12-16T01:49:09\",\"2020-12-21T05:46:37\",\"2020-12-15T20:20:32\",\"2020-12-16T01:49:09\",\"2020-12-21T05:46:37\",\"2020-12-15T20:20:32\",\"2020-12-16T01:49:09\",\"2020-12-21T05:46:37\",\"2020-12-15T15:06:33\",\"2020-12-16T03:46:23\",\"2020-12-15T15:06:34\",\"2020-12-16T03:46:23\",\"2020-12-15T15:06:33\",\"2020-12-16T03:46:23\",\"2020-12-15T22:47:56\",\"2020-12-18T03:45:34\",\"2020-12-15T22:47:57\",\"2020-12-18T03:45:35\",\"2020-12-15T22:47:56\",\"2020-12-18T03:45:35\",\"2020-12-15T22:47:56\",\"2020-12-18T03:45:34\",\"2020-12-15T16:39:42\",\"2020-12-16T02:57:36\",\"2020-12-19T11:30:34\",\"2020-12-21T01:49:49\",\"2020-12-25T19:46:25\",\"2020-12-15T16:39:42\",\"2020-12-16T02:57:37\",\"2020-12-19T11:30:34\",\"2020-12-21T01:49:50\",\"2020-12-25T19:46:25\",\"2020-12-15T16:39:42\",\"2020-12-16T02:57:36\",\"2020-12-19T11:30:34\",\"2020-12-21T01:49:49\",\"2020-12-25T19:46:25\",\"2020-12-15T21:10:33\",\"2020-12-17T12:57:04\",\"2020-12-26T19:10:56\",\"2020-12-15T21:10:33\",\"2020-12-17T12:57:04\",\"2020-12-26T19:10:59\",\"2020-12-15T21:10:33\",\"2020-12-17T12:57:04\",\"2020-12-26T19:10:56\",\"2020-12-15T19:54:43\",\"2020-12-16T03:15:49\",\"2020-12-17T01:22:20\",\"2020-12-24T01:08:38\",\"2020-12-25T17:22:38\",\"2020-12-15T19:54:43\",\"2020-12-16T03:15:52\",\"2020-12-17T01:22:20\",\"2020-12-24T01:08:38\",\"2020-12-25T17:22:39\",\"2020-12-15T19:54:43\",\"2020-12-16T03:15:49\",\"2020-12-17T01:22:20\",\"2020-12-24T01:08:39\",\"2020-12-25T17:22:40\",\"2020-12-15T19:54:43\",\"2020-12-16T03:15:49\",\"2020-12-17T01:22:20\",\"2020-12-24T01:08:38\",\"2020-12-25T17:22:38\",\"2020-12-15T01:36:10\",\"2020-12-17T09:16:19\",\"2020-12-19T06:37:32\",\"2020-12-22T09:42:36\",\"2020-12-25T19:59:12\",\"2020-12-15T01:36:10\",\"2020-12-17T09:16:20\",\"2020-12-19T06:37:33\",\"2020-12-22T09:42:37\",\"2020-12-25T19:59:15\",\"2020-12-15T01:36:10\",\"2020-12-17T09:16:19\",\"2020-12-19T06:37:32\",\"2020-12-22T09:42:36\",\"2020-12-25T19:59:12\",\"2020-12-15T16:59:18\",\"2020-12-16T07:45:43\",\"2020-12-26T02:36:30\",\"2020-12-27T16:49:52\",\"2020-12-15T16:59:19\",\"2020-12-16T07:45:44\",\"2020-12-26T02:36:30\",\"2020-12-27T16:49:55\",\"2020-12-15T16:59:18\",\"2020-12-16T07:45:43\",\"2020-12-26T02:36:30\",\"2020-12-27T16:49:52\",\"2020-12-15T14:46:26\",\"2020-12-19T00:49:05\",\"2020-12-25T08:19:05\",\"2020-12-27T20:01:50\",\"2020-12-15T14:46:26\",\"2020-12-19T00:49:05\",\"2020-12-25T08:19:06\",\"2020-12-27T20:01:53\",\"2020-12-15T14:46:26\",\"2020-12-19T00:49:05\",\"2020-12-25T08:19:05\",\"2020-12-27T20:01:50\",\"2020-12-15T21:12:20\",\"2020-12-17T00:25:01\",\"2020-12-15T21:12:20\",\"2020-12-17T00:25:01\",\"2020-12-15T21:12:21\",\"2020-12-17T00:25:01\",\"2020-12-15T21:12:20\",\"2020-12-17T00:25:01\",\"2020-12-15T21:37:56\",\"2020-12-16T23:51:46\",\"2020-12-17T20:20:38\",\"2020-12-27T03:23:35\",\"2020-12-15T21:37:56\",\"2020-12-16T23:51:46\",\"2020-12-17T20:20:38\",\"2020-12-27T03:23:35\",\"2020-12-15T22:26:18\",\"2020-12-18T13:28:55\",\"2020-12-19T13:09:10\",\"2020-12-15T22:26:20\",\"2020-12-18T13:28:57\",\"2020-12-19T13:09:10\",\"2020-12-15T22:26:18\",\"2020-12-18T13:28:55\",\"2020-12-19T13:09:10\",\"2020-12-15T15:57:54\",\"2020-12-16T10:22:02\",\"2020-12-17T03:14:13\",\"2020-12-15T15:57:54\",\"2020-12-16T10:22:08\",\"2020-12-17T03:14:14\",\"2020-12-15T15:57:54\",\"2020-12-16T10:22:02\",\"2020-12-17T03:14:13\",\"2020-12-15T07:02:37\",\"2020-12-16T13:40:27\",\"2020-12-18T23:08:29\",\"2020-12-15T07:02:37\",\"2020-12-16T13:40:27\",\"2020-12-18T23:08:29\",\"2020-12-15T16:38:18\",\"2020-12-24T19:57:08\",\"2020-12-15T16:38:19\",\"2020-12-24T19:57:09\",\"2020-12-15T16:38:18\",\"2020-12-24T19:57:08\",\"2020-12-15T16:38:18\",\"2020-12-24T19:57:08\",\"2020-12-15T05:05:45\",\"2020-12-19T08:20:40\",\"2020-12-23T14:10:11\",\"2020-12-15T05:05:47\",\"2020-12-19T08:20:40\",\"2020-12-23T14:10:11\",\"2020-12-15T05:05:45\",\"2020-12-19T08:20:40\",\"2020-12-23T14:10:11\",\"2020-12-15T05:34:37\",\"2020-12-19T00:30:52\",\"2020-12-22T04:46:42\",\"2020-12-29T07:22:20\",\"2020-12-15T05:34:37\",\"2020-12-19T00:30:54\",\"2020-12-22T04:46:42\",\"2020-12-29T07:22:20\",\"2020-12-15T05:34:38\",\"2020-12-19T00:30:52\",\"2020-12-22T04:46:43\",\"2020-12-29T07:22:20\",\"2020-12-15T05:34:37\",\"2020-12-19T00:30:52\",\"2020-12-22T04:46:42\",\"2020-12-29T07:22:20\",\"2020-12-15T12:42:06\",\"2020-12-17T09:39:40\",\"2020-12-15T12:42:06\",\"2020-12-17T09:39:40\",\"2020-12-15T02:27:26\",\"2020-12-16T04:31:07\",\"2020-12-28T02:52:07\",\"2020-12-15T02:27:28\",\"2020-12-16T04:31:07\",\"2020-12-28T02:52:07\",\"2020-12-15T02:27:26\",\"2020-12-16T04:31:10\",\"2020-12-28T02:52:07\",\"2020-12-15T02:27:26\",\"2020-12-16T04:31:07\",\"2020-12-28T02:52:07\",\"2020-12-15T09:12:35\",\"2020-12-19T11:06:46\",\"2020-12-24T06:24:03\",\"2020-12-15T09:12:36\",\"2020-12-19T11:06:50\",\"2020-12-24T06:24:04\",\"2020-12-15T09:12:35\",\"2020-12-19T11:06:46\",\"2020-12-24T06:24:03\",\"2020-12-15T08:06:39\",\"2020-12-17T18:53:47\",\"2020-12-15T08:06:39\",\"2020-12-17T18:53:47\",\"2020-12-15T08:06:39\",\"2020-12-17T18:53:47\",\"2020-12-15T16:55:57\",\"2020-12-18T05:43:55\",\"2020-12-15T16:55:58\",\"2020-12-18T05:43:57\",\"2020-12-15T16:55:57\",\"2020-12-18T05:43:55\",\"2020-12-15T21:04:40\",\"2020-12-17T03:37:04\",\"2020-12-25T07:43:43\",\"2020-12-15T21:04:40\",\"2020-12-17T03:37:07\",\"2020-12-25T07:43:44\",\"2020-12-15T21:04:40\",\"2020-12-17T03:37:04\",\"2020-12-25T07:43:43\",\"2020-12-15T11:36:28\",\"2020-12-22T02:47:28\",\"2020-12-15T11:36:28\",\"2020-12-22T02:47:28\",\"2020-12-15T19:46:45\",\"2020-12-17T02:44:09\",\"2020-12-18T16:07:12\",\"2020-12-23T02:37:24\",\"2020-12-15T19:46:46\",\"2020-12-17T02:44:09\",\"2020-12-18T16:07:13\",\"2020-12-23T02:37:24\",\"2020-12-15T19:46:45\",\"2020-12-17T02:44:11\",\"2020-12-18T16:07:12\",\"2020-12-23T02:37:24\",\"2020-12-15T19:46:45\",\"2020-12-17T02:44:09\",\"2020-12-18T16:07:12\",\"2020-12-23T02:37:24\",\"2020-12-15T14:53:46\",\"2020-12-19T14:15:27\",\"2020-12-15T14:53:47\",\"2020-12-19T14:15:27\",\"2020-12-15T14:53:46\",\"2020-12-19T14:15:27\",\"2020-12-15T07:21:22\",\"2020-12-25T18:37:44\",\"2020-12-27T04:08:21\",\"2020-12-15T07:21:25\",\"2020-12-25T18:37:45\",\"2020-12-27T04:08:22\",\"2020-12-15T07:21:22\",\"2020-12-25T18:37:44\",\"2020-12-27T04:08:21\",\"2020-12-15T09:26:38\",\"2020-12-16T14:07:57\",\"2020-12-15T09:26:39\",\"2020-12-16T14:07:57\",\"2020-12-15T09:26:41\",\"2020-12-16T14:07:58\",\"2020-12-15T09:26:38\",\"2020-12-16T14:07:57\",\"2020-12-15T09:28:30\",\"2020-12-15T09:28:30\",\"2020-12-15T14:24:38\",\"2020-12-16T23:03:59\",\"2020-12-19T12:39:27\",\"2020-12-20T18:18:47\",\"2020-12-23T09:43:47\",\"2020-12-15T14:24:39\",\"2020-12-16T23:04:01\",\"2020-12-19T12:39:29\",\"2020-12-20T18:18:48\",\"2020-12-23T09:43:47\",\"2020-12-15T14:24:40\",\"2020-12-16T23:03:59\",\"2020-12-19T12:39:27\",\"2020-12-20T18:18:48\",\"2020-12-23T09:43:47\",\"2020-12-15T14:24:38\",\"2020-12-16T23:03:59\",\"2020-12-19T12:39:27\",\"2020-12-20T18:18:47\",\"2020-12-23T09:43:47\",\"2020-12-15T19:46:46\",\"2020-12-18T07:48:25\",\"2020-12-15T19:46:46\",\"2020-12-18T07:48:25\",\"2020-12-15T19:46:48\",\"2020-12-18T07:48:25\",\"2020-12-15T19:46:46\",\"2020-12-18T07:48:25\",\"2020-12-15T12:14:21\",\"2020-12-16T12:28:30\",\"2020-12-17T06:54:47\",\"2020-12-18T16:36:38\",\"2020-12-19T19:43:34\",\"2020-12-25T00:48:41\",\"2020-12-15T12:14:23\",\"2020-12-16T12:28:30\",\"2020-12-17T06:54:50\",\"2020-12-18T16:36:40\",\"2020-12-19T19:43:34\",\"2020-12-25T00:48:42\",\"2020-12-15T12:14:21\",\"2020-12-16T12:28:30\",\"2020-12-17T06:54:47\",\"2020-12-18T16:36:38\",\"2020-12-19T19:43:34\",\"2020-12-25T00:48:41\",\"2020-12-15T04:06:16\",\"2020-12-17T01:31:25\",\"2020-12-15T04:06:16\",\"2020-12-17T01:31:25\",\"2020-12-15T20:30:20\",\"2020-12-16T10:26:45\",\"2020-12-17T01:42:01\",\"2020-12-19T18:04:31\",\"2020-12-15T20:30:22\",\"2020-12-16T10:26:46\",\"2020-12-17T01:42:01\",\"2020-12-19T18:04:32\",\"2020-12-15T20:30:20\",\"2020-12-16T10:26:45\",\"2020-12-17T01:42:01\",\"2020-12-19T18:04:31\",\"2020-12-15T15:38:14\",\"2020-12-16T12:09:12\",\"2020-12-20T09:17:25\",\"2020-12-24T15:06:53\",\"2020-12-15T15:38:14\",\"2020-12-16T12:09:14\",\"2020-12-20T09:17:27\",\"2020-12-24T15:06:54\",\"2020-12-15T15:38:14\",\"2020-12-16T12:09:12\",\"2020-12-20T09:17:26\",\"2020-12-24T15:06:53\",\"2020-12-15T15:38:14\",\"2020-12-16T12:09:12\",\"2020-12-20T09:17:25\",\"2020-12-24T15:06:53\",\"2020-12-15T17:59:24\",\"2020-12-17T14:00:34\",\"2020-12-15T17:59:24\",\"2020-12-17T14:00:34\",\"2020-12-15T21:04:50\",\"2020-12-18T06:16:23\",\"2020-12-19T23:47:02\",\"2020-12-23T18:26:43\",\"2020-12-25T17:01:52\",\"2020-12-15T21:04:50\",\"2020-12-18T06:16:23\",\"2020-12-19T23:47:02\",\"2020-12-23T18:26:43\",\"2020-12-25T17:01:52\",\"2020-12-15T14:38:57\",\"2020-12-29T06:49:11\",\"2020-12-15T14:38:59\",\"2020-12-29T06:49:12\",\"2020-12-15T14:38:57\",\"2020-12-29T06:49:11\",\"2020-12-15T12:08:32\",\"2020-12-20T12:25:19\",\"2020-12-28T23:49:06\",\"2020-12-15T12:08:36\",\"2020-12-20T12:25:20\",\"2020-12-28T23:49:06\",\"2020-12-15T12:08:37\",\"2020-12-20T12:25:20\",\"2020-12-28T23:49:06\",\"2020-12-15T12:08:32\",\"2020-12-20T12:25:19\",\"2020-12-28T23:49:06\",\"2020-12-15T03:08:05\",\"2020-12-18T06:00:51\",\"2020-12-27T22:47:00\",\"2020-12-15T03:08:05\",\"2020-12-18T06:00:53\",\"2020-12-27T22:47:02\",\"2020-12-15T03:08:05\",\"2020-12-18T06:00:51\",\"2020-12-27T22:47:03\",\"2020-12-15T03:08:05\",\"2020-12-18T06:00:51\",\"2020-12-27T22:47:00\",\"2020-12-15T19:39:01\",\"2020-12-20T01:48:15\",\"2020-12-15T19:39:01\",\"2020-12-20T01:48:16\",\"2020-12-15T19:39:01\",\"2020-12-20T01:48:16\",\"2020-12-15T19:39:01\",\"2020-12-20T01:48:15\",\"2020-12-15T22:58:59\",\"2020-12-16T21:12:48\",\"2020-12-18T02:35:55\",\"2020-12-22T02:43:19\",\"2020-12-25T19:13:29\",\"2020-12-15T22:58:59\",\"2020-12-16T21:12:50\",\"2020-12-18T02:35:55\",\"2020-12-22T02:43:21\",\"2020-12-25T19:13:30\",\"2020-12-15T22:59:01\",\"2020-12-16T21:12:50\",\"2020-12-18T02:35:55\",\"2020-12-22T02:43:21\",\"2020-12-25T19:13:29\",\"2020-12-15T22:58:59\",\"2020-12-16T21:12:48\",\"2020-12-18T02:35:55\",\"2020-12-22T02:43:19\",\"2020-12-25T19:13:29\",\"2020-12-15T07:50:03\",\"2020-12-21T22:51:57\",\"2020-12-15T07:50:03\",\"2020-12-21T22:51:57\",\"2020-12-15T07:50:03\",\"2020-12-21T22:51:57\",\"2020-12-15T23:33:27\",\"2020-12-27T06:24:14\",\"2020-12-15T23:33:27\",\"2020-12-27T06:24:14\",\"2020-12-15T23:33:27\",\"2020-12-27T06:24:14\",\"2020-12-15T23:33:27\",\"2020-12-27T06:24:14\",\"2020-12-15T15:09:35\",\"2020-12-18T21:13:36\",\"2020-12-23T22:29:33\",\"2020-12-26T12:02:46\",\"2020-12-15T15:09:35\",\"2020-12-18T21:13:37\",\"2020-12-23T22:29:33\",\"2020-12-26T12:02:49\",\"2020-12-15T15:09:35\",\"2020-12-18T21:13:37\",\"2020-12-23T22:29:33\",\"2020-12-26T12:02:48\",\"2020-12-15T15:09:35\",\"2020-12-18T21:13:36\",\"2020-12-23T22:29:33\",\"2020-12-26T12:02:46\",\"2020-12-15T08:36:23\",\"2020-12-16T00:22:31\",\"2020-12-17T21:02:33\",\"2020-12-19T03:11:48\",\"2020-12-15T08:36:23\",\"2020-12-16T00:22:32\",\"2020-12-17T21:02:33\",\"2020-12-19T03:11:50\",\"2020-12-15T08:36:25\",\"2020-12-16T00:22:34\",\"2020-12-17T21:02:33\",\"2020-12-19T03:11:49\",\"2020-12-15T08:36:23\",\"2020-12-16T00:22:31\",\"2020-12-17T21:02:33\",\"2020-12-19T03:11:48\",\"2020-12-15T07:21:15\",\"2020-12-16T05:07:41\",\"2020-12-17T18:41:29\",\"2020-12-25T04:00:05\",\"2020-12-15T07:21:15\",\"2020-12-16T05:07:41\",\"2020-12-17T18:41:29\",\"2020-12-25T04:00:05\",\"2020-12-15T05:01:19\",\"2020-12-17T17:07:08\",\"2020-12-15T05:01:19\",\"2020-12-17T17:07:10\",\"2020-12-15T05:01:19\",\"2020-12-17T17:07:08\",\"2020-12-15T11:00:52\",\"2020-12-18T13:51:57\",\"2020-12-19T08:32:33\",\"2020-12-15T11:00:52\",\"2020-12-18T13:51:57\",\"2020-12-19T08:32:34\",\"2020-12-15T11:00:52\",\"2020-12-18T13:51:57\",\"2020-12-19T08:32:33\",\"2020-12-15T23:26:32\",\"2020-12-20T21:25:31\",\"2020-12-15T23:26:33\",\"2020-12-20T21:25:32\",\"2020-12-15T23:26:32\",\"2020-12-20T21:25:31\",\"2020-12-15T18:26:00\",\"2020-12-17T07:30:49\",\"2020-12-19T22:29:31\",\"2020-12-24T20:48:56\",\"2020-12-15T18:26:02\",\"2020-12-17T07:30:49\",\"2020-12-19T22:29:31\",\"2020-12-24T20:48:57\",\"2020-12-15T18:26:00\",\"2020-12-17T07:30:49\",\"2020-12-19T22:29:31\",\"2020-12-24T20:48:56\",\"2020-12-15T22:45:21\",\"2020-12-20T07:41:42\",\"2020-12-27T04:40:49\",\"2020-12-15T22:45:22\",\"2020-12-20T07:41:42\",\"2020-12-27T04:40:49\",\"2020-12-15T22:45:21\",\"2020-12-20T07:41:42\",\"2020-12-27T04:40:49\",\"2020-12-15T21:26:50\",\"2020-12-20T22:05:48\",\"2020-12-21T03:53:53\",\"2020-12-26T21:35:12\",\"2020-12-15T21:26:51\",\"2020-12-20T22:05:49\",\"2020-12-21T03:53:54\",\"2020-12-26T21:35:12\",\"2020-12-15T21:26:50\",\"2020-12-20T22:05:48\",\"2020-12-21T03:53:53\",\"2020-12-26T21:35:12\",\"2020-12-15T11:37:50\",\"2020-12-16T15:36:43\",\"2020-12-15T11:37:51\",\"2020-12-16T15:36:45\",\"2020-12-15T11:37:50\",\"2020-12-16T15:36:43\",\"2020-12-15T00:16:31\",\"2020-12-16T04:16:14\",\"2020-12-17T05:15:08\",\"2020-12-28T23:27:48\",\"2020-12-15T00:16:32\",\"2020-12-16T04:16:16\",\"2020-12-17T05:15:08\",\"2020-12-28T23:27:50\",\"2020-12-15T00:16:31\",\"2020-12-16T04:16:14\",\"2020-12-17T05:15:08\",\"2020-12-28T23:27:48\",\"2020-12-15T01:12:26\",\"2020-12-20T00:15:07\",\"2020-12-21T10:28:47\",\"2020-12-25T11:08:56\",\"2020-12-15T01:12:27\",\"2020-12-20T00:15:09\",\"2020-12-21T10:28:51\",\"2020-12-25T11:08:56\",\"2020-12-15T01:12:27\",\"2020-12-20T00:15:07\",\"2020-12-21T10:28:51\",\"2020-12-25T11:08:57\",\"2020-12-15T01:12:26\",\"2020-12-20T00:15:07\",\"2020-12-21T10:28:47\",\"2020-12-25T11:08:56\",\"2020-12-15T07:07:08\",\"2020-12-16T09:36:27\",\"2020-12-25T23:16:50\",\"2020-12-15T07:07:08\",\"2020-12-16T09:36:27\",\"2020-12-25T23:16:51\",\"2020-12-15T07:07:08\",\"2020-12-16T09:36:27\",\"2020-12-25T23:16:50\",\"2020-12-15T07:07:08\",\"2020-12-16T09:36:27\",\"2020-12-25T23:16:50\",\"2020-12-16T13:53:21\",\"2020-12-22T03:06:05\",\"2020-12-16T13:53:21\",\"2020-12-22T03:06:05\",\"2020-12-16T08:26:48\",\"2020-12-17T16:16:56\",\"2020-12-18T06:05:04\",\"2020-12-19T17:38:39\",\"2020-12-24T15:28:52\",\"2020-12-16T08:26:48\",\"2020-12-17T16:16:56\",\"2020-12-18T06:05:04\",\"2020-12-19T17:38:39\",\"2020-12-24T15:28:52\",\"2020-12-16T02:55:09\",\"2020-12-20T23:28:43\",\"2020-12-24T16:39:25\",\"2020-12-16T02:55:11\",\"2020-12-20T23:28:44\",\"2020-12-24T16:39:25\",\"2020-12-16T02:55:09\",\"2020-12-20T23:28:43\",\"2020-12-24T16:39:25\",\"2020-12-16T00:55:52\",\"2020-12-17T18:04:40\",\"2020-12-18T23:04:25\",\"2020-12-23T07:41:26\",\"2020-12-16T00:55:52\",\"2020-12-17T18:04:40\",\"2020-12-18T23:04:25\",\"2020-12-23T07:41:26\",\"2020-12-16T17:55:08\",\"2020-12-17T21:24:56\",\"2020-12-18T23:12:15\",\"2020-12-20T12:27:46\",\"2020-12-21T02:23:19\",\"2020-12-23T13:30:00\",\"2020-12-16T17:55:09\",\"2020-12-17T21:25:01\",\"2020-12-18T23:12:16\",\"2020-12-20T12:27:46\",\"2020-12-21T02:23:19\",\"2020-12-23T13:30:02\",\"2020-12-16T17:55:08\",\"2020-12-17T21:24:56\",\"2020-12-18T23:12:15\",\"2020-12-20T12:27:46\",\"2020-12-21T02:23:19\",\"2020-12-23T13:30:00\",\"2020-12-16T10:03:25\",\"2020-12-17T21:40:57\",\"2020-12-18T14:34:22\",\"2020-12-22T06:48:37\",\"2020-12-26T21:47:28\",\"2020-12-16T10:03:26\",\"2020-12-17T21:41:00\",\"2020-12-18T14:34:22\",\"2020-12-22T06:48:37\",\"2020-12-26T21:47:28\",\"2020-12-16T10:03:25\",\"2020-12-17T21:40:57\",\"2020-12-18T14:34:22\",\"2020-12-22T06:48:37\",\"2020-12-26T21:47:28\",\"2020-12-16T16:06:51\",\"2020-12-22T20:54:53\",\"2020-12-16T16:06:51\",\"2020-12-22T20:54:54\",\"2020-12-16T16:06:51\",\"2020-12-22T20:54:53\",\"2020-12-16T09:22:57\",\"2020-12-16T09:22:57\",\"2020-12-16T09:22:57\",\"2020-12-16T04:14:09\",\"2020-12-18T11:57:13\",\"2020-12-28T07:17:49\",\"2020-12-16T04:14:09\",\"2020-12-18T11:57:15\",\"2020-12-28T07:17:49\",\"2020-12-16T04:14:09\",\"2020-12-18T11:57:13\",\"2020-12-28T07:17:49\",\"2020-12-16T16:23:27\",\"2020-12-17T20:28:43\",\"2020-12-16T16:23:27\",\"2020-12-17T20:28:44\",\"2020-12-16T16:23:27\",\"2020-12-17T20:28:44\",\"2020-12-16T16:23:27\",\"2020-12-17T20:28:43\",\"2020-12-16T04:18:52\",\"2020-12-17T08:42:10\",\"2020-12-24T12:56:46\",\"2020-12-16T04:18:54\",\"2020-12-17T08:42:13\",\"2020-12-24T12:56:46\",\"2020-12-16T04:18:52\",\"2020-12-17T08:42:10\",\"2020-12-24T12:56:46\",\"2020-12-16T06:45:44\",\"2020-12-17T22:22:00\",\"2020-12-20T19:32:10\",\"2020-12-23T20:01:12\",\"2020-12-25T04:17:32\",\"2020-12-16T06:45:46\",\"2020-12-17T22:22:00\",\"2020-12-20T19:32:10\",\"2020-12-23T20:01:14\",\"2020-12-25T04:17:33\",\"2020-12-16T06:45:44\",\"2020-12-17T22:22:00\",\"2020-12-20T19:32:11\",\"2020-12-23T20:01:15\",\"2020-12-25T04:17:32\",\"2020-12-16T06:45:44\",\"2020-12-17T22:22:00\",\"2020-12-20T19:32:10\",\"2020-12-23T20:01:12\",\"2020-12-25T04:17:32\",\"2020-12-16T08:51:16\",\"2020-12-20T08:50:41\",\"2020-12-16T08:51:16\",\"2020-12-20T08:50:41\",\"2020-12-16T08:51:16\",\"2020-12-20T08:50:44\",\"2020-12-16T08:51:16\",\"2020-12-20T08:50:41\",\"2020-12-16T20:55:25\",\"2020-12-16T20:55:26\",\"2020-12-16T20:55:25\",\"2020-12-16T04:07:23\",\"2020-12-17T04:54:58\",\"2020-12-18T12:49:19\",\"2020-12-19T18:52:19\",\"2020-12-21T21:56:58\",\"2020-12-25T02:34:47\",\"2020-12-16T04:07:23\",\"2020-12-17T04:54:58\",\"2020-12-18T12:49:19\",\"2020-12-19T18:52:19\",\"2020-12-21T21:56:58\",\"2020-12-25T02:34:47\",\"2020-12-16T12:47:16\",\"2020-12-18T14:24:28\",\"2020-12-29T11:11:09\",\"2020-12-16T12:47:17\",\"2020-12-18T14:24:28\",\"2020-12-29T11:11:09\",\"2020-12-16T12:47:16\",\"2020-12-18T14:24:28\",\"2020-12-29T11:11:09\",\"2020-12-16T05:16:22\",\"2020-12-17T07:13:23\",\"2020-12-16T05:16:23\",\"2020-12-17T07:13:23\",\"2020-12-16T05:16:23\",\"2020-12-17T07:13:23\",\"2020-12-16T05:16:22\",\"2020-12-17T07:13:23\",\"2020-12-16T22:18:33\",\"2020-12-17T12:53:24\",\"2020-12-18T12:31:55\",\"2020-12-21T03:41:21\",\"2020-12-16T22:18:35\",\"2020-12-17T12:53:27\",\"2020-12-18T12:31:56\",\"2020-12-21T03:41:24\",\"2020-12-16T22:18:33\",\"2020-12-17T12:53:24\",\"2020-12-18T12:31:55\",\"2020-12-21T03:41:21\",\"2020-12-16T13:30:50\",\"2020-12-18T19:19:54\",\"2020-12-16T13:30:51\",\"2020-12-18T19:19:54\",\"2020-12-16T13:30:50\",\"2020-12-18T19:19:54\",\"2020-12-16T07:06:53\",\"2020-12-19T11:22:34\",\"2020-12-21T19:28:46\",\"2020-12-16T07:06:53\",\"2020-12-19T11:22:34\",\"2020-12-21T19:28:46\",\"2020-12-16T20:24:34\",\"2020-12-18T00:43:51\",\"2020-12-19T13:58:51\",\"2020-12-20T06:03:22\",\"2020-12-22T22:24:10\",\"2020-12-16T20:24:36\",\"2020-12-18T00:43:52\",\"2020-12-19T13:58:52\",\"2020-12-20T06:03:23\",\"2020-12-22T22:24:10\",\"2020-12-16T20:24:36\",\"2020-12-18T00:43:52\",\"2020-12-19T13:58:51\",\"2020-12-20T06:03:23\",\"2020-12-22T22:24:10\",\"2020-12-16T20:24:34\",\"2020-12-18T00:43:51\",\"2020-12-19T13:58:51\",\"2020-12-20T06:03:22\",\"2020-12-22T22:24:10\",\"2020-12-16T14:20:04\",\"2020-12-17T10:29:21\",\"2020-12-16T14:20:05\",\"2020-12-17T10:29:21\",\"2020-12-16T14:20:04\",\"2020-12-17T10:29:21\",\"2020-12-16T21:39:16\",\"2020-12-17T18:07:31\",\"2020-12-18T21:16:13\",\"2020-12-19T20:32:56\",\"2020-12-27T05:18:52\",\"2020-12-16T21:39:19\",\"2020-12-17T18:07:31\",\"2020-12-18T21:16:14\",\"2020-12-19T20:32:56\",\"2020-12-27T05:18:52\",\"2020-12-16T21:39:16\",\"2020-12-17T18:07:31\",\"2020-12-18T21:16:13\",\"2020-12-19T20:32:56\",\"2020-12-27T05:18:52\",\"2020-12-16T08:24:59\",\"2020-12-17T14:10:37\",\"2020-12-16T08:24:59\",\"2020-12-17T14:10:37\",\"2020-12-16T14:00:20\",\"2020-12-17T11:17:19\",\"2020-12-19T00:30:29\",\"2020-12-16T14:00:20\",\"2020-12-17T11:17:21\",\"2020-12-19T00:30:30\",\"2020-12-16T14:00:20\",\"2020-12-17T11:17:19\",\"2020-12-19T00:30:29\",\"2020-12-16T16:36:33\",\"2020-12-17T14:31:42\",\"2020-12-24T16:35:38\",\"2020-12-16T16:36:33\",\"2020-12-17T14:31:42\",\"2020-12-24T16:35:40\",\"2020-12-16T16:36:33\",\"2020-12-17T14:31:42\",\"2020-12-24T16:35:38\",\"2020-12-16T05:20:33\",\"2020-12-17T11:45:43\",\"2020-12-21T23:58:19\",\"2020-12-23T17:44:59\",\"2020-12-24T21:46:57\",\"2020-12-16T05:20:35\",\"2020-12-17T11:45:43\",\"2020-12-21T23:58:19\",\"2020-12-23T17:44:59\",\"2020-12-24T21:47:00\",\"2020-12-16T05:20:33\",\"2020-12-17T11:45:43\",\"2020-12-21T23:58:19\",\"2020-12-23T17:44:59\",\"2020-12-24T21:46:57\",\"2020-12-16T17:33:22\",\"2020-12-22T01:20:47\",\"2020-12-16T17:33:23\",\"2020-12-22T01:20:47\",\"2020-12-16T17:33:22\",\"2020-12-22T01:20:47\",\"2020-12-16T00:32:28\",\"2020-12-17T20:13:22\",\"2020-12-16T00:32:29\",\"2020-12-17T20:13:22\",\"2020-12-16T00:32:28\",\"2020-12-17T20:13:22\",\"2020-12-16T20:04:59\",\"2020-12-16T20:05:00\",\"2020-12-16T20:04:59\",\"2020-12-16T20:32:03\",\"2020-12-21T07:54:38\",\"2020-12-26T03:17:15\",\"2020-12-16T20:32:03\",\"2020-12-21T07:54:40\",\"2020-12-26T03:17:17\",\"2020-12-16T20:32:03\",\"2020-12-21T07:54:38\",\"2020-12-26T03:17:15\",\"2020-12-16T13:40:56\",\"2020-12-19T17:47:36\",\"2020-12-20T18:01:58\",\"2020-12-16T13:40:56\",\"2020-12-19T17:47:36\",\"2020-12-20T18:01:58\",\"2020-12-16T13:42:05\",\"2020-12-19T23:01:13\",\"2020-12-20T08:42:40\",\"2020-12-21T15:47:12\",\"2020-12-22T15:24:51\",\"2020-12-16T13:42:06\",\"2020-12-19T23:01:13\",\"2020-12-20T08:42:41\",\"2020-12-21T15:47:12\",\"2020-12-22T15:24:51\",\"2020-12-16T13:42:05\",\"2020-12-19T23:01:13\",\"2020-12-20T08:42:41\",\"2020-12-21T15:47:12\",\"2020-12-22T15:24:54\",\"2020-12-16T13:42:05\",\"2020-12-19T23:01:13\",\"2020-12-20T08:42:40\",\"2020-12-21T15:47:12\",\"2020-12-22T15:24:51\",\"2020-12-16T22:40:51\",\"2020-12-21T14:02:31\",\"2020-12-16T22:40:52\",\"2020-12-21T14:02:35\",\"2020-12-16T22:40:51\",\"2020-12-21T14:02:31\",\"2020-12-16T16:30:05\",\"2020-12-16T16:30:06\",\"2020-12-16T16:30:05\",\"2020-12-16T19:47:35\",\"2020-12-16T19:47:35\",\"2020-12-16T19:47:35\",\"2020-12-16T02:19:42\",\"2020-12-17T03:07:05\",\"2020-12-18T18:23:05\",\"2020-12-20T04:46:01\",\"2020-12-16T02:19:43\",\"2020-12-17T03:07:05\",\"2020-12-18T18:23:06\",\"2020-12-20T04:46:01\",\"2020-12-16T02:19:42\",\"2020-12-17T03:07:05\",\"2020-12-18T18:23:05\",\"2020-12-20T04:46:01\",\"2020-12-16T12:27:40\",\"2020-12-18T07:48:03\",\"2020-12-21T21:44:48\",\"2020-12-16T12:27:44\",\"2020-12-18T07:48:03\",\"2020-12-21T21:44:48\",\"2020-12-16T12:27:40\",\"2020-12-18T07:48:03\",\"2020-12-21T21:44:48\",\"2020-12-16T17:52:21\",\"2020-12-26T11:55:11\",\"2020-12-16T17:52:24\",\"2020-12-26T11:55:12\",\"2020-12-16T17:52:21\",\"2020-12-26T11:55:11\",\"2020-12-16T23:10:13\",\"2020-12-23T23:38:58\",\"2020-12-16T23:10:13\",\"2020-12-23T23:38:59\",\"2020-12-16T23:10:13\",\"2020-12-23T23:39:00\",\"2020-12-16T23:10:13\",\"2020-12-23T23:38:58\",\"2020-12-16T22:08:56\",\"2020-12-26T02:07:57\",\"2020-12-28T04:34:23\",\"2020-12-16T22:08:56\",\"2020-12-26T02:07:57\",\"2020-12-28T04:34:23\",\"2020-12-16T01:45:44\",\"2020-12-17T17:24:37\",\"2020-12-22T20:45:21\",\"2020-12-25T01:59:56\",\"2020-12-16T01:45:44\",\"2020-12-17T17:24:37\",\"2020-12-22T20:45:21\",\"2020-12-25T01:59:56\",\"2020-12-16T00:40:30\",\"2020-12-28T14:10:19\",\"2020-12-16T00:40:33\",\"2020-12-28T14:10:19\",\"2020-12-16T00:40:30\",\"2020-12-28T14:10:19\",\"2020-12-16T22:06:21\",\"2020-12-23T15:24:45\",\"2020-12-25T11:24:00\",\"2020-12-16T22:06:21\",\"2020-12-23T15:24:45\",\"2020-12-25T11:24:00\",\"2020-12-16T19:20:45\",\"2020-12-18T08:30:14\",\"2020-12-16T19:20:45\",\"2020-12-18T08:30:14\",\"2020-12-16T19:20:45\",\"2020-12-18T08:30:14\",\"2020-12-16T14:08:46\",\"2020-12-20T11:56:14\",\"2020-12-22T10:32:57\",\"2020-12-16T14:08:47\",\"2020-12-20T11:56:14\",\"2020-12-22T10:32:57\",\"2020-12-16T14:08:47\",\"2020-12-20T11:56:15\",\"2020-12-22T10:32:58\",\"2020-12-16T14:08:46\",\"2020-12-20T11:56:14\",\"2020-12-22T10:32:57\",\"2020-12-16T08:46:01\",\"2020-12-17T18:54:22\",\"2020-12-19T21:03:01\",\"2020-12-16T08:46:01\",\"2020-12-17T18:54:22\",\"2020-12-19T21:03:01\",\"2020-12-16T08:46:01\",\"2020-12-17T18:54:22\",\"2020-12-19T21:03:01\",\"2020-12-16T06:10:44\",\"2020-12-19T06:31:07\",\"2020-12-16T06:10:44\",\"2020-12-19T06:31:07\",\"2020-12-16T14:01:21\",\"2020-12-17T05:56:59\",\"2020-12-18T04:49:54\",\"2020-12-28T19:04:05\",\"2020-12-16T14:01:21\",\"2020-12-17T05:56:59\",\"2020-12-18T04:49:57\",\"2020-12-28T19:04:06\",\"2020-12-16T14:01:21\",\"2020-12-17T05:56:59\",\"2020-12-18T04:49:54\",\"2020-12-28T19:04:05\",\"2020-12-16T00:33:26\",\"2020-12-19T15:48:36\",\"2020-12-16T00:33:26\",\"2020-12-19T15:48:36\",\"2020-12-16T06:51:30\",\"2020-12-17T08:46:13\",\"2020-12-16T06:51:31\",\"2020-12-17T08:46:15\",\"2020-12-16T06:51:31\",\"2020-12-17T08:46:14\",\"2020-12-16T06:51:30\",\"2020-12-17T08:46:13\",\"2020-12-16T02:03:49\",\"2020-12-18T00:51:28\",\"2020-12-19T07:06:06\",\"2020-12-20T00:59:28\",\"2020-12-16T02:03:49\",\"2020-12-18T00:51:29\",\"2020-12-19T07:06:09\",\"2020-12-20T00:59:29\",\"2020-12-16T02:03:49\",\"2020-12-18T00:51:28\",\"2020-12-19T07:06:06\",\"2020-12-20T00:59:28\",\"2020-12-16T17:56:00\",\"2020-12-29T10:02:22\",\"2020-12-16T17:56:00\",\"2020-12-29T10:02:23\",\"2020-12-16T17:56:01\",\"2020-12-29T10:02:22\",\"2020-12-16T17:56:00\",\"2020-12-29T10:02:22\",\"2020-12-16T07:06:32\",\"2020-12-17T16:04:53\",\"2020-12-18T02:28:55\",\"2020-12-21T17:12:16\",\"2020-12-22T06:25:54\",\"2020-12-16T07:06:32\",\"2020-12-17T16:04:53\",\"2020-12-18T02:28:55\",\"2020-12-21T17:12:17\",\"2020-12-22T06:25:55\",\"2020-12-16T07:06:33\",\"2020-12-17T16:04:53\",\"2020-12-18T02:28:56\",\"2020-12-21T17:12:18\",\"2020-12-22T06:25:54\",\"2020-12-16T07:06:32\",\"2020-12-17T16:04:53\",\"2020-12-18T02:28:55\",\"2020-12-21T17:12:16\",\"2020-12-22T06:25:54\",\"2020-12-16T09:45:32\",\"2020-12-17T20:13:55\",\"2020-12-24T18:02:33\",\"2020-12-26T08:47:27\",\"2020-12-16T09:45:34\",\"2020-12-17T20:13:55\",\"2020-12-24T18:02:33\",\"2020-12-26T08:47:29\",\"2020-12-16T09:45:33\",\"2020-12-17T20:13:55\",\"2020-12-24T18:02:36\",\"2020-12-26T08:47:30\",\"2020-12-16T09:45:32\",\"2020-12-17T20:13:55\",\"2020-12-24T18:02:33\",\"2020-12-26T08:47:27\",\"2020-12-16T15:16:03\",\"2020-12-17T14:08:39\",\"2020-12-19T10:51:04\",\"2020-12-23T07:17:39\",\"2020-12-16T15:16:03\",\"2020-12-17T14:08:39\",\"2020-12-19T10:51:04\",\"2020-12-23T07:17:39\",\"2020-12-16T06:49:32\",\"2020-12-18T21:42:32\",\"2020-12-16T06:49:33\",\"2020-12-18T21:42:32\",\"2020-12-16T06:49:32\",\"2020-12-18T21:42:32\",\"2020-12-16T09:24:08\",\"2020-12-17T11:27:33\",\"2020-12-18T02:29:38\",\"2020-12-21T20:46:45\",\"2020-12-16T09:24:08\",\"2020-12-17T11:27:33\",\"2020-12-18T02:29:38\",\"2020-12-21T20:46:46\",\"2020-12-16T09:24:08\",\"2020-12-17T11:27:33\",\"2020-12-18T02:29:38\",\"2020-12-21T20:46:45\",\"2020-12-16T23:57:58\",\"2020-12-21T19:45:39\",\"2020-12-24T16:17:48\",\"2020-12-16T23:57:58\",\"2020-12-21T19:45:39\",\"2020-12-24T16:17:48\",\"2020-12-16T09:48:34\",\"2020-12-17T07:45:23\",\"2020-12-18T12:57:28\",\"2020-12-22T21:57:35\",\"2020-12-24T08:24:26\",\"2020-12-16T09:48:35\",\"2020-12-17T07:45:23\",\"2020-12-18T12:57:28\",\"2020-12-22T21:57:37\",\"2020-12-24T08:24:29\",\"2020-12-16T09:48:34\",\"2020-12-17T07:45:23\",\"2020-12-18T12:57:28\",\"2020-12-22T21:57:35\",\"2020-12-24T08:24:26\",\"2020-12-16T22:49:16\",\"2020-12-18T22:08:25\",\"2020-12-16T22:49:17\",\"2020-12-18T22:08:25\",\"2020-12-16T22:49:17\",\"2020-12-18T22:08:26\",\"2020-12-16T22:49:16\",\"2020-12-18T22:08:25\",\"2020-12-17T09:14:23\",\"2020-12-18T18:39:30\",\"2020-12-17T09:14:23\",\"2020-12-18T18:39:30\",\"2020-12-17T12:58:44\",\"2020-12-18T04:39:40\",\"2020-12-28T08:15:34\",\"2020-12-17T12:58:44\",\"2020-12-18T04:39:40\",\"2020-12-28T08:15:34\",\"2020-12-17T05:43:55\",\"2020-12-17T05:43:56\",\"2020-12-17T05:43:57\",\"2020-12-17T05:43:55\",\"2020-12-17T17:14:44\",\"2020-12-18T08:48:15\",\"2020-12-22T12:07:51\",\"2020-12-29T23:01:18\",\"2020-12-17T17:14:44\",\"2020-12-18T08:48:17\",\"2020-12-22T12:07:51\",\"2020-12-29T23:01:19\",\"2020-12-17T17:14:44\",\"2020-12-18T08:48:15\",\"2020-12-22T12:07:51\",\"2020-12-29T23:01:18\",\"2020-12-17T09:43:51\",\"2020-12-19T06:32:31\",\"2020-12-17T09:43:54\",\"2020-12-19T06:32:32\",\"2020-12-17T09:43:51\",\"2020-12-19T06:32:31\",\"2020-12-17T09:43:51\",\"2020-12-19T06:32:31\",\"2020-12-17T20:15:01\",\"2020-12-19T03:14:50\",\"2020-12-26T01:07:45\",\"2020-12-17T20:15:03\",\"2020-12-19T03:14:50\",\"2020-12-26T01:07:47\",\"2020-12-17T20:15:01\",\"2020-12-19T03:14:50\",\"2020-12-26T01:07:45\",\"2020-12-17T10:41:24\",\"2020-12-19T00:26:06\",\"2020-12-21T14:10:44\",\"2020-12-25T03:37:55\",\"2020-12-29T05:12:43\",\"2020-12-17T10:41:24\",\"2020-12-19T00:26:06\",\"2020-12-21T14:10:44\",\"2020-12-25T03:37:55\",\"2020-12-29T05:12:43\",\"2020-12-17T06:08:42\",\"2020-12-18T23:09:35\",\"2020-12-17T06:08:42\",\"2020-12-18T23:09:35\",\"2020-12-17T06:08:42\",\"2020-12-18T23:09:35\",\"2020-12-17T01:13:13\",\"2020-12-19T04:19:02\",\"2020-12-27T22:03:05\",\"2020-12-28T21:50:52\",\"2020-12-17T01:13:13\",\"2020-12-19T04:19:05\",\"2020-12-27T22:03:08\",\"2020-12-28T21:50:53\",\"2020-12-17T01:13:13\",\"2020-12-19T04:19:02\",\"2020-12-27T22:03:05\",\"2020-12-28T21:50:52\",\"2020-12-17T21:07:30\",\"2020-12-19T00:25:50\",\"2020-12-26T22:01:35\",\"2020-12-17T21:07:32\",\"2020-12-19T00:25:52\",\"2020-12-26T22:01:35\",\"2020-12-17T21:07:30\",\"2020-12-19T00:25:50\",\"2020-12-26T22:01:35\",\"2020-12-17T09:11:35\",\"2020-12-19T19:44:54\",\"2020-12-21T13:49:21\",\"2020-12-25T01:14:04\",\"2020-12-17T09:11:35\",\"2020-12-19T19:44:55\",\"2020-12-21T13:49:23\",\"2020-12-25T01:14:05\",\"2020-12-17T09:11:35\",\"2020-12-19T19:44:57\",\"2020-12-21T13:49:23\",\"2020-12-25T01:14:05\",\"2020-12-17T09:11:35\",\"2020-12-19T19:44:54\",\"2020-12-21T13:49:21\",\"2020-12-25T01:14:04\",\"2020-12-17T20:48:10\",\"2020-12-18T06:49:07\",\"2020-12-17T20:48:12\",\"2020-12-18T06:49:07\",\"2020-12-17T20:48:12\",\"2020-12-18T06:49:08\",\"2020-12-17T20:48:10\",\"2020-12-18T06:49:07\",\"2020-12-17T05:20:46\",\"2020-12-20T02:12:42\",\"2020-12-21T00:13:12\",\"2020-12-17T05:20:47\",\"2020-12-20T02:12:44\",\"2020-12-21T00:13:13\",\"2020-12-17T05:20:46\",\"2020-12-20T02:12:42\",\"2020-12-21T00:13:12\",\"2020-12-17T14:16:14\",\"2020-12-19T01:46:58\",\"2020-12-20T11:24:43\",\"2020-12-17T14:16:15\",\"2020-12-19T01:46:58\",\"2020-12-20T11:24:43\",\"2020-12-17T14:16:14\",\"2020-12-19T01:46:58\",\"2020-12-20T11:24:44\",\"2020-12-17T14:16:14\",\"2020-12-19T01:46:58\",\"2020-12-20T11:24:43\",\"2020-12-17T00:59:17\",\"2020-12-18T09:35:57\",\"2020-12-19T00:10:33\",\"2020-12-27T08:55:47\",\"2020-12-28T08:53:05\",\"2020-12-17T00:59:17\",\"2020-12-18T09:35:57\",\"2020-12-19T00:10:33\",\"2020-12-27T08:55:47\",\"2020-12-28T08:53:05\",\"2020-12-17T02:46:28\",\"2020-12-18T22:04:16\",\"2020-12-17T02:46:29\",\"2020-12-18T22:04:17\",\"2020-12-17T02:46:28\",\"2020-12-18T22:04:16\",\"2020-12-17T20:13:19\",\"2020-12-18T02:42:12\",\"2020-12-19T06:42:55\",\"2020-12-21T16:46:18\",\"2020-12-28T01:08:52\",\"2020-12-17T20:13:22\",\"2020-12-18T02:42:13\",\"2020-12-19T06:42:56\",\"2020-12-21T16:46:19\",\"2020-12-28T01:08:52\",\"2020-12-17T20:13:19\",\"2020-12-18T02:42:12\",\"2020-12-19T06:42:55\",\"2020-12-21T16:46:18\",\"2020-12-28T01:08:52\",\"2020-12-17T16:27:47\",\"2020-12-18T13:40:04\",\"2020-12-17T16:27:49\",\"2020-12-18T13:40:06\",\"2020-12-17T16:27:47\",\"2020-12-18T13:40:04\",\"2020-12-17T09:24:57\",\"2020-12-21T20:15:32\",\"2020-12-22T08:03:59\",\"2020-12-17T09:24:57\",\"2020-12-21T20:15:33\",\"2020-12-22T08:03:59\",\"2020-12-17T09:24:57\",\"2020-12-21T20:15:32\",\"2020-12-22T08:03:59\",\"2020-12-17T00:01:52\",\"2020-12-24T08:17:09\",\"2020-12-17T00:01:52\",\"2020-12-24T08:17:11\",\"2020-12-17T00:01:52\",\"2020-12-24T08:17:09\",\"2020-12-17T10:05:53\",\"2020-12-18T13:23:28\",\"2020-12-24T11:23:02\",\"2020-12-17T10:05:54\",\"2020-12-18T13:23:28\",\"2020-12-24T11:23:02\",\"2020-12-17T10:05:53\",\"2020-12-18T13:23:28\",\"2020-12-24T11:23:02\",\"2020-12-17T21:55:07\",\"2020-12-19T01:15:49\",\"2020-12-21T15:11:15\",\"2020-12-22T09:33:34\",\"2020-12-26T15:22:11\",\"2020-12-17T21:55:08\",\"2020-12-19T01:15:49\",\"2020-12-21T15:11:16\",\"2020-12-22T09:33:34\",\"2020-12-26T15:22:12\",\"2020-12-17T21:55:10\",\"2020-12-19T01:15:49\",\"2020-12-21T15:11:15\",\"2020-12-22T09:33:38\",\"2020-12-26T15:22:11\",\"2020-12-17T21:55:07\",\"2020-12-19T01:15:49\",\"2020-12-21T15:11:15\",\"2020-12-22T09:33:34\",\"2020-12-26T15:22:11\",\"2020-12-17T20:16:31\",\"2020-12-19T05:40:24\",\"2020-12-21T00:35:04\",\"2020-12-17T20:16:31\",\"2020-12-19T05:40:24\",\"2020-12-21T00:35:04\",\"2020-12-17T09:52:10\",\"2020-12-21T08:42:00\",\"2020-12-25T07:23:21\",\"2020-12-17T09:52:11\",\"2020-12-21T08:42:01\",\"2020-12-25T07:23:22\",\"2020-12-17T09:52:10\",\"2020-12-21T08:42:00\",\"2020-12-25T07:23:21\",\"2020-12-17T14:55:10\",\"2020-12-18T13:23:15\",\"2020-12-20T05:28:34\",\"2020-12-17T14:55:11\",\"2020-12-18T13:23:17\",\"2020-12-20T05:28:34\",\"2020-12-17T14:55:10\",\"2020-12-18T13:23:15\",\"2020-12-20T05:28:34\",\"2020-12-17T05:17:42\",\"2020-12-18T10:40:17\",\"2020-12-17T05:17:44\",\"2020-12-18T10:40:19\",\"2020-12-17T05:17:44\",\"2020-12-18T10:40:19\",\"2020-12-17T05:17:42\",\"2020-12-18T10:40:17\",\"2020-12-17T15:30:42\",\"2020-12-20T04:29:23\",\"2020-12-22T07:54:05\",\"2020-12-25T10:31:32\",\"2020-12-17T15:30:42\",\"2020-12-20T04:29:24\",\"2020-12-22T07:54:07\",\"2020-12-25T10:31:33\",\"2020-12-17T15:30:44\",\"2020-12-20T04:29:24\",\"2020-12-22T07:54:05\",\"2020-12-25T10:31:37\",\"2020-12-17T15:30:42\",\"2020-12-20T04:29:23\",\"2020-12-22T07:54:05\",\"2020-12-25T10:31:32\",\"2020-12-17T13:52:23\",\"2020-12-18T10:52:18\",\"2020-12-22T07:28:01\",\"2020-12-26T02:22:53\",\"2020-12-17T13:52:23\",\"2020-12-18T10:52:18\",\"2020-12-22T07:28:02\",\"2020-12-26T02:22:53\",\"2020-12-17T13:52:23\",\"2020-12-18T10:52:18\",\"2020-12-22T07:28:01\",\"2020-12-26T02:22:53\",\"2020-12-17T09:55:05\",\"2020-12-18T07:45:08\",\"2020-12-26T08:44:31\",\"2020-12-17T09:55:08\",\"2020-12-18T07:45:11\",\"2020-12-26T08:44:31\",\"2020-12-17T09:55:05\",\"2020-12-18T07:45:08\",\"2020-12-26T08:44:31\",\"2020-12-17T07:31:05\",\"2020-12-18T11:04:06\",\"2020-12-19T01:04:10\",\"2020-12-20T02:41:06\",\"2020-12-28T09:55:02\",\"2020-12-17T07:31:07\",\"2020-12-18T11:04:09\",\"2020-12-19T01:04:11\",\"2020-12-20T02:41:09\",\"2020-12-28T09:55:03\",\"2020-12-17T07:31:05\",\"2020-12-18T11:04:06\",\"2020-12-19T01:04:10\",\"2020-12-20T02:41:06\",\"2020-12-28T09:55:02\",\"2020-12-17T07:52:44\",\"2020-12-24T22:22:42\",\"2020-12-17T07:52:44\",\"2020-12-24T22:22:43\",\"2020-12-17T07:52:44\",\"2020-12-24T22:22:42\",\"2020-12-17T01:51:29\",\"2020-12-19T03:57:29\",\"2020-12-23T13:53:58\",\"2020-12-17T01:51:31\",\"2020-12-19T03:57:29\",\"2020-12-23T13:53:59\",\"2020-12-17T01:51:29\",\"2020-12-19T03:57:29\",\"2020-12-23T13:53:58\",\"2020-12-17T19:44:24\",\"2020-12-17T19:44:24\",\"2020-12-17T19:44:24\",\"2020-12-17T07:23:36\",\"2020-12-18T20:19:39\",\"2020-12-19T19:55:58\",\"2020-12-29T14:45:24\",\"2020-12-17T07:23:38\",\"2020-12-18T20:19:39\",\"2020-12-19T19:55:58\",\"2020-12-29T14:45:24\",\"2020-12-17T07:23:36\",\"2020-12-18T20:19:39\",\"2020-12-19T19:55:58\",\"2020-12-29T14:45:24\",\"2020-12-17T05:53:37\",\"2020-12-19T13:22:11\",\"2020-12-29T07:41:27\",\"2020-12-17T05:53:38\",\"2020-12-19T13:22:11\",\"2020-12-29T07:41:31\",\"2020-12-17T05:53:38\",\"2020-12-19T13:22:11\",\"2020-12-29T07:41:32\",\"2020-12-17T05:53:37\",\"2020-12-19T13:22:11\",\"2020-12-29T07:41:27\",\"2020-12-17T03:10:18\",\"2020-12-18T14:22:35\",\"2020-12-17T03:10:18\",\"2020-12-18T14:22:35\",\"2020-12-17T03:10:18\",\"2020-12-18T14:22:35\",\"2020-12-17T08:05:40\",\"2020-12-18T15:23:26\",\"2020-12-24T07:24:19\",\"2020-12-17T08:05:40\",\"2020-12-18T15:23:26\",\"2020-12-24T07:24:19\",\"2020-12-17T06:54:16\",\"2020-12-19T11:03:03\",\"2020-12-20T16:27:35\",\"2020-12-23T15:33:36\",\"2020-12-17T06:54:22\",\"2020-12-19T11:03:05\",\"2020-12-20T16:27:37\",\"2020-12-23T15:33:37\",\"2020-12-17T06:54:16\",\"2020-12-19T11:03:03\",\"2020-12-20T16:27:35\",\"2020-12-23T15:33:36\",\"2020-12-17T19:39:47\",\"2020-12-18T11:25:40\",\"2020-12-17T19:39:49\",\"2020-12-18T11:25:40\",\"2020-12-17T19:39:47\",\"2020-12-18T11:25:40\",\"2020-12-17T11:34:17\",\"2020-12-17T11:34:18\",\"2020-12-17T11:34:17\",\"2020-12-17T05:19:43\",\"2020-12-17T05:19:43\",\"2020-12-17T11:30:44\",\"2020-12-18T10:34:17\",\"2020-12-23T16:45:59\",\"2020-12-27T03:57:00\",\"2020-12-17T11:30:44\",\"2020-12-18T10:34:17\",\"2020-12-23T16:46:00\",\"2020-12-27T03:57:03\",\"2020-12-17T11:30:44\",\"2020-12-18T10:34:17\",\"2020-12-23T16:45:59\",\"2020-12-27T03:57:00\",\"2020-12-17T06:13:58\",\"2020-12-19T01:25:32\",\"2020-12-22T10:00:34\",\"2020-12-27T00:48:52\",\"2020-12-17T06:13:58\",\"2020-12-19T01:25:33\",\"2020-12-22T10:00:34\",\"2020-12-27T00:48:54\",\"2020-12-17T06:13:58\",\"2020-12-19T01:25:32\",\"2020-12-22T10:00:34\",\"2020-12-27T00:48:52\",\"2020-12-17T18:47:31\",\"2020-12-19T17:12:54\",\"2020-12-21T18:39:32\",\"2020-12-23T22:40:59\",\"2020-12-17T18:47:33\",\"2020-12-19T17:12:56\",\"2020-12-21T18:39:33\",\"2020-12-23T22:40:59\",\"2020-12-17T18:47:31\",\"2020-12-19T17:12:54\",\"2020-12-21T18:39:32\",\"2020-12-23T22:40:59\",\"2020-12-17T05:39:16\",\"2020-12-20T19:50:34\",\"2020-12-28T09:45:33\",\"2020-12-17T05:39:19\",\"2020-12-20T19:50:36\",\"2020-12-28T09:45:36\",\"2020-12-17T05:39:16\",\"2020-12-20T19:50:34\",\"2020-12-28T09:45:33\",\"2020-12-17T12:35:24\",\"2020-12-18T13:47:46\",\"2020-12-17T12:35:26\",\"2020-12-18T13:47:48\",\"2020-12-17T12:35:24\",\"2020-12-18T13:47:46\",\"2020-12-17T21:47:40\",\"2020-12-18T02:37:16\",\"2020-12-19T00:23:30\",\"2020-12-20T11:38:53\",\"2020-12-23T07:50:44\",\"2020-12-17T21:47:40\",\"2020-12-18T02:37:16\",\"2020-12-19T00:23:30\",\"2020-12-20T11:38:53\",\"2020-12-23T07:50:44\",\"2020-12-17T17:24:06\",\"2020-12-19T03:19:43\",\"2020-12-22T23:20:52\",\"2020-12-23T19:25:44\",\"2020-12-17T17:24:06\",\"2020-12-19T03:19:43\",\"2020-12-22T23:20:55\",\"2020-12-23T19:25:45\",\"2020-12-17T17:24:06\",\"2020-12-19T03:19:43\",\"2020-12-22T23:20:52\",\"2020-12-23T19:25:44\",\"2020-12-17T14:00:30\",\"2020-12-18T19:06:35\",\"2020-12-21T14:20:53\",\"2020-12-26T20:51:58\",\"2020-12-17T14:00:31\",\"2020-12-18T19:06:35\",\"2020-12-21T14:20:54\",\"2020-12-26T20:51:59\",\"2020-12-17T14:00:30\",\"2020-12-18T19:06:35\",\"2020-12-21T14:20:53\",\"2020-12-26T20:51:58\",\"2020-12-17T13:35:49\",\"2020-12-19T02:26:15\",\"2020-12-29T03:47:12\",\"2020-12-17T13:35:51\",\"2020-12-19T02:26:15\",\"2020-12-29T03:47:14\",\"2020-12-17T13:35:50\",\"2020-12-19T02:26:16\",\"2020-12-29T03:47:13\",\"2020-12-17T13:35:49\",\"2020-12-19T02:26:15\",\"2020-12-29T03:47:12\",\"2020-12-17T21:58:39\",\"2020-12-20T15:41:55\",\"2020-12-24T18:03:11\",\"2020-12-28T18:38:39\",\"2020-12-17T21:58:40\",\"2020-12-20T15:41:55\",\"2020-12-24T18:03:15\",\"2020-12-28T18:38:43\",\"2020-12-17T21:58:39\",\"2020-12-20T15:41:55\",\"2020-12-24T18:03:11\",\"2020-12-28T18:38:39\",\"2020-12-17T18:05:29\",\"2020-12-19T02:10:32\",\"2020-12-20T17:13:08\",\"2020-12-28T19:05:02\",\"2020-12-17T18:05:29\",\"2020-12-19T02:10:32\",\"2020-12-20T17:13:08\",\"2020-12-28T19:05:02\",\"2020-12-17T11:32:48\",\"2020-12-19T17:00:48\",\"2020-12-17T11:32:48\",\"2020-12-19T17:00:48\",\"2020-12-17T11:32:48\",\"2020-12-19T17:00:48\",\"2020-12-17T06:16:39\",\"2020-12-19T16:11:53\",\"2020-12-21T21:03:45\",\"2020-12-26T15:35:47\",\"2020-12-17T06:16:39\",\"2020-12-19T16:11:53\",\"2020-12-21T21:03:45\",\"2020-12-26T15:35:47\",\"2020-12-17T06:16:39\",\"2020-12-19T16:11:53\",\"2020-12-21T21:03:45\",\"2020-12-26T15:35:47\",\"2020-12-17T22:50:01\",\"2020-12-20T00:29:53\",\"2020-12-17T22:50:02\",\"2020-12-20T00:29:55\",\"2020-12-17T22:50:01\",\"2020-12-20T00:29:53\",\"2020-12-17T18:10:33\",\"2020-12-19T19:09:53\",\"2020-12-21T12:09:20\",\"2020-12-29T14:59:38\",\"2020-12-17T18:10:35\",\"2020-12-19T19:09:55\",\"2020-12-21T12:09:21\",\"2020-12-29T14:59:39\",\"2020-12-17T18:10:33\",\"2020-12-19T19:09:53\",\"2020-12-21T12:09:20\",\"2020-12-29T14:59:38\",\"2020-12-17T19:16:34\",\"2020-12-18T03:47:41\",\"2020-12-17T19:16:35\",\"2020-12-18T03:47:41\",\"2020-12-17T19:16:34\",\"2020-12-18T03:47:41\",\"2020-12-17T00:20:40\",\"2020-12-18T11:25:42\",\"2020-12-19T00:52:16\",\"2020-12-17T00:20:42\",\"2020-12-18T11:25:42\",\"2020-12-19T00:52:16\",\"2020-12-17T00:20:41\",\"2020-12-18T11:25:42\",\"2020-12-19T00:52:18\",\"2020-12-17T00:20:40\",\"2020-12-18T11:25:42\",\"2020-12-19T00:52:16\",\"2020-12-17T14:48:52\",\"2020-12-28T14:06:57\",\"2020-12-17T14:48:55\",\"2020-12-28T14:06:59\",\"2020-12-17T14:48:52\",\"2020-12-28T14:06:57\",\"2020-12-17T06:44:24\",\"2020-12-23T17:04:10\",\"2020-12-26T10:54:11\",\"2020-12-17T06:44:25\",\"2020-12-23T17:04:11\",\"2020-12-26T10:54:11\",\"2020-12-28T06:10:45\",\"2020-12-17T06:44:24\",\"2020-12-23T17:04:10\",\"2020-12-26T10:54:11\",\"2020-12-28T06:10:41\",\"2020-12-17T03:21:49\",\"2020-12-18T16:32:13\",\"2020-12-17T03:21:49\",\"2020-12-18T16:32:15\",\"2020-12-17T03:21:49\",\"2020-12-18T16:32:13\",\"2020-12-17T03:21:49\",\"2020-12-18T16:32:13\",\"2020-12-17T20:04:38\",\"2020-12-18T15:33:46\",\"2020-12-17T20:04:38\",\"2020-12-18T15:33:46\",\"2020-12-17T09:05:40\",\"2020-12-18T12:44:50\",\"2020-12-23T17:28:49\",\"2020-12-17T09:05:40\",\"2020-12-18T12:44:50\",\"2020-12-23T17:28:49\",\"2020-12-17T16:24:26\",\"2020-12-18T15:45:27\",\"2020-12-27T05:32:10\",\"2020-12-17T16:24:26\",\"2020-12-18T15:45:27\",\"2020-12-27T05:32:10\",\"2020-12-17T16:24:26\",\"2020-12-18T15:45:27\",\"2020-12-27T05:32:10\",\"2020-12-17T16:24:26\",\"2020-12-18T15:45:27\",\"2020-12-27T05:32:10\",\"2020-12-17T19:13:53\",\"2020-12-18T02:38:41\",\"2020-12-26T13:29:36\",\"2020-12-17T19:13:55\",\"2020-12-18T02:38:44\",\"2020-12-26T13:29:38\",\"2020-12-17T19:13:53\",\"2020-12-18T02:38:41\",\"2020-12-26T13:29:36\",\"2020-12-17T17:56:50\",\"2020-12-18T08:19:22\",\"2020-12-19T02:33:56\",\"2020-12-27T03:58:31\",\"2020-12-29T00:09:48\",\"2020-12-17T17:56:53\",\"2020-12-18T08:19:23\",\"2020-12-19T02:33:57\",\"2020-12-27T03:58:32\",\"2020-12-29T00:09:48\",\"2020-12-17T17:56:50\",\"2020-12-18T08:19:22\",\"2020-12-19T02:33:56\",\"2020-12-27T03:58:31\",\"2020-12-29T00:09:48\",\"2020-12-17T02:29:01\",\"2020-12-19T18:56:17\",\"2020-12-26T03:15:13\",\"2020-12-29T21:14:34\",\"2020-12-17T02:29:01\",\"2020-12-19T18:56:18\",\"2020-12-26T03:15:18\",\"2020-12-29T21:14:35\",\"2020-12-17T02:29:02\",\"2020-12-19T18:56:17\",\"2020-12-26T03:15:15\",\"2020-12-29T21:14:35\",\"2020-12-17T02:29:01\",\"2020-12-19T18:56:17\",\"2020-12-26T03:15:13\",\"2020-12-29T21:14:34\",\"2020-12-17T05:13:04\",\"2020-12-18T11:11:55\",\"2020-12-24T22:59:03\",\"2020-12-17T05:13:04\",\"2020-12-18T11:11:55\",\"2020-12-24T22:59:03\",\"2020-12-17T02:23:15\",\"2020-12-20T12:06:12\",\"2020-12-27T20:27:14\",\"2020-12-17T02:23:15\",\"2020-12-20T12:06:12\",\"2020-12-27T20:27:15\",\"2020-12-17T02:23:15\",\"2020-12-20T12:06:12\",\"2020-12-27T20:27:14\",\"2020-12-17T21:33:49\",\"2020-12-21T19:00:08\",\"2020-12-17T21:33:50\",\"2020-12-21T19:00:12\",\"2020-12-17T21:33:49\",\"2020-12-21T19:00:08\",\"2020-12-17T21:07:27\",\"2020-12-19T04:34:37\",\"2020-12-21T21:05:23\",\"2020-12-23T11:52:09\",\"2020-12-17T21:07:27\",\"2020-12-19T04:34:38\",\"2020-12-21T21:05:24\",\"2020-12-23T11:52:10\",\"2020-12-17T21:07:27\",\"2020-12-19T04:34:37\",\"2020-12-21T21:05:23\",\"2020-12-23T11:52:09\",\"2020-12-17T17:52:00\",\"2020-12-18T23:23:47\",\"2020-12-22T23:24:45\",\"2020-12-23T21:19:45\",\"2020-12-17T17:52:00\",\"2020-12-18T23:23:47\",\"2020-12-22T23:24:45\",\"2020-12-23T21:19:46\",\"2020-12-17T17:52:00\",\"2020-12-18T23:23:47\",\"2020-12-22T23:24:45\",\"2020-12-23T21:19:45\",\"2020-12-17T21:43:07\",\"2020-12-18T23:52:18\",\"2020-12-24T18:00:45\",\"2020-12-17T21:43:08\",\"2020-12-18T23:52:22\",\"2020-12-24T18:00:46\",\"2020-12-17T21:43:09\",\"2020-12-18T23:52:21\",\"2020-12-24T18:00:46\",\"2020-12-17T21:43:07\",\"2020-12-18T23:52:18\",\"2020-12-24T18:00:45\",\"2020-12-18T20:02:11\",\"2020-12-21T15:28:46\",\"2020-12-18T20:02:11\",\"2020-12-21T15:28:46\",\"2020-12-18T20:53:03\",\"2020-12-20T05:28:56\",\"2020-12-18T20:53:05\",\"2020-12-20T05:28:56\",\"2020-12-18T20:53:03\",\"2020-12-20T05:28:56\",\"2020-12-18T03:19:16\",\"2020-12-19T13:58:15\",\"2020-12-20T10:34:16\",\"2020-12-21T08:53:26\",\"2020-12-22T03:33:23\",\"2020-12-27T00:06:05\",\"2020-12-18T03:19:18\",\"2020-12-19T13:58:16\",\"2020-12-20T10:34:17\",\"2020-12-21T08:53:27\",\"2020-12-22T03:33:24\",\"2020-12-27T00:06:06\",\"2020-12-18T03:19:16\",\"2020-12-19T13:58:15\",\"2020-12-20T10:34:16\",\"2020-12-21T08:53:26\",\"2020-12-22T03:33:23\",\"2020-12-27T00:06:05\",\"2020-12-18T00:07:20\",\"2020-12-20T00:40:13\",\"2020-12-25T17:59:05\",\"2020-12-18T00:07:20\",\"2020-12-20T00:40:14\",\"2020-12-25T17:59:05\",\"2020-12-18T00:07:20\",\"2020-12-20T00:40:13\",\"2020-12-25T17:59:05\",\"2020-12-18T12:35:46\",\"2020-12-25T08:51:18\",\"2020-12-27T07:32:28\",\"2020-12-18T12:35:48\",\"2020-12-25T08:51:18\",\"2020-12-27T07:32:28\",\"2020-12-18T12:35:46\",\"2020-12-25T08:51:18\",\"2020-12-27T07:32:28\",\"2020-12-18T00:19:24\",\"2020-12-19T04:03:20\",\"2020-12-20T16:51:03\",\"2020-12-18T00:19:25\",\"2020-12-19T04:03:20\",\"2020-12-20T16:51:03\",\"2020-12-18T00:19:24\",\"2020-12-19T04:03:20\",\"2020-12-20T16:51:03\",\"2020-12-18T03:43:29\",\"2020-12-19T18:19:18\",\"2020-12-18T03:43:29\",\"2020-12-19T18:19:20\",\"2020-12-18T03:43:29\",\"2020-12-19T18:19:18\",\"2020-12-18T03:54:47\",\"2020-12-22T16:37:31\",\"2020-12-18T03:54:47\",\"2020-12-22T16:37:34\",\"2020-12-18T03:54:48\",\"2020-12-22T16:37:33\",\"2020-12-18T03:54:47\",\"2020-12-22T16:37:31\",\"2020-12-18T04:25:09\",\"2020-12-19T23:04:01\",\"2020-12-20T21:01:34\",\"2020-12-18T04:25:09\",\"2020-12-19T23:04:02\",\"2020-12-20T21:01:34\",\"2020-12-18T04:25:09\",\"2020-12-19T23:04:02\",\"2020-12-20T21:01:35\",\"2020-12-18T04:25:09\",\"2020-12-19T23:04:01\",\"2020-12-20T21:01:34\",\"2020-12-18T02:29:05\",\"2020-12-19T06:10:32\",\"2020-12-20T14:56:10\",\"2020-12-21T14:37:36\",\"2020-12-23T18:10:38\",\"2020-12-18T02:29:06\",\"2020-12-19T06:10:35\",\"2020-12-20T14:56:12\",\"2020-12-21T14:37:39\",\"2020-12-23T18:10:39\",\"2020-12-18T02:29:06\",\"2020-12-19T06:10:32\",\"2020-12-20T14:56:11\",\"2020-12-21T14:37:39\",\"2020-12-23T18:10:39\",\"2020-12-18T02:29:05\",\"2020-12-19T06:10:32\",\"2020-12-20T14:56:10\",\"2020-12-21T14:37:36\",\"2020-12-23T18:10:38\",\"2020-12-18T17:29:46\",\"2020-12-19T14:32:11\",\"2020-12-23T20:19:09\",\"2020-12-24T09:01:44\",\"2020-12-18T17:29:46\",\"2020-12-19T14:32:11\",\"2020-12-23T20:19:09\",\"2020-12-24T09:01:44\",\"2020-12-18T19:52:35\",\"2020-12-19T17:53:00\",\"2020-12-22T07:27:32\",\"2020-12-24T09:28:01\",\"2020-12-28T10:55:00\",\"2020-12-18T19:52:36\",\"2020-12-19T17:53:00\",\"2020-12-22T07:27:32\",\"2020-12-24T09:28:01\",\"2020-12-28T10:55:03\",\"2020-12-18T19:52:35\",\"2020-12-19T17:53:00\",\"2020-12-22T07:27:32\",\"2020-12-24T09:28:01\",\"2020-12-28T10:55:00\",\"2020-12-18T05:00:03\",\"2020-12-19T19:02:27\",\"2020-12-20T09:51:02\",\"2020-12-27T05:19:10\",\"2020-12-18T05:00:05\",\"2020-12-19T19:02:28\",\"2020-12-20T09:51:02\",\"2020-12-27T05:19:10\",\"2020-12-18T05:00:03\",\"2020-12-19T19:02:27\",\"2020-12-20T09:51:02\",\"2020-12-27T05:19:10\",\"2020-12-18T16:21:24\",\"2020-12-19T00:33:02\",\"2020-12-18T16:21:24\",\"2020-12-19T00:33:02\",\"2020-12-18T16:21:24\",\"2020-12-19T00:33:02\",\"2020-12-18T00:32:22\",\"2020-12-19T07:50:58\",\"2020-12-18T00:32:22\",\"2020-12-19T07:51:01\",\"2020-12-18T00:32:22\",\"2020-12-19T07:50:59\",\"2020-12-18T00:32:22\",\"2020-12-19T07:50:58\",\"2020-12-18T16:22:43\",\"2020-12-19T10:12:50\",\"2020-12-20T21:20:16\",\"2020-12-21T23:04:58\",\"2020-12-22T17:56:50\",\"2020-12-18T16:22:45\",\"2020-12-19T10:12:50\",\"2020-12-20T21:20:16\",\"2020-12-21T23:04:58\",\"2020-12-22T17:56:50\",\"2020-12-18T16:22:43\",\"2020-12-19T10:12:50\",\"2020-12-20T21:20:16\",\"2020-12-21T23:04:58\",\"2020-12-22T17:56:50\",\"2020-12-18T16:23:49\",\"2020-12-27T12:57:59\",\"2020-12-18T16:23:49\",\"2020-12-27T12:57:59\",\"2020-12-18T16:37:08\",\"2020-12-24T17:35:20\",\"2020-12-25T02:45:27\",\"2020-12-28T07:11:31\",\"2020-12-29T21:31:04\",\"2020-12-18T16:37:12\",\"2020-12-24T17:35:22\",\"2020-12-25T02:45:27\",\"2020-12-28T07:11:34\",\"2020-12-29T21:31:04\",\"2020-12-18T16:37:09\",\"2020-12-24T17:35:21\",\"2020-12-25T02:45:28\",\"2020-12-28T07:11:31\",\"2020-12-29T21:31:04\",\"2020-12-18T16:37:08\",\"2020-12-24T17:35:20\",\"2020-12-25T02:45:27\",\"2020-12-28T07:11:31\",\"2020-12-29T21:31:04\",\"2020-12-18T15:26:27\",\"2020-12-21T21:13:22\",\"2020-12-22T06:38:30\",\"2020-12-25T23:14:08\",\"2020-12-26T12:43:23\",\"2020-12-27T08:09:52\",\"2020-12-18T15:26:27\",\"2020-12-21T21:13:23\",\"2020-12-22T06:38:30\",\"2020-12-25T23:14:09\",\"2020-12-26T12:43:23\",\"2020-12-27T08:09:53\",\"2020-12-18T15:26:27\",\"2020-12-21T21:13:22\",\"2020-12-22T06:38:30\",\"2020-12-25T23:14:08\",\"2020-12-26T12:43:23\",\"2020-12-27T08:09:52\",\"2020-12-18T09:25:15\",\"2020-12-19T02:24:01\",\"2020-12-20T17:06:13\",\"2020-12-21T14:46:57\",\"2020-12-22T01:58:57\",\"2020-12-18T09:25:15\",\"2020-12-19T02:24:01\",\"2020-12-20T17:06:13\",\"2020-12-21T14:46:57\",\"2020-12-22T01:58:57\",\"2020-12-18T22:46:47\",\"2020-12-20T14:03:07\",\"2020-12-24T19:44:26\",\"2020-12-18T22:46:48\",\"2020-12-20T14:03:08\",\"2020-12-24T19:44:27\",\"2020-12-18T22:46:47\",\"2020-12-20T14:03:07\",\"2020-12-24T19:44:26\",\"2020-12-18T16:42:10\",\"2020-12-19T03:14:22\",\"2020-12-22T16:55:55\",\"2020-12-24T03:24:39\",\"2020-12-18T16:42:10\",\"2020-12-19T03:14:22\",\"2020-12-22T16:55:55\",\"2020-12-24T03:24:39\",\"2020-12-18T02:02:14\",\"2020-12-18T02:02:14\",\"2020-12-18T02:02:14\",\"2020-12-18T14:29:33\",\"2020-12-21T23:52:35\",\"2020-12-23T03:59:12\",\"2020-12-18T14:29:34\",\"2020-12-21T23:52:36\",\"2020-12-23T03:59:14\",\"2020-12-18T14:29:35\",\"2020-12-21T23:52:37\",\"2020-12-23T03:59:14\",\"2020-12-18T14:29:33\",\"2020-12-21T23:52:35\",\"2020-12-23T03:59:12\",\"2020-12-18T17:08:37\",\"2020-12-21T04:03:41\",\"2020-12-22T09:30:14\",\"2020-12-28T16:20:28\",\"2020-12-18T17:08:39\",\"2020-12-21T04:03:44\",\"2020-12-22T09:30:14\",\"2020-12-28T16:20:29\",\"2020-12-18T17:08:39\",\"2020-12-21T04:03:42\",\"2020-12-22T09:30:14\",\"2020-12-28T16:20:29\",\"2020-12-18T17:08:37\",\"2020-12-21T04:03:41\",\"2020-12-22T09:30:14\",\"2020-12-28T16:20:28\",\"2020-12-18T07:17:19\",\"2020-12-19T19:03:36\",\"2020-12-21T14:39:00\",\"2020-12-28T04:51:26\",\"2020-12-18T07:17:20\",\"2020-12-19T19:03:37\",\"2020-12-21T14:39:00\",\"2020-12-28T04:51:26\",\"2020-12-18T07:17:19\",\"2020-12-19T19:03:36\",\"2020-12-21T14:39:00\",\"2020-12-28T04:51:26\",\"2020-12-18T08:07:16\",\"2020-12-21T00:36:41\",\"2020-12-28T15:03:01\",\"2020-12-18T08:07:16\",\"2020-12-21T00:36:41\",\"2020-12-28T15:03:01\",\"2020-12-18T08:07:16\",\"2020-12-21T00:36:41\",\"2020-12-28T15:03:01\",\"2020-12-18T14:57:03\",\"2020-12-22T10:56:56\",\"2020-12-24T13:17:01\",\"2020-12-18T14:57:05\",\"2020-12-22T10:56:58\",\"2020-12-24T13:17:01\",\"2020-12-18T14:57:03\",\"2020-12-22T10:56:56\",\"2020-12-24T13:17:01\",\"2020-12-18T12:18:26\",\"2020-12-19T17:56:57\",\"2020-12-20T05:03:40\",\"2020-12-18T12:18:26\",\"2020-12-19T17:56:57\",\"2020-12-20T05:03:40\",\"2020-12-18T23:52:51\",\"2020-12-19T04:14:51\",\"2020-12-18T23:52:51\",\"2020-12-19T04:14:51\",\"2020-12-18T23:52:52\",\"2020-12-19T04:14:51\",\"2020-12-18T23:52:51\",\"2020-12-19T04:14:51\",\"2020-12-18T23:34:09\",\"2020-12-19T05:10:41\",\"2020-12-20T17:43:22\",\"2020-12-21T18:39:32\",\"2020-12-23T02:23:46\",\"2020-12-18T23:34:11\",\"2020-12-19T05:10:42\",\"2020-12-20T17:43:22\",\"2020-12-21T18:39:34\",\"2020-12-23T02:23:46\",\"2020-12-18T23:34:09\",\"2020-12-19T05:10:41\",\"2020-12-20T17:43:22\",\"2020-12-21T18:39:32\",\"2020-12-23T02:23:46\",\"2020-12-18T16:38:32\",\"2020-12-19T16:27:33\",\"2020-12-21T04:45:17\",\"2020-12-22T00:37:30\",\"2020-12-18T16:38:33\",\"2020-12-19T16:27:33\",\"2020-12-21T04:45:21\",\"2020-12-22T00:37:31\",\"2020-12-18T16:38:32\",\"2020-12-19T16:27:33\",\"2020-12-21T04:45:17\",\"2020-12-22T00:37:30\",\"2020-12-18T02:21:07\",\"2020-12-19T11:19:37\",\"2020-12-20T08:02:33\",\"2020-12-21T12:45:18\",\"2020-12-25T16:05:47\",\"2020-12-18T02:21:08\",\"2020-12-19T11:19:38\",\"2020-12-20T08:02:33\",\"2020-12-21T12:45:20\",\"2020-12-25T16:05:47\",\"2020-12-18T02:21:10\",\"2020-12-19T11:19:37\",\"2020-12-20T08:02:33\",\"2020-12-21T12:45:20\",\"2020-12-25T16:05:47\",\"2020-12-18T02:21:07\",\"2020-12-19T11:19:37\",\"2020-12-20T08:02:33\",\"2020-12-21T12:45:18\",\"2020-12-25T16:05:47\",\"2020-12-18T13:53:38\",\"2020-12-19T03:58:09\",\"2020-12-20T16:33:20\",\"2020-12-21T03:29:17\",\"2020-12-22T16:50:29\",\"2020-12-24T16:00:24\",\"2020-12-18T13:53:39\",\"2020-12-19T03:58:09\",\"2020-12-20T16:33:20\",\"2020-12-21T03:29:17\",\"2020-12-22T16:50:29\",\"2020-12-24T16:00:31\",\"2020-12-18T13:53:42\",\"2020-12-19T03:58:09\",\"2020-12-20T16:33:21\",\"2020-12-21T03:29:18\",\"2020-12-22T16:50:29\",\"2020-12-24T16:00:28\",\"2020-12-18T13:53:38\",\"2020-12-19T03:58:09\",\"2020-12-20T16:33:20\",\"2020-12-21T03:29:17\",\"2020-12-22T16:50:29\",\"2020-12-24T16:00:24\",\"2020-12-18T13:46:06\",\"2020-12-22T15:03:04\",\"2020-12-18T13:46:08\",\"2020-12-22T15:03:07\",\"2020-12-18T13:46:10\",\"2020-12-22T15:03:04\",\"2020-12-18T13:46:06\",\"2020-12-22T15:03:04\",\"2020-12-18T12:39:13\",\"2020-12-20T04:33:28\",\"2020-12-21T12:54:12\",\"2020-12-25T19:31:39\",\"2020-12-18T12:39:13\",\"2020-12-20T04:33:28\",\"2020-12-21T12:54:12\",\"2020-12-25T19:31:39\",\"2020-12-18T06:08:48\",\"2020-12-25T05:18:25\",\"2020-12-26T05:39:50\",\"2020-12-18T06:08:51\",\"2020-12-25T05:18:25\",\"2020-12-26T05:39:50\",\"2020-12-18T06:08:48\",\"2020-12-25T05:18:25\",\"2020-12-26T05:39:50\",\"2020-12-18T14:21:15\",\"2020-12-19T01:59:36\",\"2020-12-20T20:00:59\",\"2020-12-21T03:30:06\",\"2020-12-23T00:12:18\",\"2020-12-18T14:21:15\",\"2020-12-19T01:59:37\",\"2020-12-20T20:01:03\",\"2020-12-21T03:30:06\",\"2020-12-23T00:12:18\",\"2020-12-18T14:21:15\",\"2020-12-19T01:59:38\",\"2020-12-20T20:01:03\",\"2020-12-21T03:30:10\",\"2020-12-23T00:12:18\",\"2020-12-18T14:21:15\",\"2020-12-19T01:59:36\",\"2020-12-20T20:00:59\",\"2020-12-21T03:30:06\",\"2020-12-23T00:12:18\",\"2020-12-18T04:17:08\",\"2020-12-19T08:05:45\",\"2020-12-20T20:17:57\",\"2020-12-18T04:17:08\",\"2020-12-19T08:05:45\",\"2020-12-20T20:18:00\",\"2020-12-18T04:17:08\",\"2020-12-19T08:05:45\",\"2020-12-20T20:17:57\",\"2020-12-18T12:29:39\",\"2020-12-19T14:46:05\",\"2020-12-20T22:24:21\",\"2020-12-23T04:31:06\",\"2020-12-25T08:30:06\",\"2020-12-18T12:29:41\",\"2020-12-19T14:46:05\",\"2020-12-20T22:24:21\",\"2020-12-23T04:31:07\",\"2020-12-25T08:30:06\",\"2020-12-18T12:29:40\",\"2020-12-19T14:46:07\",\"2020-12-20T22:24:21\",\"2020-12-23T04:31:07\",\"2020-12-25T08:30:06\",\"2020-12-18T12:29:39\",\"2020-12-19T14:46:05\",\"2020-12-20T22:24:21\",\"2020-12-23T04:31:06\",\"2020-12-25T08:30:06\",\"2020-12-18T16:18:21\",\"2020-12-21T07:45:16\",\"2020-12-18T16:18:23\",\"2020-12-21T07:45:16\",\"2020-12-18T16:18:21\",\"2020-12-21T07:45:16\",\"2020-12-18T03:04:18\",\"2020-12-19T12:42:40\",\"2020-12-18T03:04:20\",\"2020-12-19T12:42:41\",\"2020-12-18T03:04:19\",\"2020-12-19T12:42:42\",\"2020-12-18T03:04:18\",\"2020-12-19T12:42:40\",\"2020-12-18T23:23:15\",\"2020-12-20T13:26:38\",\"2020-12-21T22:03:59\",\"2020-12-27T14:33:42\",\"2020-12-18T23:23:17\",\"2020-12-20T13:26:39\",\"2020-12-21T22:04:00\",\"2020-12-27T14:33:42\",\"2020-12-18T23:23:15\",\"2020-12-20T13:26:38\",\"2020-12-21T22:03:59\",\"2020-12-27T14:33:42\",\"2020-12-18T19:37:19\",\"2020-12-18T19:37:20\",\"2020-12-18T19:37:19\",\"2020-12-18T19:37:19\",\"2020-12-18T05:34:40\",\"2020-12-20T21:40:57\",\"2020-12-27T22:27:07\",\"2020-12-28T09:47:11\",\"2020-12-18T05:34:40\",\"2020-12-20T21:40:58\",\"2020-12-27T22:27:10\",\"2020-12-28T09:47:11\",\"2020-12-18T05:34:40\",\"2020-12-20T21:40:57\",\"2020-12-27T22:27:07\",\"2020-12-28T09:47:11\",\"2020-12-18T08:28:23\",\"2020-12-20T01:11:34\",\"2020-12-18T08:28:25\",\"2020-12-20T01:11:34\",\"2020-12-18T08:28:26\",\"2020-12-20T01:11:35\",\"2020-12-18T08:28:23\",\"2020-12-20T01:11:34\",\"2020-12-18T21:32:07\",\"2020-12-25T17:47:10\",\"2020-12-18T21:32:07\",\"2020-12-25T17:47:10\",\"2020-12-27T16:30:46\",\"2020-12-18T20:56:55\",\"2020-12-18T20:56:55\",\"2020-12-18T20:17:37\",\"2020-12-21T01:41:27\",\"2020-12-18T20:17:37\",\"2020-12-21T01:41:27\",\"2020-12-18T20:17:37\",\"2020-12-21T01:41:27\",\"2020-12-18T19:16:53\",\"2020-12-19T13:01:42\",\"2020-12-21T15:10:10\",\"2020-12-23T21:45:02\",\"2020-12-26T10:46:26\",\"2020-12-18T19:16:54\",\"2020-12-19T13:01:43\",\"2020-12-21T15:10:10\",\"2020-12-23T21:45:02\",\"2020-12-26T10:46:31\",\"2020-12-18T19:16:53\",\"2020-12-19T13:01:42\",\"2020-12-21T15:10:10\",\"2020-12-23T21:45:02\",\"2020-12-26T10:46:26\",\"2020-12-18T10:29:13\",\"2020-12-21T09:27:30\",\"2020-12-22T22:33:35\",\"2020-12-24T00:50:19\",\"2020-12-18T10:29:13\",\"2020-12-21T09:27:32\",\"2020-12-22T22:33:37\",\"2020-12-24T00:50:20\",\"2020-12-18T10:29:13\",\"2020-12-21T09:27:30\",\"2020-12-22T22:33:35\",\"2020-12-24T00:50:19\",\"2020-12-18T20:44:50\",\"2020-12-19T16:03:50\",\"2020-12-18T20:44:52\",\"2020-12-19T16:03:52\",\"2020-12-18T20:44:52\",\"2020-12-19T16:03:50\",\"2020-12-18T20:44:50\",\"2020-12-19T16:03:50\",\"2020-12-18T00:24:09\",\"2020-12-19T20:42:03\",\"2020-12-22T15:26:24\",\"2020-12-23T10:43:40\",\"2020-12-18T00:24:10\",\"2020-12-19T20:42:03\",\"2020-12-22T15:26:24\",\"2020-12-23T10:43:40\",\"2020-12-18T00:24:09\",\"2020-12-19T20:42:03\",\"2020-12-22T15:26:24\",\"2020-12-23T10:43:40\",\"2020-12-18T08:24:48\",\"2020-12-22T03:30:13\",\"2020-12-24T15:17:19\",\"2020-12-18T08:24:52\",\"2020-12-22T03:30:13\",\"2020-12-24T15:17:22\",\"2020-12-18T08:24:48\",\"2020-12-22T03:30:13\",\"2020-12-24T15:17:19\",\"2020-12-18T17:14:59\",\"2020-12-19T10:09:47\",\"2020-12-23T21:58:26\",\"2020-12-18T17:15:00\",\"2020-12-19T10:09:48\",\"2020-12-23T21:58:28\",\"2020-12-18T17:15:01\",\"2020-12-19T10:09:49\",\"2020-12-23T21:58:28\",\"2020-12-18T17:14:59\",\"2020-12-19T10:09:47\",\"2020-12-23T21:58:26\",\"2020-12-18T08:10:56\",\"2020-12-19T13:42:36\",\"2020-12-20T19:12:25\",\"2020-12-28T11:28:31\",\"2020-12-18T08:10:57\",\"2020-12-19T13:42:37\",\"2020-12-20T19:12:27\",\"2020-12-28T11:28:33\",\"2020-12-18T08:10:56\",\"2020-12-19T13:42:36\",\"2020-12-20T19:12:25\",\"2020-12-28T11:28:31\",\"2020-12-18T01:54:49\",\"2020-12-19T09:48:07\",\"2020-12-20T00:20:28\",\"2020-12-21T20:59:01\",\"2020-12-24T06:03:21\",\"2020-12-18T01:54:52\",\"2020-12-19T09:48:09\",\"2020-12-20T00:20:29\",\"2020-12-21T20:59:03\",\"2020-12-24T06:03:21\",\"2020-12-18T01:54:52\",\"2020-12-19T09:48:11\",\"2020-12-20T00:20:31\",\"2020-12-21T20:59:03\",\"2020-12-24T06:03:23\",\"2020-12-18T01:54:49\",\"2020-12-19T09:48:07\",\"2020-12-20T00:20:28\",\"2020-12-21T20:59:01\",\"2020-12-24T06:03:21\",\"2020-12-18T22:08:42\",\"2020-12-19T15:11:34\",\"2020-12-18T22:08:42\",\"2020-12-19T15:11:34\",\"2020-12-18T14:17:25\",\"2020-12-19T12:17:41\",\"2020-12-20T22:50:49\",\"2020-12-25T19:34:46\",\"2020-12-28T11:52:46\",\"2020-12-18T14:17:25\",\"2020-12-19T12:17:42\",\"2020-12-20T22:50:50\",\"2020-12-25T19:34:46\",\"2020-12-28T11:52:50\",\"2020-12-18T14:17:25\",\"2020-12-19T12:17:41\",\"2020-12-20T22:50:49\",\"2020-12-25T19:34:46\",\"2020-12-28T11:52:46\",\"2020-12-18T21:54:24\",\"2020-12-20T22:38:57\",\"2020-12-22T14:44:12\",\"2020-12-27T10:21:13\",\"2020-12-18T21:54:24\",\"2020-12-20T22:38:57\",\"2020-12-22T14:44:12\",\"2020-12-27T10:21:13\",\"2020-12-18T23:29:32\",\"2020-12-19T04:23:58\",\"2020-12-20T07:05:25\",\"2020-12-22T20:19:46\",\"2020-12-27T02:04:13\",\"2020-12-18T23:29:32\",\"2020-12-19T04:23:58\",\"2020-12-20T07:05:25\",\"2020-12-22T20:19:46\",\"2020-12-27T02:04:13\",\"2020-12-18T06:34:53\",\"2020-12-19T18:36:06\",\"2020-12-18T06:34:54\",\"2020-12-19T18:36:06\",\"2020-12-18T06:34:53\",\"2020-12-19T18:36:06\",\"2020-12-18T06:34:53\",\"2020-12-19T18:36:06\",\"2020-12-18T01:56:43\",\"2020-12-20T11:58:13\",\"2020-12-21T08:17:33\",\"2020-12-26T16:37:08\",\"2020-12-18T01:56:46\",\"2020-12-20T11:58:13\",\"2020-12-21T08:17:33\",\"2020-12-26T16:37:12\",\"2020-12-18T01:56:43\",\"2020-12-20T11:58:15\",\"2020-12-21T08:17:34\",\"2020-12-26T16:37:11\",\"2020-12-18T01:56:43\",\"2020-12-20T11:58:13\",\"2020-12-21T08:17:33\",\"2020-12-26T16:37:08\",\"2020-12-18T04:38:19\",\"2020-12-19T08:09:05\",\"2020-12-27T04:31:45\",\"2020-12-18T04:38:20\",\"2020-12-19T08:09:05\",\"2020-12-27T04:31:45\",\"2020-12-18T04:38:20\",\"2020-12-19T08:09:06\",\"2020-12-27T04:31:47\",\"2020-12-18T04:38:19\",\"2020-12-19T08:09:05\",\"2020-12-27T04:31:45\",\"2020-12-18T09:33:07\",\"2020-12-24T10:29:20\",\"2020-12-29T09:35:08\",\"2020-12-18T09:33:07\",\"2020-12-24T10:29:21\",\"2020-12-29T09:35:10\",\"2020-12-18T09:33:08\",\"2020-12-24T10:29:21\",\"2020-12-29T09:35:08\",\"2020-12-18T09:33:07\",\"2020-12-24T10:29:20\",\"2020-12-29T09:35:08\",\"2020-12-19T09:18:04\",\"2020-12-21T03:04:13\",\"2020-12-23T11:35:52\",\"2020-12-24T09:27:02\",\"2020-12-19T09:18:05\",\"2020-12-21T03:04:17\",\"2020-12-23T11:35:52\",\"2020-12-24T09:27:02\",\"2020-12-19T09:18:04\",\"2020-12-21T03:04:13\",\"2020-12-23T11:35:52\",\"2020-12-24T09:27:02\",\"2020-12-19T06:18:23\",\"2020-12-22T01:43:30\",\"2020-12-23T14:15:14\",\"2020-12-24T16:52:28\",\"2020-12-19T06:18:24\",\"2020-12-22T01:43:31\",\"2020-12-23T14:15:16\",\"2020-12-24T16:52:30\",\"2020-12-19T06:18:24\",\"2020-12-22T01:43:30\",\"2020-12-23T14:15:15\",\"2020-12-24T16:52:29\",\"2020-12-19T06:18:23\",\"2020-12-22T01:43:30\",\"2020-12-23T14:15:14\",\"2020-12-24T16:52:28\",\"2020-12-19T15:20:28\",\"2020-12-19T15:20:28\",\"2020-12-19T15:20:28\",\"2020-12-19T13:59:45\",\"2020-12-20T17:43:00\",\"2020-12-24T02:10:30\",\"2020-12-19T13:59:46\",\"2020-12-20T17:43:00\",\"2020-12-24T02:10:30\",\"2020-12-19T13:59:45\",\"2020-12-20T17:43:00\",\"2020-12-24T02:10:30\",\"2020-12-19T20:24:08\",\"2020-12-20T17:24:12\",\"2020-12-22T08:32:34\",\"2020-12-19T20:24:08\",\"2020-12-20T17:24:12\",\"2020-12-22T08:32:34\",\"2020-12-19T12:34:50\",\"2020-12-20T18:31:55\",\"2020-12-23T09:30:17\",\"2020-12-25T21:33:52\",\"2020-12-26T18:46:42\",\"2020-12-19T12:34:50\",\"2020-12-20T18:31:57\",\"2020-12-23T09:30:17\",\"2020-12-25T21:33:52\",\"2020-12-26T18:46:44\",\"2020-12-19T12:34:50\",\"2020-12-20T18:31:55\",\"2020-12-23T09:30:17\",\"2020-12-25T21:33:52\",\"2020-12-26T18:46:42\",\"2020-12-19T21:54:03\",\"2020-12-20T07:11:13\",\"2020-12-24T21:22:40\",\"2020-12-19T21:54:06\",\"2020-12-20T07:11:15\",\"2020-12-24T21:22:41\",\"2020-12-19T21:54:03\",\"2020-12-20T07:11:13\",\"2020-12-24T21:22:40\",\"2020-12-19T00:32:28\",\"2020-12-23T09:50:00\",\"2020-12-19T00:32:28\",\"2020-12-23T09:50:00\",\"2020-12-19T19:32:06\",\"2020-12-20T05:57:54\",\"2020-12-19T19:32:07\",\"2020-12-20T05:57:54\",\"2020-12-19T19:32:06\",\"2020-12-20T05:57:54\",\"2020-12-19T16:33:17\",\"2020-12-19T16:33:18\",\"2020-12-19T16:33:17\",\"2020-12-19T20:44:13\",\"2020-12-23T20:34:06\",\"2020-12-19T20:44:14\",\"2020-12-23T20:34:08\",\"2020-12-19T20:44:13\",\"2020-12-23T20:34:06\",\"2020-12-19T07:15:37\",\"2020-12-20T02:38:18\",\"2020-12-19T07:15:39\",\"2020-12-20T02:38:18\",\"2020-12-19T07:15:38\",\"2020-12-20T02:38:18\",\"2020-12-19T07:15:37\",\"2020-12-20T02:38:18\",\"2020-12-19T01:07:31\",\"2020-12-21T15:28:27\",\"2020-12-19T01:07:32\",\"2020-12-21T15:28:29\",\"2020-12-19T01:07:31\",\"2020-12-21T15:28:27\",\"2020-12-19T21:36:48\",\"2020-12-21T01:23:53\",\"2020-12-19T21:36:50\",\"2020-12-21T01:23:54\",\"2020-12-19T21:36:48\",\"2020-12-21T01:23:53\",\"2020-12-19T07:30:17\",\"2020-12-20T05:31:06\",\"2020-12-21T02:58:57\",\"2020-12-22T02:03:21\",\"2020-12-19T07:30:17\",\"2020-12-20T05:31:08\",\"2020-12-21T02:58:57\",\"2020-12-22T02:03:25\",\"2020-12-19T07:30:17\",\"2020-12-20T05:31:06\",\"2020-12-21T02:58:57\",\"2020-12-22T02:03:21\",\"2020-12-19T17:08:57\",\"2020-12-20T18:52:16\",\"2020-12-19T17:08:57\",\"2020-12-20T18:52:16\",\"2020-12-19T17:08:57\",\"2020-12-20T18:52:16\",\"2020-12-19T06:33:36\",\"2020-12-20T16:51:43\",\"2020-12-25T05:09:22\",\"2020-12-26T12:21:10\",\"2020-12-27T05:19:02\",\"2020-12-19T06:33:37\",\"2020-12-20T16:51:43\",\"2020-12-25T05:09:23\",\"2020-12-26T12:21:12\",\"2020-12-27T05:19:02\",\"2020-12-19T06:33:36\",\"2020-12-20T16:51:43\",\"2020-12-25T05:09:22\",\"2020-12-26T12:21:10\",\"2020-12-27T05:19:02\",\"2020-12-19T01:20:13\",\"2020-12-26T02:49:21\",\"2020-12-27T06:53:12\",\"2020-12-19T01:20:13\",\"2020-12-26T02:49:21\",\"2020-12-27T06:53:12\",\"2020-12-19T17:09:58\",\"2020-12-20T19:37:22\",\"2020-12-25T00:14:07\",\"2020-12-19T17:09:58\",\"2020-12-20T19:37:22\",\"2020-12-25T00:14:11\",\"2020-12-19T17:09:58\",\"2020-12-20T19:37:22\",\"2020-12-25T00:14:07\",\"2020-12-19T10:58:34\",\"2020-12-20T14:53:54\",\"2020-12-22T13:42:55\",\"2020-12-23T11:56:48\",\"2020-12-19T10:58:36\",\"2020-12-20T14:53:54\",\"2020-12-22T13:42:56\",\"2020-12-23T11:56:48\",\"2020-12-19T10:58:34\",\"2020-12-20T14:53:54\",\"2020-12-22T13:42:55\",\"2020-12-23T11:56:48\",\"2020-12-19T09:28:40\",\"2020-12-20T01:23:44\",\"2020-12-22T12:33:51\",\"2020-12-25T08:56:56\",\"2020-12-19T09:28:40\",\"2020-12-20T01:23:44\",\"2020-12-22T12:33:51\",\"2020-12-25T08:56:56\",\"2020-12-19T20:00:55\",\"2020-12-20T21:24:33\",\"2020-12-24T10:30:06\",\"2020-12-19T20:00:55\",\"2020-12-20T21:24:34\",\"2020-12-24T10:30:06\",\"2020-12-19T20:00:55\",\"2020-12-20T21:24:33\",\"2020-12-24T10:30:06\",\"2020-12-19T16:16:56\",\"2020-12-21T18:49:22\",\"2020-12-23T09:46:23\",\"2020-12-19T16:16:56\",\"2020-12-21T18:49:22\",\"2020-12-23T09:46:23\",\"2020-12-19T08:38:49\",\"2020-12-19T08:38:49\",\"2020-12-19T08:38:49\",\"2020-12-19T05:21:50\",\"2020-12-26T16:24:44\",\"2020-12-19T05:21:50\",\"2020-12-26T16:24:44\",\"2020-12-19T08:56:58\",\"2020-12-21T04:37:14\",\"2020-12-25T00:39:18\",\"2020-12-29T17:01:17\",\"2020-12-19T08:56:59\",\"2020-12-21T04:37:14\",\"2020-12-25T00:39:18\",\"2020-12-29T17:01:20\",\"2020-12-19T08:56:58\",\"2020-12-21T04:37:14\",\"2020-12-25T00:39:18\",\"2020-12-29T17:01:17\",\"2020-12-19T00:39:40\",\"2020-12-21T16:28:31\",\"2020-12-22T18:39:54\",\"2020-12-27T09:23:58\",\"2020-12-19T00:39:41\",\"2020-12-21T16:28:32\",\"2020-12-22T18:39:56\",\"2020-12-27T09:24:00\",\"2020-12-19T00:39:40\",\"2020-12-21T16:28:31\",\"2020-12-22T18:39:54\",\"2020-12-27T09:23:58\",\"2020-12-19T07:21:17\",\"2020-12-22T22:45:33\",\"2020-12-19T07:21:18\",\"2020-12-22T22:45:34\",\"2020-12-19T07:21:17\",\"2020-12-22T22:45:33\",\"2020-12-19T00:53:24\",\"2020-12-21T18:01:15\",\"2020-12-24T04:57:00\",\"2020-12-19T00:53:24\",\"2020-12-21T18:01:15\",\"2020-12-24T04:57:00\",\"2020-12-19T00:53:24\",\"2020-12-21T18:01:15\",\"2020-12-24T04:57:00\",\"2020-12-19T13:48:38\",\"2020-12-20T18:54:08\",\"2020-12-23T19:58:23\",\"2020-12-19T13:48:39\",\"2020-12-20T18:54:08\",\"2020-12-23T19:58:24\",\"2020-12-19T13:48:40\",\"2020-12-20T18:54:08\",\"2020-12-23T19:58:23\",\"2020-12-19T13:48:38\",\"2020-12-20T18:54:08\",\"2020-12-23T19:58:23\",\"2020-12-19T15:56:59\",\"2020-12-21T22:41:56\",\"2020-12-25T10:56:04\",\"2020-12-27T14:07:12\",\"2020-12-19T15:56:59\",\"2020-12-21T22:41:56\",\"2020-12-25T10:56:04\",\"2020-12-27T14:07:12\",\"2020-12-19T02:58:14\",\"2020-12-20T22:08:51\",\"2020-12-26T13:32:23\",\"2020-12-29T16:08:24\",\"2020-12-19T02:58:14\",\"2020-12-20T22:08:51\",\"2020-12-26T13:32:25\",\"2020-12-29T16:08:24\",\"2020-12-19T02:58:14\",\"2020-12-20T22:08:51\",\"2020-12-26T13:32:23\",\"2020-12-29T16:08:24\",\"2020-12-19T16:42:52\",\"2020-12-21T09:55:00\",\"2020-12-24T00:36:58\",\"2020-12-28T07:06:01\",\"2020-12-19T16:42:52\",\"2020-12-21T09:55:00\",\"2020-12-24T00:36:58\",\"2020-12-28T07:06:01\",\"2020-12-19T13:29:26\",\"2020-12-22T08:13:26\",\"2020-12-25T06:03:34\",\"2020-12-27T09:05:55\",\"2020-12-19T13:29:27\",\"2020-12-22T08:13:28\",\"2020-12-25T06:03:36\",\"2020-12-27T09:05:55\",\"2020-12-19T13:29:26\",\"2020-12-22T08:13:26\",\"2020-12-25T06:03:34\",\"2020-12-27T09:05:55\",\"2020-12-19T21:25:47\",\"2020-12-20T11:18:03\",\"2020-12-25T03:51:16\",\"2020-12-19T21:25:47\",\"2020-12-20T11:18:03\",\"2020-12-25T03:51:16\",\"2020-12-19T11:11:24\",\"2020-12-22T02:35:55\",\"2020-12-24T04:15:53\",\"2020-12-19T11:11:24\",\"2020-12-22T02:35:56\",\"2020-12-24T04:15:56\",\"2020-12-19T11:11:24\",\"2020-12-22T02:35:56\",\"2020-12-24T04:15:56\",\"2020-12-19T11:11:24\",\"2020-12-22T02:35:55\",\"2020-12-24T04:15:53\",\"2020-12-19T10:24:17\",\"2020-12-26T21:36:09\",\"2020-12-19T10:24:20\",\"2020-12-26T21:36:10\",\"2020-12-19T10:24:17\",\"2020-12-26T21:36:09\",\"2020-12-19T08:20:00\",\"2020-12-20T13:48:06\",\"2020-12-27T06:51:46\",\"2020-12-19T08:20:01\",\"2020-12-20T13:48:07\",\"2020-12-27T06:51:47\",\"2020-12-19T08:20:02\",\"2020-12-20T13:48:07\",\"2020-12-27T06:51:46\",\"2020-12-19T08:20:00\",\"2020-12-20T13:48:06\",\"2020-12-27T06:51:46\",\"2020-12-19T00:57:44\",\"2020-12-20T04:49:04\",\"2020-12-29T15:19:38\",\"2020-12-19T00:57:45\",\"2020-12-20T04:49:04\",\"2020-12-29T15:19:38\",\"2020-12-19T00:57:44\",\"2020-12-20T04:49:06\",\"2020-12-29T15:19:38\",\"2020-12-19T00:57:44\",\"2020-12-20T04:49:04\",\"2020-12-29T15:19:38\",\"2020-12-19T17:12:33\",\"2020-12-23T14:39:28\",\"2020-12-24T22:23:02\",\"2020-12-25T05:47:05\",\"2020-12-19T17:12:34\",\"2020-12-23T14:39:28\",\"2020-12-24T22:23:03\",\"2020-12-25T05:47:05\",\"2020-12-19T17:12:33\",\"2020-12-23T14:39:28\",\"2020-12-24T22:23:02\",\"2020-12-25T05:47:05\",\"2020-12-19T09:33:52\",\"2020-12-28T07:43:57\",\"2020-12-19T09:33:54\",\"2020-12-28T07:43:57\",\"2020-12-19T09:33:52\",\"2020-12-28T07:43:57\",\"2020-12-19T20:13:08\",\"2020-12-20T03:36:33\",\"2020-12-19T20:13:08\",\"2020-12-20T03:36:33\",\"2020-12-19T20:13:08\",\"2020-12-20T03:36:33\",\"2020-12-19T02:59:27\",\"2020-12-21T21:14:11\",\"2020-12-25T13:54:05\",\"2020-12-19T02:59:27\",\"2020-12-21T21:14:14\",\"2020-12-25T13:54:05\",\"2020-12-19T02:59:27\",\"2020-12-21T21:14:11\",\"2020-12-25T13:54:05\",\"2020-12-19T19:28:24\",\"2020-12-20T21:45:48\",\"2020-12-22T17:35:58\",\"2020-12-19T19:28:24\",\"2020-12-20T21:45:50\",\"2020-12-22T17:35:58\",\"2020-12-19T19:28:24\",\"2020-12-20T21:45:48\",\"2020-12-22T17:35:58\",\"2020-12-19T19:53:42\",\"2020-12-20T11:07:39\",\"2020-12-19T19:53:43\",\"2020-12-20T11:07:41\",\"2020-12-19T19:53:42\",\"2020-12-20T11:07:39\",\"2020-12-19T19:58:20\",\"2020-12-20T05:36:30\",\"2020-12-27T00:25:34\",\"2020-12-19T19:58:20\",\"2020-12-20T05:36:30\",\"2020-12-27T00:25:34\",\"2020-12-19T12:13:53\",\"2020-12-19T12:13:53\",\"2020-12-19T20:57:40\",\"2020-12-20T21:25:38\",\"2020-12-19T20:57:40\",\"2020-12-20T21:25:38\",\"2020-12-19T23:12:17\",\"2020-12-21T20:27:16\",\"2020-12-25T11:32:49\",\"2020-12-19T23:12:18\",\"2020-12-21T20:27:17\",\"2020-12-25T11:32:50\",\"2020-12-19T23:12:17\",\"2020-12-21T20:27:16\",\"2020-12-25T11:32:49\",\"2020-12-19T15:43:14\",\"2020-12-22T14:01:53\",\"2020-12-19T15:43:15\",\"2020-12-22T14:01:54\",\"2020-12-19T15:43:14\",\"2020-12-22T14:01:53\",\"2020-12-19T08:54:08\",\"2020-12-19T08:54:08\",\"2020-12-19T08:54:08\",\"2020-12-19T14:58:36\",\"2020-12-20T23:22:38\",\"2020-12-22T13:29:55\",\"2020-12-19T14:58:36\",\"2020-12-20T23:22:41\",\"2020-12-22T13:29:57\",\"2020-12-19T14:58:36\",\"2020-12-20T23:22:38\",\"2020-12-22T13:29:55\",\"2020-12-19T01:39:10\",\"2020-12-20T06:53:29\",\"2020-12-21T03:41:40\",\"2020-12-24T17:39:54\",\"2020-12-19T01:39:12\",\"2020-12-20T06:53:29\",\"2020-12-21T03:41:41\",\"2020-12-24T17:39:54\",\"2020-12-19T01:39:10\",\"2020-12-20T06:53:29\",\"2020-12-21T03:41:40\",\"2020-12-24T17:39:54\",\"2020-12-19T02:18:23\",\"2020-12-22T15:37:17\",\"2020-12-19T02:18:24\",\"2020-12-22T15:37:20\",\"2020-12-19T02:18:23\",\"2020-12-22T15:37:17\",\"2020-12-19T22:30:48\",\"2020-12-21T13:02:35\",\"2020-12-19T22:30:49\",\"2020-12-21T13:02:36\",\"2020-12-19T22:30:48\",\"2020-12-21T13:02:35\",\"2020-12-19T11:50:18\",\"2020-12-28T02:08:47\",\"2020-12-19T11:50:18\",\"2020-12-28T02:08:47\",\"2020-12-19T11:50:18\",\"2020-12-28T02:08:47\",\"2020-12-19T05:03:04\",\"2020-12-21T20:39:26\",\"2020-12-28T07:04:30\",\"2020-12-19T05:03:04\",\"2020-12-21T20:39:26\",\"2020-12-28T07:04:30\",\"2020-12-19T03:05:45\",\"2020-12-20T21:10:37\",\"2020-12-25T10:00:24\",\"2020-12-19T03:05:47\",\"2020-12-20T21:10:40\",\"2020-12-25T10:00:24\",\"2020-12-19T03:05:45\",\"2020-12-20T21:10:37\",\"2020-12-25T10:00:24\",\"2020-12-19T09:16:10\",\"2020-12-24T03:38:51\",\"2020-12-19T09:16:10\",\"2020-12-24T03:38:52\",\"2020-12-19T09:16:10\",\"2020-12-24T03:38:51\",\"2020-12-19T17:41:14\",\"2020-12-26T15:16:43\",\"2020-12-19T17:41:15\",\"2020-12-26T15:16:43\",\"2020-12-19T17:41:14\",\"2020-12-26T15:16:43\",\"2020-12-19T09:12:50\",\"2020-12-25T13:16:38\",\"2020-12-19T09:12:50\",\"2020-12-25T13:16:40\",\"2020-12-19T09:12:50\",\"2020-12-25T13:16:38\",\"2020-12-19T09:12:50\",\"2020-12-25T13:16:38\",\"2020-12-19T17:50:37\",\"2020-12-22T14:28:25\",\"2020-12-26T06:58:14\",\"2020-12-27T03:20:06\",\"2020-12-19T17:50:38\",\"2020-12-22T14:28:26\",\"2020-12-26T06:58:19\",\"2020-12-27T03:20:10\",\"2020-12-19T17:50:37\",\"2020-12-22T14:28:25\",\"2020-12-26T06:58:14\",\"2020-12-27T03:20:06\",\"2020-12-19T09:47:52\",\"2020-12-20T13:46:54\",\"2020-12-23T01:54:02\",\"2020-12-19T09:47:52\",\"2020-12-20T13:46:55\",\"2020-12-23T01:54:02\",\"2020-12-19T09:47:54\",\"2020-12-20T13:46:54\",\"2020-12-23T01:54:02\",\"2020-12-19T09:47:52\",\"2020-12-20T13:46:54\",\"2020-12-23T01:54:02\",\"2020-12-19T01:16:30\",\"2020-12-20T21:28:39\",\"2020-12-19T01:16:31\",\"2020-12-20T21:28:40\",\"2020-12-19T01:16:30\",\"2020-12-20T21:28:39\",\"2020-12-19T20:54:50\",\"2020-12-19T20:54:50\",\"2020-12-19T20:54:50\",\"2020-12-19T00:21:27\",\"2020-12-20T16:57:00\",\"2020-12-23T03:33:34\",\"2020-12-24T03:44:15\",\"2020-12-19T00:21:28\",\"2020-12-20T16:57:02\",\"2020-12-23T03:33:34\",\"2020-12-24T03:44:15\",\"2020-12-19T00:21:27\",\"2020-12-20T16:57:00\",\"2020-12-23T03:33:34\",\"2020-12-24T03:44:15\",\"2020-12-19T10:30:59\",\"2020-12-20T11:35:16\",\"2020-12-21T18:17:46\",\"2020-12-19T10:31:00\",\"2020-12-20T11:35:16\",\"2020-12-21T18:17:46\",\"2020-12-19T10:30:59\",\"2020-12-20T11:35:16\",\"2020-12-21T18:17:46\",\"2020-12-19T20:51:20\",\"2020-12-20T18:43:27\",\"2020-12-24T05:29:03\",\"2020-12-25T18:51:05\",\"2020-12-19T20:51:20\",\"2020-12-20T18:43:27\",\"2020-12-24T05:29:03\",\"2020-12-25T18:51:05\",\"2020-12-19T14:59:45\",\"2020-12-20T19:17:02\",\"2020-12-22T20:13:20\",\"2020-12-25T06:42:43\",\"2020-12-19T14:59:45\",\"2020-12-20T19:17:02\",\"2020-12-22T20:13:20\",\"2020-12-25T06:42:43\",\"2020-12-28T00:42:32\",\"2020-12-19T14:59:45\",\"2020-12-20T19:17:02\",\"2020-12-22T20:13:20\",\"2020-12-25T06:42:43\",\"2020-12-28T00:42:30\",\"2020-12-19T13:29:46\",\"2020-12-21T21:51:59\",\"2020-12-22T08:33:22\",\"2020-12-24T02:47:39\",\"2020-12-19T13:29:49\",\"2020-12-21T21:51:59\",\"2020-12-22T08:33:22\",\"2020-12-24T02:47:40\",\"2020-12-19T13:29:49\",\"2020-12-21T21:51:59\",\"2020-12-22T08:33:23\",\"2020-12-24T02:47:39\",\"2020-12-19T13:29:46\",\"2020-12-21T21:51:59\",\"2020-12-22T08:33:22\",\"2020-12-24T02:47:39\",\"2020-12-19T07:33:08\",\"2020-12-20T21:36:52\",\"2020-12-19T07:33:09\",\"2020-12-20T21:36:52\",\"2020-12-19T07:33:08\",\"2020-12-20T21:36:52\",\"2020-12-19T13:28:31\",\"2020-12-20T17:42:36\",\"2020-12-21T06:07:47\",\"2020-12-22T05:17:54\",\"2020-12-26T01:30:09\",\"2020-12-19T13:28:31\",\"2020-12-20T17:42:36\",\"2020-12-21T06:07:47\",\"2020-12-22T05:17:54\",\"2020-12-26T01:30:09\",\"2020-12-19T16:50:14\",\"2020-12-19T16:50:14\",\"2020-12-19T16:50:14\",\"2020-12-19T16:50:14\",\"2020-12-19T02:14:15\",\"2020-12-22T04:51:00\",\"2020-12-27T05:09:22\",\"2020-12-19T02:14:16\",\"2020-12-22T04:51:03\",\"2020-12-27T05:09:25\",\"2020-12-19T02:14:15\",\"2020-12-22T04:51:00\",\"2020-12-27T05:09:22\",\"2020-12-19T17:51:02\",\"2020-12-20T06:21:23\",\"2020-12-24T20:19:54\",\"2020-12-26T18:35:09\",\"2020-12-19T17:51:02\",\"2020-12-20T06:21:24\",\"2020-12-24T20:19:58\",\"2020-12-26T18:35:10\",\"2020-12-19T17:51:02\",\"2020-12-20T06:21:23\",\"2020-12-24T20:19:54\",\"2020-12-26T18:35:09\",\"2020-12-19T14:06:48\",\"2020-12-19T14:06:51\",\"2020-12-19T14:06:48\",\"2020-12-19T15:53:24\",\"2020-12-22T01:48:04\",\"2020-12-25T21:04:29\",\"2020-12-29T09:44:29\",\"2020-12-19T15:53:26\",\"2020-12-22T01:48:05\",\"2020-12-25T21:04:29\",\"2020-12-29T09:44:29\",\"2020-12-19T15:53:24\",\"2020-12-22T01:48:04\",\"2020-12-25T21:04:29\",\"2020-12-29T09:44:29\",\"2020-12-19T18:00:09\",\"2020-12-22T15:09:29\",\"2020-12-24T22:24:53\",\"2020-12-19T18:00:09\",\"2020-12-22T15:09:29\",\"2020-12-24T22:24:53\",\"2020-12-19T02:15:30\",\"2020-12-24T08:44:13\",\"2020-12-28T19:31:15\",\"2020-12-19T02:15:30\",\"2020-12-24T08:44:13\",\"2020-12-28T19:31:16\",\"2020-12-19T02:15:30\",\"2020-12-24T08:44:13\",\"2020-12-28T19:31:15\",\"2020-12-19T02:33:46\",\"2020-12-20T11:05:31\",\"2020-12-23T18:37:53\",\"2020-12-19T02:33:47\",\"2020-12-20T11:05:31\",\"2020-12-23T18:37:53\",\"2020-12-19T02:33:46\",\"2020-12-20T11:05:31\",\"2020-12-23T18:37:53\",\"2020-12-19T01:49:29\",\"2020-12-20T07:25:15\",\"2020-12-29T21:22:58\",\"2020-12-19T01:49:29\",\"2020-12-20T07:25:15\",\"2020-12-29T21:22:58\",\"2020-12-20T06:37:23\",\"2020-12-21T04:57:15\",\"2020-12-29T22:30:57\",\"2020-12-20T06:37:25\",\"2020-12-21T04:57:15\",\"2020-12-29T22:30:57\",\"2020-12-20T06:37:23\",\"2020-12-21T04:57:15\",\"2020-12-29T22:30:57\",\"2020-12-20T19:24:06\",\"2020-12-22T10:18:21\",\"2020-12-23T15:57:46\",\"2020-12-28T15:24:49\",\"2020-12-20T19:24:06\",\"2020-12-22T10:18:21\",\"2020-12-23T15:57:46\",\"2020-12-28T15:24:49\",\"2020-12-20T04:12:12\",\"2020-12-21T11:07:28\",\"2020-12-22T23:00:34\",\"2020-12-27T16:00:05\",\"2020-12-20T04:12:13\",\"2020-12-21T11:07:29\",\"2020-12-22T23:00:36\",\"2020-12-27T16:00:05\",\"2020-12-20T04:12:13\",\"2020-12-21T11:07:28\",\"2020-12-22T23:00:35\",\"2020-12-27T16:00:05\",\"2020-12-20T04:12:12\",\"2020-12-21T11:07:28\",\"2020-12-22T23:00:34\",\"2020-12-27T16:00:05\",\"2020-12-20T00:20:41\",\"2020-12-23T06:13:54\",\"2020-12-24T12:23:25\",\"2020-12-25T06:01:54\",\"2020-12-20T00:20:44\",\"2020-12-23T06:13:54\",\"2020-12-24T12:23:26\",\"2020-12-25T06:01:57\",\"2020-12-20T00:20:41\",\"2020-12-23T06:13:54\",\"2020-12-24T12:23:25\",\"2020-12-25T06:01:54\",\"2020-12-20T08:44:57\",\"2020-12-23T11:18:53\",\"2020-12-20T08:44:58\",\"2020-12-23T11:18:56\",\"2020-12-20T08:44:57\",\"2020-12-23T11:18:53\",\"2020-12-20T05:29:39\",\"2020-12-21T10:44:25\",\"2020-12-20T05:29:39\",\"2020-12-21T10:44:25\",\"2020-12-20T05:29:39\",\"2020-12-21T10:44:25\",\"2020-12-20T13:01:17\",\"2020-12-23T22:49:03\",\"2020-12-24T08:16:00\",\"2020-12-27T09:15:42\",\"2020-12-28T00:01:24\",\"2020-12-20T13:01:20\",\"2020-12-23T22:49:04\",\"2020-12-24T08:16:00\",\"2020-12-27T09:15:44\",\"2020-12-28T00:01:25\",\"2020-12-20T13:01:17\",\"2020-12-23T22:49:03\",\"2020-12-24T08:16:00\",\"2020-12-27T09:15:42\",\"2020-12-28T00:01:24\",\"2020-12-20T14:38:15\",\"2020-12-21T14:11:56\",\"2020-12-24T09:24:55\",\"2020-12-20T14:38:15\",\"2020-12-21T14:11:56\",\"2020-12-24T09:24:55\",\"2020-12-20T04:11:53\",\"2020-12-21T09:33:49\",\"2020-12-22T17:58:02\",\"2020-12-25T22:17:28\",\"2020-12-27T11:04:12\",\"2020-12-20T04:11:55\",\"2020-12-21T09:33:49\",\"2020-12-22T17:58:02\",\"2020-12-25T22:17:32\",\"2020-12-27T11:04:14\",\"2020-12-20T04:11:53\",\"2020-12-21T09:33:49\",\"2020-12-22T17:58:02\",\"2020-12-25T22:17:28\",\"2020-12-27T11:04:12\",\"2020-12-20T21:53:14\",\"2020-12-21T03:07:08\",\"2020-12-22T01:24:05\",\"2020-12-23T15:38:36\",\"2020-12-20T21:53:14\",\"2020-12-21T03:07:10\",\"2020-12-22T01:24:07\",\"2020-12-23T15:38:36\",\"2020-12-20T21:53:14\",\"2020-12-21T03:07:08\",\"2020-12-22T01:24:05\",\"2020-12-23T15:38:36\",\"2020-12-20T02:41:08\",\"2020-12-22T03:02:56\",\"2020-12-25T01:00:25\",\"2020-12-20T02:41:08\",\"2020-12-22T03:02:58\",\"2020-12-25T01:00:27\",\"2020-12-20T02:41:08\",\"2020-12-22T03:02:56\",\"2020-12-25T01:00:25\",\"2020-12-20T08:14:50\",\"2020-12-21T18:38:05\",\"2020-12-20T08:14:50\",\"2020-12-21T18:38:06\",\"2020-12-20T08:14:50\",\"2020-12-21T18:38:05\",\"2020-12-20T08:03:20\",\"2020-12-24T22:24:27\",\"2020-12-20T08:03:20\",\"2020-12-24T22:24:30\",\"2020-12-20T08:03:20\",\"2020-12-24T22:24:27\",\"2020-12-20T03:10:22\",\"2020-12-21T06:17:57\",\"2020-12-20T03:10:24\",\"2020-12-21T06:17:57\",\"2020-12-20T03:10:22\",\"2020-12-21T06:17:57\",\"2020-12-20T15:12:01\",\"2020-12-21T21:20:06\",\"2020-12-23T04:20:12\",\"2020-12-20T15:12:02\",\"2020-12-21T21:20:08\",\"2020-12-23T04:20:12\",\"2020-12-20T15:12:01\",\"2020-12-21T21:20:06\",\"2020-12-23T04:20:14\",\"2020-12-20T15:12:01\",\"2020-12-21T21:20:06\",\"2020-12-23T04:20:12\",\"2020-12-20T03:25:10\",\"2020-12-21T00:50:40\",\"2020-12-20T03:25:10\",\"2020-12-21T00:50:40\",\"2020-12-20T06:06:06\",\"2020-12-21T18:11:46\",\"2020-12-20T06:06:06\",\"2020-12-21T18:11:47\",\"2020-12-20T06:06:06\",\"2020-12-21T18:11:46\",\"2020-12-20T06:54:52\",\"2020-12-22T20:02:25\",\"2020-12-25T13:20:53\",\"2020-12-20T06:54:54\",\"2020-12-22T20:02:25\",\"2020-12-25T13:20:54\",\"2020-12-20T06:54:52\",\"2020-12-22T20:02:25\",\"2020-12-25T13:20:53\",\"2020-12-20T03:12:05\",\"2020-12-23T14:11:11\",\"2020-12-24T23:39:41\",\"2020-12-25T21:58:03\",\"2020-12-26T19:01:45\",\"2020-12-20T03:12:05\",\"2020-12-23T14:11:11\",\"2020-12-24T23:39:41\",\"2020-12-25T21:58:03\",\"2020-12-26T19:01:45\",\"2020-12-20T09:55:39\",\"2020-12-21T10:43:52\",\"2020-12-23T04:53:44\",\"2020-12-24T07:01:18\",\"2020-12-27T12:21:41\",\"2020-12-20T09:55:41\",\"2020-12-21T10:43:53\",\"2020-12-23T04:53:44\",\"2020-12-24T07:01:21\",\"2020-12-27T12:21:42\",\"2020-12-20T09:55:39\",\"2020-12-21T10:43:52\",\"2020-12-23T04:53:44\",\"2020-12-24T07:01:18\",\"2020-12-27T12:21:41\",\"2020-12-20T09:47:54\",\"2020-12-22T17:35:31\",\"2020-12-20T09:47:55\",\"2020-12-22T17:35:31\",\"2020-12-20T09:47:54\",\"2020-12-22T17:35:31\",\"2020-12-20T18:45:53\",\"2020-12-28T15:40:06\",\"2020-12-20T18:45:55\",\"2020-12-28T15:40:06\",\"2020-12-20T18:45:53\",\"2020-12-28T15:40:06\",\"2020-12-20T19:06:22\",\"2020-12-26T14:39:50\",\"2020-12-28T20:00:24\",\"2020-12-20T19:06:22\",\"2020-12-26T14:39:50\",\"2020-12-28T20:00:24\",\"2020-12-20T19:06:23\",\"2020-12-26T14:39:53\",\"2020-12-28T20:00:26\",\"2020-12-20T19:06:22\",\"2020-12-26T14:39:50\",\"2020-12-28T20:00:24\",\"2020-12-20T03:43:07\",\"2020-12-21T19:13:19\",\"2020-12-23T23:26:31\",\"2020-12-20T03:43:07\",\"2020-12-21T19:13:19\",\"2020-12-23T23:26:31\",\"2020-12-20T09:46:56\",\"2020-12-21T13:36:25\",\"2020-12-24T23:58:31\",\"2020-12-20T09:46:59\",\"2020-12-21T13:36:25\",\"2020-12-24T23:58:32\",\"2020-12-20T09:46:56\",\"2020-12-21T13:36:25\",\"2020-12-24T23:58:31\",\"2020-12-20T19:23:14\",\"2020-12-21T20:56:33\",\"2020-12-27T10:02:48\",\"2020-12-20T19:23:14\",\"2020-12-21T20:56:33\",\"2020-12-27T10:02:51\",\"2020-12-20T19:23:14\",\"2020-12-21T20:56:33\",\"2020-12-27T10:02:48\",\"2020-12-20T12:52:43\",\"2020-12-21T04:22:52\",\"2020-12-23T03:59:11\",\"2020-12-24T19:36:30\",\"2020-12-25T02:54:34\",\"2020-12-20T12:52:43\",\"2020-12-21T04:22:52\",\"2020-12-23T03:59:11\",\"2020-12-24T19:36:30\",\"2020-12-25T02:54:36\",\"2020-12-20T12:52:43\",\"2020-12-21T04:22:52\",\"2020-12-23T03:59:11\",\"2020-12-24T19:36:30\",\"2020-12-25T02:54:34\",\"2020-12-20T08:46:59\",\"2020-12-21T08:15:20\",\"2020-12-27T13:02:06\",\"2020-12-20T08:47:00\",\"2020-12-21T08:15:20\",\"2020-12-27T13:02:06\",\"2020-12-20T08:46:59\",\"2020-12-21T08:15:20\",\"2020-12-27T13:02:06\",\"2020-12-20T03:45:08\",\"2020-12-21T15:04:47\",\"2020-12-28T12:28:51\",\"2020-12-20T03:45:08\",\"2020-12-21T15:04:47\",\"2020-12-28T12:28:51\",\"2020-12-20T02:06:44\",\"2020-12-21T22:43:23\",\"2020-12-20T02:06:44\",\"2020-12-21T22:43:23\",\"2020-12-20T02:06:46\",\"2020-12-21T22:43:23\",\"2020-12-20T02:06:44\",\"2020-12-21T22:43:23\",\"2020-12-20T15:15:33\",\"2020-12-21T08:17:19\",\"2020-12-28T09:28:30\",\"2020-12-20T15:15:33\",\"2020-12-21T08:17:19\",\"2020-12-28T09:28:30\",\"2020-12-20T15:15:33\",\"2020-12-21T08:17:19\",\"2020-12-28T09:28:30\",\"2020-12-20T04:20:18\",\"2020-12-22T03:07:47\",\"2020-12-20T04:20:20\",\"2020-12-22T03:07:47\",\"2020-12-20T04:20:18\",\"2020-12-22T03:07:47\",\"2020-12-20T18:37:55\",\"2020-12-22T12:02:38\",\"2020-12-24T04:07:44\",\"2020-12-26T01:46:07\",\"2020-12-20T18:37:56\",\"2020-12-22T12:02:38\",\"2020-12-24T04:07:46\",\"2020-12-26T01:46:07\",\"2020-12-20T18:37:55\",\"2020-12-22T12:02:38\",\"2020-12-24T04:07:44\",\"2020-12-26T01:46:07\",\"2020-12-20T13:53:13\",\"2020-12-21T18:40:57\",\"2020-12-22T03:29:46\",\"2020-12-20T13:53:13\",\"2020-12-21T18:40:57\",\"2020-12-22T03:29:46\",\"2020-12-20T17:38:44\",\"2020-12-21T09:46:15\",\"2020-12-24T22:58:14\",\"2020-12-20T17:38:44\",\"2020-12-21T09:46:15\",\"2020-12-24T22:58:14\",\"2020-12-20T07:52:18\",\"2020-12-22T05:53:42\",\"2020-12-23T09:50:23\",\"2020-12-20T07:52:20\",\"2020-12-22T05:53:42\",\"2020-12-23T09:50:23\",\"2020-12-20T07:52:18\",\"2020-12-22T05:53:42\",\"2020-12-23T09:50:23\",\"2020-12-20T01:23:25\",\"2020-12-21T03:52:59\",\"2020-12-23T01:44:55\",\"2020-12-24T10:03:12\",\"2020-12-20T01:23:27\",\"2020-12-21T03:53:00\",\"2020-12-23T01:44:59\",\"2020-12-24T10:03:14\",\"2020-12-20T01:23:25\",\"2020-12-21T03:52:59\",\"2020-12-23T01:44:55\",\"2020-12-24T10:03:12\",\"2020-12-20T11:58:26\",\"2020-12-21T05:52:02\",\"2020-12-20T11:58:26\",\"2020-12-21T05:52:04\",\"2020-12-20T11:58:31\",\"2020-12-21T05:52:03\",\"2020-12-20T11:58:26\",\"2020-12-21T05:52:02\",\"2020-12-20T08:27:54\",\"2020-12-21T11:17:41\",\"2020-12-26T10:11:12\",\"2020-12-20T08:27:54\",\"2020-12-21T11:17:41\",\"2020-12-26T10:11:13\",\"2020-12-20T08:27:54\",\"2020-12-21T11:17:41\",\"2020-12-26T10:11:12\",\"2020-12-20T17:10:54\",\"2020-12-23T02:15:50\",\"2020-12-20T17:10:54\",\"2020-12-23T02:15:50\",\"2020-12-20T17:10:54\",\"2020-12-23T02:15:50\",\"2020-12-20T11:10:04\",\"2020-12-25T10:08:01\",\"2020-12-28T05:00:41\",\"2020-12-29T12:28:35\",\"2020-12-20T11:10:04\",\"2020-12-25T10:08:02\",\"2020-12-28T05:00:41\",\"2020-12-29T12:28:35\",\"2020-12-20T11:10:04\",\"2020-12-25T10:08:01\",\"2020-12-28T05:00:41\",\"2020-12-29T12:28:35\",\"2020-12-20T05:20:07\",\"2020-12-21T22:01:05\",\"2020-12-20T05:20:07\",\"2020-12-21T22:01:05\",\"2020-12-20T13:22:06\",\"2020-12-21T17:20:39\",\"2020-12-20T13:22:06\",\"2020-12-21T17:20:39\",\"2020-12-20T04:46:41\",\"2020-12-21T16:22:23\",\"2020-12-23T21:16:04\",\"2020-12-24T00:13:57\",\"2020-12-25T05:10:50\",\"2020-12-26T17:03:35\",\"2020-12-27T16:10:40\",\"2020-12-20T04:46:46\",\"2020-12-21T16:22:26\",\"2020-12-23T21:16:04\",\"2020-12-24T00:14:00\",\"2020-12-25T05:10:51\",\"2020-12-26T17:03:37\",\"2020-12-27T16:10:40\",\"2020-12-20T04:46:41\",\"2020-12-21T16:22:23\",\"2020-12-23T21:16:04\",\"2020-12-24T00:13:57\",\"2020-12-25T05:10:50\",\"2020-12-26T17:03:35\",\"2020-12-27T16:10:40\",\"2020-12-20T21:59:00\",\"2020-12-22T22:33:46\",\"2020-12-23T08:32:50\",\"2020-12-26T15:59:29\",\"2020-12-20T21:59:00\",\"2020-12-22T22:33:46\",\"2020-12-23T08:32:50\",\"2020-12-26T15:59:29\",\"2020-12-20T11:53:18\",\"2020-12-21T18:22:15\",\"2020-12-20T11:53:18\",\"2020-12-21T18:22:15\",\"2020-12-20T11:53:18\",\"2020-12-21T18:22:15\",\"2020-12-20T08:12:47\",\"2020-12-21T18:11:34\",\"2020-12-20T08:12:47\",\"2020-12-21T18:11:34\",\"2020-12-20T08:12:47\",\"2020-12-21T18:11:34\",\"2020-12-20T16:29:47\",\"2020-12-29T14:36:46\",\"2020-12-20T16:29:49\",\"2020-12-29T14:36:47\",\"2020-12-20T16:29:47\",\"2020-12-29T14:36:46\",\"2020-12-20T05:10:08\",\"2020-12-22T16:19:52\",\"2020-12-27T09:07:59\",\"2020-12-28T17:33:18\",\"2020-12-20T05:10:10\",\"2020-12-22T16:19:52\",\"2020-12-27T09:07:59\",\"2020-12-28T17:33:19\",\"2020-12-20T05:10:08\",\"2020-12-22T16:19:52\",\"2020-12-27T09:08:00\",\"2020-12-28T17:33:19\",\"2020-12-20T05:10:08\",\"2020-12-22T16:19:52\",\"2020-12-27T09:07:59\",\"2020-12-28T17:33:18\",\"2020-12-20T17:58:54\",\"2020-12-20T17:58:56\",\"2020-12-20T17:58:54\",\"2020-12-20T21:16:19\",\"2020-12-21T10:27:07\",\"2020-12-22T18:08:30\",\"2020-12-20T21:16:19\",\"2020-12-21T10:27:08\",\"2020-12-22T18:08:32\",\"2020-12-20T21:16:19\",\"2020-12-21T10:27:07\",\"2020-12-22T18:08:30\",\"2020-12-20T10:40:15\",\"2020-12-21T07:57:53\",\"2020-12-24T15:17:10\",\"2020-12-20T10:40:17\",\"2020-12-21T07:57:54\",\"2020-12-24T15:17:10\",\"2020-12-20T10:40:16\",\"2020-12-21T07:57:54\",\"2020-12-24T15:17:10\",\"2020-12-20T10:40:15\",\"2020-12-21T07:57:53\",\"2020-12-24T15:17:10\",\"2020-12-20T18:59:01\",\"2020-12-21T03:21:33\",\"2020-12-23T04:27:14\",\"2020-12-24T00:29:30\",\"2020-12-28T01:47:32\",\"2020-12-20T18:59:01\",\"2020-12-21T03:21:38\",\"2020-12-23T04:27:17\",\"2020-12-24T00:29:33\",\"2020-12-28T01:47:32\",\"2020-12-20T18:59:01\",\"2020-12-21T03:21:35\",\"2020-12-23T04:27:14\",\"2020-12-24T00:29:30\",\"2020-12-28T01:47:32\",\"2020-12-20T18:59:01\",\"2020-12-21T03:21:33\",\"2020-12-23T04:27:14\",\"2020-12-24T00:29:30\",\"2020-12-28T01:47:32\",\"2020-12-20T08:39:07\",\"2020-12-25T13:16:15\",\"2020-12-20T08:39:07\",\"2020-12-25T13:16:15\",\"2020-12-20T08:39:07\",\"2020-12-25T13:16:15\",\"2020-12-20T08:39:07\",\"2020-12-25T13:16:15\",\"2020-12-20T14:24:30\",\"2020-12-21T12:56:59\",\"2020-12-24T08:52:55\",\"2020-12-20T14:24:31\",\"2020-12-21T12:56:59\",\"2020-12-24T08:52:55\",\"2020-12-20T14:24:30\",\"2020-12-21T12:56:59\",\"2020-12-24T08:52:55\",\"2020-12-20T13:44:41\",\"2020-12-22T07:59:42\",\"2020-12-20T13:44:41\",\"2020-12-22T07:59:42\",\"2020-12-20T04:15:59\",\"2020-12-22T14:47:23\",\"2020-12-20T04:16:04\",\"2020-12-22T14:47:24\",\"2020-12-20T04:16:01\",\"2020-12-22T14:47:23\",\"2020-12-20T04:15:59\",\"2020-12-22T14:47:23\",\"2020-12-20T18:38:49\",\"2020-12-20T18:38:51\",\"2020-12-20T18:38:49\",\"2020-12-20T18:33:33\",\"2020-12-27T11:50:00\",\"2020-12-20T18:33:35\",\"2020-12-27T11:50:03\",\"2020-12-20T18:33:35\",\"2020-12-27T11:50:00\",\"2020-12-20T18:33:33\",\"2020-12-27T11:50:00\",\"2020-12-20T18:36:30\",\"2020-12-21T01:47:37\",\"2020-12-29T03:59:59\",\"2020-12-20T18:36:31\",\"2020-12-21T01:47:38\",\"2020-12-29T03:59:59\",\"2020-12-20T18:36:30\",\"2020-12-21T01:47:37\",\"2020-12-29T03:59:59\",\"2020-12-20T23:00:18\",\"2020-12-21T06:00:10\",\"2020-12-23T04:59:52\",\"2020-12-26T22:27:20\",\"2020-12-20T23:00:18\",\"2020-12-21T06:00:10\",\"2020-12-23T04:59:52\",\"2020-12-26T22:27:20\",\"2020-12-20T23:26:38\",\"2020-12-20T23:26:40\",\"2020-12-20T23:26:38\",\"2020-12-20T07:28:34\",\"2020-12-27T09:11:58\",\"2020-12-29T07:51:25\",\"2020-12-20T07:28:36\",\"2020-12-27T09:11:58\",\"2020-12-29T07:51:27\",\"2020-12-20T07:28:34\",\"2020-12-27T09:11:58\",\"2020-12-29T07:51:25\",\"2020-12-20T23:09:23\",\"2020-12-22T07:45:24\",\"2020-12-24T01:07:39\",\"2020-12-20T23:09:24\",\"2020-12-22T07:45:25\",\"2020-12-24T01:07:40\",\"2020-12-20T23:09:24\",\"2020-12-22T07:45:26\",\"2020-12-24T01:07:41\",\"2020-12-20T23:09:23\",\"2020-12-22T07:45:24\",\"2020-12-24T01:07:39\",\"2020-12-20T03:01:11\",\"2020-12-20T03:01:12\",\"2020-12-20T03:01:11\",\"2020-12-20T09:04:04\",\"2020-12-22T22:54:54\",\"2020-12-23T11:46:48\",\"2020-12-20T09:04:04\",\"2020-12-22T22:54:54\",\"2020-12-23T11:46:48\",\"2020-12-20T21:20:05\",\"2020-12-23T01:05:54\",\"2020-12-24T16:01:09\",\"2020-12-20T21:20:05\",\"2020-12-23T01:05:58\",\"2020-12-24T16:01:11\",\"2020-12-20T21:20:05\",\"2020-12-23T01:05:54\",\"2020-12-24T16:01:09\",\"2020-12-20T22:33:51\",\"2020-12-22T03:50:03\",\"2020-12-20T22:33:54\",\"2020-12-22T03:50:05\",\"2020-12-20T22:33:51\",\"2020-12-22T03:50:03\",\"2020-12-20T10:52:32\",\"2020-12-21T01:47:59\",\"2020-12-20T10:52:32\",\"2020-12-21T01:48:00\",\"2020-12-20T10:52:32\",\"2020-12-21T01:47:59\",\"2020-12-20T06:23:22\",\"2020-12-21T11:09:09\",\"2020-12-22T02:38:12\",\"2020-12-23T21:56:55\",\"2020-12-26T14:55:43\",\"2020-12-20T06:23:22\",\"2020-12-21T11:09:09\",\"2020-12-22T02:38:13\",\"2020-12-23T21:56:56\",\"2020-12-26T14:55:48\",\"2020-12-20T06:23:22\",\"2020-12-21T11:09:11\",\"2020-12-22T02:38:12\",\"2020-12-23T21:56:57\",\"2020-12-26T14:55:45\",\"2020-12-20T06:23:22\",\"2020-12-21T11:09:09\",\"2020-12-22T02:38:12\",\"2020-12-23T21:56:55\",\"2020-12-26T14:55:43\",\"2020-12-20T03:48:52\",\"2020-12-25T12:02:31\",\"2020-12-20T03:48:53\",\"2020-12-25T12:02:32\",\"2020-12-20T03:48:52\",\"2020-12-25T12:02:31\",\"2020-12-20T14:03:34\",\"2020-12-21T23:35:40\",\"2020-12-23T17:54:19\",\"2020-12-20T14:03:36\",\"2020-12-21T23:35:41\",\"2020-12-23T17:54:19\",\"2020-12-20T14:03:34\",\"2020-12-21T23:35:40\",\"2020-12-23T17:54:19\",\"2020-12-20T12:30:55\",\"2020-12-21T23:51:40\",\"2020-12-22T07:24:48\",\"2020-12-28T07:34:55\",\"2020-12-20T12:30:56\",\"2020-12-21T23:51:40\",\"2020-12-22T07:24:50\",\"2020-12-28T07:34:58\",\"2020-12-20T12:30:55\",\"2020-12-21T23:51:40\",\"2020-12-22T07:24:48\",\"2020-12-28T07:34:55\",\"2020-12-20T21:46:29\",\"2020-12-21T19:31:43\",\"2020-12-23T21:57:42\",\"2020-12-20T21:46:29\",\"2020-12-21T19:31:44\",\"2020-12-23T21:57:43\",\"2020-12-20T21:46:29\",\"2020-12-21T19:31:43\",\"2020-12-23T21:57:42\",\"2020-12-20T21:32:52\",\"2020-12-27T10:44:03\",\"2020-12-20T21:32:52\",\"2020-12-27T10:44:03\",\"2020-12-20T12:53:53\",\"2020-12-20T12:53:53\",\"2020-12-20T12:53:53\",\"2020-12-20T08:19:08\",\"2020-12-21T10:13:16\",\"2020-12-20T08:19:08\",\"2020-12-21T10:13:17\",\"2020-12-20T08:19:08\",\"2020-12-21T10:13:17\",\"2020-12-20T08:19:08\",\"2020-12-21T10:13:16\",\"2020-12-20T22:40:50\",\"2020-12-21T06:06:40\",\"2020-12-20T22:40:50\",\"2020-12-21T06:06:41\",\"2020-12-20T22:40:50\",\"2020-12-21T06:06:40\",\"2020-12-20T22:40:50\",\"2020-12-21T06:06:40\",\"2020-12-20T09:05:49\",\"2020-12-25T12:52:28\",\"2020-12-20T09:05:49\",\"2020-12-25T12:52:28\",\"2020-12-20T22:24:44\",\"2020-12-23T09:47:32\",\"2020-12-24T05:38:44\",\"2020-12-26T09:31:43\",\"2020-12-20T22:24:46\",\"2020-12-23T09:47:33\",\"2020-12-24T05:38:44\",\"2020-12-26T09:31:44\",\"2020-12-20T22:24:46\",\"2020-12-23T09:47:33\",\"2020-12-24T05:38:47\",\"2020-12-26T09:31:46\",\"2020-12-20T22:24:44\",\"2020-12-23T09:47:32\",\"2020-12-24T05:38:44\",\"2020-12-26T09:31:43\",\"2020-12-20T21:50:34\",\"2020-12-24T07:57:58\",\"2020-12-20T21:50:34\",\"2020-12-24T07:57:58\",\"2020-12-20T21:50:34\",\"2020-12-24T07:57:58\",\"2020-12-20T12:39:38\",\"2020-12-22T11:28:28\",\"2020-12-27T10:09:04\",\"2020-12-20T12:39:39\",\"2020-12-22T11:28:28\",\"2020-12-27T10:09:04\",\"2020-12-20T12:39:38\",\"2020-12-22T11:28:28\",\"2020-12-27T10:09:04\",\"2020-12-20T04:29:46\",\"2020-12-20T04:29:46\",\"2020-12-20T04:29:46\",\"2020-12-20T09:43:14\",\"2020-12-21T07:20:13\",\"2020-12-24T23:25:19\",\"2020-12-20T09:43:14\",\"2020-12-21T07:20:13\",\"2020-12-24T23:25:22\",\"2020-12-20T09:43:14\",\"2020-12-21T07:20:13\",\"2020-12-24T23:25:19\",\"2020-12-20T09:23:38\",\"2020-12-21T01:14:01\",\"2020-12-22T12:28:57\",\"2020-12-27T18:03:06\",\"2020-12-20T09:23:38\",\"2020-12-21T01:14:03\",\"2020-12-22T12:28:58\",\"2020-12-27T18:03:07\",\"2020-12-20T09:23:38\",\"2020-12-21T01:14:02\",\"2020-12-22T12:28:58\",\"2020-12-27T18:03:07\",\"2020-12-20T09:23:38\",\"2020-12-21T01:14:01\",\"2020-12-22T12:28:57\",\"2020-12-27T18:03:06\",\"2020-12-20T04:06:43\",\"2020-12-23T12:16:32\",\"2020-12-20T04:06:44\",\"2020-12-23T12:16:34\",\"2020-12-20T04:06:43\",\"2020-12-23T12:16:32\",\"2020-12-20T06:58:11\",\"2020-12-21T09:17:30\",\"2020-12-27T13:14:39\",\"2020-12-20T06:58:12\",\"2020-12-21T09:17:32\",\"2020-12-27T13:14:39\",\"2020-12-20T06:58:11\",\"2020-12-21T09:17:30\",\"2020-12-27T13:14:39\",\"2020-12-20T07:42:49\",\"2020-12-21T04:25:43\",\"2020-12-20T07:42:49\",\"2020-12-21T04:25:43\",\"2020-12-20T08:41:21\",\"2020-12-21T08:14:48\",\"2020-12-23T06:54:38\",\"2020-12-20T08:41:21\",\"2020-12-21T08:14:48\",\"2020-12-23T06:54:41\",\"2020-12-20T08:41:22\",\"2020-12-21T08:14:48\",\"2020-12-23T06:54:39\",\"2020-12-20T08:41:21\",\"2020-12-21T08:14:48\",\"2020-12-23T06:54:38\",\"2020-12-20T20:13:13\",\"2020-12-21T23:10:01\",\"2020-12-22T23:36:40\",\"2020-12-23T14:24:19\",\"2020-12-29T14:09:14\",\"2020-12-20T20:13:13\",\"2020-12-21T23:10:01\",\"2020-12-22T23:36:40\",\"2020-12-23T14:24:19\",\"2020-12-29T14:09:14\",\"2020-12-20T04:15:43\",\"2020-12-26T04:55:27\",\"2020-12-20T04:15:45\",\"2020-12-26T04:55:29\",\"2020-12-20T04:15:43\",\"2020-12-26T04:55:28\",\"2020-12-20T04:15:43\",\"2020-12-26T04:55:27\",\"2020-12-20T20:58:25\",\"2020-12-21T22:28:29\",\"2020-12-24T09:12:49\",\"2020-12-20T20:58:26\",\"2020-12-21T22:28:29\",\"2020-12-24T09:12:51\",\"2020-12-20T20:58:25\",\"2020-12-21T22:28:29\",\"2020-12-24T09:12:49\",\"2020-12-21T13:49:08\",\"2020-12-24T18:33:12\",\"2020-12-25T23:06:58\",\"2020-12-26T03:25:38\",\"2020-12-27T17:42:13\",\"2020-12-21T13:49:09\",\"2020-12-24T18:33:17\",\"2020-12-25T23:06:59\",\"2020-12-26T03:25:38\",\"2020-12-27T17:42:13\",\"2020-12-21T13:49:08\",\"2020-12-24T18:33:12\",\"2020-12-25T23:06:58\",\"2020-12-26T03:25:38\",\"2020-12-27T17:42:13\",\"2020-12-21T18:46:56\",\"2020-12-22T04:53:57\",\"2020-12-23T19:46:29\",\"2020-12-21T18:46:58\",\"2020-12-22T04:53:57\",\"2020-12-23T19:46:32\",\"2020-12-21T18:46:56\",\"2020-12-22T04:53:57\",\"2020-12-23T19:46:29\",\"2020-12-21T14:31:04\",\"2020-12-22T20:12:57\",\"2020-12-21T14:31:04\",\"2020-12-22T20:12:57\",\"2020-12-21T15:21:36\",\"2020-12-24T21:32:24\",\"2020-12-21T15:21:36\",\"2020-12-24T21:32:24\",\"2020-12-21T15:21:36\",\"2020-12-24T21:32:24\",\"2020-12-21T19:03:00\",\"2020-12-25T23:25:15\",\"2020-12-21T19:03:01\",\"2020-12-25T23:25:15\",\"2020-12-21T19:03:00\",\"2020-12-25T23:25:15\",\"2020-12-21T07:25:52\",\"2020-12-21T07:25:53\",\"2020-12-21T07:25:52\",\"2020-12-21T04:05:54\",\"2020-12-22T02:20:41\",\"2020-12-26T04:04:11\",\"2020-12-27T00:32:22\",\"2020-12-21T04:05:56\",\"2020-12-22T02:20:41\",\"2020-12-26T04:04:12\",\"2020-12-27T00:32:24\",\"2020-12-21T04:05:54\",\"2020-12-22T02:20:41\",\"2020-12-26T04:04:11\",\"2020-12-27T00:32:22\",\"2020-12-21T00:43:31\",\"2020-12-22T04:38:28\",\"2020-12-21T00:43:32\",\"2020-12-22T04:38:30\",\"2020-12-21T00:43:31\",\"2020-12-22T04:38:28\",\"2020-12-21T03:45:45\",\"2020-12-23T17:08:42\",\"2020-12-25T21:28:00\",\"2020-12-26T05:19:22\",\"2020-12-27T15:02:38\",\"2020-12-21T03:45:46\",\"2020-12-23T17:08:42\",\"2020-12-25T21:28:01\",\"2020-12-26T05:19:23\",\"2020-12-27T15:02:38\",\"2020-12-21T03:45:48\",\"2020-12-23T17:08:46\",\"2020-12-25T21:28:01\",\"2020-12-26T05:19:23\",\"2020-12-27T15:02:40\",\"2020-12-21T03:45:45\",\"2020-12-23T17:08:42\",\"2020-12-25T21:28:00\",\"2020-12-26T05:19:22\",\"2020-12-27T15:02:38\",\"2020-12-21T13:39:19\",\"2020-12-22T08:05:22\",\"2020-12-25T21:35:01\",\"2020-12-28T13:09:06\",\"2020-12-21T13:39:19\",\"2020-12-22T08:05:22\",\"2020-12-25T21:35:01\",\"2020-12-28T13:09:06\",\"2020-12-21T04:33:18\",\"2020-12-27T04:21:16\",\"2020-12-21T04:33:19\",\"2020-12-27T04:21:16\",\"2020-12-21T04:33:18\",\"2020-12-27T04:21:16\",\"2020-12-21T18:29:55\",\"2020-12-21T18:29:55\",\"2020-12-21T18:29:55\",\"2020-12-21T03:54:17\",\"2020-12-22T09:16:11\",\"2020-12-29T04:14:48\",\"2020-12-21T03:54:17\",\"2020-12-22T09:16:11\",\"2020-12-29T04:14:48\",\"2020-12-21T03:54:17\",\"2020-12-22T09:16:11\",\"2020-12-29T04:14:48\",\"2020-12-21T03:54:17\",\"2020-12-22T09:16:11\",\"2020-12-29T04:14:48\",\"2020-12-21T07:19:29\",\"2020-12-22T09:14:17\",\"2020-12-29T00:44:26\",\"2020-12-21T07:19:29\",\"2020-12-22T09:14:17\",\"2020-12-29T00:44:28\",\"2020-12-21T07:19:29\",\"2020-12-22T09:14:17\",\"2020-12-29T00:44:28\",\"2020-12-21T07:19:29\",\"2020-12-22T09:14:17\",\"2020-12-29T00:44:26\",\"2020-12-21T05:13:01\",\"2020-12-22T18:14:24\",\"2020-12-21T05:13:02\",\"2020-12-22T18:14:26\",\"2020-12-21T05:13:01\",\"2020-12-22T18:14:24\",\"2020-12-21T14:50:41\",\"2020-12-26T12:20:40\",\"2020-12-21T14:50:41\",\"2020-12-26T12:20:40\",\"2020-12-21T02:29:31\",\"2020-12-24T18:00:36\",\"2020-12-25T16:29:20\",\"2020-12-28T13:49:06\",\"2020-12-21T02:29:34\",\"2020-12-24T18:00:39\",\"2020-12-25T16:29:24\",\"2020-12-28T13:49:06\",\"2020-12-21T02:29:31\",\"2020-12-24T18:00:39\",\"2020-12-25T16:29:25\",\"2020-12-28T13:49:08\",\"2020-12-21T02:29:31\",\"2020-12-24T18:00:36\",\"2020-12-25T16:29:20\",\"2020-12-28T13:49:06\",\"2020-12-21T02:08:59\",\"2020-12-21T02:09:02\",\"2020-12-21T02:08:59\",\"2020-12-21T09:18:54\",\"2020-12-24T19:37:23\",\"2020-12-21T09:18:54\",\"2020-12-24T19:37:23\",\"2020-12-21T05:12:08\",\"2020-12-22T01:06:12\",\"2020-12-23T14:35:30\",\"2020-12-26T01:57:42\",\"2020-12-27T15:03:47\",\"2020-12-29T11:21:37\",\"2020-12-21T05:12:08\",\"2020-12-22T01:06:12\",\"2020-12-23T14:35:30\",\"2020-12-26T01:57:42\",\"2020-12-27T15:03:47\",\"2020-12-29T11:21:37\",\"2020-12-21T17:11:09\",\"2020-12-22T01:19:40\",\"2020-12-29T19:46:56\",\"2020-12-21T17:11:12\",\"2020-12-22T01:19:40\",\"2020-12-29T19:46:56\",\"2020-12-21T17:11:09\",\"2020-12-22T01:19:40\",\"2020-12-29T19:46:56\",\"2020-12-21T07:58:43\",\"2020-12-22T13:16:40\",\"2020-12-21T07:58:43\",\"2020-12-22T13:16:40\",\"2020-12-21T18:49:52\",\"2020-12-22T00:52:39\",\"2020-12-21T18:49:52\",\"2020-12-22T00:52:39\",\"2020-12-21T19:02:56\",\"2020-12-22T11:26:45\",\"2020-12-21T19:02:58\",\"2020-12-22T11:26:46\",\"2020-12-21T19:02:56\",\"2020-12-22T11:26:45\",\"2020-12-21T04:40:48\",\"2020-12-21T04:40:48\",\"2020-12-21T16:59:17\",\"2020-12-22T08:41:18\",\"2020-12-23T19:04:58\",\"2020-12-25T19:10:00\",\"2020-12-26T08:41:28\",\"2020-12-27T01:19:09\",\"2020-12-21T16:59:20\",\"2020-12-22T08:41:19\",\"2020-12-23T19:04:59\",\"2020-12-25T19:10:00\",\"2020-12-26T08:41:28\",\"2020-12-27T01:19:09\",\"2020-12-21T16:59:17\",\"2020-12-22T08:41:18\",\"2020-12-23T19:04:58\",\"2020-12-25T19:10:00\",\"2020-12-26T08:41:28\",\"2020-12-27T01:19:09\",\"2020-12-21T05:35:43\",\"2020-12-22T08:30:28\",\"2020-12-23T01:55:36\",\"2020-12-21T05:35:45\",\"2020-12-22T08:30:29\",\"2020-12-23T01:55:36\",\"2020-12-21T05:35:43\",\"2020-12-22T08:30:28\",\"2020-12-23T01:55:36\",\"2020-12-21T00:08:29\",\"2020-12-22T06:51:37\",\"2020-12-24T14:06:25\",\"2020-12-29T04:46:02\",\"2020-12-21T00:08:29\",\"2020-12-22T06:51:37\",\"2020-12-24T14:06:25\",\"2020-12-29T04:46:02\",\"2020-12-21T00:14:15\",\"2020-12-22T18:31:46\",\"2020-12-24T04:35:07\",\"2020-12-26T07:25:47\",\"2020-12-28T16:04:56\",\"2020-12-21T00:14:15\",\"2020-12-22T18:31:47\",\"2020-12-24T04:35:08\",\"2020-12-26T07:25:47\",\"2020-12-28T16:04:59\",\"2020-12-21T00:14:15\",\"2020-12-22T18:31:46\",\"2020-12-24T04:35:07\",\"2020-12-26T07:25:47\",\"2020-12-28T16:04:56\",\"2020-12-21T14:29:59\",\"2020-12-22T16:44:46\",\"2020-12-23T20:49:49\",\"2020-12-21T14:30:00\",\"2020-12-22T16:44:46\",\"2020-12-23T20:49:50\",\"2020-12-21T14:30:00\",\"2020-12-22T16:44:46\",\"2020-12-23T20:49:50\",\"2020-12-21T14:29:59\",\"2020-12-22T16:44:46\",\"2020-12-23T20:49:49\",\"2020-12-21T08:27:18\",\"2020-12-23T02:42:08\",\"2020-12-24T17:01:37\",\"2020-12-21T08:27:20\",\"2020-12-23T02:42:09\",\"2020-12-24T17:01:38\",\"2020-12-21T08:27:18\",\"2020-12-23T02:42:08\",\"2020-12-24T17:01:37\",\"2020-12-21T02:59:40\",\"2020-12-22T10:23:15\",\"2020-12-23T00:14:52\",\"2020-12-21T02:59:40\",\"2020-12-22T10:23:17\",\"2020-12-23T00:14:52\",\"2020-12-21T02:59:40\",\"2020-12-22T10:23:15\",\"2020-12-23T00:14:52\",\"2020-12-21T11:31:04\",\"2020-12-22T02:50:40\",\"2020-12-24T15:23:45\",\"2020-12-25T11:57:12\",\"2020-12-21T11:31:05\",\"2020-12-22T02:50:40\",\"2020-12-24T15:23:46\",\"2020-12-25T11:57:13\",\"2020-12-21T11:31:06\",\"2020-12-22T02:50:40\",\"2020-12-24T15:23:46\",\"2020-12-25T11:57:12\",\"2020-12-21T11:31:04\",\"2020-12-22T02:50:40\",\"2020-12-24T15:23:45\",\"2020-12-25T11:57:12\",\"2020-12-21T07:21:14\",\"2020-12-22T08:22:34\",\"2020-12-23T08:37:21\",\"2020-12-25T23:10:37\",\"2020-12-26T22:09:59\",\"2020-12-21T07:21:14\",\"2020-12-22T08:22:34\",\"2020-12-23T08:37:21\",\"2020-12-25T23:10:37\",\"2020-12-26T22:10:00\",\"2020-12-21T07:21:16\",\"2020-12-22T08:22:34\",\"2020-12-23T08:37:21\",\"2020-12-25T23:10:39\",\"2020-12-26T22:09:59\",\"2020-12-21T07:21:14\",\"2020-12-22T08:22:34\",\"2020-12-23T08:37:21\",\"2020-12-25T23:10:37\",\"2020-12-26T22:09:59\",\"2020-12-21T02:57:13\",\"2020-12-22T01:09:55\",\"2020-12-23T04:26:07\",\"2020-12-26T22:36:16\",\"2020-12-21T02:57:15\",\"2020-12-22T01:09:57\",\"2020-12-23T04:26:08\",\"2020-12-26T22:36:16\",\"2020-12-21T02:57:13\",\"2020-12-22T01:09:55\",\"2020-12-23T04:26:07\",\"2020-12-26T22:36:16\",\"2020-12-21T06:56:45\",\"2020-12-23T14:11:17\",\"2020-12-24T20:24:04\",\"2020-12-21T06:56:45\",\"2020-12-23T14:11:18\",\"2020-12-24T20:24:08\",\"2020-12-21T06:56:45\",\"2020-12-23T14:11:17\",\"2020-12-24T20:24:04\",\"2020-12-21T22:56:46\",\"2020-12-23T19:11:29\",\"2020-12-28T06:08:56\",\"2020-12-21T22:56:46\",\"2020-12-23T19:11:31\",\"2020-12-28T06:08:58\",\"2020-12-21T22:56:46\",\"2020-12-23T19:11:29\",\"2020-12-28T06:08:56\",\"2020-12-21T16:12:27\",\"2020-12-22T06:04:27\",\"2020-12-27T08:06:32\",\"2020-12-21T16:12:32\",\"2020-12-22T06:04:28\",\"2020-12-27T08:06:32\",\"2020-12-21T16:12:27\",\"2020-12-22T06:04:27\",\"2020-12-27T08:06:32\",\"2020-12-21T08:52:51\",\"2020-12-22T19:52:13\",\"2020-12-23T09:31:43\",\"2020-12-26T02:58:13\",\"2020-12-21T08:52:51\",\"2020-12-22T19:52:13\",\"2020-12-23T09:31:44\",\"2020-12-26T02:58:13\",\"2020-12-21T08:52:51\",\"2020-12-22T19:52:13\",\"2020-12-23T09:31:43\",\"2020-12-26T02:58:13\",\"2020-12-21T06:23:11\",\"2020-12-23T04:21:50\",\"2020-12-25T07:17:50\",\"2020-12-21T06:23:11\",\"2020-12-23T04:21:52\",\"2020-12-25T07:17:50\",\"2020-12-21T06:23:11\",\"2020-12-23T04:21:50\",\"2020-12-25T07:17:50\",\"2020-12-21T09:32:05\",\"2020-12-23T18:00:32\",\"2020-12-21T09:32:06\",\"2020-12-23T18:00:35\",\"2020-12-21T09:32:05\",\"2020-12-23T18:00:32\",\"2020-12-21T09:52:44\",\"2020-12-22T08:29:20\",\"2020-12-24T19:49:53\",\"2020-12-27T11:21:03\",\"2020-12-21T09:52:47\",\"2020-12-22T08:29:21\",\"2020-12-24T19:49:55\",\"2020-12-27T11:21:03\",\"2020-12-21T09:52:44\",\"2020-12-22T08:29:20\",\"2020-12-24T19:49:53\",\"2020-12-27T11:21:03\",\"2020-12-21T14:41:59\",\"2020-12-22T02:39:09\",\"2020-12-21T14:41:59\",\"2020-12-22T02:39:09\",\"2020-12-21T14:41:59\",\"2020-12-22T02:39:09\",\"2020-12-21T22:05:28\",\"2020-12-27T14:13:23\",\"2020-12-21T22:05:28\",\"2020-12-27T14:13:24\",\"2020-12-21T22:05:28\",\"2020-12-27T14:13:23\",\"2020-12-21T00:17:31\",\"2020-12-22T14:35:03\",\"2020-12-23T00:09:14\",\"2020-12-25T16:31:40\",\"2020-12-28T13:03:45\",\"2020-12-21T00:17:32\",\"2020-12-22T14:35:03\",\"2020-12-23T00:09:14\",\"2020-12-25T16:31:43\",\"2020-12-28T13:03:45\",\"2020-12-21T00:17:31\",\"2020-12-22T14:35:03\",\"2020-12-23T00:09:14\",\"2020-12-25T16:31:40\",\"2020-12-28T13:03:45\",\"2020-12-21T17:56:11\",\"2020-12-21T17:56:12\",\"2020-12-21T17:56:11\",\"2020-12-21T04:54:08\",\"2020-12-27T09:09:29\",\"2020-12-21T04:54:08\",\"2020-12-27T09:09:30\",\"2020-12-21T04:54:08\",\"2020-12-27T09:09:31\",\"2020-12-21T04:54:08\",\"2020-12-27T09:09:29\",\"2020-12-21T20:47:44\",\"2020-12-26T05:23:46\",\"2020-12-21T20:47:47\",\"2020-12-26T05:23:46\",\"2020-12-21T20:47:44\",\"2020-12-26T05:23:46\",\"2020-12-21T06:26:25\",\"2020-12-28T04:18:00\",\"2020-12-21T06:26:27\",\"2020-12-28T04:18:01\",\"2020-12-21T06:26:25\",\"2020-12-28T04:18:00\",\"2020-12-21T03:26:30\",\"2020-12-22T16:44:22\",\"2020-12-23T22:13:10\",\"2020-12-24T10:54:35\",\"2020-12-21T03:26:30\",\"2020-12-22T16:44:24\",\"2020-12-23T22:13:12\",\"2020-12-24T10:54:36\",\"2020-12-21T03:26:30\",\"2020-12-22T16:44:22\",\"2020-12-23T22:13:10\",\"2020-12-24T10:54:35\",\"2020-12-21T02:32:23\",\"2020-12-22T21:08:26\",\"2020-12-23T18:06:48\",\"2020-12-24T18:52:49\",\"2020-12-25T09:07:35\",\"2020-12-26T06:23:36\",\"2020-12-21T02:32:23\",\"2020-12-22T21:08:26\",\"2020-12-23T18:06:48\",\"2020-12-24T18:52:49\",\"2020-12-25T09:07:35\",\"2020-12-26T06:23:36\",\"2020-12-21T16:44:18\",\"2020-12-22T15:25:10\",\"2020-12-21T16:44:18\",\"2020-12-22T15:25:13\",\"2020-12-21T16:44:18\",\"2020-12-22T15:25:10\",\"2020-12-21T22:52:15\",\"2020-12-22T17:58:35\",\"2020-12-21T22:52:15\",\"2020-12-22T17:58:35\",\"2020-12-21T22:52:15\",\"2020-12-22T17:58:35\",\"2020-12-21T20:28:42\",\"2020-12-23T13:18:05\",\"2020-12-21T20:28:45\",\"2020-12-23T13:18:06\",\"2020-12-21T20:28:45\",\"2020-12-23T13:18:05\",\"2020-12-21T20:28:42\",\"2020-12-23T13:18:05\",\"2020-12-21T16:13:59\",\"2020-12-22T22:21:36\",\"2020-12-23T04:05:41\",\"2020-12-25T12:20:11\",\"2020-12-28T21:38:14\",\"2020-12-21T16:14:00\",\"2020-12-22T22:21:36\",\"2020-12-23T04:05:44\",\"2020-12-25T12:20:14\",\"2020-12-28T21:38:16\",\"2020-12-21T16:14:00\",\"2020-12-22T22:21:37\",\"2020-12-23T04:05:41\",\"2020-12-25T12:20:13\",\"2020-12-28T21:38:17\",\"2020-12-21T16:13:59\",\"2020-12-22T22:21:36\",\"2020-12-23T04:05:41\",\"2020-12-25T12:20:11\",\"2020-12-28T21:38:14\",\"2020-12-21T16:05:37\",\"2020-12-24T22:56:07\",\"2020-12-29T23:14:15\",\"2020-12-21T16:05:38\",\"2020-12-24T22:56:08\",\"2020-12-29T23:14:16\",\"2020-12-21T16:05:37\",\"2020-12-24T22:56:07\",\"2020-12-29T23:14:15\",\"2020-12-21T16:54:19\",\"2020-12-22T10:56:38\",\"2020-12-23T22:34:01\",\"2020-12-24T22:49:00\",\"2020-12-27T04:29:21\",\"2020-12-21T16:54:19\",\"2020-12-22T10:56:38\",\"2020-12-23T22:34:01\",\"2020-12-24T22:49:00\",\"2020-12-27T04:29:21\",\"2020-12-21T20:14:07\",\"2020-12-22T01:14:01\",\"2020-12-25T15:04:51\",\"2020-12-26T05:12:50\",\"2020-12-21T20:14:07\",\"2020-12-22T01:14:04\",\"2020-12-25T15:04:51\",\"2020-12-26T05:12:50\",\"2020-12-21T20:14:07\",\"2020-12-22T01:14:01\",\"2020-12-25T15:04:51\",\"2020-12-26T05:12:50\",\"2020-12-21T14:59:17\",\"2020-12-25T08:18:45\",\"2020-12-21T14:59:17\",\"2020-12-25T08:18:47\",\"2020-12-21T14:59:17\",\"2020-12-25T08:18:45\",\"2020-12-21T13:18:12\",\"2020-12-23T07:05:29\",\"2020-12-25T07:11:01\",\"2020-12-29T07:33:47\",\"2020-12-21T13:18:12\",\"2020-12-23T07:05:30\",\"2020-12-25T07:11:02\",\"2020-12-29T07:33:47\",\"2020-12-21T13:18:12\",\"2020-12-23T07:05:29\",\"2020-12-25T07:11:03\",\"2020-12-29T07:33:47\",\"2020-12-21T13:18:12\",\"2020-12-23T07:05:29\",\"2020-12-25T07:11:01\",\"2020-12-29T07:33:47\",\"2020-12-21T00:07:52\",\"2020-12-22T21:01:58\",\"2020-12-21T00:07:53\",\"2020-12-22T21:02:00\",\"2020-12-21T00:07:52\",\"2020-12-22T21:01:58\",\"2020-12-21T02:12:03\",\"2020-12-24T00:31:32\",\"2020-12-21T02:12:04\",\"2020-12-24T00:31:34\",\"2020-12-21T02:12:03\",\"2020-12-24T00:31:32\",\"2020-12-21T08:19:56\",\"2020-12-25T13:53:18\",\"2020-12-28T06:06:54\",\"2020-12-21T08:19:58\",\"2020-12-25T13:53:18\",\"2020-12-28T06:06:55\",\"2020-12-21T08:19:56\",\"2020-12-25T13:53:18\",\"2020-12-28T06:06:54\",\"2020-12-21T04:44:04\",\"2020-12-22T19:27:30\",\"2020-12-23T03:27:55\",\"2020-12-24T15:13:20\",\"2020-12-21T04:44:05\",\"2020-12-22T19:27:33\",\"2020-12-23T03:27:55\",\"2020-12-24T15:13:21\",\"2020-12-21T04:44:04\",\"2020-12-22T19:27:30\",\"2020-12-23T03:27:55\",\"2020-12-24T15:13:20\",\"2020-12-21T14:52:59\",\"2020-12-24T16:48:25\",\"2020-12-26T05:36:13\",\"2020-12-21T14:52:59\",\"2020-12-24T16:48:27\",\"2020-12-26T05:36:13\",\"2020-12-21T14:52:59\",\"2020-12-24T16:48:28\",\"2020-12-26T05:36:13\",\"2020-12-21T14:52:59\",\"2020-12-24T16:48:25\",\"2020-12-26T05:36:13\",\"2020-12-21T21:15:22\",\"2020-12-21T21:15:23\",\"2020-12-21T21:15:23\",\"2020-12-21T21:15:22\",\"2020-12-21T15:26:31\",\"2020-12-22T15:14:39\",\"2020-12-28T13:53:30\",\"2020-12-21T15:26:31\",\"2020-12-22T15:14:40\",\"2020-12-28T13:53:31\",\"2020-12-21T15:26:31\",\"2020-12-22T15:14:39\",\"2020-12-28T13:53:30\",\"2020-12-21T22:49:31\",\"2020-12-22T23:33:01\",\"2020-12-24T15:50:21\",\"2020-12-27T19:44:36\",\"2020-12-21T22:49:32\",\"2020-12-22T23:33:04\",\"2020-12-24T15:50:26\",\"2020-12-27T19:44:38\",\"2020-12-29T05:07:15\",\"2020-12-21T22:49:31\",\"2020-12-22T23:33:01\",\"2020-12-24T15:50:21\",\"2020-12-27T19:44:36\",\"2020-12-29T05:07:14\",\"2020-12-21T18:52:00\",\"2020-12-22T05:53:55\",\"2020-12-24T05:16:17\",\"2020-12-21T18:52:02\",\"2020-12-22T05:53:55\",\"2020-12-24T05:16:18\",\"2020-12-21T18:52:00\",\"2020-12-22T05:53:55\",\"2020-12-24T05:16:17\",\"2020-12-21T21:43:07\",\"2020-12-23T05:53:14\",\"2020-12-21T21:43:07\",\"2020-12-23T05:53:14\",\"2020-12-21T21:43:07\",\"2020-12-23T05:53:14\",\"2020-12-21T08:46:48\",\"2020-12-22T23:09:14\",\"2020-12-29T09:31:46\",\"2020-12-21T08:46:49\",\"2020-12-22T23:09:17\",\"2020-12-29T09:31:46\",\"2020-12-21T08:46:48\",\"2020-12-22T23:09:14\",\"2020-12-29T09:31:46\",\"2020-12-21T10:01:08\",\"2020-12-22T00:49:54\",\"2020-12-23T20:30:55\",\"2020-12-25T19:45:34\",\"2020-12-21T10:01:08\",\"2020-12-22T00:49:54\",\"2020-12-23T20:30:55\",\"2020-12-25T19:45:34\",\"2020-12-21T11:34:23\",\"2020-12-23T20:35:47\",\"2020-12-21T11:34:27\",\"2020-12-23T20:35:47\",\"2020-12-21T11:34:23\",\"2020-12-23T20:35:51\",\"2020-12-21T11:34:23\",\"2020-12-23T20:35:47\",\"2020-12-21T14:58:33\",\"2020-12-21T14:58:33\",\"2020-12-21T12:51:35\",\"2020-12-23T10:20:11\",\"2020-12-21T12:51:36\",\"2020-12-23T10:20:11\",\"2020-12-21T12:51:35\",\"2020-12-23T10:20:11\",\"2020-12-21T12:51:35\",\"2020-12-23T10:20:11\",\"2020-12-21T00:48:05\",\"2020-12-23T00:30:20\",\"2020-12-26T03:28:29\",\"2020-12-21T00:48:05\",\"2020-12-23T00:30:21\",\"2020-12-26T03:28:30\",\"2020-12-21T00:48:05\",\"2020-12-23T00:30:20\",\"2020-12-26T03:28:29\",\"2020-12-21T02:03:42\",\"2020-12-22T23:50:30\",\"2020-12-28T13:12:30\",\"2020-12-21T02:03:43\",\"2020-12-22T23:50:30\",\"2020-12-28T13:12:30\",\"2020-12-21T02:03:42\",\"2020-12-22T23:50:30\",\"2020-12-28T13:12:30\",\"2020-12-21T02:03:42\",\"2020-12-22T23:50:30\",\"2020-12-28T13:12:30\",\"2020-12-21T07:51:57\",\"2020-12-23T03:53:25\",\"2020-12-24T07:56:34\",\"2020-12-21T07:52:00\",\"2020-12-23T03:53:26\",\"2020-12-24T07:56:34\",\"2020-12-21T07:51:57\",\"2020-12-23T03:53:25\",\"2020-12-24T07:56:34\",\"2020-12-21T05:22:42\",\"2020-12-21T05:22:43\",\"2020-12-21T05:22:42\",\"2020-12-21T04:56:45\",\"2020-12-22T10:18:19\",\"2020-12-24T02:07:29\",\"2020-12-25T04:41:02\",\"2020-12-21T04:56:45\",\"2020-12-22T10:18:20\",\"2020-12-24T02:07:31\",\"2020-12-25T04:41:02\",\"2020-12-21T04:56:45\",\"2020-12-22T10:18:19\",\"2020-12-24T02:07:29\",\"2020-12-25T04:41:02\",\"2020-12-21T07:05:07\",\"2020-12-22T17:04:22\",\"2020-12-23T10:04:37\",\"2020-12-26T10:43:10\",\"2020-12-21T07:05:08\",\"2020-12-22T17:04:22\",\"2020-12-23T10:04:40\",\"2020-12-26T10:43:10\",\"2020-12-21T07:05:07\",\"2020-12-22T17:04:22\",\"2020-12-23T10:04:37\",\"2020-12-26T10:43:10\",\"2020-12-21T11:50:06\",\"2020-12-26T04:40:06\",\"2020-12-28T09:20:55\",\"2020-12-21T11:50:06\",\"2020-12-26T04:40:06\",\"2020-12-28T09:20:55\",\"2020-12-21T11:50:06\",\"2020-12-26T04:40:06\",\"2020-12-28T09:20:55\",\"2020-12-21T00:33:10\",\"2020-12-21T00:33:11\",\"2020-12-21T00:33:12\",\"2020-12-21T00:33:10\",\"2020-12-21T01:01:46\",\"2020-12-22T19:20:57\",\"2020-12-24T23:51:18\",\"2020-12-29T11:12:17\",\"2020-12-21T01:01:47\",\"2020-12-22T19:20:57\",\"2020-12-24T23:51:20\",\"2020-12-27T09:05:59\",\"2020-12-29T11:12:18\",\"2020-12-21T01:01:46\",\"2020-12-22T19:20:57\",\"2020-12-24T23:51:18\",\"2020-12-27T09:05:58\",\"2020-12-29T11:12:17\",\"2020-12-21T06:52:43\",\"2020-12-22T05:46:09\",\"2020-12-23T09:17:55\",\"2020-12-21T06:52:47\",\"2020-12-22T05:46:10\",\"2020-12-23T09:17:55\",\"2020-12-21T06:52:43\",\"2020-12-22T05:46:09\",\"2020-12-23T09:17:55\",\"2020-12-21T00:13:32\",\"2020-12-21T00:13:34\",\"2020-12-21T00:13:35\",\"2020-12-21T00:13:32\",\"2020-12-21T13:10:17\",\"2020-12-22T02:17:30\",\"2020-12-24T18:37:26\",\"2020-12-26T13:02:53\",\"2020-12-21T13:10:23\",\"2020-12-22T02:17:31\",\"2020-12-24T18:37:27\",\"2020-12-26T13:02:53\",\"2020-12-28T23:59:18\",\"2020-12-21T13:10:19\",\"2020-12-22T02:17:31\",\"2020-12-24T18:37:27\",\"2020-12-26T13:02:54\",\"2020-12-28T23:59:19\",\"2020-12-21T13:10:17\",\"2020-12-22T02:17:30\",\"2020-12-24T18:37:26\",\"2020-12-26T13:02:53\",\"2020-12-28T23:59:17\",\"2020-12-21T05:43:48\",\"2020-12-25T16:12:42\",\"2020-12-26T01:40:07\",\"2020-12-21T05:43:52\",\"2020-12-25T16:12:42\",\"2020-12-26T01:40:11\",\"2020-12-21T05:43:48\",\"2020-12-25T16:12:42\",\"2020-12-26T01:40:07\",\"2020-12-21T13:49:15\",\"2020-12-28T05:43:04\",\"2020-12-21T13:49:15\",\"2020-12-28T05:43:04\",\"2020-12-21T13:49:15\",\"2020-12-28T05:43:04\",\"2020-12-21T23:45:36\",\"2020-12-21T23:45:36\",\"2020-12-21T23:45:36\",\"2020-12-21T21:45:48\",\"2020-12-23T21:11:27\",\"2020-12-29T03:03:45\",\"2020-12-21T21:45:48\",\"2020-12-23T21:11:27\",\"2020-12-29T03:03:45\",\"2020-12-21T15:58:57\",\"2020-12-25T08:28:03\",\"2020-12-26T13:42:50\",\"2020-12-27T22:45:52\",\"2020-12-21T15:58:59\",\"2020-12-25T08:28:05\",\"2020-12-26T13:42:51\",\"2020-12-27T22:45:52\",\"2020-12-21T15:58:59\",\"2020-12-25T08:28:06\",\"2020-12-26T13:42:52\",\"2020-12-27T22:45:52\",\"2020-12-21T15:58:57\",\"2020-12-25T08:28:03\",\"2020-12-26T13:42:50\",\"2020-12-27T22:45:52\",\"2020-12-21T20:13:56\",\"2020-12-24T15:56:14\",\"2020-12-25T16:39:20\",\"2020-12-21T20:13:56\",\"2020-12-24T15:56:15\",\"2020-12-25T16:39:21\",\"2020-12-21T20:13:56\",\"2020-12-24T15:56:14\",\"2020-12-25T16:39:20\",\"2020-12-21T05:22:45\",\"2020-12-22T13:53:42\",\"2020-12-25T07:56:43\",\"2020-12-28T06:38:48\",\"2020-12-21T05:22:45\",\"2020-12-22T13:53:42\",\"2020-12-25T07:56:43\",\"2020-12-28T06:38:48\",\"2020-12-21T14:20:08\",\"2020-12-23T11:29:27\",\"2020-12-27T15:39:00\",\"2020-12-21T14:20:08\",\"2020-12-23T11:29:28\",\"2020-12-27T15:39:01\",\"2020-12-21T14:20:08\",\"2020-12-23T11:29:27\",\"2020-12-27T15:39:00\",\"2020-12-21T16:25:40\",\"2020-12-23T08:59:38\",\"2020-12-24T22:10:48\",\"2020-12-29T18:47:09\",\"2020-12-21T16:25:41\",\"2020-12-23T08:59:39\",\"2020-12-24T22:10:49\",\"2020-12-29T18:47:10\",\"2020-12-21T16:25:40\",\"2020-12-23T08:59:38\",\"2020-12-24T22:10:48\",\"2020-12-29T18:47:09\",\"2020-12-21T09:42:19\",\"2020-12-26T15:49:50\",\"2020-12-21T09:42:23\",\"2020-12-26T15:49:50\",\"2020-12-21T09:42:19\",\"2020-12-26T15:49:50\",\"2020-12-21T22:52:39\",\"2020-12-22T04:50:19\",\"2020-12-24T05:37:25\",\"2020-12-21T22:52:41\",\"2020-12-22T04:50:21\",\"2020-12-24T05:37:26\",\"2020-12-21T22:52:39\",\"2020-12-22T04:50:19\",\"2020-12-24T05:37:25\",\"2020-12-21T08:28:01\",\"2020-12-23T00:29:28\",\"2020-12-24T18:14:39\",\"2020-12-21T08:28:03\",\"2020-12-23T00:29:29\",\"2020-12-24T18:14:39\",\"2020-12-21T08:28:01\",\"2020-12-23T00:29:28\",\"2020-12-24T18:14:39\",\"2020-12-21T08:49:13\",\"2020-12-22T16:55:20\",\"2020-12-21T08:49:13\",\"2020-12-22T16:55:20\",\"2020-12-21T08:49:13\",\"2020-12-22T16:55:22\",\"2020-12-21T08:49:13\",\"2020-12-22T16:55:20\",\"2020-12-21T15:04:49\",\"2020-12-22T19:06:59\",\"2020-12-23T14:12:42\",\"2020-12-21T15:04:50\",\"2020-12-22T19:07:02\",\"2020-12-23T14:12:44\",\"2020-12-21T15:04:49\",\"2020-12-22T19:06:59\",\"2020-12-23T14:12:42\",\"2020-12-21T09:32:35\",\"2020-12-21T09:32:35\",\"2020-12-21T11:42:16\",\"2020-12-22T22:01:18\",\"2020-12-26T20:03:54\",\"2020-12-21T11:42:18\",\"2020-12-22T22:01:18\",\"2020-12-26T20:03:55\",\"2020-12-21T11:42:17\",\"2020-12-22T22:01:18\",\"2020-12-26T20:03:54\",\"2020-12-21T11:42:16\",\"2020-12-22T22:01:18\",\"2020-12-26T20:03:54\",\"2020-12-21T12:49:03\",\"2020-12-26T20:09:29\",\"2020-12-21T12:49:03\",\"2020-12-26T20:09:29\",\"2020-12-21T20:33:00\",\"2020-12-24T22:34:48\",\"2020-12-21T20:33:03\",\"2020-12-24T22:34:48\",\"2020-12-21T20:33:00\",\"2020-12-24T22:34:48\",\"2020-12-21T01:41:11\",\"2020-12-22T19:30:32\",\"2020-12-23T08:16:07\",\"2020-12-21T01:41:11\",\"2020-12-22T19:30:32\",\"2020-12-23T08:16:08\",\"2020-12-21T01:41:11\",\"2020-12-22T19:30:32\",\"2020-12-23T08:16:07\",\"2020-12-21T11:08:03\",\"2020-12-22T23:38:46\",\"2020-12-23T22:15:45\",\"2020-12-25T05:52:06\",\"2020-12-21T11:08:03\",\"2020-12-22T23:38:48\",\"2020-12-23T22:15:46\",\"2020-12-25T05:52:06\",\"2020-12-21T11:08:03\",\"2020-12-22T23:38:46\",\"2020-12-23T22:15:45\",\"2020-12-25T05:52:06\",\"2020-12-21T18:54:50\",\"2020-12-22T23:47:27\",\"2020-12-21T18:54:51\",\"2020-12-22T23:47:27\",\"2020-12-21T18:54:50\",\"2020-12-22T23:47:27\",\"2020-12-21T02:58:34\",\"2020-12-22T19:29:52\",\"2020-12-24T05:02:06\",\"2020-12-21T02:58:34\",\"2020-12-22T19:29:53\",\"2020-12-24T05:02:06\",\"2020-12-21T02:58:34\",\"2020-12-22T19:29:52\",\"2020-12-24T05:02:06\",\"2020-12-21T09:22:49\",\"2020-12-23T08:07:49\",\"2020-12-21T09:22:49\",\"2020-12-23T08:07:50\",\"2020-12-21T09:22:49\",\"2020-12-23T08:07:49\",\"2020-12-21T09:34:15\",\"2020-12-24T01:37:28\",\"2020-12-27T16:25:17\",\"2020-12-21T09:34:16\",\"2020-12-24T01:37:29\",\"2020-12-27T16:25:19\",\"2020-12-21T09:34:15\",\"2020-12-24T01:37:28\",\"2020-12-27T16:25:17\",\"2020-12-21T12:42:33\",\"2020-12-24T11:38:24\",\"2020-12-21T12:42:34\",\"2020-12-24T11:38:25\",\"2020-12-21T12:42:33\",\"2020-12-24T11:38:25\",\"2020-12-21T12:42:33\",\"2020-12-24T11:38:24\",\"2020-12-21T18:36:03\",\"2020-12-22T15:14:25\",\"2020-12-21T18:36:03\",\"2020-12-22T15:14:27\",\"2020-12-21T18:36:03\",\"2020-12-22T15:14:25\",\"2020-12-21T01:47:41\",\"2020-12-22T09:18:18\",\"2020-12-26T09:53:02\",\"2020-12-21T01:47:41\",\"2020-12-22T09:18:20\",\"2020-12-26T09:53:02\",\"2020-12-21T01:47:41\",\"2020-12-22T09:18:18\",\"2020-12-26T09:53:02\",\"2020-12-21T08:10:05\",\"2020-12-25T10:47:40\",\"2020-12-21T08:10:05\",\"2020-12-25T10:47:40\",\"2020-12-21T10:54:52\",\"2020-12-22T23:57:54\",\"2020-12-21T10:54:54\",\"2020-12-22T23:57:54\",\"2020-12-21T10:54:52\",\"2020-12-22T23:57:54\",\"2020-12-21T12:53:12\",\"2020-12-23T07:15:31\",\"2020-12-28T09:32:11\",\"2020-12-21T12:53:12\",\"2020-12-23T07:15:31\",\"2020-12-28T09:32:11\",\"2020-12-21T19:16:45\",\"2020-12-21T19:16:45\",\"2020-12-21T00:19:26\",\"2020-12-25T15:06:32\",\"2020-12-26T15:21:00\",\"2020-12-21T00:19:26\",\"2020-12-25T15:06:32\",\"2020-12-26T15:21:00\",\"2020-12-21T00:36:13\",\"2020-12-23T11:43:03\",\"2020-12-27T16:05:22\",\"2020-12-21T00:36:13\",\"2020-12-23T11:43:03\",\"2020-12-27T16:05:22\",\"2020-12-21T14:20:04\",\"2020-12-23T06:20:16\",\"2020-12-24T12:29:25\",\"2020-12-25T15:48:07\",\"2020-12-21T14:20:04\",\"2020-12-23T06:20:16\",\"2020-12-24T12:29:25\",\"2020-12-25T15:48:07\",\"2020-12-21T12:06:59\",\"2020-12-21T12:07:00\",\"2020-12-21T12:06:59\",\"2020-12-21T01:45:12\",\"2020-12-23T14:24:00\",\"2020-12-27T05:44:33\",\"2020-12-21T01:45:13\",\"2020-12-23T14:24:01\",\"2020-12-27T05:44:33\",\"2020-12-21T01:45:12\",\"2020-12-23T14:24:00\",\"2020-12-27T05:44:33\",\"2020-12-21T22:55:12\",\"2020-12-27T13:09:36\",\"2020-12-21T22:55:12\",\"2020-12-27T13:09:36\",\"2020-12-21T22:55:12\",\"2020-12-27T13:09:36\",\"2020-12-21T17:16:46\",\"2020-12-23T12:33:39\",\"2020-12-21T17:16:46\",\"2020-12-23T12:33:39\",\"2020-12-21T22:52:54\",\"2020-12-22T14:24:06\",\"2020-12-25T01:46:24\",\"2020-12-26T02:07:58\",\"2020-12-21T22:52:54\",\"2020-12-22T14:24:06\",\"2020-12-25T01:46:24\",\"2020-12-26T02:07:58\",\"2020-12-21T12:08:57\",\"2020-12-22T09:44:57\",\"2020-12-21T12:08:57\",\"2020-12-22T09:44:57\",\"2020-12-21T12:08:57\",\"2020-12-22T09:44:57\",\"2020-12-21T10:12:31\",\"2020-12-23T12:23:38\",\"2020-12-25T16:58:25\",\"2020-12-28T08:44:14\",\"2020-12-21T10:12:31\",\"2020-12-23T12:23:39\",\"2020-12-25T16:58:25\",\"2020-12-28T08:44:14\",\"2020-12-21T10:12:31\",\"2020-12-23T12:23:38\",\"2020-12-25T16:58:25\",\"2020-12-28T08:44:14\",\"2020-12-21T13:13:39\",\"2020-12-23T17:34:20\",\"2020-12-28T11:15:35\",\"2020-12-21T13:13:39\",\"2020-12-23T17:34:20\",\"2020-12-28T11:15:35\",\"2020-12-21T13:13:39\",\"2020-12-23T17:34:20\",\"2020-12-28T11:15:35\",\"2020-12-21T10:29:16\",\"2020-12-22T18:39:00\",\"2020-12-23T15:19:44\",\"2020-12-26T08:42:44\",\"2020-12-21T10:29:16\",\"2020-12-22T18:39:00\",\"2020-12-23T15:19:46\",\"2020-12-26T08:42:46\",\"2020-12-21T10:29:17\",\"2020-12-22T18:39:00\",\"2020-12-23T15:19:44\",\"2020-12-26T08:42:47\",\"2020-12-21T10:29:16\",\"2020-12-22T18:39:00\",\"2020-12-23T15:19:44\",\"2020-12-26T08:42:44\",\"2020-12-21T11:41:16\",\"2020-12-22T17:06:53\",\"2020-12-24T15:49:37\",\"2020-12-25T17:37:01\",\"2020-12-26T19:00:19\",\"2020-12-21T11:41:16\",\"2020-12-22T17:06:53\",\"2020-12-24T15:49:37\",\"2020-12-25T17:37:01\",\"2020-12-26T19:00:19\",\"2020-12-21T19:46:18\",\"2020-12-22T13:08:14\",\"2020-12-23T18:17:30\",\"2020-12-21T19:46:18\",\"2020-12-22T13:08:14\",\"2020-12-23T18:17:32\",\"2020-12-21T19:46:18\",\"2020-12-22T13:08:14\",\"2020-12-23T18:17:30\",\"2020-12-21T10:50:59\",\"2020-12-23T04:10:54\",\"2020-12-21T10:50:59\",\"2020-12-23T04:10:59\",\"2020-12-21T10:50:59\",\"2020-12-23T04:10:54\",\"2020-12-07T20:47:10\",\"2020-12-08T20:34:20\",\"2020-12-11T15:14:35\",\"2020-12-07T20:47:11\",\"2020-12-08T20:34:20\",\"2020-12-11T15:14:36\",\"2020-12-07T20:47:09\",\"2020-12-08T20:34:20\",\"2020-12-11T15:14:35\",\"2020-12-07T03:19:18\",\"2020-12-19T15:27:48\",\"2020-12-07T03:19:18\",\"2020-12-19T15:27:48\",\"2020-12-07T04:59:47\",\"2020-12-08T03:09:28\",\"2020-12-07T04:59:47\",\"2020-12-08T03:09:27\",\"2020-12-07T20:47:52\",\"2020-12-09T14:30:39\",\"2020-12-10T22:40:16\",\"2020-12-07T20:47:50\",\"2020-12-09T14:30:36\",\"2020-12-10T22:40:16\",\"2020-12-07T21:18:04\",\"2020-12-09T04:01:50\",\"2020-12-10T07:38:46\",\"2020-12-16T20:14:50\",\"2020-12-17T15:12:44\",\"2020-12-07T21:18:03\",\"2020-12-09T04:01:50\",\"2020-12-10T07:38:47\",\"2020-12-16T20:14:51\",\"2020-12-17T15:12:44\",\"2020-12-07T21:18:03\",\"2020-12-09T04:01:45\",\"2020-12-10T07:38:45\",\"2020-12-16T20:14:47\",\"2020-12-17T15:12:42\",\"2020-12-07T10:50:36\",\"2020-12-15T14:40:54\",\"2020-12-17T07:36:22\",\"2020-12-20T01:40:38\",\"2020-12-07T10:50:35\",\"2020-12-15T14:40:52\",\"2020-12-17T07:36:21\",\"2020-12-20T01:40:38\",\"2020-12-07T10:50:35\",\"2020-12-15T14:40:52\",\"2020-12-17T07:36:21\",\"2020-12-20T01:40:38\",\"2020-12-07T08:16:55\",\"2020-12-07T08:16:54\",\"2020-12-07T08:16:53\",\"2020-12-07T19:44:36\",\"2020-12-14T09:13:55\",\"2020-12-15T22:24:50\",\"2020-12-21T12:07:32\",\"2020-12-07T19:44:37\",\"2020-12-14T09:13:53\",\"2020-12-15T22:24:50\",\"2020-12-21T12:07:33\",\"2020-12-07T19:44:36\",\"2020-12-14T09:13:52\",\"2020-12-15T22:24:50\",\"2020-12-21T12:07:32\",\"2020-12-07T08:54:22\",\"2020-12-12T08:45:44\",\"2020-12-07T08:54:22\",\"2020-12-12T08:45:42\",\"2020-12-07T17:57:15\",\"2020-12-08T15:43:24\",\"2020-12-18T03:24:13\",\"2020-12-07T17:57:17\",\"2020-12-08T15:43:24\",\"2020-12-18T03:24:14\",\"2020-12-07T17:57:14\",\"2020-12-08T15:43:24\",\"2020-12-18T03:24:12\",\"2020-12-07T00:39:18\",\"2020-12-09T16:39:08\",\"2020-12-20T07:05:35\",\"2020-12-07T00:39:14\",\"2020-12-09T16:39:08\",\"2020-12-20T07:05:35\",\"2020-12-07T00:39:13\",\"2020-12-09T16:39:08\",\"2020-12-20T07:05:35\",\"2020-12-07T19:33:45\",\"2020-12-10T13:05:55\",\"2020-12-12T16:37:41\",\"2020-12-07T19:33:45\",\"2020-12-10T13:05:55\",\"2020-12-12T16:37:43\",\"2020-12-07T19:33:45\",\"2020-12-10T13:05:55\",\"2020-12-12T16:37:41\",\"2020-12-07T21:19:13\",\"2020-12-08T14:34:09\",\"2020-12-11T21:18:54\",\"2020-12-07T21:19:15\",\"2020-12-08T14:34:08\",\"2020-12-11T21:18:52\",\"2020-12-07T21:19:12\",\"2020-12-08T14:34:08\",\"2020-12-11T21:18:51\",\"2020-12-07T19:39:45\",\"2020-12-10T18:24:04\",\"2020-12-13T09:08:35\",\"2020-12-16T02:42:19\",\"2020-12-07T19:39:42\",\"2020-12-10T18:24:04\",\"2020-12-13T09:08:34\",\"2020-12-16T02:42:19\",\"2020-12-07T10:59:14\",\"2020-12-09T14:26:15\",\"2020-12-12T15:08:33\",\"2020-12-16T19:26:16\",\"2020-12-07T10:59:11\",\"2020-12-09T14:26:15\",\"2020-12-12T15:08:32\",\"2020-12-16T19:26:16\",\"2020-12-07T03:38:23\",\"2020-12-10T19:58:03\",\"2020-12-11T05:50:00\",\"2020-12-13T22:36:52\",\"2020-12-07T03:38:24\",\"2020-12-10T19:58:05\",\"2020-12-11T05:50:00\",\"2020-12-13T22:36:50\",\"2020-12-07T03:38:22\",\"2020-12-10T19:58:02\",\"2020-12-11T05:50:00\",\"2020-12-13T22:36:50\",\"2020-12-07T20:00:04\",\"2020-12-08T06:30:14\",\"2020-12-10T01:03:33\",\"2020-12-17T14:38:31\",\"2020-12-07T20:00:04\",\"2020-12-08T06:30:13\",\"2020-12-10T01:03:32\",\"2020-12-17T14:38:30\",\"2020-12-07T06:04:24\",\"2020-12-09T04:37:04\",\"2020-12-07T06:04:22\",\"2020-12-09T04:37:05\",\"2020-12-07T06:04:22\",\"2020-12-09T04:37:03\",\"2020-12-07T03:26:10\",\"2020-12-17T16:01:59\",\"2020-12-07T03:26:10\",\"2020-12-17T16:01:59\",\"2020-12-07T03:26:09\",\"2020-12-17T16:01:59\",\"2020-12-07T12:54:41\",\"2020-12-15T00:52:56\",\"2020-12-07T12:54:41\",\"2020-12-15T00:52:56\",\"2020-12-07T12:54:40\",\"2020-12-15T00:52:56\",\"2020-12-07T02:04:51\",\"2020-12-08T00:09:33\",\"2020-12-09T16:45:45\",\"2020-12-10T11:04:59\",\"2020-12-18T03:41:00\",\"2020-12-07T02:04:50\",\"2020-12-08T00:09:33\",\"2020-12-09T16:45:44\",\"2020-12-10T11:04:56\",\"2020-12-18T03:41:01\",\"2020-12-07T02:04:50\",\"2020-12-08T00:09:32\",\"2020-12-09T16:45:44\",\"2020-12-10T11:04:56\",\"2020-12-18T03:40:58\",\"2020-12-07T09:36:04\",\"2020-12-08T05:22:07\",\"2020-12-12T06:20:39\",\"2020-12-07T09:36:04\",\"2020-12-08T05:22:12\",\"2020-12-12T06:20:39\",\"2020-12-07T09:36:03\",\"2020-12-08T05:22:07\",\"2020-12-12T06:20:38\",\"2020-12-07T16:27:31\",\"2020-12-10T03:27:58\",\"2020-12-12T01:58:22\",\"2020-12-07T16:27:30\",\"2020-12-10T03:27:59\",\"2020-12-12T01:58:22\",\"2020-12-07T16:27:30\",\"2020-12-10T03:27:56\",\"2020-12-12T01:58:22\",\"2020-12-07T06:01:12\",\"2020-12-09T22:19:49\",\"2020-12-10T19:17:59\",\"2020-12-07T06:01:12\",\"2020-12-09T22:19:49\",\"2020-12-10T19:18:01\",\"2020-12-07T06:01:12\",\"2020-12-09T22:19:49\",\"2020-12-10T19:17:59\",\"2020-12-07T20:18:24\",\"2020-12-08T13:06:35\",\"2020-12-13T00:51:52\",\"2020-12-07T20:18:24\",\"2020-12-08T13:06:34\",\"2020-12-13T00:51:50\",\"2020-12-07T00:58:24\",\"2020-12-07T00:58:24\",\"2020-12-07T00:58:24\",\"2020-12-07T17:17:29\",\"2020-12-14T15:17:57\",\"2020-12-19T17:31:16\",\"2020-12-07T17:17:27\",\"2020-12-14T15:17:56\",\"2020-12-19T17:31:16\",\"2020-12-07T17:17:27\",\"2020-12-14T15:17:54\",\"2020-12-19T17:31:16\",\"2020-12-08T03:48:51\",\"2020-12-11T04:25:16\",\"2020-12-12T21:20:52\",\"2020-12-08T03:48:51\",\"2020-12-11T04:25:15\",\"2020-12-12T21:20:52\",\"2020-12-08T04:47:40\",\"2020-12-13T17:29:01\",\"2020-12-15T08:25:07\",\"2020-12-08T04:47:36\",\"2020-12-13T17:29:00\",\"2020-12-15T08:25:07\",\"2020-12-08T03:07:01\",\"2020-12-08T03:07:01\",\"2020-12-08T03:07:00\",\"2020-12-08T04:22:20\",\"2020-12-09T07:49:49\",\"2020-12-15T00:29:57\",\"2020-12-18T18:05:13\",\"2020-12-08T04:22:19\",\"2020-12-09T07:49:49\",\"2020-12-15T00:29:57\",\"2020-12-18T18:05:16\",\"2020-12-08T04:22:19\",\"2020-12-09T07:49:49\",\"2020-12-15T00:29:57\",\"2020-12-18T18:05:13\",\"2020-12-08T08:01:22\",\"2020-12-09T08:16:45\",\"2020-12-15T14:52:27\",\"2020-12-17T23:29:56\",\"2020-12-08T08:01:21\",\"2020-12-09T08:16:44\",\"2020-12-15T14:52:27\",\"2020-12-17T23:29:56\",\"2020-12-08T10:58:58\",\"2020-12-09T07:28:09\",\"2020-12-08T10:58:58\",\"2020-12-09T07:28:09\",\"2020-12-08T23:04:25\",\"2020-12-08T23:04:24\",\"2020-12-08T13:29:38\",\"2020-12-11T02:13:01\",\"2020-12-14T03:35:06\",\"2020-12-17T20:34:43\",\"2020-12-08T13:29:38\",\"2020-12-11T02:13:00\",\"2020-12-14T03:35:06\",\"2020-12-17T20:34:40\",\"2020-12-08T13:29:36\",\"2020-12-11T02:13:00\",\"2020-12-14T03:35:06\",\"2020-12-17T20:34:40\",\"2020-12-08T13:01:50\",\"2020-12-09T08:13:51\",\"2020-12-15T12:00:44\",\"2020-12-08T13:01:50\",\"2020-12-09T08:13:51\",\"2020-12-15T12:00:44\",\"2020-12-08T13:01:49\",\"2020-12-09T08:13:51\",\"2020-12-15T12:00:44\",\"2020-12-08T00:23:38\",\"2020-12-09T03:29:27\",\"2020-12-13T12:08:09\",\"2020-12-08T00:23:39\",\"2020-12-09T03:29:29\",\"2020-12-13T12:08:09\",\"2020-12-08T00:23:38\",\"2020-12-09T03:29:27\",\"2020-12-13T12:08:09\",\"2020-12-08T11:19:08\",\"2020-12-10T18:39:36\",\"2020-12-08T11:19:11\",\"2020-12-10T18:39:37\",\"2020-12-08T11:19:08\",\"2020-12-10T18:39:36\",\"2020-12-08T01:17:04\",\"2020-12-09T20:58:27\",\"2020-12-16T15:32:01\",\"2020-12-08T01:17:04\",\"2020-12-09T20:58:25\",\"2020-12-16T15:31:59\",\"2020-12-08T01:31:57\",\"2020-12-13T07:23:48\",\"2020-12-14T20:44:26\",\"2020-12-08T01:31:56\",\"2020-12-13T07:23:48\",\"2020-12-14T20:44:26\",\"2020-12-08T01:31:56\",\"2020-12-13T07:23:46\",\"2020-12-14T20:44:24\",\"2020-12-08T17:44:07\",\"2020-12-10T13:53:23\",\"2020-12-12T08:08:21\",\"2020-12-08T17:44:06\",\"2020-12-10T13:53:22\",\"2020-12-12T08:08:22\",\"2020-12-08T17:44:06\",\"2020-12-10T13:53:22\",\"2020-12-12T08:08:19\",\"2020-12-08T13:20:45\",\"2020-12-09T23:30:32\",\"2020-12-14T09:08:54\",\"2020-12-08T13:20:45\",\"2020-12-09T23:30:32\",\"2020-12-14T09:08:53\",\"2020-12-08T10:12:44\",\"2020-12-15T18:13:08\",\"2020-12-18T10:55:08\",\"2020-12-08T10:12:40\",\"2020-12-15T18:13:08\",\"2020-12-18T10:55:10\",\"2020-12-08T10:12:40\",\"2020-12-15T18:13:06\",\"2020-12-18T10:55:08\",\"2020-12-08T04:26:38\",\"2020-12-17T20:44:21\",\"2020-12-08T04:26:38\",\"2020-12-17T20:44:25\",\"2020-12-08T04:26:38\",\"2020-12-17T20:44:20\",\"2020-12-08T02:03:39\",\"2020-12-09T23:07:45\",\"2020-12-10T06:49:13\",\"2020-12-22T18:30:02\",\"2020-12-08T02:03:37\",\"2020-12-09T23:07:48\",\"2020-12-10T06:49:13\",\"2020-12-22T18:30:02\",\"2020-12-08T02:03:37\",\"2020-12-09T23:07:45\",\"2020-12-10T06:49:12\",\"2020-12-22T18:30:02\",\"2020-12-08T06:07:19\",\"2020-12-10T11:16:49\",\"2020-12-14T09:41:22\",\"2020-12-08T06:07:18\",\"2020-12-10T11:16:48\",\"2020-12-14T09:41:22\",\"2020-12-08T06:07:17\",\"2020-12-10T11:16:48\",\"2020-12-14T09:41:20\",\"2020-12-08T13:18:08\",\"2020-12-09T20:43:17\",\"2020-12-10T14:54:17\",\"2020-12-12T14:05:59\",\"2020-12-08T13:18:08\",\"2020-12-09T20:43:17\",\"2020-12-10T14:54:17\",\"2020-12-12T14:05:59\",\"2020-12-08T13:18:07\",\"2020-12-09T20:43:17\",\"2020-12-10T14:54:15\",\"2020-12-12T14:05:59\",\"2020-12-09T06:24:32\",\"2020-12-15T17:29:41\",\"2020-12-19T16:35:57\",\"2020-12-21T03:33:50\",\"2020-12-09T06:24:29\",\"2020-12-15T17:29:40\",\"2020-12-19T16:35:54\",\"2020-12-21T03:33:49\",\"2020-12-09T14:47:02\",\"2020-12-17T09:54:11\",\"2020-12-09T14:47:03\",\"2020-12-17T09:54:11\",\"2020-12-09T14:47:01\",\"2020-12-17T09:54:10\",\"2020-12-09T00:17:49\",\"2020-12-10T13:28:47\",\"2020-12-17T12:51:07\",\"2020-12-20T18:20:06\",\"2020-12-09T00:17:49\",\"2020-12-10T13:28:47\",\"2020-12-17T12:51:07\",\"2020-12-20T18:20:05\",\"2020-12-09T08:57:46\",\"2020-12-10T02:11:10\",\"2020-12-16T14:59:33\",\"2020-12-22T21:54:16\",\"2020-12-09T08:57:46\",\"2020-12-10T02:11:09\",\"2020-12-16T14:59:36\",\"2020-12-22T21:54:16\",\"2020-12-09T08:57:45\",\"2020-12-10T02:11:09\",\"2020-12-16T14:59:33\",\"2020-12-22T21:54:16\",\"2020-12-09T19:06:48\",\"2020-12-13T18:40:46\",\"2020-12-09T19:06:48\",\"2020-12-13T18:40:45\",\"2020-12-09T06:14:03\",\"2020-12-10T16:37:26\",\"2020-12-11T05:45:57\",\"2020-12-14T11:37:33\",\"2020-12-09T06:14:02\",\"2020-12-10T16:37:24\",\"2020-12-11T05:45:55\",\"2020-12-14T11:37:33\",\"2020-12-09T02:16:56\",\"2020-12-17T05:46:34\",\"2020-12-09T02:16:59\",\"2020-12-17T05:46:34\",\"2020-12-09T02:16:56\",\"2020-12-17T05:46:34\",\"2020-12-09T05:24:46\",\"2020-12-10T10:13:10\",\"2020-12-11T02:00:10\",\"2020-12-14T04:22:01\",\"2020-12-20T03:32:23\",\"2020-12-09T05:24:48\",\"2020-12-10T10:13:07\",\"2020-12-11T02:00:09\",\"2020-12-14T04:22:01\",\"2020-12-20T03:32:23\",\"2020-12-09T05:24:46\",\"2020-12-10T10:13:07\",\"2020-12-11T02:00:09\",\"2020-12-14T04:22:01\",\"2020-12-20T03:32:23\",\"2020-12-09T12:34:33\",\"2020-12-22T16:31:33\",\"2020-12-09T12:34:31\",\"2020-12-22T16:31:31\",\"2020-12-09T19:27:07\",\"2020-12-11T04:56:25\",\"2020-12-20T00:12:24\",\"2020-12-09T19:27:07\",\"2020-12-11T04:56:25\",\"2020-12-20T00:12:23\",\"2020-12-09T10:43:16\",\"2020-12-10T13:36:49\",\"2020-12-09T10:43:13\",\"2020-12-10T13:36:48\",\"2020-12-09T18:42:16\",\"2020-12-10T00:05:11\",\"2020-12-17T05:21:08\",\"2020-12-09T18:42:17\",\"2020-12-10T00:05:11\",\"2020-12-17T05:21:10\",\"2020-12-09T18:42:15\",\"2020-12-10T00:05:11\",\"2020-12-17T05:21:07\",\"2020-12-09T07:38:09\",\"2020-12-15T07:08:50\",\"2020-12-09T07:38:08\",\"2020-12-15T07:08:50\",\"2020-12-09T08:49:30\",\"2020-12-11T03:25:09\",\"2020-12-09T08:49:30\",\"2020-12-11T03:25:09\",\"2020-12-09T08:49:30\",\"2020-12-11T03:25:08\",\"2020-12-09T14:12:14\",\"2020-12-10T14:43:26\",\"2020-12-18T05:32:38\",\"2020-12-09T14:12:14\",\"2020-12-10T14:43:26\",\"2020-12-18T05:32:38\",\"2020-12-09T14:12:14\",\"2020-12-10T14:43:26\",\"2020-12-18T05:32:38\",\"2020-12-09T06:20:05\",\"2020-12-10T21:03:24\",\"2020-12-11T07:25:16\",\"2020-12-12T18:23:56\",\"2020-12-09T06:20:05\",\"2020-12-10T21:03:23\",\"2020-12-11T07:25:16\",\"2020-12-12T18:23:55\",\"2020-12-09T06:20:05\",\"2020-12-10T21:03:22\",\"2020-12-11T07:25:16\",\"2020-12-12T18:23:55\",\"2020-12-09T04:44:58\",\"2020-12-10T14:54:17\",\"2020-12-12T08:03:00\",\"2020-12-13T01:22:16\",\"2020-12-19T09:02:31\",\"2020-12-23T22:32:23\",\"2020-12-09T04:44:59\",\"2020-12-10T14:54:17\",\"2020-12-12T08:03:00\",\"2020-12-13T01:22:16\",\"2020-12-19T09:02:30\",\"2020-12-23T22:32:25\",\"2020-12-09T04:44:58\",\"2020-12-10T14:54:17\",\"2020-12-12T08:02:57\",\"2020-12-13T01:22:15\",\"2020-12-19T09:02:30\",\"2020-12-23T22:32:23\",\"2020-12-09T09:10:17\",\"2020-12-11T23:44:11\",\"2020-12-12T10:20:37\",\"2020-12-17T08:58:17\",\"2020-12-23T15:52:10\",\"2020-12-09T09:10:17\",\"2020-12-11T23:44:09\",\"2020-12-12T10:20:36\",\"2020-12-17T08:58:15\",\"2020-12-23T15:52:10\",\"2020-12-09T12:28:19\",\"2020-12-10T14:51:46\",\"2020-12-17T16:11:37\",\"2020-12-09T12:28:18\",\"2020-12-10T14:51:47\",\"2020-12-17T16:11:38\",\"2020-12-09T12:28:18\",\"2020-12-10T14:51:46\",\"2020-12-17T16:11:34\",\"2020-12-09T20:00:00\",\"2020-12-12T10:05:31\",\"2020-12-14T06:31:38\",\"2020-12-09T20:00:00\",\"2020-12-12T10:05:28\",\"2020-12-14T06:31:38\",\"2020-12-09T16:50:27\",\"2020-12-11T23:55:52\",\"2020-12-09T16:50:29\",\"2020-12-11T23:55:52\",\"2020-12-09T16:50:27\",\"2020-12-11T23:55:51\",\"2020-12-10T21:58:31\",\"2020-12-11T02:31:42\",\"2020-12-10T21:58:32\",\"2020-12-11T02:31:43\",\"2020-12-10T21:58:31\",\"2020-12-11T02:31:40\",\"2020-12-10T13:38:46\",\"2020-12-17T16:28:37\",\"2020-12-10T13:38:45\",\"2020-12-17T16:28:37\",\"2020-12-10T13:38:45\",\"2020-12-17T16:28:36\",\"2020-12-10T15:58:53\",\"2020-12-12T18:29:03\",\"2020-12-16T21:09:24\",\"2020-12-19T11:15:24\",\"2020-12-10T15:58:52\",\"2020-12-12T18:29:03\",\"2020-12-16T21:09:26\",\"2020-12-19T11:15:24\",\"2020-12-10T15:58:52\",\"2020-12-12T18:29:03\",\"2020-12-16T21:09:23\",\"2020-12-19T11:15:24\",\"2020-12-10T10:50:36\",\"2020-12-17T02:14:36\",\"2020-12-19T14:10:12\",\"2020-12-10T10:50:36\",\"2020-12-17T02:14:36\",\"2020-12-19T14:10:12\",\"2020-12-10T13:59:14\",\"2020-12-10T13:59:13\",\"2020-12-10T13:59:12\",\"2020-12-10T09:48:45\",\"2020-12-11T09:21:58\",\"2020-12-10T09:48:45\",\"2020-12-11T09:21:56\",\"2020-12-10T01:45:08\",\"2020-12-11T08:29:29\",\"2020-12-12T18:32:30\",\"2020-12-10T01:45:07\",\"2020-12-11T08:29:29\",\"2020-12-12T18:32:27\",\"2020-12-10T18:01:41\",\"2020-12-13T11:09:38\",\"2020-12-17T19:21:45\",\"2020-12-10T18:01:41\",\"2020-12-13T11:09:38\",\"2020-12-17T19:21:45\",\"2020-12-10T18:01:41\",\"2020-12-13T11:09:38\",\"2020-12-17T19:21:45\",\"2020-12-10T18:44:51\",\"2020-12-10T18:44:51\",\"2020-12-10T18:44:51\",\"2020-12-10T11:17:49\",\"2020-12-19T15:47:00\",\"2020-12-21T22:47:56\",\"2020-12-23T20:45:47\",\"2020-12-10T11:17:47\",\"2020-12-19T15:47:00\",\"2020-12-21T22:47:51\",\"2020-12-23T20:45:45\",\"2020-12-11T19:56:00\",\"2020-12-12T08:34:37\",\"2020-12-11T19:56:00\",\"2020-12-12T08:34:35\",\"2020-12-11T11:20:48\",\"2020-12-12T08:24:15\",\"2020-12-24T22:15:42\",\"2020-12-11T11:20:49\",\"2020-12-12T08:24:16\",\"2020-12-24T22:15:42\",\"2020-12-11T11:20:48\",\"2020-12-12T08:24:15\",\"2020-12-24T22:15:42\",\"2020-12-11T14:11:13\",\"2020-12-13T13:55:14\",\"2020-12-11T14:11:13\",\"2020-12-13T13:55:13\",\"2020-12-11T14:11:12\",\"2020-12-13T13:55:12\",\"2020-12-11T12:42:55\",\"2020-12-12T16:34:47\",\"2020-12-17T05:06:53\",\"2020-12-11T12:42:53\",\"2020-12-12T16:34:46\",\"2020-12-17T05:06:53\",\"2020-12-11T00:52:40\",\"2020-12-13T05:10:51\",\"2020-12-18T12:09:48\",\"2020-12-11T00:52:39\",\"2020-12-13T05:10:53\",\"2020-12-18T12:09:49\",\"2020-12-11T00:52:39\",\"2020-12-13T05:10:50\",\"2020-12-18T12:09:45\",\"2020-12-11T23:43:30\",\"2020-12-12T02:30:00\",\"2020-12-14T15:35:03\",\"2020-12-17T07:43:17\",\"2020-12-11T23:43:28\",\"2020-12-12T02:29:59\",\"2020-12-14T15:35:02\",\"2020-12-17T07:43:15\",\"2020-12-11T08:21:26\",\"2020-12-12T09:53:52\",\"2020-12-13T10:37:33\",\"2020-12-14T08:30:24\",\"2020-12-11T08:21:25\",\"2020-12-12T09:53:52\",\"2020-12-13T10:37:30\",\"2020-12-14T08:30:22\",\"2020-12-11T18:45:52\",\"2020-12-12T13:49:34\",\"2020-12-14T08:29:24\",\"2020-12-24T14:58:19\",\"2020-12-11T18:45:52\",\"2020-12-12T13:49:32\",\"2020-12-14T08:29:24\",\"2020-12-24T14:58:17\",\"2020-12-11T07:10:14\",\"2020-12-12T00:58:11\",\"2020-12-14T19:29:29\",\"2020-12-20T20:16:54\",\"2020-12-11T07:10:14\",\"2020-12-12T00:58:11\",\"2020-12-14T19:29:28\",\"2020-12-20T20:16:54\",\"2020-12-11T08:42:12\",\"2020-12-12T01:40:13\",\"2020-12-14T16:36:07\",\"2020-12-11T08:42:12\",\"2020-12-12T01:40:15\",\"2020-12-14T16:36:06\",\"2020-12-11T08:42:12\",\"2020-12-12T01:40:13\",\"2020-12-14T16:36:05\",\"2020-12-11T15:23:23\",\"2020-12-13T17:59:04\",\"2020-12-15T01:36:19\",\"2020-12-17T12:36:04\",\"2020-12-11T15:23:22\",\"2020-12-13T17:59:04\",\"2020-12-15T01:36:17\",\"2020-12-17T12:36:03\",\"2020-12-11T13:25:06\",\"2020-12-20T10:11:52\",\"2020-12-11T13:25:05\",\"2020-12-20T10:11:52\",\"2020-12-11T13:25:04\",\"2020-12-20T10:11:52\",\"2020-12-11T19:19:55\",\"2020-12-12T12:21:20\",\"2020-12-13T01:40:23\",\"2020-12-11T19:19:51\",\"2020-12-12T12:21:19\",\"2020-12-13T01:40:22\",\"2020-12-11T08:30:57\",\"2020-12-11T08:30:55\",\"2020-12-11T02:09:11\",\"2020-12-12T22:30:52\",\"2020-12-16T08:08:09\",\"2020-12-18T20:06:55\",\"2020-12-19T18:10:25\",\"2020-12-23T17:12:33\",\"2020-12-11T02:09:13\",\"2020-12-12T22:30:53\",\"2020-12-16T08:08:08\",\"2020-12-18T20:06:55\",\"2020-12-19T18:10:25\",\"2020-12-23T17:12:32\",\"2020-12-11T02:09:11\",\"2020-12-12T22:30:50\",\"2020-12-16T08:08:07\",\"2020-12-18T20:06:54\",\"2020-12-19T18:10:25\",\"2020-12-23T17:12:30\",\"2020-12-11T18:14:50\",\"2020-12-12T07:58:37\",\"2020-12-15T11:03:52\",\"2020-12-11T18:14:50\",\"2020-12-12T07:58:38\",\"2020-12-15T11:03:51\",\"2020-12-11T18:14:48\",\"2020-12-12T07:58:37\",\"2020-12-15T11:03:51\",\"2020-12-11T22:20:25\",\"2020-12-13T23:18:06\",\"2020-12-17T20:28:23\",\"2020-12-11T22:20:24\",\"2020-12-13T23:18:06\",\"2020-12-17T20:28:23\",\"2020-12-11T05:06:56\",\"2020-12-12T00:11:44\",\"2020-12-11T05:06:55\",\"2020-12-12T00:11:43\",\"2020-12-11T15:15:52\",\"2020-12-12T22:06:17\",\"2020-12-15T11:51:18\",\"2020-12-16T09:59:45\",\"2020-12-23T14:57:20\",\"2020-12-11T15:15:52\",\"2020-12-12T22:06:19\",\"2020-12-15T11:51:17\",\"2020-12-16T09:59:43\",\"2020-12-23T14:57:18\",\"2020-12-11T15:15:52\",\"2020-12-12T22:06:17\",\"2020-12-15T11:51:17\",\"2020-12-16T09:59:43\",\"2020-12-23T14:57:18\",\"2020-12-11T13:08:06\",\"2020-12-12T21:20:04\",\"2020-12-13T06:00:30\",\"2020-12-11T13:08:04\",\"2020-12-12T21:20:05\",\"2020-12-13T06:00:30\",\"2020-12-11T13:08:04\",\"2020-12-12T21:20:04\",\"2020-12-13T06:00:30\",\"2020-12-12T12:41:30\",\"2020-12-14T21:12:30\",\"2020-12-16T21:06:31\",\"2020-12-12T12:41:29\",\"2020-12-14T21:12:29\",\"2020-12-16T21:06:30\",\"2020-12-12T21:35:24\",\"2020-12-13T06:55:20\",\"2020-12-16T06:13:55\",\"2020-12-17T08:34:03\",\"2020-12-12T21:35:25\",\"2020-12-13T06:55:22\",\"2020-12-16T06:13:54\",\"2020-12-17T08:34:03\",\"2020-12-12T21:35:24\",\"2020-12-13T06:55:20\",\"2020-12-16T06:13:50\",\"2020-12-17T08:34:03\",\"2020-12-12T22:18:00\",\"2020-12-13T15:46:24\",\"2020-12-16T02:46:32\",\"2020-12-18T19:30:15\",\"2020-12-21T00:23:08\",\"2020-12-12T22:17:59\",\"2020-12-13T15:46:24\",\"2020-12-16T02:46:32\",\"2020-12-18T19:30:14\",\"2020-12-21T00:23:08\",\"2020-12-12T01:28:50\",\"2020-12-14T19:56:08\",\"2020-12-15T23:37:43\",\"2020-12-24T14:56:31\",\"2020-12-12T01:28:50\",\"2020-12-14T19:56:08\",\"2020-12-15T23:37:43\",\"2020-12-24T14:56:31\",\"2020-12-12T01:28:49\",\"2020-12-14T19:56:06\",\"2020-12-15T23:37:42\",\"2020-12-24T14:56:31\",\"2020-12-12T19:20:54\",\"2020-12-17T18:06:26\",\"2020-12-21T02:32:39\",\"2020-12-26T00:29:08\",\"2020-12-12T19:20:52\",\"2020-12-17T18:06:26\",\"2020-12-21T02:32:38\",\"2020-12-26T00:29:06\",\"2020-12-12T03:38:10\",\"2020-12-12T03:38:09\",\"2020-12-12T13:14:38\",\"2020-12-14T13:26:01\",\"2020-12-19T12:39:05\",\"2020-12-12T13:14:39\",\"2020-12-14T13:26:01\",\"2020-12-19T12:39:07\",\"2020-12-12T13:14:37\",\"2020-12-14T13:26:00\",\"2020-12-19T12:39:05\",\"2020-12-12T08:03:52\",\"2020-12-22T15:29:18\",\"2020-12-12T08:03:55\",\"2020-12-22T15:29:18\",\"2020-12-12T08:03:52\",\"2020-12-22T15:29:17\",\"2020-12-12T21:19:47\",\"2020-12-12T21:19:47\",\"2020-12-12T21:19:47\",\"2020-12-13T07:12:02\",\"2020-12-13T07:12:02\",\"2020-12-13T07:12:01\",\"2020-12-13T21:57:23\",\"2020-12-14T03:23:22\",\"2020-12-23T14:52:33\",\"2020-12-13T21:57:23\",\"2020-12-14T03:23:21\",\"2020-12-23T14:52:32\",\"2020-12-13T01:49:30\",\"2020-12-13T01:49:28\",\"2020-12-13T01:49:27\",\"2020-12-13T22:06:49\",\"2020-12-20T14:22:47\",\"2020-12-13T22:06:49\",\"2020-12-20T14:22:47\",\"2020-12-13T22:06:49\",\"2020-12-20T14:22:46\",\"2020-12-13T22:02:06\",\"2020-12-14T12:32:13\",\"2020-12-13T22:02:05\",\"2020-12-14T12:32:13\",\"2020-12-13T20:02:48\",\"2020-12-15T16:15:00\",\"2020-12-13T20:02:50\",\"2020-12-15T16:15:01\",\"2020-12-13T20:02:45\",\"2020-12-15T16:15:00\",\"2020-12-14T05:48:50\",\"2020-12-15T20:10:05\",\"2020-12-20T20:01:34\",\"2020-12-14T05:48:51\",\"2020-12-15T20:10:06\",\"2020-12-20T20:01:34\",\"2020-12-14T05:48:50\",\"2020-12-15T20:10:03\",\"2020-12-20T20:01:32\",\"2020-12-14T19:43:34\",\"2020-12-15T09:32:11\",\"2020-12-17T04:06:26\",\"2020-12-22T23:04:31\",\"2020-12-14T19:43:33\",\"2020-12-15T09:32:10\",\"2020-12-17T04:06:28\",\"2020-12-22T23:04:31\",\"2020-12-14T19:43:32\",\"2020-12-15T09:32:10\",\"2020-12-17T04:06:26\",\"2020-12-22T23:04:30\",\"2020-12-14T06:12:21\",\"2020-12-15T07:03:34\",\"2020-12-16T02:34:06\",\"2020-12-17T11:49:39\",\"2020-12-14T06:12:22\",\"2020-12-15T07:03:34\",\"2020-12-16T02:34:06\",\"2020-12-17T11:49:38\",\"2020-12-14T06:12:20\",\"2020-12-15T07:03:34\",\"2020-12-16T02:34:02\",\"2020-12-17T11:49:37\",\"2020-12-14T22:47:31\",\"2020-12-15T02:30:10\",\"2020-12-25T22:09:12\",\"2020-12-27T21:13:29\",\"2020-12-14T22:47:31\",\"2020-12-15T02:30:11\",\"2020-12-25T22:09:11\",\"2020-12-27T21:13:28\",\"2020-12-14T22:47:28\",\"2020-12-15T02:30:10\",\"2020-12-25T22:09:10\",\"2020-12-27T21:13:28\",\"2020-12-14T15:01:53\",\"2020-12-15T14:22:51\",\"2020-12-16T22:14:22\",\"2020-12-21T16:12:19\",\"2020-12-14T15:01:53\",\"2020-12-15T14:22:51\",\"2020-12-16T22:14:21\",\"2020-12-21T16:12:19\",\"2020-12-14T15:01:53\",\"2020-12-15T14:22:50\",\"2020-12-16T22:14:21\",\"2020-12-21T16:12:18\",\"2020-12-14T21:51:06\",\"2020-12-15T04:01:59\",\"2020-12-16T10:51:18\",\"2020-12-14T21:51:06\",\"2020-12-15T04:01:59\",\"2020-12-16T10:51:17\",\"2020-12-14T21:51:06\",\"2020-12-15T04:01:59\",\"2020-12-16T10:51:17\",\"2020-12-14T08:54:03\",\"2020-12-28T04:20:27\",\"2020-12-14T08:54:04\",\"2020-12-28T04:20:29\",\"2020-12-14T08:54:03\",\"2020-12-28T04:20:27\",\"2020-12-14T07:11:24\",\"2020-12-17T03:20:23\",\"2020-12-23T10:16:59\",\"2020-12-14T07:11:23\",\"2020-12-17T03:20:24\",\"2020-12-23T10:16:58\",\"2020-12-14T07:11:23\",\"2020-12-17T03:20:23\",\"2020-12-23T10:16:54\",\"2020-12-14T00:47:27\",\"2020-12-18T17:29:27\",\"2020-12-14T00:47:27\",\"2020-12-18T17:29:28\",\"2020-12-14T00:47:27\",\"2020-12-18T17:29:25\",\"2020-12-14T23:51:12\",\"2020-12-15T04:11:26\",\"2020-12-14T23:51:11\",\"2020-12-15T04:11:26\",\"2020-12-14T05:11:03\",\"2020-12-19T04:10:40\",\"2020-12-14T05:11:03\",\"2020-12-19T04:10:40\",\"2020-12-14T05:11:03\",\"2020-12-19T04:10:40\",\"2020-12-14T20:40:36\",\"2020-12-15T23:05:13\",\"2020-12-14T20:40:33\",\"2020-12-15T23:05:12\",\"2020-12-14T10:48:22\",\"2020-12-17T19:18:10\",\"2020-12-22T09:59:09\",\"2020-12-14T10:48:22\",\"2020-12-17T19:18:09\",\"2020-12-22T09:59:09\",\"2020-12-14T06:11:25\",\"2020-12-15T06:34:02\",\"2020-12-17T02:33:36\",\"2020-12-14T06:11:25\",\"2020-12-15T06:34:03\",\"2020-12-17T02:33:34\",\"2020-12-14T06:11:24\",\"2020-12-15T06:34:02\",\"2020-12-17T02:33:34\",\"2020-12-14T20:27:36\",\"2020-12-15T18:31:25\",\"2020-12-17T09:00:04\",\"2020-12-19T08:27:58\",\"2020-12-14T20:27:35\",\"2020-12-15T18:31:22\",\"2020-12-17T09:00:02\",\"2020-12-19T08:27:57\",\"2020-12-14T10:46:16\",\"2020-12-15T05:30:15\",\"2020-12-14T10:46:16\",\"2020-12-15T05:30:15\",\"2020-12-14T05:33:01\",\"2020-12-15T18:04:13\",\"2020-12-16T22:46:14\",\"2020-12-22T03:16:20\",\"2020-12-14T05:33:00\",\"2020-12-15T18:04:11\",\"2020-12-16T22:46:14\",\"2020-12-22T03:16:18\",\"2020-12-14T06:17:33\",\"2020-12-19T22:07:05\",\"2020-12-20T23:23:43\",\"2020-12-14T06:17:30\",\"2020-12-19T22:07:05\",\"2020-12-20T23:23:42\",\"2020-12-14T18:44:57\",\"2020-12-16T15:25:51\",\"2020-12-20T18:42:50\",\"2020-12-22T11:12:50\",\"2020-12-14T18:44:56\",\"2020-12-16T15:25:49\",\"2020-12-20T18:42:49\",\"2020-12-22T11:12:50\",\"2020-12-14T22:39:39\",\"2020-12-16T22:55:38\",\"2020-12-17T01:42:01\",\"2020-12-18T05:53:03\",\"2020-12-14T22:39:38\",\"2020-12-16T22:55:39\",\"2020-12-17T01:42:01\",\"2020-12-18T05:53:03\",\"2020-12-14T22:39:38\",\"2020-12-16T22:55:38\",\"2020-12-17T01:42:00\",\"2020-12-18T05:53:02\",\"2020-12-14T11:19:33\",\"2020-12-15T16:28:41\",\"2020-12-17T01:50:23\",\"2020-12-18T18:44:30\",\"2020-12-25T07:24:39\",\"2020-12-14T11:19:33\",\"2020-12-15T16:28:41\",\"2020-12-17T01:50:24\",\"2020-12-18T18:44:29\",\"2020-12-25T07:24:43\",\"2020-12-14T11:19:33\",\"2020-12-15T16:28:41\",\"2020-12-17T01:50:23\",\"2020-12-18T18:44:29\",\"2020-12-25T07:24:39\",\"2020-12-14T08:29:56\",\"2020-12-15T17:52:30\",\"2020-12-16T17:26:17\",\"2020-12-18T20:41:32\",\"2020-12-19T23:03:53\",\"2020-12-20T15:40:47\",\"2020-12-28T23:22:32\",\"2020-12-14T08:29:56\",\"2020-12-15T17:52:27\",\"2020-12-16T17:26:15\",\"2020-12-18T20:41:31\",\"2020-12-19T23:03:55\",\"2020-12-20T15:40:50\",\"2020-12-28T23:22:32\",\"2020-12-14T08:29:55\",\"2020-12-15T17:52:27\",\"2020-12-16T17:26:15\",\"2020-12-18T20:41:31\",\"2020-12-19T23:03:52\",\"2020-12-20T15:40:47\",\"2020-12-28T23:22:32\",\"2020-12-14T12:08:08\",\"2020-12-16T09:50:10\",\"2020-12-17T09:01:57\",\"2020-12-26T01:21:20\",\"2020-12-14T12:08:08\",\"2020-12-16T09:50:10\",\"2020-12-17T09:01:56\",\"2020-12-26T01:21:19\",\"2020-12-14T12:08:08\",\"2020-12-16T09:50:08\",\"2020-12-17T09:01:55\",\"2020-12-26T01:21:18\",\"2020-12-14T09:24:59\",\"2020-12-15T15:10:51\",\"2020-12-22T19:53:16\",\"2020-12-14T09:24:58\",\"2020-12-15T15:10:53\",\"2020-12-22T19:53:17\",\"2020-12-14T09:24:58\",\"2020-12-15T15:10:51\",\"2020-12-22T19:53:16\",\"2020-12-14T19:44:53\",\"2020-12-14T19:44:52\",\"2020-12-14T01:25:26\",\"2020-12-24T10:45:01\",\"2020-12-14T01:25:25\",\"2020-12-24T10:44:59\",\"2020-12-14T02:25:14\",\"2020-12-17T19:51:54\",\"2020-12-26T09:35:49\",\"2020-12-14T02:25:14\",\"2020-12-17T19:51:54\",\"2020-12-26T09:35:48\",\"2020-12-14T07:29:19\",\"2020-12-22T11:12:02\",\"2020-12-14T07:29:20\",\"2020-12-22T11:12:02\",\"2020-12-14T07:29:19\",\"2020-12-22T11:12:01\",\"2020-12-14T08:40:03\",\"2020-12-15T22:19:16\",\"2020-12-27T03:32:49\",\"2020-12-14T08:40:01\",\"2020-12-15T22:19:15\",\"2020-12-27T03:32:49\",\"2020-12-14T08:40:01\",\"2020-12-15T22:19:15\",\"2020-12-27T03:32:49\",\"2020-12-14T08:37:50\",\"2020-12-15T14:30:23\",\"2020-12-16T07:47:35\",\"2020-12-23T19:48:28\",\"2020-12-14T08:37:50\",\"2020-12-15T14:30:22\",\"2020-12-16T07:47:34\",\"2020-12-23T19:48:28\",\"2020-12-14T08:37:49\",\"2020-12-15T14:30:21\",\"2020-12-16T07:47:34\",\"2020-12-23T19:48:28\",\"2020-12-14T13:53:06\",\"2020-12-25T06:36:16\",\"2020-12-28T05:48:23\",\"2020-12-14T13:53:08\",\"2020-12-25T06:36:15\",\"2020-12-28T05:48:23\",\"2020-12-14T13:53:05\",\"2020-12-25T06:36:15\",\"2020-12-28T05:48:23\",\"2020-12-14T15:36:27\",\"2020-12-24T04:55:09\",\"2020-12-14T15:36:25\",\"2020-12-24T04:55:08\",\"2020-12-14T01:47:04\",\"2020-12-16T21:55:38\",\"2020-12-17T13:24:17\",\"2020-12-22T20:51:41\",\"2020-12-23T22:03:28\",\"2020-12-14T01:47:04\",\"2020-12-16T21:55:39\",\"2020-12-17T13:24:16\",\"2020-12-22T20:51:39\",\"2020-12-23T22:03:28\",\"2020-12-14T01:47:03\",\"2020-12-16T21:55:36\",\"2020-12-17T13:24:16\",\"2020-12-22T20:51:39\",\"2020-12-23T22:03:28\",\"2020-12-14T12:41:20\",\"2020-12-16T07:52:17\",\"2020-12-27T02:28:23\",\"2020-12-14T12:41:18\",\"2020-12-16T07:52:17\",\"2020-12-27T02:28:20\",\"2020-12-14T03:00:50\",\"2020-12-16T18:48:28\",\"2020-12-17T02:32:35\",\"2020-12-27T19:49:27\",\"2020-12-14T03:00:50\",\"2020-12-16T18:48:27\",\"2020-12-17T02:32:34\",\"2020-12-27T19:49:28\",\"2020-12-14T03:00:50\",\"2020-12-16T18:48:27\",\"2020-12-17T02:32:34\",\"2020-12-27T19:49:26\",\"2020-12-14T12:57:17\",\"2020-12-15T01:25:09\",\"2020-12-18T02:37:00\",\"2020-12-19T12:35:51\",\"2020-12-24T18:50:23\",\"2020-12-28T13:42:00\",\"2020-12-14T12:57:17\",\"2020-12-15T01:25:08\",\"2020-12-18T02:36:57\",\"2020-12-19T12:35:51\",\"2020-12-24T18:50:23\",\"2020-12-28T13:41:59\",\"2020-12-14T20:07:08\",\"2020-12-15T11:38:44\",\"2020-12-23T08:17:22\",\"2020-12-14T20:07:08\",\"2020-12-15T11:38:43\",\"2020-12-23T08:17:22\",\"2020-12-14T05:28:41\",\"2020-12-16T06:37:06\",\"2020-12-17T06:23:37\",\"2020-12-20T22:13:05\",\"2020-12-27T01:31:42\",\"2020-12-14T05:28:40\",\"2020-12-16T06:37:08\",\"2020-12-17T06:23:38\",\"2020-12-20T22:13:05\",\"2020-12-27T01:31:43\",\"2020-12-14T05:28:40\",\"2020-12-16T06:37:05\",\"2020-12-17T06:23:35\",\"2020-12-20T22:13:05\",\"2020-12-27T01:31:42\",\"2020-12-14T23:59:29\",\"2020-12-19T02:27:34\",\"2020-12-22T01:58:20\",\"2020-12-14T23:59:29\",\"2020-12-19T02:27:36\",\"2020-12-22T01:58:20\",\"2020-12-14T23:59:27\",\"2020-12-19T02:27:34\",\"2020-12-22T01:58:18\",\"2020-12-14T15:40:32\",\"2020-12-15T02:41:54\",\"2020-12-18T08:17:47\",\"2020-12-21T05:27:49\",\"2020-12-14T15:40:33\",\"2020-12-15T02:41:54\",\"2020-12-18T08:17:47\",\"2020-12-21T05:27:49\",\"2020-12-14T15:40:32\",\"2020-12-15T02:41:53\",\"2020-12-18T08:17:47\",\"2020-12-21T05:27:48\",\"2020-12-14T01:41:41\",\"2020-12-18T12:38:41\",\"2020-12-19T23:09:12\",\"2020-12-14T01:41:43\",\"2020-12-18T12:38:45\",\"2020-12-19T23:09:11\",\"2020-12-14T01:41:40\",\"2020-12-18T12:38:41\",\"2020-12-19T23:09:10\",\"2020-12-14T23:53:01\",\"2020-12-20T02:32:03\",\"2020-12-28T15:41:33\",\"2020-12-14T23:53:01\",\"2020-12-20T02:32:04\",\"2020-12-28T15:41:33\",\"2020-12-14T23:52:58\",\"2020-12-20T02:32:03\",\"2020-12-28T15:41:32\",\"2020-12-14T02:47:59\",\"2020-12-18T05:48:11\",\"2020-12-22T08:40:43\",\"2020-12-14T02:47:59\",\"2020-12-18T05:48:08\",\"2020-12-22T08:40:44\",\"2020-12-14T02:47:59\",\"2020-12-18T05:48:08\",\"2020-12-22T08:40:43\",\"2020-12-14T16:21:51\",\"2020-12-15T06:18:29\",\"2020-12-24T11:53:46\",\"2020-12-14T16:21:50\",\"2020-12-15T06:18:31\",\"2020-12-24T11:53:44\",\"2020-12-14T16:21:50\",\"2020-12-15T06:18:29\",\"2020-12-24T11:53:43\",\"2020-12-14T07:27:24\",\"2020-12-15T09:45:26\",\"2020-12-17T20:01:42\",\"2020-12-19T23:31:17\",\"2020-12-24T10:24:48\",\"2020-12-14T07:27:24\",\"2020-12-15T09:45:28\",\"2020-12-17T20:01:40\",\"2020-12-19T23:31:17\",\"2020-12-24T10:24:47\",\"2020-12-14T07:27:24\",\"2020-12-15T09:45:25\",\"2020-12-17T20:01:40\",\"2020-12-19T23:31:17\",\"2020-12-24T10:24:47\",\"2020-12-14T19:51:44\",\"2020-12-20T21:00:03\",\"2020-12-23T20:19:22\",\"2020-12-27T09:56:49\",\"2020-12-14T19:51:43\",\"2020-12-20T21:00:03\",\"2020-12-23T20:19:21\",\"2020-12-27T09:56:48\",\"2020-12-14T19:51:43\",\"2020-12-20T21:00:03\",\"2020-12-23T20:19:21\",\"2020-12-27T09:56:48\",\"2020-12-14T09:22:30\",\"2020-12-15T22:57:00\",\"2020-12-17T14:17:50\",\"2020-12-21T17:56:19\",\"2020-12-22T04:57:51\",\"2020-12-14T09:22:30\",\"2020-12-15T22:57:00\",\"2020-12-17T14:17:51\",\"2020-12-21T17:56:17\",\"2020-12-22T04:57:52\",\"2020-12-14T09:22:29\",\"2020-12-15T22:57:00\",\"2020-12-17T14:17:49\",\"2020-12-21T17:56:17\",\"2020-12-22T04:57:50\",\"2020-12-14T14:00:32\",\"2020-12-15T04:16:14\",\"2020-12-17T23:23:26\",\"2020-12-20T18:20:27\",\"2020-12-22T18:44:18\",\"2020-12-14T14:00:32\",\"2020-12-15T04:16:14\",\"2020-12-17T23:23:26\",\"2020-12-20T18:20:26\",\"2020-12-22T18:44:15\",\"2020-12-14T21:55:11\",\"2020-12-14T21:55:13\",\"2020-12-14T21:55:09\",\"2020-12-14T19:20:14\",\"2020-12-15T23:27:16\",\"2020-12-17T12:11:29\",\"2020-12-22T00:06:05\",\"2020-12-25T09:25:33\",\"2020-12-14T19:20:13\",\"2020-12-15T23:27:16\",\"2020-12-17T12:11:29\",\"2020-12-22T00:06:05\",\"2020-12-25T09:25:32\",\"2020-12-14T12:06:50\",\"2020-12-15T23:42:34\",\"2020-12-16T05:10:39\",\"2020-12-17T20:18:42\",\"2020-12-18T20:04:42\",\"2020-12-19T06:28:02\",\"2020-12-14T12:06:49\",\"2020-12-15T23:42:33\",\"2020-12-16T05:10:39\",\"2020-12-17T20:18:41\",\"2020-12-18T20:04:42\",\"2020-12-19T06:28:02\",\"2020-12-14T12:06:49\",\"2020-12-15T23:42:33\",\"2020-12-16T05:10:39\",\"2020-12-17T20:18:41\",\"2020-12-18T20:04:41\",\"2020-12-19T06:28:01\",\"2020-12-14T05:12:48\",\"2020-12-15T20:39:13\",\"2020-12-16T19:54:23\",\"2020-12-14T05:12:46\",\"2020-12-15T20:39:13\",\"2020-12-16T19:54:24\",\"2020-12-14T05:12:46\",\"2020-12-15T20:39:13\",\"2020-12-16T19:54:18\",\"2020-12-14T10:31:07\",\"2020-12-16T15:10:55\",\"2020-12-19T12:42:03\",\"2020-12-14T10:31:02\",\"2020-12-16T15:10:56\",\"2020-12-19T12:42:03\",\"2020-12-14T10:31:00\",\"2020-12-16T15:10:55\",\"2020-12-19T12:42:02\",\"2020-12-14T13:26:34\",\"2020-12-15T16:34:47\",\"2020-12-16T00:26:14\",\"2020-12-26T08:05:21\",\"2020-12-14T13:26:33\",\"2020-12-15T16:34:45\",\"2020-12-16T00:26:14\",\"2020-12-26T08:05:20\",\"2020-12-14T06:26:11\",\"2020-12-15T12:12:31\",\"2020-12-14T06:26:07\",\"2020-12-15T12:12:31\",\"2020-12-14T06:20:01\",\"2020-12-19T00:33:39\",\"2020-12-21T17:14:41\",\"2020-12-27T09:38:10\",\"2020-12-14T06:20:00\",\"2020-12-19T00:33:39\",\"2020-12-21T17:14:40\",\"2020-12-27T09:38:09\",\"2020-12-14T02:39:15\",\"2020-12-24T08:49:08\",\"2020-12-14T02:39:16\",\"2020-12-24T08:49:06\",\"2020-12-14T02:39:15\",\"2020-12-24T08:49:05\",\"2020-12-14T12:24:51\",\"2020-12-15T15:32:40\",\"2020-12-17T21:39:10\",\"2020-12-14T12:24:49\",\"2020-12-15T15:32:41\",\"2020-12-17T21:39:09\",\"2020-12-14T12:24:49\",\"2020-12-15T15:32:40\",\"2020-12-17T21:39:09\",\"2020-12-14T14:04:20\",\"2020-12-15T00:57:45\",\"2020-12-14T14:04:21\",\"2020-12-15T00:57:45\",\"2020-12-14T14:04:20\",\"2020-12-15T00:57:42\",\"2020-12-14T06:15:12\",\"2020-12-15T15:02:43\",\"2020-12-26T20:04:30\",\"2020-12-14T06:15:12\",\"2020-12-15T15:02:44\",\"2020-12-26T20:04:29\",\"2020-12-14T06:15:11\",\"2020-12-15T15:02:42\",\"2020-12-26T20:04:29\",\"2020-12-14T06:28:11\",\"2020-12-15T13:30:03\",\"2020-12-16T09:19:40\",\"2020-12-14T06:28:14\",\"2020-12-15T13:30:05\",\"2020-12-16T09:19:40\",\"2020-12-14T06:28:11\",\"2020-12-15T13:30:03\",\"2020-12-16T09:19:38\",\"2020-12-14T21:19:02\",\"2020-12-14T21:19:02\",\"2020-12-14T21:19:02\",\"2020-12-14T15:53:48\",\"2020-12-16T19:10:28\",\"2020-12-17T17:13:08\",\"2020-12-28T16:13:18\",\"2020-12-14T15:53:47\",\"2020-12-16T19:10:28\",\"2020-12-17T17:13:08\",\"2020-12-28T16:13:18\",\"2020-12-14T14:00:41\",\"2020-12-16T17:18:28\",\"2020-12-17T21:16:57\",\"2020-12-18T20:35:40\",\"2020-12-19T23:14:10\",\"2020-12-14T14:00:41\",\"2020-12-16T17:18:30\",\"2020-12-17T21:16:57\",\"2020-12-18T20:35:40\",\"2020-12-19T23:14:10\",\"2020-12-14T14:00:36\",\"2020-12-16T17:18:28\",\"2020-12-17T21:16:57\",\"2020-12-18T20:35:40\",\"2020-12-19T23:14:10\",\"2020-12-14T03:18:35\",\"2020-12-15T14:37:13\",\"2020-12-16T23:20:18\",\"2020-12-17T14:01:07\",\"2020-12-14T03:18:31\",\"2020-12-15T14:37:13\",\"2020-12-16T23:20:17\",\"2020-12-17T14:01:05\",\"2020-12-14T22:17:26\",\"2020-12-15T07:15:32\",\"2020-12-16T20:10:20\",\"2020-12-25T13:38:42\",\"2020-12-14T22:17:27\",\"2020-12-15T07:15:32\",\"2020-12-16T20:10:21\",\"2020-12-25T13:38:42\",\"2020-12-14T22:17:26\",\"2020-12-15T07:15:32\",\"2020-12-16T20:10:20\",\"2020-12-25T13:38:42\",\"2020-12-14T03:16:09\",\"2020-12-14T03:16:09\",\"2020-12-14T03:16:09\",\"2020-12-14T22:46:47\",\"2020-12-15T11:50:11\",\"2020-12-28T08:45:20\",\"2020-12-14T22:46:47\",\"2020-12-15T11:50:11\",\"2020-12-28T08:45:19\",\"2020-12-14T22:46:47\",\"2020-12-15T11:50:11\",\"2020-12-28T08:45:19\",\"2020-12-14T21:49:42\",\"2020-12-15T21:44:40\",\"2020-12-26T23:43:56\",\"2020-12-28T02:52:37\",\"2020-12-14T21:49:41\",\"2020-12-15T21:44:40\",\"2020-12-26T23:43:55\",\"2020-12-28T02:52:36\",\"2020-12-14T16:55:21\",\"2020-12-17T10:58:01\",\"2020-12-18T10:23:33\",\"2020-12-14T16:55:20\",\"2020-12-17T10:58:01\",\"2020-12-18T10:23:33\",\"2020-12-14T00:49:02\",\"2020-12-15T18:34:41\",\"2020-12-17T21:02:47\",\"2020-12-14T00:49:00\",\"2020-12-15T18:34:41\",\"2020-12-17T21:02:46\",\"2020-12-14T09:24:45\",\"2020-12-15T02:52:02\",\"2020-12-16T08:47:42\",\"2020-12-14T09:24:46\",\"2020-12-15T02:52:02\",\"2020-12-16T08:47:41\",\"2020-12-14T09:24:45\",\"2020-12-15T02:52:02\",\"2020-12-16T08:47:41\",\"2020-12-14T16:36:49\",\"2020-12-16T08:49:16\",\"2020-12-18T13:10:02\",\"2020-12-14T16:36:47\",\"2020-12-16T08:49:16\",\"2020-12-18T13:10:04\",\"2020-12-14T16:36:46\",\"2020-12-16T08:49:16\",\"2020-12-18T13:10:00\",\"2020-12-15T21:43:28\",\"2020-12-29T05:35:11\",\"2020-12-15T21:43:27\",\"2020-12-29T05:35:13\",\"2020-12-15T21:43:26\",\"2020-12-29T05:35:11\",\"2020-12-15T19:21:50\",\"2020-12-17T08:36:53\",\"2020-12-18T21:13:19\",\"2020-12-23T12:57:02\",\"2020-12-24T20:38:02\",\"2020-12-15T19:21:48\",\"2020-12-17T08:36:53\",\"2020-12-18T21:13:19\",\"2020-12-23T12:57:01\",\"2020-12-24T20:38:01\",\"2020-12-15T11:22:54\",\"2020-12-15T11:22:55\",\"2020-12-15T11:22:52\",\"2020-12-15T08:38:13\",\"2020-12-17T10:42:16\",\"2020-12-20T01:11:00\",\"2020-12-21T08:09:10\",\"2020-12-23T01:59:48\",\"2020-12-15T08:38:11\",\"2020-12-17T10:42:15\",\"2020-12-20T01:11:00\",\"2020-12-21T08:09:11\",\"2020-12-23T01:59:49\",\"2020-12-15T08:38:10\",\"2020-12-17T10:42:14\",\"2020-12-20T01:11:00\",\"2020-12-21T08:09:10\",\"2020-12-23T01:59:48\",\"2020-12-15T10:33:43\",\"2020-12-16T21:14:10\",\"2020-12-15T10:33:43\",\"2020-12-16T21:14:11\",\"2020-12-15T10:33:42\",\"2020-12-16T21:14:10\",\"2020-12-15T03:56:01\",\"2020-12-16T17:34:40\",\"2020-12-19T17:32:01\",\"2020-12-15T03:56:01\",\"2020-12-16T17:34:39\",\"2020-12-19T17:32:01\",\"2020-12-15T21:12:59\",\"2020-12-16T21:37:14\",\"2020-12-18T08:28:36\",\"2020-12-15T21:12:59\",\"2020-12-16T21:37:15\",\"2020-12-18T08:28:35\",\"2020-12-15T21:12:58\",\"2020-12-16T21:37:13\",\"2020-12-18T08:28:31\",\"2020-12-15T11:59:36\",\"2020-12-16T00:45:00\",\"2020-12-19T00:24:15\",\"2020-12-22T05:40:20\",\"2020-12-26T15:18:10\",\"2020-12-15T11:59:36\",\"2020-12-16T00:45:00\",\"2020-12-19T00:24:14\",\"2020-12-22T05:40:21\",\"2020-12-26T15:18:10\",\"2020-12-15T11:59:36\",\"2020-12-16T00:45:00\",\"2020-12-19T00:24:14\",\"2020-12-22T05:40:20\",\"2020-12-26T15:18:10\",\"2020-12-15T01:08:35\",\"2020-12-18T16:01:25\",\"2020-12-15T01:08:34\",\"2020-12-18T16:01:26\",\"2020-12-15T01:08:34\",\"2020-12-18T16:01:25\",\"2020-12-15T02:05:52\",\"2020-12-19T17:23:56\",\"2020-12-27T19:20:02\",\"2020-12-15T02:05:52\",\"2020-12-19T17:23:57\",\"2020-12-27T19:19:57\",\"2020-12-15T02:05:50\",\"2020-12-19T17:23:56\",\"2020-12-27T19:19:57\",\"2020-12-15T17:32:18\",\"2020-12-15T17:32:17\",\"2020-12-15T17:32:17\",\"2020-12-15T19:07:53\",\"2020-12-16T16:36:19\",\"2020-12-24T10:28:29\",\"2020-12-15T19:07:52\",\"2020-12-16T16:36:19\",\"2020-12-24T10:28:29\",\"2020-12-15T19:07:52\",\"2020-12-16T16:36:18\",\"2020-12-24T10:28:29\",\"2020-12-15T08:18:43\",\"2020-12-17T14:33:58\",\"2020-12-19T16:42:33\",\"2020-12-20T06:58:12\",\"2020-12-24T01:59:38\",\"2020-12-15T08:18:42\",\"2020-12-17T14:33:57\",\"2020-12-19T16:42:33\",\"2020-12-20T06:58:12\",\"2020-12-24T01:59:39\",\"2020-12-15T08:18:42\",\"2020-12-17T14:33:57\",\"2020-12-19T16:42:33\",\"2020-12-20T06:58:12\",\"2020-12-24T01:59:38\",\"2020-12-15T11:33:36\",\"2020-12-21T12:35:02\",\"2020-12-15T11:33:34\",\"2020-12-21T12:35:00\",\"2020-12-15T06:40:24\",\"2020-12-16T02:49:30\",\"2020-12-22T06:44:06\",\"2020-12-15T06:40:24\",\"2020-12-16T02:49:27\",\"2020-12-22T06:44:07\",\"2020-12-15T06:40:24\",\"2020-12-16T02:49:26\",\"2020-12-22T06:44:05\",\"2020-12-15T01:40:10\",\"2020-12-16T21:16:54\",\"2020-12-19T11:58:10\",\"2020-12-15T01:40:08\",\"2020-12-16T21:16:56\",\"2020-12-19T11:58:10\",\"2020-12-15T01:40:07\",\"2020-12-16T21:16:54\",\"2020-12-19T11:58:10\",\"2020-12-15T17:30:39\",\"2020-12-21T19:22:28\",\"2020-12-15T17:30:38\",\"2020-12-21T19:22:23\",\"2020-12-15T03:09:03\",\"2020-12-15T03:09:05\",\"2020-12-15T03:09:03\",\"2020-12-15T16:16:04\",\"2020-12-21T22:23:39\",\"2020-12-15T16:16:04\",\"2020-12-21T22:23:39\",\"2020-12-15T19:00:17\",\"2020-12-20T06:55:58\",\"2020-12-21T09:10:29\",\"2020-12-23T20:13:31\",\"2020-12-15T19:00:17\",\"2020-12-20T06:55:58\",\"2020-12-21T09:10:29\",\"2020-12-23T20:13:30\",\"2020-12-15T19:00:17\",\"2020-12-20T06:55:58\",\"2020-12-21T09:10:27\",\"2020-12-23T20:13:30\",\"2020-12-15T23:10:24\",\"2020-12-19T11:38:41\",\"2020-12-15T23:10:22\",\"2020-12-19T11:38:40\",\"2020-12-15T23:10:22\",\"2020-12-19T11:38:39\",\"2020-12-15T14:21:32\",\"2020-12-16T22:52:19\",\"2020-12-19T11:29:45\",\"2020-12-20T21:38:33\",\"2020-12-15T14:21:30\",\"2020-12-16T22:52:19\",\"2020-12-19T11:29:46\",\"2020-12-20T21:38:33\",\"2020-12-15T14:21:30\",\"2020-12-16T22:52:19\",\"2020-12-19T11:29:45\",\"2020-12-20T21:38:33\",\"2020-12-15T22:36:19\",\"2020-12-16T07:46:21\",\"2020-12-17T17:44:25\",\"2020-12-18T19:07:28\",\"2020-12-23T07:41:15\",\"2020-12-28T23:45:02\",\"2020-12-15T22:36:17\",\"2020-12-16T07:46:20\",\"2020-12-17T17:44:25\",\"2020-12-18T19:07:28\",\"2020-12-23T07:41:10\",\"2020-12-28T23:45:00\",\"2020-12-15T14:00:39\",\"2020-12-16T21:58:23\",\"2020-12-18T19:03:05\",\"2020-12-28T04:36:12\",\"2020-12-15T14:00:39\",\"2020-12-16T21:58:24\",\"2020-12-18T19:03:05\",\"2020-12-28T04:36:12\",\"2020-12-15T14:00:39\",\"2020-12-16T21:58:22\",\"2020-12-18T19:03:05\",\"2020-12-28T04:36:12\",\"2020-12-15T09:34:58\",\"2020-12-19T22:40:51\",\"2020-12-21T12:39:39\",\"2020-12-15T09:34:58\",\"2020-12-19T22:40:50\",\"2020-12-21T12:39:39\",\"2020-12-15T16:49:00\",\"2020-12-19T01:47:40\",\"2020-12-21T01:46:21\",\"2020-12-23T09:33:35\",\"2020-12-15T16:49:00\",\"2020-12-19T01:47:40\",\"2020-12-21T01:46:21\",\"2020-12-23T09:33:34\",\"2020-12-15T08:23:01\",\"2020-12-23T04:40:31\",\"2020-12-25T17:52:24\",\"2020-12-15T08:23:01\",\"2020-12-23T04:40:31\",\"2020-12-25T17:52:24\",\"2020-12-15T08:23:00\",\"2020-12-23T04:40:30\",\"2020-12-25T17:52:24\",\"2020-12-15T18:26:49\",\"2020-12-16T07:04:05\",\"2020-12-19T01:15:21\",\"2020-12-15T18:26:47\",\"2020-12-16T07:04:02\",\"2020-12-19T01:15:19\",\"2020-12-15T21:09:05\",\"2020-12-16T18:34:24\",\"2020-12-19T15:11:46\",\"2020-12-15T21:09:06\",\"2020-12-16T18:34:21\",\"2020-12-19T15:11:46\",\"2020-12-15T21:09:04\",\"2020-12-16T18:34:21\",\"2020-12-19T15:11:46\",\"2020-12-15T12:00:18\",\"2020-12-16T09:14:51\",\"2020-12-17T21:47:59\",\"2020-12-27T12:15:34\",\"2020-12-15T12:00:15\",\"2020-12-16T09:14:49\",\"2020-12-17T21:47:57\",\"2020-12-27T12:15:34\",\"2020-12-15T23:20:16\",\"2020-12-16T13:05:33\",\"2020-12-19T19:14:16\",\"2020-12-22T15:14:58\",\"2020-12-29T03:23:18\",\"2020-12-15T23:20:15\",\"2020-12-16T13:05:32\",\"2020-12-19T19:14:14\",\"2020-12-22T15:14:58\",\"2020-12-29T03:23:17\",\"2020-12-15T03:31:59\",\"2020-12-20T21:11:10\",\"2020-12-21T16:45:14\",\"2020-12-15T03:31:58\",\"2020-12-20T21:11:11\",\"2020-12-21T16:45:14\",\"2020-12-15T03:31:58\",\"2020-12-20T21:11:10\",\"2020-12-21T16:45:14\",\"2020-12-15T22:26:12\",\"2020-12-16T11:59:00\",\"2020-12-19T23:14:12\",\"2020-12-20T11:13:48\",\"2020-12-27T18:32:26\",\"2020-12-15T22:26:12\",\"2020-12-16T11:59:01\",\"2020-12-19T23:14:11\",\"2020-12-20T11:13:48\",\"2020-12-27T18:32:21\",\"2020-12-15T22:26:09\",\"2020-12-16T11:59:00\",\"2020-12-19T23:14:11\",\"2020-12-20T11:13:48\",\"2020-12-27T18:32:20\",\"2020-12-15T14:03:32\",\"2020-12-15T14:03:36\",\"2020-12-15T14:03:32\",\"2020-12-15T23:54:54\",\"2020-12-18T14:10:25\",\"2020-12-21T19:42:19\",\"2020-12-24T08:49:59\",\"2020-12-15T23:54:54\",\"2020-12-18T14:10:25\",\"2020-12-21T19:42:17\",\"2020-12-24T08:49:58\",\"2020-12-15T23:54:54\",\"2020-12-18T14:10:25\",\"2020-12-21T19:42:16\",\"2020-12-24T08:49:58\",\"2020-12-15T15:24:23\",\"2020-12-16T10:13:49\",\"2020-12-17T08:23:45\",\"2020-12-19T04:18:54\",\"2020-12-20T06:10:28\",\"2020-12-27T06:46:45\",\"2020-12-15T15:24:22\",\"2020-12-16T10:13:49\",\"2020-12-17T08:23:45\",\"2020-12-19T04:18:54\",\"2020-12-20T06:10:30\",\"2020-12-27T06:46:47\",\"2020-12-15T15:24:22\",\"2020-12-16T10:13:49\",\"2020-12-17T08:23:44\",\"2020-12-19T04:18:54\",\"2020-12-20T06:10:28\",\"2020-12-27T06:46:45\",\"2020-12-15T03:40:21\",\"2020-12-19T07:21:08\",\"2020-12-15T03:40:20\",\"2020-12-19T07:21:09\",\"2020-12-15T03:40:19\",\"2020-12-19T07:21:08\",\"2020-12-15T07:57:41\",\"2020-12-17T16:04:28\",\"2020-12-28T03:59:40\",\"2020-12-15T07:57:40\",\"2020-12-17T16:04:27\",\"2020-12-28T03:59:40\",\"2020-12-15T07:57:38\",\"2020-12-17T16:04:26\",\"2020-12-28T03:59:40\",\"2020-12-15T04:48:47\",\"2020-12-17T21:23:14\",\"2020-12-19T08:58:58\",\"2020-12-25T08:35:09\",\"2020-12-15T04:48:50\",\"2020-12-17T21:23:13\",\"2020-12-19T08:58:54\",\"2020-12-25T08:35:08\",\"2020-12-15T04:48:46\",\"2020-12-17T21:23:12\",\"2020-12-19T08:58:53\",\"2020-12-25T08:35:08\",\"2020-12-15T11:05:28\",\"2020-12-16T13:51:29\",\"2020-12-18T16:17:19\",\"2020-12-15T11:05:27\",\"2020-12-16T13:51:29\",\"2020-12-18T16:17:17\",\"2020-12-15T04:34:55\",\"2020-12-18T12:11:01\",\"2020-12-15T04:34:53\",\"2020-12-18T12:11:01\",\"2020-12-15T04:34:53\",\"2020-12-18T12:11:01\",\"2020-12-15T03:05:24\",\"2020-12-19T17:18:43\",\"2020-12-15T03:05:23\",\"2020-12-19T17:18:43\",\"2020-12-15T22:22:10\",\"2020-12-16T12:31:38\",\"2020-12-18T00:29:49\",\"2020-12-26T18:10:56\",\"2020-12-15T22:22:10\",\"2020-12-16T12:31:39\",\"2020-12-18T00:29:48\",\"2020-12-26T18:10:56\",\"2020-12-15T22:22:10\",\"2020-12-16T12:31:38\",\"2020-12-18T00:29:48\",\"2020-12-26T18:10:54\",\"2020-12-15T04:00:16\",\"2020-12-27T12:11:02\",\"2020-12-15T04:00:15\",\"2020-12-27T12:11:01\",\"2020-12-15T05:02:12\",\"2020-12-20T16:36:32\",\"2020-12-28T23:05:25\",\"2020-12-15T05:02:12\",\"2020-12-20T16:36:30\",\"2020-12-28T23:05:23\",\"2020-12-16T05:50:35\",\"2020-12-17T12:42:48\",\"2020-12-18T01:14:35\",\"2020-12-21T04:32:37\",\"2020-12-23T12:13:08\",\"2020-12-16T05:50:35\",\"2020-12-17T12:42:49\",\"2020-12-18T01:14:34\",\"2020-12-21T04:32:39\",\"2020-12-23T12:13:08\",\"2020-12-16T05:50:35\",\"2020-12-17T12:42:47\",\"2020-12-18T01:14:31\",\"2020-12-21T04:32:36\",\"2020-12-23T12:13:06\",\"2020-12-16T01:21:03\",\"2020-12-17T02:06:23\",\"2020-12-20T01:45:03\",\"2020-12-16T01:21:00\",\"2020-12-17T02:06:22\",\"2020-12-20T01:45:03\",\"2020-12-16T20:46:33\",\"2020-12-17T11:46:46\",\"2020-12-20T05:43:36\",\"2020-12-16T20:46:35\",\"2020-12-17T11:46:47\",\"2020-12-20T05:43:35\",\"2020-12-16T20:46:33\",\"2020-12-17T11:46:44\",\"2020-12-20T05:43:33\",\"2020-12-16T06:25:26\",\"2020-12-21T20:15:47\",\"2020-12-22T09:38:23\",\"2020-12-25T20:45:24\",\"2020-12-16T06:25:26\",\"2020-12-21T20:15:48\",\"2020-12-22T09:38:23\",\"2020-12-25T20:45:24\",\"2020-12-16T06:25:26\",\"2020-12-21T20:15:47\",\"2020-12-22T09:38:22\",\"2020-12-25T20:45:24\",\"2020-12-16T23:56:59\",\"2020-12-17T03:26:15\",\"2020-12-18T05:45:42\",\"2020-12-19T04:15:45\",\"2020-12-21T16:00:18\",\"2020-12-28T19:47:01\",\"2020-12-16T23:57:00\",\"2020-12-17T03:26:17\",\"2020-12-18T05:45:42\",\"2020-12-19T04:15:44\",\"2020-12-21T16:00:17\",\"2020-12-28T19:47:00\",\"2020-12-16T23:56:59\",\"2020-12-17T03:26:15\",\"2020-12-18T05:45:41\",\"2020-12-19T04:15:44\",\"2020-12-21T16:00:17\",\"2020-12-28T19:46:58\",\"2020-12-16T19:49:52\",\"2020-12-17T04:05:12\",\"2020-12-18T18:30:35\",\"2020-12-20T23:11:31\",\"2020-12-16T19:49:52\",\"2020-12-17T04:05:12\",\"2020-12-18T18:30:35\",\"2020-12-20T23:11:30\",\"2020-12-16T19:49:52\",\"2020-12-17T04:05:12\",\"2020-12-18T18:30:35\",\"2020-12-20T23:11:30\",\"2020-12-16T04:51:30\",\"2020-12-17T08:56:42\",\"2020-12-18T18:14:34\",\"2020-12-25T11:49:23\",\"2020-12-16T04:51:29\",\"2020-12-17T08:56:46\",\"2020-12-18T18:14:34\",\"2020-12-25T11:49:23\",\"2020-12-16T04:51:29\",\"2020-12-17T08:56:42\",\"2020-12-18T18:14:34\",\"2020-12-25T11:49:23\",\"2020-12-16T08:13:02\",\"2020-12-17T05:44:36\",\"2020-12-18T06:00:07\",\"2020-12-20T11:17:28\",\"2020-12-21T00:26:07\",\"2020-12-16T08:13:02\",\"2020-12-17T05:44:32\",\"2020-12-18T06:00:06\",\"2020-12-20T11:17:28\",\"2020-12-21T00:26:07\",\"2020-12-16T13:50:22\",\"2020-12-17T03:35:44\",\"2020-12-20T19:50:55\",\"2020-12-16T13:50:22\",\"2020-12-17T03:35:46\",\"2020-12-20T19:50:56\",\"2020-12-16T13:50:22\",\"2020-12-17T03:35:44\",\"2020-12-20T19:50:55\",\"2020-12-16T08:40:44\",\"2020-12-16T08:40:45\",\"2020-12-16T08:40:44\",\"2020-12-16T10:59:44\",\"2020-12-18T14:41:14\",\"2020-12-26T23:33:55\",\"2020-12-16T10:59:44\",\"2020-12-18T14:41:12\",\"2020-12-26T23:33:53\",\"2020-12-16T15:41:45\",\"2020-12-19T14:32:24\",\"2020-12-20T00:39:46\",\"2020-12-21T12:08:54\",\"2020-12-16T15:41:43\",\"2020-12-19T14:32:23\",\"2020-12-20T00:39:45\",\"2020-12-21T12:08:51\",\"2020-12-16T05:43:30\",\"2020-12-17T16:02:30\",\"2020-12-27T11:17:53\",\"2020-12-16T05:43:29\",\"2020-12-17T16:02:24\",\"2020-12-27T11:17:52\",\"2020-12-16T04:56:26\",\"2020-12-23T20:23:22\",\"2020-12-26T10:22:08\",\"2020-12-16T04:56:26\",\"2020-12-23T20:23:22\",\"2020-12-26T10:22:08\",\"2020-12-16T04:56:26\",\"2020-12-23T20:23:21\",\"2020-12-26T10:22:08\",\"2020-12-16T01:17:03\",\"2020-12-17T12:25:05\",\"2020-12-22T17:35:24\",\"2020-12-16T01:17:03\",\"2020-12-17T12:25:05\",\"2020-12-22T17:35:23\",\"2020-12-16T10:30:36\",\"2020-12-17T10:55:44\",\"2020-12-25T02:26:56\",\"2020-12-16T10:30:34\",\"2020-12-17T10:55:44\",\"2020-12-25T02:26:56\",\"2020-12-16T08:30:43\",\"2020-12-17T04:59:05\",\"2020-12-18T05:16:47\",\"2020-12-16T08:30:41\",\"2020-12-17T04:59:03\",\"2020-12-18T05:16:45\",\"2020-12-16T21:09:08\",\"2020-12-17T16:18:54\",\"2020-12-16T21:09:07\",\"2020-12-17T16:18:54\",\"2020-12-16T16:54:22\",\"2020-12-17T16:36:53\",\"2020-12-25T07:45:35\",\"2020-12-16T16:54:21\",\"2020-12-17T16:36:56\",\"2020-12-25T07:45:37\",\"2020-12-16T16:54:21\",\"2020-12-17T16:36:53\",\"2020-12-25T07:45:35\",\"2020-12-16T12:49:20\",\"2020-12-16T12:49:20\",\"2020-12-16T08:47:23\",\"2020-12-21T08:54:12\",\"2020-12-29T17:05:16\",\"2020-12-16T08:47:23\",\"2020-12-21T08:54:13\",\"2020-12-29T17:05:16\",\"2020-12-16T08:47:23\",\"2020-12-21T08:54:12\",\"2020-12-29T17:05:16\",\"2020-12-16T16:49:12\",\"2020-12-26T11:06:24\",\"2020-12-16T16:49:11\",\"2020-12-26T11:06:28\",\"2020-12-16T16:49:10\",\"2020-12-26T11:06:24\",\"2020-12-16T21:42:25\",\"2020-12-17T23:31:30\",\"2020-12-19T19:24:19\",\"2020-12-16T21:42:22\",\"2020-12-17T23:31:28\",\"2020-12-19T19:24:18\",\"2020-12-16T05:46:52\",\"2020-12-19T13:41:43\",\"2020-12-25T06:34:17\",\"2020-12-26T05:01:53\",\"2020-12-16T05:46:51\",\"2020-12-19T13:41:42\",\"2020-12-25T06:34:18\",\"2020-12-26T05:01:50\",\"2020-12-16T05:46:51\",\"2020-12-19T13:41:42\",\"2020-12-25T06:34:17\",\"2020-12-26T05:01:48\",\"2020-12-16T21:00:30\",\"2020-12-20T09:12:40\",\"2020-12-21T12:21:15\",\"2020-12-16T21:00:31\",\"2020-12-20T09:12:39\",\"2020-12-21T12:21:19\",\"2020-12-16T21:00:30\",\"2020-12-20T09:12:38\",\"2020-12-21T12:21:15\",\"2020-12-16T13:22:00\",\"2020-12-21T11:54:50\",\"2020-12-24T05:20:04\",\"2020-12-29T16:03:06\",\"2020-12-16T13:22:00\",\"2020-12-21T11:54:47\",\"2020-12-24T05:20:03\",\"2020-12-29T16:03:06\",\"2020-12-16T20:58:38\",\"2020-12-17T22:20:07\",\"2020-12-20T22:31:13\",\"2020-12-23T10:29:27\",\"2020-12-16T20:58:41\",\"2020-12-17T22:20:07\",\"2020-12-20T22:31:10\",\"2020-12-23T10:29:27\",\"2020-12-16T20:58:38\",\"2020-12-17T22:20:06\",\"2020-12-20T22:31:08\",\"2020-12-23T10:29:26\",\"2020-12-16T22:37:25\",\"2020-12-17T19:38:36\",\"2020-12-18T18:44:29\",\"2020-12-19T07:47:44\",\"2020-12-16T22:37:21\",\"2020-12-17T19:38:36\",\"2020-12-18T18:44:29\",\"2020-12-19T07:47:42\",\"2020-12-16T22:37:20\",\"2020-12-17T19:38:36\",\"2020-12-18T18:44:29\",\"2020-12-19T07:47:42\",\"2020-12-16T07:40:11\",\"2020-12-17T07:34:01\",\"2020-12-19T22:13:06\",\"2020-12-20T20:46:41\",\"2020-12-23T01:11:30\",\"2020-12-16T07:40:13\",\"2020-12-17T07:34:00\",\"2020-12-19T22:13:06\",\"2020-12-20T20:46:39\",\"2020-12-23T01:11:28\",\"2020-12-16T07:40:11\",\"2020-12-17T07:33:58\",\"2020-12-19T22:13:06\",\"2020-12-20T20:46:39\",\"2020-12-23T01:11:27\",\"2020-12-16T05:15:34\",\"2020-12-17T07:27:57\",\"2020-12-18T10:36:26\",\"2020-12-16T05:15:33\",\"2020-12-17T07:27:57\",\"2020-12-18T10:36:27\",\"2020-12-16T05:15:29\",\"2020-12-17T07:27:57\",\"2020-12-18T10:36:26\",\"2020-12-16T08:42:14\",\"2020-12-16T08:42:14\",\"2020-12-16T04:20:39\",\"2020-12-17T15:08:37\",\"2020-12-18T01:51:07\",\"2020-12-16T04:20:39\",\"2020-12-17T15:08:37\",\"2020-12-18T01:51:06\",\"2020-12-16T04:20:38\",\"2020-12-17T15:08:37\",\"2020-12-18T01:51:06\",\"2020-12-17T17:40:10\",\"2020-12-18T09:37:10\",\"2020-12-24T04:09:35\",\"2020-12-17T17:40:10\",\"2020-12-18T09:37:11\",\"2020-12-24T04:09:35\",\"2020-12-17T17:40:06\",\"2020-12-18T09:37:10\",\"2020-12-24T04:09:34\",\"2020-12-17T07:23:25\",\"2020-12-19T08:19:44\",\"2020-12-17T07:23:25\",\"2020-12-19T08:19:44\",\"2020-12-17T07:23:25\",\"2020-12-19T08:19:44\",\"2020-12-17T21:29:42\",\"2020-12-17T21:29:41\",\"2020-12-17T20:49:44\",\"2020-12-19T18:13:23\",\"2020-12-20T06:37:58\",\"2020-12-22T01:22:39\",\"2020-12-17T20:49:45\",\"2020-12-19T18:13:25\",\"2020-12-20T06:37:58\",\"2020-12-22T01:22:38\",\"2020-12-17T20:49:43\",\"2020-12-19T18:13:23\",\"2020-12-20T06:37:58\",\"2020-12-22T01:22:38\",\"2020-12-17T08:15:41\",\"2020-12-21T00:21:23\",\"2020-12-17T08:15:42\",\"2020-12-21T00:21:23\",\"2020-12-17T08:15:40\",\"2020-12-21T00:21:21\",\"2020-12-17T16:28:53\",\"2020-12-18T10:51:51\",\"2020-12-19T03:44:07\",\"2020-12-24T03:21:07\",\"2020-12-25T16:08:08\",\"2020-12-26T06:12:11\",\"2020-12-28T08:58:54\",\"2020-12-17T16:28:53\",\"2020-12-18T10:51:51\",\"2020-12-19T03:44:05\",\"2020-12-24T03:21:07\",\"2020-12-25T16:08:08\",\"2020-12-26T06:12:09\",\"2020-12-28T08:58:53\",\"2020-12-17T16:46:25\",\"2020-12-19T03:29:09\",\"2020-12-20T02:32:11\",\"2020-12-17T16:46:25\",\"2020-12-19T03:29:04\",\"2020-12-20T02:32:11\",\"2020-12-17T09:45:13\",\"2020-12-24T17:50:23\",\"2020-12-17T09:45:13\",\"2020-12-24T17:50:23\",\"2020-12-17T08:43:25\",\"2020-12-18T10:58:12\",\"2020-12-19T01:28:49\",\"2020-12-17T08:43:25\",\"2020-12-18T10:58:12\",\"2020-12-19T01:28:47\",\"2020-12-17T08:43:24\",\"2020-12-18T10:58:07\",\"2020-12-19T01:28:47\",\"2020-12-17T22:00:47\",\"2020-12-18T23:43:29\",\"2020-12-17T22:00:48\",\"2020-12-18T23:43:30\",\"2020-12-17T22:00:46\",\"2020-12-18T23:43:29\",\"2020-12-17T20:06:57\",\"2020-12-20T12:16:09\",\"2020-12-22T14:15:18\",\"2020-12-24T11:44:26\",\"2020-12-17T20:06:58\",\"2020-12-20T12:16:09\",\"2020-12-22T14:15:20\",\"2020-12-24T11:44:27\",\"2020-12-17T20:06:57\",\"2020-12-20T12:16:09\",\"2020-12-22T14:15:18\",\"2020-12-24T11:44:25\",\"2020-12-17T23:18:12\",\"2020-12-19T03:39:22\",\"2020-12-25T13:31:20\",\"2020-12-17T23:18:13\",\"2020-12-19T03:39:24\",\"2020-12-25T13:31:19\",\"2020-12-17T23:18:11\",\"2020-12-19T03:39:21\",\"2020-12-25T13:31:19\",\"2020-12-17T01:21:17\",\"2020-12-18T21:20:39\",\"2020-12-17T01:21:14\",\"2020-12-18T21:20:39\",\"2020-12-17T13:15:27\",\"2020-12-21T08:17:25\",\"2020-12-17T13:15:27\",\"2020-12-21T08:17:22\",\"2020-12-17T13:10:10\",\"2020-12-20T14:34:19\",\"2020-12-21T13:17:45\",\"2020-12-27T11:05:30\",\"2020-12-17T13:10:09\",\"2020-12-20T14:34:17\",\"2020-12-21T13:17:44\",\"2020-12-27T11:05:28\",\"2020-12-17T12:44:34\",\"2020-12-28T23:31:02\",\"2020-12-17T12:44:34\",\"2020-12-28T23:31:02\",\"2020-12-17T12:44:34\",\"2020-12-28T23:31:02\",\"2020-12-17T18:49:11\",\"2020-12-19T03:40:57\",\"2020-12-17T18:49:11\",\"2020-12-19T03:40:55\",\"2020-12-17T18:49:11\",\"2020-12-19T03:40:55\",\"2020-12-17T10:19:45\",\"2020-12-20T01:28:24\",\"2020-12-23T22:13:15\",\"2020-12-17T10:19:45\",\"2020-12-20T01:28:23\",\"2020-12-23T22:13:14\",\"2020-12-17T02:38:11\",\"2020-12-19T01:05:47\",\"2020-12-17T02:38:10\",\"2020-12-19T01:05:44\",\"2020-12-17T15:24:39\",\"2020-12-18T02:03:17\",\"2020-12-19T06:58:43\",\"2020-12-27T21:08:20\",\"2020-12-17T15:24:38\",\"2020-12-18T02:03:17\",\"2020-12-19T06:58:39\",\"2020-12-27T21:08:18\",\"2020-12-17T06:16:29\",\"2020-12-18T13:20:15\",\"2020-12-19T12:19:55\",\"2020-12-24T08:55:25\",\"2020-12-17T06:16:28\",\"2020-12-18T13:20:15\",\"2020-12-19T12:19:55\",\"2020-12-24T08:55:24\",\"2020-12-17T21:26:05\",\"2020-12-18T17:42:40\",\"2020-12-19T14:02:06\",\"2020-12-24T10:45:48\",\"2020-12-17T21:26:02\",\"2020-12-18T17:42:41\",\"2020-12-19T14:02:06\",\"2020-12-24T10:45:46\",\"2020-12-17T21:26:00\",\"2020-12-18T17:42:40\",\"2020-12-19T14:02:02\",\"2020-12-24T10:45:45\",\"2020-12-17T21:33:27\",\"2020-12-19T18:32:50\",\"2020-12-24T09:13:35\",\"2020-12-17T21:33:28\",\"2020-12-19T18:32:51\",\"2020-12-24T09:13:38\",\"2020-12-17T21:33:26\",\"2020-12-19T18:32:50\",\"2020-12-24T09:13:35\",\"2020-12-17T13:48:28\",\"2020-12-18T08:57:07\",\"2020-12-19T06:10:48\",\"2020-12-17T13:48:28\",\"2020-12-18T08:57:06\",\"2020-12-19T06:10:47\",\"2020-12-17T13:48:27\",\"2020-12-18T08:57:06\",\"2020-12-19T06:10:47\",\"2020-12-17T07:25:58\",\"2020-12-23T20:11:08\",\"2020-12-17T07:25:58\",\"2020-12-23T20:11:08\",\"2020-12-17T07:25:58\",\"2020-12-23T20:11:08\",\"2020-12-17T14:35:38\",\"2020-12-18T23:31:46\",\"2020-12-17T14:35:35\",\"2020-12-18T23:31:45\",\"2020-12-17T04:55:06\",\"2020-12-18T11:47:06\",\"2020-12-17T04:55:05\",\"2020-12-18T11:47:06\",\"2020-12-17T04:55:05\",\"2020-12-18T11:47:06\",\"2020-12-17T10:45:18\",\"2020-12-18T11:23:12\",\"2020-12-19T03:05:55\",\"2020-12-17T10:45:18\",\"2020-12-18T11:23:14\",\"2020-12-19T03:05:55\",\"2020-12-17T10:45:17\",\"2020-12-18T11:23:12\",\"2020-12-19T03:05:53\",\"2020-12-17T22:47:28\",\"2020-12-19T14:55:24\",\"2020-12-17T22:47:28\",\"2020-12-19T14:55:23\",\"2020-12-17T22:47:27\",\"2020-12-19T14:55:23\",\"2020-12-17T05:12:50\",\"2020-12-19T17:11:00\",\"2020-12-20T15:52:33\",\"2020-12-17T05:12:50\",\"2020-12-19T17:11:00\",\"2020-12-20T15:52:34\",\"2020-12-17T05:12:50\",\"2020-12-19T17:10:58\",\"2020-12-20T15:52:32\",\"2020-12-17T22:03:21\",\"2020-12-26T12:55:15\",\"2020-12-17T22:03:21\",\"2020-12-26T12:55:13\",\"2020-12-17T22:03:17\",\"2020-12-26T12:55:12\",\"2020-12-17T03:35:57\",\"2020-12-18T21:05:05\",\"2020-12-17T03:35:58\",\"2020-12-18T21:05:06\",\"2020-12-17T03:35:57\",\"2020-12-18T21:05:05\",\"2020-12-17T13:26:14\",\"2020-12-18T15:49:44\",\"2020-12-23T18:33:11\",\"2020-12-17T13:26:14\",\"2020-12-18T15:49:45\",\"2020-12-23T18:33:10\",\"2020-12-17T13:26:14\",\"2020-12-18T15:49:44\",\"2020-12-23T18:33:10\",\"2020-12-17T16:53:27\",\"2020-12-19T10:12:36\",\"2020-12-20T06:47:44\",\"2020-12-23T13:13:46\",\"2020-12-26T13:39:55\",\"2020-12-17T16:53:27\",\"2020-12-19T10:12:38\",\"2020-12-20T06:47:44\",\"2020-12-23T13:13:45\",\"2020-12-26T13:39:55\",\"2020-12-17T16:53:27\",\"2020-12-19T10:12:36\",\"2020-12-20T06:47:44\",\"2020-12-23T13:13:45\",\"2020-12-26T13:39:55\",\"2020-12-17T04:02:07\",\"2020-12-19T18:30:14\",\"2020-12-21T19:55:10\",\"2020-12-26T21:38:19\",\"2020-12-17T04:02:06\",\"2020-12-19T18:30:13\",\"2020-12-21T19:55:11\",\"2020-12-26T21:38:19\",\"2020-12-17T04:02:06\",\"2020-12-19T18:30:12\",\"2020-12-21T19:55:10\",\"2020-12-26T21:38:17\",\"2020-12-17T06:17:49\",\"2020-12-18T11:21:49\",\"2020-12-19T16:16:04\",\"2020-12-21T00:54:43\",\"2020-12-26T12:27:28\",\"2020-12-17T06:17:49\",\"2020-12-18T11:21:46\",\"2020-12-19T16:16:03\",\"2020-12-21T00:54:44\",\"2020-12-26T12:27:26\",\"2020-12-17T06:17:49\",\"2020-12-18T11:21:46\",\"2020-12-19T16:16:03\",\"2020-12-21T00:54:43\",\"2020-12-26T12:27:26\",\"2020-12-17T20:56:35\",\"2020-12-18T17:49:25\",\"2020-12-20T18:14:57\",\"2020-12-29T02:27:26\",\"2020-12-17T20:56:36\",\"2020-12-18T17:49:25\",\"2020-12-20T18:14:57\",\"2020-12-29T02:27:26\",\"2020-12-17T20:56:35\",\"2020-12-18T17:49:24\",\"2020-12-20T18:14:54\",\"2020-12-29T02:27:25\",\"2020-12-17T09:22:22\",\"2020-12-18T06:27:07\",\"2020-12-25T05:30:07\",\"2020-12-17T09:22:21\",\"2020-12-18T06:27:08\",\"2020-12-25T05:30:05\",\"2020-12-17T09:22:21\",\"2020-12-18T06:27:07\",\"2020-12-25T05:30:05\",\"2020-12-17T09:27:21\",\"2020-12-18T09:37:10\",\"2020-12-19T17:55:41\",\"2020-12-17T09:27:25\",\"2020-12-18T09:37:12\",\"2020-12-19T17:55:42\",\"2020-12-17T09:27:19\",\"2020-12-18T09:37:10\",\"2020-12-19T17:55:38\",\"2020-12-17T00:54:50\",\"2020-12-18T04:37:21\",\"2020-12-20T22:23:46\",\"2020-12-17T00:54:44\",\"2020-12-18T04:37:20\",\"2020-12-20T22:23:46\",\"2020-12-17T19:14:26\",\"2020-12-18T01:15:42\",\"2020-12-21T15:32:03\",\"2020-12-22T18:29:39\",\"2020-12-17T19:14:25\",\"2020-12-18T01:15:42\",\"2020-12-21T15:32:03\",\"2020-12-22T18:29:38\",\"2020-12-17T17:01:14\",\"2020-12-19T21:45:07\",\"2020-12-17T17:01:13\",\"2020-12-19T21:45:07\",\"2020-12-17T23:21:46\",\"2020-12-18T13:52:05\",\"2020-12-21T16:18:30\",\"2020-12-23T20:36:52\",\"2020-12-28T02:37:48\",\"2020-12-17T23:21:44\",\"2020-12-18T13:52:04\",\"2020-12-21T16:18:30\",\"2020-12-23T20:36:52\",\"2020-12-28T02:37:47\",\"2020-12-17T07:01:57\",\"2020-12-19T04:41:44\",\"2020-12-22T16:50:11\",\"2020-12-24T18:48:33\",\"2020-12-17T07:01:55\",\"2020-12-19T04:41:44\",\"2020-12-22T16:50:09\",\"2020-12-24T18:48:33\",\"2020-12-17T20:27:07\",\"2020-12-18T13:48:20\",\"2020-12-19T07:59:47\",\"2020-12-20T11:13:39\",\"2020-12-23T04:58:06\",\"2020-12-17T20:27:06\",\"2020-12-18T13:48:16\",\"2020-12-19T07:59:46\",\"2020-12-20T11:13:39\",\"2020-12-23T04:58:03\",\"2020-12-18T00:54:19\",\"2020-12-20T03:24:42\",\"2020-12-21T10:10:21\",\"2020-12-26T13:57:18\",\"2020-12-18T00:54:19\",\"2020-12-20T03:24:42\",\"2020-12-21T10:10:21\",\"2020-12-26T13:57:20\",\"2020-12-18T00:54:15\",\"2020-12-20T03:24:41\",\"2020-12-21T10:10:21\",\"2020-12-26T13:57:18\",\"2020-12-18T02:49:26\",\"2020-12-19T11:44:03\",\"2020-12-29T10:59:01\",\"2020-12-18T02:49:27\",\"2020-12-19T11:44:03\",\"2020-12-29T10:59:03\",\"2020-12-18T02:49:26\",\"2020-12-19T11:44:01\",\"2020-12-29T10:59:01\",\"2020-12-18T03:21:41\",\"2020-12-19T15:22:38\",\"2020-12-20T13:08:41\",\"2020-12-22T02:31:38\",\"2020-12-27T21:53:27\",\"2020-12-18T03:21:41\",\"2020-12-19T15:22:36\",\"2020-12-20T13:08:43\",\"2020-12-22T02:31:38\",\"2020-12-27T21:53:27\",\"2020-12-18T03:21:39\",\"2020-12-19T15:22:34\",\"2020-12-20T13:08:38\",\"2020-12-22T02:31:38\",\"2020-12-27T21:53:25\",\"2020-12-18T23:54:57\",\"2020-12-19T09:35:50\",\"2020-12-24T12:11:20\",\"2020-12-18T23:54:58\",\"2020-12-19T09:35:50\",\"2020-12-24T12:11:21\",\"2020-12-18T23:54:57\",\"2020-12-19T09:35:48\",\"2020-12-24T12:11:20\",\"2020-12-18T21:52:57\",\"2020-12-19T01:14:59\",\"2020-12-20T03:23:43\",\"2020-12-22T09:46:35\",\"2020-12-24T02:42:37\",\"2020-12-18T21:52:54\",\"2020-12-19T01:14:59\",\"2020-12-20T03:23:40\",\"2020-12-22T09:46:34\",\"2020-12-24T02:42:35\",\"2020-12-18T17:36:18\",\"2020-12-19T11:11:08\",\"2020-12-21T17:29:04\",\"2020-12-22T00:21:40\",\"2020-12-26T19:55:16\",\"2020-12-18T17:36:18\",\"2020-12-19T11:11:09\",\"2020-12-21T17:29:04\",\"2020-12-22T00:21:39\",\"2020-12-26T19:55:16\",\"2020-12-18T17:36:17\",\"2020-12-19T11:11:08\",\"2020-12-21T17:29:04\",\"2020-12-22T00:21:39\",\"2020-12-26T19:55:15\",\"2020-12-18T09:13:04\",\"2020-12-19T15:28:58\",\"2020-12-21T19:38:30\",\"2020-12-18T09:13:04\",\"2020-12-19T15:28:58\",\"2020-12-21T19:38:31\",\"2020-12-18T09:13:03\",\"2020-12-19T15:28:58\",\"2020-12-21T19:38:30\",\"2020-12-18T18:19:02\",\"2020-12-19T12:42:37\",\"2020-12-21T13:26:13\",\"2020-12-23T00:41:55\",\"2020-12-24T18:18:00\",\"2020-12-18T18:19:03\",\"2020-12-19T12:42:35\",\"2020-12-21T13:26:15\",\"2020-12-23T00:41:56\",\"2020-12-24T18:17:58\",\"2020-12-18T18:19:02\",\"2020-12-19T12:42:35\",\"2020-12-21T13:26:13\",\"2020-12-23T00:41:52\",\"2020-12-24T18:17:56\",\"2020-12-18T18:12:17\",\"2020-12-27T06:10:33\",\"2020-12-18T18:12:17\",\"2020-12-27T06:10:33\",\"2020-12-18T18:12:15\",\"2020-12-27T06:10:30\",\"2020-12-18T13:12:38\",\"2020-12-19T11:28:44\",\"2020-12-20T06:52:34\",\"2020-12-21T17:37:56\",\"2020-12-23T16:37:01\",\"2020-12-18T13:12:38\",\"2020-12-19T11:28:44\",\"2020-12-20T06:52:32\",\"2020-12-21T17:37:57\",\"2020-12-23T16:37:01\",\"2020-12-18T13:12:38\",\"2020-12-19T11:28:44\",\"2020-12-20T06:52:32\",\"2020-12-21T17:37:55\",\"2020-12-23T16:37:01\",\"2020-12-18T04:31:48\",\"2020-12-19T06:32:47\",\"2020-12-20T06:03:23\",\"2020-12-28T11:52:56\",\"2020-12-29T13:23:51\",\"2020-12-18T04:31:48\",\"2020-12-19T06:32:44\",\"2020-12-20T06:03:23\",\"2020-12-28T11:52:56\",\"2020-12-29T13:23:51\",\"2020-12-18T07:15:51\",\"2020-12-20T15:19:52\",\"2020-12-21T17:26:03\",\"2020-12-23T14:34:57\",\"2020-12-18T07:15:49\",\"2020-12-20T15:19:52\",\"2020-12-21T17:26:03\",\"2020-12-23T14:34:58\",\"2020-12-18T07:15:48\",\"2020-12-20T15:19:52\",\"2020-12-21T17:26:03\",\"2020-12-23T14:34:54\",\"2020-12-18T09:00:10\",\"2020-12-19T00:46:43\",\"2020-12-23T00:36:12\",\"2020-12-18T09:00:10\",\"2020-12-19T00:46:43\",\"2020-12-23T00:36:12\",\"2020-12-18T09:00:09\",\"2020-12-19T00:46:43\",\"2020-12-23T00:36:12\",\"2020-12-18T17:17:31\",\"2020-12-19T22:32:42\",\"2020-12-22T15:54:04\",\"2020-12-23T15:41:07\",\"2020-12-28T06:36:28\",\"2020-12-29T03:41:19\",\"2020-12-18T17:17:29\",\"2020-12-19T22:32:42\",\"2020-12-22T15:54:04\",\"2020-12-23T15:41:06\",\"2020-12-28T06:36:28\",\"2020-12-29T03:41:19\",\"2020-12-18T17:17:29\",\"2020-12-19T22:32:42\",\"2020-12-22T15:54:02\",\"2020-12-23T15:41:06\",\"2020-12-28T06:36:28\",\"2020-12-29T03:41:19\",\"2020-12-18T08:11:33\",\"2020-12-23T07:04:02\",\"2020-12-18T08:11:35\",\"2020-12-23T07:04:03\",\"2020-12-18T08:11:33\",\"2020-12-23T07:04:01\",\"2020-12-18T15:20:51\",\"2020-12-19T11:41:22\",\"2020-12-24T15:22:12\",\"2020-12-18T15:20:54\",\"2020-12-19T11:41:19\",\"2020-12-24T15:22:13\",\"2020-12-18T15:20:51\",\"2020-12-19T11:41:19\",\"2020-12-24T15:22:12\",\"2020-12-18T01:21:25\",\"2020-12-19T19:17:42\",\"2020-12-21T02:46:12\",\"2020-12-28T05:30:38\",\"2020-12-18T01:21:25\",\"2020-12-19T19:17:41\",\"2020-12-21T02:46:12\",\"2020-12-28T05:30:38\",\"2020-12-18T20:24:58\",\"2020-12-20T01:14:05\",\"2020-12-21T15:53:13\",\"2020-12-18T20:24:57\",\"2020-12-20T01:14:04\",\"2020-12-21T15:53:11\",\"2020-12-18T16:28:36\",\"2020-12-19T20:30:35\",\"2020-12-18T16:28:35\",\"2020-12-19T20:30:31\",\"2020-12-18T04:14:05\",\"2020-12-19T07:29:40\",\"2020-12-18T04:14:04\",\"2020-12-19T07:29:38\",\"2020-12-18T04:14:03\",\"2020-12-19T07:29:38\",\"2020-12-18T22:55:06\",\"2020-12-20T09:45:30\",\"2020-12-24T14:55:11\",\"2020-12-18T22:55:03\",\"2020-12-20T09:45:29\",\"2020-12-24T14:55:10\",\"2020-12-18T22:55:01\",\"2020-12-20T09:45:27\",\"2020-12-24T14:55:09\",\"2020-12-18T11:03:20\",\"2020-12-19T14:56:07\",\"2020-12-21T00:16:08\",\"2020-12-28T05:13:59\",\"2020-12-18T11:03:20\",\"2020-12-19T14:56:07\",\"2020-12-21T00:16:07\",\"2020-12-28T05:13:59\",\"2020-12-18T18:02:05\",\"2020-12-19T11:42:18\",\"2020-12-24T01:22:42\",\"2020-12-18T18:02:04\",\"2020-12-19T11:42:18\",\"2020-12-24T01:22:40\",\"2020-12-18T18:02:03\",\"2020-12-19T11:42:18\",\"2020-12-24T01:22:39\",\"2020-12-18T06:28:03\",\"2020-12-19T22:28:09\",\"2020-12-22T17:07:11\",\"2020-12-23T01:40:17\",\"2020-12-25T12:24:18\",\"2020-12-27T19:25:15\",\"2020-12-18T06:28:05\",\"2020-12-19T22:28:08\",\"2020-12-22T17:07:11\",\"2020-12-23T01:40:20\",\"2020-12-25T12:24:20\",\"2020-12-27T19:25:14\",\"2020-12-18T06:28:03\",\"2020-12-19T22:28:07\",\"2020-12-22T17:07:10\",\"2020-12-23T01:40:17\",\"2020-12-25T12:24:18\",\"2020-12-27T19:25:13\",\"2020-12-18T03:30:35\",\"2020-12-20T16:15:43\",\"2020-12-22T12:53:13\",\"2020-12-24T05:48:46\",\"2020-12-25T17:41:09\",\"2020-12-18T03:30:34\",\"2020-12-20T16:15:42\",\"2020-12-22T12:53:13\",\"2020-12-24T05:48:44\",\"2020-12-25T17:41:09\",\"2020-12-18T03:30:33\",\"2020-12-20T16:15:42\",\"2020-12-22T12:53:13\",\"2020-12-24T05:48:44\",\"2020-12-25T17:41:09\",\"2020-12-18T01:14:23\",\"2020-12-27T04:14:10\",\"2020-12-18T01:14:20\",\"2020-12-27T04:14:07\",\"2020-12-18T15:37:29\",\"2020-12-20T09:19:48\",\"2020-12-21T22:12:23\",\"2020-12-26T02:24:06\",\"2020-12-18T15:37:29\",\"2020-12-20T09:19:44\",\"2020-12-21T22:12:21\",\"2020-12-26T02:24:05\",\"2020-12-18T09:36:52\",\"2020-12-20T11:03:30\",\"2020-12-21T10:01:40\",\"2020-12-22T22:01:28\",\"2020-12-25T15:33:57\",\"2020-12-18T09:36:52\",\"2020-12-20T11:03:29\",\"2020-12-21T10:01:40\",\"2020-12-22T22:01:28\",\"2020-12-25T15:33:56\",\"2020-12-18T09:36:50\",\"2020-12-20T11:03:29\",\"2020-12-21T10:01:40\",\"2020-12-22T22:01:27\",\"2020-12-25T15:33:55\",\"2020-12-18T14:36:31\",\"2020-12-22T13:09:23\",\"2020-12-18T14:36:32\",\"2020-12-22T13:09:23\",\"2020-12-18T14:36:31\",\"2020-12-22T13:09:22\",\"2020-12-18T10:35:21\",\"2020-12-19T05:07:21\",\"2020-12-24T05:42:35\",\"2020-12-18T10:35:21\",\"2020-12-19T05:07:21\",\"2020-12-24T05:42:35\",\"2020-12-18T10:35:21\",\"2020-12-19T05:07:21\",\"2020-12-24T05:42:35\",\"2020-12-18T06:51:19\",\"2020-12-22T17:31:58\",\"2020-12-28T15:40:25\",\"2020-12-18T06:51:19\",\"2020-12-22T17:31:56\",\"2020-12-28T15:40:24\",\"2020-12-18T06:51:19\",\"2020-12-22T17:31:53\",\"2020-12-28T15:40:24\",\"2020-12-18T10:58:19\",\"2020-12-18T10:58:19\",\"2020-12-18T10:58:18\",\"2020-12-18T06:37:50\",\"2020-12-19T16:29:03\",\"2020-12-21T08:53:19\",\"2020-12-29T02:21:26\",\"2020-12-18T06:37:49\",\"2020-12-19T16:29:03\",\"2020-12-21T08:53:19\",\"2020-12-29T02:21:26\",\"2020-12-18T23:53:39\",\"2020-12-19T05:06:07\",\"2020-12-20T17:23:34\",\"2020-12-22T22:35:22\",\"2020-12-18T23:53:37\",\"2020-12-19T05:06:06\",\"2020-12-20T17:23:36\",\"2020-12-22T22:35:22\",\"2020-12-18T23:53:37\",\"2020-12-19T05:06:06\",\"2020-12-20T17:23:33\",\"2020-12-22T22:35:22\",\"2020-12-18T16:05:42\",\"2020-12-19T03:42:17\",\"2020-12-23T07:25:08\",\"2020-12-18T16:05:40\",\"2020-12-19T03:42:15\",\"2020-12-23T07:25:10\",\"2020-12-18T16:05:40\",\"2020-12-19T03:42:13\",\"2020-12-23T07:25:08\",\"2020-12-18T17:19:03\",\"2020-12-22T22:55:49\",\"2020-12-18T17:19:04\",\"2020-12-22T22:55:49\",\"2020-12-18T17:19:03\",\"2020-12-22T22:55:49\",\"2020-12-18T21:23:20\",\"2020-12-19T23:18:49\",\"2020-12-20T03:50:09\",\"2020-12-21T10:35:47\",\"2020-12-26T10:10:40\",\"2020-12-18T21:23:15\",\"2020-12-19T23:18:47\",\"2020-12-20T03:50:07\",\"2020-12-21T10:35:47\",\"2020-12-26T10:10:34\",\"2020-12-18T07:52:57\",\"2020-12-19T14:57:48\",\"2020-12-20T15:18:42\",\"2020-12-22T09:06:42\",\"2020-12-18T07:52:56\",\"2020-12-19T14:57:46\",\"2020-12-20T15:18:42\",\"2020-12-22T09:06:42\",\"2020-12-18T07:52:55\",\"2020-12-19T14:57:46\",\"2020-12-20T15:18:40\",\"2020-12-22T09:06:42\",\"2020-12-18T05:54:27\",\"2020-12-19T17:24:10\",\"2020-12-20T01:20:53\",\"2020-12-18T05:54:29\",\"2020-12-19T17:24:12\",\"2020-12-20T01:20:54\",\"2020-12-18T05:54:27\",\"2020-12-19T17:24:10\",\"2020-12-20T01:20:53\",\"2020-12-18T04:34:01\",\"2020-12-19T11:06:12\",\"2020-12-23T19:37:24\",\"2020-12-18T04:34:01\",\"2020-12-19T11:06:11\",\"2020-12-23T19:37:22\",\"2020-12-18T04:33:59\",\"2020-12-19T11:06:11\",\"2020-12-23T19:37:22\",\"2020-12-18T21:30:40\",\"2020-12-20T21:58:08\",\"2020-12-23T04:33:27\",\"2020-12-24T02:35:39\",\"2020-12-18T21:30:40\",\"2020-12-20T21:58:08\",\"2020-12-23T04:33:27\",\"2020-12-24T02:35:37\",\"2020-12-18T21:30:40\",\"2020-12-20T21:58:06\",\"2020-12-23T04:33:27\",\"2020-12-24T02:35:36\",\"2020-12-18T15:53:20\",\"2020-12-24T06:44:31\",\"2020-12-18T15:53:19\",\"2020-12-24T06:44:31\",\"2020-12-18T15:53:18\",\"2020-12-24T06:44:30\",\"2020-12-18T14:15:23\",\"2020-12-21T17:00:06\",\"2020-12-18T14:15:23\",\"2020-12-21T17:00:08\",\"2020-12-18T14:15:22\",\"2020-12-21T17:00:06\",\"2020-12-18T09:46:31\",\"2020-12-20T02:01:55\",\"2020-12-22T17:11:18\",\"2020-12-18T09:46:31\",\"2020-12-20T02:01:54\",\"2020-12-22T17:11:14\",\"2020-12-18T11:31:11\",\"2020-12-23T02:20:58\",\"2020-12-18T11:31:10\",\"2020-12-23T02:20:57\",\"2020-12-18T11:31:09\",\"2020-12-23T02:20:57\",\"2020-12-18T02:54:29\",\"2020-12-18T02:54:29\",\"2020-12-18T06:50:55\",\"2020-12-19T03:01:48\",\"2020-12-20T09:49:49\",\"2020-12-18T06:50:56\",\"2020-12-19T03:01:48\",\"2020-12-20T09:49:50\",\"2020-12-18T06:50:55\",\"2020-12-19T03:01:48\",\"2020-12-20T09:49:47\",\"2020-12-18T07:54:01\",\"2020-12-18T07:54:03\",\"2020-12-18T07:54:01\",\"2020-12-18T13:19:19\",\"2020-12-26T04:20:50\",\"2020-12-29T21:30:51\",\"2020-12-18T13:19:25\",\"2020-12-26T04:20:50\",\"2020-12-29T21:30:52\",\"2020-12-18T13:19:19\",\"2020-12-26T04:20:50\",\"2020-12-29T21:30:48\",\"2020-12-19T04:47:50\",\"2020-12-19T04:47:48\",\"2020-12-19T12:05:52\",\"2020-12-20T14:34:14\",\"2020-12-19T12:05:49\",\"2020-12-20T14:34:13\",\"2020-12-19T01:00:06\",\"2020-12-21T00:06:48\",\"2020-12-19T01:00:05\",\"2020-12-21T00:06:46\",\"2020-12-19T19:50:57\",\"2020-12-20T22:08:21\",\"2020-12-21T05:57:25\",\"2020-12-22T14:51:18\",\"2020-12-19T19:50:57\",\"2020-12-20T22:08:23\",\"2020-12-21T05:57:27\",\"2020-12-22T14:51:18\",\"2020-12-19T19:50:56\",\"2020-12-20T22:08:21\",\"2020-12-21T05:57:25\",\"2020-12-22T14:51:17\",\"2020-12-19T14:22:00\",\"2020-12-21T05:33:49\",\"2020-12-29T08:08:02\",\"2020-12-19T14:21:58\",\"2020-12-21T05:33:47\",\"2020-12-29T08:08:02\",\"2020-12-19T13:35:57\",\"2020-12-20T22:29:39\",\"2020-12-21T12:14:35\",\"2020-12-22T00:06:04\",\"2020-12-29T12:55:27\",\"2020-12-19T13:35:57\",\"2020-12-20T22:29:39\",\"2020-12-21T12:14:35\",\"2020-12-22T00:06:06\",\"2020-12-29T12:55:28\",\"2020-12-19T13:35:54\",\"2020-12-20T22:29:38\",\"2020-12-21T12:14:34\",\"2020-12-22T00:06:04\",\"2020-12-29T12:55:27\",\"2020-12-19T22:41:34\",\"2020-12-21T09:43:10\",\"2020-12-19T22:41:31\",\"2020-12-21T09:43:10\",\"2020-12-19T22:41:31\",\"2020-12-21T09:43:10\",\"2020-12-19T08:50:32\",\"2020-12-20T15:58:06\",\"2020-12-21T10:04:21\",\"2020-12-19T08:50:32\",\"2020-12-20T15:58:07\",\"2020-12-21T10:04:19\",\"2020-12-19T08:50:32\",\"2020-12-20T15:58:06\",\"2020-12-21T10:04:18\",\"2020-12-19T13:09:50\",\"2020-12-20T07:05:37\",\"2020-12-26T20:24:47\",\"2020-12-19T13:09:50\",\"2020-12-20T07:05:35\",\"2020-12-26T20:24:44\",\"2020-12-19T03:42:53\",\"2020-12-20T00:24:39\",\"2020-12-21T02:16:04\",\"2020-12-19T03:42:54\",\"2020-12-20T00:24:36\",\"2020-12-21T02:16:00\",\"2020-12-19T03:42:52\",\"2020-12-20T00:24:36\",\"2020-12-21T02:16:00\",\"2020-12-19T22:48:43\",\"2020-12-19T22:48:43\",\"2020-12-19T22:48:41\",\"2020-12-19T17:43:23\",\"2020-12-21T10:48:37\",\"2020-12-22T17:12:00\",\"2020-12-23T17:29:17\",\"2020-12-24T12:11:32\",\"2020-12-27T06:44:00\",\"2020-12-19T17:43:20\",\"2020-12-21T10:48:35\",\"2020-12-22T17:12:00\",\"2020-12-23T17:29:17\",\"2020-12-24T12:11:32\",\"2020-12-27T06:43:59\",\"2020-12-19T17:43:19\",\"2020-12-21T10:48:34\",\"2020-12-22T17:11:58\",\"2020-12-23T17:29:16\",\"2020-12-24T12:11:32\",\"2020-12-27T06:43:59\",\"2020-12-19T00:14:55\",\"2020-12-23T13:28:29\",\"2020-12-25T12:07:02\",\"2020-12-19T00:14:55\",\"2020-12-23T13:28:28\",\"2020-12-25T12:07:03\",\"2020-12-19T00:14:53\",\"2020-12-23T13:28:25\",\"2020-12-25T12:07:02\",\"2020-12-19T07:18:43\",\"2020-12-24T16:45:40\",\"2020-12-28T00:27:50\",\"2020-12-19T07:18:43\",\"2020-12-24T16:45:39\",\"2020-12-28T00:27:50\",\"2020-12-19T21:22:07\",\"2020-12-20T21:55:15\",\"2020-12-22T06:37:22\",\"2020-12-19T21:22:07\",\"2020-12-20T21:55:16\",\"2020-12-22T06:37:21\",\"2020-12-19T21:22:07\",\"2020-12-20T21:55:15\",\"2020-12-22T06:37:21\",\"2020-12-19T09:34:33\",\"2020-12-22T09:42:31\",\"2020-12-26T04:45:05\",\"2020-12-19T09:34:34\",\"2020-12-22T09:42:31\",\"2020-12-26T04:45:06\",\"2020-12-19T09:34:33\",\"2020-12-22T09:42:31\",\"2020-12-26T04:45:05\",\"2020-12-19T02:12:01\",\"2020-12-28T01:19:04\",\"2020-12-19T02:12:01\",\"2020-12-28T01:19:04\",\"2020-12-19T05:39:15\",\"2020-12-21T11:56:49\",\"2020-12-27T05:17:42\",\"2020-12-19T05:39:17\",\"2020-12-21T11:56:49\",\"2020-12-27T05:17:43\",\"2020-12-19T05:39:15\",\"2020-12-21T11:56:49\",\"2020-12-27T05:17:41\",\"2020-12-19T03:10:36\",\"2020-12-20T11:36:05\",\"2020-12-25T19:45:45\",\"2020-12-19T03:10:35\",\"2020-12-20T11:36:04\",\"2020-12-25T19:45:45\",\"2020-12-19T01:06:29\",\"2020-12-20T04:11:04\",\"2020-12-22T06:28:10\",\"2020-12-27T12:06:17\",\"2020-12-19T01:06:29\",\"2020-12-20T04:11:04\",\"2020-12-22T06:28:09\",\"2020-12-27T12:06:17\",\"2020-12-19T01:06:29\",\"2020-12-20T04:11:02\",\"2020-12-22T06:28:08\",\"2020-12-27T12:06:16\",\"2020-12-19T21:53:33\",\"2020-12-24T05:28:06\",\"2020-12-19T21:53:30\",\"2020-12-24T05:28:04\",\"2020-12-19T21:53:30\",\"2020-12-24T05:28:03\",\"2020-12-19T13:27:38\",\"2020-12-21T16:00:45\",\"2020-12-24T13:50:19\",\"2020-12-19T13:27:39\",\"2020-12-21T16:00:45\",\"2020-12-24T13:50:19\",\"2020-12-19T13:27:38\",\"2020-12-21T16:00:45\",\"2020-12-24T13:50:19\",\"2020-12-19T19:55:08\",\"2020-12-19T19:55:08\",\"2020-12-19T19:55:08\",\"2020-12-19T09:09:12\",\"2020-12-22T09:42:36\",\"2020-12-23T05:38:41\",\"2020-12-25T07:45:00\",\"2020-12-19T09:09:12\",\"2020-12-22T09:42:36\",\"2020-12-23T05:38:41\",\"2020-12-25T07:44:59\",\"2020-12-19T09:09:11\",\"2020-12-22T09:42:35\",\"2020-12-23T05:38:40\",\"2020-12-25T07:44:59\",\"2020-12-19T09:46:10\",\"2020-12-20T23:00:34\",\"2020-12-21T04:45:14\",\"2020-12-23T00:16:54\",\"2020-12-19T09:46:13\",\"2020-12-20T23:00:36\",\"2020-12-21T04:45:13\",\"2020-12-23T00:16:54\",\"2020-12-19T09:46:10\",\"2020-12-20T23:00:34\",\"2020-12-21T04:45:13\",\"2020-12-23T00:16:53\",\"2020-12-19T17:08:49\",\"2020-12-20T06:29:24\",\"2020-12-28T02:08:48\",\"2020-12-19T17:08:49\",\"2020-12-20T06:29:24\",\"2020-12-28T02:08:49\",\"2020-12-19T17:08:46\",\"2020-12-20T06:29:22\",\"2020-12-28T02:08:48\",\"2020-12-19T04:13:50\",\"2020-12-20T09:20:23\",\"2020-12-23T08:27:55\",\"2020-12-24T06:28:07\",\"2020-12-19T04:13:50\",\"2020-12-20T09:20:23\",\"2020-12-23T08:27:56\",\"2020-12-24T06:28:07\",\"2020-12-19T04:13:48\",\"2020-12-20T09:20:23\",\"2020-12-23T08:27:54\",\"2020-12-24T06:28:07\",\"2020-12-19T04:59:44\",\"2020-12-20T10:16:55\",\"2020-12-22T08:22:00\",\"2020-12-19T04:59:43\",\"2020-12-20T10:16:55\",\"2020-12-22T08:21:59\",\"2020-12-19T03:17:38\",\"2020-12-20T14:12:24\",\"2020-12-19T03:17:38\",\"2020-12-20T14:12:23\",\"2020-12-19T03:17:38\",\"2020-12-20T14:12:23\",\"2020-12-19T00:56:53\",\"2020-12-21T15:54:43\",\"2020-12-19T00:56:53\",\"2020-12-21T15:54:43\",\"2020-12-19T00:56:53\",\"2020-12-21T15:54:43\",\"2020-12-19T15:18:39\",\"2020-12-20T07:31:41\",\"2020-12-28T22:15:53\",\"2020-12-19T15:18:39\",\"2020-12-20T07:31:41\",\"2020-12-28T22:15:51\",\"2020-12-19T12:04:10\",\"2020-12-23T10:07:21\",\"2020-12-19T12:04:10\",\"2020-12-23T10:07:16\",\"2020-12-19T16:38:35\",\"2020-12-20T03:03:16\",\"2020-12-19T16:38:35\",\"2020-12-20T03:03:16\",\"2020-12-19T18:02:52\",\"2020-12-20T18:57:12\",\"2020-12-24T15:51:48\",\"2020-12-28T03:37:12\",\"2020-12-29T01:05:40\",\"2020-12-19T18:02:54\",\"2020-12-20T18:57:11\",\"2020-12-24T15:51:49\",\"2020-12-28T03:37:12\",\"2020-12-29T01:05:42\",\"2020-12-19T18:02:52\",\"2020-12-20T18:57:11\",\"2020-12-24T15:51:48\",\"2020-12-28T03:37:12\",\"2020-12-29T01:05:40\",\"2020-12-19T10:38:57\",\"2020-12-24T03:40:28\",\"2020-12-29T17:30:14\",\"2020-12-19T10:38:57\",\"2020-12-24T03:40:28\",\"2020-12-29T17:30:15\",\"2020-12-19T10:38:54\",\"2020-12-24T03:40:25\",\"2020-12-29T17:30:14\",\"2020-12-19T15:26:07\",\"2020-12-20T01:23:53\",\"2020-12-24T01:31:30\",\"2020-12-19T15:26:04\",\"2020-12-20T01:23:53\",\"2020-12-24T01:31:28\",\"2020-12-19T15:26:04\",\"2020-12-20T01:23:53\",\"2020-12-24T01:31:28\",\"2020-12-19T09:14:24\",\"2020-12-27T08:42:30\",\"2020-12-19T09:14:27\",\"2020-12-27T08:42:30\",\"2020-12-19T09:14:24\",\"2020-12-27T08:42:30\",\"2020-12-19T07:40:13\",\"2020-12-20T09:29:55\",\"2020-12-19T07:40:13\",\"2020-12-20T09:29:55\",\"2020-12-19T07:40:13\",\"2020-12-20T09:29:55\",\"2020-12-19T01:01:55\",\"2020-12-20T16:41:19\",\"2020-12-23T15:02:27\",\"2020-12-19T01:01:54\",\"2020-12-20T16:41:19\",\"2020-12-23T15:02:27\",\"2020-12-19T19:29:18\",\"2020-12-21T01:33:11\",\"2020-12-24T12:01:51\",\"2020-12-27T02:48:26\",\"2020-12-19T19:29:18\",\"2020-12-21T01:33:09\",\"2020-12-24T12:01:51\",\"2020-12-27T02:48:26\",\"2020-12-19T00:04:49\",\"2020-12-22T19:04:37\",\"2020-12-28T12:42:31\",\"2020-12-19T00:04:49\",\"2020-12-22T19:04:37\",\"2020-12-28T12:42:32\",\"2020-12-19T00:04:48\",\"2020-12-22T19:04:37\",\"2020-12-28T12:42:31\",\"2020-12-19T01:49:14\",\"2020-12-20T21:34:01\",\"2020-12-26T12:30:34\",\"2020-12-19T01:49:11\",\"2020-12-20T21:34:00\",\"2020-12-26T12:30:34\",\"2020-12-19T14:56:37\",\"2020-12-20T14:52:39\",\"2020-12-21T17:02:17\",\"2020-12-29T01:22:56\",\"2020-12-19T14:56:36\",\"2020-12-20T14:52:38\",\"2020-12-21T17:02:17\",\"2020-12-29T01:22:52\",\"2020-12-19T05:45:16\",\"2020-12-21T17:51:03\",\"2020-12-22T23:40:11\",\"2020-12-19T05:45:16\",\"2020-12-21T17:51:03\",\"2020-12-22T23:40:10\",\"2020-12-19T05:45:16\",\"2020-12-21T17:51:01\",\"2020-12-22T23:40:09\",\"2020-12-19T02:47:18\",\"2020-12-20T20:19:26\",\"2020-12-22T07:30:24\",\"2020-12-19T02:47:17\",\"2020-12-20T20:19:26\",\"2020-12-22T07:30:23\",\"2020-12-19T02:47:17\",\"2020-12-20T20:19:26\",\"2020-12-22T07:30:23\",\"2020-12-19T23:51:19\",\"2020-12-21T08:22:27\",\"2020-12-23T14:49:50\",\"2020-12-25T05:46:27\",\"2020-12-29T07:10:24\",\"2020-12-19T23:51:17\",\"2020-12-21T08:22:26\",\"2020-12-23T14:49:49\",\"2020-12-25T05:46:25\",\"2020-12-29T07:10:22\",\"2020-12-20T20:05:09\",\"2020-12-22T23:09:40\",\"2020-12-27T10:16:26\",\"2020-12-20T20:05:08\",\"2020-12-22T23:09:38\",\"2020-12-27T10:16:25\",\"2020-12-20T20:05:07\",\"2020-12-22T23:09:37\",\"2020-12-27T10:16:25\",\"2020-12-20T15:45:01\",\"2020-12-21T16:51:25\",\"2020-12-26T07:05:58\",\"2020-12-20T15:45:00\",\"2020-12-21T16:51:25\",\"2020-12-26T07:05:57\",\"2020-12-20T15:45:00\",\"2020-12-21T16:51:24\",\"2020-12-26T07:05:55\",\"2020-12-20T14:17:36\",\"2020-12-24T08:16:44\",\"2020-12-20T14:17:39\",\"2020-12-24T08:16:46\",\"2020-12-20T14:17:36\",\"2020-12-24T08:16:44\",\"2020-12-20T05:39:27\",\"2020-12-22T13:24:25\",\"2020-12-23T17:53:27\",\"2020-12-20T05:39:27\",\"2020-12-22T13:24:24\",\"2020-12-23T17:53:27\",\"2020-12-20T12:36:30\",\"2020-12-20T12:36:29\",\"2020-12-20T12:36:28\",\"2020-12-20T04:01:04\",\"2020-12-22T07:10:45\",\"2020-12-28T00:30:53\",\"2020-12-20T04:01:01\",\"2020-12-22T07:10:45\",\"2020-12-28T00:30:53\",\"2020-12-20T04:50:12\",\"2020-12-23T22:02:12\",\"2020-12-20T04:50:12\",\"2020-12-23T22:02:11\",\"2020-12-20T16:53:31\",\"2020-12-21T02:57:07\",\"2020-12-26T23:18:53\",\"2020-12-20T16:53:28\",\"2020-12-21T02:57:07\",\"2020-12-26T23:18:53\",\"2020-12-20T16:53:28\",\"2020-12-21T02:57:05\",\"2020-12-26T23:18:53\",\"2020-12-20T13:54:11\",\"2020-12-24T11:36:14\",\"2020-12-20T13:54:11\",\"2020-12-24T11:36:14\",\"2020-12-20T13:54:11\",\"2020-12-24T11:36:14\",\"2020-12-20T08:10:51\",\"2020-12-22T17:19:30\",\"2020-12-24T08:14:40\",\"2020-12-20T08:10:52\",\"2020-12-22T17:19:31\",\"2020-12-24T08:14:41\",\"2020-12-20T08:10:50\",\"2020-12-22T17:19:30\",\"2020-12-24T08:14:40\",\"2020-12-20T04:19:18\",\"2020-12-21T10:59:44\",\"2020-12-22T23:34:47\",\"2020-12-20T04:19:18\",\"2020-12-21T10:59:43\",\"2020-12-22T23:34:45\",\"2020-12-20T02:36:35\",\"2020-12-20T02:36:33\",\"2020-12-20T02:36:33\",\"2020-12-20T17:35:56\",\"2020-12-20T17:35:55\",\"2020-12-20T17:35:54\",\"2020-12-20T09:21:41\",\"2020-12-26T09:51:00\",\"2020-12-20T09:21:41\",\"2020-12-26T09:51:00\",\"2020-12-20T09:21:40\",\"2020-12-26T09:51:00\",\"2020-12-20T21:36:40\",\"2020-12-21T20:26:10\",\"2020-12-22T00:45:06\",\"2020-12-24T13:40:26\",\"2020-12-26T11:26:51\",\"2020-12-20T21:36:40\",\"2020-12-21T20:26:11\",\"2020-12-22T00:45:10\",\"2020-12-24T13:40:26\",\"2020-12-26T11:26:48\",\"2020-12-20T21:36:40\",\"2020-12-21T20:26:10\",\"2020-12-22T00:45:06\",\"2020-12-24T13:40:26\",\"2020-12-26T11:26:48\",\"2020-12-20T21:48:07\",\"2020-12-21T08:12:37\",\"2020-12-22T10:20:06\",\"2020-12-27T04:26:34\",\"2020-12-28T07:01:27\",\"2020-12-20T21:48:10\",\"2020-12-21T08:12:37\",\"2020-12-22T10:20:06\",\"2020-12-27T04:26:34\",\"2020-12-28T07:01:27\",\"2020-12-20T21:48:07\",\"2020-12-21T08:12:37\",\"2020-12-22T10:20:06\",\"2020-12-27T04:26:34\",\"2020-12-28T07:01:24\",\"2020-12-20T06:53:05\",\"2020-12-22T18:47:04\",\"2020-12-20T06:53:05\",\"2020-12-22T18:47:04\",\"2020-12-20T05:27:32\",\"2020-12-21T21:12:41\",\"2020-12-22T09:52:14\",\"2020-12-25T14:06:16\",\"2020-12-20T05:27:32\",\"2020-12-21T21:12:38\",\"2020-12-22T09:52:15\",\"2020-12-25T14:06:17\",\"2020-12-20T05:27:29\",\"2020-12-21T21:12:38\",\"2020-12-22T09:52:14\",\"2020-12-25T14:06:15\",\"2020-12-20T05:08:01\",\"2020-12-22T19:09:08\",\"2020-12-20T05:08:01\",\"2020-12-22T19:09:09\",\"2020-12-20T05:08:00\",\"2020-12-22T19:09:08\",\"2020-12-20T04:51:38\",\"2020-12-21T10:10:02\",\"2020-12-23T19:45:48\",\"2020-12-24T13:18:55\",\"2020-12-20T04:51:36\",\"2020-12-21T10:10:02\",\"2020-12-23T19:45:47\",\"2020-12-24T13:18:55\",\"2020-12-20T05:05:47\",\"2020-12-21T05:32:49\",\"2020-12-20T05:05:46\",\"2020-12-21T05:32:49\",\"2020-12-20T05:05:46\",\"2020-12-21T05:32:49\",\"2020-12-20T10:02:57\",\"2020-12-21T20:50:02\",\"2020-12-22T13:07:47\",\"2020-12-20T10:02:57\",\"2020-12-21T20:50:02\",\"2020-12-22T13:07:45\",\"2020-12-20T10:02:57\",\"2020-12-21T20:50:00\",\"2020-12-22T13:07:45\",\"2020-12-20T02:45:03\",\"2020-12-26T14:35:03\",\"2020-12-20T02:45:03\",\"2020-12-26T14:35:03\",\"2020-12-20T23:36:08\",\"2020-12-21T14:32:38\",\"2020-12-24T00:42:22\",\"2020-12-28T11:58:23\",\"2020-12-20T23:36:08\",\"2020-12-21T14:32:38\",\"2020-12-24T00:42:21\",\"2020-12-28T11:58:23\",\"2020-12-20T23:36:06\",\"2020-12-21T14:32:37\",\"2020-12-24T00:42:21\",\"2020-12-28T11:58:22\",\"2020-12-20T00:35:18\",\"2020-12-20T00:35:19\",\"2020-12-20T00:35:17\",\"2020-12-20T21:37:15\",\"2020-12-21T00:02:07\",\"2020-12-22T18:09:10\",\"2020-12-26T07:25:14\",\"2020-12-27T23:53:30\",\"2020-12-20T21:37:15\",\"2020-12-21T00:02:06\",\"2020-12-22T18:09:10\",\"2020-12-26T07:25:12\",\"2020-12-27T23:53:30\",\"2020-12-20T19:03:25\",\"2020-12-21T18:57:46\",\"2020-12-22T04:55:15\",\"2020-12-20T19:03:26\",\"2020-12-21T18:57:45\",\"2020-12-22T04:55:14\",\"2020-12-20T19:03:24\",\"2020-12-21T18:57:45\",\"2020-12-22T04:55:14\",\"2020-12-20T02:55:58\",\"2020-12-20T02:55:58\",\"2020-12-20T20:59:36\",\"2020-12-21T16:57:04\",\"2020-12-20T20:59:35\",\"2020-12-21T16:57:04\",\"2020-12-20T20:59:35\",\"2020-12-21T16:57:02\",\"2020-12-20T11:58:08\",\"2020-12-20T11:58:07\",\"2020-12-20T11:58:06\",\"2020-12-20T13:05:46\",\"2020-12-22T15:51:02\",\"2020-12-23T19:12:44\",\"2020-12-27T06:23:36\",\"2020-12-29T02:22:45\",\"2020-12-20T13:05:46\",\"2020-12-22T15:51:02\",\"2020-12-23T19:12:44\",\"2020-12-27T06:23:36\",\"2020-12-29T02:22:46\",\"2020-12-20T13:05:46\",\"2020-12-22T15:51:01\",\"2020-12-23T19:12:43\",\"2020-12-27T06:23:36\",\"2020-12-29T02:22:43\",\"2020-12-20T13:09:49\",\"2020-12-21T02:44:18\",\"2020-12-23T14:41:13\",\"2020-12-20T13:09:49\",\"2020-12-21T02:44:19\",\"2020-12-23T14:41:11\",\"2020-12-20T13:09:48\",\"2020-12-21T02:44:18\",\"2020-12-23T14:41:10\",\"2020-12-20T03:05:35\",\"2020-12-22T19:59:47\",\"2020-12-20T03:05:33\",\"2020-12-22T19:59:46\",\"2020-12-20T06:47:40\",\"2020-12-21T05:55:38\",\"2020-12-22T16:05:25\",\"2020-12-24T11:29:10\",\"2020-12-26T07:50:49\",\"2020-12-20T06:47:40\",\"2020-12-21T05:55:38\",\"2020-12-22T16:05:25\",\"2020-12-24T11:29:11\",\"2020-12-26T07:50:49\",\"2020-12-20T06:47:39\",\"2020-12-21T05:55:34\",\"2020-12-22T16:05:24\",\"2020-12-24T11:29:08\",\"2020-12-26T07:50:47\",\"2020-12-20T18:20:56\",\"2020-12-22T09:58:07\",\"2020-12-20T18:20:54\",\"2020-12-22T09:58:07\",\"2020-12-20T03:57:23\",\"2020-12-23T06:41:05\",\"2020-12-20T03:57:23\",\"2020-12-23T06:41:02\",\"2020-12-20T09:13:52\",\"2020-12-24T05:09:58\",\"2020-12-20T09:13:51\",\"2020-12-24T05:10:02\",\"2020-12-20T09:13:51\",\"2020-12-24T05:09:58\",\"2020-12-20T16:55:49\",\"2020-12-21T06:56:25\",\"2020-12-20T16:55:49\",\"2020-12-21T06:56:24\",\"2020-12-20T16:55:49\",\"2020-12-21T06:56:23\",\"2020-12-20T02:54:11\",\"2020-12-24T16:12:25\",\"2020-12-20T02:54:10\",\"2020-12-24T16:12:26\",\"2020-12-20T02:54:10\",\"2020-12-24T16:12:25\",\"2020-12-21T12:28:06\",\"2020-12-24T23:32:11\",\"2020-12-26T12:40:38\",\"2020-12-21T12:28:08\",\"2020-12-24T23:32:08\",\"2020-12-26T12:40:39\",\"2020-12-21T12:28:06\",\"2020-12-24T23:32:07\",\"2020-12-26T12:40:38\",\"2020-12-21T20:22:15\",\"2020-12-22T15:43:32\",\"2020-12-25T21:02:07\",\"2020-12-21T20:22:14\",\"2020-12-22T15:43:32\",\"2020-12-25T21:02:07\",\"2020-12-21T15:27:31\",\"2020-12-26T13:22:01\",\"2020-12-27T10:37:41\",\"2020-12-21T15:27:31\",\"2020-12-26T13:22:02\",\"2020-12-27T10:37:42\",\"2020-12-21T15:27:30\",\"2020-12-26T13:22:01\",\"2020-12-27T10:37:40\",\"2020-12-21T22:54:54\",\"2020-12-22T12:03:31\",\"2020-12-29T01:39:23\",\"2020-12-21T22:54:51\",\"2020-12-22T12:03:31\",\"2020-12-29T01:39:23\",\"2020-12-21T22:54:49\",\"2020-12-22T12:03:30\",\"2020-12-29T01:39:21\",\"2020-12-21T23:08:56\",\"2020-12-22T04:05:55\",\"2020-12-24T04:57:32\",\"2020-12-21T23:08:54\",\"2020-12-22T04:05:55\",\"2020-12-24T04:57:31\",\"2020-12-21T08:19:46\",\"2020-12-22T02:27:15\",\"2020-12-23T02:01:01\",\"2020-12-29T13:12:50\",\"2020-12-21T08:19:47\",\"2020-12-22T02:27:15\",\"2020-12-23T02:00:58\",\"2020-12-29T13:12:50\",\"2020-12-21T08:19:45\",\"2020-12-22T02:27:15\",\"2020-12-23T02:00:57\",\"2020-12-29T13:12:50\",\"2020-12-21T15:37:16\",\"2020-12-23T19:55:36\",\"2020-12-27T15:58:14\",\"2020-12-21T15:37:16\",\"2020-12-23T19:55:36\",\"2020-12-27T15:58:14\",\"2020-12-21T15:37:16\",\"2020-12-23T19:55:36\",\"2020-12-27T15:58:14\",\"2020-12-21T05:43:17\",\"2020-12-23T07:07:09\",\"2020-12-24T08:43:53\",\"2020-12-28T16:02:12\",\"2020-12-21T05:43:17\",\"2020-12-23T07:07:06\",\"2020-12-24T08:43:50\",\"2020-12-28T16:02:12\",\"2020-12-21T15:53:33\",\"2020-12-26T18:36:33\",\"2020-12-27T17:28:25\",\"2020-12-21T15:53:35\",\"2020-12-26T18:36:32\",\"2020-12-27T17:28:25\",\"2020-12-21T15:53:32\",\"2020-12-26T18:36:30\",\"2020-12-27T17:28:25\",\"2020-12-21T16:51:18\",\"2020-12-24T19:30:15\",\"2020-12-25T18:17:17\",\"2020-12-21T16:51:17\",\"2020-12-24T19:30:15\",\"2020-12-25T18:17:19\",\"2020-12-21T16:51:17\",\"2020-12-24T19:30:14\",\"2020-12-25T18:17:17\",\"2020-12-21T12:17:43\",\"2020-12-22T00:46:31\",\"2020-12-24T10:50:49\",\"2020-12-21T12:17:43\",\"2020-12-22T00:46:28\",\"2020-12-24T10:50:50\",\"2020-12-21T12:17:43\",\"2020-12-22T00:46:28\",\"2020-12-24T10:50:48\",\"2020-12-21T04:52:07\",\"2020-12-24T04:14:45\",\"2020-12-21T04:52:06\",\"2020-12-24T04:14:47\",\"2020-12-21T04:52:06\",\"2020-12-24T04:14:43\",\"2020-12-21T20:32:41\",\"2020-12-22T14:13:05\",\"2020-12-24T18:00:27\",\"2020-12-27T05:47:35\",\"2020-12-21T20:32:39\",\"2020-12-22T14:13:06\",\"2020-12-24T18:00:29\",\"2020-12-27T05:47:33\",\"2020-12-21T20:32:39\",\"2020-12-22T14:13:05\",\"2020-12-24T18:00:27\",\"2020-12-27T05:47:33\",\"2020-12-21T11:19:41\",\"2020-12-22T09:56:49\",\"2020-12-21T11:19:39\",\"2020-12-22T09:56:52\",\"2020-12-21T11:19:38\",\"2020-12-22T09:56:48\",\"2020-12-21T01:18:45\",\"2020-12-23T12:07:58\",\"2020-12-26T10:46:13\",\"2020-12-27T05:35:55\",\"2020-12-28T02:40:10\",\"2020-12-21T01:18:43\",\"2020-12-23T12:07:56\",\"2020-12-26T10:46:13\",\"2020-12-27T05:35:55\",\"2020-12-28T02:40:10\",\"2020-12-21T04:40:10\",\"2020-12-22T14:06:15\",\"2020-12-29T08:20:32\",\"2020-12-21T04:40:10\",\"2020-12-22T14:06:15\",\"2020-12-29T08:20:31\",\"2020-12-21T09:50:56\",\"2020-12-22T08:49:16\",\"2020-12-21T09:50:55\",\"2020-12-22T08:49:16\",\"2020-12-21T19:27:23\",\"2020-12-22T00:09:40\",\"2020-12-24T02:58:34\",\"2020-12-26T17:42:35\",\"2020-12-28T10:05:43\",\"2020-12-21T19:27:23\",\"2020-12-22T00:09:41\",\"2020-12-24T02:58:34\",\"2020-12-26T17:42:35\",\"2020-12-28T10:05:47\",\"2020-12-21T19:27:23\",\"2020-12-22T00:09:40\",\"2020-12-24T02:58:34\",\"2020-12-26T17:42:35\",\"2020-12-28T10:05:43\",\"2020-12-21T11:16:46\",\"2020-12-21T11:16:46\",\"2020-12-21T11:16:46\",\"2020-12-21T15:56:48\",\"2020-12-25T14:15:19\",\"2020-12-26T18:03:53\",\"2020-12-21T15:56:48\",\"2020-12-25T14:15:18\",\"2020-12-26T18:03:51\",\"2020-12-21T15:56:48\",\"2020-12-25T14:15:16\",\"2020-12-26T18:03:51\",\"2020-12-21T07:01:11\",\"2020-12-22T04:52:10\",\"2020-12-24T23:29:32\",\"2020-12-25T02:21:14\",\"2020-12-21T07:01:11\",\"2020-12-22T04:52:10\",\"2020-12-24T23:29:32\",\"2020-12-25T02:21:14\",\"2020-12-21T07:01:11\",\"2020-12-22T04:52:10\",\"2020-12-24T23:29:32\",\"2020-12-25T02:21:13\",\"2020-12-21T07:50:22\",\"2020-12-23T21:55:25\",\"2020-12-25T04:22:30\",\"2020-12-27T06:05:05\",\"2020-12-21T07:50:19\",\"2020-12-23T21:55:25\",\"2020-12-25T04:22:29\",\"2020-12-27T06:05:06\",\"2020-12-21T07:50:18\",\"2020-12-23T21:55:24\",\"2020-12-25T04:22:29\",\"2020-12-27T06:05:05\",\"2020-12-21T20:31:16\",\"2020-12-23T12:43:18\",\"2020-12-21T20:31:16\",\"2020-12-23T12:43:19\",\"2020-12-21T20:31:13\",\"2020-12-23T12:43:18\",\"2020-12-21T19:17:54\",\"2020-12-22T13:32:56\",\"2020-12-23T18:14:48\",\"2020-12-21T19:17:53\",\"2020-12-22T13:32:54\",\"2020-12-23T18:14:48\",\"2020-12-21T20:44:02\",\"2020-12-23T17:03:24\",\"2020-12-21T20:44:01\",\"2020-12-23T17:03:23\",\"2020-12-21T06:52:51\",\"2020-12-22T05:20:55\",\"2020-12-23T23:00:22\",\"2020-12-25T12:12:18\",\"2020-12-27T10:34:03\",\"2020-12-21T06:52:51\",\"2020-12-22T05:20:57\",\"2020-12-23T23:00:20\",\"2020-12-25T12:12:18\",\"2020-12-27T10:34:07\",\"2020-12-21T06:52:51\",\"2020-12-22T05:20:55\",\"2020-12-23T23:00:19\",\"2020-12-25T12:12:17\",\"2020-12-27T10:34:03\",\"2020-12-21T03:53:15\",\"2020-12-22T15:30:03\",\"2020-12-23T01:05:20\",\"2020-12-24T11:32:13\",\"2020-12-26T23:46:30\",\"2020-12-27T07:48:45\",\"2020-12-21T03:53:15\",\"2020-12-22T15:30:02\",\"2020-12-23T01:05:20\",\"2020-12-24T11:32:12\",\"2020-12-26T23:46:30\",\"2020-12-27T07:48:45\",\"2020-12-21T03:53:14\",\"2020-12-22T15:30:02\",\"2020-12-23T01:05:20\",\"2020-12-24T11:32:12\",\"2020-12-26T23:46:30\",\"2020-12-27T07:48:45\",\"2020-12-21T15:31:55\",\"2020-12-22T04:30:11\",\"2020-12-21T15:31:55\",\"2020-12-22T04:30:11\",\"2020-12-21T07:46:55\",\"2020-12-21T07:46:57\",\"2020-12-21T07:46:54\",\"2020-12-21T21:54:33\",\"2020-12-22T20:36:01\",\"2020-12-23T18:51:31\",\"2020-12-29T15:27:20\",\"2020-12-21T21:54:32\",\"2020-12-22T20:36:01\",\"2020-12-23T18:51:29\",\"2020-12-29T15:27:20\",\"2020-12-21T21:54:32\",\"2020-12-22T20:36:01\",\"2020-12-23T18:51:29\",\"2020-12-29T15:27:20\",\"2020-12-21T20:11:43\",\"2020-12-27T18:20:46\",\"2020-12-21T20:11:42\",\"2020-12-27T18:20:46\",\"2020-12-21T20:11:42\",\"2020-12-27T18:20:46\",\"2020-12-21T20:04:29\",\"2020-12-22T07:15:33\",\"2020-12-29T09:40:58\",\"2020-12-21T20:04:27\",\"2020-12-22T07:15:32\",\"2020-12-29T09:40:58\",\"2020-12-21T08:40:09\",\"2020-12-23T03:48:19\",\"2020-12-24T06:48:11\",\"2020-12-25T13:42:11\",\"2020-12-21T08:40:09\",\"2020-12-23T03:48:16\",\"2020-12-24T06:48:09\",\"2020-12-25T13:42:11\",\"2020-12-21T08:40:08\",\"2020-12-23T03:48:15\",\"2020-12-24T06:48:09\",\"2020-12-25T13:42:10\",\"2020-12-21T10:29:45\",\"2020-12-23T22:28:05\",\"2020-12-26T19:54:18\",\"2020-12-21T10:29:45\",\"2020-12-23T22:28:05\",\"2020-12-26T19:54:18\",\"2020-12-21T05:24:42\",\"2020-12-24T19:21:02\",\"2020-12-21T05:24:44\",\"2020-12-24T19:21:02\",\"2020-12-21T05:24:42\",\"2020-12-24T19:21:02\",\"2020-12-21T08:00:22\",\"2020-12-22T16:23:35\",\"2020-12-21T08:00:21\",\"2020-12-22T16:23:32\",\"2020-12-21T08:00:20\",\"2020-12-22T16:23:31\",\"2020-12-21T20:34:24\",\"2020-12-22T17:52:09\",\"2020-12-28T02:03:37\",\"2020-12-21T20:34:24\",\"2020-12-22T17:52:08\",\"2020-12-28T02:03:35\",\"2020-12-21T15:17:37\",\"2020-12-21T15:17:38\",\"2020-12-21T15:17:37\",\"2020-12-21T21:05:37\",\"2020-12-22T09:53:18\",\"2020-12-24T17:46:46\",\"2020-12-21T21:05:37\",\"2020-12-22T09:53:14\",\"2020-12-24T17:46:46\",\"2020-12-21T21:05:37\",\"2020-12-22T09:53:12\",\"2020-12-24T17:46:46\",\"2020-12-21T10:52:35\",\"2020-12-22T01:39:57\",\"2020-12-23T02:14:52\",\"2020-12-21T10:52:34\",\"2020-12-22T01:39:55\",\"2020-12-23T02:14:51\",\"2020-12-21T07:11:16\",\"2020-12-21T07:11:17\",\"2020-12-21T07:11:16\",\"2020-12-21T03:22:52\",\"2020-12-22T21:49:05\",\"2020-12-24T08:33:08\",\"2020-12-21T03:22:53\",\"2020-12-22T21:49:07\",\"2020-12-24T08:33:08\",\"2020-12-21T03:22:51\",\"2020-12-22T21:49:04\",\"2020-12-24T08:33:08\",\"2020-12-21T04:20:49\",\"2020-12-21T04:20:49\",\"2020-12-21T18:42:22\",\"2020-12-23T03:20:34\",\"2020-12-28T08:35:45\",\"2020-12-21T18:42:24\",\"2020-12-23T03:20:32\",\"2020-12-28T08:35:46\",\"2020-12-21T18:42:22\",\"2020-12-23T03:20:32\",\"2020-12-28T08:35:45\",\"2020-12-21T05:00:29\",\"2020-12-23T09:46:55\",\"2020-12-21T05:00:25\",\"2020-12-23T09:46:53\",\"2020-12-21T23:46:43\",\"2020-12-24T16:29:36\",\"2020-12-25T05:38:15\",\"2020-12-28T15:58:51\",\"2020-12-21T23:46:43\",\"2020-12-24T16:29:35\",\"2020-12-25T05:38:15\",\"2020-12-28T15:58:51\",\"2020-12-21T23:46:42\",\"2020-12-24T16:29:34\",\"2020-12-25T05:38:15\",\"2020-12-28T15:58:50\",\"2020-12-21T07:31:41\",\"2020-12-25T20:29:38\",\"2020-12-27T18:37:44\",\"2020-12-21T07:31:41\",\"2020-12-25T20:29:34\",\"2020-12-27T18:37:44\",\"2020-12-21T14:14:21\",\"2020-12-22T07:34:29\",\"2020-12-27T20:08:52\",\"2020-12-21T14:14:20\",\"2020-12-22T07:34:26\",\"2020-12-27T20:08:50\",\"2020-12-21T22:31:58\",\"2020-12-23T00:15:40\",\"2020-12-24T01:33:57\",\"2020-12-21T22:31:58\",\"2020-12-23T00:15:40\",\"2020-12-24T01:33:56\",\"2020-12-21T14:06:24\",\"2020-12-22T12:20:20\",\"2020-12-24T10:40:23\",\"2020-12-21T14:06:24\",\"2020-12-22T12:20:22\",\"2020-12-24T10:40:22\",\"2020-12-21T14:06:24\",\"2020-12-22T12:20:20\",\"2020-12-24T10:40:21\",\"2020-12-21T04:23:04\",\"2020-12-22T11:33:33\",\"2020-12-24T21:14:01\",\"2020-12-27T16:50:14\",\"2020-12-21T04:23:04\",\"2020-12-22T11:33:32\",\"2020-12-24T21:14:02\",\"2020-12-27T16:50:13\",\"2020-12-21T04:23:04\",\"2020-12-22T11:33:32\",\"2020-12-24T21:14:00\",\"2020-12-27T16:50:13\",\"2020-12-21T10:06:58\",\"2020-12-23T14:26:40\",\"2020-12-21T10:06:58\",\"2020-12-23T14:26:41\",\"2020-12-21T10:06:56\",\"2020-12-23T14:26:39\",\"2020-12-21T08:23:03\",\"2020-12-22T16:33:24\",\"2020-12-23T12:51:48\",\"2020-12-25T18:43:50\",\"2020-12-21T08:23:03\",\"2020-12-22T16:33:24\",\"2020-12-23T12:51:48\",\"2020-12-25T18:43:52\",\"2020-12-21T08:23:03\",\"2020-12-22T16:33:23\",\"2020-12-23T12:51:45\",\"2020-12-25T18:43:50\",\"2020-12-21T15:38:06\",\"2020-12-26T09:43:03\",\"2020-12-21T15:38:02\",\"2020-12-26T09:43:03\",\"2020-12-21T15:38:02\",\"2020-12-26T09:43:02\",\"2020-12-21T13:41:07\",\"2020-12-27T01:03:26\",\"2020-12-29T07:04:30\",\"2020-12-21T13:41:07\",\"2020-12-27T01:03:26\",\"2020-12-29T07:04:31\",\"2020-12-21T13:41:06\",\"2020-12-27T01:03:25\",\"2020-12-29T07:04:30\",\"2020-12-21T20:57:41\",\"2020-12-22T15:12:15\",\"2020-12-28T20:04:21\",\"2020-12-21T20:57:40\",\"2020-12-22T15:12:12\",\"2020-12-28T20:04:22\",\"2020-12-21T20:57:40\",\"2020-12-22T15:12:11\",\"2020-12-28T20:04:21\",\"2020-12-21T19:13:40\",\"2020-12-21T19:13:39\",\"2020-12-21T19:13:39\",\"2020-12-21T02:54:06\",\"2020-12-22T15:35:09\",\"2020-12-23T23:19:28\",\"2020-12-24T14:17:42\",\"2020-12-21T02:54:04\",\"2020-12-22T15:35:09\",\"2020-12-23T23:19:28\",\"2020-12-24T14:17:43\",\"2020-12-21T02:54:04\",\"2020-12-22T15:35:08\",\"2020-12-23T23:19:28\",\"2020-12-24T14:17:42\",\"2020-12-21T13:20:46\",\"2020-12-22T15:43:56\",\"2020-12-23T05:50:36\",\"2020-12-21T13:20:46\",\"2020-12-22T15:43:56\",\"2020-12-23T05:50:35\",\"2020-12-21T12:01:20\",\"2020-12-22T05:16:41\",\"2020-12-21T12:01:20\",\"2020-12-22T05:16:42\",\"2020-12-21T12:01:19\",\"2020-12-22T05:16:41\",\"2020-12-21T03:22:21\",\"2020-12-23T18:06:35\",\"2020-12-24T19:38:17\",\"2020-12-29T03:23:11\",\"2020-12-21T03:22:18\",\"2020-12-23T18:06:34\",\"2020-12-24T19:38:18\",\"2020-12-29T03:23:11\",\"2020-12-21T03:22:18\",\"2020-12-23T18:06:33\",\"2020-12-24T19:38:14\",\"2020-12-29T03:23:10\",\"2020-12-21T23:17:32\",\"2020-12-22T02:36:24\",\"2020-12-23T13:17:16\",\"2020-12-21T23:17:31\",\"2020-12-22T02:36:21\",\"2020-12-23T13:17:16\",\"2020-12-21T23:17:31\",\"2020-12-22T02:36:21\",\"2020-12-23T13:17:15\",\"2020-12-21T16:49:11\",\"2020-12-22T13:29:02\",\"2020-12-28T14:05:07\",\"2020-12-21T16:49:11\",\"2020-12-22T13:29:01\",\"2020-12-28T14:05:05\",\"2020-12-21T16:49:10\",\"2020-12-22T13:29:00\",\"2020-12-28T14:05:03\",\"2020-12-21T05:03:46\",\"2020-12-23T13:59:59\",\"2020-12-28T12:22:31\",\"2020-12-21T05:03:46\",\"2020-12-23T14:00:00\",\"2020-12-28T12:22:31\",\"2020-12-21T05:03:45\",\"2020-12-23T13:59:59\",\"2020-12-28T12:22:31\",\"2020-12-21T07:02:27\",\"2020-12-22T05:52:36\",\"2020-12-21T07:02:25\",\"2020-12-22T05:52:37\",\"2020-12-21T07:02:25\",\"2020-12-22T05:52:31\",\"2020-12-21T23:53:11\",\"2020-12-27T01:16:05\",\"2020-12-21T23:53:11\",\"2020-12-27T01:16:05\",\"2020-12-21T23:53:11\",\"2020-12-27T01:16:05\",\"2020-12-21T13:18:06\",\"2020-12-22T05:13:48\",\"2020-12-24T12:55:31\",\"2020-12-21T13:18:06\",\"2020-12-22T05:13:48\",\"2020-12-24T12:55:31\",\"2020-12-21T14:51:47\",\"2020-12-23T21:12:04\",\"2020-12-27T19:44:45\",\"2020-12-21T14:51:48\",\"2020-12-23T21:12:05\",\"2020-12-27T19:44:45\",\"2020-12-21T14:51:47\",\"2020-12-23T21:12:03\",\"2020-12-27T19:44:43\",\"2020-12-21T15:17:44\",\"2020-12-22T17:23:59\",\"2020-12-21T15:17:43\",\"2020-12-22T17:24:00\",\"2020-12-21T15:17:43\",\"2020-12-22T17:23:59\",\"2020-12-21T13:59:43\",\"2020-12-21T13:59:41\",\"2020-12-21T13:59:40\",\"2020-12-21T00:47:24\",\"2020-12-22T06:08:23\",\"2020-12-24T12:11:59\",\"2020-12-21T00:47:24\",\"2020-12-22T06:08:23\",\"2020-12-24T12:11:58\",\"2020-12-21T03:27:46\",\"2020-12-22T22:07:31\",\"2020-12-23T11:50:21\",\"2020-12-25T22:16:54\",\"2020-12-21T03:27:45\",\"2020-12-22T22:07:31\",\"2020-12-23T11:50:20\",\"2020-12-25T22:16:55\",\"2020-12-21T03:27:44\",\"2020-12-22T22:07:31\",\"2020-12-23T11:50:19\",\"2020-12-25T22:16:54\",\"2020-12-21T18:03:59\",\"2020-12-24T20:30:45\",\"2020-12-21T18:04:00\",\"2020-12-24T20:30:45\",\"2020-12-21T18:03:59\",\"2020-12-24T20:30:43\",\"2020-12-21T17:34:38\",\"2020-12-22T15:21:23\",\"2020-12-24T21:06:34\",\"2020-12-28T23:45:16\",\"2020-12-21T17:34:39\",\"2020-12-22T15:21:21\",\"2020-12-24T21:06:34\",\"2020-12-28T23:45:17\",\"2020-12-21T17:34:37\",\"2020-12-22T15:21:21\",\"2020-12-24T21:06:34\",\"2020-12-28T23:45:16\",\"2020-12-21T00:34:26\",\"2020-12-21T00:34:26\",\"2020-12-21T06:47:04\",\"2020-12-24T06:46:21\",\"2020-12-29T00:42:36\",\"2020-12-21T06:47:04\",\"2020-12-24T06:46:21\",\"2020-12-29T00:42:36\",\"2020-12-21T06:47:03\",\"2020-12-24T06:46:21\",\"2020-12-29T00:42:33\",\"2020-12-21T20:29:35\",\"2020-12-21T20:29:35\",\"2020-12-21T20:29:35\",\"2020-12-21T15:16:45\",\"2020-12-22T23:06:45\",\"2020-12-21T15:16:45\",\"2020-12-22T23:06:47\",\"2020-12-21T15:16:45\",\"2020-12-22T23:06:45\",\"2020-12-21T08:29:07\",\"2020-12-22T23:25:23\",\"2020-12-23T11:55:35\",\"2020-12-24T16:28:29\",\"2020-12-28T03:01:19\",\"2020-12-21T08:29:07\",\"2020-12-22T23:25:23\",\"2020-12-23T11:55:32\",\"2020-12-24T16:28:25\",\"2020-12-28T03:01:18\",\"2020-12-07T21:52:10\",\"2020-12-07T21:52:07\",\"2020-12-07T07:40:27\",\"2020-12-08T17:32:18\",\"2020-12-18T05:11:15\",\"2020-12-07T07:40:26\",\"2020-12-08T17:32:18\",\"2020-12-18T05:11:15\",\"2020-12-07T21:07:11\",\"2020-12-11T09:40:25\",\"2020-12-14T15:49:48\",\"2020-12-17T11:39:51\",\"2020-12-18T23:51:01\",\"2020-12-07T21:07:07\",\"2020-12-11T09:40:23\",\"2020-12-14T15:49:46\",\"2020-12-17T11:39:50\",\"2020-12-18T23:51:00\",\"2020-12-07T08:55:58\",\"2020-12-11T09:15:07\",\"2020-12-07T08:55:57\",\"2020-12-11T09:15:07\",\"2020-12-07T21:48:35\",\"2020-12-08T22:23:59\",\"2020-12-07T21:48:28\",\"2020-12-08T22:23:59\",\"2020-12-07T20:10:10\",\"2020-12-08T05:48:18\",\"2020-12-10T19:57:12\",\"2020-12-11T18:30:44\",\"2020-12-14T04:27:18\",\"2020-12-19T05:43:40\",\"2020-12-07T20:10:10\",\"2020-12-08T05:48:15\",\"2020-12-10T19:57:11\",\"2020-12-11T18:30:44\",\"2020-12-14T04:27:18\",\"2020-12-19T05:43:35\",\"2020-12-07T07:47:12\",\"2020-12-19T21:59:24\",\"2020-12-07T07:47:11\",\"2020-12-19T21:59:22\",\"2020-12-07T16:10:48\",\"2020-12-09T00:01:48\",\"2020-12-07T16:10:48\",\"2020-12-09T00:01:47\",\"2020-12-07T02:53:22\",\"2020-12-08T05:12:24\",\"2020-12-09T23:43:14\",\"2020-12-16T11:16:31\",\"2020-12-17T04:21:42\",\"2020-12-07T02:53:22\",\"2020-12-08T05:12:24\",\"2020-12-09T23:43:14\",\"2020-12-16T11:16:31\",\"2020-12-17T04:21:38\",\"2020-12-07T00:53:32\",\"2020-12-08T01:05:31\",\"2020-12-16T16:18:40\",\"2020-12-07T00:53:31\",\"2020-12-08T01:05:30\",\"2020-12-16T16:18:39\",\"2020-12-07T05:20:36\",\"2020-12-08T22:11:54\",\"2020-12-07T05:20:35\",\"2020-12-08T22:11:53\",\"2020-12-07T07:34:09\",\"2020-12-11T22:08:34\",\"2020-12-19T18:07:10\",\"2020-12-07T07:34:08\",\"2020-12-11T22:08:34\",\"2020-12-19T18:07:09\",\"2020-12-07T02:03:04\",\"2020-12-11T01:04:13\",\"2020-12-07T02:03:04\",\"2020-12-11T01:04:12\",\"2020-12-07T00:59:16\",\"2020-12-08T12:27:29\",\"2020-12-12T10:40:48\",\"2020-12-21T22:19:55\",\"2020-12-07T00:59:15\",\"2020-12-08T12:27:28\",\"2020-12-12T10:40:48\",\"2020-12-21T22:19:55\",\"2020-12-07T03:35:31\",\"2020-12-08T02:39:56\",\"2020-12-07T03:35:28\",\"2020-12-08T02:39:56\",\"2020-12-07T07:27:21\",\"2020-12-08T04:13:56\",\"2020-12-09T04:30:08\",\"2020-12-18T14:20:56\",\"2020-12-07T07:27:20\",\"2020-12-08T04:13:54\",\"2020-12-09T04:30:08\",\"2020-12-18T14:20:56\",\"2020-12-07T15:05:27\",\"2020-12-09T01:49:48\",\"2020-12-12T12:29:34\",\"2020-12-07T15:05:25\",\"2020-12-09T01:49:48\",\"2020-12-12T12:29:34\",\"2020-12-07T05:10:15\",\"2020-12-08T12:34:17\",\"2020-12-09T18:45:06\",\"2020-12-11T15:14:37\",\"2020-12-07T05:10:14\",\"2020-12-08T12:34:16\",\"2020-12-09T18:45:04\",\"2020-12-11T15:14:34\",\"2020-12-07T08:45:47\",\"2020-12-08T05:46:00\",\"2020-12-07T08:45:47\",\"2020-12-08T05:45:59\",\"2020-12-07T05:23:43\",\"2020-12-09T13:00:21\",\"2020-12-10T01:21:00\",\"2020-12-07T05:23:43\",\"2020-12-09T13:00:21\",\"2020-12-10T01:21:00\",\"2020-12-07T11:42:37\",\"2020-12-08T07:16:45\",\"2020-12-07T11:42:36\",\"2020-12-08T07:16:45\",\"2020-12-07T23:55:05\",\"2020-12-07T23:55:05\",\"2020-12-07T16:24:38\",\"2020-12-09T16:20:20\",\"2020-12-11T23:22:03\",\"2020-12-13T08:33:53\",\"2020-12-17T19:47:39\",\"2020-12-07T16:24:37\",\"2020-12-09T16:20:18\",\"2020-12-11T23:22:02\",\"2020-12-13T08:33:53\",\"2020-12-17T19:47:37\",\"2020-12-07T10:35:58\",\"2020-12-08T00:23:10\",\"2020-12-07T10:35:58\",\"2020-12-08T00:23:10\",\"2020-12-07T16:39:17\",\"2020-12-14T15:56:06\",\"2020-12-07T16:39:17\",\"2020-12-14T15:56:06\",\"2020-12-07T10:35:02\",\"2020-12-08T22:24:48\",\"2020-12-21T03:27:50\",\"2020-12-07T10:35:02\",\"2020-12-08T22:24:45\",\"2020-12-21T03:27:49\",\"2020-12-07T14:25:48\",\"2020-12-08T08:00:26\",\"2020-12-10T12:43:25\",\"2020-12-12T21:21:48\",\"2020-12-21T07:29:35\",\"2020-12-07T14:25:45\",\"2020-12-08T08:00:25\",\"2020-12-10T12:43:23\",\"2020-12-12T21:21:48\",\"2020-12-21T07:29:35\",\"2020-12-07T00:42:06\",\"2020-12-08T18:03:45\",\"2020-12-09T20:20:34\",\"2020-12-07T00:42:05\",\"2020-12-08T18:03:45\",\"2020-12-09T20:20:34\",\"2020-12-07T01:19:14\",\"2020-12-08T13:34:44\",\"2020-12-20T14:52:49\",\"2020-12-07T01:19:14\",\"2020-12-08T13:34:44\",\"2020-12-20T14:52:49\",\"2020-12-07T16:21:01\",\"2020-12-08T06:16:25\",\"2020-12-19T14:07:49\",\"2020-12-07T16:21:00\",\"2020-12-08T06:16:23\",\"2020-12-19T14:07:47\",\"2020-12-07T19:28:38\",\"2020-12-08T17:34:03\",\"2020-12-14T01:01:38\",\"2020-12-07T19:28:38\",\"2020-12-08T17:34:03\",\"2020-12-14T01:01:38\",\"2020-12-07T13:35:18\",\"2020-12-07T13:35:17\",\"2020-12-07T04:20:43\",\"2020-12-09T18:23:51\",\"2020-12-11T06:59:38\",\"2020-12-12T07:28:13\",\"2020-12-18T13:11:52\",\"2020-12-07T04:20:41\",\"2020-12-09T18:23:51\",\"2020-12-11T06:59:38\",\"2020-12-12T07:28:13\",\"2020-12-18T13:11:52\",\"2020-12-07T10:34:04\",\"2020-12-08T14:30:12\",\"2020-12-07T10:34:03\",\"2020-12-08T14:30:09\",\"2020-12-07T02:25:47\",\"2020-12-08T01:04:17\",\"2020-12-14T15:35:00\",\"2020-12-17T04:59:45\",\"2020-12-07T02:25:47\",\"2020-12-08T01:04:17\",\"2020-12-14T15:35:00\",\"2020-12-17T04:59:42\",\"2020-12-07T13:39:38\",\"2020-12-13T14:31:23\",\"2020-12-07T13:39:38\",\"2020-12-13T14:31:21\",\"2020-12-07T15:52:22\",\"2020-12-08T21:17:19\",\"2020-12-10T20:14:16\",\"2020-12-14T21:01:09\",\"2020-12-07T15:52:21\",\"2020-12-08T21:17:19\",\"2020-12-10T20:14:16\",\"2020-12-14T21:01:09\",\"2020-12-07T18:02:18\",\"2020-12-08T10:05:10\",\"2020-12-07T18:02:17\",\"2020-12-08T10:05:08\",\"2020-12-07T00:35:15\",\"2020-12-07T00:35:15\",\"2020-12-07T18:41:49\",\"2020-12-09T05:16:06\",\"2020-12-07T18:41:47\",\"2020-12-09T05:16:06\",\"2020-12-07T16:02:46\",\"2020-12-10T10:07:05\",\"2020-12-12T03:53:05\",\"2020-12-07T16:02:46\",\"2020-12-10T10:07:04\",\"2020-12-12T03:53:05\",\"2020-12-07T19:38:33\",\"2020-12-08T10:31:04\",\"2020-12-09T08:46:56\",\"2020-12-11T21:08:18\",\"2020-12-07T19:38:31\",\"2020-12-08T10:31:04\",\"2020-12-09T08:46:54\",\"2020-12-11T21:08:17\",\"2020-12-07T15:00:24\",\"2020-12-09T17:49:04\",\"2020-12-13T04:44:01\",\"2020-12-07T15:00:23\",\"2020-12-09T17:49:04\",\"2020-12-13T04:44:00\",\"2020-12-07T09:32:55\",\"2020-12-11T09:46:11\",\"2020-12-07T09:32:55\",\"2020-12-11T09:46:09\",\"2020-12-07T21:47:43\",\"2020-12-12T03:03:45\",\"2020-12-07T21:47:38\",\"2020-12-12T03:03:41\",\"2020-12-08T13:43:01\",\"2020-12-09T21:10:17\",\"2020-12-13T23:36:53\",\"2020-12-08T13:43:01\",\"2020-12-09T21:10:17\",\"2020-12-13T23:36:52\",\"2020-12-08T23:01:32\",\"2020-12-10T09:19:52\",\"2020-12-08T23:01:30\",\"2020-12-10T09:19:51\",\"2020-12-08T09:29:02\",\"2020-12-09T17:17:41\",\"2020-12-11T14:21:10\",\"2020-12-08T09:29:02\",\"2020-12-09T17:17:40\",\"2020-12-11T14:21:10\",\"2020-12-08T07:49:54\",\"2020-12-08T07:49:54\",\"2020-12-08T14:04:35\",\"2020-12-08T14:04:35\",\"2020-12-08T13:24:28\",\"2020-12-09T03:49:51\",\"2020-12-10T10:05:25\",\"2020-12-19T11:18:31\",\"2020-12-08T13:24:27\",\"2020-12-09T03:49:49\",\"2020-12-10T10:05:25\",\"2020-12-19T11:18:31\",\"2020-12-08T22:49:31\",\"2020-12-09T14:02:19\",\"2020-12-10T22:45:27\",\"2020-12-08T22:49:29\",\"2020-12-09T14:02:19\",\"2020-12-10T22:45:26\",\"2020-12-08T00:39:19\",\"2020-12-09T11:54:22\",\"2020-12-10T08:25:08\",\"2020-12-22T22:54:40\",\"2020-12-08T00:39:18\",\"2020-12-09T11:54:21\",\"2020-12-10T08:25:05\",\"2020-12-22T22:54:38\",\"2020-12-08T06:30:24\",\"2020-12-11T08:58:27\",\"2020-12-18T23:35:46\",\"2020-12-08T06:30:23\",\"2020-12-11T08:58:27\",\"2020-12-18T23:35:44\",\"2020-12-08T04:31:09\",\"2020-12-09T01:03:11\",\"2020-12-10T08:26:16\",\"2020-12-18T13:08:44\",\"2020-12-08T04:31:07\",\"2020-12-09T01:03:09\",\"2020-12-10T08:26:14\",\"2020-12-18T13:08:43\",\"2020-12-08T12:44:06\",\"2020-12-14T21:25:31\",\"2020-12-20T05:55:46\",\"2020-12-08T12:44:06\",\"2020-12-14T21:25:31\",\"2020-12-20T05:55:46\",\"2020-12-08T07:20:43\",\"2020-12-09T14:40:23\",\"2020-12-08T07:20:40\",\"2020-12-09T14:40:22\",\"2020-12-08T10:32:57\",\"2020-12-10T05:10:14\",\"2020-12-12T15:27:26\",\"2020-12-19T05:34:40\",\"2020-12-08T10:32:55\",\"2020-12-10T05:10:14\",\"2020-12-12T15:27:26\",\"2020-12-19T05:34:37\",\"2020-12-08T11:56:27\",\"2020-12-08T11:56:25\",\"2020-12-08T22:32:14\",\"2020-12-10T05:31:09\",\"2020-12-08T22:32:13\",\"2020-12-10T05:31:08\",\"2020-12-08T17:13:41\",\"2020-12-11T22:11:09\",\"2020-12-18T22:49:26\",\"2020-12-08T17:13:40\",\"2020-12-11T22:11:09\",\"2020-12-18T22:49:24\",\"2020-12-08T14:01:28\",\"2020-12-09T02:36:40\",\"2020-12-10T00:12:14\",\"2020-12-08T14:01:28\",\"2020-12-09T02:36:40\",\"2020-12-10T00:12:13\",\"2020-12-08T16:23:14\",\"2020-12-11T08:10:09\",\"2020-12-08T16:23:12\",\"2020-12-11T08:10:09\",\"2020-12-08T04:18:19\",\"2020-12-09T11:32:44\",\"2020-12-16T14:20:16\",\"2020-12-08T04:18:19\",\"2020-12-09T11:32:43\",\"2020-12-16T14:20:16\",\"2020-12-08T14:30:22\",\"2020-12-09T02:30:28\",\"2020-12-11T15:24:28\",\"2020-12-08T14:30:20\",\"2020-12-09T02:30:28\",\"2020-12-11T15:24:28\",\"2020-12-08T11:28:54\",\"2020-12-09T19:45:51\",\"2020-12-10T10:20:58\",\"2020-12-08T11:28:54\",\"2020-12-09T19:45:51\",\"2020-12-10T10:20:57\",\"2020-12-08T23:03:50\",\"2020-12-11T19:37:46\",\"2020-12-15T06:49:41\",\"2020-12-08T23:03:49\",\"2020-12-11T19:37:46\",\"2020-12-15T06:49:41\",\"2020-12-08T08:32:35\",\"2020-12-10T02:20:01\",\"2020-12-11T19:35:54\",\"2020-12-13T10:36:58\",\"2020-12-18T21:20:47\",\"2020-12-08T08:32:33\",\"2020-12-10T02:20:01\",\"2020-12-11T19:35:52\",\"2020-12-13T10:36:55\",\"2020-12-18T21:20:45\",\"2020-12-08T22:49:17\",\"2020-12-11T19:17:33\",\"2020-12-08T22:49:16\",\"2020-12-11T19:17:33\",\"2020-12-08T17:15:53\",\"2020-12-16T07:26:43\",\"2020-12-08T17:15:50\",\"2020-12-16T07:26:40\",\"2020-12-08T21:59:51\",\"2020-12-09T01:26:15\",\"2020-12-18T23:48:15\",\"2020-12-21T13:12:40\",\"2020-12-08T21:59:51\",\"2020-12-09T01:26:09\",\"2020-12-18T23:48:15\",\"2020-12-21T13:12:37\",\"2020-12-08T09:52:32\",\"2020-12-09T10:17:57\",\"2020-12-14T03:22:20\",\"2020-12-15T12:13:27\",\"2020-12-08T09:52:31\",\"2020-12-09T10:17:56\",\"2020-12-14T03:22:20\",\"2020-12-15T12:13:26\",\"2020-12-08T20:30:54\",\"2020-12-09T08:20:22\",\"2020-12-10T14:38:03\",\"2020-12-08T20:30:54\",\"2020-12-09T08:20:21\",\"2020-12-10T14:38:02\",\"2020-12-08T17:52:52\",\"2020-12-11T08:49:42\",\"2020-12-13T02:51:54\",\"2020-12-21T15:24:38\",\"2020-12-08T17:52:50\",\"2020-12-11T08:49:42\",\"2020-12-13T02:51:52\",\"2020-12-21T15:24:38\",\"2020-12-08T06:46:59\",\"2020-12-10T20:41:42\",\"2020-12-08T06:46:57\",\"2020-12-10T20:41:41\",\"2020-12-08T19:55:04\",\"2020-12-09T03:34:31\",\"2020-12-12T19:55:23\",\"2020-12-15T18:26:02\",\"2020-12-08T19:55:01\",\"2020-12-09T03:34:31\",\"2020-12-12T19:55:23\",\"2020-12-15T18:26:01\",\"2020-12-08T05:06:07\",\"2020-12-08T05:06:06\",\"2020-12-08T23:09:14\",\"2020-12-09T20:40:37\",\"2020-12-13T14:34:58\",\"2020-12-16T23:21:22\",\"2020-12-18T06:31:12\",\"2020-12-20T08:54:59\",\"2020-12-08T23:09:14\",\"2020-12-09T20:40:37\",\"2020-12-13T14:34:58\",\"2020-12-16T23:21:21\",\"2020-12-18T06:31:11\",\"2020-12-20T08:54:58\",\"2020-12-08T16:23:01\",\"2020-12-13T20:02:49\",\"2020-12-16T06:14:17\",\"2020-12-08T16:22:59\",\"2020-12-13T20:02:49\",\"2020-12-16T06:14:13\",\"2020-12-08T09:27:05\",\"2020-12-09T06:43:05\",\"2020-12-22T05:03:44\",\"2020-12-08T09:27:05\",\"2020-12-09T06:43:05\",\"2020-12-22T05:03:43\",\"2020-12-08T14:16:57\",\"2020-12-20T10:13:46\",\"2020-12-08T14:16:55\",\"2020-12-20T10:13:46\",\"2020-12-08T06:48:04\",\"2020-12-09T05:05:32\",\"2020-12-10T19:06:16\",\"2020-12-12T22:35:13\",\"2020-12-08T06:48:04\",\"2020-12-09T05:05:29\",\"2020-12-10T19:06:16\",\"2020-12-12T22:35:13\",\"2020-12-09T13:39:53\",\"2020-12-17T21:59:03\",\"2020-12-18T08:56:19\",\"2020-12-09T13:39:49\",\"2020-12-17T21:59:00\",\"2020-12-18T08:56:18\",\"2020-12-09T16:00:51\",\"2020-12-11T13:06:04\",\"2020-12-15T02:18:31\",\"2020-12-17T09:39:04\",\"2020-12-23T12:17:54\",\"2020-12-09T16:00:50\",\"2020-12-11T13:06:02\",\"2020-12-15T02:18:31\",\"2020-12-17T09:39:03\",\"2020-12-23T12:17:50\",\"2020-12-09T13:22:40\",\"2020-12-18T15:29:45\",\"2020-12-09T13:22:40\",\"2020-12-18T15:29:45\",\"2020-12-09T17:32:37\",\"2020-12-10T08:58:54\",\"2020-12-11T03:35:53\",\"2020-12-18T04:35:30\",\"2020-12-21T18:54:01\",\"2020-12-09T17:32:37\",\"2020-12-10T08:58:53\",\"2020-12-11T03:35:50\",\"2020-12-18T04:35:30\",\"2020-12-21T18:53:57\",\"2020-12-09T09:03:24\",\"2020-12-13T01:03:03\",\"2020-12-09T09:03:24\",\"2020-12-13T01:03:03\",\"2020-12-09T00:53:11\",\"2020-12-10T12:45:31\",\"2020-12-13T19:37:06\",\"2020-12-16T07:14:18\",\"2020-12-09T00:53:10\",\"2020-12-10T12:45:31\",\"2020-12-13T19:37:06\",\"2020-12-16T07:14:18\",\"2020-12-09T23:46:03\",\"2020-12-12T01:54:34\",\"2020-12-15T10:57:56\",\"2020-12-22T18:03:49\",\"2020-12-09T23:46:02\",\"2020-12-12T01:54:32\",\"2020-12-15T10:57:54\",\"2020-12-22T18:03:48\",\"2020-12-09T22:50:09\",\"2020-12-15T08:49:07\",\"2020-12-09T22:50:09\",\"2020-12-15T08:49:05\",\"2020-12-09T03:31:32\",\"2020-12-10T22:38:17\",\"2020-12-21T03:18:21\",\"2020-12-09T03:31:31\",\"2020-12-10T22:38:17\",\"2020-12-21T03:18:21\",\"2020-12-09T11:24:28\",\"2020-12-09T11:24:28\",\"2020-12-09T08:28:12\",\"2020-12-11T00:01:53\",\"2020-12-13T11:28:31\",\"2020-12-09T08:28:11\",\"2020-12-11T00:01:52\",\"2020-12-13T11:28:31\",\"2020-12-09T18:49:26\",\"2020-12-20T18:16:33\",\"2020-12-09T18:49:25\",\"2020-12-20T18:16:33\",\"2020-12-09T12:43:13\",\"2020-12-14T17:54:15\",\"2020-12-09T12:43:12\",\"2020-12-14T17:54:15\",\"2020-12-09T18:35:25\",\"2020-12-23T09:49:49\",\"2020-12-09T18:35:25\",\"2020-12-23T09:49:48\",\"2020-12-09T16:22:45\",\"2020-12-09T16:22:43\",\"2020-12-09T04:59:10\",\"2020-12-13T15:24:15\",\"2020-12-09T04:59:10\",\"2020-12-13T15:24:13\",\"2020-12-09T13:58:13\",\"2020-12-10T05:51:49\",\"2020-12-11T18:48:47\",\"2020-12-12T15:39:59\",\"2020-12-13T22:57:31\",\"2020-12-21T10:00:52\",\"2020-12-09T13:58:10\",\"2020-12-10T05:51:48\",\"2020-12-11T18:48:47\",\"2020-12-12T15:39:59\",\"2020-12-13T22:57:31\",\"2020-12-21T10:00:51\",\"2020-12-09T18:42:50\",\"2020-12-12T22:05:32\",\"2020-12-09T18:42:47\",\"2020-12-12T22:05:32\",\"2020-12-09T05:03:39\",\"2020-12-10T06:41:30\",\"2020-12-09T05:03:38\",\"2020-12-10T06:41:30\",\"2020-12-09T04:20:46\",\"2020-12-16T14:08:31\",\"2020-12-09T04:20:46\",\"2020-12-16T14:08:28\",\"2020-12-09T14:50:32\",\"2020-12-10T22:48:03\",\"2020-12-21T07:24:12\",\"2020-12-22T01:50:18\",\"2020-12-09T14:50:32\",\"2020-12-10T22:48:03\",\"2020-12-21T07:24:10\",\"2020-12-22T01:50:18\",\"2020-12-09T15:53:14\",\"2020-12-11T16:48:32\",\"2020-12-14T20:04:56\",\"2020-12-09T15:53:14\",\"2020-12-11T16:48:29\",\"2020-12-14T20:04:56\",\"2020-12-10T20:47:03\",\"2020-12-15T23:00:43\",\"2020-12-16T02:48:43\",\"2020-12-10T20:47:02\",\"2020-12-15T23:00:40\",\"2020-12-16T02:48:43\",\"2020-12-10T00:00:10\",\"2020-12-10T00:00:10\",\"2020-12-10T05:38:15\",\"2020-12-12T22:34:18\",\"2020-12-17T09:58:44\",\"2020-12-10T05:38:14\",\"2020-12-12T22:34:18\",\"2020-12-17T09:58:43\",\"2020-12-10T15:47:40\",\"2020-12-11T09:36:16\",\"2020-12-12T13:22:48\",\"2020-12-16T08:04:00\",\"2020-12-22T12:13:54\",\"2020-12-10T15:47:40\",\"2020-12-11T09:36:14\",\"2020-12-12T13:22:48\",\"2020-12-16T08:03:59\",\"2020-12-22T12:13:54\",\"2020-12-10T08:12:00\",\"2020-12-10T08:12:00\",\"2020-12-10T01:10:05\",\"2020-12-17T13:17:04\",\"2020-12-19T16:49:10\",\"2020-12-10T01:10:02\",\"2020-12-17T13:17:04\",\"2020-12-19T16:49:06\",\"2020-12-10T03:13:38\",\"2020-12-24T19:29:28\",\"2020-12-10T03:13:37\",\"2020-12-24T19:29:27\",\"2020-12-10T15:57:22\",\"2020-12-12T09:09:06\",\"2020-12-17T11:37:36\",\"2020-12-22T15:11:55\",\"2020-12-10T15:57:19\",\"2020-12-12T09:09:06\",\"2020-12-17T11:37:34\",\"2020-12-22T15:11:55\",\"2020-12-10T11:33:53\",\"2020-12-10T11:33:50\",\"2020-12-10T19:13:45\",\"2020-12-10T19:13:41\",\"2020-12-10T15:09:22\",\"2020-12-10T15:09:20\",\"2020-12-10T11:14:31\",\"2020-12-11T04:39:05\",\"2020-12-12T09:21:50\",\"2020-12-14T11:31:27\",\"2020-12-10T11:14:30\",\"2020-12-11T04:39:05\",\"2020-12-12T09:21:49\",\"2020-12-14T11:31:25\",\"2020-12-10T15:47:06\",\"2020-12-16T09:19:16\",\"2020-12-10T15:47:05\",\"2020-12-16T09:19:15\",\"2020-12-10T20:14:35\",\"2020-12-11T19:42:43\",\"2020-12-10T20:14:34\",\"2020-12-11T19:42:43\",\"2020-12-10T20:27:00\",\"2020-12-10T20:27:00\",\"2020-12-10T08:44:43\",\"2020-12-12T07:33:50\",\"2020-12-20T19:53:16\",\"2020-12-10T08:44:40\",\"2020-12-12T07:33:49\",\"2020-12-20T19:53:16\",\"2020-12-10T01:32:57\",\"2020-12-16T19:37:15\",\"2020-12-17T09:20:02\",\"2020-12-21T09:34:01\",\"2020-12-10T01:32:55\",\"2020-12-16T19:37:15\",\"2020-12-17T09:20:02\",\"2020-12-21T09:34:01\",\"2020-12-11T12:26:38\",\"2020-12-12T20:52:41\",\"2020-12-13T12:58:05\",\"2020-12-11T12:26:36\",\"2020-12-12T20:52:37\",\"2020-12-13T12:58:05\",\"2020-12-11T16:58:57\",\"2020-12-11T16:58:53\",\"2020-12-11T03:56:45\",\"2020-12-13T08:56:46\",\"2020-12-19T03:41:25\",\"2020-12-24T10:12:37\",\"2020-12-11T03:56:43\",\"2020-12-13T08:56:45\",\"2020-12-19T03:41:25\",\"2020-12-24T10:12:37\",\"2020-12-11T15:11:46\",\"2020-12-12T17:24:28\",\"2020-12-15T23:34:44\",\"2020-12-16T12:49:28\",\"2020-12-11T15:11:46\",\"2020-12-12T17:24:27\",\"2020-12-15T23:34:43\",\"2020-12-16T12:49:28\",\"2020-12-11T07:19:03\",\"2020-12-13T10:59:28\",\"2020-12-11T07:19:03\",\"2020-12-13T10:59:28\",\"2020-12-11T10:33:37\",\"2020-12-19T00:00:38\",\"2020-12-11T10:33:36\",\"2020-12-19T00:00:37\",\"2020-12-11T23:13:31\",\"2020-12-13T22:39:22\",\"2020-12-18T22:24:21\",\"2020-12-11T23:13:31\",\"2020-12-13T22:39:19\",\"2020-12-18T22:24:20\",\"2020-12-11T10:50:13\",\"2020-12-12T20:27:56\",\"2020-12-13T23:14:17\",\"2020-12-18T11:49:39\",\"2020-12-11T10:50:13\",\"2020-12-12T20:27:55\",\"2020-12-13T23:14:15\",\"2020-12-18T11:49:38\",\"2020-12-11T02:58:45\",\"2020-12-12T23:15:32\",\"2020-12-15T14:56:26\",\"2020-12-11T02:58:43\",\"2020-12-12T23:15:32\",\"2020-12-15T14:56:25\",\"2020-12-11T05:56:54\",\"2020-12-11T05:56:51\",\"2020-12-11T12:21:14\",\"2020-12-13T03:04:53\",\"2020-12-11T12:21:14\",\"2020-12-13T03:04:53\",\"2020-12-11T01:03:57\",\"2020-12-17T13:18:00\",\"2020-12-11T01:03:56\",\"2020-12-17T13:18:00\",\"2020-12-11T06:16:21\",\"2020-12-13T17:51:08\",\"2020-12-15T22:59:26\",\"2020-12-11T06:16:20\",\"2020-12-13T17:51:07\",\"2020-12-15T22:59:26\",\"2020-12-11T15:23:32\",\"2020-12-12T01:03:51\",\"2020-12-11T15:23:32\",\"2020-12-12T01:03:50\",\"2020-12-11T14:30:15\",\"2020-12-11T14:30:10\",\"2020-12-11T05:54:47\",\"2020-12-12T13:46:42\",\"2020-12-13T09:48:51\",\"2020-12-11T05:54:45\",\"2020-12-12T13:46:40\",\"2020-12-13T09:48:51\",\"2020-12-11T16:08:20\",\"2020-12-12T19:02:18\",\"2020-12-13T23:50:24\",\"2020-12-11T16:08:20\",\"2020-12-12T19:02:17\",\"2020-12-13T23:50:24\",\"2020-12-11T21:06:53\",\"2020-12-23T05:17:22\",\"2020-12-11T21:06:51\",\"2020-12-23T05:17:22\",\"2020-12-11T14:04:01\",\"2020-12-12T16:19:27\",\"2020-12-22T20:41:08\",\"2020-12-11T14:03:58\",\"2020-12-12T16:19:26\",\"2020-12-22T20:41:08\",\"2020-12-11T00:10:31\",\"2020-12-13T05:09:49\",\"2020-12-16T13:08:05\",\"2020-12-19T12:34:03\",\"2020-12-11T00:10:30\",\"2020-12-13T05:09:46\",\"2020-12-16T13:08:04\",\"2020-12-19T12:34:03\",\"2020-12-11T12:20:35\",\"2020-12-11T12:20:33\",\"2020-12-11T06:34:38\",\"2020-12-19T22:12:10\",\"2020-12-11T06:34:38\",\"2020-12-19T22:12:10\",\"2020-12-11T13:33:03\",\"2020-12-13T12:46:14\",\"2020-12-11T13:33:00\",\"2020-12-13T12:46:13\",\"2020-12-11T05:19:17\",\"2020-12-14T16:20:48\",\"2020-12-11T05:19:17\",\"2020-12-14T16:20:47\",\"2020-12-11T19:13:20\",\"2020-12-15T20:24:34\",\"2020-12-25T13:03:21\",\"2020-12-11T19:13:20\",\"2020-12-15T20:24:33\",\"2020-12-25T13:03:19\",\"2020-12-11T01:00:49\",\"2020-12-13T08:42:33\",\"2020-12-20T11:07:35\",\"2020-12-23T01:31:18\",\"2020-12-11T01:00:49\",\"2020-12-13T08:42:33\",\"2020-12-20T11:07:34\",\"2020-12-23T01:31:17\",\"2020-12-11T09:27:24\",\"2020-12-17T09:59:50\",\"2020-12-11T09:27:22\",\"2020-12-17T09:59:48\",\"2020-12-11T17:28:10\",\"2020-12-13T23:49:40\",\"2020-12-11T17:28:10\",\"2020-12-13T23:49:40\",\"2020-12-11T11:02:47\",\"2020-12-13T01:42:37\",\"2020-12-11T11:02:46\",\"2020-12-13T01:42:37\",\"2020-12-12T07:54:03\",\"2020-12-16T01:24:49\",\"2020-12-12T07:54:02\",\"2020-12-16T01:24:48\",\"2020-12-12T03:33:55\",\"2020-12-17T20:06:29\",\"2020-12-12T03:33:53\",\"2020-12-17T20:06:28\",\"2020-12-12T00:23:15\",\"2020-12-18T03:44:12\",\"2020-12-19T19:01:18\",\"2020-12-12T00:23:15\",\"2020-12-18T03:44:11\",\"2020-12-19T19:01:18\",\"2020-12-12T12:29:23\",\"2020-12-14T14:11:18\",\"2020-12-12T12:29:22\",\"2020-12-14T14:11:17\",\"2020-12-12T07:19:57\",\"2020-12-18T01:33:25\",\"2020-12-12T07:19:57\",\"2020-12-18T01:33:23\",\"2020-12-12T22:40:51\",\"2020-12-21T22:03:58\",\"2020-12-12T22:40:50\",\"2020-12-21T22:03:55\",\"2020-12-12T12:35:57\",\"2020-12-12T12:35:56\",\"2020-12-12T23:46:08\",\"2020-12-19T21:41:51\",\"2020-12-24T20:51:58\",\"2020-12-12T23:46:08\",\"2020-12-19T21:41:51\",\"2020-12-24T20:51:56\",\"2020-12-12T20:59:20\",\"2020-12-13T08:51:28\",\"2020-12-12T20:59:19\",\"2020-12-13T08:51:27\",\"2020-12-12T22:59:05\",\"2020-12-16T07:13:25\",\"2020-12-12T22:59:05\",\"2020-12-16T07:13:23\",\"2020-12-12T10:01:40\",\"2020-12-13T13:02:20\",\"2020-12-25T12:07:42\",\"2020-12-12T10:01:40\",\"2020-12-13T13:02:20\",\"2020-12-25T12:07:41\",\"2020-12-12T13:23:45\",\"2020-12-14T12:28:23\",\"2020-12-16T14:49:44\",\"2020-12-12T13:23:45\",\"2020-12-14T12:28:22\",\"2020-12-16T14:49:44\",\"2020-12-12T06:45:43\",\"2020-12-13T04:18:29\",\"2020-12-12T06:45:43\",\"2020-12-13T04:18:28\",\"2020-12-12T09:13:50\",\"2020-12-12T09:13:50\",\"2020-12-12T22:03:27\",\"2020-12-14T12:08:05\",\"2020-12-12T22:03:25\",\"2020-12-14T12:08:04\",\"2020-12-12T08:27:57\",\"2020-12-12T08:27:57\",\"2020-12-12T11:54:53\",\"2020-12-13T11:04:57\",\"2020-12-12T11:54:52\",\"2020-12-13T11:04:57\",\"2020-12-12T14:21:25\",\"2020-12-18T03:40:10\",\"2020-12-12T14:21:24\",\"2020-12-18T03:40:09\",\"2020-12-12T12:45:14\",\"2020-12-13T07:18:12\",\"2020-12-12T12:45:14\",\"2020-12-13T07:18:09\",\"2020-12-12T17:49:24\",\"2020-12-13T07:51:01\",\"2020-12-17T13:25:17\",\"2020-12-19T22:32:08\",\"2020-12-12T17:49:24\",\"2020-12-13T07:51:01\",\"2020-12-17T13:25:14\",\"2020-12-19T22:32:04\",\"2020-12-12T05:58:26\",\"2020-12-14T08:18:49\",\"2020-12-17T01:53:51\",\"2020-12-12T05:58:26\",\"2020-12-14T08:18:47\",\"2020-12-17T01:53:49\",\"2020-12-12T13:42:18\",\"2020-12-13T17:06:01\",\"2020-12-16T23:46:23\",\"2020-12-18T08:05:58\",\"2020-12-12T13:42:18\",\"2020-12-13T17:05:58\",\"2020-12-16T23:46:19\",\"2020-12-18T08:05:56\",\"2020-12-13T08:26:07\",\"2020-12-27T16:35:13\",\"2020-12-13T08:26:07\",\"2020-12-27T16:35:13\",\"2020-12-13T14:56:06\",\"2020-12-15T17:45:37\",\"2020-12-16T10:43:57\",\"2020-12-17T19:13:36\",\"2020-12-13T14:56:06\",\"2020-12-15T17:45:36\",\"2020-12-16T10:43:56\",\"2020-12-17T19:13:32\",\"2020-12-13T02:38:04\",\"2020-12-14T03:57:33\",\"2020-12-25T16:44:09\",\"2020-12-13T02:38:03\",\"2020-12-14T03:57:32\",\"2020-12-25T16:44:07\",\"2020-12-13T20:48:34\",\"2020-12-13T20:48:32\",\"2020-12-13T16:11:52\",\"2020-12-27T08:23:51\",\"2020-12-13T16:11:50\",\"2020-12-27T08:23:49\",\"2020-12-13T01:23:37\",\"2020-12-14T11:18:46\",\"2020-12-15T17:55:56\",\"2020-12-17T22:55:06\",\"2020-12-13T01:23:37\",\"2020-12-14T11:18:43\",\"2020-12-15T17:55:56\",\"2020-12-17T22:55:05\",\"2020-12-13T11:45:01\",\"2020-12-14T03:45:00\",\"2020-12-13T11:44:59\",\"2020-12-14T03:45:00\",\"2020-12-13T16:39:23\",\"2020-12-13T16:39:23\",\"2020-12-13T09:08:33\",\"2020-12-14T04:04:08\",\"2020-12-20T13:51:58\",\"2020-12-13T09:08:33\",\"2020-12-14T04:04:07\",\"2020-12-20T13:51:58\",\"2020-12-13T13:56:46\",\"2020-12-17T07:03:49\",\"2020-12-19T18:42:30\",\"2020-12-23T15:01:11\",\"2020-12-13T13:56:46\",\"2020-12-17T07:03:49\",\"2020-12-19T18:42:30\",\"2020-12-23T15:01:09\",\"2020-12-13T22:42:28\",\"2020-12-15T12:38:34\",\"2020-12-13T22:42:28\",\"2020-12-15T12:38:33\",\"2020-12-13T00:24:28\",\"2020-12-14T03:26:19\",\"2020-12-13T00:24:28\",\"2020-12-14T03:26:16\",\"2020-12-13T07:22:08\",\"2020-12-14T00:31:50\",\"2020-12-13T07:22:07\",\"2020-12-14T00:31:50\",\"2020-12-13T11:42:20\",\"2020-12-23T11:18:40\",\"2020-12-26T06:11:19\",\"2020-12-13T11:42:18\",\"2020-12-23T11:18:40\",\"2020-12-26T06:11:19\",\"2020-12-13T06:49:45\",\"2020-12-13T06:49:45\",\"2020-12-13T18:46:06\",\"2020-12-15T20:14:55\",\"2020-12-19T11:32:51\",\"2020-12-13T18:46:05\",\"2020-12-15T20:14:51\",\"2020-12-19T11:32:50\",\"2020-12-13T04:20:35\",\"2020-12-15T21:42:50\",\"2020-12-13T04:20:35\",\"2020-12-15T21:42:48\",\"2020-12-13T18:09:45\",\"2020-12-14T17:02:41\",\"2020-12-15T22:38:31\",\"2020-12-21T03:00:00\",\"2020-12-13T18:09:44\",\"2020-12-14T17:02:37\",\"2020-12-15T22:38:30\",\"2020-12-21T02:59:57\",\"2020-12-13T00:29:48\",\"2020-12-18T13:43:37\",\"2020-12-13T00:29:48\",\"2020-12-18T13:43:34\",\"2020-12-13T03:33:43\",\"2020-12-15T11:15:48\",\"2020-12-17T12:18:38\",\"2020-12-19T14:43:00\",\"2020-12-13T03:33:41\",\"2020-12-15T11:15:43\",\"2020-12-17T12:18:34\",\"2020-12-19T14:42:58\",\"2020-12-13T01:50:42\",\"2020-12-15T04:27:33\",\"2020-12-22T05:47:19\",\"2020-12-13T01:50:41\",\"2020-12-15T04:27:33\",\"2020-12-22T05:47:17\",\"2020-12-14T01:35:42\",\"2020-12-23T22:12:58\",\"2020-12-24T19:42:22\",\"2020-12-27T19:17:33\",\"2020-12-14T01:35:40\",\"2020-12-23T22:12:57\",\"2020-12-24T19:42:20\",\"2020-12-27T19:17:33\",\"2020-12-14T19:12:54\",\"2020-12-17T14:38:43\",\"2020-12-14T19:12:54\",\"2020-12-17T14:38:42\",\"2020-12-14T03:34:53\",\"2020-12-15T21:49:48\",\"2020-12-16T13:48:26\",\"2020-12-17T04:56:17\",\"2020-12-19T17:38:02\",\"2020-12-21T06:11:35\",\"2020-12-26T01:23:42\",\"2020-12-14T03:34:51\",\"2020-12-15T21:49:48\",\"2020-12-16T13:48:24\",\"2020-12-17T04:56:17\",\"2020-12-19T17:38:02\",\"2020-12-21T06:11:33\",\"2020-12-26T01:23:38\",\"2020-12-14T07:19:40\",\"2020-12-15T09:30:13\",\"2020-12-14T07:19:38\",\"2020-12-15T09:30:12\",\"2020-12-14T16:46:10\",\"2020-12-15T07:06:12\",\"2020-12-16T09:26:49\",\"2020-12-17T07:11:21\",\"2020-12-14T16:46:08\",\"2020-12-15T07:06:11\",\"2020-12-16T09:26:49\",\"2020-12-17T07:11:21\",\"2020-12-14T18:04:00\",\"2020-12-15T23:24:51\",\"2020-12-16T13:11:26\",\"2020-12-23T07:14:20\",\"2020-12-28T02:52:11\",\"2020-12-14T18:03:59\",\"2020-12-15T23:24:51\",\"2020-12-16T13:11:26\",\"2020-12-23T07:14:20\",\"2020-12-28T02:52:11\",\"2020-12-14T22:39:30\",\"2020-12-15T20:02:07\",\"2020-12-14T22:39:30\",\"2020-12-15T20:02:06\",\"2020-12-14T21:47:22\",\"2020-12-23T22:44:13\",\"2020-12-24T19:10:18\",\"2020-12-14T21:47:20\",\"2020-12-23T22:44:13\",\"2020-12-24T19:10:17\",\"2020-12-14T19:58:26\",\"2020-12-15T04:08:56\",\"2020-12-18T02:47:49\",\"2020-12-19T10:14:33\",\"2020-12-20T08:09:04\",\"2020-12-21T02:48:16\",\"2020-12-25T14:40:28\",\"2020-12-14T19:58:26\",\"2020-12-15T04:08:54\",\"2020-12-18T02:47:49\",\"2020-12-19T10:14:32\",\"2020-12-20T08:09:01\",\"2020-12-21T02:48:16\",\"2020-12-25T14:40:27\",\"2020-12-14T15:10:53\",\"2020-12-15T19:14:15\",\"2020-12-17T20:54:06\",\"2020-12-26T16:55:27\",\"2020-12-14T15:10:53\",\"2020-12-15T19:14:15\",\"2020-12-17T20:54:06\",\"2020-12-26T16:55:25\",\"2020-12-14T20:38:24\",\"2020-12-16T12:20:06\",\"2020-12-19T21:03:12\",\"2020-12-28T01:19:06\",\"2020-12-14T20:38:22\",\"2020-12-16T12:20:06\",\"2020-12-19T21:03:11\",\"2020-12-28T01:19:06\",\"2020-12-14T03:16:07\",\"2020-12-14T03:16:07\",\"2020-12-14T02:06:08\",\"2020-12-14T02:06:07\",\"2020-12-14T16:29:24\",\"2020-12-15T00:29:35\",\"2020-12-16T01:59:51\",\"2020-12-18T01:42:10\",\"2020-12-22T20:35:55\",\"2020-12-23T06:52:00\",\"2020-12-14T16:29:22\",\"2020-12-15T00:29:35\",\"2020-12-16T01:59:50\",\"2020-12-18T01:42:10\",\"2020-12-22T20:35:54\",\"2020-12-23T06:51:59\",\"2020-12-14T04:23:31\",\"2020-12-16T01:03:03\",\"2020-12-17T02:15:07\",\"2020-12-19T10:08:21\",\"2020-12-14T04:23:28\",\"2020-12-16T01:03:00\",\"2020-12-17T02:15:07\",\"2020-12-19T10:08:19\",\"2020-12-14T03:02:36\",\"2020-12-16T14:03:50\",\"2020-12-14T03:02:36\",\"2020-12-16T14:03:49\",\"2020-12-14T04:31:34\",\"2020-12-17T21:04:47\",\"2020-12-14T04:31:34\",\"2020-12-17T21:04:45\",\"2020-12-14T05:53:27\",\"2020-12-15T15:37:01\",\"2020-12-26T14:04:10\",\"2020-12-14T05:53:24\",\"2020-12-15T15:37:00\",\"2020-12-26T14:04:07\",\"2020-12-14T03:36:52\",\"2020-12-14T03:36:52\",\"2020-12-14T04:33:49\",\"2020-12-20T16:45:40\",\"2020-12-14T04:33:44\",\"2020-12-20T16:45:40\",\"2020-12-14T17:56:18\",\"2020-12-15T11:23:10\",\"2020-12-17T01:36:21\",\"2020-12-22T20:20:52\",\"2020-12-14T17:56:18\",\"2020-12-15T11:23:09\",\"2020-12-17T01:36:21\",\"2020-12-22T20:20:51\",\"2020-12-14T17:04:59\",\"2020-12-15T16:13:01\",\"2020-12-16T20:34:41\",\"2020-12-24T00:22:32\",\"2020-12-25T03:45:40\",\"2020-12-26T11:03:50\",\"2020-12-14T17:04:57\",\"2020-12-15T16:13:01\",\"2020-12-16T20:34:40\",\"2020-12-24T00:22:31\",\"2020-12-25T03:45:40\",\"2020-12-26T11:03:48\",\"2020-12-14T03:47:00\",\"2020-12-15T23:54:07\",\"2020-12-16T06:39:01\",\"2020-12-24T07:45:24\",\"2020-12-14T03:47:00\",\"2020-12-15T23:54:07\",\"2020-12-16T06:39:01\",\"2020-12-24T07:45:22\",\"2020-12-14T08:31:51\",\"2020-12-15T03:05:52\",\"2020-12-20T02:27:08\",\"2020-12-14T08:31:50\",\"2020-12-15T03:05:51\",\"2020-12-20T02:27:04\",\"2020-12-14T17:04:51\",\"2020-12-16T12:40:08\",\"2020-12-18T12:43:08\",\"2020-12-14T17:04:51\",\"2020-12-16T12:40:08\",\"2020-12-18T12:43:06\",\"2020-12-14T22:20:16\",\"2020-12-23T11:01:52\",\"2020-12-14T22:20:14\",\"2020-12-23T11:01:52\",\"2020-12-14T03:05:23\",\"2020-12-15T21:52:13\",\"2020-12-19T11:53:15\",\"2020-12-21T03:31:13\",\"2020-12-14T03:05:23\",\"2020-12-15T21:52:12\",\"2020-12-19T11:53:15\",\"2020-12-21T03:31:13\",\"2020-12-14T06:22:33\",\"2020-12-16T01:45:45\",\"2020-12-17T15:54:51\",\"2020-12-19T19:25:30\",\"2020-12-14T06:22:31\",\"2020-12-16T01:45:43\",\"2020-12-17T15:54:50\",\"2020-12-19T19:25:30\",\"2020-12-14T19:27:23\",\"2020-12-16T22:27:32\",\"2020-12-20T04:40:35\",\"2020-12-14T19:27:22\",\"2020-12-16T22:27:32\",\"2020-12-20T04:40:33\",\"2020-12-14T23:59:56\",\"2020-12-17T03:19:53\",\"2020-12-14T23:59:54\",\"2020-12-17T03:19:51\",\"2020-12-14T12:46:16\",\"2020-12-17T10:51:36\",\"2020-12-18T20:07:56\",\"2020-12-23T03:55:40\",\"2020-12-14T12:46:15\",\"2020-12-17T10:51:36\",\"2020-12-18T20:07:56\",\"2020-12-23T03:55:39\",\"2020-12-14T09:44:05\",\"2020-12-15T11:18:17\",\"2020-12-16T02:06:20\",\"2020-12-17T09:10:56\",\"2020-12-19T21:08:10\",\"2020-12-20T23:50:27\",\"2020-12-14T09:44:02\",\"2020-12-15T11:18:16\",\"2020-12-16T02:06:18\",\"2020-12-17T09:10:53\",\"2020-12-19T21:08:09\",\"2020-12-20T23:50:25\",\"2020-12-14T09:04:15\",\"2020-12-15T15:20:33\",\"2020-12-21T14:13:52\",\"2020-12-22T08:48:32\",\"2020-12-28T01:34:55\",\"2020-12-14T09:04:15\",\"2020-12-15T15:20:32\",\"2020-12-21T14:13:52\",\"2020-12-22T08:48:32\",\"2020-12-28T01:34:55\",\"2020-12-14T21:54:41\",\"2020-12-16T00:32:42\",\"2020-12-14T21:54:40\",\"2020-12-16T00:32:41\",\"2020-12-14T12:03:36\",\"2020-12-15T11:54:22\",\"2020-12-17T22:34:53\",\"2020-12-14T12:03:33\",\"2020-12-15T11:54:21\",\"2020-12-17T22:34:53\",\"2020-12-14T16:19:24\",\"2020-12-15T05:40:17\",\"2020-12-17T17:16:48\",\"2020-12-18T10:10:06\",\"2020-12-19T09:44:28\",\"2020-12-22T20:53:01\",\"2020-12-23T00:52:53\",\"2020-12-14T16:19:24\",\"2020-12-15T05:40:17\",\"2020-12-17T17:16:48\",\"2020-12-18T10:10:06\",\"2020-12-19T09:44:27\",\"2020-12-22T20:52:58\",\"2020-12-23T00:52:50\",\"2020-12-14T02:45:14\",\"2020-12-15T21:31:58\",\"2020-12-16T01:28:56\",\"2020-12-17T23:29:46\",\"2020-12-18T11:35:01\",\"2020-12-28T18:39:47\",\"2020-12-14T02:45:13\",\"2020-12-15T21:31:56\",\"2020-12-16T01:28:55\",\"2020-12-17T23:29:46\",\"2020-12-18T11:35:00\",\"2020-12-28T18:39:46\",\"2020-12-14T04:58:49\",\"2020-12-16T14:39:17\",\"2020-12-17T13:12:46\",\"2020-12-20T15:47:18\",\"2020-12-22T11:08:34\",\"2020-12-24T01:46:47\",\"2020-12-14T04:58:48\",\"2020-12-16T14:39:16\",\"2020-12-17T13:12:44\",\"2020-12-20T15:47:17\",\"2020-12-22T11:08:32\",\"2020-12-24T01:46:46\",\"2020-12-14T05:53:32\",\"2020-12-15T08:54:48\",\"2020-12-16T03:05:29\",\"2020-12-21T19:50:18\",\"2020-12-14T05:53:32\",\"2020-12-15T08:54:46\",\"2020-12-16T03:05:29\",\"2020-12-21T19:50:17\",\"2020-12-14T14:51:51\",\"2020-12-15T20:52:55\",\"2020-12-16T16:24:18\",\"2020-12-20T18:55:56\",\"2020-12-14T14:51:47\",\"2020-12-15T20:52:55\",\"2020-12-16T16:24:17\",\"2020-12-20T18:55:55\",\"2020-12-14T18:13:37\",\"2020-12-15T06:56:41\",\"2020-12-17T16:13:19\",\"2020-12-20T23:14:52\",\"2020-12-14T18:13:37\",\"2020-12-15T06:56:40\",\"2020-12-17T16:13:19\",\"2020-12-20T23:14:52\",\"2020-12-14T11:13:39\",\"2020-12-15T07:15:01\",\"2020-12-16T01:22:10\",\"2020-12-24T02:26:21\",\"2020-12-14T11:13:38\",\"2020-12-15T07:15:01\",\"2020-12-16T01:22:08\",\"2020-12-24T02:26:21\",\"2020-12-14T01:37:21\",\"2020-12-15T20:07:42\",\"2020-12-18T00:32:09\",\"2020-12-14T01:37:21\",\"2020-12-15T20:07:39\",\"2020-12-18T00:32:08\",\"2020-12-14T05:52:38\",\"2020-12-18T11:37:47\",\"2020-12-28T10:49:17\",\"2020-12-14T05:52:38\",\"2020-12-18T11:37:44\",\"2020-12-28T10:49:14\",\"2020-12-14T23:20:14\",\"2020-12-15T05:36:33\",\"2020-12-14T23:20:11\",\"2020-12-15T05:36:33\",\"2020-12-14T20:45:21\",\"2020-12-15T20:15:36\",\"2020-12-21T05:22:20\",\"2020-12-27T22:13:33\",\"2020-12-14T20:45:19\",\"2020-12-15T20:15:36\",\"2020-12-21T05:22:17\",\"2020-12-27T22:13:32\",\"2020-12-14T04:19:50\",\"2020-12-21T09:20:44\",\"2020-12-14T04:19:47\",\"2020-12-21T09:20:43\",\"2020-12-14T13:02:42\",\"2020-12-15T09:06:18\",\"2020-12-18T23:03:15\",\"2020-12-14T13:02:42\",\"2020-12-15T09:06:16\",\"2020-12-18T23:03:15\",\"2020-12-14T08:06:35\",\"2020-12-17T15:39:46\",\"2020-12-18T16:45:34\",\"2020-12-21T00:20:17\",\"2020-12-14T08:06:35\",\"2020-12-17T15:39:43\",\"2020-12-18T16:45:34\",\"2020-12-21T00:20:17\",\"2020-12-14T04:20:58\",\"2020-12-17T21:42:00\",\"2020-12-19T09:41:44\",\"2020-12-21T14:42:58\",\"2020-12-14T04:20:56\",\"2020-12-17T21:41:59\",\"2020-12-19T09:41:44\",\"2020-12-21T14:42:57\",\"2020-12-14T12:31:37\",\"2020-12-15T22:24:32\",\"2020-12-19T15:17:17\",\"2020-12-21T04:35:47\",\"2020-12-23T03:53:17\",\"2020-12-14T12:31:37\",\"2020-12-15T22:24:31\",\"2020-12-19T15:17:17\",\"2020-12-21T04:35:45\",\"2020-12-23T03:53:15\",\"2020-12-14T11:02:25\",\"2020-12-15T03:23:53\",\"2020-12-18T04:10:13\",\"2020-12-20T21:02:14\",\"2020-12-24T15:19:17\",\"2020-12-26T03:38:25\",\"2020-12-14T11:02:24\",\"2020-12-15T03:23:50\",\"2020-12-18T04:10:13\",\"2020-12-20T21:02:14\",\"2020-12-24T15:19:12\",\"2020-12-26T03:38:25\",\"2020-12-14T10:11:12\",\"2020-12-15T14:11:53\",\"2020-12-20T13:10:59\",\"2020-12-21T02:15:58\",\"2020-12-27T10:08:21\",\"2020-12-14T10:11:12\",\"2020-12-15T14:11:53\",\"2020-12-20T13:10:58\",\"2020-12-21T02:15:54\",\"2020-12-27T10:08:21\",\"2020-12-14T05:38:04\",\"2020-12-16T17:00:32\",\"2020-12-14T05:38:01\",\"2020-12-16T17:00:32\",\"2020-12-14T03:00:04\",\"2020-12-15T02:57:32\",\"2020-12-16T00:17:18\",\"2020-12-18T17:13:29\",\"2020-12-25T09:03:18\",\"2020-12-14T03:00:02\",\"2020-12-15T02:57:32\",\"2020-12-16T00:17:17\",\"2020-12-18T17:13:28\",\"2020-12-25T09:03:16\",\"2020-12-14T02:11:15\",\"2020-12-15T12:38:53\",\"2020-12-17T18:37:50\",\"2020-12-24T22:29:55\",\"2020-12-14T02:11:15\",\"2020-12-15T12:38:52\",\"2020-12-17T18:37:50\",\"2020-12-24T22:29:54\",\"2020-12-14T18:58:56\",\"2020-12-16T02:21:37\",\"2020-12-14T18:58:54\",\"2020-12-16T02:21:36\",\"2020-12-14T07:11:58\",\"2020-12-15T05:30:30\",\"2020-12-17T23:20:54\",\"2020-12-22T12:05:54\",\"2020-12-14T07:11:53\",\"2020-12-15T05:30:30\",\"2020-12-17T23:20:54\",\"2020-12-22T12:05:54\",\"2020-12-14T22:15:27\",\"2020-12-15T17:22:19\",\"2020-12-16T14:00:24\",\"2020-12-14T22:15:27\",\"2020-12-15T17:22:19\",\"2020-12-16T14:00:23\",\"2020-12-14T18:20:39\",\"2020-12-15T18:34:58\",\"2020-12-16T00:59:45\",\"2020-12-18T21:59:29\",\"2020-12-20T06:28:36\",\"2020-12-14T18:20:38\",\"2020-12-15T18:34:58\",\"2020-12-16T00:59:45\",\"2020-12-18T21:59:29\",\"2020-12-20T06:28:36\",\"2020-12-14T10:01:48\",\"2020-12-14T10:01:44\",\"2020-12-14T01:04:12\",\"2020-12-16T14:57:03\",\"2020-12-28T22:01:43\",\"2020-12-14T01:04:12\",\"2020-12-16T14:57:03\",\"2020-12-28T22:01:43\",\"2020-12-14T02:06:27\",\"2020-12-19T23:48:33\",\"2020-12-14T02:06:26\",\"2020-12-19T23:48:33\",\"2020-12-14T02:12:44\",\"2020-12-15T07:16:47\",\"2020-12-17T20:10:00\",\"2020-12-14T02:12:44\",\"2020-12-15T07:16:46\",\"2020-12-17T20:09:57\",\"2020-12-14T00:09:40\",\"2020-12-15T17:27:49\",\"2020-12-16T02:30:11\",\"2020-12-14T00:09:40\",\"2020-12-15T17:27:48\",\"2020-12-16T02:30:11\",\"2020-12-14T07:48:25\",\"2020-12-15T14:28:41\",\"2020-12-22T20:55:20\",\"2020-12-27T11:57:58\",\"2020-12-14T07:48:23\",\"2020-12-15T14:28:39\",\"2020-12-22T20:55:20\",\"2020-12-27T11:57:53\",\"2020-12-14T05:24:57\",\"2020-12-20T16:30:37\",\"2020-12-14T05:24:54\",\"2020-12-20T16:30:37\",\"2020-12-14T16:37:24\",\"2020-12-15T16:14:58\",\"2020-12-22T08:29:55\",\"2020-12-14T16:37:24\",\"2020-12-15T16:14:58\",\"2020-12-22T08:29:49\",\"2020-12-14T04:08:25\",\"2020-12-21T07:17:22\",\"2020-12-27T06:40:06\",\"2020-12-14T04:08:25\",\"2020-12-21T07:17:22\",\"2020-12-27T06:40:05\",\"2020-12-14T16:20:50\",\"2020-12-15T17:53:38\",\"2020-12-14T16:20:48\",\"2020-12-15T17:53:35\",\"2020-12-14T06:58:50\",\"2020-12-15T11:22:00\",\"2020-12-16T23:40:29\",\"2020-12-19T01:50:35\",\"2020-12-20T01:44:54\",\"2020-12-21T13:25:26\",\"2020-12-14T06:58:48\",\"2020-12-15T11:21:59\",\"2020-12-16T23:40:28\",\"2020-12-19T01:50:32\",\"2020-12-20T01:44:52\",\"2020-12-21T13:25:24\",\"2020-12-14T04:46:01\",\"2020-12-21T12:08:19\",\"2020-12-14T04:46:01\",\"2020-12-21T12:08:16\",\"2020-12-14T07:03:21\",\"2020-12-15T05:23:38\",\"2020-12-17T17:56:53\",\"2020-12-14T07:03:21\",\"2020-12-15T05:23:37\",\"2020-12-17T17:56:53\",\"2020-12-14T16:52:05\",\"2020-12-15T17:32:06\",\"2020-12-16T16:07:28\",\"2020-12-19T10:48:57\",\"2020-12-14T16:52:04\",\"2020-12-15T17:32:06\",\"2020-12-16T16:07:28\",\"2020-12-19T10:48:57\",\"2020-12-14T01:51:12\",\"2020-12-28T19:17:35\",\"2020-12-14T01:51:12\",\"2020-12-28T19:17:34\",\"2020-12-14T13:22:12\",\"2020-12-15T07:09:53\",\"2020-12-14T13:22:09\",\"2020-12-15T07:09:50\",\"2020-12-14T13:39:05\",\"2020-12-15T06:16:50\",\"2020-12-16T14:12:00\",\"2020-12-17T11:19:22\",\"2020-12-25T17:48:17\",\"2020-12-27T20:12:43\",\"2020-12-14T13:39:05\",\"2020-12-15T06:16:47\",\"2020-12-16T14:11:58\",\"2020-12-17T11:19:19\",\"2020-12-25T17:48:17\",\"2020-12-27T20:12:40\",\"2020-12-14T22:05:44\",\"2020-12-15T04:16:19\",\"2020-12-18T19:16:22\",\"2020-12-19T23:30:02\",\"2020-12-23T14:08:52\",\"2020-12-14T22:05:44\",\"2020-12-15T04:16:19\",\"2020-12-18T19:16:20\",\"2020-12-19T23:30:01\",\"2020-12-23T14:08:52\",\"2020-12-14T13:02:54\",\"2020-12-16T05:39:52\",\"2020-12-22T07:04:41\",\"2020-12-14T13:02:50\",\"2020-12-16T05:39:52\",\"2020-12-22T07:04:38\",\"2020-12-14T03:46:34\",\"2020-12-15T16:09:08\",\"2020-12-18T11:14:32\",\"2020-12-14T03:46:34\",\"2020-12-15T16:09:06\",\"2020-12-18T11:14:32\",\"2020-12-14T05:00:11\",\"2020-12-27T09:20:32\",\"2020-12-14T05:00:08\",\"2020-12-27T09:20:32\",\"2020-12-14T03:53:46\",\"2020-12-17T09:50:07\",\"2020-12-14T03:53:44\",\"2020-12-17T09:50:07\",\"2020-12-14T06:27:37\",\"2020-12-16T18:49:57\",\"2020-12-22T19:49:14\",\"2020-12-25T16:06:58\",\"2020-12-14T06:27:37\",\"2020-12-16T18:49:57\",\"2020-12-22T19:49:13\",\"2020-12-25T16:06:58\",\"2020-12-14T17:05:04\",\"2020-12-15T15:03:38\",\"2020-12-16T17:42:27\",\"2020-12-14T17:05:02\",\"2020-12-15T15:03:36\",\"2020-12-16T17:42:25\",\"2020-12-14T04:48:44\",\"2020-12-15T09:18:40\",\"2020-12-24T23:49:04\",\"2020-12-14T04:48:41\",\"2020-12-15T09:18:39\",\"2020-12-24T23:49:04\",\"2020-12-14T21:16:22\",\"2020-12-15T19:13:15\",\"2020-12-14T21:16:22\",\"2020-12-15T19:13:15\",\"2020-12-14T12:28:53\",\"2020-12-15T12:50:28\",\"2020-12-18T02:15:44\",\"2020-12-20T12:41:46\",\"2020-12-14T12:28:53\",\"2020-12-15T12:50:27\",\"2020-12-18T02:15:41\",\"2020-12-20T12:41:45\",\"2020-12-14T21:32:33\",\"2020-12-15T13:32:55\",\"2020-12-14T21:32:33\",\"2020-12-15T13:32:54\",\"2020-12-14T18:15:55\",\"2020-12-22T01:33:23\",\"2020-12-28T05:46:27\",\"2020-12-14T18:15:54\",\"2020-12-22T01:33:23\",\"2020-12-28T05:46:25\",\"2020-12-14T08:37:54\",\"2020-12-20T21:03:53\",\"2020-12-22T19:02:37\",\"2020-12-14T08:37:54\",\"2020-12-20T21:03:52\",\"2020-12-22T19:02:37\",\"2020-12-14T08:32:05\",\"2020-12-15T00:53:18\",\"2020-12-19T20:35:28\",\"2020-12-14T08:32:04\",\"2020-12-15T00:53:16\",\"2020-12-19T20:35:27\",\"2020-12-14T09:40:21\",\"2020-12-23T02:53:08\",\"2020-12-14T09:40:19\",\"2020-12-23T02:53:08\",\"2020-12-14T14:45:50\",\"2020-12-16T14:20:12\",\"2020-12-21T12:42:57\",\"2020-12-14T14:45:48\",\"2020-12-16T14:20:12\",\"2020-12-21T12:42:54\",\"2020-12-14T17:53:43\",\"2020-12-15T23:33:00\",\"2020-12-18T19:41:29\",\"2020-12-27T00:55:59\",\"2020-12-14T17:53:43\",\"2020-12-15T23:32:59\",\"2020-12-18T19:41:28\",\"2020-12-27T00:55:57\",\"2020-12-14T13:45:02\",\"2020-12-15T08:25:31\",\"2020-12-18T03:45:37\",\"2020-12-26T17:13:57\",\"2020-12-14T13:45:02\",\"2020-12-15T08:25:29\",\"2020-12-18T03:45:37\",\"2020-12-26T17:13:57\",\"2020-12-14T16:41:39\",\"2020-12-18T21:17:51\",\"2020-12-22T02:37:25\",\"2020-12-14T16:41:38\",\"2020-12-18T21:17:49\",\"2020-12-22T02:37:23\",\"2020-12-14T17:42:22\",\"2020-12-16T21:21:54\",\"2020-12-19T04:51:12\",\"2020-12-25T15:54:48\",\"2020-12-14T17:42:22\",\"2020-12-16T21:21:53\",\"2020-12-19T04:51:12\",\"2020-12-25T15:54:47\",\"2020-12-14T03:23:24\",\"2020-12-15T04:34:43\",\"2020-12-21T18:37:50\",\"2020-12-24T21:34:39\",\"2020-12-14T03:23:24\",\"2020-12-15T04:34:40\",\"2020-12-21T18:37:50\",\"2020-12-24T21:34:39\",\"2020-12-14T04:31:31\",\"2020-12-15T14:45:20\",\"2020-12-16T10:27:57\",\"2020-12-18T02:52:54\",\"2020-12-26T21:22:01\",\"2020-12-14T04:31:31\",\"2020-12-15T14:45:17\",\"2020-12-16T10:27:57\",\"2020-12-18T02:52:51\",\"2020-12-26T21:21:59\",\"2020-12-14T11:02:05\",\"2020-12-16T09:20:20\",\"2020-12-14T11:02:04\",\"2020-12-16T09:20:20\",\"2020-12-14T12:25:30\",\"2020-12-16T10:26:45\",\"2020-12-23T00:59:07\",\"2020-12-25T00:19:20\",\"2020-12-14T12:25:29\",\"2020-12-16T10:26:44\",\"2020-12-23T00:59:06\",\"2020-12-25T00:19:20\",\"2020-12-14T14:39:29\",\"2020-12-16T07:47:48\",\"2020-12-17T01:58:53\",\"2020-12-14T14:39:27\",\"2020-12-16T07:47:48\",\"2020-12-17T01:58:51\",\"2020-12-14T23:46:32\",\"2020-12-18T14:51:17\",\"2020-12-14T23:46:31\",\"2020-12-18T14:51:17\",\"2020-12-14T17:26:41\",\"2020-12-15T15:46:19\",\"2020-12-14T17:26:39\",\"2020-12-15T15:46:19\",\"2020-12-14T02:32:07\",\"2020-12-14T02:32:06\",\"2020-12-14T07:40:20\",\"2020-12-18T02:34:07\",\"2020-12-14T07:40:20\",\"2020-12-18T02:34:07\",\"2020-12-14T15:41:11\",\"2020-12-15T10:54:32\",\"2020-12-14T15:41:09\",\"2020-12-15T10:54:31\",\"2020-12-14T14:42:40\",\"2020-12-15T22:07:51\",\"2020-12-16T04:23:59\",\"2020-12-14T14:42:40\",\"2020-12-15T22:07:50\",\"2020-12-16T04:23:58\",\"2020-12-14T07:42:37\",\"2020-12-16T19:15:13\",\"2020-12-19T22:37:14\",\"2020-12-20T12:29:02\",\"2020-12-14T07:42:37\",\"2020-12-16T19:15:13\",\"2020-12-19T22:37:11\",\"2020-12-20T12:29:02\",\"2020-12-14T01:50:11\",\"2020-12-16T04:42:43\",\"2020-12-20T18:53:33\",\"2020-12-21T18:30:11\",\"2020-12-14T01:50:10\",\"2020-12-16T04:42:43\",\"2020-12-20T18:53:32\",\"2020-12-21T18:30:11\",\"2020-12-15T00:08:51\",\"2020-12-16T09:20:09\",\"2020-12-17T18:36:14\",\"2020-12-25T12:12:16\",\"2020-12-15T00:08:51\",\"2020-12-16T09:20:08\",\"2020-12-17T18:36:13\",\"2020-12-25T12:12:13\",\"2020-12-15T02:49:53\",\"2020-12-16T12:45:34\",\"2020-12-17T21:53:52\",\"2020-12-20T14:37:15\",\"2020-12-24T03:18:43\",\"2020-12-25T12:46:52\",\"2020-12-15T02:49:50\",\"2020-12-16T12:45:34\",\"2020-12-17T21:53:52\",\"2020-12-20T14:37:15\",\"2020-12-24T03:18:42\",\"2020-12-25T12:46:52\",\"2020-12-15T00:03:22\",\"2020-12-20T09:06:27\",\"2020-12-15T00:03:21\",\"2020-12-20T09:06:27\",\"2020-12-15T19:52:22\",\"2020-12-27T17:43:14\",\"2020-12-15T19:52:22\",\"2020-12-27T17:43:12\",\"2020-12-15T00:13:39\",\"2020-12-16T05:32:40\",\"2020-12-17T10:49:50\",\"2020-12-20T23:51:06\",\"2020-12-15T00:13:39\",\"2020-12-16T05:32:38\",\"2020-12-17T10:49:50\",\"2020-12-20T23:51:04\",\"2020-12-15T13:10:09\",\"2020-12-24T18:39:54\",\"2020-12-28T15:59:35\",\"2020-12-15T13:10:09\",\"2020-12-24T18:39:54\",\"2020-12-28T15:59:34\",\"2020-12-15T17:30:54\",\"2020-12-19T15:55:55\",\"2020-12-15T17:30:53\",\"2020-12-19T15:55:55\",\"2020-12-15T04:17:42\",\"2020-12-15T04:17:39\",\"2020-12-15T21:22:59\",\"2020-12-16T15:06:36\",\"2020-12-17T16:09:36\",\"2020-12-15T21:22:59\",\"2020-12-16T15:06:36\",\"2020-12-17T16:09:34\",\"2020-12-15T08:50:05\",\"2020-12-18T03:36:26\",\"2020-12-28T15:27:37\",\"2020-12-15T08:50:04\",\"2020-12-18T03:36:26\",\"2020-12-28T15:27:37\",\"2020-12-15T19:43:25\",\"2020-12-18T14:12:45\",\"2020-12-20T21:30:14\",\"2020-12-25T07:08:46\",\"2020-12-28T20:35:11\",\"2020-12-29T15:27:50\",\"2020-12-15T19:43:24\",\"2020-12-18T14:12:41\",\"2020-12-20T21:30:12\",\"2020-12-25T07:08:46\",\"2020-12-28T20:35:09\",\"2020-12-29T15:27:49\",\"2020-12-15T15:36:47\",\"2020-12-16T11:57:01\",\"2020-12-24T17:43:50\",\"2020-12-27T21:46:13\",\"2020-12-15T15:36:45\",\"2020-12-16T11:56:58\",\"2020-12-24T17:43:49\",\"2020-12-27T21:46:11\",\"2020-12-15T18:52:06\",\"2020-12-18T16:43:30\",\"2020-12-15T18:52:06\",\"2020-12-18T16:43:29\",\"2020-12-15T21:59:12\",\"2020-12-17T11:43:38\",\"2020-12-22T03:30:49\",\"2020-12-15T21:59:12\",\"2020-12-17T11:43:37\",\"2020-12-22T03:30:47\",\"2020-12-15T04:09:04\",\"2020-12-16T07:13:55\",\"2020-12-23T13:07:19\",\"2020-12-15T04:09:04\",\"2020-12-16T07:13:54\",\"2020-12-23T13:07:19\",\"2020-12-15T04:45:56\",\"2020-12-16T09:08:14\",\"2020-12-18T12:39:34\",\"2020-12-20T14:03:58\",\"2020-12-22T21:17:05\",\"2020-12-24T12:41:01\",\"2020-12-15T04:45:55\",\"2020-12-16T09:08:13\",\"2020-12-18T12:39:34\",\"2020-12-20T14:03:56\",\"2020-12-22T21:17:04\",\"2020-12-24T12:41:00\",\"2020-12-15T01:53:30\",\"2020-12-16T11:51:18\",\"2020-12-15T01:53:30\",\"2020-12-16T11:51:18\",\"2020-12-15T07:23:39\",\"2020-12-17T23:33:40\",\"2020-12-20T01:50:24\",\"2020-12-15T07:23:39\",\"2020-12-17T23:33:39\",\"2020-12-20T01:50:23\",\"2020-12-15T08:06:23\",\"2020-12-18T23:24:38\",\"2020-12-15T08:06:21\",\"2020-12-18T23:24:38\",\"2020-12-15T13:06:41\",\"2020-12-16T08:20:48\",\"2020-12-22T15:51:57\",\"2020-12-15T13:06:40\",\"2020-12-16T08:20:48\",\"2020-12-22T15:51:56\",\"2020-12-15T23:08:52\",\"2020-12-16T23:43:28\",\"2020-12-17T17:30:49\",\"2020-12-19T15:06:13\",\"2020-12-15T23:08:52\",\"2020-12-16T23:43:28\",\"2020-12-17T17:30:47\",\"2020-12-19T15:06:12\",\"2020-12-15T01:57:34\",\"2020-12-15T01:57:32\",\"2020-12-15T06:13:14\",\"2020-12-18T20:27:09\",\"2020-12-24T14:16:00\",\"2020-12-15T06:13:13\",\"2020-12-18T20:27:08\",\"2020-12-24T14:16:00\",\"2020-12-15T21:28:04\",\"2020-12-17T11:51:27\",\"2020-12-20T06:26:01\",\"2020-12-27T09:58:36\",\"2020-12-29T17:40:08\",\"2020-12-15T21:28:02\",\"2020-12-17T11:51:27\",\"2020-12-20T06:26:00\",\"2020-12-27T09:58:36\",\"2020-12-29T17:40:06\",\"2020-12-15T02:27:56\",\"2020-12-16T07:55:34\",\"2020-12-17T13:30:51\",\"2020-12-25T14:00:46\",\"2020-12-27T13:17:58\",\"2020-12-15T02:27:54\",\"2020-12-16T07:55:32\",\"2020-12-17T13:30:50\",\"2020-12-25T14:00:46\",\"2020-12-27T13:17:58\",\"2020-12-15T04:59:46\",\"2020-12-19T01:44:44\",\"2020-12-21T09:58:01\",\"2020-12-15T04:59:44\",\"2020-12-19T01:44:43\",\"2020-12-21T09:58:01\",\"2020-12-15T15:07:04\",\"2020-12-19T14:20:25\",\"2020-12-20T00:57:11\",\"2020-12-25T05:44:28\",\"2020-12-15T15:07:03\",\"2020-12-19T14:20:25\",\"2020-12-20T00:57:09\",\"2020-12-25T05:44:26\",\"2020-12-15T02:35:18\",\"2020-12-16T02:58:23\",\"2020-12-18T10:46:38\",\"2020-12-21T13:11:44\",\"2020-12-23T10:21:52\",\"2020-12-27T12:02:43\",\"2020-12-15T02:35:18\",\"2020-12-16T02:58:23\",\"2020-12-18T10:46:37\",\"2020-12-21T13:11:42\",\"2020-12-23T10:21:51\",\"2020-12-27T12:02:43\",\"2020-12-15T13:31:41\",\"2020-12-17T16:55:11\",\"2020-12-22T17:30:00\",\"2020-12-15T13:31:41\",\"2020-12-17T16:55:11\",\"2020-12-22T17:30:00\",\"2020-12-15T05:31:23\",\"2020-12-16T05:58:54\",\"2020-12-17T21:36:40\",\"2020-12-23T12:38:01\",\"2020-12-15T05:31:22\",\"2020-12-16T05:58:52\",\"2020-12-17T21:36:40\",\"2020-12-23T12:38:00\",\"2020-12-15T20:06:25\",\"2020-12-17T20:17:14\",\"2020-12-19T03:55:49\",\"2020-12-21T17:31:43\",\"2020-12-23T03:53:00\",\"2020-12-15T20:06:24\",\"2020-12-17T20:17:12\",\"2020-12-19T03:55:47\",\"2020-12-21T17:31:43\",\"2020-12-23T03:52:59\",\"2020-12-15T19:39:24\",\"2020-12-16T23:45:12\",\"2020-12-19T06:17:22\",\"2020-12-22T11:23:06\",\"2020-12-15T19:39:24\",\"2020-12-16T23:45:10\",\"2020-12-19T06:17:20\",\"2020-12-22T11:23:04\",\"2020-12-15T04:29:36\",\"2020-12-16T05:33:36\",\"2020-12-21T04:14:55\",\"2020-12-15T04:29:35\",\"2020-12-16T05:33:36\",\"2020-12-21T04:14:55\",\"2020-12-15T02:54:29\",\"2020-12-16T21:44:34\",\"2020-12-17T14:04:18\",\"2020-12-29T22:02:30\",\"2020-12-15T02:54:29\",\"2020-12-16T21:44:34\",\"2020-12-17T14:04:18\",\"2020-12-29T22:02:28\",\"2020-12-15T11:08:41\",\"2020-12-16T07:39:37\",\"2020-12-17T11:07:51\",\"2020-12-18T00:29:15\",\"2020-12-15T11:08:40\",\"2020-12-16T07:39:35\",\"2020-12-17T11:07:51\",\"2020-12-18T00:29:14\",\"2020-12-15T10:30:17\",\"2020-12-19T06:20:38\",\"2020-12-28T21:51:28\",\"2020-12-15T10:30:16\",\"2020-12-19T06:20:36\",\"2020-12-28T21:51:27\",\"2020-12-15T12:27:45\",\"2020-12-17T10:07:01\",\"2020-12-15T12:27:45\",\"2020-12-17T10:07:00\",\"2020-12-15T17:51:51\",\"2020-12-16T20:54:46\",\"2020-12-18T02:48:07\",\"2020-12-20T13:39:50\",\"2020-12-25T14:22:07\",\"2020-12-15T17:51:51\",\"2020-12-16T20:54:44\",\"2020-12-18T02:48:07\",\"2020-12-20T13:39:50\",\"2020-12-25T14:22:06\",\"2020-12-15T03:20:54\",\"2020-12-16T03:16:13\",\"2020-12-21T13:58:52\",\"2020-12-27T13:16:49\",\"2020-12-15T03:20:54\",\"2020-12-16T03:16:13\",\"2020-12-21T13:58:51\",\"2020-12-27T13:16:49\",\"2020-12-15T06:41:12\",\"2020-12-16T02:51:59\",\"2020-12-17T05:43:28\",\"2020-12-20T18:35:05\",\"2020-12-21T02:31:44\",\"2020-12-15T06:41:12\",\"2020-12-16T02:51:58\",\"2020-12-17T05:43:27\",\"2020-12-20T18:35:04\",\"2020-12-21T02:31:44\",\"2020-12-15T12:24:22\",\"2020-12-17T16:36:13\",\"2020-12-28T21:38:17\",\"2020-12-15T12:24:22\",\"2020-12-17T16:36:13\",\"2020-12-28T21:38:17\",\"2020-12-15T07:48:35\",\"2020-12-16T00:05:14\",\"2020-12-17T06:09:47\",\"2020-12-19T18:26:35\",\"2020-12-21T13:46:32\",\"2020-12-28T03:36:23\",\"2020-12-15T07:48:35\",\"2020-12-16T00:05:14\",\"2020-12-17T06:09:46\",\"2020-12-19T18:26:35\",\"2020-12-21T13:46:32\",\"2020-12-28T03:36:22\",\"2020-12-15T03:25:59\",\"2020-12-16T03:25:11\",\"2020-12-17T08:00:58\",\"2020-12-18T09:13:53\",\"2020-12-21T15:31:50\",\"2020-12-25T14:35:50\",\"2020-12-27T08:33:12\",\"2020-12-15T03:25:56\",\"2020-12-16T03:25:09\",\"2020-12-17T08:00:57\",\"2020-12-18T09:13:52\",\"2020-12-21T15:31:50\",\"2020-12-25T14:35:49\",\"2020-12-27T08:33:12\",\"2020-12-15T08:22:38\",\"2020-12-16T07:16:00\",\"2020-12-23T00:19:33\",\"2020-12-25T22:24:16\",\"2020-12-15T08:22:36\",\"2020-12-16T07:15:57\",\"2020-12-23T00:19:32\",\"2020-12-25T22:24:16\",\"2020-12-15T22:22:13\",\"2020-12-16T18:40:18\",\"2020-12-17T12:38:04\",\"2020-12-19T06:54:22\",\"2020-12-23T09:23:13\",\"2020-12-27T05:06:09\",\"2020-12-15T22:22:11\",\"2020-12-16T18:40:15\",\"2020-12-17T12:38:03\",\"2020-12-19T06:54:20\",\"2020-12-23T09:23:13\",\"2020-12-27T05:06:08\",\"2020-12-15T02:46:27\",\"2020-12-22T23:05:35\",\"2020-12-28T06:08:43\",\"2020-12-15T02:46:25\",\"2020-12-22T23:05:31\",\"2020-12-28T06:08:43\",\"2020-12-15T09:17:59\",\"2020-12-16T05:09:45\",\"2020-12-18T01:51:00\",\"2020-12-15T09:17:59\",\"2020-12-16T05:09:45\",\"2020-12-18T01:50:59\",\"2020-12-15T12:54:36\",\"2020-12-20T21:10:57\",\"2020-12-15T12:54:35\",\"2020-12-20T21:10:55\",\"2020-12-15T01:06:38\",\"2020-12-16T03:45:35\",\"2020-12-17T06:11:50\",\"2020-12-20T10:36:20\",\"2020-12-23T15:04:59\",\"2020-12-15T01:06:38\",\"2020-12-16T03:45:35\",\"2020-12-17T06:11:50\",\"2020-12-20T10:36:19\",\"2020-12-23T15:04:57\",\"2020-12-15T12:15:18\",\"2020-12-21T17:45:13\",\"2020-12-26T07:20:07\",\"2020-12-15T12:15:15\",\"2020-12-21T17:45:11\",\"2020-12-26T07:20:07\",\"2020-12-15T10:17:07\",\"2020-12-17T17:29:54\",\"2020-12-18T06:50:50\",\"2020-12-21T03:32:11\",\"2020-12-29T19:25:13\",\"2020-12-15T10:17:07\",\"2020-12-17T17:29:54\",\"2020-12-18T06:50:50\",\"2020-12-21T03:32:09\",\"2020-12-29T19:25:10\",\"2020-12-15T13:26:32\",\"2020-12-19T00:50:30\",\"2020-12-15T13:26:32\",\"2020-12-19T00:50:29\",\"2020-12-15T23:06:50\",\"2020-12-15T23:06:50\",\"2020-12-15T04:33:36\",\"2020-12-17T12:06:35\",\"2020-12-26T10:15:52\",\"2020-12-15T04:33:34\",\"2020-12-17T12:06:34\",\"2020-12-26T10:15:50\",\"2020-12-16T00:39:35\",\"2020-12-16T00:39:33\",\"2020-12-16T19:01:47\",\"2020-12-16T19:01:46\",\"2020-12-16T19:38:29\",\"2020-12-17T22:23:50\",\"2020-12-18T20:58:22\",\"2020-12-21T03:31:04\",\"2020-12-16T19:38:28\",\"2020-12-17T22:23:47\",\"2020-12-18T20:58:21\",\"2020-12-21T03:31:02\",\"2020-12-16T19:49:44\",\"2020-12-19T02:06:12\",\"2020-12-16T19:49:44\",\"2020-12-19T02:06:10\",\"2020-12-16T02:19:41\",\"2020-12-19T08:59:50\",\"2020-12-21T07:16:31\",\"2020-12-16T02:19:41\",\"2020-12-19T08:59:50\",\"2020-12-21T07:16:26\",\"2020-12-16T16:16:46\",\"2020-12-17T04:34:35\",\"2020-12-16T16:16:45\",\"2020-12-17T04:34:35\",\"2020-12-16T13:57:04\",\"2020-12-18T18:13:12\",\"2020-12-22T05:07:03\",\"2020-12-26T03:51:51\",\"2020-12-16T13:57:01\",\"2020-12-18T18:13:11\",\"2020-12-22T05:07:02\",\"2020-12-26T03:51:51\",\"2020-12-16T08:49:13\",\"2020-12-18T19:37:54\",\"2020-12-21T17:50:34\",\"2020-12-16T08:49:10\",\"2020-12-18T19:37:53\",\"2020-12-21T17:50:33\",\"2020-12-16T17:43:02\",\"2020-12-17T18:48:35\",\"2020-12-21T09:50:27\",\"2020-12-26T16:32:50\",\"2020-12-16T17:43:02\",\"2020-12-17T18:48:35\",\"2020-12-21T09:50:27\",\"2020-12-26T16:32:49\",\"2020-12-16T09:11:09\",\"2020-12-17T02:24:17\",\"2020-12-22T14:50:23\",\"2020-12-23T19:17:40\",\"2020-12-16T09:11:09\",\"2020-12-17T02:24:17\",\"2020-12-22T14:50:22\",\"2020-12-23T19:17:38\",\"2020-12-16T00:02:12\",\"2020-12-20T17:33:55\",\"2020-12-22T12:57:01\",\"2020-12-16T00:02:10\",\"2020-12-20T17:33:55\",\"2020-12-22T12:57:00\",\"2020-12-16T16:37:47\",\"2020-12-17T16:46:02\",\"2020-12-18T13:00:45\",\"2020-12-21T07:53:43\",\"2020-12-16T16:37:46\",\"2020-12-17T16:46:02\",\"2020-12-18T13:00:44\",\"2020-12-21T07:53:43\",\"2020-12-16T06:32:39\",\"2020-12-19T11:37:20\",\"2020-12-16T06:32:38\",\"2020-12-19T11:37:17\",\"2020-12-16T08:40:24\",\"2020-12-17T03:36:18\",\"2020-12-20T12:39:28\",\"2020-12-16T08:40:23\",\"2020-12-17T03:36:17\",\"2020-12-20T12:39:26\",\"2020-12-16T00:08:49\",\"2020-12-22T02:58:55\",\"2020-12-16T00:08:49\",\"2020-12-22T02:58:54\",\"2020-12-16T01:58:47\",\"2020-12-17T20:20:14\",\"2020-12-16T01:58:46\",\"2020-12-17T20:20:12\",\"2020-12-16T16:14:57\",\"2020-12-17T00:15:21\",\"2020-12-25T15:11:00\",\"2020-12-16T16:14:57\",\"2020-12-17T00:15:21\",\"2020-12-25T15:10:58\",\"2020-12-16T13:59:15\",\"2020-12-18T18:19:57\",\"2020-12-25T03:22:48\",\"2020-12-16T13:59:12\",\"2020-12-18T18:19:56\",\"2020-12-25T03:22:46\",\"2020-12-16T08:34:10\",\"2020-12-17T19:34:22\",\"2020-12-18T04:16:47\",\"2020-12-16T08:34:10\",\"2020-12-17T19:34:20\",\"2020-12-18T04:16:47\",\"2020-12-16T02:55:51\",\"2020-12-18T04:32:55\",\"2020-12-26T04:29:30\",\"2020-12-29T21:12:10\",\"2020-12-16T02:55:51\",\"2020-12-18T04:32:52\",\"2020-12-26T04:29:29\",\"2020-12-29T21:12:10\",\"2020-12-16T03:26:12\",\"2020-12-17T07:44:28\",\"2020-12-16T03:26:12\",\"2020-12-17T07:44:28\",\"2020-12-16T22:36:07\",\"2020-12-17T07:21:41\",\"2020-12-27T15:22:57\",\"2020-12-16T22:36:05\",\"2020-12-17T07:21:41\",\"2020-12-27T15:22:57\",\"2020-12-16T20:48:24\",\"2020-12-17T03:26:19\",\"2020-12-18T06:43:00\",\"2020-12-19T10:53:28\",\"2020-12-21T08:17:30\",\"2020-12-16T20:48:24\",\"2020-12-17T03:26:19\",\"2020-12-18T06:43:00\",\"2020-12-19T10:53:27\",\"2020-12-21T08:17:29\",\"2020-12-16T04:18:26\",\"2020-12-19T02:06:39\",\"2020-12-25T01:20:52\",\"2020-12-29T07:15:52\",\"2020-12-16T04:18:26\",\"2020-12-19T02:06:37\",\"2020-12-25T01:20:49\",\"2020-12-29T07:15:51\",\"2020-12-16T16:57:25\",\"2020-12-17T18:48:07\",\"2020-12-22T05:09:11\",\"2020-12-28T13:46:15\",\"2020-12-16T16:57:25\",\"2020-12-17T18:48:07\",\"2020-12-22T05:09:11\",\"2020-12-28T13:46:13\",\"2020-12-16T23:41:45\",\"2020-12-18T08:58:03\",\"2020-12-27T00:57:14\",\"2020-12-16T23:41:45\",\"2020-12-18T08:58:02\",\"2020-12-27T00:57:14\",\"2020-12-16T10:31:31\",\"2020-12-19T03:12:25\",\"2020-12-16T10:31:30\",\"2020-12-19T03:12:25\",\"2020-12-16T14:45:30\",\"2020-12-17T01:25:22\",\"2020-12-18T05:30:02\",\"2020-12-20T03:23:33\",\"2020-12-27T20:25:04\",\"2020-12-16T14:45:30\",\"2020-12-17T01:25:22\",\"2020-12-18T05:30:02\",\"2020-12-20T03:23:31\",\"2020-12-27T20:25:00\",\"2020-12-16T09:18:43\",\"2020-12-17T00:31:51\",\"2020-12-21T15:52:37\",\"2020-12-16T09:18:42\",\"2020-12-17T00:31:49\",\"2020-12-21T15:52:34\",\"2020-12-16T13:25:13\",\"2020-12-17T15:59:48\",\"2020-12-29T15:33:22\",\"2020-12-16T13:25:13\",\"2020-12-17T15:59:46\",\"2020-12-29T15:33:20\",\"2020-12-16T21:25:31\",\"2020-12-17T16:13:55\",\"2020-12-18T18:41:54\",\"2020-12-22T16:17:57\",\"2020-12-16T21:25:28\",\"2020-12-17T16:13:55\",\"2020-12-18T18:41:52\",\"2020-12-22T16:17:57\",\"2020-12-16T09:03:35\",\"2020-12-17T10:47:26\",\"2020-12-22T19:56:15\",\"2020-12-16T09:03:33\",\"2020-12-17T10:47:24\",\"2020-12-22T19:56:13\",\"2020-12-16T13:46:24\",\"2020-12-17T22:49:45\",\"2020-12-18T19:20:03\",\"2020-12-22T22:18:50\",\"2020-12-16T13:46:24\",\"2020-12-17T22:49:43\",\"2020-12-18T19:20:02\",\"2020-12-22T22:18:49\",\"2020-12-16T08:39:06\",\"2020-12-17T21:23:48\",\"2020-12-20T01:17:17\",\"2020-12-16T08:39:06\",\"2020-12-17T21:23:47\",\"2020-12-20T01:17:16\",\"2020-12-16T20:32:40\",\"2020-12-18T07:46:58\",\"2020-12-23T06:29:47\",\"2020-12-25T18:13:48\",\"2020-12-16T20:32:40\",\"2020-12-18T07:46:56\",\"2020-12-23T06:29:47\",\"2020-12-25T18:13:46\",\"2020-12-16T23:32:56\",\"2020-12-17T23:38:25\",\"2020-12-18T13:27:19\",\"2020-12-19T06:16:08\",\"2020-12-16T23:32:54\",\"2020-12-17T23:38:23\",\"2020-12-18T13:27:16\",\"2020-12-19T06:16:08\",\"2020-12-16T18:03:01\",\"2020-12-17T09:19:18\",\"2020-12-19T15:43:46\",\"2020-12-24T01:01:36\",\"2020-12-16T18:03:01\",\"2020-12-17T09:19:17\",\"2020-12-19T15:43:45\",\"2020-12-24T01:01:36\",\"2020-12-16T19:42:03\",\"2020-12-18T00:47:27\",\"2020-12-21T13:27:22\",\"2020-12-26T12:57:01\",\"2020-12-16T19:42:03\",\"2020-12-18T00:47:26\",\"2020-12-21T13:27:22\",\"2020-12-26T12:57:01\",\"2020-12-16T07:06:23\",\"2020-12-16T07:06:23\",\"2020-12-16T14:31:38\",\"2020-12-17T08:15:51\",\"2020-12-18T22:02:44\",\"2020-12-23T14:26:08\",\"2020-12-26T19:43:18\",\"2020-12-16T14:31:38\",\"2020-12-17T08:15:50\",\"2020-12-18T22:02:44\",\"2020-12-23T14:26:08\",\"2020-12-26T19:43:17\",\"2020-12-16T15:31:34\",\"2020-12-18T13:52:29\",\"2020-12-24T15:53:14\",\"2020-12-16T15:31:30\",\"2020-12-18T13:52:29\",\"2020-12-24T15:53:12\",\"2020-12-16T03:01:05\",\"2020-12-18T02:33:22\",\"2020-12-19T01:00:44\",\"2020-12-22T06:58:47\",\"2020-12-23T00:58:01\",\"2020-12-16T03:01:05\",\"2020-12-18T02:33:21\",\"2020-12-19T01:00:44\",\"2020-12-22T06:58:44\",\"2020-12-23T00:58:01\",\"2020-12-16T19:45:53\",\"2020-12-19T06:46:40\",\"2020-12-25T15:10:36\",\"2020-12-16T19:45:53\",\"2020-12-19T06:46:39\",\"2020-12-25T15:10:36\",\"2020-12-17T06:25:44\",\"2020-12-20T14:45:07\",\"2020-12-22T01:17:52\",\"2020-12-17T06:25:44\",\"2020-12-20T14:45:06\",\"2020-12-22T01:17:51\",\"2020-12-17T13:46:12\",\"2020-12-18T16:34:11\",\"2020-12-19T20:35:51\",\"2020-12-21T17:19:35\",\"2020-12-17T13:46:11\",\"2020-12-18T16:34:10\",\"2020-12-19T20:35:49\",\"2020-12-21T17:19:35\",\"2020-12-17T04:37:11\",\"2020-12-18T20:14:54\",\"2020-12-23T06:34:19\",\"2020-12-29T12:50:55\",\"2020-12-17T04:37:09\",\"2020-12-18T20:14:53\",\"2020-12-23T06:34:18\",\"2020-12-29T12:50:54\",\"2020-12-17T15:58:10\",\"2020-12-21T01:50:15\",\"2020-12-24T17:04:16\",\"2020-12-26T21:54:53\",\"2020-12-17T15:58:08\",\"2020-12-21T01:50:15\",\"2020-12-24T17:04:14\",\"2020-12-26T21:54:53\",\"2020-12-17T18:23:29\",\"2020-12-24T03:45:16\",\"2020-12-25T23:22:13\",\"2020-12-17T18:23:27\",\"2020-12-24T03:45:15\",\"2020-12-25T23:22:12\",\"2020-12-17T03:00:09\",\"2020-12-18T23:35:48\",\"2020-12-19T01:36:37\",\"2020-12-20T08:10:28\",\"2020-12-21T05:00:29\",\"2020-12-25T05:42:45\",\"2020-12-28T14:55:54\",\"2020-12-17T03:00:06\",\"2020-12-18T23:35:48\",\"2020-12-19T01:36:36\",\"2020-12-20T08:10:26\",\"2020-12-21T05:00:29\",\"2020-12-25T05:42:44\",\"2020-12-28T14:55:53\",\"2020-12-17T02:26:08\",\"2020-12-18T03:12:26\",\"2020-12-21T20:46:32\",\"2020-12-23T03:59:22\",\"2020-12-17T02:26:08\",\"2020-12-18T03:12:24\",\"2020-12-21T20:46:29\",\"2020-12-23T03:59:20\",\"2020-12-17T11:33:00\",\"2020-12-18T15:33:21\",\"2020-12-17T11:33:00\",\"2020-12-18T15:33:19\",\"2020-12-17T23:52:13\",\"2020-12-18T16:37:10\",\"2020-12-25T03:01:56\",\"2020-12-27T03:30:44\",\"2020-12-17T23:52:13\",\"2020-12-18T16:37:09\",\"2020-12-25T03:01:56\",\"2020-12-27T03:30:43\",\"2020-12-17T01:02:28\",\"2020-12-18T18:33:02\",\"2020-12-23T01:08:33\",\"2020-12-17T01:02:26\",\"2020-12-18T18:33:00\",\"2020-12-23T01:08:33\",\"2020-12-17T11:13:30\",\"2020-12-18T09:07:05\",\"2020-12-20T07:45:12\",\"2020-12-22T15:13:06\",\"2020-12-17T11:13:30\",\"2020-12-18T09:07:04\",\"2020-12-20T07:45:12\",\"2020-12-22T15:13:06\",\"2020-12-17T07:00:05\",\"2020-12-18T14:49:36\",\"2020-12-17T07:00:04\",\"2020-12-18T14:49:36\",\"2020-12-17T16:05:53\",\"2020-12-19T05:14:28\",\"2020-12-23T22:03:38\",\"2020-12-17T16:05:53\",\"2020-12-19T05:14:28\",\"2020-12-23T22:03:38\",\"2020-12-17T23:59:45\",\"2020-12-18T00:15:36\",\"2020-12-17T23:59:43\",\"2020-12-18T00:15:35\",\"2020-12-17T08:05:40\",\"2020-12-22T19:02:19\",\"2020-12-24T06:18:26\",\"2020-12-27T21:05:21\",\"2020-12-17T08:05:40\",\"2020-12-22T19:02:17\",\"2020-12-24T06:18:25\",\"2020-12-27T21:05:21\",\"2020-12-17T03:24:14\",\"2020-12-17T03:24:14\",\"2020-12-17T17:41:07\",\"2020-12-19T23:05:38\",\"2020-12-21T22:26:57\",\"2020-12-17T17:41:07\",\"2020-12-19T23:05:37\",\"2020-12-21T22:26:56\",\"2020-12-17T07:24:40\",\"2020-12-18T01:10:13\",\"2020-12-27T16:09:12\",\"2020-12-17T07:24:38\",\"2020-12-18T01:10:11\",\"2020-12-27T16:09:12\",\"2020-12-17T03:50:56\",\"2020-12-18T02:37:33\",\"2020-12-20T18:55:59\",\"2020-12-21T14:25:37\",\"2020-12-24T03:11:55\",\"2020-12-17T03:50:53\",\"2020-12-18T02:37:33\",\"2020-12-20T18:55:59\",\"2020-12-21T14:25:36\",\"2020-12-24T03:11:54\",\"2020-12-17T16:40:42\",\"2020-12-18T23:06:33\",\"2020-12-24T19:57:43\",\"2020-12-17T16:40:41\",\"2020-12-18T23:06:30\",\"2020-12-24T19:57:43\",\"2020-12-17T04:35:11\",\"2020-12-18T04:04:05\",\"2020-12-22T01:05:18\",\"2020-12-17T04:35:10\",\"2020-12-18T04:04:03\",\"2020-12-22T01:05:18\",\"2020-12-17T03:48:47\",\"2020-12-19T20:08:57\",\"2020-12-25T12:54:18\",\"2020-12-26T06:03:01\",\"2020-12-17T03:48:45\",\"2020-12-19T20:08:57\",\"2020-12-25T12:54:18\",\"2020-12-26T06:03:00\",\"2020-12-17T01:35:58\",\"2020-12-18T13:56:57\",\"2020-12-17T01:35:58\",\"2020-12-18T13:56:56\",\"2020-12-17T07:47:32\",\"2020-12-19T22:40:50\",\"2020-12-20T19:43:34\",\"2020-12-21T11:34:26\",\"2020-12-17T07:47:30\",\"2020-12-19T22:40:49\",\"2020-12-20T19:43:34\",\"2020-12-21T11:34:25\",\"2020-12-17T14:19:19\",\"2020-12-18T13:39:29\",\"2020-12-17T14:19:17\",\"2020-12-18T13:39:29\",\"2020-12-17T19:42:42\",\"2020-12-18T04:08:54\",\"2020-12-19T08:53:40\",\"2020-12-22T01:36:00\",\"2020-12-25T06:09:02\",\"2020-12-17T19:42:41\",\"2020-12-18T04:08:54\",\"2020-12-19T08:53:38\",\"2020-12-22T01:36:00\",\"2020-12-25T06:09:02\",\"2020-12-17T10:39:03\",\"2020-12-21T17:33:13\",\"2020-12-24T22:56:03\",\"2020-12-26T19:06:13\",\"2020-12-17T10:39:03\",\"2020-12-21T17:33:12\",\"2020-12-24T22:55:59\",\"2020-12-26T19:06:12\",\"2020-12-17T20:35:17\",\"2020-12-18T17:31:16\",\"2020-12-20T12:53:30\",\"2020-12-27T18:55:01\",\"2020-12-17T20:35:17\",\"2020-12-18T17:31:14\",\"2020-12-20T12:53:29\",\"2020-12-27T18:54:59\",\"2020-12-17T14:42:42\",\"2020-12-23T05:20:51\",\"2020-12-26T05:56:50\",\"2020-12-17T14:42:41\",\"2020-12-23T05:20:49\",\"2020-12-26T05:56:50\",\"2020-12-17T16:30:46\",\"2020-12-19T05:45:03\",\"2020-12-20T07:30:30\",\"2020-12-22T13:23:21\",\"2020-12-27T06:15:18\",\"2020-12-17T16:30:45\",\"2020-12-19T05:45:03\",\"2020-12-20T07:30:26\",\"2020-12-22T13:23:18\",\"2020-12-27T06:15:17\",\"2020-12-17T15:34:19\",\"2020-12-18T20:43:10\",\"2020-12-25T05:42:31\",\"2020-12-29T16:10:01\",\"2020-12-17T15:34:15\",\"2020-12-18T20:43:09\",\"2020-12-25T05:42:31\",\"2020-12-29T16:09:59\",\"2020-12-17T03:24:17\",\"2020-12-18T09:53:57\",\"2020-12-22T12:41:47\",\"2020-12-25T17:01:37\",\"2020-12-26T05:07:38\",\"2020-12-28T16:52:12\",\"2020-12-17T03:24:16\",\"2020-12-18T09:53:54\",\"2020-12-22T12:41:46\",\"2020-12-25T17:01:36\",\"2020-12-26T05:07:38\",\"2020-12-28T16:52:10\",\"2020-12-17T20:10:14\",\"2020-12-19T10:20:05\",\"2020-12-17T20:10:14\",\"2020-12-19T10:20:04\",\"2020-12-17T10:10:59\",\"2020-12-19T04:49:05\",\"2020-12-24T00:38:45\",\"2020-12-17T10:10:58\",\"2020-12-19T04:49:02\",\"2020-12-24T00:38:45\",\"2020-12-17T17:26:18\",\"2020-12-21T07:39:46\",\"2020-12-23T02:06:52\",\"2020-12-17T17:26:17\",\"2020-12-21T07:39:44\",\"2020-12-23T02:06:51\",\"2020-12-17T18:10:27\",\"2020-12-19T05:40:30\",\"2020-12-22T13:40:29\",\"2020-12-17T18:10:27\",\"2020-12-19T05:40:28\",\"2020-12-22T13:40:29\",\"2020-12-17T22:37:34\",\"2020-12-18T00:30:23\",\"2020-12-19T21:15:39\",\"2020-12-17T22:37:30\",\"2020-12-18T00:30:23\",\"2020-12-19T21:15:39\",\"2020-12-17T23:31:23\",\"2020-12-18T14:14:43\",\"2020-12-22T23:20:02\",\"2020-12-17T23:31:23\",\"2020-12-18T14:14:43\",\"2020-12-22T23:20:02\",\"2020-12-17T00:05:01\",\"2020-12-18T05:39:07\",\"2020-12-20T23:06:58\",\"2020-12-23T04:02:14\",\"2020-12-17T00:04:59\",\"2020-12-18T05:39:05\",\"2020-12-20T23:06:56\",\"2020-12-23T04:02:14\",\"2020-12-17T13:24:28\",\"2020-12-19T10:58:19\",\"2020-12-17T13:24:26\",\"2020-12-19T10:58:19\",\"2020-12-17T09:44:39\",\"2020-12-19T14:26:39\",\"2020-12-22T00:54:11\",\"2020-12-17T09:44:39\",\"2020-12-19T14:26:37\",\"2020-12-22T00:54:11\",\"2020-12-17T00:05:44\",\"2020-12-18T08:23:13\",\"2020-12-17T00:05:42\",\"2020-12-18T08:23:13\",\"2020-12-17T03:46:14\",\"2020-12-17T03:46:13\",\"2020-12-17T23:22:20\",\"2020-12-18T22:41:01\",\"2020-12-23T09:54:13\",\"2020-12-28T00:58:47\",\"2020-12-17T23:22:18\",\"2020-12-18T22:40:59\",\"2020-12-23T09:54:10\",\"2020-12-28T00:58:47\",\"2020-12-17T03:46:23\",\"2020-12-18T09:29:38\",\"2020-12-19T23:20:02\",\"2020-12-22T00:29:30\",\"2020-12-28T03:55:24\",\"2020-12-17T03:46:23\",\"2020-12-18T09:29:36\",\"2020-12-19T23:20:02\",\"2020-12-22T00:29:28\",\"2020-12-28T03:55:24\",\"2020-12-17T21:01:28\",\"2020-12-18T20:00:39\",\"2020-12-17T21:01:28\",\"2020-12-18T20:00:39\",\"2020-12-17T14:03:45\",\"2020-12-18T05:42:26\",\"2020-12-17T14:03:44\",\"2020-12-18T05:42:25\",\"2020-12-17T08:54:38\",\"2020-12-25T09:57:07\",\"2020-12-28T01:46:43\",\"2020-12-17T08:54:35\",\"2020-12-25T09:57:05\",\"2020-12-28T01:46:43\",\"2020-12-17T11:57:54\",\"2020-12-19T17:39:04\",\"2020-12-20T11:57:34\",\"2020-12-24T22:47:09\",\"2020-12-17T11:57:54\",\"2020-12-19T17:39:04\",\"2020-12-20T11:57:29\",\"2020-12-24T22:47:09\",\"2020-12-17T06:50:13\",\"2020-12-18T07:17:45\",\"2020-12-17T06:50:13\",\"2020-12-18T07:17:45\",\"2020-12-17T08:04:44\",\"2020-12-23T14:06:26\",\"2020-12-24T18:41:07\",\"2020-12-27T12:11:18\",\"2020-12-17T08:04:43\",\"2020-12-23T14:06:24\",\"2020-12-24T18:41:06\",\"2020-12-27T12:11:16\",\"2020-12-17T05:52:33\",\"2020-12-18T00:23:25\",\"2020-12-24T04:47:04\",\"2020-12-28T15:05:30\",\"2020-12-17T05:52:31\",\"2020-12-18T00:23:25\",\"2020-12-24T04:47:01\",\"2020-12-28T15:05:28\",\"2020-12-17T22:54:58\",\"2020-12-18T06:35:10\",\"2020-12-19T11:57:31\",\"2020-12-21T13:07:46\",\"2020-12-22T00:21:49\",\"2020-12-17T22:54:58\",\"2020-12-18T06:35:10\",\"2020-12-19T11:57:31\",\"2020-12-21T13:07:46\",\"2020-12-22T00:21:47\",\"2020-12-17T17:35:33\",\"2020-12-18T14:53:55\",\"2020-12-17T17:35:32\",\"2020-12-18T14:53:55\",\"2020-12-17T09:16:17\",\"2020-12-23T04:34:02\",\"2020-12-17T09:16:15\",\"2020-12-23T04:34:02\",\"2020-12-18T07:33:35\",\"2020-12-19T06:35:56\",\"2020-12-20T19:55:24\",\"2020-12-23T08:59:40\",\"2020-12-24T10:46:01\",\"2020-12-18T07:33:35\",\"2020-12-19T06:35:53\",\"2020-12-20T19:55:21\",\"2020-12-23T08:59:40\",\"2020-12-24T10:46:00\",\"2020-12-18T18:05:22\",\"2020-12-19T01:18:00\",\"2020-12-18T18:05:21\",\"2020-12-19T01:17:57\",\"2020-12-18T23:14:41\",\"2020-12-27T13:42:57\",\"2020-12-18T23:14:40\",\"2020-12-27T13:42:56\",\"2020-12-18T16:48:22\",\"2020-12-19T00:57:45\",\"2020-12-23T14:46:44\",\"2020-12-18T16:48:22\",\"2020-12-19T00:57:45\",\"2020-12-23T14:46:43\",\"2020-12-18T01:59:52\",\"2020-12-18T01:59:51\",\"2020-12-18T03:47:38\",\"2020-12-19T16:05:18\",\"2020-12-20T18:45:11\",\"2020-12-25T15:05:22\",\"2020-12-26T18:32:08\",\"2020-12-18T03:47:36\",\"2020-12-19T16:05:18\",\"2020-12-20T18:45:08\",\"2020-12-25T15:05:21\",\"2020-12-26T18:32:08\",\"2020-12-18T16:46:23\",\"2020-12-19T13:57:10\",\"2020-12-21T14:33:00\",\"2020-12-25T07:55:25\",\"2020-12-18T16:46:22\",\"2020-12-19T13:57:09\",\"2020-12-21T14:33:00\",\"2020-12-25T07:55:24\",\"2020-12-18T12:35:04\",\"2020-12-19T20:43:40\",\"2020-12-21T10:03:18\",\"2020-12-23T20:44:05\",\"2020-12-24T12:43:58\",\"2020-12-18T12:35:04\",\"2020-12-19T20:43:39\",\"2020-12-21T10:03:16\",\"2020-12-23T20:44:05\",\"2020-12-24T12:43:58\",\"2020-12-18T06:59:07\",\"2020-12-20T02:51:30\",\"2020-12-21T09:38:38\",\"2020-12-18T06:59:04\",\"2020-12-20T02:51:30\",\"2020-12-21T09:38:37\",\"2020-12-18T17:30:27\",\"2020-12-19T03:38:29\",\"2020-12-18T17:30:27\",\"2020-12-19T03:38:28\",\"2020-12-18T01:26:55\",\"2020-12-18T01:26:53\",\"2020-12-18T09:24:01\",\"2020-12-19T01:30:01\",\"2020-12-18T09:24:00\",\"2020-12-19T01:30:01\",\"2020-12-18T21:04:29\",\"2020-12-21T14:00:08\",\"2020-12-22T16:06:35\",\"2020-12-28T16:06:29\",\"2020-12-18T21:04:28\",\"2020-12-21T14:00:07\",\"2020-12-22T16:06:32\",\"2020-12-28T16:06:28\",\"2020-12-18T10:30:34\",\"2020-12-18T10:30:33\",\"2020-12-18T01:13:57\",\"2020-12-21T04:16:32\",\"2020-12-18T01:13:55\",\"2020-12-21T04:16:31\",\"2020-12-18T05:54:38\",\"2020-12-19T22:39:19\",\"2020-12-21T11:36:15\",\"2020-12-25T11:43:42\",\"2020-12-18T05:54:38\",\"2020-12-19T22:39:17\",\"2020-12-21T11:36:13\",\"2020-12-25T11:43:42\",\"2020-12-18T13:24:30\",\"2020-12-19T20:07:23\",\"2020-12-21T03:33:56\",\"2020-12-24T02:24:43\",\"2020-12-27T23:09:49\",\"2020-12-18T13:24:30\",\"2020-12-19T20:07:22\",\"2020-12-21T03:33:56\",\"2020-12-24T02:24:42\",\"2020-12-27T23:09:46\",\"2020-12-18T04:47:25\",\"2020-12-19T14:45:43\",\"2020-12-22T04:30:36\",\"2020-12-25T18:52:58\",\"2020-12-18T04:47:24\",\"2020-12-19T14:45:40\",\"2020-12-22T04:30:36\",\"2020-12-25T18:52:58\",\"2020-12-18T16:54:53\",\"2020-12-20T22:15:12\",\"2020-12-23T14:43:26\",\"2020-12-25T08:07:14\",\"2020-12-18T16:54:52\",\"2020-12-20T22:15:12\",\"2020-12-23T14:43:26\",\"2020-12-25T08:07:13\",\"2020-12-18T20:38:12\",\"2020-12-23T17:00:57\",\"2020-12-18T20:38:09\",\"2020-12-23T17:00:56\",\"2020-12-18T13:49:19\",\"2020-12-19T10:13:47\",\"2020-12-20T03:04:05\",\"2020-12-24T08:30:47\",\"2020-12-18T13:49:19\",\"2020-12-19T10:13:47\",\"2020-12-20T03:04:04\",\"2020-12-24T08:30:47\",\"2020-12-18T18:07:48\",\"2020-12-19T01:26:25\",\"2020-12-21T17:01:16\",\"2020-12-27T10:24:53\",\"2020-12-18T18:07:47\",\"2020-12-19T01:26:25\",\"2020-12-21T17:01:16\",\"2020-12-27T10:24:52\",\"2020-12-18T17:16:58\",\"2020-12-19T21:35:34\",\"2020-12-25T01:35:54\",\"2020-12-18T17:16:58\",\"2020-12-19T21:35:34\",\"2020-12-25T01:35:54\",\"2020-12-18T15:37:10\",\"2020-12-20T14:50:10\",\"2020-12-21T12:09:24\",\"2020-12-24T08:12:55\",\"2020-12-18T15:37:10\",\"2020-12-20T14:50:08\",\"2020-12-21T12:09:23\",\"2020-12-24T08:12:54\",\"2020-12-18T01:41:57\",\"2020-12-19T23:38:05\",\"2020-12-21T19:00:27\",\"2020-12-22T13:09:01\",\"2020-12-23T23:10:39\",\"2020-12-26T08:52:35\",\"2020-12-18T01:41:57\",\"2020-12-19T23:38:04\",\"2020-12-21T19:00:27\",\"2020-12-22T13:09:00\",\"2020-12-23T23:10:38\",\"2020-12-26T08:52:35\",\"2020-12-18T14:26:14\",\"2020-12-19T07:21:15\",\"2020-12-21T23:43:37\",\"2020-12-22T14:55:51\",\"2020-12-23T21:28:24\",\"2020-12-24T21:23:03\",\"2020-12-18T14:26:14\",\"2020-12-19T07:21:15\",\"2020-12-21T23:43:34\",\"2020-12-22T14:55:51\",\"2020-12-23T21:28:24\",\"2020-12-24T21:23:03\",\"2020-12-18T14:59:58\",\"2020-12-19T11:33:36\",\"2020-12-22T09:01:03\",\"2020-12-29T08:13:02\",\"2020-12-18T14:59:58\",\"2020-12-19T11:33:36\",\"2020-12-22T09:01:02\",\"2020-12-29T08:13:02\",\"2020-12-18T01:51:54\",\"2020-12-19T15:50:07\",\"2020-12-21T04:47:37\",\"2020-12-23T04:29:19\",\"2020-12-26T14:32:38\",\"2020-12-18T01:51:53\",\"2020-12-19T15:50:07\",\"2020-12-21T04:47:36\",\"2020-12-23T04:29:18\",\"2020-12-26T14:32:37\",\"2020-12-18T19:22:51\",\"2020-12-20T16:31:50\",\"2020-12-18T19:22:49\",\"2020-12-20T16:31:49\",\"2020-12-18T14:19:41\",\"2020-12-21T08:03:02\",\"2020-12-18T14:19:40\",\"2020-12-21T08:03:02\",\"2020-12-18T03:00:38\",\"2020-12-19T00:08:11\",\"2020-12-21T05:09:13\",\"2020-12-18T03:00:37\",\"2020-12-19T00:08:11\",\"2020-12-21T05:09:13\",\"2020-12-18T12:34:45\",\"2020-12-19T16:42:09\",\"2020-12-24T02:37:43\",\"2020-12-18T12:34:45\",\"2020-12-19T16:42:09\",\"2020-12-24T02:37:43\",\"2020-12-18T08:57:44\",\"2020-12-19T03:50:59\",\"2020-12-18T08:57:43\",\"2020-12-19T03:50:58\",\"2020-12-18T17:55:53\",\"2020-12-23T16:00:23\",\"2020-12-26T21:14:28\",\"2020-12-18T17:55:53\",\"2020-12-23T16:00:22\",\"2020-12-26T21:14:28\",\"2020-12-18T00:04:35\",\"2020-12-19T12:39:40\",\"2020-12-18T00:04:35\",\"2020-12-19T12:39:38\",\"2020-12-18T22:18:15\",\"2020-12-19T02:00:06\",\"2020-12-18T22:18:15\",\"2020-12-19T02:00:06\",\"2020-12-18T13:32:19\",\"2020-12-19T20:06:05\",\"2020-12-21T05:13:29\",\"2020-12-18T13:32:18\",\"2020-12-19T20:06:05\",\"2020-12-21T05:13:29\",\"2020-12-18T14:14:43\",\"2020-12-18T14:14:43\",\"2020-12-18T05:10:42\",\"2020-12-19T20:22:54\",\"2020-12-25T00:15:01\",\"2020-12-18T05:10:42\",\"2020-12-19T20:22:54\",\"2020-12-25T00:14:59\",\"2020-12-18T02:36:51\",\"2020-12-23T09:17:24\",\"2020-12-24T20:30:45\",\"2020-12-18T02:36:49\",\"2020-12-23T09:17:24\",\"2020-12-24T20:30:45\",\"2020-12-18T15:05:28\",\"2020-12-19T19:25:00\",\"2020-12-23T19:29:11\",\"2020-12-24T12:51:52\",\"2020-12-18T15:05:26\",\"2020-12-19T19:25:00\",\"2020-12-23T19:29:11\",\"2020-12-24T12:51:52\",\"2020-12-18T06:21:17\",\"2020-12-20T03:49:27\",\"2020-12-22T07:30:41\",\"2020-12-18T06:21:17\",\"2020-12-20T03:49:25\",\"2020-12-22T07:30:38\",\"2020-12-18T11:14:07\",\"2020-12-21T11:09:29\",\"2020-12-23T19:46:30\",\"2020-12-18T11:14:07\",\"2020-12-21T11:09:27\",\"2020-12-23T19:46:30\",\"2020-12-18T06:36:51\",\"2020-12-19T06:04:47\",\"2020-12-29T20:19:50\",\"2020-12-18T06:36:49\",\"2020-12-19T06:04:47\",\"2020-12-29T20:19:47\",\"2020-12-18T06:53:23\",\"2020-12-19T21:29:45\",\"2020-12-21T16:37:38\",\"2020-12-22T07:00:04\",\"2020-12-18T06:53:22\",\"2020-12-19T21:29:44\",\"2020-12-21T16:37:38\",\"2020-12-22T07:00:04\",\"2020-12-18T15:00:45\",\"2020-12-18T15:00:44\",\"2020-12-18T14:33:52\",\"2020-12-21T10:06:25\",\"2020-12-18T14:33:52\",\"2020-12-21T10:06:25\",\"2020-12-18T17:09:24\",\"2020-12-19T13:30:28\",\"2020-12-22T21:04:02\",\"2020-12-18T17:09:21\",\"2020-12-19T13:30:26\",\"2020-12-22T21:04:01\",\"2020-12-18T12:11:19\",\"2020-12-19T11:54:00\",\"2020-12-21T22:27:23\",\"2020-12-18T12:11:19\",\"2020-12-19T11:53:59\",\"2020-12-21T22:27:21\",\"2020-12-18T21:32:47\",\"2020-12-19T00:24:43\",\"2020-12-20T01:36:23\",\"2020-12-21T02:50:50\",\"2020-12-25T16:01:48\",\"2020-12-18T21:32:45\",\"2020-12-19T00:24:43\",\"2020-12-20T01:36:23\",\"2020-12-21T02:50:48\",\"2020-12-25T16:01:45\",\"2020-12-18T22:57:29\",\"2020-12-19T14:03:17\",\"2020-12-18T22:57:26\",\"2020-12-19T14:03:17\",\"2020-12-18T09:50:16\",\"2020-12-20T16:22:38\",\"2020-12-22T23:20:06\",\"2020-12-18T09:50:15\",\"2020-12-20T16:22:38\",\"2020-12-22T23:20:05\",\"2020-12-18T05:50:07\",\"2020-12-19T01:38:21\",\"2020-12-23T19:40:22\",\"2020-12-27T11:39:03\",\"2020-12-18T05:50:05\",\"2020-12-19T01:38:21\",\"2020-12-23T19:40:21\",\"2020-12-27T11:39:01\",\"2020-12-18T07:07:28\",\"2020-12-19T23:40:26\",\"2020-12-20T09:14:02\",\"2020-12-18T07:07:23\",\"2020-12-19T23:40:25\",\"2020-12-20T09:14:02\",\"2020-12-18T15:05:49\",\"2020-12-21T09:33:01\",\"2020-12-22T10:13:18\",\"2020-12-25T07:37:12\",\"2020-12-18T15:05:48\",\"2020-12-21T09:32:59\",\"2020-12-22T10:13:16\",\"2020-12-25T07:37:12\",\"2020-12-18T21:03:17\",\"2020-12-26T13:49:51\",\"2020-12-18T21:03:16\",\"2020-12-26T13:49:51\",\"2020-12-18T01:57:30\",\"2020-12-19T06:37:42\",\"2020-12-18T01:57:30\",\"2020-12-19T06:37:41\",\"2020-12-18T09:37:37\",\"2020-12-23T18:35:51\",\"2020-12-25T20:54:32\",\"2020-12-27T13:51:14\",\"2020-12-18T09:37:36\",\"2020-12-23T18:35:51\",\"2020-12-25T20:54:29\",\"2020-12-27T13:51:14\",\"2020-12-18T21:00:52\",\"2020-12-24T04:47:49\",\"2020-12-18T21:00:50\",\"2020-12-24T04:47:48\",\"2020-12-18T03:00:57\",\"2020-12-19T01:11:49\",\"2020-12-29T20:49:51\",\"2020-12-18T03:00:55\",\"2020-12-19T01:11:48\",\"2020-12-29T20:49:51\",\"2020-12-18T05:10:22\",\"2020-12-24T00:41:26\",\"2020-12-18T05:10:21\",\"2020-12-24T00:41:25\",\"2020-12-18T12:03:38\",\"2020-12-28T01:49:35\",\"2020-12-18T12:03:35\",\"2020-12-28T01:49:35\",\"2020-12-19T23:06:34\",\"2020-12-19T23:06:34\",\"2020-12-19T17:04:52\",\"2020-12-21T23:33:24\",\"2020-12-24T12:42:20\",\"2020-12-19T17:04:52\",\"2020-12-21T23:33:24\",\"2020-12-24T12:42:20\",\"2020-12-19T03:26:52\",\"2020-12-20T04:54:04\",\"2020-12-21T17:49:09\",\"2020-12-23T22:58:03\",\"2020-12-27T00:44:50\",\"2020-12-19T03:26:51\",\"2020-12-20T04:54:04\",\"2020-12-21T17:49:08\",\"2020-12-23T22:58:01\",\"2020-12-27T00:44:50\",\"2020-12-19T03:52:15\",\"2020-12-20T15:24:47\",\"2020-12-22T04:05:52\",\"2020-12-25T20:33:28\",\"2020-12-19T03:52:15\",\"2020-12-20T15:24:47\",\"2020-12-22T04:05:52\",\"2020-12-25T20:33:27\",\"2020-12-19T15:05:56\",\"2020-12-20T07:46:57\",\"2020-12-26T09:06:49\",\"2020-12-19T15:05:56\",\"2020-12-20T07:46:57\",\"2020-12-26T09:06:49\",\"2020-12-19T13:09:29\",\"2020-12-22T21:03:24\",\"2020-12-24T23:51:34\",\"2020-12-26T03:16:01\",\"2020-12-19T13:09:29\",\"2020-12-22T21:03:21\",\"2020-12-24T23:51:33\",\"2020-12-26T03:16:00\",\"2020-12-19T12:22:55\",\"2020-12-21T01:33:30\",\"2020-12-19T12:22:54\",\"2020-12-21T01:33:28\",\"2020-12-19T18:43:38\",\"2020-12-20T03:29:37\",\"2020-12-21T07:21:48\",\"2020-12-24T19:17:36\",\"2020-12-29T20:00:59\",\"2020-12-19T18:43:38\",\"2020-12-20T03:29:36\",\"2020-12-21T07:21:46\",\"2020-12-24T19:17:35\",\"2020-12-29T20:00:58\",\"2020-12-19T22:40:26\",\"2020-12-20T06:51:50\",\"2020-12-19T22:40:24\",\"2020-12-20T06:51:48\",\"2020-12-19T17:23:45\",\"2020-12-20T22:20:36\",\"2020-12-21T02:24:14\",\"2020-12-22T03:54:03\",\"2020-12-28T00:22:28\",\"2020-12-19T17:23:45\",\"2020-12-20T22:20:35\",\"2020-12-21T02:24:14\",\"2020-12-22T03:54:03\",\"2020-12-28T00:22:28\",\"2020-12-19T17:20:42\",\"2020-12-20T00:45:55\",\"2020-12-21T05:39:10\",\"2020-12-23T12:09:00\",\"2020-12-19T17:20:40\",\"2020-12-20T00:45:55\",\"2020-12-21T05:39:10\",\"2020-12-23T12:09:00\",\"2020-12-19T09:33:37\",\"2020-12-21T00:23:12\",\"2020-12-22T15:28:04\",\"2020-12-24T18:55:21\",\"2020-12-19T09:33:35\",\"2020-12-21T00:23:11\",\"2020-12-22T15:28:03\",\"2020-12-24T18:55:18\",\"2020-12-19T04:13:27\",\"2020-12-27T00:32:14\",\"2020-12-19T04:13:22\",\"2020-12-27T00:32:13\",\"2020-12-19T11:45:41\",\"2020-12-20T05:45:20\",\"2020-12-19T11:45:41\",\"2020-12-20T05:45:20\",\"2020-12-19T23:28:48\",\"2020-12-20T11:39:59\",\"2020-12-22T21:00:34\",\"2020-12-19T23:28:46\",\"2020-12-20T11:39:56\",\"2020-12-22T21:00:34\",\"2020-12-19T00:37:37\",\"2020-12-22T19:25:27\",\"2020-12-19T00:37:35\",\"2020-12-22T19:25:25\",\"2020-12-19T11:19:45\",\"2020-12-22T13:16:00\",\"2020-12-26T15:50:01\",\"2020-12-19T11:19:45\",\"2020-12-22T13:15:58\",\"2020-12-26T15:50:01\",\"2020-12-19T19:31:53\",\"2020-12-27T22:04:29\",\"2020-12-19T19:31:53\",\"2020-12-27T22:04:29\",\"2020-12-19T11:35:54\",\"2020-12-20T05:33:09\",\"2020-12-21T22:02:05\",\"2020-12-22T12:00:28\",\"2020-12-26T18:58:30\",\"2020-12-19T11:35:54\",\"2020-12-20T05:33:09\",\"2020-12-21T22:02:01\",\"2020-12-22T12:00:27\",\"2020-12-26T18:58:28\",\"2020-12-19T01:05:19\",\"2020-12-24T03:05:18\",\"2020-12-27T14:10:23\",\"2020-12-19T01:05:18\",\"2020-12-24T03:05:18\",\"2020-12-27T14:10:22\",\"2020-12-19T19:15:20\",\"2020-12-19T19:15:20\",\"2020-12-19T19:47:15\",\"2020-12-20T03:47:42\",\"2020-12-21T20:28:40\",\"2020-12-22T01:03:08\",\"2020-12-26T01:01:30\",\"2020-12-27T17:14:50\",\"2020-12-19T19:47:13\",\"2020-12-20T03:47:42\",\"2020-12-21T20:28:40\",\"2020-12-22T01:03:08\",\"2020-12-26T01:01:30\",\"2020-12-27T17:14:50\",\"2020-12-19T03:20:06\",\"2020-12-20T01:24:53\",\"2020-12-24T05:26:11\",\"2020-12-27T15:37:05\",\"2020-12-19T03:20:04\",\"2020-12-20T01:24:50\",\"2020-12-24T05:26:11\",\"2020-12-27T15:37:03\",\"2020-12-19T05:19:14\",\"2020-12-19T05:19:12\",\"2020-12-19T09:55:14\",\"2020-12-19T09:55:14\",\"2020-12-19T15:12:52\",\"2020-12-20T16:56:00\",\"2020-12-26T04:58:13\",\"2020-12-27T05:51:15\",\"2020-12-19T15:12:50\",\"2020-12-20T16:55:59\",\"2020-12-26T04:58:12\",\"2020-12-27T05:51:12\",\"2020-12-19T00:31:05\",\"2020-12-26T22:46:56\",\"2020-12-19T00:31:02\",\"2020-12-26T22:46:55\",\"2020-12-19T17:46:14\",\"2020-12-20T00:43:20\",\"2020-12-23T20:45:18\",\"2020-12-19T17:46:12\",\"2020-12-20T00:43:16\",\"2020-12-23T20:45:18\",\"2020-12-19T13:17:46\",\"2020-12-20T03:19:19\",\"2020-12-22T14:05:04\",\"2020-12-29T13:39:24\",\"2020-12-19T13:17:45\",\"2020-12-20T03:19:18\",\"2020-12-22T14:05:02\",\"2020-12-29T13:39:24\",\"2020-12-19T18:42:55\",\"2020-12-22T04:13:28\",\"2020-12-19T18:42:55\",\"2020-12-22T04:13:26\",\"2020-12-19T22:06:54\",\"2020-12-20T09:53:36\",\"2020-12-25T10:30:30\",\"2020-12-19T22:06:52\",\"2020-12-20T09:53:35\",\"2020-12-25T10:30:26\",\"2020-12-19T13:27:02\",\"2020-12-20T14:58:11\",\"2020-12-21T06:29:38\",\"2020-12-22T08:18:26\",\"2020-12-24T09:17:53\",\"2020-12-19T13:27:02\",\"2020-12-20T14:58:08\",\"2020-12-21T06:29:37\",\"2020-12-22T08:18:24\",\"2020-12-24T09:17:53\",\"2020-12-19T21:40:28\",\"2020-12-19T21:40:28\",\"2020-12-19T05:29:46\",\"2020-12-20T06:22:17\",\"2020-12-19T05:29:45\",\"2020-12-20T06:22:17\",\"2020-12-19T18:31:37\",\"2020-12-22T06:14:07\",\"2020-12-19T18:31:34\",\"2020-12-22T06:14:06\",\"2020-12-19T09:32:53\",\"2020-12-24T16:09:56\",\"2020-12-19T09:32:53\",\"2020-12-24T16:09:51\",\"2020-12-19T23:46:40\",\"2020-12-21T18:36:52\",\"2020-12-22T08:32:58\",\"2020-12-19T23:46:37\",\"2020-12-21T18:36:52\",\"2020-12-22T08:32:53\",\"2020-12-19T17:43:23\",\"2020-12-29T20:15:43\",\"2020-12-19T17:43:23\",\"2020-12-29T20:15:42\",\"2020-12-19T14:27:14\",\"2020-12-20T23:44:21\",\"2020-12-22T06:13:05\",\"2020-12-19T14:27:13\",\"2020-12-20T23:44:20\",\"2020-12-22T06:13:04\",\"2020-12-19T07:59:38\",\"2020-12-23T17:15:48\",\"2020-12-24T06:38:10\",\"2020-12-19T07:59:38\",\"2020-12-23T17:15:48\",\"2020-12-24T06:38:10\",\"2020-12-19T16:01:01\",\"2020-12-19T16:00:59\",\"2020-12-19T13:44:46\",\"2020-12-20T15:17:25\",\"2020-12-21T22:31:26\",\"2020-12-22T22:18:12\",\"2020-12-19T13:44:46\",\"2020-12-20T15:17:25\",\"2020-12-21T22:31:26\",\"2020-12-22T22:18:11\",\"2020-12-19T23:05:05\",\"2020-12-24T09:18:36\",\"2020-12-29T11:26:03\",\"2020-12-19T23:05:04\",\"2020-12-24T09:18:34\",\"2020-12-29T11:26:01\",\"2020-12-19T17:23:08\",\"2020-12-20T11:02:03\",\"2020-12-24T22:38:21\",\"2020-12-19T17:23:08\",\"2020-12-20T11:02:01\",\"2020-12-24T22:38:20\",\"2020-12-19T03:27:24\",\"2020-12-21T20:09:44\",\"2020-12-25T19:26:40\",\"2020-12-28T02:24:06\",\"2020-12-19T03:27:23\",\"2020-12-21T20:09:41\",\"2020-12-25T19:26:39\",\"2020-12-28T02:24:03\",\"2020-12-19T13:20:00\",\"2020-12-20T12:37:54\",\"2020-12-19T13:19:59\",\"2020-12-20T12:37:54\",\"2020-12-19T09:38:33\",\"2020-12-20T10:13:43\",\"2020-12-19T09:38:32\",\"2020-12-20T10:13:41\",\"2020-12-19T09:23:36\",\"2020-12-20T03:44:34\",\"2020-12-23T09:14:04\",\"2020-12-19T09:23:36\",\"2020-12-20T03:44:34\",\"2020-12-23T09:14:04\",\"2020-12-19T00:49:28\",\"2020-12-20T22:15:07\",\"2020-12-21T13:14:34\",\"2020-12-23T09:17:41\",\"2020-12-19T00:49:28\",\"2020-12-20T22:15:07\",\"2020-12-21T13:14:34\",\"2020-12-23T09:17:39\",\"2020-12-19T19:33:19\",\"2020-12-20T22:59:43\",\"2020-12-21T10:44:43\",\"2020-12-23T11:12:51\",\"2020-12-24T05:22:46\",\"2020-12-19T19:33:19\",\"2020-12-20T22:59:43\",\"2020-12-21T10:44:42\",\"2020-12-23T11:12:50\",\"2020-12-24T05:22:45\",\"2020-12-19T12:21:26\",\"2020-12-20T21:05:00\",\"2020-12-25T14:54:34\",\"2020-12-19T12:21:26\",\"2020-12-20T21:05:00\",\"2020-12-25T14:54:34\",\"2020-12-19T09:58:15\",\"2020-12-20T02:15:59\",\"2020-12-19T09:58:13\",\"2020-12-20T02:15:59\",\"2020-12-19T12:35:34\",\"2020-12-20T17:37:28\",\"2020-12-19T12:35:33\",\"2020-12-20T17:37:27\",\"2020-12-19T00:44:04\",\"2020-12-19T00:44:04\",\"2020-12-19T21:15:30\",\"2020-12-21T07:45:00\",\"2020-12-23T19:39:20\",\"2020-12-29T17:24:56\",\"2020-12-19T21:15:29\",\"2020-12-21T07:44:59\",\"2020-12-23T19:39:20\",\"2020-12-29T17:24:54\",\"2020-12-19T03:16:50\",\"2020-12-20T18:36:52\",\"2020-12-21T09:33:49\",\"2020-12-22T11:18:18\",\"2020-12-23T23:03:55\",\"2020-12-19T03:16:49\",\"2020-12-20T18:36:49\",\"2020-12-21T09:33:47\",\"2020-12-22T11:18:18\",\"2020-12-23T23:03:55\",\"2020-12-19T11:54:31\",\"2020-12-20T08:39:51\",\"2020-12-22T16:01:38\",\"2020-12-19T11:54:30\",\"2020-12-20T08:39:51\",\"2020-12-22T16:01:38\",\"2020-12-19T19:35:03\",\"2020-12-22T12:37:53\",\"2020-12-19T19:35:03\",\"2020-12-22T12:37:53\",\"2020-12-20T05:53:40\",\"2020-12-21T09:47:23\",\"2020-12-22T19:07:27\",\"2020-12-24T18:59:51\",\"2020-12-20T05:53:40\",\"2020-12-21T09:47:23\",\"2020-12-22T19:07:27\",\"2020-12-24T18:59:51\",\"2020-12-20T07:55:43\",\"2020-12-22T17:06:12\",\"2020-12-23T11:26:37\",\"2020-12-27T20:02:05\",\"2020-12-20T07:55:42\",\"2020-12-22T17:06:10\",\"2020-12-23T11:26:35\",\"2020-12-27T20:02:05\",\"2020-12-20T10:27:28\",\"2020-12-21T02:43:04\",\"2020-12-24T11:27:08\",\"2020-12-26T18:58:28\",\"2020-12-20T10:27:28\",\"2020-12-21T02:43:04\",\"2020-12-24T11:27:08\",\"2020-12-26T18:58:27\",\"2020-12-20T17:11:50\",\"2020-12-21T14:22:22\",\"2020-12-22T15:12:41\",\"2020-12-27T14:32:35\",\"2020-12-20T17:11:50\",\"2020-12-21T14:22:20\",\"2020-12-22T15:12:40\",\"2020-12-27T14:32:34\",\"2020-12-20T00:29:30\",\"2020-12-24T19:34:26\",\"2020-12-27T19:50:15\",\"2020-12-20T00:29:30\",\"2020-12-24T19:34:24\",\"2020-12-27T19:50:15\",\"2020-12-20T06:40:49\",\"2020-12-21T20:52:29\",\"2020-12-26T07:38:23\",\"2020-12-20T06:40:47\",\"2020-12-21T20:52:29\",\"2020-12-26T07:38:23\",\"2020-12-20T05:46:23\",\"2020-12-21T15:00:33\",\"2020-12-22T19:07:38\",\"2020-12-20T05:46:22\",\"2020-12-21T15:00:33\",\"2020-12-22T19:07:37\",\"2020-12-20T02:08:21\",\"2020-12-21T06:30:50\",\"2020-12-22T01:49:50\",\"2020-12-29T08:03:41\",\"2020-12-20T02:08:19\",\"2020-12-21T06:30:50\",\"2020-12-22T01:49:49\",\"2020-12-29T08:03:41\",\"2020-12-20T20:26:48\",\"2020-12-22T04:17:03\",\"2020-12-20T20:26:48\",\"2020-12-22T04:17:00\",\"2020-12-20T17:58:58\",\"2020-12-21T09:15:48\",\"2020-12-23T21:22:47\",\"2020-12-20T17:58:57\",\"2020-12-21T09:15:47\",\"2020-12-23T21:22:47\",\"2020-12-20T18:39:31\",\"2020-12-21T12:05:22\",\"2020-12-20T18:39:31\",\"2020-12-21T12:05:20\",\"2020-12-20T12:49:32\",\"2020-12-23T09:02:59\",\"2020-12-20T12:49:32\",\"2020-12-23T09:02:58\",\"2020-12-20T20:49:51\",\"2020-12-25T00:33:46\",\"2020-12-28T20:47:34\",\"2020-12-29T23:38:29\",\"2020-12-20T20:49:51\",\"2020-12-25T00:33:46\",\"2020-12-28T20:47:34\",\"2020-12-29T23:38:28\",\"2020-12-20T23:56:11\",\"2020-12-24T13:38:27\",\"2020-12-20T23:56:11\",\"2020-12-24T13:38:27\",\"2020-12-20T22:23:50\",\"2020-12-20T22:23:48\",\"2020-12-20T12:35:53\",\"2020-12-21T15:50:23\",\"2020-12-24T12:31:57\",\"2020-12-26T15:08:12\",\"2020-12-20T12:35:53\",\"2020-12-21T15:50:20\",\"2020-12-24T12:31:54\",\"2020-12-26T15:08:10\",\"2020-12-20T02:15:19\",\"2020-12-24T08:54:24\",\"2020-12-28T08:09:52\",\"2020-12-20T02:15:18\",\"2020-12-24T08:54:24\",\"2020-12-28T08:09:51\",\"2020-12-20T01:54:16\",\"2020-12-21T15:07:51\",\"2020-12-22T17:24:47\",\"2020-12-24T19:43:05\",\"2020-12-20T01:54:15\",\"2020-12-21T15:07:51\",\"2020-12-22T17:24:47\",\"2020-12-24T19:43:05\",\"2020-12-20T03:02:41\",\"2020-12-26T20:17:24\",\"2020-12-20T03:02:36\",\"2020-12-26T20:17:23\",\"2020-12-20T23:28:59\",\"2020-12-26T01:17:13\",\"2020-12-20T23:28:58\",\"2020-12-26T01:17:13\",\"2020-12-20T08:56:23\",\"2020-12-20T08:56:23\",\"2020-12-20T05:10:33\",\"2020-12-21T18:13:17\",\"2020-12-22T03:49:55\",\"2020-12-26T17:03:23\",\"2020-12-20T05:10:32\",\"2020-12-21T18:13:16\",\"2020-12-22T03:49:53\",\"2020-12-26T17:03:23\",\"2020-12-20T03:31:41\",\"2020-12-21T20:17:29\",\"2020-12-22T16:49:33\",\"2020-12-28T00:07:10\",\"2020-12-20T03:31:41\",\"2020-12-21T20:17:26\",\"2020-12-22T16:49:32\",\"2020-12-28T00:07:09\",\"2020-12-20T01:28:22\",\"2020-12-25T05:42:47\",\"2020-12-20T01:28:19\",\"2020-12-25T05:42:46\",\"2020-12-20T15:46:06\",\"2020-12-21T00:40:59\",\"2020-12-25T05:19:45\",\"2020-12-20T15:46:02\",\"2020-12-21T00:40:58\",\"2020-12-25T05:19:45\",\"2020-12-20T13:20:57\",\"2020-12-21T03:49:38\",\"2020-12-22T09:17:52\",\"2020-12-23T08:28:51\",\"2020-12-20T13:20:54\",\"2020-12-21T03:49:37\",\"2020-12-22T09:17:52\",\"2020-12-23T08:28:50\",\"2020-12-20T04:57:53\",\"2020-12-21T15:23:54\",\"2020-12-23T19:08:56\",\"2020-12-24T08:07:25\",\"2020-12-26T17:59:48\",\"2020-12-20T04:57:52\",\"2020-12-21T15:23:54\",\"2020-12-23T19:08:55\",\"2020-12-24T08:07:25\",\"2020-12-26T17:59:48\",\"2020-12-20T14:32:11\",\"2020-12-20T14:32:09\",\"2020-12-20T16:06:03\",\"2020-12-22T14:50:22\",\"2020-12-20T16:06:03\",\"2020-12-22T14:50:22\",\"2020-12-20T18:09:26\",\"2020-12-21T11:28:29\",\"2020-12-23T11:59:28\",\"2020-12-20T18:09:26\",\"2020-12-21T11:28:29\",\"2020-12-23T11:59:28\",\"2020-12-20T17:12:11\",\"2020-12-23T08:42:59\",\"2020-12-28T07:56:18\",\"2020-12-20T17:12:10\",\"2020-12-23T08:42:59\",\"2020-12-28T07:56:15\",\"2020-12-20T05:42:11\",\"2020-12-25T03:37:37\",\"2020-12-29T08:37:03\",\"2020-12-20T05:42:09\",\"2020-12-25T03:37:36\",\"2020-12-29T08:37:01\",\"2020-12-20T20:26:05\",\"2020-12-26T09:13:16\",\"2020-12-20T20:26:03\",\"2020-12-26T09:13:14\",\"2020-12-20T05:42:16\",\"2020-12-21T11:57:35\",\"2020-12-24T06:55:32\",\"2020-12-20T05:42:16\",\"2020-12-21T11:57:35\",\"2020-12-24T06:55:32\",\"2020-12-20T16:46:34\",\"2020-12-23T09:37:19\",\"2020-12-25T19:34:40\",\"2020-12-20T16:46:34\",\"2020-12-23T09:37:18\",\"2020-12-25T19:34:38\",\"2020-12-20T10:17:50\",\"2020-12-20T10:17:49\",\"2020-12-20T01:03:09\",\"2020-12-21T23:00:55\",\"2020-12-24T15:20:57\",\"2020-12-20T01:03:06\",\"2020-12-21T23:00:55\",\"2020-12-24T15:20:57\",\"2020-12-20T06:48:35\",\"2020-12-25T07:41:44\",\"2020-12-20T06:48:32\",\"2020-12-25T07:41:44\",\"2020-12-20T04:32:54\",\"2020-12-22T22:08:23\",\"2020-12-25T01:47:09\",\"2020-12-28T15:52:38\",\"2020-12-20T04:32:54\",\"2020-12-22T22:08:22\",\"2020-12-25T01:47:09\",\"2020-12-28T15:52:36\",\"2020-12-20T06:12:02\",\"2020-12-20T06:11:59\",\"2020-12-20T02:12:30\",\"2020-12-22T02:45:54\",\"2020-12-25T13:45:25\",\"2020-12-20T02:12:30\",\"2020-12-22T02:45:53\",\"2020-12-25T13:45:23\",\"2020-12-20T11:30:31\",\"2020-12-20T11:30:28\",\"2020-12-20T11:34:33\",\"2020-12-21T08:53:28\",\"2020-12-22T02:01:32\",\"2020-12-20T11:34:33\",\"2020-12-21T08:53:27\",\"2020-12-22T02:01:31\",\"2020-12-20T23:59:23\",\"2020-12-22T16:46:54\",\"2020-12-24T23:32:13\",\"2020-12-20T23:59:19\",\"2020-12-22T16:46:54\",\"2020-12-24T23:32:12\",\"2020-12-20T20:11:35\",\"2020-12-23T12:49:36\",\"2020-12-24T09:41:50\",\"2020-12-20T20:11:35\",\"2020-12-23T12:49:36\",\"2020-12-24T09:41:49\",\"2020-12-20T22:05:26\",\"2020-12-22T05:53:54\",\"2020-12-25T12:55:24\",\"2020-12-27T23:07:48\",\"2020-12-20T22:05:25\",\"2020-12-22T05:53:54\",\"2020-12-25T12:55:24\",\"2020-12-27T23:07:47\",\"2020-12-20T01:12:16\",\"2020-12-22T22:09:12\",\"2020-12-26T08:17:37\",\"2020-12-28T14:23:42\",\"2020-12-20T01:12:16\",\"2020-12-22T22:09:12\",\"2020-12-26T08:17:35\",\"2020-12-28T14:23:40\",\"2020-12-20T18:52:49\",\"2020-12-23T02:05:29\",\"2020-12-25T22:50:51\",\"2020-12-20T18:52:48\",\"2020-12-23T02:05:29\",\"2020-12-25T22:50:51\",\"2020-12-20T16:58:58\",\"2020-12-21T00:54:04\",\"2020-12-22T00:38:02\",\"2020-12-23T01:50:12\",\"2020-12-20T16:58:56\",\"2020-12-21T00:54:02\",\"2020-12-22T00:38:02\",\"2020-12-23T01:50:11\",\"2020-12-20T22:23:47\",\"2020-12-21T00:12:26\",\"2020-12-24T15:34:19\",\"2020-12-20T22:23:47\",\"2020-12-21T00:12:25\",\"2020-12-24T15:34:17\",\"2020-12-20T23:22:50\",\"2020-12-21T18:12:11\",\"2020-12-20T23:22:50\",\"2020-12-21T18:12:11\",\"2020-12-20T12:33:38\",\"2020-12-22T18:23:52\",\"2020-12-23T14:21:30\",\"2020-12-24T06:50:28\",\"2020-12-25T03:59:07\",\"2020-12-27T09:16:08\",\"2020-12-20T12:33:38\",\"2020-12-22T18:23:52\",\"2020-12-23T14:21:30\",\"2020-12-24T06:50:28\",\"2020-12-25T03:59:07\",\"2020-12-27T09:16:07\",\"2020-12-20T09:51:02\",\"2020-12-25T16:18:47\",\"2020-12-20T09:51:02\",\"2020-12-25T16:18:45\",\"2020-12-20T09:04:14\",\"2020-12-22T13:03:10\",\"2020-12-25T15:25:33\",\"2020-12-20T09:04:13\",\"2020-12-22T13:03:10\",\"2020-12-25T15:25:32\",\"2020-12-20T06:49:47\",\"2020-12-23T16:17:56\",\"2020-12-20T06:49:46\",\"2020-12-23T16:17:54\",\"2020-12-20T18:17:07\",\"2020-12-21T04:31:34\",\"2020-12-22T18:21:01\",\"2020-12-23T15:56:03\",\"2020-12-20T18:17:06\",\"2020-12-21T04:31:33\",\"2020-12-22T18:20:59\",\"2020-12-23T15:56:03\",\"2020-12-20T22:42:35\",\"2020-12-21T14:38:47\",\"2020-12-22T01:59:54\",\"2020-12-24T09:09:31\",\"2020-12-26T17:27:54\",\"2020-12-28T10:22:02\",\"2020-12-20T22:42:35\",\"2020-12-21T14:38:47\",\"2020-12-22T01:59:53\",\"2020-12-24T09:09:31\",\"2020-12-26T17:27:54\",\"2020-12-28T10:21:59\",\"2020-12-20T12:45:27\",\"2020-12-21T19:29:29\",\"2020-12-25T16:56:47\",\"2020-12-26T06:50:11\",\"2020-12-20T12:45:27\",\"2020-12-21T19:29:28\",\"2020-12-25T16:56:47\",\"2020-12-26T06:50:10\",\"2020-12-20T16:44:04\",\"2020-12-21T21:29:30\",\"2020-12-22T09:52:25\",\"2020-12-20T16:44:04\",\"2020-12-21T21:29:27\",\"2020-12-22T09:52:24\",\"2020-12-20T19:20:30\",\"2020-12-21T17:42:12\",\"2020-12-23T00:07:34\",\"2020-12-29T07:43:03\",\"2020-12-20T19:20:30\",\"2020-12-21T17:42:11\",\"2020-12-23T00:07:33\",\"2020-12-29T07:43:03\",\"2020-12-20T09:52:41\",\"2020-12-26T02:48:30\",\"2020-12-20T09:52:39\",\"2020-12-26T02:48:30\",\"2020-12-20T00:58:52\",\"2020-12-21T11:05:35\",\"2020-12-20T00:58:51\",\"2020-12-21T11:05:35\",\"2020-12-20T06:17:20\",\"2020-12-25T06:31:43\",\"2020-12-29T21:17:30\",\"2020-12-20T06:17:20\",\"2020-12-25T06:31:43\",\"2020-12-29T21:17:27\",\"2020-12-20T07:02:29\",\"2020-12-21T04:36:16\",\"2020-12-22T04:06:44\",\"2020-12-20T07:02:28\",\"2020-12-21T04:36:16\",\"2020-12-22T04:06:43\",\"2020-12-20T20:57:47\",\"2020-12-21T21:59:33\",\"2020-12-20T20:57:47\",\"2020-12-21T21:59:32\",\"2020-12-20T18:21:22\",\"2020-12-23T15:07:08\",\"2020-12-29T06:56:00\",\"2020-12-20T18:21:22\",\"2020-12-23T15:07:07\",\"2020-12-29T06:56:00\",\"2020-12-20T13:44:34\",\"2020-12-28T18:25:49\",\"2020-12-29T20:54:26\",\"2020-12-20T13:44:34\",\"2020-12-28T18:25:47\",\"2020-12-29T20:54:25\",\"2020-12-20T07:19:16\",\"2020-12-21T17:21:39\",\"2020-12-27T07:06:36\",\"2020-12-20T07:19:16\",\"2020-12-21T17:21:39\",\"2020-12-27T07:06:36\",\"2020-12-20T16:18:08\",\"2020-12-21T06:42:13\",\"2020-12-23T18:24:11\",\"2020-12-24T05:15:43\",\"2020-12-20T16:18:06\",\"2020-12-21T06:42:13\",\"2020-12-23T18:24:09\",\"2020-12-24T05:15:43\",\"2020-12-20T00:08:47\",\"2020-12-21T05:28:18\",\"2020-12-23T19:10:50\",\"2020-12-20T00:08:46\",\"2020-12-21T05:28:16\",\"2020-12-23T19:10:50\",\"2020-12-20T18:50:07\",\"2020-12-24T05:42:56\",\"2020-12-28T22:57:29\",\"2020-12-20T18:50:07\",\"2020-12-24T05:42:55\",\"2020-12-28T22:57:28\",\"2020-12-20T15:30:59\",\"2020-12-24T14:13:45\",\"2020-12-28T05:25:35\",\"2020-12-29T22:17:10\",\"2020-12-20T15:30:59\",\"2020-12-24T14:13:41\",\"2020-12-28T05:25:32\",\"2020-12-29T22:17:08\",\"2020-12-20T12:48:41\",\"2020-12-21T19:19:30\",\"2020-12-23T14:13:21\",\"2020-12-20T12:48:41\",\"2020-12-21T19:19:30\",\"2020-12-23T14:13:20\",\"2020-12-20T00:00:05\",\"2020-12-21T16:17:23\",\"2020-12-27T08:38:51\",\"2020-12-29T02:17:01\",\"2020-12-20T00:00:04\",\"2020-12-21T16:17:23\",\"2020-12-27T08:38:51\",\"2020-12-29T02:17:00\",\"2020-12-20T04:06:20\",\"2020-12-21T22:18:34\",\"2020-12-25T19:19:13\",\"2020-12-20T04:06:17\",\"2020-12-21T22:18:33\",\"2020-12-25T19:19:13\",\"2020-12-20T05:08:49\",\"2020-12-21T18:36:06\",\"2020-12-22T01:20:49\",\"2020-12-27T05:56:08\",\"2020-12-20T05:08:49\",\"2020-12-21T18:36:03\",\"2020-12-22T01:20:46\",\"2020-12-27T05:56:02\",\"2020-12-20T00:24:33\",\"2020-12-29T16:53:42\",\"2020-12-20T00:24:33\",\"2020-12-29T16:53:42\",\"2020-12-20T07:01:46\",\"2020-12-23T20:44:18\",\"2020-12-20T07:01:45\",\"2020-12-23T20:44:16\",\"2020-12-20T03:00:29\",\"2020-12-25T21:50:58\",\"2020-12-20T03:00:26\",\"2020-12-25T21:50:57\",\"2020-12-20T06:46:36\",\"2020-12-21T13:12:51\",\"2020-12-20T06:46:36\",\"2020-12-21T13:12:49\",\"2020-12-21T14:08:18\",\"2020-12-23T06:57:26\",\"2020-12-21T14:08:15\",\"2020-12-23T06:57:25\",\"2020-12-21T23:41:08\",\"2020-12-22T09:59:59\",\"2020-12-23T17:28:00\",\"2020-12-26T21:49:02\",\"2020-12-21T23:41:07\",\"2020-12-22T09:59:57\",\"2020-12-23T17:27:58\",\"2020-12-26T21:49:02\",\"2020-12-21T09:11:43\",\"2020-12-22T15:53:40\",\"2020-12-21T09:11:43\",\"2020-12-22T15:53:39\",\"2020-12-21T20:31:32\",\"2020-12-22T01:01:34\",\"2020-12-23T09:17:45\",\"2020-12-21T20:31:31\",\"2020-12-22T01:01:34\",\"2020-12-23T09:17:44\",\"2020-12-21T02:52:26\",\"2020-12-25T22:00:40\",\"2020-12-26T11:01:48\",\"2020-12-21T02:52:26\",\"2020-12-25T22:00:38\",\"2020-12-26T11:01:48\",\"2020-12-21T22:19:37\",\"2020-12-22T20:24:23\",\"2020-12-26T13:17:18\",\"2020-12-21T22:19:36\",\"2020-12-22T20:24:23\",\"2020-12-26T13:17:18\",\"2020-12-21T07:51:45\",\"2020-12-23T22:12:02\",\"2020-12-24T23:10:50\",\"2020-12-29T18:25:58\",\"2020-12-21T07:51:41\",\"2020-12-23T22:12:02\",\"2020-12-24T23:10:47\",\"2020-12-29T18:25:58\",\"2020-12-21T07:48:55\",\"2020-12-25T07:11:25\",\"2020-12-28T14:50:34\",\"2020-12-21T07:48:55\",\"2020-12-25T07:11:23\",\"2020-12-28T14:50:32\",\"2020-12-21T02:49:25\",\"2020-12-26T02:25:29\",\"2020-12-21T02:49:25\",\"2020-12-26T02:25:28\",\"2020-12-21T20:15:55\",\"2020-12-26T08:26:50\",\"2020-12-21T20:15:55\",\"2020-12-26T08:26:48\",\"2020-12-21T21:20:52\",\"2020-12-23T23:37:42\",\"2020-12-21T21:20:51\",\"2020-12-23T23:37:42\",\"2020-12-21T21:00:17\",\"2020-12-29T08:11:20\",\"2020-12-21T21:00:16\",\"2020-12-29T08:11:19\",\"2020-12-21T22:15:57\",\"2020-12-22T01:19:29\",\"2020-12-24T15:32:17\",\"2020-12-25T01:20:58\",\"2020-12-26T00:53:49\",\"2020-12-27T06:13:21\",\"2020-12-21T22:15:57\",\"2020-12-22T01:19:28\",\"2020-12-24T15:32:17\",\"2020-12-25T01:20:58\",\"2020-12-26T00:53:49\",\"2020-12-27T06:13:20\",\"2020-12-21T10:55:42\",\"2020-12-21T10:55:42\",\"2020-12-21T08:42:32\",\"2020-12-24T18:20:22\",\"2020-12-28T06:34:29\",\"2020-12-21T08:42:31\",\"2020-12-24T18:20:22\",\"2020-12-28T06:34:29\",\"2020-12-21T05:26:03\",\"2020-12-25T11:43:27\",\"2020-12-27T22:09:33\",\"2020-12-21T05:26:02\",\"2020-12-25T11:43:27\",\"2020-12-27T22:09:33\",\"2020-12-21T21:12:24\",\"2020-12-22T02:04:48\",\"2020-12-21T21:12:23\",\"2020-12-22T02:04:47\",\"2020-12-21T07:30:35\",\"2020-12-22T01:48:27\",\"2020-12-21T07:30:35\",\"2020-12-22T01:48:24\",\"2020-12-21T16:59:16\",\"2020-12-22T04:54:55\",\"2020-12-21T16:59:16\",\"2020-12-22T04:54:54\",\"2020-12-21T14:40:29\",\"2020-12-21T14:40:29\",\"2020-12-21T20:36:26\",\"2020-12-22T21:40:06\",\"2020-12-21T20:36:25\",\"2020-12-22T21:40:06\",\"2020-12-21T08:33:26\",\"2020-12-22T20:38:41\",\"2020-12-23T12:36:33\",\"2020-12-21T08:33:26\",\"2020-12-22T20:38:41\",\"2020-12-23T12:36:29\",\"2020-12-21T13:02:13\",\"2020-12-28T06:12:30\",\"2020-12-21T13:02:13\",\"2020-12-28T06:12:30\",\"2020-12-21T17:20:27\",\"2020-12-22T13:40:11\",\"2020-12-26T17:54:19\",\"2020-12-21T17:20:26\",\"2020-12-22T13:40:10\",\"2020-12-26T17:54:19\",\"2020-12-21T19:46:58\",\"2020-12-22T22:59:12\",\"2020-12-28T07:17:06\",\"2020-12-21T19:46:56\",\"2020-12-22T22:59:12\",\"2020-12-28T07:17:03\",\"2020-12-21T13:34:21\",\"2020-12-22T08:33:24\",\"2020-12-23T06:31:10\",\"2020-12-21T13:34:18\",\"2020-12-22T08:33:22\",\"2020-12-23T06:31:09\",\"2020-12-21T01:03:31\",\"2020-12-22T04:20:54\",\"2020-12-23T11:22:00\",\"2020-12-21T01:03:31\",\"2020-12-22T04:20:52\",\"2020-12-23T11:22:00\",\"2020-12-21T09:48:01\",\"2020-12-22T12:32:47\",\"2020-12-23T04:54:39\",\"2020-12-21T09:48:01\",\"2020-12-22T12:32:47\",\"2020-12-23T04:54:38\",\"2020-12-21T04:38:30\",\"2020-12-22T23:15:04\",\"2020-12-28T20:59:20\",\"2020-12-21T04:38:29\",\"2020-12-22T23:15:04\",\"2020-12-28T20:59:20\",\"2020-12-21T17:53:32\",\"2020-12-22T11:17:13\",\"2020-12-23T01:27:48\",\"2020-12-21T17:53:32\",\"2020-12-22T11:17:11\",\"2020-12-23T01:27:48\",\"2020-12-21T17:15:01\",\"2020-12-22T17:50:59\",\"2020-12-25T18:35:04\",\"2020-12-27T09:30:34\",\"2020-12-21T17:15:00\",\"2020-12-22T17:50:59\",\"2020-12-25T18:35:01\",\"2020-12-27T09:30:34\",\"2020-12-21T17:35:15\",\"2020-12-25T05:36:54\",\"2020-12-26T00:58:06\",\"2020-12-21T17:35:14\",\"2020-12-25T05:36:53\",\"2020-12-26T00:58:05\",\"2020-12-21T04:44:40\",\"2020-12-22T00:40:25\",\"2020-12-23T00:41:53\",\"2020-12-26T00:17:14\",\"2020-12-27T03:50:01\",\"2020-12-21T04:44:40\",\"2020-12-22T00:40:25\",\"2020-12-23T00:41:52\",\"2020-12-26T00:17:12\",\"2020-12-27T03:50:01\",\"2020-12-21T19:32:01\",\"2020-12-22T19:32:24\",\"2020-12-23T01:08:55\",\"2020-12-24T14:29:32\",\"2020-12-29T02:39:09\",\"2020-12-21T19:32:01\",\"2020-12-22T19:32:24\",\"2020-12-23T01:08:55\",\"2020-12-24T14:29:32\",\"2020-12-29T02:39:08\",\"2020-12-21T19:05:35\",\"2020-12-23T13:16:59\",\"2020-12-28T15:31:39\",\"2020-12-21T19:05:34\",\"2020-12-23T13:16:59\",\"2020-12-28T15:31:38\",\"2020-12-21T08:45:51\",\"2020-12-24T22:13:16\",\"2020-12-29T11:34:13\",\"2020-12-21T08:45:51\",\"2020-12-24T22:13:15\",\"2020-12-29T11:34:13\",\"2020-12-21T15:19:30\",\"2020-12-29T12:13:25\",\"2020-12-21T15:19:30\",\"2020-12-29T12:13:20\",\"2020-12-21T05:46:49\",\"2020-12-23T02:57:48\",\"2020-12-27T19:00:44\",\"2020-12-21T05:46:48\",\"2020-12-23T02:57:48\",\"2020-12-27T19:00:41\",\"2020-12-21T14:05:46\",\"2020-12-26T10:51:56\",\"2020-12-28T12:13:06\",\"2020-12-21T14:05:44\",\"2020-12-26T10:51:56\",\"2020-12-28T12:13:03\",\"2020-12-21T02:46:59\",\"2020-12-22T17:38:05\",\"2020-12-25T09:44:38\",\"2020-12-21T02:46:56\",\"2020-12-22T17:38:05\",\"2020-12-25T09:44:38\",\"2020-12-21T19:39:14\",\"2020-12-22T01:35:55\",\"2020-12-25T08:11:35\",\"2020-12-29T21:29:15\",\"2020-12-21T19:39:14\",\"2020-12-22T01:35:55\",\"2020-12-25T08:11:35\",\"2020-12-29T21:29:15\",\"2020-12-21T11:55:33\",\"2020-12-23T23:38:41\",\"2020-12-21T11:55:33\",\"2020-12-23T23:38:39\",\"2020-12-21T13:58:20\",\"2020-12-23T00:47:48\",\"2020-12-21T13:58:20\",\"2020-12-23T00:47:47\",\"2020-12-21T10:26:16\",\"2020-12-22T18:24:52\",\"2020-12-21T10:26:15\",\"2020-12-22T18:24:51\",\"2020-12-21T21:00:11\",\"2020-12-22T22:37:52\",\"2020-12-21T21:00:11\",\"2020-12-22T22:37:51\",\"2020-12-21T05:54:04\",\"2020-12-28T05:29:21\",\"2020-12-21T05:54:03\",\"2020-12-28T05:29:21\",\"2020-12-21T12:31:58\",\"2020-12-22T11:50:28\",\"2020-12-23T14:09:43\",\"2020-12-25T09:40:16\",\"2020-12-26T18:51:21\",\"2020-12-21T12:31:57\",\"2020-12-22T11:50:28\",\"2020-12-23T14:09:41\",\"2020-12-25T09:40:15\",\"2020-12-26T18:51:20\",\"2020-12-21T17:23:02\",\"2020-12-22T19:13:42\",\"2020-12-27T10:34:29\",\"2020-12-21T17:23:02\",\"2020-12-22T19:13:42\",\"2020-12-27T10:34:29\",\"2020-12-21T16:59:09\",\"2020-12-22T08:58:30\",\"2020-12-23T04:11:25\",\"2020-12-21T16:59:09\",\"2020-12-22T08:58:30\",\"2020-12-23T04:11:24\",\"2020-12-21T16:45:38\",\"2020-12-22T23:19:41\",\"2020-12-23T18:44:31\",\"2020-12-21T16:45:34\",\"2020-12-22T23:19:40\",\"2020-12-23T18:44:29\",\"2020-12-21T08:51:03\",\"2020-12-27T03:18:50\",\"2020-12-28T00:28:07\",\"2020-12-21T08:51:01\",\"2020-12-27T03:18:49\",\"2020-12-28T00:28:07\",\"2020-12-21T02:38:23\",\"2020-12-22T10:11:34\",\"2020-12-23T15:32:37\",\"2020-12-26T02:27:35\",\"2020-12-21T02:38:21\",\"2020-12-22T10:11:34\",\"2020-12-23T15:32:34\",\"2020-12-26T02:27:34\",\"2020-12-21T18:46:01\",\"2020-12-29T10:50:05\",\"2020-12-21T18:46:01\",\"2020-12-29T10:50:04\",\"2020-12-21T09:37:08\",\"2020-12-23T03:17:30\",\"2020-12-24T06:42:14\",\"2020-12-25T09:39:57\",\"2020-12-21T09:37:06\",\"2020-12-23T03:17:26\",\"2020-12-24T06:42:13\",\"2020-12-25T09:39:56\",\"2020-12-21T13:51:26\",\"2020-12-22T22:49:07\",\"2020-12-26T02:56:29\",\"2020-12-21T13:51:24\",\"2020-12-22T22:49:06\",\"2020-12-26T02:56:29\",\"2020-12-21T18:18:28\",\"2020-12-23T13:35:33\",\"2020-12-21T18:18:28\",\"2020-12-23T13:35:33\",\"2020-12-21T02:29:51\",\"2020-12-24T12:11:32\",\"2020-12-21T02:29:50\",\"2020-12-24T12:11:30\",\"2020-12-21T00:16:29\",\"2020-12-22T00:32:27\",\"2020-12-21T00:16:27\",\"2020-12-22T00:32:27\",\"2020-12-21T11:08:56\",\"2020-12-23T22:47:05\",\"2020-12-21T11:08:56\",\"2020-12-23T22:47:03\",\"2020-12-21T00:35:45\",\"2020-12-22T00:19:30\",\"2020-12-23T09:38:04\",\"2020-12-21T00:35:45\",\"2020-12-22T00:19:27\",\"2020-12-23T09:38:04\",\"2020-12-21T04:42:19\",\"2020-12-21T04:42:17\",\"2020-12-21T02:26:46\",\"2020-12-21T02:26:46\",\"2020-12-21T11:07:02\",\"2020-12-22T15:06:33\",\"2020-12-25T19:13:23\",\"2020-12-28T23:21:02\",\"2020-12-21T11:06:58\",\"2020-12-22T15:06:32\",\"2020-12-25T19:13:20\",\"2020-12-28T23:21:02\",\"2020-12-21T08:39:02\",\"2020-12-22T04:04:44\",\"2020-12-23T19:03:55\",\"2020-12-21T08:38:58\",\"2020-12-22T04:04:40\",\"2020-12-23T19:03:54\",\"2020-12-21T06:06:23\",\"2020-12-22T00:27:15\",\"2020-12-23T03:13:47\",\"2020-12-25T16:22:13\",\"2020-12-21T06:06:22\",\"2020-12-22T00:27:14\",\"2020-12-23T03:13:47\",\"2020-12-25T16:22:11\",\"2020-12-21T06:51:22\",\"2020-12-22T11:11:09\",\"2020-12-21T06:51:22\",\"2020-12-22T11:11:09\",\"2020-12-21T01:44:26\",\"2020-12-22T10:24:51\",\"2020-12-23T16:24:57\",\"2020-12-28T22:25:58\",\"2020-12-21T01:44:26\",\"2020-12-22T10:24:50\",\"2020-12-23T16:24:56\",\"2020-12-28T22:25:58\",\"2020-12-21T10:44:40\",\"2020-12-22T15:54:38\",\"2020-12-21T10:44:39\",\"2020-12-22T15:54:33\",\"2020-12-21T07:54:42\",\"2020-12-22T05:17:18\",\"2020-12-28T11:00:22\",\"2020-12-21T07:54:42\",\"2020-12-22T05:17:18\",\"2020-12-28T11:00:22\",\"2020-12-21T10:08:41\",\"2020-12-24T13:50:50\",\"2020-12-21T10:08:40\",\"2020-12-24T13:50:50\",\"2020-12-21T04:17:03\",\"2020-12-22T12:56:27\",\"2020-12-24T02:16:19\",\"2020-12-21T04:17:01\",\"2020-12-22T12:56:27\",\"2020-12-24T02:16:19\",\"2020-12-21T13:40:35\",\"2020-12-22T20:53:04\",\"2020-12-24T15:57:49\",\"2020-12-28T02:40:45\",\"2020-12-21T13:40:34\",\"2020-12-22T20:53:04\",\"2020-12-24T15:57:48\",\"2020-12-28T02:40:45\",\"2020-12-21T06:06:51\",\"2020-12-23T08:48:36\",\"2020-12-24T05:42:29\",\"2020-12-21T06:06:51\",\"2020-12-23T08:48:36\",\"2020-12-24T05:42:29\",\"2020-12-21T22:07:13\",\"2020-12-22T01:01:56\",\"2020-12-25T13:21:48\",\"2020-12-28T23:01:49\",\"2020-12-21T22:07:13\",\"2020-12-22T01:01:55\",\"2020-12-25T13:21:47\",\"2020-12-28T23:01:48\",\"2020-12-21T08:39:17\",\"2020-12-22T20:02:34\",\"2020-12-26T02:16:27\",\"2020-12-21T08:39:16\",\"2020-12-22T20:02:34\",\"2020-12-26T02:16:25\",\"2020-12-21T06:03:51\",\"2020-12-25T16:13:47\",\"2020-12-21T06:03:48\",\"2020-12-25T16:13:47\",\"2020-12-21T07:04:27\",\"2020-12-23T09:18:46\",\"2020-12-24T15:39:08\",\"2020-12-27T22:41:35\",\"2020-12-21T07:04:27\",\"2020-12-23T09:18:44\",\"2020-12-24T15:39:07\",\"2020-12-27T22:41:33\",\"2020-12-21T12:53:45\",\"2020-12-21T12:53:45\",\"2020-12-21T01:12:51\",\"2020-12-23T15:36:35\",\"2020-12-24T01:33:49\",\"2020-12-25T21:13:45\",\"2020-12-27T02:51:12\",\"2020-12-21T01:12:51\",\"2020-12-23T15:36:32\",\"2020-12-24T01:33:48\",\"2020-12-25T21:13:45\",\"2020-12-27T02:51:10\",\"2020-12-21T18:17:09\",\"2020-12-23T00:52:32\",\"2020-12-26T18:31:05\",\"2020-12-29T00:39:53\",\"2020-12-21T18:17:08\",\"2020-12-23T00:52:31\",\"2020-12-26T18:31:05\",\"2020-12-29T00:39:53\",\"2020-12-21T03:48:57\",\"2020-12-25T22:02:21\",\"2020-12-21T03:48:53\",\"2020-12-25T22:02:21\",\"2020-12-21T16:47:42\",\"2020-12-26T00:22:40\",\"2020-12-21T16:47:42\",\"2020-12-26T00:22:39\",\"2020-12-21T04:04:00\",\"2020-12-22T05:56:05\",\"2020-12-29T02:00:01\",\"2020-12-21T04:04:00\",\"2020-12-22T05:56:04\",\"2020-12-29T02:00:01\",\"2020-12-21T22:15:51\",\"2020-12-22T09:34:14\",\"2020-12-21T22:15:51\",\"2020-12-22T09:34:13\",\"2020-12-21T14:51:53\",\"2020-12-22T19:01:38\",\"2020-12-24T23:51:12\",\"2020-12-29T06:52:57\",\"2020-12-21T14:51:53\",\"2020-12-22T19:01:36\",\"2020-12-24T23:51:12\",\"2020-12-29T06:52:57\",\"2020-12-21T23:08:29\",\"2020-12-22T02:59:28\",\"2020-12-23T02:19:02\",\"2020-12-21T23:08:28\",\"2020-12-22T02:59:27\",\"2020-12-23T02:19:02\",\"2020-12-21T18:48:47\",\"2020-12-22T16:52:48\",\"2020-12-23T08:46:05\",\"2020-12-25T09:14:49\",\"2020-12-26T03:49:29\",\"2020-12-27T21:23:22\",\"2020-12-28T20:28:42\",\"2020-12-21T18:48:46\",\"2020-12-22T16:52:48\",\"2020-12-23T08:46:04\",\"2020-12-25T09:14:45\",\"2020-12-26T03:49:29\",\"2020-12-27T21:23:22\",\"2020-12-28T20:28:40\",\"2020-12-21T17:19:19\",\"2020-12-23T18:57:04\",\"2020-12-24T09:05:33\",\"2020-12-25T00:27:16\",\"2020-12-21T17:19:16\",\"2020-12-23T18:57:04\",\"2020-12-24T09:05:32\",\"2020-12-25T00:27:15\",\"2020-12-21T17:07:18\",\"2020-12-22T14:10:47\",\"2020-12-27T08:11:12\",\"2020-12-21T17:07:17\",\"2020-12-22T14:10:46\",\"2020-12-27T08:11:11\",\"2020-12-21T13:52:22\",\"2020-12-22T11:39:40\",\"2020-12-25T15:27:01\",\"2020-12-28T16:28:09\",\"2020-12-21T13:52:22\",\"2020-12-22T11:39:37\",\"2020-12-25T15:26:59\",\"2020-12-28T16:28:05\",\"2020-12-21T20:05:58\",\"2020-12-22T18:11:46\",\"2020-12-23T18:00:13\",\"2020-12-24T03:01:00\",\"2020-12-27T18:20:43\",\"2020-12-21T20:05:56\",\"2020-12-22T18:11:46\",\"2020-12-23T18:00:13\",\"2020-12-24T03:01:00\",\"2020-12-27T18:20:43\",\"2020-12-21T03:28:31\",\"2020-12-23T12:04:08\",\"2020-12-28T04:56:47\",\"2020-12-21T03:28:29\",\"2020-12-23T12:04:07\",\"2020-12-28T04:56:47\",\"2020-12-21T13:39:19\",\"2020-12-22T15:47:22\",\"2020-12-26T00:09:03\",\"2020-12-21T13:39:19\",\"2020-12-22T15:47:22\",\"2020-12-26T00:09:03\",\"2020-12-21T11:49:13\",\"2020-12-22T19:48:55\",\"2020-12-24T21:04:45\",\"2020-12-27T01:00:52\",\"2020-12-21T11:49:13\",\"2020-12-22T19:48:55\",\"2020-12-24T21:04:44\",\"2020-12-27T01:00:52\",\"2020-12-21T23:15:28\",\"2020-12-22T00:48:03\",\"2020-12-21T23:15:28\",\"2020-12-22T00:48:01\",\"2020-12-21T16:31:03\",\"2020-12-23T03:47:50\",\"2020-12-24T12:26:07\",\"2020-12-21T16:31:00\",\"2020-12-23T03:47:50\",\"2020-12-24T12:26:06\",\"2020-12-21T14:09:18\",\"2020-12-22T07:49:00\",\"2020-12-27T07:26:27\",\"2020-12-28T10:05:18\",\"2020-12-21T14:09:16\",\"2020-12-22T07:48:58\",\"2020-12-27T07:26:26\",\"2020-12-28T10:05:18\",\"2020-12-21T22:16:59\",\"2020-12-22T10:11:23\",\"2020-12-24T03:09:24\",\"2020-12-21T22:16:57\",\"2020-12-22T10:11:21\",\"2020-12-24T03:09:23\",\"2020-12-21T16:31:23\",\"2020-12-23T22:48:17\",\"2020-12-21T16:31:20\",\"2020-12-23T22:48:12\",\"2020-12-21T15:08:46\",\"2020-12-22T14:05:00\",\"2020-12-23T23:17:34\",\"2020-12-29T02:29:22\",\"2020-12-21T15:08:45\",\"2020-12-22T14:04:57\",\"2020-12-23T23:17:33\",\"2020-12-29T02:29:22\",\"2020-12-21T18:20:42\",\"2020-12-21T18:20:42\",\"2020-12-21T22:32:16\",\"2020-12-22T15:59:25\",\"2020-12-25T07:18:18\",\"2020-12-21T22:32:12\",\"2020-12-22T15:59:25\",\"2020-12-25T07:18:18\",\"2020-12-21T01:26:43\",\"2020-12-23T00:43:28\",\"2020-12-28T16:53:49\",\"2020-12-21T01:26:41\",\"2020-12-23T00:43:26\",\"2020-12-28T16:53:48\",\"2020-12-21T03:26:39\",\"2020-12-22T23:11:59\",\"2020-12-23T05:23:39\",\"2020-12-25T07:54:39\",\"2020-12-21T03:26:38\",\"2020-12-22T23:11:59\",\"2020-12-23T05:23:39\",\"2020-12-25T07:54:39\",\"2020-12-21T19:33:28\",\"2020-12-22T09:32:28\",\"2020-12-23T02:42:02\",\"2020-12-24T05:23:16\",\"2020-12-21T19:33:27\",\"2020-12-22T09:32:27\",\"2020-12-23T02:42:00\",\"2020-12-24T05:23:14\",\"2020-12-21T21:45:21\",\"2020-12-25T11:53:58\",\"2020-12-26T01:51:59\",\"2020-12-28T19:05:26\",\"2020-12-21T21:45:18\",\"2020-12-25T11:53:55\",\"2020-12-26T01:51:59\",\"2020-12-28T19:05:25\",\"2020-12-21T05:43:27\",\"2020-12-26T04:44:08\",\"2020-12-21T05:43:25\",\"2020-12-26T04:44:08\",\"2020-12-21T23:45:34\",\"2020-12-22T03:20:38\",\"2020-12-29T04:14:06\",\"2020-12-21T23:45:31\",\"2020-12-22T03:20:37\",\"2020-12-29T04:14:06\",\"2020-12-21T10:19:08\",\"2020-12-24T09:37:10\",\"2020-12-25T02:41:16\",\"2020-12-26T17:01:18\",\"2020-12-29T23:38:10\",\"2020-12-21T10:19:08\",\"2020-12-24T09:37:10\",\"2020-12-25T02:41:16\",\"2020-12-26T17:01:17\",\"2020-12-29T23:38:09\",\"2020-12-21T16:38:10\",\"2020-12-22T07:17:54\",\"2020-12-23T19:36:51\",\"2020-12-24T02:03:03\",\"2020-12-29T04:47:33\",\"2020-12-21T16:38:09\",\"2020-12-22T07:17:54\",\"2020-12-23T19:36:49\",\"2020-12-24T02:03:03\",\"2020-12-29T04:47:33\",\"2020-12-21T21:21:02\",\"2020-12-22T11:49:21\",\"2020-12-23T21:09:14\",\"2020-12-24T21:39:07\",\"2020-12-21T21:20:59\",\"2020-12-22T11:49:20\",\"2020-12-23T21:09:14\",\"2020-12-24T21:39:07\",\"2020-12-07T13:42:23\",\"2020-12-11T08:30:40\",\"2020-12-12T05:47:50\",\"2020-12-07T02:12:00\",\"2020-12-12T07:59:24\",\"2020-12-16T12:31:07\",\"2020-12-07T06:43:02\",\"2020-12-09T06:18:57\",\"2020-12-17T07:53:31\",\"2020-12-07T22:41:20\",\"2020-12-18T09:51:55\",\"2020-12-07T01:06:05\",\"2020-12-10T22:27:52\",\"2020-12-11T20:50:16\",\"2020-12-07T04:02:40\",\"2020-12-09T05:32:51\",\"2020-12-07T19:35:34\",\"2020-12-12T13:32:47\",\"2020-12-14T09:53:59\",\"2020-12-07T14:22:22\",\"2020-12-07T10:20:15\",\"2020-12-07T16:07:39\",\"2020-12-09T11:00:08\",\"2020-12-07T20:26:47\",\"2020-12-09T19:29:55\",\"2020-12-19T12:20:16\",\"2020-12-07T06:32:42\",\"2020-12-09T11:31:59\",\"2020-12-15T22:33:38\",\"2020-12-07T04:55:07\",\"2020-12-08T16:26:58\",\"2020-12-09T02:46:56\",\"2020-12-10T21:45:57\",\"2020-12-07T19:41:27\",\"2020-12-10T08:25:44\",\"2020-12-13T21:41:13\",\"2020-12-19T19:27:33\",\"2020-12-07T15:01:58\",\"2020-12-08T04:54:48\",\"2020-12-15T11:15:02\",\"2020-12-07T17:55:00\",\"2020-12-08T10:25:23\",\"2020-12-10T01:03:56\",\"2020-12-11T11:53:23\",\"2020-12-07T13:25:47\",\"2020-12-08T09:07:11\",\"2020-12-21T16:18:57\",\"2020-12-07T22:14:35\",\"2020-12-10T01:41:49\",\"2020-12-16T18:27:31\",\"2020-12-07T19:56:01\",\"2020-12-10T16:04:27\",\"2020-12-14T18:55:15\",\"2020-12-07T03:55:43\",\"2020-12-09T23:24:42\",\"2020-12-07T01:20:23\",\"2020-12-08T15:53:58\",\"2020-12-09T21:40:19\",\"2020-12-12T11:49:44\",\"2020-12-13T11:03:56\",\"2020-12-07T08:24:38\",\"2020-12-08T21:13:30\",\"2020-12-07T15:37:23\",\"2020-12-10T18:45:54\",\"2020-12-14T14:54:45\",\"2020-12-18T01:55:27\",\"2020-12-07T21:41:52\",\"2020-12-07T01:55:35\",\"2020-12-07T13:40:31\",\"2020-12-09T22:15:45\",\"2020-12-13T15:57:35\",\"2020-12-07T17:30:33\",\"2020-12-12T09:03:12\",\"2020-12-07T07:29:44\",\"2020-12-08T08:04:24\",\"2020-12-07T14:49:49\",\"2020-12-08T17:48:50\",\"2020-12-07T18:20:11\",\"2020-12-08T01:37:46\",\"2020-12-10T15:03:44\",\"2020-12-11T07:18:51\",\"2020-12-07T20:39:14\",\"2020-12-08T22:14:47\",\"2020-12-09T15:59:40\",\"2020-12-10T21:06:52\",\"2020-12-08T10:48:18\",\"2020-12-10T19:41:16\",\"2020-12-13T09:58:29\",\"2020-12-16T08:18:52\",\"2020-12-18T21:19:22\",\"2020-12-08T23:00:20\",\"2020-12-10T09:45:03\",\"2020-12-16T19:12:02\",\"2020-12-08T19:42:52\",\"2020-12-09T03:50:46\",\"2020-12-14T02:25:22\",\"2020-12-08T05:36:27\",\"2020-12-09T10:40:51\",\"2020-12-08T21:29:06\",\"2020-12-11T07:23:10\",\"2020-12-13T06:16:57\",\"2020-12-08T11:44:51\",\"2020-12-09T00:20:23\",\"2020-12-08T14:02:59\",\"2020-12-11T03:17:39\",\"2020-12-12T12:34:56\",\"2020-12-08T02:34:35\",\"2020-12-09T18:34:14\",\"2020-12-10T20:18:38\",\"2020-12-14T18:38:19\",\"2020-12-08T06:28:21\",\"2020-12-09T23:15:52\",\"2020-12-10T13:46:14\",\"2020-12-16T22:49:54\",\"2020-12-18T12:44:43\",\"2020-12-20T06:26:18\",\"2020-12-08T22:44:01\",\"2020-12-09T22:30:31\",\"2020-12-17T05:36:45\",\"2020-12-21T10:17:17\",\"2020-12-08T08:59:03\",\"2020-12-09T21:26:19\",\"2020-12-13T01:23:29\",\"2020-12-18T02:00:48\",\"2020-12-08T08:14:18\",\"2020-12-09T04:42:47\",\"2020-12-10T13:18:43\",\"2020-12-14T19:07:48\",\"2020-12-17T15:29:39\",\"2020-12-18T10:52:12\",\"2020-12-08T11:30:58\",\"2020-12-11T12:52:32\",\"2020-12-18T11:10:45\",\"2020-12-09T12:51:48\",\"2020-12-11T20:52:09\",\"2020-12-12T10:11:18\",\"2020-12-09T21:04:24\",\"2020-12-10T11:50:11\",\"2020-12-12T17:17:25\",\"2020-12-09T03:26:44\",\"2020-12-14T15:37:28\",\"2020-12-09T11:31:13\",\"2020-12-10T04:19:41\",\"2020-12-12T05:21:43\",\"2020-12-13T08:05:00\",\"2020-12-22T06:21:45\",\"2020-12-09T19:32:57\",\"2020-12-11T22:09:57\",\"2020-12-12T13:16:27\",\"2020-12-17T22:25:50\",\"2020-12-18T06:05:32\",\"2020-12-09T09:40:59\",\"2020-12-10T21:31:21\",\"2020-12-11T12:38:21\",\"2020-12-17T23:26:37\",\"2020-12-09T18:31:16\",\"2020-12-10T16:12:53\",\"2020-12-17T03:48:12\",\"2020-12-18T14:24:02\",\"2020-12-09T02:51:54\",\"2020-12-11T17:04:42\",\"2020-12-14T02:29:36\",\"2020-12-16T21:00:05\",\"2020-12-09T05:01:55\",\"2020-12-18T18:34:55\",\"2020-12-09T20:20:19\",\"2020-12-10T21:18:06\",\"2020-12-15T19:49:54\",\"2020-12-09T09:28:11\",\"2020-12-09T06:38:00\",\"2020-12-10T03:07:32\",\"2020-12-17T09:43:25\",\"2020-12-20T01:10:53\",\"2020-12-09T13:35:52\",\"2020-12-12T16:19:45\",\"2020-12-09T20:31:34\",\"2020-12-12T06:54:37\",\"2020-12-14T06:35:05\",\"2020-12-09T00:43:35\",\"2020-12-16T09:41:03\",\"2020-12-22T12:24:53\",\"2020-12-09T09:48:00\",\"2020-12-10T18:44:17\",\"2020-12-11T13:20:19\",\"2020-12-13T07:28:00\",\"2020-12-09T20:47:31\",\"2020-12-10T02:50:01\",\"2020-12-19T18:21:21\",\"2020-12-10T04:27:12\",\"2020-12-10T01:34:00\",\"2020-12-11T15:25:11\",\"2020-12-12T23:49:20\",\"2020-12-13T15:20:24\",\"2020-12-14T06:03:53\",\"2020-12-18T04:23:50\",\"2020-12-10T20:05:34\",\"2020-12-12T04:54:42\",\"2020-12-22T01:58:49\",\"2020-12-10T16:08:07\",\"2020-12-10T15:51:38\",\"2020-12-11T05:17:20\",\"2020-12-16T23:49:15\",\"2020-12-10T15:53:03\",\"2020-12-10T22:11:32\",\"2020-12-11T07:14:29\",\"2020-12-10T05:01:36\",\"2020-12-11T10:59:57\",\"2020-12-14T04:03:46\",\"2020-12-20T04:36:41\",\"2020-12-23T09:52:11\",\"2020-12-10T04:54:35\",\"2020-12-20T08:13:58\",\"2020-12-10T20:28:38\",\"2020-12-18T12:53:19\",\"2020-12-22T12:30:48\",\"2020-12-10T02:06:35\",\"2020-12-15T19:18:39\",\"2020-12-10T16:13:50\",\"2020-12-11T15:56:32\",\"2020-12-15T04:59:00\",\"2020-12-10T22:13:29\",\"2020-12-11T02:32:27\",\"2020-12-10T01:10:38\",\"2020-12-11T18:13:17\",\"2020-12-20T00:34:28\",\"2020-12-24T19:24:44\",\"2020-12-10T22:40:48\",\"2020-12-11T10:59:49\",\"2020-12-12T14:20:43\",\"2020-12-14T03:03:12\",\"2020-12-10T08:20:32\",\"2020-12-12T22:59:33\",\"2020-12-10T14:34:34\",\"2020-12-11T13:33:40\",\"2020-12-15T17:06:52\",\"2020-12-11T16:11:43\",\"2020-12-13T06:50:25\",\"2020-12-11T11:08:17\",\"2020-12-15T03:38:42\",\"2020-12-19T00:20:34\",\"2020-12-11T12:01:03\",\"2020-12-19T16:53:33\",\"2020-12-11T15:43:52\",\"2020-12-12T17:05:26\",\"2020-12-17T07:53:12\",\"2020-12-11T21:57:34\",\"2020-12-12T03:11:34\",\"2020-12-13T18:23:51\",\"2020-12-11T07:54:20\",\"2020-12-12T06:19:19\",\"2020-12-13T07:49:41\",\"2020-12-14T23:10:02\",\"2020-12-24T12:02:41\",\"2020-12-11T11:00:39\",\"2020-12-13T02:52:06\",\"2020-12-15T19:13:21\",\"2020-12-11T02:30:08\",\"2020-12-12T06:52:20\",\"2020-12-13T01:13:01\",\"2020-12-14T11:31:32\",\"2020-12-11T17:15:28\",\"2020-12-13T03:36:37\",\"2020-12-21T20:13:02\",\"2020-12-11T10:01:58\",\"2020-12-12T23:20:26\",\"2020-12-17T16:52:49\",\"2020-12-11T17:48:48\",\"2020-12-12T07:52:29\",\"2020-12-13T07:59:00\",\"2020-12-11T07:44:26\",\"2020-12-14T16:16:53\",\"2020-12-20T08:03:33\",\"2020-12-22T11:03:27\",\"2020-12-11T21:54:49\",\"2020-12-17T13:45:44\",\"2020-12-24T03:57:11\",\"2020-12-11T07:00:53\",\"2020-12-12T14:18:20\",\"2020-12-16T22:21:58\",\"2020-12-20T15:18:20\",\"2020-12-23T22:24:51\",\"2020-12-11T11:16:37\",\"2020-12-13T01:15:10\",\"2020-12-11T07:31:53\",\"2020-12-12T14:21:13\",\"2020-12-11T07:59:52\",\"2020-12-12T05:45:12\",\"2020-12-14T01:56:04\",\"2020-12-18T05:27:05\",\"2020-12-11T09:01:33\",\"2020-12-12T17:25:01\",\"2020-12-11T11:48:30\",\"2020-12-13T19:29:32\",\"2020-12-14T16:48:44\",\"2020-12-15T04:43:15\",\"2020-12-18T22:16:11\",\"2020-12-11T00:06:13\",\"2020-12-12T21:46:53\",\"2020-12-14T19:32:23\",\"2020-12-17T12:17:54\",\"2020-12-22T09:25:20\",\"2020-12-11T22:39:46\",\"2020-12-12T18:33:46\",\"2020-12-13T20:01:18\",\"2020-12-17T23:38:35\",\"2020-12-20T16:26:24\",\"2020-12-11T00:12:52\",\"2020-12-11T11:57:55\",\"2020-12-12T19:54:26\",\"2020-12-15T22:33:07\",\"2020-12-11T22:45:30\",\"2020-12-14T13:44:35\",\"2020-12-18T01:31:06\",\"2020-12-12T08:38:57\",\"2020-12-14T16:33:11\",\"2020-12-20T16:31:28\",\"2020-12-12T17:41:42\",\"2020-12-13T08:28:22\",\"2020-12-14T02:42:06\",\"2020-12-22T07:57:10\",\"2020-12-12T01:48:48\",\"2020-12-12T02:08:26\",\"2020-12-14T02:37:00\",\"2020-12-16T19:05:54\",\"2020-12-12T23:15:03\",\"2020-12-18T06:42:14\",\"2020-12-23T03:21:16\",\"2020-12-12T20:33:16\",\"2020-12-14T03:06:58\",\"2020-12-22T07:15:05\",\"2020-12-12T02:44:54\",\"2020-12-13T03:49:54\",\"2020-12-21T05:12:34\",\"2020-12-24T21:07:09\",\"2020-12-12T09:06:29\",\"2020-12-14T18:31:19\",\"2020-12-12T09:11:22\",\"2020-12-13T07:01:52\",\"2020-12-15T02:36:06\",\"2020-12-22T11:36:55\",\"2020-12-12T04:04:08\",\"2020-12-13T11:17:32\",\"2020-12-14T13:16:10\",\"2020-12-19T08:46:20\",\"2020-12-20T18:39:48\",\"2020-12-12T09:26:47\",\"2020-12-17T01:26:56\",\"2020-12-25T08:10:22\",\"2020-12-12T23:56:30\",\"2020-12-13T05:54:30\",\"2020-12-16T07:12:47\",\"2020-12-18T05:46:40\",\"2020-12-20T09:40:38\",\"2020-12-12T03:16:00\",\"2020-12-18T13:03:30\",\"2020-12-12T11:36:39\",\"2020-12-13T12:43:38\",\"2020-12-15T10:32:03\",\"2020-12-18T22:07:32\",\"2020-12-19T16:58:03\",\"2020-12-12T02:47:16\",\"2020-12-14T16:22:11\",\"2020-12-23T20:01:37\",\"2020-12-25T14:26:21\",\"2020-12-12T04:43:12\",\"2020-12-16T15:22:58\",\"2020-12-21T21:41:22\",\"2020-12-12T17:32:21\",\"2020-12-13T16:28:49\",\"2020-12-20T10:11:59\",\"2020-12-13T01:33:20\",\"2020-12-17T00:41:06\",\"2020-12-13T00:43:07\",\"2020-12-14T22:34:19\",\"2020-12-22T20:46:16\",\"2020-12-13T04:31:32\",\"2020-12-14T15:27:39\",\"2020-12-15T15:54:16\",\"2020-12-13T06:00:21\",\"2020-12-15T06:42:51\",\"2020-12-17T03:29:11\",\"2020-12-13T16:07:53\",\"2020-12-17T02:14:31\",\"2020-12-27T06:14:30\",\"2020-12-13T14:54:55\",\"2020-12-14T14:40:15\",\"2020-12-16T03:25:13\",\"2020-12-13T16:09:46\",\"2020-12-21T15:45:50\",\"2020-12-13T22:11:47\",\"2020-12-14T14:06:38\",\"2020-12-18T01:04:48\",\"2020-12-13T05:48:49\",\"2020-12-16T07:03:23\",\"2020-12-17T16:46:05\",\"2020-12-13T20:18:52\",\"2020-12-14T18:38:57\",\"2020-12-16T16:22:29\",\"2020-12-20T02:49:39\",\"2020-12-13T08:31:01\",\"2020-12-14T23:13:31\",\"2020-12-16T16:55:40\",\"2020-12-17T12:39:00\",\"2020-12-13T17:06:55\",\"2020-12-15T00:31:32\",\"2020-12-16T01:33:57\",\"2020-12-13T02:54:34\",\"2020-12-17T01:49:55\",\"2020-12-25T15:35:14\",\"2020-12-13T16:42:25\",\"2020-12-14T16:06:00\",\"2020-12-13T12:42:54\",\"2020-12-14T06:28:13\",\"2020-12-23T09:35:58\",\"2020-12-26T04:10:04\",\"2020-12-13T01:28:18\",\"2020-12-15T14:36:37\",\"2020-12-19T16:10:56\",\"2020-12-20T08:40:02\",\"2020-12-22T05:51:43\",\"2020-12-26T03:29:02\",\"2020-12-13T06:02:33\",\"2020-12-17T03:37:39\",\"2020-12-14T12:38:10\",\"2020-12-15T13:05:59\",\"2020-12-16T13:52:28\",\"2020-12-20T14:27:55\",\"2020-12-25T11:27:16\",\"2020-12-27T21:16:07\",\"2020-12-14T06:07:42\",\"2020-12-16T22:51:41\",\"2020-12-17T17:12:48\",\"2020-12-19T12:51:36\",\"2020-12-23T05:28:29\",\"2020-12-14T23:10:41\",\"2020-12-15T08:07:17\",\"2020-12-22T22:39:41\",\"2020-12-14T02:27:04\",\"2020-12-20T04:43:53\",\"2020-12-14T11:40:42\",\"2020-12-17T11:16:35\",\"2020-12-14T01:15:27\",\"2020-12-16T06:31:55\",\"2020-12-18T10:35:59\",\"2020-12-19T18:02:31\",\"2020-12-14T15:45:04\",\"2020-12-15T09:39:28\",\"2020-12-16T08:02:24\",\"2020-12-14T04:39:25\",\"2020-12-15T10:23:02\",\"2020-12-17T16:10:56\",\"2020-12-20T02:20:00\",\"2020-12-22T10:57:41\",\"2020-12-25T22:36:41\",\"2020-12-14T14:51:15\",\"2020-12-15T22:47:19\",\"2020-12-16T13:58:19\",\"2020-12-23T16:10:56\",\"2020-12-14T12:23:10\",\"2020-12-16T10:17:24\",\"2020-12-19T02:38:59\",\"2020-12-14T10:17:18\",\"2020-12-15T01:37:02\",\"2020-12-16T19:10:29\",\"2020-12-18T17:15:47\",\"2020-12-28T04:14:31\",\"2020-12-14T22:20:19\",\"2020-12-15T07:21:31\",\"2020-12-18T20:09:14\",\"2020-12-21T17:59:39\",\"2020-12-14T19:14:42\",\"2020-12-15T12:56:38\",\"2020-12-17T20:42:19\",\"2020-12-23T08:43:41\",\"2020-12-14T22:36:15\",\"2020-12-16T06:09:28\",\"2020-12-14T19:40:47\",\"2020-12-15T11:02:41\",\"2020-12-25T01:41:21\",\"2020-12-14T11:50:05\",\"2020-12-15T12:49:18\",\"2020-12-27T09:53:59\",\"2020-12-14T04:38:34\",\"2020-12-14T18:27:25\",\"2020-12-19T06:25:55\",\"2020-12-22T15:40:10\",\"2020-12-14T17:29:24\",\"2020-12-16T00:09:27\",\"2020-12-14T21:28:05\",\"2020-12-16T19:56:33\",\"2020-12-18T19:16:21\",\"2020-12-22T07:19:34\",\"2020-12-23T10:14:56\",\"2020-12-14T02:36:31\",\"2020-12-15T10:40:44\",\"2020-12-19T23:50:51\",\"2020-12-14T09:18:51\",\"2020-12-15T15:35:41\",\"2020-12-14T07:46:16\",\"2020-12-19T06:51:55\",\"2020-12-22T13:38:34\",\"2020-12-27T00:10:04\",\"2020-12-14T09:36:14\",\"2020-12-14T21:29:22\",\"2020-12-16T10:23:27\",\"2020-12-14T10:01:14\",\"2020-12-15T22:46:17\",\"2020-12-14T18:51:32\",\"2020-12-18T04:20:27\",\"2020-12-14T13:39:03\",\"2020-12-15T11:19:26\",\"2020-12-17T12:33:16\",\"2020-12-14T22:59:19\",\"2020-12-19T08:28:48\",\"2020-12-14T10:07:32\",\"2020-12-15T06:25:23\",\"2020-12-16T01:16:47\",\"2020-12-25T12:41:12\",\"2020-12-14T20:29:42\",\"2020-12-14T08:53:17\",\"2020-12-19T05:40:42\",\"2020-12-24T22:52:22\",\"2020-12-14T09:20:07\",\"2020-12-15T03:25:48\",\"2020-12-21T20:18:25\",\"2020-12-14T09:51:25\",\"2020-12-16T01:11:26\",\"2020-12-14T13:05:31\",\"2020-12-16T17:50:42\",\"2020-12-20T01:21:04\",\"2020-12-24T19:12:21\",\"2020-12-14T08:40:53\",\"2020-12-15T12:53:29\",\"2020-12-16T04:05:28\",\"2020-12-14T04:56:33\",\"2020-12-15T05:57:20\",\"2020-12-14T20:17:06\",\"2020-12-16T23:58:03\",\"2020-12-21T07:26:55\",\"2020-12-22T23:18:27\",\"2020-12-23T06:25:59\",\"2020-12-14T16:27:57\",\"2020-12-15T16:11:23\",\"2020-12-16T00:54:32\",\"2020-12-18T11:18:43\",\"2020-12-21T11:24:09\",\"2020-12-25T17:11:01\",\"2020-12-14T01:18:08\",\"2020-12-16T01:04:02\",\"2020-12-14T00:55:59\",\"2020-12-16T04:46:17\",\"2020-12-17T11:33:55\",\"2020-12-21T03:27:43\",\"2020-12-24T21:27:16\",\"2020-12-28T17:43:19\",\"2020-12-14T21:11:51\",\"2020-12-17T23:58:08\",\"2020-12-25T23:51:06\",\"2020-12-14T09:04:25\",\"2020-12-18T16:39:31\",\"2020-12-14T23:10:15\",\"2020-12-15T17:37:44\",\"2020-12-16T06:32:41\",\"2020-12-27T16:43:03\",\"2020-12-14T13:23:45\",\"2020-12-15T11:13:07\",\"2020-12-22T07:35:50\",\"2020-12-25T05:01:21\",\"2020-12-27T04:57:36\",\"2020-12-14T09:17:54\",\"2020-12-15T14:16:49\",\"2020-12-16T00:24:50\",\"2020-12-19T00:41:04\",\"2020-12-22T00:43:48\",\"2020-12-14T01:13:02\",\"2020-12-16T01:31:30\",\"2020-12-18T00:16:37\",\"2020-12-19T12:31:48\",\"2020-12-27T09:54:49\",\"2020-12-14T04:21:41\",\"2020-12-19T13:37:39\",\"2020-12-21T16:54:02\",\"2020-12-22T22:18:49\",\"2020-12-23T12:26:34\",\"2020-12-14T02:10:39\",\"2020-12-22T20:02:30\",\"2020-12-14T17:28:32\",\"2020-12-15T05:35:34\",\"2020-12-16T23:35:36\",\"2020-12-19T17:41:56\",\"2020-12-22T06:12:31\",\"2020-12-14T10:59:42\",\"2020-12-15T07:00:49\",\"2020-12-16T01:49:47\",\"2020-12-17T00:58:11\",\"2020-12-14T10:31:48\",\"2020-12-15T20:27:39\",\"2020-12-20T05:55:08\",\"2020-12-26T02:10:28\",\"2020-12-14T19:37:38\",\"2020-12-15T16:57:40\",\"2020-12-16T02:15:29\",\"2020-12-17T12:40:24\",\"2020-12-23T09:40:04\",\"2020-12-26T08:56:55\",\"2020-12-14T01:37:26\",\"2020-12-16T02:33:39\",\"2020-12-17T12:14:20\",\"2020-12-19T18:12:53\",\"2020-12-14T17:22:27\",\"2020-12-15T18:44:48\",\"2020-12-24T17:21:20\",\"2020-12-14T03:39:52\",\"2020-12-15T10:29:30\",\"2020-12-17T02:03:57\",\"2020-12-20T05:27:34\",\"2020-12-26T11:37:30\",\"2020-12-14T05:30:32\",\"2020-12-15T13:50:05\",\"2020-12-21T02:43:43\",\"2020-12-14T09:21:38\",\"2020-12-15T21:19:07\",\"2020-12-16T00:40:54\",\"2020-12-17T23:58:19\",\"2020-12-18T11:42:43\",\"2020-12-21T18:19:26\",\"2020-12-14T15:31:32\",\"2020-12-15T14:44:50\",\"2020-12-16T21:47:35\",\"2020-12-20T09:54:28\",\"2020-12-14T13:50:25\",\"2020-12-15T09:15:49\",\"2020-12-19T13:26:17\",\"2020-12-22T05:07:33\",\"2020-12-14T17:32:11\",\"2020-12-15T00:28:17\",\"2020-12-16T00:12:40\",\"2020-12-21T20:50:55\",\"2020-12-14T09:18:29\",\"2020-12-15T14:31:04\",\"2020-12-16T03:03:44\",\"2020-12-17T06:23:44\",\"2020-12-14T03:39:55\",\"2020-12-16T08:17:53\",\"2020-12-19T07:07:15\",\"2020-12-14T03:43:19\",\"2020-12-17T07:55:56\",\"2020-12-19T06:39:15\",\"2020-12-20T19:17:40\",\"2020-12-14T17:42:08\",\"2020-12-17T07:45:54\",\"2020-12-22T07:53:56\",\"2020-12-14T16:40:32\",\"2020-12-15T07:05:12\",\"2020-12-21T09:53:45\",\"2020-12-23T17:23:45\",\"2020-12-14T13:03:14\",\"2020-12-26T23:02:20\",\"2020-12-14T00:20:58\",\"2020-12-15T06:41:04\",\"2020-12-17T12:53:35\",\"2020-12-18T14:27:03\",\"2020-12-19T10:21:39\",\"2020-12-22T02:30:08\",\"2020-12-14T07:21:21\",\"2020-12-20T18:49:49\",\"2020-12-15T08:55:31\",\"2020-12-18T13:23:52\",\"2020-12-15T01:21:30\",\"2020-12-15T13:38:58\",\"2020-12-16T01:35:20\",\"2020-12-18T21:05:31\",\"2020-12-15T14:40:35\",\"2020-12-16T16:00:57\",\"2020-12-29T14:59:06\",\"2020-12-15T17:58:30\",\"2020-12-19T22:22:47\",\"2020-12-21T11:55:07\",\"2020-12-15T15:27:09\",\"2020-12-20T03:21:43\",\"2020-12-22T04:34:36\",\"2020-12-15T05:58:26\",\"2020-12-16T04:37:36\",\"2020-12-17T09:48:48\",\"2020-12-18T21:44:41\",\"2020-12-24T06:29:47\",\"2020-12-26T04:37:34\",\"2020-12-15T22:09:19\",\"2020-12-18T12:43:54\",\"2020-12-15T10:40:50\",\"2020-12-16T01:31:57\",\"2020-12-29T23:01:38\",\"2020-12-15T16:50:33\",\"2020-12-16T23:22:06\",\"2020-12-17T12:09:32\",\"2020-12-18T16:31:56\",\"2020-12-20T23:38:28\",\"2020-12-15T05:46:56\",\"2020-12-16T20:58:35\",\"2020-12-17T11:42:05\",\"2020-12-21T07:14:46\",\"2020-12-15T16:40:40\",\"2020-12-18T19:36:10\",\"2020-12-24T20:30:32\",\"2020-12-15T05:51:24\",\"2020-12-16T06:57:32\",\"2020-12-17T07:19:22\",\"2020-12-18T13:31:04\",\"2020-12-15T14:37:53\",\"2020-12-16T00:37:48\",\"2020-12-19T22:48:25\",\"2020-12-21T23:03:36\",\"2020-12-23T18:35:54\",\"2020-12-25T18:42:02\",\"2020-12-15T14:24:46\",\"2020-12-24T19:29:08\",\"2020-12-26T16:04:42\",\"2020-12-15T01:23:51\",\"2020-12-16T02:33:46\",\"2020-12-20T20:30:35\",\"2020-12-15T11:36:55\",\"2020-12-17T20:13:22\",\"2020-12-19T05:05:05\",\"2020-12-20T23:45:14\",\"2020-12-15T18:24:24\",\"2020-12-16T08:53:35\",\"2020-12-17T12:00:28\",\"2020-12-18T09:21:06\",\"2020-12-24T02:59:42\",\"2020-12-29T03:20:50\",\"2020-12-15T19:16:32\",\"2020-12-16T18:01:48\",\"2020-12-17T00:00:50\",\"2020-12-18T20:56:49\",\"2020-12-22T02:00:41\",\"2020-12-27T19:44:39\",\"2020-12-15T00:11:11\",\"2020-12-16T00:51:13\",\"2020-12-23T13:42:46\",\"2020-12-25T16:11:27\",\"2020-12-15T07:29:21\",\"2020-12-17T02:16:41\",\"2020-12-19T13:47:27\",\"2020-12-15T10:25:28\",\"2020-12-20T11:39:20\",\"2020-12-26T15:06:39\",\"2020-12-15T06:46:19\",\"2020-12-17T00:47:54\",\"2020-12-19T19:28:13\",\"2020-12-21T04:11:06\",\"2020-12-24T13:20:47\",\"2020-12-15T05:48:21\",\"2020-12-18T00:46:17\",\"2020-12-19T08:14:25\",\"2020-12-22T07:40:53\",\"2020-12-24T19:58:22\",\"2020-12-15T16:17:29\",\"2020-12-17T10:20:51\",\"2020-12-18T05:05:35\",\"2020-12-23T19:22:45\",\"2020-12-27T22:50:53\",\"2020-12-15T21:38:03\",\"2020-12-19T14:52:17\",\"2020-12-15T21:55:14\",\"2020-12-17T08:04:28\",\"2020-12-18T23:13:18\",\"2020-12-20T13:10:07\",\"2020-12-24T03:40:56\",\"2020-12-28T17:35:39\",\"2020-12-15T03:30:46\",\"2020-12-21T01:00:08\",\"2020-12-15T21:05:09\",\"2020-12-16T10:13:28\",\"2020-12-23T05:05:46\",\"2020-12-15T17:51:31\",\"2020-12-20T18:00:15\",\"2020-12-15T07:17:44\",\"2020-12-16T01:20:37\",\"2020-12-19T21:34:26\",\"2020-12-27T22:50:46\",\"2020-12-16T19:27:04\",\"2020-12-18T08:05:39\",\"2020-12-20T18:49:29\",\"2020-12-16T18:59:08\",\"2020-12-17T07:14:15\",\"2020-12-27T06:03:06\",\"2020-12-16T14:34:40\",\"2020-12-17T00:41:48\",\"2020-12-22T20:47:05\",\"2020-12-24T23:46:33\",\"2020-12-16T05:49:11\",\"2020-12-16T15:08:26\",\"2020-12-16T11:09:17\",\"2020-12-18T23:47:10\",\"2020-12-20T19:03:25\",\"2020-12-25T15:05:33\",\"2020-12-16T02:20:05\",\"2020-12-20T21:20:48\",\"2020-12-16T02:38:10\",\"2020-12-17T03:58:45\",\"2020-12-25T07:26:27\",\"2020-12-16T02:02:00\",\"2020-12-18T13:26:12\",\"2020-12-21T03:14:15\",\"2020-12-25T02:11:22\",\"2020-12-16T14:43:38\",\"2020-12-18T02:30:51\",\"2020-12-24T07:38:34\",\"2020-12-16T10:09:22\",\"2020-12-17T20:47:09\",\"2020-12-18T04:43:56\",\"2020-12-19T20:03:11\",\"2020-12-20T07:21:52\",\"2020-12-16T09:27:48\",\"2020-12-16T17:25:12\",\"2020-12-17T02:26:36\",\"2020-12-19T04:28:03\",\"2020-12-21T14:14:02\",\"2020-12-29T11:48:58\",\"2020-12-16T02:46:38\",\"2020-12-21T03:06:10\",\"2020-12-23T21:24:14\",\"2020-12-16T21:40:58\",\"2020-12-20T14:13:58\",\"2020-12-22T19:35:12\",\"2020-12-16T01:28:09\",\"2020-12-17T10:40:06\",\"2020-12-16T18:48:56\",\"2020-12-19T10:44:23\",\"2020-12-21T01:03:14\",\"2020-12-26T23:16:36\",\"2020-12-16T06:22:27\",\"2020-12-17T14:34:34\",\"2020-12-19T23:47:17\",\"2020-12-27T22:09:34\",\"2020-12-16T07:59:05\",\"2020-12-17T08:03:12\",\"2020-12-18T01:58:43\",\"2020-12-16T11:43:52\",\"2020-12-17T02:54:08\",\"2020-12-18T21:50:28\",\"2020-12-21T18:21:08\",\"2020-12-24T18:37:28\",\"2020-12-16T09:32:42\",\"2020-12-17T01:56:40\",\"2020-12-20T09:29:11\",\"2020-12-16T05:16:39\",\"2020-12-18T21:08:20\",\"2020-12-20T06:57:25\",\"2020-12-21T22:13:29\",\"2020-12-23T14:49:44\",\"2020-12-16T13:19:17\",\"2020-12-18T22:01:54\",\"2020-12-21T08:57:33\",\"2020-12-16T07:05:00\",\"2020-12-17T22:35:21\",\"2020-12-19T06:57:40\",\"2020-12-17T22:07:58\",\"2020-12-18T16:38:37\",\"2020-12-19T11:25:28\",\"2020-12-20T08:57:49\",\"2020-12-17T09:41:44\",\"2020-12-18T14:22:53\",\"2020-12-22T02:24:34\",\"2020-12-17T17:33:30\",\"2020-12-18T09:35:53\",\"2020-12-19T10:35:09\",\"2020-12-17T10:09:20\",\"2020-12-19T08:21:01\",\"2020-12-20T03:05:47\",\"2020-12-27T23:11:48\",\"2020-12-17T03:31:08\",\"2020-12-18T20:45:21\",\"2020-12-17T00:19:21\",\"2020-12-20T22:54:18\",\"2020-12-22T17:23:32\",\"2020-12-17T08:46:36\",\"2020-12-18T17:44:25\",\"2020-12-19T23:18:02\",\"2020-12-26T15:47:09\",\"2020-12-17T06:34:02\",\"2020-12-18T18:59:21\",\"2020-12-22T04:29:18\",\"2020-12-23T18:09:50\",\"2020-12-26T21:44:00\",\"2020-12-17T18:27:51\",\"2020-12-23T12:12:33\",\"2020-12-29T21:53:39\",\"2020-12-17T07:39:51\",\"2020-12-18T19:49:51\",\"2020-12-24T13:12:16\",\"2020-12-17T06:48:14\",\"2020-12-18T08:47:50\",\"2020-12-21T18:09:26\",\"2020-12-17T00:14:03\",\"2020-12-18T03:21:57\",\"2020-12-17T10:12:22\",\"2020-12-17T03:05:21\",\"2020-12-18T03:07:03\",\"2020-12-19T09:06:56\",\"2020-12-23T02:03:23\",\"2020-12-17T02:51:58\",\"2020-12-18T03:19:29\",\"2020-12-19T20:47:25\",\"2020-12-27T05:33:50\",\"2020-12-17T10:09:26\",\"2020-12-18T20:29:13\",\"2020-12-19T06:30:08\",\"2020-12-29T04:00:53\",\"2020-12-17T04:31:19\",\"2020-12-19T23:52:37\",\"2020-12-20T11:35:04\",\"2020-12-23T12:19:22\",\"2020-12-17T04:17:03\",\"2020-12-20T01:59:22\",\"2020-12-27T23:29:42\",\"2020-12-17T09:18:47\",\"2020-12-18T04:32:21\",\"2020-12-23T16:41:44\",\"2020-12-17T15:55:34\",\"2020-12-21T00:11:37\",\"2020-12-22T20:59:01\",\"2020-12-24T03:09:31\",\"2020-12-17T04:56:28\",\"2020-12-18T01:08:15\",\"2020-12-24T09:03:32\",\"2020-12-17T02:36:49\",\"2020-12-17T01:04:11\",\"2020-12-18T04:13:09\",\"2020-12-25T04:59:45\",\"2020-12-17T21:28:03\",\"2020-12-20T00:36:10\",\"2020-12-17T10:47:31\",\"2020-12-18T01:16:16\",\"2020-12-22T01:27:26\",\"2020-12-28T11:37:21\",\"2020-12-17T06:49:05\",\"2020-12-19T22:10:21\",\"2020-12-23T21:45:43\",\"2020-12-26T19:46:20\",\"2020-12-27T10:07:20\",\"2020-12-29T17:39:13\",\"2020-12-17T12:24:08\",\"2020-12-18T23:45:13\",\"2020-12-23T03:32:21\",\"2020-12-17T08:45:52\",\"2020-12-19T23:30:22\",\"2020-12-20T18:41:25\",\"2020-12-17T02:09:03\",\"2020-12-27T09:22:36\",\"2020-12-18T19:24:49\",\"2020-12-19T16:11:49\",\"2020-12-27T21:29:39\",\"2020-12-18T14:52:27\",\"2020-12-20T15:05:20\",\"2020-12-22T21:23:27\",\"2020-12-24T04:45:45\",\"2020-12-18T01:31:50\",\"2020-12-19T04:53:17\",\"2020-12-18T22:34:47\",\"2020-12-21T12:46:01\",\"2020-12-23T06:20:32\",\"2020-12-18T09:39:48\",\"2020-12-19T15:57:53\",\"2020-12-18T20:27:29\",\"2020-12-21T02:02:55\",\"2020-12-18T04:02:38\",\"2020-12-19T07:22:28\",\"2020-12-18T23:49:06\",\"2020-12-20T16:24:35\",\"2020-12-18T19:08:01\",\"2020-12-20T13:59:09\",\"2020-12-21T19:57:03\",\"2020-12-25T01:17:44\",\"2020-12-18T04:35:35\",\"2020-12-18T08:20:28\",\"2020-12-23T20:56:32\",\"2020-12-18T11:02:38\",\"2020-12-20T08:12:28\",\"2020-12-21T04:58:07\",\"2020-12-26T14:13:27\",\"2020-12-27T16:12:48\",\"2020-12-18T23:56:53\",\"2020-12-19T22:15:21\",\"2020-12-20T07:39:53\",\"2020-12-22T01:26:23\",\"2020-12-18T06:37:46\",\"2020-12-19T06:46:24\",\"2020-12-29T06:48:54\",\"2020-12-18T12:04:51\",\"2020-12-20T05:39:20\",\"2020-12-22T20:24:29\",\"2020-12-26T03:50:10\",\"2020-12-28T10:59:59\",\"2020-12-18T21:21:25\",\"2020-12-20T22:32:10\",\"2020-12-23T07:14:36\",\"2020-12-18T18:40:32\",\"2020-12-19T05:40:28\",\"2020-12-20T17:53:48\",\"2020-12-18T22:11:25\",\"2020-12-21T13:01:19\",\"2020-12-25T01:07:19\",\"2020-12-29T03:27:46\",\"2020-12-18T17:30:18\",\"2020-12-19T00:56:04\",\"2020-12-20T10:11:22\",\"2020-12-21T20:44:43\",\"2020-12-18T10:20:40\",\"2020-12-22T14:44:19\",\"2020-12-18T17:36:12\",\"2020-12-19T02:53:01\",\"2020-12-21T03:25:58\",\"2020-12-27T20:47:41\",\"2020-12-18T15:19:11\",\"2020-12-29T04:08:10\",\"2020-12-18T18:40:44\",\"2020-12-20T18:35:25\",\"2020-12-18T00:24:46\",\"2020-12-19T13:05:37\",\"2020-12-20T22:13:23\",\"2020-12-21T06:00:47\",\"2020-12-25T10:58:05\",\"2020-12-18T01:12:17\",\"2020-12-19T23:31:38\",\"2020-12-18T11:14:31\",\"2020-12-21T07:35:25\",\"2020-12-22T20:06:31\",\"2020-12-24T21:13:26\",\"2020-12-18T15:31:11\",\"2020-12-18T11:54:44\",\"2020-12-19T13:44:47\",\"2020-12-26T15:05:15\",\"2020-12-18T03:49:42\",\"2020-12-20T00:31:33\",\"2020-12-24T11:43:50\",\"2020-12-18T16:55:08\",\"2020-12-19T22:59:25\",\"2020-12-21T16:30:39\",\"2020-12-22T09:02:35\",\"2020-12-18T14:21:20\",\"2020-12-19T10:29:52\",\"2020-12-25T16:21:40\",\"2020-12-27T04:32:21\",\"2020-12-18T04:19:16\",\"2020-12-28T21:55:47\",\"2020-12-18T12:22:29\",\"2020-12-19T12:34:47\",\"2020-12-21T02:40:14\",\"2020-12-22T17:33:23\",\"2020-12-18T05:09:09\",\"2020-12-20T05:51:42\",\"2020-12-19T16:21:38\",\"2020-12-23T12:54:46\",\"2020-12-19T03:05:25\",\"2020-12-21T06:36:50\",\"2020-12-23T20:44:14\",\"2020-12-19T21:33:32\",\"2020-12-19T19:11:41\",\"2020-12-21T22:44:43\",\"2020-12-19T05:51:55\",\"2020-12-23T03:31:38\",\"2020-12-24T22:50:02\",\"2020-12-19T10:40:58\",\"2020-12-23T13:00:28\",\"2020-12-28T00:16:28\",\"2020-12-19T22:11:38\",\"2020-12-20T11:21:27\",\"2020-12-26T07:09:01\",\"2020-12-19T10:33:19\",\"2020-12-22T21:54:46\",\"2020-12-24T06:38:30\",\"2020-12-19T10:31:52\",\"2020-12-21T14:53:24\",\"2020-12-19T19:25:53\",\"2020-12-21T16:04:31\",\"2020-12-24T18:25:15\",\"2020-12-29T06:24:08\",\"2020-12-19T06:27:16\",\"2020-12-20T09:07:10\",\"2020-12-22T14:08:12\",\"2020-12-24T03:12:25\",\"2020-12-19T09:33:15\",\"2020-12-21T11:14:19\",\"2020-12-25T04:02:43\",\"2020-12-27T16:42:12\",\"2020-12-19T16:23:23\",\"2020-12-20T04:31:59\",\"2020-12-22T03:36:15\",\"2020-12-23T06:17:50\",\"2020-12-24T04:50:26\",\"2020-12-29T11:02:16\",\"2020-12-19T16:22:08\",\"2020-12-20T17:07:30\",\"2020-12-21T18:53:31\",\"2020-12-23T22:09:38\",\"2020-12-19T01:26:06\",\"2020-12-20T03:17:58\",\"2020-12-22T19:53:14\",\"2020-12-27T12:06:15\",\"2020-12-19T09:22:47\",\"2020-12-20T05:12:37\",\"2020-12-21T01:09:10\",\"2020-12-25T00:44:03\",\"2020-12-19T23:17:03\",\"2020-12-21T03:04:39\",\"2020-12-28T13:18:44\",\"2020-12-19T06:07:24\",\"2020-12-19T21:22:03\",\"2020-12-20T08:07:31\",\"2020-12-21T04:23:49\",\"2020-12-24T00:19:57\",\"2020-12-28T06:09:21\",\"2020-12-29T05:37:26\",\"2020-12-19T02:29:25\",\"2020-12-20T17:30:27\",\"2020-12-19T22:25:05\",\"2020-12-20T21:10:22\",\"2020-12-28T19:45:10\",\"2020-12-19T07:16:50\",\"2020-12-20T07:08:48\",\"2020-12-21T14:27:37\",\"2020-12-19T21:42:57\",\"2020-12-21T03:47:39\",\"2020-12-25T00:27:50\",\"2020-12-19T08:22:57\",\"2020-12-20T17:41:56\",\"2020-12-19T04:23:48\",\"2020-12-20T13:03:11\",\"2020-12-23T10:43:05\",\"2020-12-26T02:35:24\",\"2020-12-27T07:27:50\",\"2020-12-19T04:18:45\",\"2020-12-19T23:09:09\",\"2020-12-23T22:48:13\",\"2020-12-27T14:40:15\",\"2020-12-29T20:36:58\",\"2020-12-19T09:22:04\",\"2020-12-20T02:51:00\",\"2020-12-21T16:29:08\",\"2020-12-23T01:58:54\",\"2020-12-19T14:38:37\",\"2020-12-20T02:46:30\",\"2020-12-19T14:55:04\",\"2020-12-21T06:38:23\",\"2020-12-22T14:54:27\",\"2020-12-28T22:59:02\",\"2020-12-19T02:54:49\",\"2020-12-21T02:40:06\",\"2020-12-22T01:09:06\",\"2020-12-19T06:18:18\",\"2020-12-20T23:44:02\",\"2020-12-22T20:22:05\",\"2020-12-27T02:16:08\",\"2020-12-19T23:35:55\",\"2020-12-21T16:15:21\",\"2020-12-29T02:01:21\",\"2020-12-19T11:56:21\",\"2020-12-20T08:02:21\",\"2020-12-19T21:12:03\",\"2020-12-20T18:59:54\",\"2020-12-22T07:05:32\",\"2020-12-27T14:34:06\",\"2020-12-19T13:09:58\",\"2020-12-20T01:18:27\",\"2020-12-23T18:39:46\",\"2020-12-19T00:03:47\",\"2020-12-20T00:28:43\",\"2020-12-25T16:27:29\",\"2020-12-19T07:41:01\",\"2020-12-23T13:03:39\",\"2020-12-19T07:21:21\",\"2020-12-21T08:59:06\",\"2020-12-26T17:41:30\",\"2020-12-28T07:09:33\",\"2020-12-29T22:54:39\",\"2020-12-19T12:50:50\",\"2020-12-21T17:46:55\",\"2020-12-23T08:32:32\",\"2020-12-28T17:48:07\",\"2020-12-19T02:41:55\",\"2020-12-20T09:17:36\",\"2020-12-22T05:31:31\",\"2020-12-28T22:22:23\",\"2020-12-20T09:15:26\",\"2020-12-20T09:14:26\",\"2020-12-24T04:18:05\",\"2020-12-28T19:12:01\",\"2020-12-20T21:58:15\",\"2020-12-23T14:06:42\",\"2020-12-20T04:02:29\",\"2020-12-22T00:20:22\",\"2020-12-23T17:05:21\",\"2020-12-26T06:46:48\",\"2020-12-20T15:35:45\",\"2020-12-24T05:32:34\",\"2020-12-29T14:38:37\",\"2020-12-20T16:10:02\",\"2020-12-23T19:00:02\",\"2020-12-26T05:09:27\",\"2020-12-29T15:16:27\",\"2020-12-20T03:58:10\",\"2020-12-21T20:46:55\",\"2020-12-22T03:54:08\",\"2020-12-26T10:04:22\",\"2020-12-20T23:40:20\",\"2020-12-21T16:55:45\",\"2020-12-23T10:30:05\",\"2020-12-20T13:09:22\",\"2020-12-20T00:53:55\",\"2020-12-21T02:53:20\",\"2020-12-25T00:36:00\",\"2020-12-26T10:40:08\",\"2020-12-20T00:01:55\",\"2020-12-29T07:01:51\",\"2020-12-20T01:13:04\",\"2020-12-21T03:57:26\",\"2020-12-22T05:57:19\",\"2020-12-20T10:47:41\",\"2020-12-22T23:39:30\",\"2020-12-20T16:26:33\",\"2020-12-20T03:50:16\",\"2020-12-21T17:37:30\",\"2020-12-23T04:55:15\",\"2020-12-26T00:26:49\",\"2020-12-20T11:25:30\",\"2020-12-21T09:22:39\",\"2020-12-20T10:54:32\",\"2020-12-28T13:10:36\",\"2020-12-20T15:59:58\",\"2020-12-23T22:24:54\",\"2020-12-24T21:01:52\",\"2020-12-20T04:46:00\",\"2020-12-22T14:53:20\",\"2020-12-25T16:08:16\",\"2020-12-26T09:30:34\",\"2020-12-20T11:32:46\",\"2020-12-24T14:39:56\",\"2020-12-20T13:53:31\",\"2020-12-22T23:28:10\",\"2020-12-26T18:22:55\",\"2020-12-28T14:11:01\",\"2020-12-20T02:13:08\",\"2020-12-21T05:25:42\",\"2020-12-24T01:58:12\",\"2020-12-25T07:36:05\",\"2020-12-20T06:33:41\",\"2020-12-21T02:12:40\",\"2020-12-26T14:03:14\",\"2020-12-28T01:59:23\",\"2020-12-20T22:55:01\",\"2020-12-23T15:33:11\",\"2020-12-27T11:02:28\",\"2020-12-20T15:43:53\",\"2020-12-21T02:50:36\",\"2020-12-22T04:43:07\",\"2020-12-24T21:50:40\",\"2020-12-20T02:52:16\",\"2020-12-22T10:00:57\",\"2020-12-20T07:26:48\",\"2020-12-22T09:18:08\",\"2020-12-23T07:14:15\",\"2020-12-25T15:56:45\",\"2020-12-20T18:42:30\",\"2020-12-21T23:35:45\",\"2020-12-22T17:49:16\",\"2020-12-24T18:17:30\",\"2020-12-25T19:44:25\",\"2020-12-29T16:17:53\",\"2020-12-20T12:53:58\",\"2020-12-22T15:13:01\",\"2020-12-26T13:32:47\",\"2020-12-28T04:56:58\",\"2020-12-20T13:47:07\",\"2020-12-21T10:42:48\",\"2020-12-22T14:31:58\",\"2020-12-23T06:09:20\",\"2020-12-20T06:41:11\",\"2020-12-21T17:58:54\",\"2020-12-20T16:16:06\",\"2020-12-21T17:14:58\",\"2020-12-25T14:23:47\",\"2020-12-20T11:20:32\",\"2020-12-21T18:00:42\",\"2020-12-23T09:30:11\",\"2020-12-27T10:48:40\",\"2020-12-20T16:33:43\",\"2020-12-20T19:38:34\",\"2020-12-24T09:25:15\",\"2020-12-20T20:23:37\",\"2020-12-27T13:07:16\",\"2020-12-20T18:53:45\",\"2020-12-21T02:39:48\",\"2020-12-22T08:25:23\",\"2020-12-20T10:09:28\",\"2020-12-21T23:59:39\",\"2020-12-22T00:25:01\",\"2020-12-25T05:30:37\",\"2020-12-20T08:30:43\",\"2020-12-23T20:56:36\",\"2020-12-24T09:04:16\",\"2020-12-20T19:05:05\",\"2020-12-21T00:16:33\",\"2020-12-22T14:58:45\",\"2020-12-25T08:40:00\",\"2020-12-20T18:04:41\",\"2020-12-21T19:42:43\",\"2020-12-20T16:13:17\",\"2020-12-21T05:14:03\",\"2020-12-22T02:13:19\",\"2020-12-26T19:41:05\",\"2020-12-28T05:13:33\",\"2020-12-20T09:37:08\",\"2020-12-27T08:32:12\",\"2020-12-20T04:04:27\",\"2020-12-21T04:26:57\",\"2020-12-22T18:02:26\",\"2020-12-21T17:44:37\",\"2020-12-22T19:33:25\",\"2020-12-23T20:50:09\",\"2020-12-29T14:27:57\",\"2020-12-21T05:24:15\",\"2020-12-22T18:47:10\",\"2020-12-25T10:50:13\",\"2020-12-29T06:08:48\",\"2020-12-21T05:43:17\",\"2020-12-24T20:23:43\",\"2020-12-27T05:01:49\",\"2020-12-21T08:43:30\",\"2020-12-22T04:30:56\",\"2020-12-23T18:00:32\",\"2020-12-24T12:24:35\",\"2020-12-25T11:19:52\",\"2020-12-21T17:23:34\",\"2020-12-22T04:37:21\",\"2020-12-26T07:07:18\",\"2020-12-21T02:04:27\",\"2020-12-22T01:23:26\",\"2020-12-23T02:57:00\",\"2020-12-21T17:37:21\",\"2020-12-23T03:28:29\",\"2020-12-24T17:15:35\",\"2020-12-25T02:12:33\",\"2020-12-21T09:38:07\",\"2020-12-22T05:35:25\",\"2020-12-23T23:27:26\",\"2020-12-28T01:00:09\",\"2020-12-29T22:12:11\",\"2020-12-21T10:12:52\",\"2020-12-22T09:01:48\",\"2020-12-21T05:41:27\",\"2020-12-22T19:36:02\",\"2020-12-24T19:25:10\",\"2020-12-21T21:51:01\",\"2020-12-22T01:30:58\",\"2020-12-23T10:24:46\",\"2020-12-21T04:07:11\",\"2020-12-27T19:41:45\",\"2020-12-21T04:29:28\",\"2020-12-22T05:44:12\",\"2020-12-21T15:35:55\",\"2020-12-22T07:04:02\",\"2020-12-23T14:47:13\",\"2020-12-29T09:20:56\",\"2020-12-21T01:15:49\",\"2020-12-22T07:42:01\",\"2020-12-23T05:42:21\",\"2020-12-27T21:02:28\",\"2020-12-21T08:59:00\",\"2020-12-22T19:20:10\",\"2020-12-24T22:41:18\",\"2020-12-28T02:48:00\",\"2020-12-21T15:20:22\",\"2020-12-23T22:46:55\",\"2020-12-21T18:22:33\",\"2020-12-22T07:51:33\",\"2020-12-23T02:06:47\",\"2020-12-21T01:03:51\",\"2020-12-22T04:44:34\",\"2020-12-27T23:14:23\",\"2020-12-21T17:38:57\",\"2020-12-22T08:43:29\",\"2020-12-26T04:01:04\",\"2020-12-21T06:21:44\",\"2020-12-21T05:11:49\",\"2020-12-21T22:40:22\",\"2020-12-22T06:12:11\",\"2020-12-23T20:59:16\",\"2020-12-25T15:20:28\",\"2020-12-26T08:43:23\",\"2020-12-21T18:21:31\",\"2020-12-28T10:14:45\",\"2020-12-21T12:14:02\",\"2020-12-22T11:56:07\",\"2020-12-23T11:51:20\",\"2020-12-28T23:40:39\",\"2020-12-21T14:22:38\",\"2020-12-22T22:51:31\",\"2020-12-21T20:41:21\",\"2020-12-22T12:49:59\",\"2020-12-21T00:57:07\",\"2020-12-22T10:26:05\",\"2020-12-23T05:18:19\",\"2020-12-27T17:43:52\",\"2020-12-21T19:22:15\",\"2020-12-23T11:55:56\",\"2020-12-27T08:53:44\",\"2020-12-28T17:02:07\",\"2020-12-21T02:01:44\",\"2020-12-22T03:54:05\",\"2020-12-21T12:31:27\",\"2020-12-22T20:36:38\",\"2020-12-26T01:52:37\",\"2020-12-21T02:01:02\",\"2020-12-24T07:33:26\",\"2020-12-25T14:00:35\",\"2020-12-26T23:22:43\",\"2020-12-21T22:57:06\",\"2020-12-26T10:53:29\",\"2020-12-21T11:14:50\",\"2020-12-24T12:16:01\",\"2020-12-21T05:04:55\",\"2020-12-22T03:43:25\",\"2020-12-21T16:40:40\",\"2020-12-22T16:41:11\",\"2020-12-21T19:55:24\",\"2020-12-22T23:59:32\",\"2020-12-21T09:02:17\",\"2020-12-22T12:25:44\",\"2020-12-24T11:08:34\",\"2020-12-21T22:05:03\",\"2020-12-22T03:38:41\",\"2020-12-21T20:00:20\",\"2020-12-22T09:19:18\",\"2020-12-23T17:11:57\",\"2020-12-25T15:36:02\",\"2020-12-21T23:38:26\",\"2020-12-22T22:30:15\",\"2020-12-24T15:21:36\",\"2020-12-21T04:48:56\",\"2020-12-25T02:14:23\",\"2020-12-21T21:30:10\",\"2020-12-23T02:26:20\",\"2020-12-28T18:42:25\",\"2020-12-21T16:02:41\",\"2020-12-23T04:45:46\",\"2020-12-21T15:28:17\",\"2020-12-22T09:24:38\",\"2020-12-23T15:26:56\",\"2020-12-24T06:27:30\",\"2020-12-21T11:00:55\",\"2020-12-22T17:13:59\",\"2020-12-25T13:13:27\",\"2020-12-21T08:19:03\",\"2020-12-22T19:44:27\",\"2020-12-23T10:54:18\",\"2020-12-25T19:36:01\",\"2020-12-21T20:14:01\",\"2020-12-23T14:53:36\",\"2020-12-29T15:11:09\",\"2020-12-21T11:02:59\",\"2020-12-21T19:01:49\",\"2020-12-26T18:30:01\",\"2020-12-28T12:31:09\",\"2020-12-21T09:35:14\",\"2020-12-22T12:02:11\",\"2020-12-25T07:27:45\",\"2020-12-21T20:20:59\",\"2020-12-22T10:07:10\",\"2020-12-23T01:37:53\",\"2020-12-21T14:24:55\",\"2020-12-23T06:48:21\",\"2020-12-25T05:33:57\",\"2020-12-21T14:38:00\",\"2020-12-23T14:08:42\",\"2020-12-24T08:17:39\",\"2020-12-27T18:37:28\",\"2020-12-21T05:42:57\",\"2020-12-29T00:06:13\",\"2020-12-21T00:30:33\",\"2020-12-25T05:30:42\",\"2020-12-21T21:07:23\",\"2020-12-22T18:03:16\",\"2020-12-21T19:39:33\",\"2020-12-23T23:49:44\",\"2020-12-21T21:00:29\",\"2020-12-25T14:51:55\",\"2020-12-21T02:00:09\",\"2020-12-22T07:20:52\",\"2020-12-24T11:43:47\",\"2020-12-26T20:30:32\",\"2020-12-21T08:22:09\",\"2020-12-28T14:50:13\",\"2020-12-21T21:15:57\",\"2020-12-23T11:10:59\",\"2020-12-29T07:38:17\",\"2020-12-21T16:07:32\",\"2020-12-22T15:12:07\",\"2020-12-25T15:29:39\",\"2020-12-21T22:35:13\",\"2020-12-22T02:46:06\",\"2020-12-24T17:28:54\",\"2020-12-29T01:14:35\",\"2020-12-21T23:44:48\",\"2020-12-23T12:35:00\",\"2020-12-24T05:46:54\",\"2020-12-21T01:04:40\",\"2020-12-21T10:45:55\",\"2020-12-22T18:26:18\",\"2020-12-23T17:46:11\",\"2020-12-24T12:13:27\",\"2020-12-21T21:33:51\",\"2020-12-22T02:37:07\",\"2020-12-23T00:17:05\",\"2020-12-27T06:23:44\",\"2020-12-21T14:54:23\",\"2020-12-21T17:13:14\",\"2020-12-22T06:06:56\",\"2020-12-21T08:27:25\",\"2020-12-23T09:33:33\",\"2020-12-24T22:36:55\",\"2020-12-21T17:37:03\",\"2020-12-22T15:02:52\",\"2020-12-23T17:17:11\",\"2020-12-21T19:10:10\",\"2020-12-23T14:14:46\",\"2020-12-21T17:51:44\",\"2020-12-22T16:02:18\",\"2020-12-27T10:53:34\",\"2020-12-21T02:51:45\"],\"type\":\"histogram\",\"opacity\":0.75},{\"name\":\"\\u0413\\u0440\\u0443\\u043f\\u043f\\u0430 B\",\"x\":[\"2020-12-07T06:31:24\",\"2020-12-09T15:39:47\",\"2020-12-11T10:06:37\",\"2020-12-12T04:30:41\",\"2020-12-16T09:28:37\",\"2020-12-07T06:31:26\",\"2020-12-09T15:39:49\",\"2020-12-11T10:06:37\",\"2020-12-12T04:30:43\",\"2020-12-16T09:28:37\",\"2020-12-07T06:31:24\",\"2020-12-09T15:39:47\",\"2020-12-11T10:06:37\",\"2020-12-12T04:30:41\",\"2020-12-16T09:28:37\",\"2020-12-07T18:48:26\",\"2020-12-15T10:22:27\",\"2020-12-07T18:48:27\",\"2020-12-15T10:22:28\",\"2020-12-07T18:48:26\",\"2020-12-15T10:22:27\",\"2020-12-07T18:48:26\",\"2020-12-15T10:22:27\",\"2020-12-07T11:26:47\",\"2020-12-08T08:31:25\",\"2020-12-10T23:11:31\",\"2020-12-12T04:00:21\",\"2020-12-07T11:26:48\",\"2020-12-08T08:31:27\",\"2020-12-10T23:11:34\",\"2020-12-12T04:00:22\",\"2020-12-07T11:26:47\",\"2020-12-08T08:31:27\",\"2020-12-10T23:11:33\",\"2020-12-12T04:00:21\",\"2020-12-07T11:26:47\",\"2020-12-08T08:31:25\",\"2020-12-10T23:11:31\",\"2020-12-12T04:00:21\",\"2020-12-07T08:01:55\",\"2020-12-08T04:04:59\",\"2020-12-17T17:39:09\",\"2020-12-20T06:05:12\",\"2020-12-07T08:01:55\",\"2020-12-17T17:39:09\",\"2020-12-20T06:05:12\",\"2020-12-07T03:05:05\",\"2020-12-08T05:44:51\",\"2020-12-09T03:29:12\",\"2020-12-10T19:42:47\",\"2020-12-12T03:12:19\",\"2020-12-08T05:44:51\",\"2020-12-09T03:29:12\",\"2020-12-10T19:42:48\",\"2020-12-12T03:12:19\",\"2020-12-08T05:44:51\",\"2020-12-09T03:29:12\",\"2020-12-10T19:42:47\",\"2020-12-12T03:12:19\",\"2020-12-07T13:36:54\",\"2020-12-07T13:36:54\",\"2020-12-07T09:27:00\",\"2020-12-09T17:26:17\",\"2020-12-07T09:27:03\",\"2020-12-09T17:26:17\",\"2020-12-07T09:27:00\",\"2020-12-09T17:26:17\",\"2020-12-07T08:25:53\",\"2020-12-09T01:46:46\",\"2020-12-11T01:52:09\",\"2020-12-07T08:25:54\",\"2020-12-09T01:46:48\",\"2020-12-11T01:52:10\",\"2020-12-07T08:25:53\",\"2020-12-09T01:46:46\",\"2020-12-11T01:52:09\",\"2020-12-07T01:46:33\",\"2020-12-07T01:46:33\",\"2020-12-07T01:46:33\",\"2020-12-07T16:28:15\",\"2020-12-09T03:21:02\",\"2020-12-07T16:28:15\",\"2020-12-09T03:21:03\",\"2020-12-07T16:28:15\",\"2020-12-09T03:21:02\",\"2020-12-07T15:06:04\",\"2020-12-08T08:50:28\",\"2020-12-10T09:42:09\",\"2020-12-13T08:37:28\",\"2020-12-18T15:00:41\",\"2020-12-07T15:06:04\",\"2020-12-08T08:50:28\",\"2020-12-10T09:42:09\",\"2020-12-13T08:37:28\",\"2020-12-18T15:00:41\",\"2020-12-07T22:33:04\",\"2020-12-17T00:21:04\",\"2020-12-07T22:33:04\",\"2020-12-08T22:29:58\",\"2020-12-17T00:21:04\",\"2020-12-07T22:33:04\",\"2020-12-08T22:29:55\",\"2020-12-17T00:21:04\",\"2020-12-07T22:33:04\",\"2020-12-08T22:29:55\",\"2020-12-17T00:21:04\",\"2020-12-07T13:28:52\",\"2020-12-09T20:44:57\",\"2020-12-11T23:36:04\",\"2020-12-13T17:14:31\",\"2020-12-17T11:36:11\",\"2020-12-07T13:28:52\",\"2020-12-09T20:44:57\",\"2020-12-11T23:36:04\",\"2020-12-13T17:14:33\",\"2020-12-17T11:36:13\",\"2020-12-07T13:28:54\",\"2020-12-09T20:44:58\",\"2020-12-11T23:36:06\",\"2020-12-13T17:14:32\",\"2020-12-17T11:36:14\",\"2020-12-07T13:28:52\",\"2020-12-09T20:44:57\",\"2020-12-11T23:36:04\",\"2020-12-13T17:14:31\",\"2020-12-17T11:36:11\",\"2020-12-07T02:38:27\",\"2020-12-12T17:53:22\",\"2020-12-19T02:53:45\",\"2020-12-07T02:38:27\",\"2020-12-12T17:53:22\",\"2020-12-19T02:53:45\",\"2020-12-07T04:15:10\",\"2020-12-08T17:25:42\",\"2020-12-07T04:15:10\",\"2020-12-08T17:25:42\",\"2020-12-07T08:55:18\",\"2020-12-09T08:33:50\",\"2020-12-15T11:35:22\",\"2020-12-07T08:55:18\",\"2020-12-08T11:37:51\",\"2020-12-09T08:33:52\",\"2020-12-15T11:35:22\",\"2020-12-07T08:55:18\",\"2020-12-08T11:37:51\",\"2020-12-09T08:33:50\",\"2020-12-15T11:35:22\",\"2020-12-07T10:45:31\",\"2020-12-09T17:35:20\",\"2020-12-10T05:56:07\",\"2020-12-07T10:45:36\",\"2020-12-09T17:35:20\",\"2020-12-10T05:56:07\",\"2020-12-07T10:45:33\",\"2020-12-09T17:35:21\",\"2020-12-10T05:56:07\",\"2020-12-07T10:45:31\",\"2020-12-09T17:35:20\",\"2020-12-10T05:56:07\",\"2020-12-07T21:41:31\",\"2020-12-10T04:38:46\",\"2020-12-13T07:41:40\",\"2020-12-14T19:11:26\",\"2020-12-07T21:41:31\",\"2020-12-10T04:38:46\",\"2020-12-13T07:41:40\",\"2020-12-14T19:11:26\",\"2020-12-07T18:10:54\",\"2020-12-10T06:08:54\",\"2020-12-13T13:13:52\",\"2020-12-10T06:08:54\",\"2020-12-13T13:13:53\",\"2020-12-10T06:08:54\",\"2020-12-13T13:13:52\",\"2020-12-07T15:21:38\",\"2020-12-09T21:22:19\",\"2020-12-07T15:21:40\",\"2020-12-09T21:22:19\",\"2020-12-07T15:21:38\",\"2020-12-09T21:22:19\",\"2020-12-07T00:07:47\",\"2020-12-08T02:44:25\",\"2020-12-07T00:07:49\",\"2020-12-08T02:44:26\",\"2020-12-07T00:07:48\",\"2020-12-08T02:44:31\",\"2020-12-07T00:07:47\",\"2020-12-08T02:44:25\",\"2020-12-07T01:57:30\",\"2020-12-08T10:22:07\",\"2020-12-08T10:22:08\",\"2020-12-08T10:22:09\",\"2020-12-08T10:22:07\",\"2020-12-07T21:56:13\",\"2020-12-10T15:39:20\",\"2020-12-20T16:16:52\",\"2020-12-10T15:39:23\",\"2020-12-20T16:16:52\",\"2020-12-10T15:39:20\",\"2020-12-20T16:16:52\",\"2020-12-07T14:18:05\",\"2020-12-08T12:30:09\",\"2020-12-11T03:45:51\",\"2020-12-13T06:00:22\",\"2020-12-19T19:25:19\",\"2020-12-07T14:18:07\",\"2020-12-08T12:30:11\",\"2020-12-11T03:45:52\",\"2020-12-13T06:00:22\",\"2020-12-19T19:25:20\",\"2020-12-07T14:18:05\",\"2020-12-08T12:30:09\",\"2020-12-11T03:45:51\",\"2020-12-13T06:00:22\",\"2020-12-19T19:25:19\",\"2020-12-07T18:39:10\",\"2020-12-09T08:37:21\",\"2020-12-11T04:05:15\",\"2020-12-16T20:40:36\",\"2020-12-07T18:39:11\",\"2020-12-09T08:37:21\",\"2020-12-11T04:05:15\",\"2020-12-16T20:40:37\",\"2020-12-07T18:39:10\",\"2020-12-09T08:37:21\",\"2020-12-11T04:05:15\",\"2020-12-16T20:40:36\",\"2020-12-07T13:00:18\",\"2020-12-09T17:10:19\",\"2020-12-14T10:26:16\",\"2020-12-07T13:00:19\",\"2020-12-09T17:10:20\",\"2020-12-14T10:26:17\",\"2020-12-07T13:00:18\",\"2020-12-09T17:10:19\",\"2020-12-14T10:26:16\",\"2020-12-07T01:50:41\",\"2020-12-08T20:31:35\",\"2020-12-11T11:16:52\",\"2020-12-07T01:50:41\",\"2020-12-08T20:31:36\",\"2020-12-11T11:16:52\",\"2020-12-07T01:50:41\",\"2020-12-08T20:31:35\",\"2020-12-11T11:16:52\",\"2020-12-07T14:30:04\",\"2020-12-09T06:17:21\",\"2020-12-07T14:30:04\",\"2020-12-09T06:17:22\",\"2020-12-07T14:30:04\",\"2020-12-09T06:17:21\",\"2020-12-07T11:33:02\",\"2020-12-08T20:17:12\",\"2020-12-11T15:20:38\",\"2020-12-13T15:44:57\",\"2020-12-16T19:47:53\",\"2020-12-07T11:33:05\",\"2020-12-08T20:17:13\",\"2020-12-11T15:20:39\",\"2020-12-13T15:45:00\",\"2020-12-16T19:47:54\",\"2020-12-07T11:33:02\",\"2020-12-08T20:17:15\",\"2020-12-11T15:20:40\",\"2020-12-13T15:44:58\",\"2020-12-16T19:47:54\",\"2020-12-07T11:33:02\",\"2020-12-08T20:17:12\",\"2020-12-11T15:20:38\",\"2020-12-13T15:44:57\",\"2020-12-16T19:47:53\",\"2020-12-07T13:05:38\",\"2020-12-08T12:18:08\",\"2020-12-07T13:05:38\",\"2020-12-08T12:18:08\",\"2020-12-07T13:05:38\",\"2020-12-08T12:18:08\",\"2020-12-07T22:03:57\",\"2020-12-08T08:13:19\",\"2020-12-07T22:03:58\",\"2020-12-08T08:13:20\",\"2020-12-07T22:03:57\",\"2020-12-08T08:13:19\",\"2020-12-07T20:23:11\",\"2020-12-08T11:11:37\",\"2020-12-09T11:37:46\",\"2020-12-18T18:19:01\",\"2020-12-07T20:23:12\",\"2020-12-08T11:11:39\",\"2020-12-09T11:37:46\",\"2020-12-18T18:19:03\",\"2020-12-07T20:23:11\",\"2020-12-08T11:11:37\",\"2020-12-09T11:37:46\",\"2020-12-18T18:19:01\",\"2020-12-07T06:23:24\",\"2020-12-08T17:59:18\",\"2020-12-09T04:15:18\",\"2020-12-10T06:11:39\",\"2020-12-13T09:14:25\",\"2020-12-07T06:23:24\",\"2020-12-08T17:59:18\",\"2020-12-09T04:15:18\",\"2020-12-10T06:11:39\",\"2020-12-13T09:14:25\",\"2020-12-07T09:05:55\",\"2020-12-08T10:29:42\",\"2020-12-07T09:05:55\",\"2020-12-08T10:29:44\",\"2020-12-07T09:05:56\",\"2020-12-08T10:29:43\",\"2020-12-07T09:05:55\",\"2020-12-08T10:29:42\",\"2020-12-07T06:31:09\",\"2020-12-08T09:09:56\",\"2020-12-07T06:31:11\",\"2020-12-08T09:09:59\",\"2020-12-07T06:31:09\",\"2020-12-08T09:09:56\",\"2020-12-07T11:35:19\",\"2020-12-19T07:21:50\",\"2020-12-07T11:35:22\",\"2020-12-19T07:21:50\",\"2020-12-07T11:35:19\",\"2020-12-19T07:21:52\",\"2020-12-07T11:35:19\",\"2020-12-19T07:21:50\",\"2020-12-07T12:29:49\",\"2020-12-12T02:33:09\",\"2020-12-14T20:12:54\",\"2020-12-07T12:29:49\",\"2020-12-12T02:33:09\",\"2020-12-14T20:12:54\",\"2020-12-07T08:13:14\",\"2020-12-08T19:55:26\",\"2020-12-09T16:55:39\",\"2020-12-19T00:08:05\",\"2020-12-07T08:13:14\",\"2020-12-08T19:55:26\",\"2020-12-09T16:55:39\",\"2020-12-19T00:08:05\",\"2020-12-07T22:07:55\",\"2020-12-08T08:57:03\",\"2020-12-16T04:37:05\",\"2020-12-18T22:50:05\",\"2020-12-21T04:40:03\",\"2020-12-07T22:07:59\",\"2020-12-08T08:57:05\",\"2020-12-16T04:37:05\",\"2020-12-18T22:50:05\",\"2020-12-21T04:40:05\",\"2020-12-07T22:07:58\",\"2020-12-08T08:57:04\",\"2020-12-16T04:37:07\",\"2020-12-18T22:50:06\",\"2020-12-21T04:40:03\",\"2020-12-07T22:07:55\",\"2020-12-08T08:57:03\",\"2020-12-16T04:37:05\",\"2020-12-18T22:50:05\",\"2020-12-21T04:40:03\",\"2020-12-07T12:10:40\",\"2020-12-07T12:10:41\",\"2020-12-07T12:10:40\",\"2020-12-07T14:30:06\",\"2020-12-07T14:30:06\",\"2020-12-07T14:30:06\",\"2020-12-07T04:36:14\",\"2020-12-14T10:31:09\",\"2020-12-07T04:36:14\",\"2020-12-14T10:31:09\",\"2020-12-07T18:11:53\",\"2020-12-08T01:26:38\",\"2020-12-12T04:46:35\",\"2020-12-19T06:32:23\",\"2020-12-21T19:25:30\",\"2020-12-07T18:11:54\",\"2020-12-08T01:26:39\",\"2020-12-12T04:46:37\",\"2020-12-19T06:32:24\",\"2020-12-21T19:25:30\",\"2020-12-07T18:11:53\",\"2020-12-08T01:26:38\",\"2020-12-12T04:46:35\",\"2020-12-19T06:32:23\",\"2020-12-21T19:25:30\",\"2020-12-07T13:16:32\",\"2020-12-13T04:41:30\",\"2020-12-15T13:36:38\",\"2020-12-13T04:41:31\",\"2020-12-15T13:36:42\",\"2020-12-13T04:41:30\",\"2020-12-15T13:36:38\",\"2020-12-07T08:21:08\",\"2020-12-08T06:42:18\",\"2020-12-21T19:44:22\",\"2020-12-08T06:42:18\",\"2020-12-21T19:44:22\",\"2020-12-07T15:20:06\",\"2020-12-10T09:29:45\",\"2020-12-07T15:20:06\",\"2020-12-10T09:29:45\",\"2020-12-07T15:20:06\",\"2020-12-10T09:29:45\",\"2020-12-07T19:36:06\",\"2020-12-12T00:27:59\",\"2020-12-15T20:55:04\",\"2020-12-07T19:36:06\",\"2020-12-12T00:28:00\",\"2020-12-15T20:55:06\",\"2020-12-07T19:36:06\",\"2020-12-12T00:27:59\",\"2020-12-15T20:55:04\",\"2020-12-07T17:26:01\",\"2020-12-13T02:57:45\",\"2020-12-07T17:26:01\",\"2020-12-13T02:57:45\",\"2020-12-07T17:26:01\",\"2020-12-13T02:57:45\",\"2020-12-07T04:17:47\",\"2020-12-07T18:59:17\",\"2020-12-10T09:16:39\",\"2020-12-14T23:59:17\",\"2020-12-07T18:59:18\",\"2020-12-10T09:16:40\",\"2020-12-14T23:59:19\",\"2020-12-07T18:59:17\",\"2020-12-10T09:16:39\",\"2020-12-14T23:59:17\",\"2020-12-07T20:11:44\",\"2020-12-08T22:15:07\",\"2020-12-10T22:02:37\",\"2020-12-11T14:07:11\",\"2020-12-14T16:48:18\",\"2020-12-15T20:22:29\",\"2020-12-07T20:11:44\",\"2020-12-08T22:15:10\",\"2020-12-10T22:02:39\",\"2020-12-11T14:07:12\",\"2020-12-14T16:48:18\",\"2020-12-15T20:22:31\",\"2020-12-07T20:11:44\",\"2020-12-08T22:15:09\",\"2020-12-10T22:02:39\",\"2020-12-11T14:07:11\",\"2020-12-14T16:48:18\",\"2020-12-15T20:22:33\",\"2020-12-07T20:11:44\",\"2020-12-08T22:15:07\",\"2020-12-10T22:02:37\",\"2020-12-11T14:07:11\",\"2020-12-14T16:48:18\",\"2020-12-15T20:22:29\",\"2020-12-07T22:59:24\",\"2020-12-08T13:47:41\",\"2020-12-07T22:59:26\",\"2020-12-08T13:47:41\",\"2020-12-07T22:59:24\",\"2020-12-08T13:47:41\",\"2020-12-07T21:05:15\",\"2020-12-07T21:05:15\",\"2020-12-07T21:05:15\",\"2020-12-07T05:29:21\",\"2020-12-07T05:29:22\",\"2020-12-07T05:29:21\",\"2020-12-07T05:29:21\",\"2020-12-07T19:11:09\",\"2020-12-07T19:11:09\",\"2020-12-09T14:30:07\",\"2020-12-07T19:11:09\",\"2020-12-09T14:30:07\",\"2020-12-07T17:49:16\",\"2020-12-08T15:39:01\",\"2020-12-09T14:54:03\",\"2020-12-13T11:26:36\",\"2020-12-15T15:58:47\",\"2020-12-16T16:33:03\",\"2020-12-19T14:18:14\",\"2020-12-07T17:49:18\",\"2020-12-08T15:39:01\",\"2020-12-09T14:54:03\",\"2020-12-13T11:26:38\",\"2020-12-15T15:58:47\",\"2020-12-16T16:33:05\",\"2020-12-19T14:18:15\",\"2020-12-07T17:49:16\",\"2020-12-08T15:39:01\",\"2020-12-09T14:54:03\",\"2020-12-13T11:26:36\",\"2020-12-15T15:58:47\",\"2020-12-16T16:33:03\",\"2020-12-19T14:18:14\",\"2020-12-07T01:20:31\",\"2020-12-09T00:15:48\",\"2020-12-14T23:58:55\",\"2020-12-18T08:00:41\",\"2020-12-07T01:20:31\",\"2020-12-09T00:15:48\",\"2020-12-14T23:58:55\",\"2020-12-18T08:00:41\",\"2020-12-07T19:07:30\",\"2020-12-11T04:04:17\",\"2020-12-07T19:07:31\",\"2020-12-11T04:04:17\",\"2020-12-07T19:07:30\",\"2020-12-11T04:04:17\",\"2020-12-07T10:28:03\",\"2020-12-09T19:16:52\",\"2020-12-09T19:16:52\",\"2020-12-09T19:16:52\",\"2020-12-09T19:16:52\",\"2020-12-08T21:18:41\",\"2020-12-08T21:18:45\",\"2020-12-08T21:18:41\",\"2020-12-08T13:37:43\",\"2020-12-11T09:45:30\",\"2020-12-13T06:57:25\",\"2020-12-08T13:37:43\",\"2020-12-11T09:45:31\",\"2020-12-13T06:57:28\",\"2020-12-08T13:37:43\",\"2020-12-11T09:45:30\",\"2020-12-13T06:57:25\",\"2020-12-08T23:28:03\",\"2020-12-20T05:18:21\",\"2020-12-08T23:28:03\",\"2020-12-20T05:18:21\",\"2020-12-08T02:23:36\",\"2020-12-10T08:31:05\",\"2020-12-08T02:23:36\",\"2020-12-10T08:31:05\",\"2020-12-08T01:45:54\",\"2020-12-11T22:32:38\",\"2020-12-08T01:45:56\",\"2020-12-11T22:32:38\",\"2020-12-08T01:45:54\",\"2020-12-11T22:32:38\",\"2020-12-08T03:41:52\",\"2020-12-19T17:02:17\",\"2020-12-08T03:41:53\",\"2020-12-19T17:02:17\",\"2020-12-08T03:41:52\",\"2020-12-19T17:02:17\",\"2020-12-08T08:51:49\",\"2020-12-10T12:52:38\",\"2020-12-08T08:51:49\",\"2020-12-10T12:52:38\",\"2020-12-08T08:51:49\",\"2020-12-10T12:52:38\",\"2020-12-08T15:58:10\",\"2020-12-09T14:35:59\",\"2020-12-08T15:58:11\",\"2020-12-09T14:36:01\",\"2020-12-08T15:58:10\",\"2020-12-09T14:35:59\",\"2020-12-08T09:05:56\",\"2020-12-11T17:51:59\",\"2020-12-08T09:05:57\",\"2020-12-11T17:52:00\",\"2020-12-08T09:05:56\",\"2020-12-11T17:51:59\",\"2020-12-08T13:23:03\",\"2020-12-09T09:40:18\",\"2020-12-08T13:23:03\",\"2020-12-09T09:40:18\",\"2020-12-09T03:37:04\",\"2020-12-08T10:57:59\",\"2020-12-09T03:37:04\",\"2020-12-09T13:59:47\",\"2020-12-20T11:30:44\",\"2020-12-08T21:06:35\",\"2020-12-09T13:59:50\",\"2020-12-20T11:30:45\",\"2020-12-08T21:06:34\",\"2020-12-09T13:59:50\",\"2020-12-20T11:30:45\",\"2020-12-08T21:06:33\",\"2020-12-09T13:59:47\",\"2020-12-20T11:30:44\",\"2020-12-09T14:06:07\",\"2020-12-12T22:43:59\",\"2020-12-13T03:07:20\",\"2020-12-16T23:03:51\",\"2020-12-23T06:38:49\",\"2020-12-09T14:06:07\",\"2020-12-12T22:44:01\",\"2020-12-13T03:07:20\",\"2020-12-16T23:03:51\",\"2020-12-23T06:38:49\",\"2020-12-09T14:06:07\",\"2020-12-12T22:44:01\",\"2020-12-13T03:07:22\",\"2020-12-16T23:03:51\",\"2020-12-23T06:38:50\",\"2020-12-09T14:06:07\",\"2020-12-12T22:43:59\",\"2020-12-13T03:07:20\",\"2020-12-16T23:03:51\",\"2020-12-23T06:38:49\",\"2020-12-09T03:09:05\",\"2020-12-09T03:09:05\",\"2020-12-09T20:40:21\",\"2020-12-09T20:40:22\",\"2020-12-09T20:40:21\",\"2020-12-09T16:38:38\",\"2020-12-10T06:58:17\",\"2020-12-13T20:24:44\",\"2020-12-17T05:00:05\",\"2020-12-09T16:38:38\",\"2020-12-10T06:58:21\",\"2020-12-13T20:24:45\",\"2020-12-17T05:00:05\",\"2020-12-09T16:38:38\",\"2020-12-10T06:58:17\",\"2020-12-13T20:24:44\",\"2020-12-17T05:00:05\",\"2020-12-09T09:22:37\",\"2020-12-11T16:13:04\",\"2020-12-15T04:42:16\",\"2020-12-09T09:22:37\",\"2020-12-11T16:13:04\",\"2020-12-15T04:42:16\",\"2020-12-09T11:47:23\",\"2020-12-18T05:27:20\",\"2020-12-09T11:47:25\",\"2020-12-18T05:27:20\",\"2020-12-09T11:47:23\",\"2020-12-18T05:27:20\",\"2020-12-09T06:09:16\",\"2020-12-16T03:29:24\",\"2020-12-09T06:09:16\",\"2020-12-16T03:29:24\",\"2020-12-09T19:24:40\",\"2020-12-10T11:55:06\",\"2020-12-13T19:33:48\",\"2020-12-21T15:01:17\",\"2020-12-09T19:24:40\",\"2020-12-10T11:55:06\",\"2020-12-13T19:33:49\",\"2020-12-21T15:01:17\",\"2020-12-09T19:24:40\",\"2020-12-10T11:55:06\",\"2020-12-13T19:33:48\",\"2020-12-21T15:01:17\",\"2020-12-09T02:26:35\",\"2020-12-16T01:55:40\",\"2020-12-17T17:21:58\",\"2020-12-09T02:26:35\",\"2020-12-16T01:55:40\",\"2020-12-17T17:21:58\",\"2020-12-09T13:20:43\",\"2020-12-10T01:24:05\",\"2020-12-15T05:07:31\",\"2020-12-09T13:20:46\",\"2020-12-10T01:24:06\",\"2020-12-15T05:07:32\",\"2020-12-09T13:20:43\",\"2020-12-10T01:24:05\",\"2020-12-15T05:07:31\",\"2020-12-09T07:41:05\",\"2020-12-10T13:27:24\",\"2020-12-13T20:55:37\",\"2020-12-15T19:52:18\",\"2020-12-16T11:28:48\",\"2020-12-09T07:41:05\",\"2020-12-10T13:27:24\",\"2020-12-13T20:55:37\",\"2020-12-15T19:52:25\",\"2020-12-16T11:28:49\",\"2020-12-09T07:41:05\",\"2020-12-10T13:27:24\",\"2020-12-13T20:55:37\",\"2020-12-15T19:52:18\",\"2020-12-16T11:28:48\",\"2020-12-09T17:44:59\",\"2020-12-12T22:26:54\",\"2020-12-20T01:23:02\",\"2020-12-22T23:52:52\",\"2020-12-09T17:44:59\",\"2020-12-12T22:26:54\",\"2020-12-20T01:23:02\",\"2020-12-22T23:52:52\",\"2020-12-09T18:11:26\",\"2020-12-09T18:11:26\",\"2020-12-09T13:45:49\",\"2020-12-10T10:15:20\",\"2020-12-12T05:01:00\",\"2020-12-13T19:08:38\",\"2020-12-15T19:27:40\",\"2020-12-17T20:39:36\",\"2020-12-09T13:45:50\",\"2020-12-10T10:15:20\",\"2020-12-12T05:01:03\",\"2020-12-13T19:08:38\",\"2020-12-15T19:27:40\",\"2020-12-17T20:39:36\",\"2020-12-09T13:45:49\",\"2020-12-10T10:15:20\",\"2020-12-12T05:01:00\",\"2020-12-13T19:08:38\",\"2020-12-15T19:27:40\",\"2020-12-17T20:39:36\",\"2020-12-09T05:51:49\",\"2020-12-09T05:51:51\",\"2020-12-09T05:51:49\",\"2020-12-09T22:56:22\",\"2020-12-14T16:34:06\",\"2020-12-09T22:56:23\",\"2020-12-14T16:34:06\",\"2020-12-09T22:56:22\",\"2020-12-14T16:34:06\",\"2020-12-09T19:01:05\",\"2020-12-20T16:13:54\",\"2020-12-09T19:01:05\",\"2020-12-20T16:13:55\",\"2020-12-09T19:01:05\",\"2020-12-20T16:13:54\",\"2020-12-10T11:17:34\",\"2020-12-10T11:17:37\",\"2020-12-10T11:17:34\",\"2020-12-10T16:46:46\",\"2020-12-10T16:46:46\",\"2020-12-10T22:17:20\",\"2020-12-12T03:53:15\",\"2020-12-10T22:17:23\",\"2020-12-12T03:53:15\",\"2020-12-10T22:17:20\",\"2020-12-12T03:53:19\",\"2020-12-10T22:17:20\",\"2020-12-12T03:53:15\",\"2020-12-10T23:00:44\",\"2020-12-11T10:35:53\",\"2020-12-13T15:01:17\",\"2020-12-17T00:07:03\",\"2020-12-10T23:00:45\",\"2020-12-11T10:35:56\",\"2020-12-13T15:01:18\",\"2020-12-17T00:07:04\",\"2020-12-10T23:00:44\",\"2020-12-11T10:35:53\",\"2020-12-13T15:01:17\",\"2020-12-17T00:07:03\",\"2020-12-10T13:56:34\",\"2020-12-14T13:56:03\",\"2020-12-10T13:56:36\",\"2020-12-14T13:56:05\",\"2020-12-10T13:56:34\",\"2020-12-14T13:56:03\",\"2020-12-10T15:54:32\",\"2020-12-12T07:43:20\",\"2020-12-10T15:54:32\",\"2020-12-12T07:43:20\",\"2020-12-10T11:54:18\",\"2020-12-12T06:15:39\",\"2020-12-19T23:03:33\",\"2020-12-10T11:54:18\",\"2020-12-12T06:15:41\",\"2020-12-19T23:03:33\",\"2020-12-10T11:54:18\",\"2020-12-12T06:15:39\",\"2020-12-19T23:03:33\",\"2020-12-10T13:50:25\",\"2020-12-16T11:27:14\",\"2020-12-10T13:50:25\",\"2020-12-16T11:27:14\",\"2020-12-10T13:50:25\",\"2020-12-16T11:27:14\",\"2020-12-11T05:22:36\",\"2020-12-11T05:22:38\",\"2020-12-11T05:22:36\",\"2020-12-11T15:58:32\",\"2020-12-11T15:58:33\",\"2020-12-11T15:58:32\",\"2020-12-12T17:09:22\",\"2020-12-13T22:54:09\",\"2020-12-12T17:09:22\",\"2020-12-13T22:54:09\",\"2020-12-12T01:22:56\",\"2020-12-13T07:01:35\",\"2020-12-14T02:44:22\",\"2020-12-12T01:22:56\",\"2020-12-13T07:01:35\",\"2020-12-14T02:44:23\",\"2020-12-12T01:22:56\",\"2020-12-13T07:01:35\",\"2020-12-14T02:44:22\",\"2020-12-12T23:48:47\",\"2020-12-12T23:48:47\",\"2020-12-12T23:48:47\",\"2020-12-12T20:37:57\",\"2020-12-15T06:34:19\",\"2020-12-12T20:38:00\",\"2020-12-15T06:34:23\",\"2020-12-12T20:37:59\",\"2020-12-15T06:34:19\",\"2020-12-12T20:37:57\",\"2020-12-15T06:34:19\",\"2020-12-12T04:10:04\",\"2020-12-12T04:10:04\",\"2020-12-12T04:10:04\",\"2020-12-12T21:14:08\",\"2020-12-13T20:03:52\",\"2020-12-17T02:36:14\",\"2020-12-12T21:14:11\",\"2020-12-13T20:03:52\",\"2020-12-17T02:36:17\",\"2020-12-12T21:14:08\",\"2020-12-13T20:03:52\",\"2020-12-17T02:36:14\",\"2020-12-12T10:05:37\",\"2020-12-13T01:11:57\",\"2020-12-16T04:49:20\",\"2020-12-12T10:05:37\",\"2020-12-13T01:11:57\",\"2020-12-16T04:49:20\",\"2020-12-12T10:05:37\",\"2020-12-13T01:11:57\",\"2020-12-16T04:49:20\",\"2020-12-12T21:24:47\",\"2020-12-14T01:02:21\",\"2020-12-15T19:34:02\",\"2020-12-21T23:02:12\",\"2020-12-12T21:24:47\",\"2020-12-14T01:02:22\",\"2020-12-15T19:34:02\",\"2020-12-21T23:02:12\",\"2020-12-12T21:24:47\",\"2020-12-14T01:02:21\",\"2020-12-15T19:34:02\",\"2020-12-21T23:02:12\",\"2020-12-12T16:25:52\",\"2020-12-14T04:42:50\",\"2020-12-12T16:25:52\",\"2020-12-14T04:42:50\",\"2020-12-12T04:35:11\",\"2020-12-13T01:38:43\",\"2020-12-14T04:59:27\",\"2020-12-16T12:10:00\",\"2020-12-25T18:37:29\",\"2020-12-12T04:35:11\",\"2020-12-13T01:38:43\",\"2020-12-14T04:59:27\",\"2020-12-16T12:10:00\",\"2020-12-25T18:37:29\",\"2020-12-12T04:24:36\",\"2020-12-13T04:07:04\",\"2020-12-14T03:33:06\",\"2020-12-12T04:24:36\",\"2020-12-13T04:07:04\",\"2020-12-14T03:33:08\",\"2020-12-12T04:24:36\",\"2020-12-13T04:07:04\",\"2020-12-14T03:33:06\",\"2020-12-12T03:36:04\",\"2020-12-12T03:36:07\",\"2020-12-12T03:36:04\",\"2020-12-13T03:08:09\",\"2020-12-13T03:08:09\",\"2020-12-13T03:08:09\",\"2020-12-13T21:05:11\",\"2020-12-13T21:05:11\",\"2020-12-13T21:05:11\",\"2020-12-13T19:51:08\",\"2020-12-15T13:50:44\",\"2020-12-13T19:51:08\",\"2020-12-15T13:50:44\",\"2020-12-14T17:36:46\",\"2020-12-14T17:36:47\",\"2020-12-14T17:36:46\",\"2020-12-14T05:41:14\",\"2020-12-22T00:22:30\",\"2020-12-14T05:41:15\",\"2020-12-22T00:22:30\",\"2020-12-14T05:41:14\",\"2020-12-22T00:22:30\",\"2020-12-14T01:31:09\",\"2020-12-15T10:25:34\",\"2020-12-16T05:24:15\",\"2020-12-19T15:50:17\",\"2020-12-22T14:33:28\",\"2020-12-14T01:31:09\",\"2020-12-15T10:25:34\",\"2020-12-16T05:24:15\",\"2020-12-19T15:50:17\",\"2020-12-22T14:33:28\",\"2020-12-14T10:43:49\",\"2020-12-17T02:04:47\",\"2020-12-22T19:02:42\",\"2020-12-14T10:43:49\",\"2020-12-17T02:04:48\",\"2020-12-22T19:02:45\",\"2020-12-14T10:43:49\",\"2020-12-17T02:04:47\",\"2020-12-22T19:02:43\",\"2020-12-14T10:43:49\",\"2020-12-17T02:04:47\",\"2020-12-22T19:02:42\",\"2020-12-14T14:49:23\",\"2020-12-14T14:49:24\",\"2020-12-14T14:49:23\",\"2020-12-14T17:46:06\",\"2020-12-14T17:46:07\",\"2020-12-14T17:46:06\",\"2020-12-14T17:46:06\",\"2020-12-14T00:08:08\",\"2020-12-15T23:52:59\",\"2020-12-14T00:08:09\",\"2020-12-15T23:52:59\",\"2020-12-14T00:08:08\",\"2020-12-15T23:52:59\",\"2020-12-14T10:39:41\",\"2020-12-17T20:28:48\",\"2020-12-26T12:42:42\",\"2020-12-14T10:39:41\",\"2020-12-17T20:28:48\",\"2020-12-26T12:42:42\",\"2020-12-14T20:14:06\",\"2020-12-15T11:31:44\",\"2020-12-17T10:42:30\",\"2020-12-18T10:21:27\",\"2020-12-14T20:14:06\",\"2020-12-15T11:31:44\",\"2020-12-17T10:42:30\",\"2020-12-18T10:21:27\",\"2020-12-14T06:14:07\",\"2020-12-15T20:13:01\",\"2020-12-28T04:20:22\",\"2020-12-14T06:14:09\",\"2020-12-15T20:13:02\",\"2020-12-28T04:20:23\",\"2020-12-14T06:14:07\",\"2020-12-15T20:13:01\",\"2020-12-28T04:20:22\",\"2020-12-14T13:28:06\",\"2020-12-22T10:27:15\",\"2020-12-14T13:28:06\",\"2020-12-22T10:27:15\",\"2020-12-14T10:16:42\",\"2020-12-15T14:13:34\",\"2020-12-16T14:16:01\",\"2020-12-19T09:51:42\",\"2020-12-14T10:16:42\",\"2020-12-15T14:13:34\",\"2020-12-16T14:16:01\",\"2020-12-19T09:51:42\",\"2020-12-14T17:44:41\",\"2020-12-15T21:06:50\",\"2020-12-23T16:37:39\",\"2020-12-14T17:44:41\",\"2020-12-15T21:06:51\",\"2020-12-23T16:37:39\",\"2020-12-14T17:44:41\",\"2020-12-15T21:06:50\",\"2020-12-23T16:37:39\",\"2020-12-14T19:09:47\",\"2020-12-15T09:31:27\",\"2020-12-14T19:09:50\",\"2020-12-15T09:31:31\",\"2020-12-14T19:09:47\",\"2020-12-15T09:31:27\",\"2020-12-14T21:20:52\",\"2020-12-14T21:20:53\",\"2020-12-14T21:20:52\",\"2020-12-14T19:46:54\",\"2020-12-15T17:01:16\",\"2020-12-14T19:46:58\",\"2020-12-15T17:01:20\",\"2020-12-14T19:46:54\",\"2020-12-15T17:01:16\",\"2020-12-14T20:52:03\",\"2020-12-15T02:03:26\",\"2020-12-14T20:52:03\",\"2020-12-15T02:03:26\",\"2020-12-14T23:09:45\",\"2020-12-08T10:16:02\",\"2020-12-14T23:09:45\",\"2020-12-15T05:53:25\",\"2020-12-19T18:01:22\",\"2020-12-21T20:44:05\",\"2020-12-15T05:53:25\",\"2020-12-19T18:01:23\",\"2020-12-21T20:44:06\",\"2020-12-15T05:53:25\",\"2020-12-19T18:01:22\",\"2020-12-21T20:44:05\",\"2020-12-15T12:04:33\",\"2020-12-21T05:23:35\",\"2020-12-28T14:27:45\",\"2020-12-15T12:04:33\",\"2020-12-21T05:23:35\",\"2020-12-28T14:27:45\",\"2020-12-15T18:21:55\",\"2020-12-16T13:10:50\",\"2020-12-22T18:17:57\",\"2020-12-15T18:21:55\",\"2020-12-16T13:10:50\",\"2020-12-22T18:17:57\",\"2020-12-15T03:28:55\",\"2020-12-16T02:25:56\",\"2020-12-15T03:28:55\",\"2020-12-16T02:25:57\",\"2020-12-15T03:28:55\",\"2020-12-16T02:25:56\",\"2020-12-15T00:00:17\",\"2020-12-17T09:55:39\",\"2020-12-22T21:24:13\",\"2020-12-15T00:00:17\",\"2020-12-17T09:55:39\",\"2020-12-22T21:24:13\",\"2020-12-15T00:00:18\",\"2020-12-17T09:55:39\",\"2020-12-22T21:24:13\",\"2020-12-15T00:00:17\",\"2020-12-17T09:55:39\",\"2020-12-22T21:24:13\",\"2020-12-15T00:41:31\",\"2020-12-16T00:12:10\",\"2020-12-15T00:41:32\",\"2020-12-16T00:12:10\",\"2020-12-15T00:41:33\",\"2020-12-16T00:12:10\",\"2020-12-15T00:41:31\",\"2020-12-16T00:12:10\",\"2020-12-15T13:58:37\",\"2020-12-17T06:56:46\",\"2020-12-15T13:58:38\",\"2020-12-17T06:56:47\",\"2020-12-15T13:58:37\",\"2020-12-17T06:56:46\",\"2020-12-15T12:38:17\",\"2020-12-19T15:32:09\",\"2020-12-15T12:38:20\",\"2020-12-19T15:32:09\",\"2020-12-15T12:38:19\",\"2020-12-19T15:32:12\",\"2020-12-15T12:38:17\",\"2020-12-19T15:32:09\",\"2020-12-15T19:08:20\",\"2020-12-16T09:50:55\",\"2020-12-17T16:39:05\",\"2020-12-29T03:53:10\",\"2020-12-15T19:08:20\",\"2020-12-16T09:50:55\",\"2020-12-17T16:39:05\",\"2020-12-29T03:53:10\",\"2020-12-15T23:28:40\",\"2020-12-15T23:28:40\",\"2020-12-15T23:28:40\",\"2020-12-16T19:48:42\",\"2020-12-17T17:47:35\",\"2020-12-18T07:48:45\",\"2020-12-28T05:19:20\",\"2020-12-16T19:48:42\",\"2020-12-17T17:47:39\",\"2020-12-18T07:48:47\",\"2020-12-28T05:19:21\",\"2020-12-16T19:48:42\",\"2020-12-17T17:47:35\",\"2020-12-18T07:48:45\",\"2020-12-28T05:19:20\",\"2020-12-16T16:03:26\",\"2020-12-17T03:45:33\",\"2020-12-24T12:51:18\",\"2020-12-16T16:03:27\",\"2020-12-17T03:45:33\",\"2020-12-24T12:51:18\",\"2020-12-16T16:03:26\",\"2020-12-17T03:45:33\",\"2020-12-24T12:51:18\",\"2020-12-16T20:08:07\",\"2020-12-21T10:04:36\",\"2020-12-24T08:40:19\",\"2020-12-16T20:08:08\",\"2020-12-21T10:04:37\",\"2020-12-24T08:40:19\",\"2020-12-16T20:08:07\",\"2020-12-21T10:04:36\",\"2020-12-24T08:40:19\",\"2020-12-16T16:35:29\",\"2020-12-17T12:22:25\",\"2020-12-18T12:03:07\",\"2020-12-16T16:35:31\",\"2020-12-17T12:22:26\",\"2020-12-18T12:03:09\",\"2020-12-16T16:35:29\",\"2020-12-17T12:22:25\",\"2020-12-18T12:03:07\",\"2020-12-16T13:56:51\",\"2020-12-18T06:51:16\",\"2020-12-20T14:46:28\",\"2020-12-16T13:56:52\",\"2020-12-18T06:51:16\",\"2020-12-20T14:46:28\",\"2020-12-16T13:56:51\",\"2020-12-18T06:51:18\",\"2020-12-20T14:46:31\",\"2020-12-16T13:56:51\",\"2020-12-18T06:51:16\",\"2020-12-20T14:46:28\",\"2020-12-16T12:17:52\",\"2020-12-23T02:29:02\",\"2020-12-29T07:28:59\",\"2020-12-16T12:17:56\",\"2020-12-23T02:29:03\",\"2020-12-29T07:28:59\",\"2020-12-16T12:17:52\",\"2020-12-23T02:29:02\",\"2020-12-29T07:28:59\",\"2020-12-16T02:13:32\",\"2020-12-17T13:25:01\",\"2020-12-16T02:13:33\",\"2020-12-17T13:25:01\",\"2020-12-16T02:13:33\",\"2020-12-17T13:25:01\",\"2020-12-16T02:13:32\",\"2020-12-17T13:25:01\",\"2020-12-16T09:18:27\",\"2020-12-17T10:33:25\",\"2020-12-16T09:18:27\",\"2020-12-17T10:33:25\",\"2020-12-16T09:18:27\",\"2020-12-17T10:33:25\",\"2020-12-16T09:18:27\",\"2020-12-17T10:33:25\",\"2020-12-16T01:51:57\",\"2020-12-23T21:54:08\",\"2020-12-25T17:43:59\",\"2020-12-16T01:51:57\",\"2020-12-23T21:54:09\",\"2020-12-25T17:43:59\",\"2020-12-16T01:51:58\",\"2020-12-23T21:54:09\",\"2020-12-25T17:43:59\",\"2020-12-16T01:51:57\",\"2020-12-23T21:54:08\",\"2020-12-25T17:43:59\",\"2020-12-16T12:03:27\",\"2020-12-24T23:42:20\",\"2020-12-16T12:03:27\",\"2020-12-24T23:42:20\",\"2020-12-16T14:39:26\",\"2020-12-17T08:02:11\",\"2020-12-20T11:05:42\",\"2020-12-29T06:52:13\",\"2020-12-16T14:39:26\",\"2020-12-17T08:02:13\",\"2020-12-20T11:05:43\",\"2020-12-29T06:52:18\",\"2020-12-16T14:39:26\",\"2020-12-17T08:02:11\",\"2020-12-20T11:05:42\",\"2020-12-29T06:52:13\",\"2020-12-16T03:52:12\",\"2020-12-19T12:56:33\",\"2020-12-22T05:06:08\",\"2020-12-16T03:52:12\",\"2020-12-19T12:56:33\",\"2020-12-22T05:06:14\",\"2020-12-16T03:52:12\",\"2020-12-19T12:56:33\",\"2020-12-22T05:06:08\",\"2020-12-16T07:20:57\",\"2020-12-17T02:56:29\",\"2020-12-19T08:11:59\",\"2020-12-20T20:07:42\",\"2020-12-26T13:02:02\",\"2020-12-16T07:20:57\",\"2020-12-17T02:56:29\",\"2020-12-19T08:11:59\",\"2020-12-20T20:07:42\",\"2020-12-26T13:02:02\",\"2020-12-16T10:11:38\",\"2020-12-18T22:31:58\",\"2020-12-16T10:11:38\",\"2020-12-18T22:32:00\",\"2020-12-16T10:11:38\",\"2020-12-18T22:31:58\",\"2020-12-16T20:48:27\",\"2020-12-20T01:00:51\",\"2020-12-22T02:23:16\",\"2020-12-16T20:48:27\",\"2020-12-20T01:00:51\",\"2020-12-22T02:23:16\",\"2020-12-16T14:38:30\",\"2020-12-18T19:30:45\",\"2020-12-20T12:00:02\",\"2020-12-16T14:38:31\",\"2020-12-18T19:30:46\",\"2020-12-20T12:00:03\",\"2020-12-16T14:38:30\",\"2020-12-18T19:30:45\",\"2020-12-20T12:00:02\",\"2020-12-16T13:31:20\",\"2020-12-17T03:47:53\",\"2020-12-16T13:31:20\",\"2020-12-17T03:47:56\",\"2020-12-16T13:31:21\",\"2020-12-17T03:47:54\",\"2020-12-16T13:31:20\",\"2020-12-17T03:47:53\",\"2020-12-16T19:06:14\",\"2020-12-27T19:14:33\",\"2020-12-16T19:06:15\",\"2020-12-27T19:14:35\",\"2020-12-16T19:06:14\",\"2020-12-27T19:14:33\",\"2020-12-16T13:19:26\",\"2020-12-17T16:50:36\",\"2020-12-18T15:38:51\",\"2020-12-16T13:19:29\",\"2020-12-17T16:50:36\",\"2020-12-18T15:38:53\",\"2020-12-16T13:19:26\",\"2020-12-17T16:50:36\",\"2020-12-18T15:38:51\",\"2020-12-16T14:38:12\",\"2020-12-18T02:44:24\",\"2020-12-22T18:34:30\",\"2020-12-23T08:56:37\",\"2020-12-16T14:38:12\",\"2020-12-18T02:44:24\",\"2020-12-22T18:34:30\",\"2020-12-23T08:56:37\",\"2020-12-16T11:20:14\",\"2020-12-18T11:07:11\",\"2020-12-21T05:10:48\",\"2020-12-16T11:20:14\",\"2020-12-18T11:07:11\",\"2020-12-21T05:10:48\",\"2020-12-16T11:27:40\",\"2020-12-16T11:27:41\",\"2020-12-16T11:27:40\",\"2020-12-16T04:26:59\",\"2020-12-21T21:14:13\",\"2020-12-16T04:26:59\",\"2020-12-21T21:14:15\",\"2020-12-16T04:26:59\",\"2020-12-21T21:14:13\",\"2020-12-16T13:08:52\",\"2020-12-17T13:24:40\",\"2020-12-25T08:33:46\",\"2020-12-16T13:08:54\",\"2020-12-17T13:24:41\",\"2020-12-25T08:33:47\",\"2020-12-16T13:08:52\",\"2020-12-17T13:24:40\",\"2020-12-25T08:33:46\",\"2020-12-16T18:51:44\",\"2020-12-17T15:20:23\",\"2020-12-18T05:46:55\",\"2020-12-26T06:09:16\",\"2020-12-16T18:51:45\",\"2020-12-17T15:20:23\",\"2020-12-18T05:47:00\",\"2020-12-26T06:09:16\",\"2020-12-16T18:51:45\",\"2020-12-17T15:20:25\",\"2020-12-18T05:47:00\",\"2020-12-26T06:09:16\",\"2020-12-16T18:51:44\",\"2020-12-17T15:20:23\",\"2020-12-18T05:46:55\",\"2020-12-26T06:09:16\",\"2020-12-16T18:56:31\",\"2020-12-27T10:43:32\",\"2020-12-28T23:51:37\",\"2020-12-16T18:56:31\",\"2020-12-27T10:43:35\",\"2020-12-28T23:51:38\",\"2020-12-16T18:56:31\",\"2020-12-27T10:43:32\",\"2020-12-28T23:51:37\",\"2020-12-16T18:53:35\",\"2020-12-19T23:32:05\",\"2020-12-21T15:32:49\",\"2020-12-16T18:53:35\",\"2020-12-19T23:32:07\",\"2020-12-21T15:32:52\",\"2020-12-16T18:53:35\",\"2020-12-19T23:32:05\",\"2020-12-21T15:32:49\",\"2020-12-16T05:14:54\",\"2020-12-20T09:49:55\",\"2020-12-23T23:03:06\",\"2020-12-16T05:14:54\",\"2020-12-20T09:49:56\",\"2020-12-23T23:03:06\",\"2020-12-16T05:14:54\",\"2020-12-20T09:49:55\",\"2020-12-23T23:03:07\",\"2020-12-16T05:14:54\",\"2020-12-20T09:49:55\",\"2020-12-23T23:03:06\",\"2020-12-16T09:17:10\",\"2020-12-17T23:36:48\",\"2020-12-23T03:58:01\",\"2020-12-16T09:17:10\",\"2020-12-17T23:36:48\",\"2020-12-23T03:58:03\",\"2020-12-16T09:17:11\",\"2020-12-17T23:36:51\",\"2020-12-23T03:58:04\",\"2020-12-16T09:17:10\",\"2020-12-17T23:36:48\",\"2020-12-23T03:58:01\",\"2020-12-16T23:32:33\",\"2020-12-19T05:28:53\",\"2020-12-21T08:37:33\",\"2020-12-23T22:24:26\",\"2020-12-16T23:32:33\",\"2020-12-19T05:28:53\",\"2020-12-21T08:37:34\",\"2020-12-23T22:24:26\",\"2020-12-16T23:32:33\",\"2020-12-19T05:28:53\",\"2020-12-21T08:37:33\",\"2020-12-23T22:24:26\",\"2020-12-16T01:57:17\",\"2020-12-19T03:05:17\",\"2020-12-16T01:57:17\",\"2020-12-19T03:05:17\",\"2020-12-16T15:50:41\",\"2020-12-21T13:34:48\",\"2020-12-27T11:42:38\",\"2020-12-16T15:50:45\",\"2020-12-21T13:34:48\",\"2020-12-27T11:42:38\",\"2020-12-16T15:50:41\",\"2020-12-21T13:34:48\",\"2020-12-27T11:42:38\",\"2020-12-17T05:09:45\",\"2020-12-18T19:43:58\",\"2020-12-17T05:09:45\",\"2020-12-18T19:43:58\",\"2020-12-17T05:09:46\",\"2020-12-18T19:43:59\",\"2020-12-17T05:09:45\",\"2020-12-18T19:43:58\",\"2020-12-17T20:03:57\",\"2020-12-17T20:03:59\",\"2020-12-17T20:03:58\",\"2020-12-17T20:03:57\",\"2020-12-17T07:55:48\",\"2020-12-17T07:55:51\",\"2020-12-17T07:55:48\",\"2020-12-17T00:46:44\",\"2020-12-17T00:46:44\",\"2020-12-17T00:46:44\",\"2020-12-17T13:36:03\",\"2020-12-17T13:36:04\",\"2020-12-17T13:36:03\",\"2020-12-17T13:36:03\",\"2020-12-17T07:11:17\",\"2020-12-17T07:11:18\",\"2020-12-17T07:11:17\",\"2020-12-17T01:04:39\",\"2020-12-19T16:36:39\",\"2020-12-17T01:04:41\",\"2020-12-19T16:36:41\",\"2020-12-17T01:04:39\",\"2020-12-19T16:36:39\",\"2020-12-17T02:59:49\",\"2020-12-19T20:59:12\",\"2020-12-17T02:59:49\",\"2020-12-19T20:59:12\",\"2020-12-17T03:26:36\",\"2020-12-18T20:39:41\",\"2020-12-19T12:15:42\",\"2020-12-17T03:26:36\",\"2020-12-18T20:39:41\",\"2020-12-19T12:15:43\",\"2020-12-17T03:26:36\",\"2020-12-18T20:39:42\",\"2020-12-19T12:15:43\",\"2020-12-17T03:26:36\",\"2020-12-18T20:39:41\",\"2020-12-19T12:15:42\",\"2020-12-17T18:30:54\",\"2020-12-19T21:33:09\",\"2020-12-17T18:30:54\",\"2020-12-19T21:33:10\",\"2020-12-17T18:30:54\",\"2020-12-19T21:33:09\",\"2020-12-18T05:18:01\",\"2020-12-19T18:54:51\",\"2020-12-18T05:18:01\",\"2020-12-19T18:54:55\",\"2020-12-18T05:18:01\",\"2020-12-19T18:54:51\",\"2020-12-18T22:23:12\",\"2020-12-19T12:43:18\",\"2020-12-22T01:14:08\",\"2020-12-18T22:23:12\",\"2020-12-19T12:43:21\",\"2020-12-22T01:14:09\",\"2020-12-18T22:23:12\",\"2020-12-19T12:43:18\",\"2020-12-22T01:14:08\",\"2020-12-18T04:40:14\",\"2020-12-18T04:40:14\",\"2020-12-18T18:18:08\",\"2020-12-20T16:59:22\",\"2020-12-18T18:18:10\",\"2020-12-20T16:59:22\",\"2020-12-18T18:18:08\",\"2020-12-20T16:59:23\",\"2020-12-18T18:18:08\",\"2020-12-20T16:59:22\",\"2020-12-18T08:08:20\",\"2020-12-19T23:21:40\",\"2020-12-24T14:35:46\",\"2020-12-18T08:08:23\",\"2020-12-19T23:21:40\",\"2020-12-24T14:35:47\",\"2020-12-18T08:08:22\",\"2020-12-19T23:21:40\",\"2020-12-24T14:35:47\",\"2020-12-18T08:08:20\",\"2020-12-19T23:21:40\",\"2020-12-24T14:35:46\",\"2020-12-18T16:47:55\",\"2020-12-23T22:55:43\",\"2020-12-24T04:36:05\",\"2020-12-18T16:47:55\",\"2020-12-23T22:55:46\",\"2020-12-24T04:36:05\",\"2020-12-18T16:47:55\",\"2020-12-23T22:55:43\",\"2020-12-24T04:36:05\",\"2020-12-18T23:23:40\",\"2020-12-18T23:23:42\",\"2020-12-18T23:23:41\",\"2020-12-18T23:23:40\",\"2020-12-18T06:02:35\",\"2020-12-18T06:02:35\",\"2020-12-18T06:40:51\",\"2020-12-18T06:40:51\",\"2020-12-18T06:40:51\",\"2020-12-18T11:06:20\",\"2020-12-19T12:23:05\",\"2020-12-21T17:47:00\",\"2020-12-23T01:00:11\",\"2020-12-18T11:06:20\",\"2020-12-19T12:23:05\",\"2020-12-21T17:47:00\",\"2020-12-23T01:00:11\",\"2020-12-18T20:15:18\",\"2020-12-21T01:28:23\",\"2020-12-22T23:49:55\",\"2020-12-18T20:15:18\",\"2020-12-21T01:28:25\",\"2020-12-22T23:49:55\",\"2020-12-18T20:15:18\",\"2020-12-21T01:28:23\",\"2020-12-22T23:49:55\",\"2020-12-18T11:12:01\",\"2020-12-21T17:38:26\",\"2020-12-18T11:12:02\",\"2020-12-21T17:38:27\",\"2020-12-18T11:12:01\",\"2020-12-21T17:38:26\",\"2020-12-19T10:10:09\",\"2020-12-25T22:02:55\",\"2020-12-19T10:10:09\",\"2020-12-25T22:02:55\",\"2020-12-19T20:10:27\",\"2020-12-19T20:10:27\",\"2020-12-19T20:10:27\",\"2020-12-19T03:24:43\",\"2020-12-21T01:44:14\",\"2020-12-26T16:07:34\",\"2020-12-19T03:24:44\",\"2020-12-21T01:44:18\",\"2020-12-26T16:07:37\",\"2020-12-19T03:24:45\",\"2020-12-21T01:44:14\",\"2020-12-26T16:07:38\",\"2020-12-19T03:24:43\",\"2020-12-21T01:44:14\",\"2020-12-26T16:07:34\",\"2020-12-19T03:48:59\",\"2020-12-20T19:01:02\",\"2020-12-25T19:12:54\",\"2020-12-19T03:48:59\",\"2020-12-20T19:01:02\",\"2020-12-25T19:12:54\",\"2020-12-19T23:17:50\",\"2020-12-24T08:27:27\",\"2020-12-26T13:27:27\",\"2020-12-19T23:17:51\",\"2020-12-24T08:27:29\",\"2020-12-26T13:27:27\",\"2020-12-19T23:17:50\",\"2020-12-24T08:27:27\",\"2020-12-26T13:27:27\",\"2020-12-19T05:48:59\",\"2020-12-21T18:46:18\",\"2020-12-19T05:49:02\",\"2020-12-21T18:46:18\",\"2020-12-19T05:48:59\",\"2020-12-21T18:46:18\",\"2020-12-19T11:20:37\",\"2020-12-20T04:22:14\",\"2020-12-19T11:20:37\",\"2020-12-20T04:22:14\",\"2020-12-19T07:24:52\",\"2020-12-20T15:37:24\",\"2020-12-21T23:29:16\",\"2020-12-26T16:36:33\",\"2020-12-29T04:16:28\",\"2020-12-19T07:24:53\",\"2020-12-20T15:37:25\",\"2020-12-21T23:29:19\",\"2020-12-26T16:36:33\",\"2020-12-29T04:16:29\",\"2020-12-19T07:24:52\",\"2020-12-20T15:37:24\",\"2020-12-21T23:29:16\",\"2020-12-26T16:36:33\",\"2020-12-29T04:16:28\",\"2020-12-19T20:19:47\",\"2020-12-20T10:27:21\",\"2020-12-19T20:19:47\",\"2020-12-20T10:27:21\",\"2020-12-19T20:19:47\",\"2020-12-20T10:27:21\",\"2020-12-20T08:58:04\",\"2020-12-21T16:27:30\",\"2020-12-22T19:44:36\",\"2020-12-27T19:21:42\",\"2020-12-20T08:58:05\",\"2020-12-21T16:27:30\",\"2020-12-22T19:44:38\",\"2020-12-27T19:21:42\",\"2020-12-20T08:58:04\",\"2020-12-21T16:27:30\",\"2020-12-22T19:44:36\",\"2020-12-27T19:21:42\",\"2020-12-20T07:17:42\",\"2020-12-21T19:15:55\",\"2020-12-20T07:17:45\",\"2020-12-21T19:15:57\",\"2020-12-20T07:17:45\",\"2020-12-21T19:15:57\",\"2020-12-20T07:17:42\",\"2020-12-21T19:15:55\",\"2020-12-20T13:29:21\",\"2020-12-20T13:29:21\",\"2020-12-20T02:00:30\",\"2020-12-20T02:00:32\",\"2020-12-20T02:00:30\",\"2020-12-20T20:06:37\",\"2020-12-21T16:56:03\",\"2020-12-22T05:50:56\",\"2020-12-23T03:15:52\",\"2020-12-29T16:18:10\",\"2020-12-20T20:06:37\",\"2020-12-21T16:56:03\",\"2020-12-22T05:50:56\",\"2020-12-23T03:15:52\",\"2020-12-29T16:18:10\",\"2020-12-20T12:07:11\",\"2020-12-24T02:41:18\",\"2020-12-20T12:07:11\",\"2020-12-24T02:41:19\",\"2020-12-20T12:07:11\",\"2020-12-24T02:41:18\",\"2020-12-20T15:18:19\",\"2020-12-24T19:06:23\",\"2020-12-27T16:35:01\",\"2020-12-20T15:18:20\",\"2020-12-24T19:06:24\",\"2020-12-27T16:35:01\",\"2020-12-20T15:18:21\",\"2020-12-24T19:06:24\",\"2020-12-27T16:35:01\",\"2020-12-20T15:18:19\",\"2020-12-24T19:06:23\",\"2020-12-27T16:35:01\",\"2020-12-20T10:21:59\",\"2020-12-22T18:27:25\",\"2020-12-23T09:02:26\",\"2020-12-20T10:21:59\",\"2020-12-22T18:27:25\",\"2020-12-23T09:02:26\",\"2020-12-20T10:21:59\",\"2020-12-22T18:27:25\",\"2020-12-23T09:02:26\",\"2020-12-20T12:22:50\",\"2020-12-20T12:22:50\",\"2020-12-20T12:22:50\",\"2020-12-20T04:37:25\",\"2020-12-21T13:00:48\",\"2020-12-23T23:55:28\",\"2020-12-20T04:37:26\",\"2020-12-21T13:00:53\",\"2020-12-23T23:55:29\",\"2020-12-20T04:37:25\",\"2020-12-21T13:00:48\",\"2020-12-23T23:55:28\",\"2020-12-20T07:15:57\",\"2020-12-21T14:59:51\",\"2020-12-28T11:25:48\",\"2020-12-20T07:15:58\",\"2020-12-21T14:59:52\",\"2020-12-28T11:25:48\",\"2020-12-20T07:15:57\",\"2020-12-21T14:59:51\",\"2020-12-28T11:25:48\",\"2020-12-20T15:29:43\",\"2020-12-22T14:18:45\",\"2020-12-27T18:25:29\",\"2020-12-20T15:29:43\",\"2020-12-22T14:18:45\",\"2020-12-27T18:25:29\",\"2020-12-20T17:46:03\",\"2020-12-20T17:46:03\",\"2020-12-20T22:10:31\",\"2020-12-20T22:10:32\",\"2020-12-20T22:10:31\",\"2020-12-20T13:49:36\",\"2020-12-20T13:49:36\",\"2020-12-20T13:49:36\",\"2020-12-20T20:38:04\",\"2020-12-20T20:38:04\",\"2020-12-20T20:38:04\",\"2020-12-20T06:06:13\",\"2020-12-20T06:06:14\",\"2020-12-20T06:06:13\",\"2020-12-20T22:57:41\",\"2020-12-21T01:10:29\",\"2020-12-20T22:57:41\",\"2020-12-21T01:10:34\",\"2020-12-20T22:57:41\",\"2020-12-21T01:10:31\",\"2020-12-20T22:57:41\",\"2020-12-21T01:10:29\",\"2020-12-20T13:32:28\",\"2020-12-21T09:02:35\",\"2020-12-23T20:12:56\",\"2020-12-20T13:32:28\",\"2020-12-21T09:02:35\",\"2020-12-23T20:12:56\",\"2020-12-20T12:50:23\",\"2020-12-21T01:00:35\",\"2020-12-22T05:00:03\",\"2020-12-24T08:05:00\",\"2020-12-20T12:50:23\",\"2020-12-21T01:00:35\",\"2020-12-22T05:00:04\",\"2020-12-24T08:05:00\",\"2020-12-20T12:50:24\",\"2020-12-21T01:00:35\",\"2020-12-22T05:00:04\",\"2020-12-24T08:05:01\",\"2020-12-20T12:50:23\",\"2020-12-21T01:00:35\",\"2020-12-22T05:00:03\",\"2020-12-24T08:05:00\",\"2020-12-21T08:09:43\",\"2020-12-22T18:15:13\",\"2020-12-23T16:43:46\",\"2020-12-27T21:31:10\",\"2020-12-21T08:09:46\",\"2020-12-22T18:15:18\",\"2020-12-23T16:43:46\",\"2020-12-27T21:31:10\",\"2020-12-21T08:09:43\",\"2020-12-22T18:15:13\",\"2020-12-23T16:43:46\",\"2020-12-27T21:31:10\",\"2020-12-21T09:53:04\",\"2020-12-23T19:02:52\",\"2020-12-21T09:53:04\",\"2020-12-23T19:02:52\",\"2020-12-21T07:20:39\",\"2020-12-27T09:40:30\",\"2020-12-21T07:20:39\",\"2020-12-27T09:40:30\",\"2020-12-21T00:13:31\",\"2020-12-24T22:59:23\",\"2020-12-21T00:13:31\",\"2020-12-24T22:59:23\",\"2020-12-21T12:03:05\",\"2020-12-24T02:25:44\",\"2020-12-26T02:35:30\",\"2020-12-21T12:03:05\",\"2020-12-24T02:25:44\",\"2020-12-26T02:35:30\",\"2020-12-21T10:15:17\",\"2020-12-27T16:28:57\",\"2020-12-21T10:15:17\",\"2020-12-27T16:28:57\",\"2020-12-21T16:42:48\",\"2020-12-22T18:35:24\",\"2020-12-21T16:42:48\",\"2020-12-22T18:35:24\",\"2020-12-21T16:42:48\",\"2020-12-22T18:35:24\",\"2020-12-21T00:29:48\",\"2020-12-22T14:49:40\",\"2020-12-24T04:57:16\",\"2020-12-21T00:29:48\",\"2020-12-22T14:49:40\",\"2020-12-24T04:57:16\",\"2020-12-21T00:29:48\",\"2020-12-22T14:49:40\",\"2020-12-24T04:57:16\",\"2020-12-21T02:40:14\",\"2020-12-22T08:19:51\",\"2020-12-24T05:03:57\",\"2020-12-25T17:03:30\",\"2020-12-21T02:40:15\",\"2020-12-22T08:19:52\",\"2020-12-24T05:03:57\",\"2020-12-25T17:03:33\",\"2020-12-21T02:40:14\",\"2020-12-22T08:19:51\",\"2020-12-24T05:03:57\",\"2020-12-25T17:03:30\",\"2020-12-21T04:22:45\",\"2020-12-21T04:22:45\",\"2020-12-21T04:22:45\",\"2020-12-21T23:31:48\",\"2020-12-21T23:31:49\",\"2020-12-21T23:31:48\",\"2020-12-21T04:41:22\",\"2020-12-21T04:41:22\",\"2020-12-21T04:41:22\",\"2020-12-21T04:41:22\",\"2020-12-21T04:14:24\",\"2020-12-27T19:36:21\",\"2020-12-28T00:55:57\",\"2020-12-21T04:14:24\",\"2020-12-27T19:36:24\",\"2020-12-28T00:55:57\",\"2020-12-21T04:14:24\",\"2020-12-27T19:36:21\",\"2020-12-28T00:55:57\",\"2020-12-21T23:58:57\",\"2020-12-21T23:58:57\",\"2020-12-21T23:58:57\",\"2020-12-21T17:37:16\",\"2020-12-25T04:30:48\",\"2020-12-21T17:37:16\",\"2020-12-25T04:30:49\",\"2020-12-21T17:37:16\",\"2020-12-25T04:30:48\",\"2020-12-21T19:42:00\",\"2020-12-21T19:42:00\",\"2020-12-21T19:42:00\",\"2020-12-21T18:13:38\",\"2020-12-21T18:13:42\",\"2020-12-21T18:13:41\",\"2020-12-21T18:13:38\",\"2020-12-21T10:22:17\",\"2020-12-25T03:32:46\",\"2020-12-29T16:34:11\",\"2020-12-21T10:22:18\",\"2020-12-25T03:32:46\",\"2020-12-29T16:34:12\",\"2020-12-21T10:22:19\",\"2020-12-25T03:32:46\",\"2020-12-29T16:34:11\",\"2020-12-21T10:22:17\",\"2020-12-25T03:32:46\",\"2020-12-29T16:34:11\",\"2020-12-21T02:15:27\",\"2020-12-23T17:12:56\",\"2020-12-21T02:15:27\",\"2020-12-23T17:12:56\",\"2020-12-21T19:48:35\",\"2020-12-22T20:56:55\",\"2020-12-27T07:05:06\",\"2020-12-21T19:48:35\",\"2020-12-22T20:56:56\",\"2020-12-27T07:05:07\",\"2020-12-21T19:48:35\",\"2020-12-22T20:56:55\",\"2020-12-27T07:05:06\",\"2020-12-21T11:43:45\",\"2020-12-23T21:11:58\",\"2020-12-24T13:02:05\",\"2020-12-21T11:43:45\",\"2020-12-23T21:11:58\",\"2020-12-24T13:02:05\",\"2020-12-21T12:34:22\",\"2020-12-22T22:18:51\",\"2020-12-21T12:34:22\",\"2020-12-22T22:18:52\",\"2020-12-21T12:34:22\",\"2020-12-22T22:18:51\",\"2020-12-21T06:19:21\",\"2020-12-22T19:50:51\",\"2020-12-23T18:58:41\",\"2020-12-21T06:19:23\",\"2020-12-22T19:50:51\",\"2020-12-23T18:58:43\",\"2020-12-21T06:19:21\",\"2020-12-22T19:50:51\",\"2020-12-23T18:58:41\",\"2020-12-21T11:05:50\",\"2020-12-22T19:11:55\",\"2020-12-29T13:31:46\",\"2020-12-21T11:05:50\",\"2020-12-22T19:11:55\",\"2020-12-29T13:31:46\",\"2020-12-21T08:09:23\",\"2020-12-22T20:31:22\",\"2020-12-21T08:09:25\",\"2020-12-22T20:31:24\",\"2020-12-21T08:09:23\",\"2020-12-22T20:31:22\",\"2020-12-07T02:20:57\",\"2020-12-16T03:51:51\",\"2020-12-07T02:20:56\",\"2020-12-16T03:51:50\",\"2020-12-07T02:20:55\",\"2020-12-16T03:51:50\",\"2020-12-07T20:20:21\",\"2020-12-16T01:22:23\",\"2020-12-17T16:48:21\",\"2020-12-07T20:20:21\",\"2020-12-16T01:22:18\",\"2020-12-17T16:48:17\",\"2020-12-07T02:27:23\",\"2020-12-10T02:56:48\",\"2020-12-15T05:40:49\",\"2020-12-07T02:27:22\",\"2020-12-10T02:56:48\",\"2020-12-15T05:40:48\",\"2020-12-07T02:27:21\",\"2020-12-10T02:56:48\",\"2020-12-15T05:40:46\",\"2020-12-07T00:44:12\",\"2020-12-08T19:03:02\",\"2020-12-12T05:50:20\",\"2020-12-07T00:44:12\",\"2020-12-08T19:03:00\",\"2020-12-12T05:50:18\",\"2020-12-07T00:44:12\",\"2020-12-08T19:02:59\",\"2020-12-12T05:50:18\",\"2020-12-07T07:06:51\",\"2020-12-09T00:18:46\",\"2020-12-15T03:20:15\",\"2020-12-07T07:06:50\",\"2020-12-09T00:18:45\",\"2020-12-15T03:20:15\",\"2020-12-07T07:06:50\",\"2020-12-09T00:18:45\",\"2020-12-15T03:20:14\",\"2020-12-07T20:15:29\",\"2020-12-07T20:15:31\",\"2020-12-07T20:15:29\",\"2020-12-07T12:49:37\",\"2020-12-07T12:49:39\",\"2020-12-07T12:49:37\",\"2020-12-07T17:30:59\",\"2020-12-09T16:28:45\",\"2020-12-07T17:31:00\",\"2020-12-09T16:28:45\",\"2020-12-07T17:30:59\",\"2020-12-09T16:28:45\",\"2020-12-07T17:22:06\",\"2020-12-08T04:22:51\",\"2020-12-13T00:01:42\",\"2020-12-19T02:51:11\",\"2020-12-07T17:22:05\",\"2020-12-08T04:22:53\",\"2020-12-13T00:01:42\",\"2020-12-19T02:51:11\",\"2020-12-07T17:22:05\",\"2020-12-08T04:22:51\",\"2020-12-13T00:01:38\",\"2020-12-19T02:51:11\",\"2020-12-07T16:29:20\",\"2020-12-08T04:26:44\",\"2020-12-07T16:29:20\",\"2020-12-08T04:26:43\",\"2020-12-07T02:30:47\",\"2020-12-09T15:20:07\",\"2020-12-15T23:08:42\",\"2020-12-07T02:30:47\",\"2020-12-09T15:20:08\",\"2020-12-15T23:08:43\",\"2020-12-07T02:30:47\",\"2020-12-09T15:20:05\",\"2020-12-15T23:08:38\",\"2020-12-07T00:50:37\",\"2020-12-07T00:50:37\",\"2020-12-07T03:56:27\",\"2020-12-09T04:08:11\",\"2020-12-11T22:04:07\",\"2020-12-20T23:06:38\",\"2020-12-07T03:56:26\",\"2020-12-09T04:08:11\",\"2020-12-11T22:04:06\",\"2020-12-20T23:06:37\",\"2020-12-07T10:09:38\",\"2020-12-09T06:17:12\",\"2020-12-21T10:57:56\",\"2020-12-07T10:09:35\",\"2020-12-09T06:17:10\",\"2020-12-21T10:57:55\",\"2020-12-07T13:42:30\",\"2020-12-08T09:02:11\",\"2020-12-10T00:45:07\",\"2020-12-07T13:42:30\",\"2020-12-08T09:02:11\",\"2020-12-10T00:45:07\",\"2020-12-07T13:42:30\",\"2020-12-08T09:02:10\",\"2020-12-10T00:45:07\",\"2020-12-07T20:30:40\",\"2020-12-10T12:18:15\",\"2020-12-12T17:55:15\",\"2020-12-14T18:44:05\",\"2020-12-07T20:30:42\",\"2020-12-10T12:18:15\",\"2020-12-12T17:55:14\",\"2020-12-14T18:44:04\",\"2020-12-07T20:30:40\",\"2020-12-10T12:18:14\",\"2020-12-12T17:55:14\",\"2020-12-14T18:44:04\",\"2020-12-07T03:46:01\",\"2020-12-08T16:30:02\",\"2020-12-10T19:27:16\",\"2020-12-18T19:36:20\",\"2020-12-07T03:46:01\",\"2020-12-08T16:30:01\",\"2020-12-10T19:27:16\",\"2020-12-18T19:36:20\",\"2020-12-07T03:16:56\",\"2020-12-09T04:52:46\",\"2020-12-17T18:29:01\",\"2020-12-07T03:16:56\",\"2020-12-09T04:52:45\",\"2020-12-17T18:29:01\",\"2020-12-07T16:47:58\",\"2020-12-07T16:47:58\",\"2020-12-07T00:25:07\",\"2020-12-10T08:54:39\",\"2020-12-11T11:10:59\",\"2020-12-16T02:42:42\",\"2020-12-07T00:25:07\",\"2020-12-10T08:54:39\",\"2020-12-11T11:10:59\",\"2020-12-16T02:42:42\",\"2020-12-07T03:24:22\",\"2020-12-09T10:56:16\",\"2020-12-10T04:56:29\",\"2020-12-20T09:33:53\",\"2020-12-07T03:24:22\",\"2020-12-09T10:56:19\",\"2020-12-10T04:56:29\",\"2020-12-20T09:33:53\",\"2020-12-07T03:24:22\",\"2020-12-09T10:56:16\",\"2020-12-10T04:56:29\",\"2020-12-20T09:33:51\",\"2020-12-07T23:48:05\",\"2020-12-08T00:21:06\",\"2020-12-14T17:09:35\",\"2020-12-07T23:48:06\",\"2020-12-08T00:21:05\",\"2020-12-14T17:09:35\",\"2020-12-07T23:48:05\",\"2020-12-08T00:21:05\",\"2020-12-14T17:09:35\",\"2020-12-07T21:17:33\",\"2020-12-08T21:16:08\",\"2020-12-11T15:33:51\",\"2020-12-14T18:26:43\",\"2020-12-07T21:17:33\",\"2020-12-08T21:16:07\",\"2020-12-11T15:33:51\",\"2020-12-14T18:26:42\",\"2020-12-07T00:25:04\",\"2020-12-08T08:32:39\",\"2020-12-09T03:42:41\",\"2020-12-10T15:04:04\",\"2020-12-11T15:56:03\",\"2020-12-14T03:04:29\",\"2020-12-17T18:58:10\",\"2020-12-21T21:13:26\",\"2020-12-07T00:25:02\",\"2020-12-08T08:32:40\",\"2020-12-09T03:42:40\",\"2020-12-10T15:04:03\",\"2020-12-11T15:56:03\",\"2020-12-14T03:04:29\",\"2020-12-17T18:58:09\",\"2020-12-21T21:13:26\",\"2020-12-07T00:25:02\",\"2020-12-08T08:32:39\",\"2020-12-09T03:42:40\",\"2020-12-10T15:04:03\",\"2020-12-11T15:56:02\",\"2020-12-14T03:04:26\",\"2020-12-17T18:58:09\",\"2020-12-21T21:13:24\",\"2020-12-08T18:41:46\",\"2020-12-09T02:13:16\",\"2020-12-10T21:05:52\",\"2020-12-13T09:13:23\",\"2020-12-08T18:41:46\",\"2020-12-09T02:13:13\",\"2020-12-10T21:05:51\",\"2020-12-13T09:13:23\",\"2020-12-08T06:10:25\",\"2020-12-08T06:10:26\",\"2020-12-08T06:10:25\",\"2020-12-08T03:43:09\",\"2020-12-09T03:24:50\",\"2020-12-08T03:43:10\",\"2020-12-09T03:24:50\",\"2020-12-08T03:43:09\",\"2020-12-09T03:24:48\",\"2020-12-08T19:39:24\",\"2020-12-15T07:05:53\",\"2020-12-18T06:10:50\",\"2020-12-08T19:39:23\",\"2020-12-15T07:05:53\",\"2020-12-18T06:10:49\",\"2020-12-08T13:38:23\",\"2020-12-10T19:24:18\",\"2020-12-12T05:17:02\",\"2020-12-13T14:24:50\",\"2020-12-08T13:38:23\",\"2020-12-10T19:24:18\",\"2020-12-12T05:16:57\",\"2020-12-13T14:24:48\",\"2020-12-08T05:10:58\",\"2020-12-09T22:23:45\",\"2020-12-10T12:16:42\",\"2020-12-16T06:53:50\",\"2020-12-08T05:10:58\",\"2020-12-09T22:23:45\",\"2020-12-10T12:16:41\",\"2020-12-16T06:53:50\",\"2020-12-08T05:10:58\",\"2020-12-09T22:23:44\",\"2020-12-10T12:16:41\",\"2020-12-16T06:53:49\",\"2020-12-08T09:46:55\",\"2020-12-09T01:45:02\",\"2020-12-15T12:02:04\",\"2020-12-08T09:46:55\",\"2020-12-09T01:45:02\",\"2020-12-15T12:02:06\",\"2020-12-08T09:46:55\",\"2020-12-09T01:45:02\",\"2020-12-15T12:02:03\",\"2020-12-08T14:05:16\",\"2020-12-10T22:24:12\",\"2020-12-21T16:14:15\",\"2020-12-08T14:05:16\",\"2020-12-10T22:24:11\",\"2020-12-21T16:14:15\",\"2020-12-08T14:05:16\",\"2020-12-10T22:24:11\",\"2020-12-21T16:14:15\",\"2020-12-08T08:07:59\",\"2020-12-14T03:15:31\",\"2020-12-08T08:07:59\",\"2020-12-14T03:15:30\",\"2020-12-09T16:57:36\",\"2020-12-11T06:17:35\",\"2020-12-16T15:07:56\",\"2020-12-09T16:57:34\",\"2020-12-11T06:17:37\",\"2020-12-16T15:07:56\",\"2020-12-09T16:57:34\",\"2020-12-11T06:17:35\",\"2020-12-16T15:07:56\",\"2020-12-09T20:57:46\",\"2020-12-10T00:35:03\",\"2020-12-09T20:57:45\",\"2020-12-10T00:35:03\",\"2020-12-09T20:16:50\",\"2020-12-10T22:35:43\",\"2020-12-11T04:18:05\",\"2020-12-16T22:32:33\",\"2020-12-09T20:16:48\",\"2020-12-10T22:35:45\",\"2020-12-11T04:18:04\",\"2020-12-16T22:32:35\",\"2020-12-09T20:16:47\",\"2020-12-10T22:35:43\",\"2020-12-11T04:18:04\",\"2020-12-16T22:32:33\",\"2020-12-09T15:12:52\",\"2020-12-10T08:06:15\",\"2020-12-14T06:32:11\",\"2020-12-19T15:47:14\",\"2020-12-23T09:41:32\",\"2020-12-09T15:12:52\",\"2020-12-10T08:06:14\",\"2020-12-14T06:32:11\",\"2020-12-19T15:47:15\",\"2020-12-23T09:41:31\",\"2020-12-09T15:12:52\",\"2020-12-10T08:06:12\",\"2020-12-14T06:32:10\",\"2020-12-19T15:47:14\",\"2020-12-23T09:41:31\",\"2020-12-09T03:10:49\",\"2020-12-09T03:10:47\",\"2020-12-09T17:56:33\",\"2020-12-09T17:56:32\",\"2020-12-09T16:03:26\",\"2020-12-13T02:56:36\",\"2020-12-16T01:33:59\",\"2020-12-23T08:55:10\",\"2020-12-09T16:03:25\",\"2020-12-13T02:56:37\",\"2020-12-16T01:34:01\",\"2020-12-23T08:55:10\",\"2020-12-09T16:03:24\",\"2020-12-13T02:56:36\",\"2020-12-16T01:33:59\",\"2020-12-23T08:55:09\",\"2020-12-09T20:33:20\",\"2020-12-10T22:51:18\",\"2020-12-11T04:19:15\",\"2020-12-09T20:33:16\",\"2020-12-10T22:51:17\",\"2020-12-11T04:19:14\",\"2020-12-09T15:59:25\",\"2020-12-10T22:55:50\",\"2020-12-14T06:19:57\",\"2020-12-18T06:12:46\",\"2020-12-09T15:59:25\",\"2020-12-10T22:55:49\",\"2020-12-14T06:19:55\",\"2020-12-18T06:12:45\",\"2020-12-09T03:33:19\",\"2020-12-13T07:32:27\",\"2020-12-09T03:33:17\",\"2020-12-13T07:32:25\",\"2020-12-09T03:33:16\",\"2020-12-13T07:32:24\",\"2020-12-09T23:15:30\",\"2020-12-10T01:22:59\",\"2020-12-14T05:08:27\",\"2020-12-09T23:15:30\",\"2020-12-10T01:23:00\",\"2020-12-14T05:08:27\",\"2020-12-09T23:15:27\",\"2020-12-10T01:22:59\",\"2020-12-14T05:08:27\",\"2020-12-09T20:46:21\",\"2020-12-09T20:46:22\",\"2020-12-09T20:46:20\",\"2020-12-09T15:42:39\",\"2020-12-10T09:30:40\",\"2020-12-21T00:03:24\",\"2020-12-09T15:42:37\",\"2020-12-10T09:30:40\",\"2020-12-21T00:03:23\",\"2020-12-09T15:42:37\",\"2020-12-10T09:30:38\",\"2020-12-21T00:03:22\",\"2020-12-09T13:15:48\",\"2020-12-10T20:56:59\",\"2020-12-14T07:11:53\",\"2020-12-09T13:15:47\",\"2020-12-10T20:56:58\",\"2020-12-14T07:11:53\",\"2020-12-09T10:28:33\",\"2020-12-19T21:29:16\",\"2020-12-09T10:28:33\",\"2020-12-19T21:29:18\",\"2020-12-09T10:28:33\",\"2020-12-19T21:29:15\",\"2020-12-09T00:46:22\",\"2020-12-13T21:40:19\",\"2020-12-14T19:14:40\",\"2020-12-17T04:33:06\",\"2020-12-21T03:25:19\",\"2020-12-09T00:46:22\",\"2020-12-13T21:40:19\",\"2020-12-14T19:14:40\",\"2020-12-17T04:33:05\",\"2020-12-21T03:25:19\",\"2020-12-09T08:08:47\",\"2020-12-09T08:08:47\",\"2020-12-09T08:08:47\",\"2020-12-09T00:56:26\",\"2020-12-11T08:30:17\",\"2020-12-12T23:18:39\",\"2020-12-13T06:53:20\",\"2020-12-18T11:27:49\",\"2020-12-19T20:33:36\",\"2020-12-09T00:56:26\",\"2020-12-11T08:30:17\",\"2020-12-12T23:18:38\",\"2020-12-13T06:53:20\",\"2020-12-18T11:27:49\",\"2020-12-19T20:33:34\",\"2020-12-09T22:56:55\",\"2020-12-13T00:06:42\",\"2020-12-09T22:56:55\",\"2020-12-13T00:06:42\",\"2020-12-09T22:56:55\",\"2020-12-13T00:06:42\",\"2020-12-10T03:34:52\",\"2020-12-11T22:00:24\",\"2020-12-13T01:55:11\",\"2020-12-10T03:34:52\",\"2020-12-11T22:00:26\",\"2020-12-13T01:55:11\",\"2020-12-10T03:34:52\",\"2020-12-11T22:00:23\",\"2020-12-13T01:55:11\",\"2020-12-10T23:13:26\",\"2020-12-12T23:45:44\",\"2020-12-19T09:45:56\",\"2020-12-10T23:13:25\",\"2020-12-12T23:45:40\",\"2020-12-19T09:45:55\",\"2020-12-10T04:22:16\",\"2020-12-16T04:23:14\",\"2020-12-10T04:22:15\",\"2020-12-16T04:23:14\",\"2020-12-10T04:22:14\",\"2020-12-16T04:23:14\",\"2020-12-11T22:31:21\",\"2020-12-12T16:19:15\",\"2020-12-11T22:31:23\",\"2020-12-12T16:19:13\",\"2020-12-11T22:31:21\",\"2020-12-12T16:19:13\",\"2020-12-11T02:23:56\",\"2020-12-18T11:31:14\",\"2020-12-11T02:23:56\",\"2020-12-18T11:31:14\",\"2020-12-11T02:23:55\",\"2020-12-18T11:31:14\",\"2020-12-11T16:00:43\",\"2020-12-15T16:36:23\",\"2020-12-11T16:00:44\",\"2020-12-15T16:36:21\",\"2020-12-11T16:00:43\",\"2020-12-15T16:36:21\",\"2020-12-12T07:02:31\",\"2020-12-12T07:02:31\",\"2020-12-12T03:52:49\",\"2020-12-12T03:52:48\",\"2020-12-12T19:21:09\",\"2020-12-12T19:21:10\",\"2020-12-12T19:21:07\",\"2020-12-12T13:08:18\",\"2020-12-14T21:53:07\",\"2020-12-20T15:47:41\",\"2020-12-24T11:51:38\",\"2020-12-12T13:08:16\",\"2020-12-14T21:53:05\",\"2020-12-20T15:47:37\",\"2020-12-24T11:51:37\",\"2020-12-12T13:39:59\",\"2020-12-14T03:01:41\",\"2020-12-12T13:39:58\",\"2020-12-14T03:01:42\",\"2020-12-12T13:39:57\",\"2020-12-14T03:01:40\",\"2020-12-12T13:51:08\",\"2020-12-18T08:07:04\",\"2020-12-12T13:51:08\",\"2020-12-18T08:07:04\",\"2020-12-12T17:59:23\",\"2020-12-14T06:50:55\",\"2020-12-19T21:29:58\",\"2020-12-24T06:27:08\",\"2020-12-12T17:59:23\",\"2020-12-14T06:50:53\",\"2020-12-19T21:29:57\",\"2020-12-24T06:27:07\",\"2020-12-12T05:10:25\",\"2020-12-14T18:10:35\",\"2020-12-17T14:29:24\",\"2020-12-12T05:10:26\",\"2020-12-14T18:10:37\",\"2020-12-17T14:29:22\",\"2020-12-12T05:10:25\",\"2020-12-14T18:10:35\",\"2020-12-17T14:29:22\",\"2020-12-12T20:36:29\",\"2020-12-13T23:32:34\",\"2020-12-18T06:18:27\",\"2020-12-12T20:36:29\",\"2020-12-13T23:32:33\",\"2020-12-18T06:18:27\",\"2020-12-13T20:53:56\",\"2020-12-13T20:53:55\",\"2020-12-14T14:51:53\",\"2020-12-14T14:51:53\",\"2020-12-14T14:51:53\",\"2020-12-14T15:03:53\",\"2020-12-15T12:56:30\",\"2020-12-16T02:57:46\",\"2020-12-17T00:52:47\",\"2020-12-14T15:03:52\",\"2020-12-15T12:56:29\",\"2020-12-16T02:57:43\",\"2020-12-17T00:52:47\",\"2020-12-14T12:44:17\",\"2020-12-15T12:46:34\",\"2020-12-21T07:27:09\",\"2020-12-14T12:44:17\",\"2020-12-15T12:46:34\",\"2020-12-21T07:27:09\",\"2020-12-14T09:03:24\",\"2020-12-15T23:29:58\",\"2020-12-21T10:53:41\",\"2020-12-14T09:03:23\",\"2020-12-15T23:29:56\",\"2020-12-21T10:53:40\",\"2020-12-14T03:22:53\",\"2020-12-15T14:35:20\",\"2020-12-14T03:22:52\",\"2020-12-15T14:35:20\",\"2020-12-14T03:22:52\",\"2020-12-15T14:35:20\",\"2020-12-14T20:28:33\",\"2020-12-23T19:07:30\",\"2020-12-14T20:28:33\",\"2020-12-23T19:07:30\",\"2020-12-14T22:15:47\",\"2020-12-15T10:59:06\",\"2020-12-14T22:15:47\",\"2020-12-15T10:59:05\",\"2020-12-14T03:07:53\",\"2020-12-15T01:24:33\",\"2020-12-16T11:42:23\",\"2020-12-26T00:40:06\",\"2020-12-14T03:07:52\",\"2020-12-15T01:24:33\",\"2020-12-16T11:42:23\",\"2020-12-26T00:40:05\",\"2020-12-14T03:07:52\",\"2020-12-15T01:24:33\",\"2020-12-16T11:42:18\",\"2020-12-26T00:40:05\",\"2020-12-14T10:59:01\",\"2020-12-16T08:36:24\",\"2020-12-21T04:48:37\",\"2020-12-14T10:59:01\",\"2020-12-16T08:36:24\",\"2020-12-21T04:48:37\",\"2020-12-14T10:58:59\",\"2020-12-16T08:36:21\",\"2020-12-21T04:48:36\",\"2020-12-14T03:14:57\",\"2020-12-14T03:14:59\",\"2020-12-14T03:14:57\",\"2020-12-14T00:45:13\",\"2020-12-18T23:20:42\",\"2020-12-19T12:49:09\",\"2020-12-14T00:45:11\",\"2020-12-18T23:20:42\",\"2020-12-19T12:49:07\",\"2020-12-14T00:45:10\",\"2020-12-18T23:20:41\",\"2020-12-19T12:49:07\",\"2020-12-14T23:51:41\",\"2020-12-18T12:29:13\",\"2020-12-14T23:51:39\",\"2020-12-18T12:29:10\",\"2020-12-14T20:09:27\",\"2020-12-23T23:51:44\",\"2020-12-14T20:09:27\",\"2020-12-23T23:51:41\",\"2020-12-14T20:09:27\",\"2020-12-23T23:51:41\",\"2020-12-14T07:06:29\",\"2020-12-17T14:59:56\",\"2020-12-14T07:06:25\",\"2020-12-17T14:59:54\",\"2020-12-14T23:33:36\",\"2020-12-19T06:12:58\",\"2020-12-21T17:24:23\",\"2020-12-14T23:33:36\",\"2020-12-19T06:12:58\",\"2020-12-21T17:24:21\",\"2020-12-14T05:56:34\",\"2020-12-15T15:55:31\",\"2020-12-14T05:56:34\",\"2020-12-15T15:55:30\",\"2020-12-14T05:56:34\",\"2020-12-15T15:55:30\",\"2020-12-15T11:29:42\",\"2020-12-20T01:53:09\",\"2020-12-15T11:29:41\",\"2020-12-20T01:53:08\",\"2020-12-15T21:07:11\",\"2020-12-19T19:32:38\",\"2020-12-24T04:42:44\",\"2020-12-15T21:07:11\",\"2020-12-19T19:32:39\",\"2020-12-24T04:42:44\",\"2020-12-15T21:07:11\",\"2020-12-19T19:32:36\",\"2020-12-24T04:42:44\",\"2020-12-15T05:11:16\",\"2020-12-15T05:11:15\",\"2020-12-16T13:51:58\",\"2020-12-16T13:51:58\",\"2020-12-16T13:51:58\",\"2020-12-16T08:57:51\",\"2020-12-17T17:22:39\",\"2020-12-18T06:57:49\",\"2020-12-16T08:57:51\",\"2020-12-17T17:22:39\",\"2020-12-18T06:57:48\",\"2020-12-16T08:57:49\",\"2020-12-17T17:22:39\",\"2020-12-18T06:57:47\",\"2020-12-16T14:02:53\",\"2020-12-17T10:48:10\",\"2020-12-18T04:53:58\",\"2020-12-20T23:48:26\",\"2020-12-21T19:10:02\",\"2020-12-24T18:32:31\",\"2020-12-16T14:02:53\",\"2020-12-17T10:48:09\",\"2020-12-18T04:53:58\",\"2020-12-20T23:48:25\",\"2020-12-21T19:09:57\",\"2020-12-24T18:32:31\",\"2020-12-16T20:21:17\",\"2020-12-18T06:39:36\",\"2020-12-19T20:51:04\",\"2020-12-23T15:04:05\",\"2020-12-16T20:21:16\",\"2020-12-18T06:39:36\",\"2020-12-19T20:51:04\",\"2020-12-23T15:04:04\",\"2020-12-16T15:25:09\",\"2020-12-17T21:56:19\",\"2020-12-23T20:36:27\",\"2020-12-16T15:25:08\",\"2020-12-17T21:56:20\",\"2020-12-23T20:36:25\",\"2020-12-16T15:25:06\",\"2020-12-17T21:56:19\",\"2020-12-23T20:36:23\",\"2020-12-16T04:29:37\",\"2020-12-19T14:04:19\",\"2020-12-16T04:29:35\",\"2020-12-19T14:04:19\",\"2020-12-16T04:29:35\",\"2020-12-19T14:04:18\",\"2020-12-16T02:50:15\",\"2020-12-17T15:00:19\",\"2020-12-23T15:28:40\",\"2020-12-16T02:50:15\",\"2020-12-17T15:00:20\",\"2020-12-23T15:28:40\",\"2020-12-16T02:50:15\",\"2020-12-17T15:00:19\",\"2020-12-23T15:28:40\",\"2020-12-16T22:35:11\",\"2020-12-17T17:50:14\",\"2020-12-21T07:23:33\",\"2020-12-22T15:34:45\",\"2020-12-16T22:35:11\",\"2020-12-17T17:50:14\",\"2020-12-21T07:23:31\",\"2020-12-22T15:34:46\",\"2020-12-16T22:35:11\",\"2020-12-17T17:50:14\",\"2020-12-21T07:23:29\",\"2020-12-22T15:34:43\",\"2020-12-16T16:43:05\",\"2020-12-17T20:02:35\",\"2020-12-26T23:54:21\",\"2020-12-16T16:43:05\",\"2020-12-17T20:02:33\",\"2020-12-26T23:54:23\",\"2020-12-16T16:43:05\",\"2020-12-17T20:02:33\",\"2020-12-26T23:54:21\",\"2020-12-16T20:23:43\",\"2020-12-24T16:56:54\",\"2020-12-16T20:23:43\",\"2020-12-24T16:56:54\",\"2020-12-16T20:23:43\",\"2020-12-24T16:56:51\",\"2020-12-16T00:11:15\",\"2020-12-20T00:44:10\",\"2020-12-21T19:26:54\",\"2020-12-16T00:11:10\",\"2020-12-20T00:44:08\",\"2020-12-21T19:26:53\",\"2020-12-16T01:33:07\",\"2020-12-17T19:10:15\",\"2020-12-21T05:47:10\",\"2020-12-16T01:33:05\",\"2020-12-17T19:10:16\",\"2020-12-21T05:47:10\",\"2020-12-16T01:33:05\",\"2020-12-17T19:10:15\",\"2020-12-21T05:47:10\",\"2020-12-16T08:24:57\",\"2020-12-21T15:20:10\",\"2020-12-24T00:51:06\",\"2020-12-16T08:24:57\",\"2020-12-21T15:20:10\",\"2020-12-24T00:51:06\",\"2020-12-16T08:24:56\",\"2020-12-21T15:20:08\",\"2020-12-24T00:51:04\",\"2020-12-16T03:18:37\",\"2020-12-17T15:54:16\",\"2020-12-20T00:53:16\",\"2020-12-16T03:18:37\",\"2020-12-17T15:54:15\",\"2020-12-20T00:53:17\",\"2020-12-16T03:18:36\",\"2020-12-17T15:54:15\",\"2020-12-20T00:53:16\",\"2020-12-16T21:53:10\",\"2020-12-16T21:53:11\",\"2020-12-16T21:53:10\",\"2020-12-16T23:33:25\",\"2020-12-17T09:48:36\",\"2020-12-18T03:26:44\",\"2020-12-19T18:23:52\",\"2020-12-16T23:33:24\",\"2020-12-17T09:48:35\",\"2020-12-18T03:26:43\",\"2020-12-19T18:23:50\",\"2020-12-16T01:58:15\",\"2020-12-18T15:40:42\",\"2020-12-16T01:58:15\",\"2020-12-18T15:40:42\",\"2020-12-16T04:59:51\",\"2020-12-25T01:49:55\",\"2020-12-16T04:59:49\",\"2020-12-25T01:49:55\",\"2020-12-16T13:32:57\",\"2020-12-19T17:49:04\",\"2020-12-20T22:25:59\",\"2020-12-21T13:57:17\",\"2020-12-24T18:23:18\",\"2020-12-16T13:32:59\",\"2020-12-19T17:49:04\",\"2020-12-20T22:26:00\",\"2020-12-21T13:57:19\",\"2020-12-24T18:23:18\",\"2020-12-16T13:32:56\",\"2020-12-19T17:49:02\",\"2020-12-20T22:25:59\",\"2020-12-21T13:57:17\",\"2020-12-24T18:23:18\",\"2020-12-16T20:15:15\",\"2020-12-25T19:45:01\",\"2020-12-27T13:15:03\",\"2020-12-16T20:15:14\",\"2020-12-25T19:45:02\",\"2020-12-27T13:15:01\",\"2020-12-16T20:15:12\",\"2020-12-25T19:45:01\",\"2020-12-27T13:15:01\",\"2020-12-16T17:38:17\",\"2020-12-16T17:38:17\",\"2020-12-16T17:38:17\",\"2020-12-16T01:58:31\",\"2020-12-16T01:58:27\",\"2020-12-16T06:44:00\",\"2020-12-17T15:50:14\",\"2020-12-19T17:23:55\",\"2020-12-16T06:44:00\",\"2020-12-17T15:50:11\",\"2020-12-19T17:23:55\",\"2020-12-16T13:48:48\",\"2020-12-17T05:27:39\",\"2020-12-18T20:29:46\",\"2020-12-23T23:12:33\",\"2020-12-24T00:05:04\",\"2020-12-16T13:48:46\",\"2020-12-17T05:27:37\",\"2020-12-18T20:29:44\",\"2020-12-23T23:12:33\",\"2020-12-24T00:05:03\",\"2020-12-16T04:11:46\",\"2020-12-17T07:22:34\",\"2020-12-19T00:20:19\",\"2020-12-16T04:11:46\",\"2020-12-17T07:22:34\",\"2020-12-19T00:20:18\",\"2020-12-16T14:53:53\",\"2020-12-18T04:28:48\",\"2020-12-20T17:31:09\",\"2020-12-16T14:53:53\",\"2020-12-18T04:28:44\",\"2020-12-20T17:31:08\",\"2020-12-16T14:53:53\",\"2020-12-18T04:28:42\",\"2020-12-20T17:31:08\",\"2020-12-16T15:34:50\",\"2020-12-16T15:34:49\",\"2020-12-16T08:35:12\",\"2020-12-17T22:23:53\",\"2020-12-24T20:59:28\",\"2020-12-16T08:35:12\",\"2020-12-17T22:23:51\",\"2020-12-24T20:59:26\",\"2020-12-17T05:14:06\",\"2020-12-19T18:26:10\",\"2020-12-20T21:13:06\",\"2020-12-21T19:49:04\",\"2020-12-17T05:14:06\",\"2020-12-19T18:26:09\",\"2020-12-20T21:13:06\",\"2020-12-21T19:49:03\",\"2020-12-17T12:23:42\",\"2020-12-17T12:23:41\",\"2020-12-17T12:23:41\",\"2020-12-17T15:14:55\",\"2020-12-17T15:14:54\",\"2020-12-17T15:14:53\",\"2020-12-17T17:04:59\",\"2020-12-21T22:18:53\",\"2020-12-17T17:04:59\",\"2020-12-21T22:18:53\",\"2020-12-17T10:50:48\",\"2020-12-18T18:23:28\",\"2020-12-17T10:50:46\",\"2020-12-18T18:23:28\",\"2020-12-17T09:36:03\",\"2020-12-18T22:15:57\",\"2020-12-17T09:36:02\",\"2020-12-18T22:15:55\",\"2020-12-17T01:00:29\",\"2020-12-27T22:44:40\",\"2020-12-28T06:58:45\",\"2020-12-17T01:00:29\",\"2020-12-27T22:44:40\",\"2020-12-28T06:58:43\",\"2020-12-17T22:58:43\",\"2020-12-23T09:04:20\",\"2020-12-17T22:58:43\",\"2020-12-23T09:04:19\",\"2020-12-17T00:44:53\",\"2020-12-20T23:12:21\",\"2020-12-17T00:44:51\",\"2020-12-20T23:12:23\",\"2020-12-17T00:44:51\",\"2020-12-20T23:12:20\",\"2020-12-17T11:57:21\",\"2020-12-19T22:57:46\",\"2020-12-17T11:57:22\",\"2020-12-19T22:57:46\",\"2020-12-17T11:57:20\",\"2020-12-19T22:57:45\",\"2020-12-17T11:16:36\",\"2020-12-17T11:16:36\",\"2020-12-17T11:16:36\",\"2020-12-17T03:00:45\",\"2020-12-18T22:35:29\",\"2020-12-19T06:17:10\",\"2020-12-22T17:20:47\",\"2020-12-17T03:00:42\",\"2020-12-18T22:35:27\",\"2020-12-19T06:17:10\",\"2020-12-22T17:20:47\",\"2020-12-17T19:08:59\",\"2020-12-20T13:13:51\",\"2020-12-21T07:30:32\",\"2020-12-17T19:09:00\",\"2020-12-20T13:13:51\",\"2020-12-21T07:30:32\",\"2020-12-17T19:08:59\",\"2020-12-20T13:13:49\",\"2020-12-21T07:30:32\",\"2020-12-18T09:35:30\",\"2020-12-20T00:34:45\",\"2020-12-21T06:07:43\",\"2020-12-22T23:15:17\",\"2020-12-18T09:35:29\",\"2020-12-20T00:34:42\",\"2020-12-21T06:07:43\",\"2020-12-22T23:15:16\",\"2020-12-18T05:12:03\",\"2020-12-19T02:30:50\",\"2020-12-26T17:04:38\",\"2020-12-18T05:12:03\",\"2020-12-19T02:30:50\",\"2020-12-26T17:04:38\",\"2020-12-18T09:35:35\",\"2020-12-18T09:35:35\",\"2020-12-18T18:30:23\",\"2020-12-21T17:26:43\",\"2020-12-18T18:30:24\",\"2020-12-21T17:26:46\",\"2020-12-18T18:30:21\",\"2020-12-21T17:26:43\",\"2020-12-18T07:06:31\",\"2020-12-23T21:00:46\",\"2020-12-27T00:18:45\",\"2020-12-18T07:06:30\",\"2020-12-23T21:00:45\",\"2020-12-27T00:18:46\",\"2020-12-18T07:06:27\",\"2020-12-23T21:00:45\",\"2020-12-27T00:18:45\",\"2020-12-18T03:49:53\",\"2020-12-19T12:29:34\",\"2020-12-24T05:02:55\",\"2020-12-18T03:49:51\",\"2020-12-19T12:29:34\",\"2020-12-24T05:02:55\",\"2020-12-18T17:12:51\",\"2020-12-18T17:12:49\",\"2020-12-18T18:55:30\",\"2020-12-18T18:55:28\",\"2020-12-18T12:03:14\",\"2020-12-20T21:01:50\",\"2020-12-21T14:49:00\",\"2020-12-25T02:46:32\",\"2020-12-18T12:03:13\",\"2020-12-20T21:01:51\",\"2020-12-21T14:49:00\",\"2020-12-25T02:46:34\",\"2020-12-18T12:03:13\",\"2020-12-20T21:01:49\",\"2020-12-21T14:48:59\",\"2020-12-25T02:46:32\",\"2020-12-18T20:09:27\",\"2020-12-19T07:59:53\",\"2020-12-21T04:34:21\",\"2020-12-18T20:09:27\",\"2020-12-19T07:59:52\",\"2020-12-21T04:34:21\",\"2020-12-18T16:39:35\",\"2020-12-19T10:13:09\",\"2020-12-18T16:39:35\",\"2020-12-19T10:13:10\",\"2020-12-18T16:39:35\",\"2020-12-19T10:13:09\",\"2020-12-19T06:44:32\",\"2020-12-20T18:41:16\",\"2020-12-22T22:43:19\",\"2020-12-19T06:44:31\",\"2020-12-20T18:41:16\",\"2020-12-22T22:43:19\",\"2020-12-19T18:21:04\",\"2020-12-23T07:09:37\",\"2020-12-19T18:21:02\",\"2020-12-23T07:09:36\",\"2020-12-19T18:21:02\",\"2020-12-23T07:09:36\",\"2020-12-19T00:59:21\",\"2020-12-19T00:59:20\",\"2020-12-19T00:59:20\",\"2020-12-19T08:37:44\",\"2020-12-22T18:34:04\",\"2020-12-29T03:44:12\",\"2020-12-19T08:37:44\",\"2020-12-22T18:34:04\",\"2020-12-29T03:44:12\",\"2020-12-19T23:01:52\",\"2020-12-20T10:05:09\",\"2020-12-19T23:01:51\",\"2020-12-20T10:05:06\",\"2020-12-19T23:01:51\",\"2020-12-20T10:05:05\",\"2020-12-19T19:08:07\",\"2020-12-20T23:58:43\",\"2020-12-21T07:02:27\",\"2020-12-19T19:08:07\",\"2020-12-20T23:58:43\",\"2020-12-21T07:02:26\",\"2020-12-19T19:08:07\",\"2020-12-20T23:58:43\",\"2020-12-21T07:02:25\",\"2020-12-19T00:40:27\",\"2020-12-19T00:40:25\",\"2020-12-19T00:40:25\",\"2020-12-19T06:25:26\",\"2020-12-21T06:35:05\",\"2020-12-23T04:34:47\",\"2020-12-19T06:25:23\",\"2020-12-21T06:35:03\",\"2020-12-23T04:34:47\",\"2020-12-19T20:15:38\",\"2020-12-20T15:15:15\",\"2020-12-19T20:15:39\",\"2020-12-20T15:15:16\",\"2020-12-19T20:15:38\",\"2020-12-20T15:15:15\",\"2020-12-19T22:25:41\",\"2020-12-20T20:47:41\",\"2020-12-19T22:25:41\",\"2020-12-20T20:47:41\",\"2020-12-19T22:25:41\",\"2020-12-20T20:47:40\",\"2020-12-20T13:30:31\",\"2020-12-22T04:59:48\",\"2020-12-20T13:30:31\",\"2020-12-22T04:59:44\",\"2020-12-20T20:08:13\",\"2020-12-21T10:10:24\",\"2020-12-20T20:08:12\",\"2020-12-21T10:10:26\",\"2020-12-20T20:08:10\",\"2020-12-21T10:10:24\",\"2020-12-20T22:42:22\",\"2020-12-21T11:25:30\",\"2020-12-28T20:57:09\",\"2020-12-20T22:42:25\",\"2020-12-21T11:25:26\",\"2020-12-28T20:57:09\",\"2020-12-20T22:42:22\",\"2020-12-21T11:25:26\",\"2020-12-28T20:57:09\",\"2020-12-20T22:34:26\",\"2020-12-21T00:48:03\",\"2020-12-20T22:34:26\",\"2020-12-21T00:48:03\",\"2020-12-20T22:34:26\",\"2020-12-21T00:48:03\",\"2020-12-20T03:50:10\",\"2020-12-21T07:18:39\",\"2020-12-20T03:50:10\",\"2020-12-21T07:18:38\",\"2020-12-20T03:50:07\",\"2020-12-21T07:18:37\",\"2020-12-20T10:53:32\",\"2020-12-21T22:48:51\",\"2020-12-24T22:21:50\",\"2020-12-20T10:53:29\",\"2020-12-21T22:48:51\",\"2020-12-24T22:21:48\",\"2020-12-21T07:44:45\",\"2020-12-29T06:11:27\",\"2020-12-21T07:44:45\",\"2020-12-29T06:11:26\",\"2020-12-21T19:04:34\",\"2020-12-21T19:04:37\",\"2020-12-21T19:04:34\",\"2020-12-21T11:23:44\",\"2020-12-22T03:28:37\",\"2020-12-21T11:23:43\",\"2020-12-22T03:28:35\",\"2020-12-21T05:25:07\",\"2020-12-21T05:25:09\",\"2020-12-21T05:25:05\",\"2020-12-21T04:41:02\",\"2020-12-23T12:02:31\",\"2020-12-21T04:41:01\",\"2020-12-23T12:02:29\",\"2020-12-21T03:35:22\",\"2020-12-22T08:00:39\",\"2020-12-23T19:04:46\",\"2020-12-21T03:35:22\",\"2020-12-22T08:00:39\",\"2020-12-23T19:04:46\",\"2020-12-21T03:35:21\",\"2020-12-22T08:00:37\",\"2020-12-23T19:04:46\",\"2020-12-21T06:00:54\",\"2020-12-22T01:52:31\",\"2020-12-27T11:48:13\",\"2020-12-28T14:40:04\",\"2020-12-21T06:00:54\",\"2020-12-22T01:52:30\",\"2020-12-27T11:48:17\",\"2020-12-28T14:40:06\",\"2020-12-21T06:00:53\",\"2020-12-22T01:52:30\",\"2020-12-27T11:48:13\",\"2020-12-28T14:40:03\",\"2020-12-21T19:46:58\",\"2020-12-22T13:44:24\",\"2020-12-24T00:21:48\",\"2020-12-21T19:46:56\",\"2020-12-22T13:44:22\",\"2020-12-24T00:21:46\",\"2020-12-21T02:20:56\",\"2020-12-22T05:52:23\",\"2020-12-24T04:50:31\",\"2020-12-21T02:20:54\",\"2020-12-22T05:52:22\",\"2020-12-24T04:50:28\",\"2020-12-21T22:56:43\",\"2020-12-27T03:57:25\",\"2020-12-21T22:56:40\",\"2020-12-27T03:57:23\",\"2020-12-21T01:54:21\",\"2020-12-21T01:54:20\",\"2020-12-21T04:30:29\",\"2020-12-23T23:59:24\",\"2020-12-26T05:47:22\",\"2020-12-21T04:30:28\",\"2020-12-23T23:59:22\",\"2020-12-26T05:47:20\",\"2020-12-21T12:12:38\",\"2020-12-25T15:15:09\",\"2020-12-21T12:12:39\",\"2020-12-25T15:15:08\",\"2020-12-21T12:12:37\",\"2020-12-25T15:15:08\",\"2020-12-21T00:49:58\",\"2020-12-21T00:49:58\",\"2020-12-21T00:49:58\",\"2020-12-07T15:32:54\",\"2020-12-08T08:29:31\",\"2020-12-10T18:18:27\",\"2020-12-16T20:35:48\",\"2020-12-18T23:57:25\",\"2020-12-07T15:32:53\",\"2020-12-08T08:29:27\",\"2020-12-10T18:18:24\",\"2020-12-16T20:35:47\",\"2020-12-18T23:57:25\",\"2020-12-07T01:37:06\",\"2020-12-08T02:00:08\",\"2020-12-12T03:48:01\",\"2020-12-07T01:37:05\",\"2020-12-08T02:00:08\",\"2020-12-12T03:47:59\",\"2020-12-07T18:51:01\",\"2020-12-08T20:52:18\",\"2020-12-09T09:09:04\",\"2020-12-12T20:33:27\",\"2020-12-07T18:51:01\",\"2020-12-08T20:52:16\",\"2020-12-09T09:09:04\",\"2020-12-12T20:33:24\",\"2020-12-07T16:11:00\",\"2020-12-11T07:18:19\",\"2020-12-07T16:10:59\",\"2020-12-11T07:18:19\",\"2020-12-07T18:52:39\",\"2020-12-08T07:52:57\",\"2020-12-12T07:22:15\",\"2020-12-18T07:51:29\",\"2020-12-07T18:52:38\",\"2020-12-08T07:52:57\",\"2020-12-12T07:22:15\",\"2020-12-18T07:51:27\",\"2020-12-07T03:01:23\",\"2020-12-09T21:27:37\",\"2020-12-10T21:58:38\",\"2020-12-07T03:01:23\",\"2020-12-09T21:27:37\",\"2020-12-10T21:58:38\",\"2020-12-07T21:34:39\",\"2020-12-09T13:48:38\",\"2020-12-07T21:34:38\",\"2020-12-09T13:48:38\",\"2020-12-07T09:26:54\",\"2020-12-10T03:29:26\",\"2020-12-07T09:26:53\",\"2020-12-10T03:29:26\",\"2020-12-07T07:44:21\",\"2020-12-08T14:36:54\",\"2020-12-07T07:44:21\",\"2020-12-08T14:36:53\",\"2020-12-07T03:40:39\",\"2020-12-09T15:06:43\",\"2020-12-13T19:46:14\",\"2020-12-07T03:40:39\",\"2020-12-09T15:06:43\",\"2020-12-13T19:46:11\",\"2020-12-07T17:05:56\",\"2020-12-12T02:12:03\",\"2020-12-07T17:05:56\",\"2020-12-12T02:12:03\",\"2020-12-07T20:08:36\",\"2020-12-09T04:16:38\",\"2020-12-07T20:08:36\",\"2020-12-09T04:16:38\",\"2020-12-07T09:16:20\",\"2020-12-11T15:44:24\",\"2020-12-07T09:16:20\",\"2020-12-11T15:44:22\",\"2020-12-07T13:19:37\",\"2020-12-09T21:08:41\",\"2020-12-19T16:36:39\",\"2020-12-07T13:19:35\",\"2020-12-09T21:08:40\",\"2020-12-19T16:36:38\",\"2020-12-07T18:47:13\",\"2020-12-13T23:02:41\",\"2020-12-07T18:47:11\",\"2020-12-13T23:02:40\",\"2020-12-07T06:26:55\",\"2020-12-07T06:26:53\",\"2020-12-07T20:12:11\",\"2020-12-08T05:36:42\",\"2020-12-09T22:28:41\",\"2020-12-12T17:19:44\",\"2020-12-15T00:26:04\",\"2020-12-16T21:49:17\",\"2020-12-07T20:12:10\",\"2020-12-08T05:36:39\",\"2020-12-09T22:28:40\",\"2020-12-12T17:19:44\",\"2020-12-15T00:26:02\",\"2020-12-16T21:49:17\",\"2020-12-07T06:29:23\",\"2020-12-10T23:30:25\",\"2020-12-15T10:38:42\",\"2020-12-07T06:29:22\",\"2020-12-10T23:30:23\",\"2020-12-15T10:38:42\",\"2020-12-07T16:44:40\",\"2020-12-08T04:54:35\",\"2020-12-09T19:18:29\",\"2020-12-17T07:58:54\",\"2020-12-07T16:44:39\",\"2020-12-08T04:54:35\",\"2020-12-09T19:18:29\",\"2020-12-17T07:58:51\",\"2020-12-07T20:28:37\",\"2020-12-08T07:31:28\",\"2020-12-10T10:44:22\",\"2020-12-07T20:28:35\",\"2020-12-08T07:31:27\",\"2020-12-10T10:44:21\",\"2020-12-07T03:52:26\",\"2020-12-08T10:24:37\",\"2020-12-09T05:41:11\",\"2020-12-10T17:31:05\",\"2020-12-14T01:43:30\",\"2020-12-16T17:59:37\",\"2020-12-07T03:52:25\",\"2020-12-08T10:24:37\",\"2020-12-09T05:41:11\",\"2020-12-10T17:31:02\",\"2020-12-14T01:43:30\",\"2020-12-16T17:59:36\",\"2020-12-07T07:43:49\",\"2020-12-10T15:48:23\",\"2020-12-13T00:22:56\",\"2020-12-07T07:43:49\",\"2020-12-10T15:48:23\",\"2020-12-13T00:22:56\",\"2020-12-07T00:05:57\",\"2020-12-08T17:56:17\",\"2020-12-10T22:02:26\",\"2020-12-07T00:05:57\",\"2020-12-08T17:56:16\",\"2020-12-10T22:02:24\",\"2020-12-07T23:55:09\",\"2020-12-09T20:00:12\",\"2020-12-12T06:22:50\",\"2020-12-07T23:55:07\",\"2020-12-09T20:00:11\",\"2020-12-12T06:22:48\",\"2020-12-07T13:00:47\",\"2020-12-10T02:03:23\",\"2020-12-07T13:00:45\",\"2020-12-10T02:03:21\",\"2020-12-07T02:43:19\",\"2020-12-11T11:29:45\",\"2020-12-07T02:43:17\",\"2020-12-11T11:29:44\",\"2020-12-07T03:24:33\",\"2020-12-09T00:05:48\",\"2020-12-07T03:24:33\",\"2020-12-09T00:05:48\",\"2020-12-07T02:56:55\",\"2020-12-10T18:24:14\",\"2020-12-11T12:01:56\",\"2020-12-12T01:13:58\",\"2020-12-07T02:56:52\",\"2020-12-10T18:24:12\",\"2020-12-11T12:01:55\",\"2020-12-12T01:13:56\",\"2020-12-07T02:16:26\",\"2020-12-08T23:47:42\",\"2020-12-07T02:16:26\",\"2020-12-08T23:47:42\",\"2020-12-07T06:56:20\",\"2020-12-08T02:45:34\",\"2020-12-09T07:58:27\",\"2020-12-10T18:17:59\",\"2020-12-11T01:02:30\",\"2020-12-07T06:56:20\",\"2020-12-08T02:45:33\",\"2020-12-09T07:58:27\",\"2020-12-10T18:17:59\",\"2020-12-11T01:02:30\",\"2020-12-07T14:16:14\",\"2020-12-10T07:30:38\",\"2020-12-18T23:43:04\",\"2020-12-19T18:21:27\",\"2020-12-21T22:30:04\",\"2020-12-07T14:16:14\",\"2020-12-10T07:30:37\",\"2020-12-18T23:43:04\",\"2020-12-19T18:21:27\",\"2020-12-21T22:30:04\",\"2020-12-07T07:33:54\",\"2020-12-09T15:24:54\",\"2020-12-12T22:54:03\",\"2020-12-07T07:33:54\",\"2020-12-09T15:24:53\",\"2020-12-12T22:54:01\",\"2020-12-07T10:44:00\",\"2020-12-07T10:44:00\",\"2020-12-07T08:23:16\",\"2020-12-19T13:31:24\",\"2020-12-07T08:23:16\",\"2020-12-19T13:31:24\",\"2020-12-07T13:21:27\",\"2020-12-11T10:00:04\",\"2020-12-16T12:12:33\",\"2020-12-07T13:21:26\",\"2020-12-11T10:00:03\",\"2020-12-16T12:12:31\",\"2020-12-07T07:42:23\",\"2020-12-20T05:03:21\",\"2020-12-21T20:52:35\",\"2020-12-07T07:42:23\",\"2020-12-20T05:03:21\",\"2020-12-21T20:52:34\",\"2020-12-07T21:58:31\",\"2020-12-10T20:18:33\",\"2020-12-12T14:31:31\",\"2020-12-21T00:37:55\",\"2020-12-07T21:58:30\",\"2020-12-10T20:18:32\",\"2020-12-12T14:31:31\",\"2020-12-21T00:37:55\",\"2020-12-07T13:26:03\",\"2020-12-09T04:28:40\",\"2020-12-07T13:26:02\",\"2020-12-09T04:28:39\",\"2020-12-07T17:09:15\",\"2020-12-17T09:45:02\",\"2020-12-07T17:09:14\",\"2020-12-17T09:44:59\",\"2020-12-07T23:42:48\",\"2020-12-08T20:37:22\",\"2020-12-09T01:58:16\",\"2020-12-11T20:21:28\",\"2020-12-07T23:42:48\",\"2020-12-08T20:37:22\",\"2020-12-09T01:58:16\",\"2020-12-11T20:21:26\",\"2020-12-07T17:24:56\",\"2020-12-08T04:27:02\",\"2020-12-21T05:59:31\",\"2020-12-07T17:24:56\",\"2020-12-08T04:27:00\",\"2020-12-21T05:59:31\",\"2020-12-07T15:31:00\",\"2020-12-08T20:42:48\",\"2020-12-21T01:25:38\",\"2020-12-07T15:30:58\",\"2020-12-08T20:42:48\",\"2020-12-21T01:25:38\",\"2020-12-07T20:16:38\",\"2020-12-08T07:36:47\",\"2020-12-09T02:54:29\",\"2020-12-07T20:16:35\",\"2020-12-08T07:36:44\",\"2020-12-09T02:54:27\",\"2020-12-07T20:28:52\",\"2020-12-08T17:01:11\",\"2020-12-09T19:16:43\",\"2020-12-10T04:56:08\",\"2020-12-14T03:52:45\",\"2020-12-07T20:28:49\",\"2020-12-08T17:01:10\",\"2020-12-09T19:16:43\",\"2020-12-10T04:56:07\",\"2020-12-14T03:52:45\",\"2020-12-07T14:09:37\",\"2020-12-08T15:34:14\",\"2020-12-11T05:07:13\",\"2020-12-07T14:09:37\",\"2020-12-08T15:34:14\",\"2020-12-11T05:07:13\",\"2020-12-07T15:21:38\",\"2020-12-10T09:38:08\",\"2020-12-13T06:54:24\",\"2020-12-07T15:21:35\",\"2020-12-10T09:38:08\",\"2020-12-13T06:54:22\",\"2020-12-07T20:07:05\",\"2020-12-16T22:57:04\",\"2020-12-07T20:07:05\",\"2020-12-16T22:57:02\",\"2020-12-07T05:46:43\",\"2020-12-07T05:46:42\",\"2020-12-07T18:48:14\",\"2020-12-09T08:55:05\",\"2020-12-10T17:20:41\",\"2020-12-17T05:04:50\",\"2020-12-07T18:48:13\",\"2020-12-09T08:55:04\",\"2020-12-10T17:20:40\",\"2020-12-17T05:04:47\",\"2020-12-07T05:59:51\",\"2020-12-08T20:03:39\",\"2020-12-09T01:32:19\",\"2020-12-07T05:59:46\",\"2020-12-08T20:03:37\",\"2020-12-09T01:32:19\",\"2020-12-07T17:12:31\",\"2020-12-07T17:12:28\",\"2020-12-07T04:48:56\",\"2020-12-08T09:41:56\",\"2020-12-07T04:48:55\",\"2020-12-08T09:41:54\",\"2020-12-08T16:11:48\",\"2020-12-10T09:16:14\",\"2020-12-08T16:11:46\",\"2020-12-10T09:16:14\",\"2020-12-08T00:22:22\",\"2020-12-10T12:04:46\",\"2020-12-08T00:22:20\",\"2020-12-10T12:04:45\",\"2020-12-08T03:09:23\",\"2020-12-09T18:38:21\",\"2020-12-15T12:17:33\",\"2020-12-18T16:40:02\",\"2020-12-08T03:09:21\",\"2020-12-09T18:38:21\",\"2020-12-15T12:17:30\",\"2020-12-18T16:40:02\",\"2020-12-08T11:31:11\",\"2020-12-09T22:18:41\",\"2020-12-10T07:48:59\",\"2020-12-13T21:35:01\",\"2020-12-08T11:31:09\",\"2020-12-09T22:18:41\",\"2020-12-10T07:48:58\",\"2020-12-13T21:34:59\",\"2020-12-08T03:10:21\",\"2020-12-09T21:29:08\",\"2020-12-12T07:22:28\",\"2020-12-08T03:10:20\",\"2020-12-09T21:29:07\",\"2020-12-12T07:22:28\",\"2020-12-08T03:32:07\",\"2020-12-09T15:55:36\",\"2020-12-15T06:54:51\",\"2020-12-08T03:32:07\",\"2020-12-09T15:55:35\",\"2020-12-15T06:54:51\",\"2020-12-08T22:42:19\",\"2020-12-09T14:38:29\",\"2020-12-10T13:13:08\",\"2020-12-14T23:59:06\",\"2020-12-08T22:42:19\",\"2020-12-09T14:38:27\",\"2020-12-10T13:13:03\",\"2020-12-14T23:59:06\",\"2020-12-08T08:51:44\",\"2020-12-08T08:51:44\",\"2020-12-08T18:11:45\",\"2020-12-11T22:15:38\",\"2020-12-13T11:15:02\",\"2020-12-16T10:12:01\",\"2020-12-08T18:11:45\",\"2020-12-11T22:15:37\",\"2020-12-13T11:15:01\",\"2020-12-16T10:12:01\",\"2020-12-09T00:56:13\",\"2020-12-11T10:21:44\",\"2020-12-09T00:56:12\",\"2020-12-11T10:21:44\",\"2020-12-09T02:53:16\",\"2020-12-14T01:33:16\",\"2020-12-09T02:53:15\",\"2020-12-14T01:33:16\",\"2020-12-09T09:43:24\",\"2020-12-09T09:43:23\",\"2020-12-09T07:41:59\",\"2020-12-09T07:41:59\",\"2020-12-09T12:14:28\",\"2020-12-09T12:14:28\",\"2020-12-09T21:05:06\",\"2020-12-10T01:59:05\",\"2020-12-15T14:34:27\",\"2020-12-09T21:05:04\",\"2020-12-10T01:59:04\",\"2020-12-15T14:34:26\",\"2020-12-09T08:02:14\",\"2020-12-10T00:17:23\",\"2020-12-09T08:02:13\",\"2020-12-10T00:17:21\",\"2020-12-09T12:40:38\",\"2020-12-10T17:31:15\",\"2020-12-11T11:57:14\",\"2020-12-13T19:20:59\",\"2020-12-23T22:36:11\",\"2020-12-09T12:40:38\",\"2020-12-10T17:31:13\",\"2020-12-11T11:57:12\",\"2020-12-13T19:20:59\",\"2020-12-23T22:36:11\",\"2020-12-09T21:04:43\",\"2020-12-11T20:15:08\",\"2020-12-23T21:25:38\",\"2020-12-09T21:04:42\",\"2020-12-11T20:15:08\",\"2020-12-23T21:25:37\",\"2020-12-09T00:56:30\",\"2020-12-10T19:24:37\",\"2020-12-12T00:22:02\",\"2020-12-13T09:07:24\",\"2020-12-18T09:52:00\",\"2020-12-09T00:56:29\",\"2020-12-10T19:24:36\",\"2020-12-12T00:22:02\",\"2020-12-13T09:07:24\",\"2020-12-18T09:51:57\",\"2020-12-09T19:03:22\",\"2020-12-23T10:51:21\",\"2020-12-09T19:03:18\",\"2020-12-23T10:51:21\",\"2020-12-09T23:40:20\",\"2020-12-09T23:40:19\",\"2020-12-09T21:56:38\",\"2020-12-10T00:04:33\",\"2020-12-20T12:13:47\",\"2020-12-09T21:56:38\",\"2020-12-10T00:04:31\",\"2020-12-20T12:13:47\",\"2020-12-09T21:29:52\",\"2020-12-15T08:05:59\",\"2020-12-09T21:29:51\",\"2020-12-15T08:05:59\",\"2020-12-09T15:18:30\",\"2020-12-10T02:19:56\",\"2020-12-15T15:21:50\",\"2020-12-18T20:17:32\",\"2020-12-09T15:18:26\",\"2020-12-10T02:19:55\",\"2020-12-15T15:21:48\",\"2020-12-18T20:17:31\",\"2020-12-09T10:45:27\",\"2020-12-09T10:45:27\",\"2020-12-09T22:20:36\",\"2020-12-10T04:10:33\",\"2020-12-09T22:20:34\",\"2020-12-10T04:10:32\",\"2020-12-09T16:28:23\",\"2020-12-10T15:00:06\",\"2020-12-15T17:24:36\",\"2020-12-09T16:28:22\",\"2020-12-10T15:00:05\",\"2020-12-15T17:24:35\",\"2020-12-09T03:59:56\",\"2020-12-10T11:56:06\",\"2020-12-15T06:35:10\",\"2020-12-09T03:59:52\",\"2020-12-10T11:56:02\",\"2020-12-15T06:35:10\",\"2020-12-09T16:25:28\",\"2020-12-10T21:14:21\",\"2020-12-13T23:54:51\",\"2020-12-21T21:54:25\",\"2020-12-09T16:25:27\",\"2020-12-10T21:14:20\",\"2020-12-13T23:54:49\",\"2020-12-21T21:54:23\",\"2020-12-09T19:34:30\",\"2020-12-11T05:00:42\",\"2020-12-19T10:50:05\",\"2020-12-09T19:34:27\",\"2020-12-11T05:00:42\",\"2020-12-19T10:50:03\",\"2020-12-09T02:17:51\",\"2020-12-09T02:17:51\",\"2020-12-09T09:08:10\",\"2020-12-10T09:02:20\",\"2020-12-09T09:08:10\",\"2020-12-10T09:02:19\",\"2020-12-09T02:13:16\",\"2020-12-10T14:18:26\",\"2020-12-11T21:13:35\",\"2020-12-09T02:13:13\",\"2020-12-10T14:18:24\",\"2020-12-11T21:13:33\",\"2020-12-09T19:48:18\",\"2020-12-10T09:16:49\",\"2020-12-12T12:21:03\",\"2020-12-09T19:48:18\",\"2020-12-10T09:16:48\",\"2020-12-12T12:21:01\",\"2020-12-09T14:16:17\",\"2020-12-19T03:17:28\",\"2020-12-09T14:16:17\",\"2020-12-19T03:17:28\",\"2020-12-09T06:15:13\",\"2020-12-10T18:37:42\",\"2020-12-23T20:24:50\",\"2020-12-09T06:15:13\",\"2020-12-10T18:37:41\",\"2020-12-23T20:24:50\",\"2020-12-09T13:26:54\",\"2020-12-11T02:32:32\",\"2020-12-14T12:16:09\",\"2020-12-16T04:42:49\",\"2020-12-19T23:35:45\",\"2020-12-09T13:26:54\",\"2020-12-11T02:32:32\",\"2020-12-14T12:16:05\",\"2020-12-16T04:42:49\",\"2020-12-19T23:35:45\",\"2020-12-09T11:34:03\",\"2020-12-10T13:46:42\",\"2020-12-19T02:25:03\",\"2020-12-09T11:34:02\",\"2020-12-10T13:46:41\",\"2020-12-19T02:25:02\",\"2020-12-09T13:26:40\",\"2020-12-09T13:26:40\",\"2020-12-10T12:25:24\",\"2020-12-22T01:41:46\",\"2020-12-10T12:25:24\",\"2020-12-22T01:41:44\",\"2020-12-10T14:21:36\",\"2020-12-12T18:43:26\",\"2020-12-10T14:21:36\",\"2020-12-12T18:43:25\",\"2020-12-10T23:30:26\",\"2020-12-10T23:30:26\",\"2020-12-10T13:25:49\",\"2020-12-11T20:27:13\",\"2020-12-14T05:55:05\",\"2020-12-20T00:17:32\",\"2020-12-10T13:25:48\",\"2020-12-11T20:27:13\",\"2020-12-14T05:55:04\",\"2020-12-20T00:17:30\",\"2020-12-10T20:50:46\",\"2020-12-11T00:54:14\",\"2020-12-12T03:04:49\",\"2020-12-10T20:50:46\",\"2020-12-11T00:54:13\",\"2020-12-12T03:04:47\",\"2020-12-11T13:46:19\",\"2020-12-17T11:53:57\",\"2020-12-11T13:46:17\",\"2020-12-17T11:53:56\",\"2020-12-11T08:36:20\",\"2020-12-21T02:06:49\",\"2020-12-11T08:36:20\",\"2020-12-21T02:06:49\",\"2020-12-11T19:08:23\",\"2020-12-18T03:38:32\",\"2020-12-11T19:08:22\",\"2020-12-18T03:38:32\",\"2020-12-11T20:41:13\",\"2020-12-17T04:35:26\",\"2020-12-18T01:26:36\",\"2020-12-23T23:37:39\",\"2020-12-11T20:41:11\",\"2020-12-17T04:35:26\",\"2020-12-18T01:26:31\",\"2020-12-23T23:37:39\",\"2020-12-11T00:22:56\",\"2020-12-15T05:39:36\",\"2020-12-11T00:22:56\",\"2020-12-15T05:39:36\",\"2020-12-11T00:27:36\",\"2020-12-17T20:32:18\",\"2020-12-11T00:27:34\",\"2020-12-17T20:32:18\",\"2020-12-11T00:37:31\",\"2020-12-11T00:37:27\",\"2020-12-12T07:59:11\",\"2020-12-13T13:33:30\",\"2020-12-14T03:46:48\",\"2020-12-22T01:17:31\",\"2020-12-12T07:59:09\",\"2020-12-13T13:33:30\",\"2020-12-14T03:46:47\",\"2020-12-22T01:17:29\",\"2020-12-12T03:11:41\",\"2020-12-19T05:25:10\",\"2020-12-12T03:11:39\",\"2020-12-19T05:25:10\",\"2020-12-12T15:34:39\",\"2020-12-14T21:06:29\",\"2020-12-18T00:53:41\",\"2020-12-12T15:34:39\",\"2020-12-14T21:06:27\",\"2020-12-18T00:53:40\",\"2020-12-12T11:27:28\",\"2020-12-14T08:35:20\",\"2020-12-19T15:42:28\",\"2020-12-26T19:10:59\",\"2020-12-12T11:27:26\",\"2020-12-14T08:35:20\",\"2020-12-19T15:42:27\",\"2020-12-26T19:10:59\",\"2020-12-12T05:44:53\",\"2020-12-13T08:48:08\",\"2020-12-18T02:58:08\",\"2020-12-12T05:44:53\",\"2020-12-13T08:48:06\",\"2020-12-18T02:58:08\",\"2020-12-12T22:08:19\",\"2020-12-16T06:10:47\",\"2020-12-12T22:08:18\",\"2020-12-16T06:10:47\",\"2020-12-12T05:12:02\",\"2020-12-26T18:51:52\",\"2020-12-12T05:12:02\",\"2020-12-26T18:51:52\",\"2020-12-12T20:58:07\",\"2020-12-23T22:34:00\",\"2020-12-12T20:58:07\",\"2020-12-23T22:34:00\",\"2020-12-12T19:38:46\",\"2020-12-13T22:53:27\",\"2020-12-19T13:12:00\",\"2020-12-12T19:38:46\",\"2020-12-13T22:53:25\",\"2020-12-19T13:11:55\",\"2020-12-12T16:28:05\",\"2020-12-15T19:27:17\",\"2020-12-12T16:28:04\",\"2020-12-15T19:27:17\",\"2020-12-12T17:50:38\",\"2020-12-13T13:45:49\",\"2020-12-12T17:50:38\",\"2020-12-13T13:45:49\",\"2020-12-12T22:03:02\",\"2020-12-15T13:57:04\",\"2020-12-24T22:54:16\",\"2020-12-12T22:03:00\",\"2020-12-15T13:57:04\",\"2020-12-24T22:54:16\",\"2020-12-12T18:58:51\",\"2020-12-13T11:55:52\",\"2020-12-12T18:58:46\",\"2020-12-13T11:55:51\",\"2020-12-12T13:10:47\",\"2020-12-20T06:48:46\",\"2020-12-12T13:10:46\",\"2020-12-20T06:48:46\",\"2020-12-12T19:13:41\",\"2020-12-19T15:52:22\",\"2020-12-12T19:13:39\",\"2020-12-19T15:52:20\",\"2020-12-13T11:33:20\",\"2020-12-20T05:31:11\",\"2020-12-13T11:33:19\",\"2020-12-20T05:31:10\",\"2020-12-13T00:36:16\",\"2020-12-13T00:36:14\",\"2020-12-13T22:25:15\",\"2020-12-17T12:25:58\",\"2020-12-26T04:37:37\",\"2020-12-13T22:25:15\",\"2020-12-17T12:25:58\",\"2020-12-26T04:37:37\",\"2020-12-13T23:04:21\",\"2020-12-23T13:43:38\",\"2020-12-13T23:04:21\",\"2020-12-23T13:43:38\",\"2020-12-14T10:10:33\",\"2020-12-25T04:56:59\",\"2020-12-14T10:10:33\",\"2020-12-25T04:56:59\",\"2020-12-14T02:49:15\",\"2020-12-15T13:45:09\",\"2020-12-16T05:17:14\",\"2020-12-27T05:49:38\",\"2020-12-14T02:49:15\",\"2020-12-15T13:45:07\",\"2020-12-16T05:17:13\",\"2020-12-27T05:49:38\",\"2020-12-14T16:46:03\",\"2020-12-18T15:25:43\",\"2020-12-14T16:46:02\",\"2020-12-18T15:25:42\",\"2020-12-14T13:20:37\",\"2020-12-16T17:05:16\",\"2020-12-17T02:00:41\",\"2020-12-18T17:41:57\",\"2020-12-27T11:01:32\",\"2020-12-14T13:20:37\",\"2020-12-16T17:05:12\",\"2020-12-17T02:00:41\",\"2020-12-18T17:41:57\",\"2020-12-27T11:01:31\",\"2020-12-14T18:05:24\",\"2020-12-15T06:33:25\",\"2020-12-18T00:32:44\",\"2020-12-27T16:05:03\",\"2020-12-14T18:05:24\",\"2020-12-15T06:33:25\",\"2020-12-18T00:32:43\",\"2020-12-27T16:05:03\",\"2020-12-14T23:07:44\",\"2020-12-15T21:08:37\",\"2020-12-14T23:07:44\",\"2020-12-15T21:08:36\",\"2020-12-14T02:21:40\",\"2020-12-25T16:36:25\",\"2020-12-28T18:44:00\",\"2020-12-14T02:21:37\",\"2020-12-25T16:36:21\",\"2020-12-28T18:43:59\",\"2020-12-14T10:06:57\",\"2020-12-14T10:06:56\",\"2020-12-14T00:15:03\",\"2020-12-15T19:12:49\",\"2020-12-14T00:15:03\",\"2020-12-15T19:12:48\",\"2020-12-14T23:00:21\",\"2020-12-17T18:52:53\",\"2020-12-14T23:00:21\",\"2020-12-17T18:52:52\",\"2020-12-14T08:54:02\",\"2020-12-19T06:49:31\",\"2020-12-20T23:30:39\",\"2020-12-24T13:56:01\",\"2020-12-14T08:54:02\",\"2020-12-19T06:49:28\",\"2020-12-20T23:30:37\",\"2020-12-24T13:56:00\",\"2020-12-14T09:04:04\",\"2020-12-14T09:04:03\",\"2020-12-14T01:03:08\",\"2020-12-14T01:03:08\",\"2020-12-14T18:41:37\",\"2020-12-18T09:49:21\",\"2020-12-14T18:41:37\",\"2020-12-18T09:49:20\",\"2020-12-14T14:52:46\",\"2020-12-14T14:52:45\",\"2020-12-14T19:59:09\",\"2020-12-15T00:47:40\",\"2020-12-16T11:11:16\",\"2020-12-14T19:59:06\",\"2020-12-15T00:47:39\",\"2020-12-16T11:11:15\",\"2020-12-14T02:38:52\",\"2020-12-15T03:52:24\",\"2020-12-14T02:38:51\",\"2020-12-15T03:52:24\",\"2020-12-14T13:20:42\",\"2020-12-15T04:15:25\",\"2020-12-14T13:20:41\",\"2020-12-15T04:15:25\",\"2020-12-14T17:41:38\",\"2020-12-20T19:44:58\",\"2020-12-14T17:41:38\",\"2020-12-20T19:44:58\",\"2020-12-14T03:25:02\",\"2020-12-15T19:43:36\",\"2020-12-19T01:34:27\",\"2020-12-14T03:25:01\",\"2020-12-15T19:43:34\",\"2020-12-19T01:34:25\",\"2020-12-15T14:08:48\",\"2020-12-16T19:05:28\",\"2020-12-15T14:08:47\",\"2020-12-16T19:05:27\",\"2020-12-15T07:35:41\",\"2020-12-16T19:45:16\",\"2020-12-15T07:35:40\",\"2020-12-16T19:45:16\",\"2020-12-15T08:15:10\",\"2020-12-16T01:17:53\",\"2020-12-21T19:55:48\",\"2020-12-15T08:15:10\",\"2020-12-16T01:17:51\",\"2020-12-21T19:55:46\",\"2020-12-15T15:54:55\",\"2020-12-16T17:43:07\",\"2020-12-18T11:45:57\",\"2020-12-20T03:06:29\",\"2020-12-15T15:54:53\",\"2020-12-16T17:43:06\",\"2020-12-18T11:45:57\",\"2020-12-20T03:06:24\",\"2020-12-15T05:28:58\",\"2020-12-15T05:28:58\",\"2020-12-15T20:08:57\",\"2020-12-17T11:16:15\",\"2020-12-25T10:31:18\",\"2020-12-15T20:08:55\",\"2020-12-17T11:16:15\",\"2020-12-25T10:31:16\",\"2020-12-15T00:33:36\",\"2020-12-17T00:27:55\",\"2020-12-26T14:49:03\",\"2020-12-15T00:33:36\",\"2020-12-17T00:27:55\",\"2020-12-26T14:49:02\",\"2020-12-16T16:44:12\",\"2020-12-19T15:30:13\",\"2020-12-16T16:44:12\",\"2020-12-19T15:30:13\",\"2020-12-16T17:05:16\",\"2020-12-17T05:46:27\",\"2020-12-18T21:20:34\",\"2020-12-19T09:30:30\",\"2020-12-23T16:37:10\",\"2020-12-28T01:13:21\",\"2020-12-16T17:05:14\",\"2020-12-17T05:46:27\",\"2020-12-18T21:20:32\",\"2020-12-19T09:30:29\",\"2020-12-23T16:37:10\",\"2020-12-28T01:13:20\",\"2020-12-16T05:26:45\",\"2020-12-17T13:54:52\",\"2020-12-24T19:49:39\",\"2020-12-16T05:26:45\",\"2020-12-17T13:54:52\",\"2020-12-24T19:49:36\",\"2020-12-16T23:22:46\",\"2020-12-16T23:22:45\",\"2020-12-16T12:35:18\",\"2020-12-17T04:27:02\",\"2020-12-16T12:35:17\",\"2020-12-17T04:26:59\",\"2020-12-16T04:57:54\",\"2020-12-24T08:18:56\",\"2020-12-28T10:35:41\",\"2020-12-16T04:57:54\",\"2020-12-24T08:18:55\",\"2020-12-28T10:35:41\",\"2020-12-16T21:50:49\",\"2020-12-19T02:50:06\",\"2020-12-20T06:12:59\",\"2020-12-16T21:50:47\",\"2020-12-19T02:50:06\",\"2020-12-20T06:12:55\",\"2020-12-16T06:28:45\",\"2020-12-19T13:24:25\",\"2020-12-16T06:28:43\",\"2020-12-19T13:24:24\",\"2020-12-16T05:47:35\",\"2020-12-17T01:41:18\",\"2020-12-23T00:02:16\",\"2020-12-16T05:47:35\",\"2020-12-17T01:41:18\",\"2020-12-23T00:02:15\",\"2020-12-16T08:32:07\",\"2020-12-17T11:54:42\",\"2020-12-18T16:42:19\",\"2020-12-20T09:46:54\",\"2020-12-29T19:05:09\",\"2020-12-16T08:32:03\",\"2020-12-17T11:54:39\",\"2020-12-18T16:42:17\",\"2020-12-20T09:46:54\",\"2020-12-29T19:05:08\",\"2020-12-16T07:57:58\",\"2020-12-18T04:49:12\",\"2020-12-19T10:33:54\",\"2020-12-20T08:49:24\",\"2020-12-16T07:57:57\",\"2020-12-18T04:49:10\",\"2020-12-19T10:33:53\",\"2020-12-20T08:49:24\",\"2020-12-16T09:05:58\",\"2020-12-19T12:48:35\",\"2020-12-21T17:55:32\",\"2020-12-16T09:05:57\",\"2020-12-19T12:48:31\",\"2020-12-21T17:55:31\",\"2020-12-16T04:08:50\",\"2020-12-22T23:51:24\",\"2020-12-16T04:08:49\",\"2020-12-22T23:51:23\",\"2020-12-16T01:40:57\",\"2020-12-16T01:40:56\",\"2020-12-16T07:33:21\",\"2020-12-18T13:43:44\",\"2020-12-23T19:45:50\",\"2020-12-16T07:33:21\",\"2020-12-18T13:43:44\",\"2020-12-23T19:45:48\",\"2020-12-16T09:29:13\",\"2020-12-22T01:08:32\",\"2020-12-28T20:03:30\",\"2020-12-29T20:17:38\",\"2020-12-16T09:29:13\",\"2020-12-22T01:08:29\",\"2020-12-28T20:03:30\",\"2020-12-29T20:17:32\",\"2020-12-16T10:36:49\",\"2020-12-18T08:06:15\",\"2020-12-20T05:11:37\",\"2020-12-21T16:47:46\",\"2020-12-16T10:36:47\",\"2020-12-18T08:06:15\",\"2020-12-20T05:11:37\",\"2020-12-21T16:47:46\",\"2020-12-16T08:32:58\",\"2020-12-20T01:10:04\",\"2020-12-25T05:27:51\",\"2020-12-28T17:57:11\",\"2020-12-29T03:46:00\",\"2020-12-16T08:32:57\",\"2020-12-20T01:10:04\",\"2020-12-25T05:27:51\",\"2020-12-28T17:57:09\",\"2020-12-29T03:45:59\",\"2020-12-16T01:55:41\",\"2020-12-18T10:15:43\",\"2020-12-19T21:07:54\",\"2020-12-24T10:46:05\",\"2020-12-16T01:55:41\",\"2020-12-18T10:15:42\",\"2020-12-19T21:07:54\",\"2020-12-24T10:46:01\",\"2020-12-16T21:15:11\",\"2020-12-17T19:40:48\",\"2020-12-18T11:29:23\",\"2020-12-19T23:34:44\",\"2020-12-16T21:15:10\",\"2020-12-17T19:40:47\",\"2020-12-18T11:29:20\",\"2020-12-19T23:34:42\",\"2020-12-16T19:25:28\",\"2020-12-17T20:08:49\",\"2020-12-18T19:01:04\",\"2020-12-20T08:15:51\",\"2020-12-23T11:29:19\",\"2020-12-28T20:14:23\",\"2020-12-16T19:25:26\",\"2020-12-17T20:08:48\",\"2020-12-18T19:01:03\",\"2020-12-20T08:15:51\",\"2020-12-23T11:29:19\",\"2020-12-28T20:14:20\",\"2020-12-16T17:56:49\",\"2020-12-17T21:59:58\",\"2020-12-18T01:24:10\",\"2020-12-19T04:28:10\",\"2020-12-23T23:31:26\",\"2020-12-25T16:37:52\",\"2020-12-28T19:21:51\",\"2020-12-16T17:56:48\",\"2020-12-17T21:59:56\",\"2020-12-18T01:24:07\",\"2020-12-19T04:28:10\",\"2020-12-23T23:31:26\",\"2020-12-25T16:37:50\",\"2020-12-28T19:21:51\",\"2020-12-16T00:02:47\",\"2020-12-17T17:11:09\",\"2020-12-18T08:02:56\",\"2020-12-19T08:36:54\",\"2020-12-20T15:02:04\",\"2020-12-16T00:02:47\",\"2020-12-17T17:11:08\",\"2020-12-18T08:02:54\",\"2020-12-19T08:36:51\",\"2020-12-20T15:02:02\",\"2020-12-16T12:40:26\",\"2020-12-19T03:48:00\",\"2020-12-24T22:39:04\",\"2020-12-16T12:40:26\",\"2020-12-19T03:47:59\",\"2020-12-24T22:39:04\",\"2020-12-16T21:14:06\",\"2020-12-17T23:51:43\",\"2020-12-19T03:06:39\",\"2020-12-16T21:14:05\",\"2020-12-17T23:51:40\",\"2020-12-19T03:06:38\",\"2020-12-16T19:56:32\",\"2020-12-17T02:45:52\",\"2020-12-16T19:56:31\",\"2020-12-17T02:45:51\",\"2020-12-16T16:47:56\",\"2020-12-17T16:42:41\",\"2020-12-20T05:19:44\",\"2020-12-21T11:13:23\",\"2020-12-24T08:54:25\",\"2020-12-16T16:47:56\",\"2020-12-17T16:42:41\",\"2020-12-20T05:19:43\",\"2020-12-21T11:13:19\",\"2020-12-24T08:54:23\",\"2020-12-17T19:09:11\",\"2020-12-21T19:12:41\",\"2020-12-27T03:44:47\",\"2020-12-17T19:09:10\",\"2020-12-21T19:12:40\",\"2020-12-27T03:44:47\",\"2020-12-17T12:25:03\",\"2020-12-20T16:53:03\",\"2020-12-24T23:44:08\",\"2020-12-17T12:25:03\",\"2020-12-20T16:53:01\",\"2020-12-24T23:44:07\",\"2020-12-17T23:31:04\",\"2020-12-17T23:31:04\",\"2020-12-17T01:04:04\",\"2020-12-18T22:16:20\",\"2020-12-21T08:32:01\",\"2020-12-28T00:21:52\",\"2020-12-17T01:04:04\",\"2020-12-18T22:16:18\",\"2020-12-21T08:32:01\",\"2020-12-28T00:21:52\",\"2020-12-17T02:33:00\",\"2020-12-17T02:33:00\",\"2020-12-17T14:58:17\",\"2020-12-17T14:58:16\",\"2020-12-17T13:55:59\",\"2020-12-20T14:28:37\",\"2020-12-17T13:55:59\",\"2020-12-20T14:28:37\",\"2020-12-18T07:08:39\",\"2020-12-21T22:03:29\",\"2020-12-18T07:08:38\",\"2020-12-21T22:03:27\",\"2020-12-18T13:16:18\",\"2020-12-23T07:00:14\",\"2020-12-18T13:16:18\",\"2020-12-23T07:00:14\",\"2020-12-18T03:42:29\",\"2020-12-23T13:46:12\",\"2020-12-25T01:10:34\",\"2020-12-29T00:20:02\",\"2020-12-18T03:42:29\",\"2020-12-23T13:46:11\",\"2020-12-25T01:10:34\",\"2020-12-29T00:19:59\",\"2020-12-18T08:48:10\",\"2020-12-18T08:48:10\",\"2020-12-18T07:06:24\",\"2020-12-18T07:06:24\",\"2020-12-18T01:21:56\",\"2020-12-19T12:56:16\",\"2020-12-18T01:21:54\",\"2020-12-19T12:56:15\",\"2020-12-18T02:30:40\",\"2020-12-26T22:14:23\",\"2020-12-18T02:30:39\",\"2020-12-26T22:14:22\",\"2020-12-18T21:47:28\",\"2020-12-21T15:00:57\",\"2020-12-22T00:25:59\",\"2020-12-26T18:38:22\",\"2020-12-28T06:49:07\",\"2020-12-18T21:47:26\",\"2020-12-21T15:00:57\",\"2020-12-22T00:25:59\",\"2020-12-26T18:38:20\",\"2020-12-28T06:49:05\",\"2020-12-18T17:48:08\",\"2020-12-20T00:29:49\",\"2020-12-18T17:48:08\",\"2020-12-20T00:29:49\",\"2020-12-18T09:09:11\",\"2020-12-19T22:59:03\",\"2020-12-25T23:25:02\",\"2020-12-29T14:02:15\",\"2020-12-18T09:09:10\",\"2020-12-19T22:59:03\",\"2020-12-25T23:25:01\",\"2020-12-29T14:02:12\",\"2020-12-19T05:34:40\",\"2020-12-19T05:34:40\",\"2020-12-19T12:17:08\",\"2020-12-27T02:55:38\",\"2020-12-19T12:17:07\",\"2020-12-27T02:55:37\",\"2020-12-19T14:01:03\",\"2020-12-23T21:59:00\",\"2020-12-19T14:01:02\",\"2020-12-23T21:58:58\",\"2020-12-19T05:10:44\",\"2020-12-20T19:44:15\",\"2020-12-28T23:14:15\",\"2020-12-19T05:10:44\",\"2020-12-20T19:44:12\",\"2020-12-28T23:14:14\",\"2020-12-19T10:26:30\",\"2020-12-20T17:34:26\",\"2020-12-19T10:26:28\",\"2020-12-20T17:34:26\",\"2020-12-19T13:44:47\",\"2020-12-20T15:45:28\",\"2020-12-19T13:44:44\",\"2020-12-20T15:45:23\",\"2020-12-19T20:15:06\",\"2020-12-20T13:11:36\",\"2020-12-19T20:15:06\",\"2020-12-20T13:11:36\",\"2020-12-19T05:31:49\",\"2020-12-22T09:40:34\",\"2020-12-19T05:31:49\",\"2020-12-22T09:40:31\",\"2020-12-19T17:34:58\",\"2020-12-20T06:08:57\",\"2020-12-28T05:41:53\",\"2020-12-19T17:34:57\",\"2020-12-20T06:08:56\",\"2020-12-28T05:41:52\",\"2020-12-19T09:48:21\",\"2020-12-20T08:39:29\",\"2020-12-19T09:48:21\",\"2020-12-20T08:39:28\",\"2020-12-19T20:31:55\",\"2020-12-21T07:40:31\",\"2020-12-19T20:31:54\",\"2020-12-21T07:40:31\",\"2020-12-19T19:39:42\",\"2020-12-22T13:18:29\",\"2020-12-23T23:21:05\",\"2020-12-19T19:39:42\",\"2020-12-22T13:18:29\",\"2020-12-23T23:21:01\",\"2020-12-20T08:29:31\",\"2020-12-20T08:29:30\",\"2020-12-20T14:43:42\",\"2020-12-21T10:48:52\",\"2020-12-28T07:21:34\",\"2020-12-20T14:43:42\",\"2020-12-21T10:48:50\",\"2020-12-28T07:21:33\",\"2020-12-20T08:24:55\",\"2020-12-21T18:14:44\",\"2020-12-22T00:59:22\",\"2020-12-26T16:27:22\",\"2020-12-20T08:24:53\",\"2020-12-21T18:14:43\",\"2020-12-22T00:59:22\",\"2020-12-26T16:27:22\",\"2020-12-20T09:00:27\",\"2020-12-22T09:48:41\",\"2020-12-20T09:00:23\",\"2020-12-22T09:48:40\",\"2020-12-20T14:05:20\",\"2020-12-21T00:27:11\",\"2020-12-23T00:27:26\",\"2020-12-26T19:40:09\",\"2020-12-20T14:05:18\",\"2020-12-21T00:27:11\",\"2020-12-23T00:27:25\",\"2020-12-26T19:40:09\",\"2020-12-20T15:43:34\",\"2020-12-24T16:33:14\",\"2020-12-20T15:43:32\",\"2020-12-24T16:33:08\",\"2020-12-20T14:43:28\",\"2020-12-21T03:19:17\",\"2020-12-26T15:55:18\",\"2020-12-20T14:43:27\",\"2020-12-21T03:19:15\",\"2020-12-26T15:55:17\",\"2020-12-20T08:33:31\",\"2020-12-21T02:56:44\",\"2020-12-24T12:44:23\",\"2020-12-27T20:56:41\",\"2020-12-20T08:33:31\",\"2020-12-21T02:56:43\",\"2020-12-24T12:44:20\",\"2020-12-27T20:56:41\",\"2020-12-20T10:28:05\",\"2020-12-22T09:00:43\",\"2020-12-20T10:28:03\",\"2020-12-22T09:00:43\",\"2020-12-20T17:55:10\",\"2020-12-20T17:55:09\",\"2020-12-20T17:30:03\",\"2020-12-26T16:04:06\",\"2020-12-20T17:30:03\",\"2020-12-26T16:04:05\",\"2020-12-20T13:16:10\",\"2020-12-21T08:22:37\",\"2020-12-25T01:55:12\",\"2020-12-26T23:35:32\",\"2020-12-20T13:16:09\",\"2020-12-21T08:22:37\",\"2020-12-25T01:55:11\",\"2020-12-26T23:35:28\",\"2020-12-20T21:12:47\",\"2020-12-21T12:54:10\",\"2020-12-22T23:41:53\",\"2020-12-20T21:12:46\",\"2020-12-21T12:54:09\",\"2020-12-22T23:41:50\",\"2020-12-20T22:45:21\",\"2020-12-20T22:45:19\",\"2020-12-20T06:53:21\",\"2020-12-21T22:56:31\",\"2020-12-20T06:53:21\",\"2020-12-21T22:56:31\",\"2020-12-20T07:33:43\",\"2020-12-20T07:33:42\",\"2020-12-20T07:04:03\",\"2020-12-20T07:04:03\",\"2020-12-20T16:14:28\",\"2020-12-20T16:14:27\",\"2020-12-20T13:18:15\",\"2020-12-22T03:40:20\",\"2020-12-24T19:17:23\",\"2020-12-20T13:18:15\",\"2020-12-22T03:40:20\",\"2020-12-24T19:17:23\",\"2020-12-21T14:52:07\",\"2020-12-21T14:52:07\",\"2020-12-21T08:09:40\",\"2020-12-22T02:24:23\",\"2020-12-24T22:48:42\",\"2020-12-21T08:09:38\",\"2020-12-22T02:24:21\",\"2020-12-24T22:48:41\",\"2020-12-21T11:32:34\",\"2020-12-26T05:39:48\",\"2020-12-21T11:32:34\",\"2020-12-26T05:39:46\",\"2020-12-21T14:10:54\",\"2020-12-22T11:22:05\",\"2020-12-28T18:43:12\",\"2020-12-21T14:10:51\",\"2020-12-22T11:22:03\",\"2020-12-28T18:43:12\",\"2020-12-21T20:17:22\",\"2020-12-22T17:08:38\",\"2020-12-24T21:18:12\",\"2020-12-21T20:17:22\",\"2020-12-22T17:08:38\",\"2020-12-24T21:18:10\",\"2020-12-21T22:42:38\",\"2020-12-22T22:35:37\",\"2020-12-23T03:05:27\",\"2020-12-25T22:30:51\",\"2020-12-21T22:42:38\",\"2020-12-22T22:35:36\",\"2020-12-23T03:05:25\",\"2020-12-25T22:30:51\",\"2020-12-21T16:09:41\",\"2020-12-25T20:55:52\",\"2020-12-21T16:09:41\",\"2020-12-25T20:55:51\",\"2020-12-21T08:43:46\",\"2020-12-23T20:34:45\",\"2020-12-21T08:43:43\",\"2020-12-23T20:34:43\",\"2020-12-21T06:14:04\",\"2020-12-22T15:46:07\",\"2020-12-23T10:36:18\",\"2020-12-21T06:14:03\",\"2020-12-22T15:46:05\",\"2020-12-23T10:36:17\",\"2020-12-21T13:31:51\",\"2020-12-23T22:59:34\",\"2020-12-21T13:31:50\",\"2020-12-23T22:59:33\",\"2020-12-21T17:07:00\",\"2020-12-22T10:40:09\",\"2020-12-29T16:09:25\",\"2020-12-21T17:07:00\",\"2020-12-22T10:40:07\",\"2020-12-29T16:09:23\",\"2020-12-21T17:54:33\",\"2020-12-21T17:54:33\",\"2020-12-21T22:05:27\",\"2020-12-28T01:49:51\",\"2020-12-21T22:05:27\",\"2020-12-28T01:49:50\",\"2020-12-21T15:54:46\",\"2020-12-23T15:08:08\",\"2020-12-24T07:56:22\",\"2020-12-28T18:24:18\",\"2020-12-21T15:54:44\",\"2020-12-23T15:08:07\",\"2020-12-24T07:56:21\",\"2020-12-28T18:24:15\",\"2020-12-21T08:42:28\",\"2020-12-22T08:41:33\",\"2020-12-21T08:42:28\",\"2020-12-22T08:41:33\",\"2020-12-21T14:47:15\",\"2020-12-24T04:20:21\",\"2020-12-26T23:43:40\",\"2020-12-21T14:47:14\",\"2020-12-24T04:20:21\",\"2020-12-26T23:43:36\",\"2020-12-21T13:23:11\",\"2020-12-22T17:54:45\",\"2020-12-21T13:23:10\",\"2020-12-22T17:54:45\",\"2020-12-21T17:30:13\",\"2020-12-24T03:56:08\",\"2020-12-25T19:01:15\",\"2020-12-21T17:30:13\",\"2020-12-24T03:56:07\",\"2020-12-25T19:01:13\",\"2020-12-21T21:42:54\",\"2020-12-23T03:11:43\",\"2020-12-21T21:42:52\",\"2020-12-23T03:11:42\",\"2020-12-21T06:07:22\",\"2020-12-23T16:38:54\",\"2020-12-21T06:07:21\",\"2020-12-23T16:38:54\",\"2020-12-21T00:22:53\",\"2020-12-24T03:28:08\",\"2020-12-21T00:22:52\",\"2020-12-24T03:28:07\",\"2020-12-21T14:00:43\",\"2020-12-21T14:00:43\",\"2020-12-21T08:55:46\",\"2020-12-23T07:08:58\",\"2020-12-21T08:55:46\",\"2020-12-23T07:08:58\",\"2020-12-21T20:11:06\",\"2020-12-21T20:11:06\",\"2020-12-07T16:55:12\",\"2020-12-09T08:41:10\",\"2020-12-11T01:04:16\",\"2020-12-12T03:03:52\",\"2020-12-07T03:47:11\",\"2020-12-08T01:57:03\",\"2020-12-10T06:37:44\",\"2020-12-07T02:23:06\",\"2020-12-08T12:12:29\",\"2020-12-11T20:22:20\",\"2020-12-17T02:53:13\",\"2020-12-07T18:20:44\",\"2020-12-12T03:31:18\",\"2020-12-07T14:46:03\",\"2020-12-09T14:27:26\",\"2020-12-11T05:24:11\",\"2020-12-13T20:23:57\",\"2020-12-14T17:39:18\",\"2020-12-07T06:11:08\",\"2020-12-08T11:32:37\",\"2020-12-09T14:52:35\",\"2020-12-07T12:46:36\",\"2020-12-08T14:47:00\",\"2020-12-09T18:39:26\",\"2020-12-16T08:41:27\",\"2020-12-07T09:06:51\",\"2020-12-08T17:11:41\",\"2020-12-10T19:44:39\",\"2020-12-07T04:56:23\",\"2020-12-10T21:54:00\",\"2020-12-11T07:54:28\",\"2020-12-07T01:58:49\",\"2020-12-09T07:01:17\",\"2020-12-07T13:29:45\",\"2020-12-10T20:19:27\",\"2020-12-12T00:17:43\",\"2020-12-14T10:38:55\",\"2020-12-07T19:37:06\",\"2020-12-08T08:12:23\",\"2020-12-09T03:14:49\",\"2020-12-07T08:25:40\",\"2020-12-13T20:23:30\",\"2020-12-07T09:11:08\",\"2020-12-07T21:02:07\",\"2020-12-11T22:30:24\",\"2020-12-07T22:37:52\",\"2020-12-08T22:44:13\",\"2020-12-07T02:45:45\",\"2020-12-08T20:49:32\",\"2020-12-09T01:23:59\",\"2020-12-16T02:28:43\",\"2020-12-07T01:21:14\",\"2020-12-08T02:49:29\",\"2020-12-12T13:47:08\",\"2020-12-07T02:18:01\",\"2020-12-08T06:13:12\",\"2020-12-10T10:37:19\",\"2020-12-12T15:13:09\",\"2020-12-07T23:02:42\",\"2020-12-08T23:23:30\",\"2020-12-10T07:06:50\",\"2020-12-11T22:22:41\",\"2020-12-07T06:37:42\",\"2020-12-08T07:34:40\",\"2020-12-09T01:20:48\",\"2020-12-13T15:16:31\",\"2020-12-20T06:51:14\",\"2020-12-07T17:17:15\",\"2020-12-09T17:25:14\",\"2020-12-17T03:11:37\",\"2020-12-18T14:32:18\",\"2020-12-07T03:46:18\",\"2020-12-10T23:25:59\",\"2020-12-11T23:52:28\",\"2020-12-07T06:58:41\",\"2020-12-08T02:11:07\",\"2020-12-11T18:10:35\",\"2020-12-15T10:16:30\",\"2020-12-19T04:38:22\",\"2020-12-20T15:36:15\",\"2020-12-07T06:12:49\",\"2020-12-08T08:46:11\",\"2020-12-09T18:27:49\",\"2020-12-11T20:02:28\",\"2020-12-19T23:25:55\",\"2020-12-07T03:03:22\",\"2020-12-08T15:11:35\",\"2020-12-09T21:19:53\",\"2020-12-07T06:31:32\",\"2020-12-08T18:00:50\",\"2020-12-13T18:06:00\",\"2020-12-15T00:37:21\",\"2020-12-16T07:49:56\",\"2020-12-07T06:00:06\",\"2020-12-08T00:49:36\",\"2020-12-10T22:38:10\",\"2020-12-12T20:21:10\",\"2020-12-08T13:22:12\",\"2020-12-08T00:58:30\",\"2020-12-11T13:50:13\",\"2020-12-08T05:03:20\",\"2020-12-08T01:41:22\",\"2020-12-09T16:26:25\",\"2020-12-13T22:11:08\",\"2020-12-14T21:07:26\",\"2020-12-08T14:56:48\",\"2020-12-09T11:30:14\",\"2020-12-12T14:36:15\",\"2020-12-08T15:53:27\",\"2020-12-09T02:53:15\",\"2020-12-10T07:40:46\",\"2020-12-14T19:50:17\",\"2020-12-16T21:13:01\",\"2020-12-17T07:51:52\",\"2020-12-08T15:46:38\",\"2020-12-09T06:58:24\",\"2020-12-08T04:38:02\",\"2020-12-10T05:37:13\",\"2020-12-15T16:59:56\",\"2020-12-08T06:04:15\",\"2020-12-09T09:39:00\",\"2020-12-17T04:01:32\",\"2020-12-18T01:20:31\",\"2020-12-19T11:45:03\",\"2020-12-08T02:56:33\",\"2020-12-09T07:37:12\",\"2020-12-10T13:32:45\",\"2020-12-11T18:25:39\",\"2020-12-08T06:51:48\",\"2020-12-09T05:30:08\",\"2020-12-10T12:07:38\",\"2020-12-21T21:14:27\",\"2020-12-08T16:46:33\",\"2020-12-09T13:14:17\",\"2020-12-08T09:53:21\",\"2020-12-12T22:04:28\",\"2020-12-15T11:32:33\",\"2020-12-09T16:31:32\",\"2020-12-11T16:25:41\",\"2020-12-12T04:24:17\",\"2020-12-09T03:34:47\",\"2020-12-10T16:34:45\",\"2020-12-11T23:39:37\",\"2020-12-16T07:09:21\",\"2020-12-23T00:35:32\",\"2020-12-09T18:04:13\",\"2020-12-10T13:52:48\",\"2020-12-11T04:42:54\",\"2020-12-14T19:42:51\",\"2020-12-19T07:27:14\",\"2020-12-09T19:25:05\",\"2020-12-14T02:22:30\",\"2020-12-09T12:46:32\",\"2020-12-10T04:07:17\",\"2020-12-09T17:10:23\",\"2020-12-10T00:26:46\",\"2020-12-13T05:29:04\",\"2020-12-16T16:29:00\",\"2020-12-18T22:45:48\",\"2020-12-09T06:25:49\",\"2020-12-09T14:16:41\",\"2020-12-10T20:10:27\",\"2020-12-13T14:31:04\",\"2020-12-15T10:18:01\",\"2020-12-09T17:39:14\",\"2020-12-12T20:45:57\",\"2020-12-14T09:00:42\",\"2020-12-09T13:56:01\",\"2020-12-16T22:05:04\",\"2020-12-09T12:47:44\",\"2020-12-22T15:06:30\",\"2020-12-23T22:32:19\",\"2020-12-09T05:36:06\",\"2020-12-10T02:14:02\",\"2020-12-11T20:47:08\",\"2020-12-09T14:42:33\",\"2020-12-16T16:48:50\",\"2020-12-09T14:01:16\",\"2020-12-10T22:39:53\",\"2020-12-12T01:33:45\",\"2020-12-09T02:53:42\",\"2020-12-12T02:57:06\",\"2020-12-23T23:49:17\",\"2020-12-09T03:17:44\",\"2020-12-10T10:00:06\",\"2020-12-11T06:49:18\",\"2020-12-12T17:31:45\",\"2020-12-18T06:58:32\",\"2020-12-19T22:16:56\",\"2020-12-09T20:10:30\",\"2020-12-11T03:25:14\",\"2020-12-10T09:10:57\",\"2020-12-16T05:50:36\",\"2020-12-10T14:59:10\",\"2020-12-15T12:01:16\",\"2020-12-10T12:03:46\",\"2020-12-11T23:21:25\",\"2020-12-10T23:00:58\",\"2020-12-11T08:03:14\",\"2020-12-13T05:52:50\",\"2020-12-10T00:10:25\",\"2020-12-16T23:22:43\",\"2020-12-24T20:36:53\",\"2020-12-10T07:14:00\",\"2020-12-11T02:57:59\",\"2020-12-18T10:32:57\",\"2020-12-10T15:19:19\",\"2020-12-11T03:59:16\",\"2020-12-14T17:38:05\",\"2020-12-10T17:24:36\",\"2020-12-10T18:37:18\",\"2020-12-13T23:16:23\",\"2020-12-15T17:00:58\",\"2020-12-24T15:05:55\",\"2020-12-10T01:27:30\",\"2020-12-11T11:02:25\",\"2020-12-12T12:20:37\",\"2020-12-18T08:16:21\",\"2020-12-21T02:04:59\",\"2020-12-10T09:06:11\",\"2020-12-11T21:17:30\",\"2020-12-16T17:08:10\",\"2020-12-10T14:19:51\",\"2020-12-11T00:56:40\",\"2020-12-15T03:03:51\",\"2020-12-16T04:59:49\",\"2020-12-18T02:42:14\",\"2020-12-10T07:23:24\",\"2020-12-12T07:39:10\",\"2020-12-10T01:21:15\",\"2020-12-12T17:42:13\",\"2020-12-13T03:26:12\",\"2020-12-10T11:05:30\",\"2020-12-18T10:23:04\",\"2020-12-10T05:03:01\",\"2020-12-11T00:54:41\",\"2020-12-22T07:04:47\",\"2020-12-11T00:53:55\",\"2020-12-13T21:10:49\",\"2020-12-11T20:57:31\",\"2020-12-12T00:57:48\",\"2020-12-11T00:06:07\",\"2020-12-13T20:19:33\",\"2020-12-25T04:24:20\",\"2020-12-11T10:28:52\",\"2020-12-12T11:23:38\",\"2020-12-13T11:16:10\",\"2020-12-11T07:59:02\",\"2020-12-14T16:20:17\",\"2020-12-11T21:28:18\",\"2020-12-12T06:30:21\",\"2020-12-11T06:44:40\",\"2020-12-12T22:22:17\",\"2020-12-14T04:33:24\",\"2020-12-17T07:17:31\",\"2020-12-12T20:45:47\",\"2020-12-13T10:42:59\",\"2020-12-26T01:51:48\",\"2020-12-12T19:33:06\",\"2020-12-14T09:12:04\",\"2020-12-24T20:06:28\",\"2020-12-12T19:36:52\",\"2020-12-13T14:37:47\",\"2020-12-14T12:45:50\",\"2020-12-17T01:05:47\",\"2020-12-18T02:15:03\",\"2020-12-24T11:39:57\",\"2020-12-12T18:31:45\",\"2020-12-13T03:57:58\",\"2020-12-15T23:25:05\",\"2020-12-12T08:04:47\",\"2020-12-16T22:23:25\",\"2020-12-19T11:08:05\",\"2020-12-23T11:39:19\",\"2020-12-12T13:30:58\",\"2020-12-14T17:09:34\",\"2020-12-15T20:16:25\",\"2020-12-12T19:39:45\",\"2020-12-15T15:40:07\",\"2020-12-21T21:47:02\",\"2020-12-12T09:17:48\",\"2020-12-21T10:42:05\",\"2020-12-12T20:54:02\",\"2020-12-15T13:46:09\",\"2020-12-17T04:15:46\",\"2020-12-19T21:32:38\",\"2020-12-20T08:24:28\",\"2020-12-12T11:34:04\",\"2020-12-15T10:29:47\",\"2020-12-16T23:23:48\",\"2020-12-12T08:59:14\",\"2020-12-13T02:45:35\",\"2020-12-14T07:41:32\",\"2020-12-15T17:04:18\",\"2020-12-16T11:41:23\",\"2020-12-23T12:38:06\",\"2020-12-26T14:55:15\",\"2020-12-12T19:33:18\",\"2020-12-15T11:43:04\",\"2020-12-12T21:10:25\",\"2020-12-13T05:35:13\",\"2020-12-17T18:19:05\",\"2020-12-20T07:53:33\",\"2020-12-26T00:32:25\",\"2020-12-13T21:57:05\",\"2020-12-13T01:13:21\",\"2020-12-25T20:58:04\",\"2020-12-27T08:31:00\",\"2020-12-13T15:35:08\",\"2020-12-16T00:53:04\",\"2020-12-19T12:34:16\",\"2020-12-13T16:55:28\",\"2020-12-23T09:02:59\",\"2020-12-24T00:29:26\",\"2020-12-13T02:33:48\",\"2020-12-23T09:20:15\",\"2020-12-13T09:55:48\",\"2020-12-13T22:07:38\",\"2020-12-13T19:02:46\",\"2020-12-21T04:03:15\",\"2020-12-25T01:59:14\",\"2020-12-14T22:45:44\",\"2020-12-15T19:27:31\",\"2020-12-23T08:25:04\",\"2020-12-27T17:55:56\",\"2020-12-14T10:59:05\",\"2020-12-15T20:43:27\",\"2020-12-20T04:27:46\",\"2020-12-25T00:45:24\",\"2020-12-14T21:08:42\",\"2020-12-15T13:52:52\",\"2020-12-21T08:52:45\",\"2020-12-14T17:11:29\",\"2020-12-14T21:26:01\",\"2020-12-28T12:25:33\",\"2020-12-14T10:47:51\",\"2020-12-15T14:30:53\",\"2020-12-28T19:33:48\",\"2020-12-14T04:30:45\",\"2020-12-20T23:51:52\",\"2020-12-14T02:21:54\",\"2020-12-21T10:31:23\",\"2020-12-14T20:45:01\",\"2020-12-16T18:39:11\",\"2020-12-18T02:33:08\",\"2020-12-21T03:14:35\",\"2020-12-22T02:42:02\",\"2020-12-14T17:34:59\",\"2020-12-17T22:27:20\",\"2020-12-19T22:49:53\",\"2020-12-20T14:22:54\",\"2020-12-22T02:44:33\",\"2020-12-28T16:08:44\",\"2020-12-14T05:49:31\",\"2020-12-14T00:55:19\",\"2020-12-15T23:01:48\",\"2020-12-14T22:21:16\",\"2020-12-14T10:55:44\",\"2020-12-15T19:02:04\",\"2020-12-16T06:42:41\",\"2020-12-20T18:49:10\",\"2020-12-14T19:25:58\",\"2020-12-15T05:53:08\",\"2020-12-20T17:55:02\",\"2020-12-15T12:17:14\",\"2020-12-16T01:03:45\",\"2020-12-15T07:32:09\",\"2020-12-20T14:35:15\",\"2020-12-15T23:05:57\",\"2020-12-16T06:15:40\",\"2020-12-28T16:13:18\",\"2020-12-15T05:09:25\",\"2020-12-16T06:09:51\",\"2020-12-17T11:58:19\",\"2020-12-18T19:41:57\",\"2020-12-15T10:54:15\",\"2020-12-17T06:43:21\",\"2020-12-15T18:14:36\",\"2020-12-19T16:49:48\",\"2020-12-20T02:35:55\",\"2020-12-22T13:40:25\",\"2020-12-15T14:06:48\",\"2020-12-17T07:44:45\",\"2020-12-15T17:45:14\",\"2020-12-16T15:25:08\",\"2020-12-19T17:09:29\",\"2020-12-15T16:43:04\",\"2020-12-16T13:14:55\",\"2020-12-15T14:16:15\",\"2020-12-17T09:46:42\",\"2020-12-15T13:45:09\",\"2020-12-15T21:24:56\",\"2020-12-16T07:08:24\",\"2020-12-23T17:58:02\",\"2020-12-16T01:22:52\",\"2020-12-17T23:42:39\",\"2020-12-25T13:59:45\",\"2020-12-16T15:50:37\",\"2020-12-17T04:07:54\",\"2020-12-18T09:50:24\",\"2020-12-16T02:45:33\",\"2020-12-17T14:00:17\",\"2020-12-18T05:32:31\",\"2020-12-20T21:09:08\",\"2020-12-16T17:27:39\",\"2020-12-20T09:35:17\",\"2020-12-24T07:42:13\",\"2020-12-16T00:18:53\",\"2020-12-26T01:40:30\",\"2020-12-16T22:06:37\",\"2020-12-28T02:24:12\",\"2020-12-16T00:49:43\",\"2020-12-17T14:50:29\",\"2020-12-23T09:36:03\",\"2020-12-27T20:12:41\",\"2020-12-16T11:35:17\",\"2020-12-17T14:00:15\",\"2020-12-19T05:56:19\",\"2020-12-16T20:51:25\",\"2020-12-17T00:51:06\",\"2020-12-16T09:08:48\",\"2020-12-17T07:35:41\",\"2020-12-18T07:01:15\",\"2020-12-21T07:38:06\",\"2020-12-22T14:56:59\",\"2020-12-24T10:39:09\",\"2020-12-17T15:42:53\",\"2020-12-20T15:20:20\",\"2020-12-21T04:38:40\",\"2020-12-29T05:27:17\",\"2020-12-17T08:06:53\",\"2020-12-19T22:48:01\",\"2020-12-22T14:51:08\",\"2020-12-23T18:26:39\",\"2020-12-25T13:13:16\",\"2020-12-17T06:32:15\",\"2020-12-18T05:04:09\",\"2020-12-19T16:26:58\",\"2020-12-20T03:25:19\",\"2020-12-22T03:29:19\",\"2020-12-24T07:51:12\",\"2020-12-29T15:18:08\",\"2020-12-17T03:09:28\",\"2020-12-17T10:20:58\",\"2020-12-18T02:45:17\",\"2020-12-19T00:13:26\",\"2020-12-23T02:44:46\",\"2020-12-26T17:03:31\",\"2020-12-17T03:51:39\",\"2020-12-18T00:18:36\",\"2020-12-28T12:33:02\",\"2020-12-18T17:47:47\",\"2020-12-19T01:37:33\",\"2020-12-20T00:01:02\",\"2020-12-21T22:30:45\",\"2020-12-18T22:34:22\",\"2020-12-20T06:44:41\",\"2020-12-21T08:04:06\",\"2020-12-18T20:56:21\",\"2020-12-19T18:40:11\",\"2020-12-20T15:49:24\",\"2020-12-18T07:08:50\",\"2020-12-19T10:19:27\",\"2020-12-20T11:27:58\",\"2020-12-18T16:08:52\",\"2020-12-19T14:04:10\",\"2020-12-18T15:14:54\",\"2020-12-22T20:23:33\",\"2020-12-26T20:54:35\",\"2020-12-28T13:40:09\",\"2020-12-18T22:04:12\",\"2020-12-20T16:49:48\",\"2020-12-18T20:49:13\",\"2020-12-19T00:47:57\",\"2020-12-22T13:36:43\",\"2020-12-26T07:09:29\",\"2020-12-18T08:27:12\",\"2020-12-18T03:47:03\",\"2020-12-22T13:18:43\",\"2020-12-18T23:19:26\",\"2020-12-21T07:00:45\",\"2020-12-22T23:14:37\",\"2020-12-18T07:55:09\",\"2020-12-20T09:55:32\",\"2020-12-23T06:26:49\",\"2020-12-18T09:59:19\",\"2020-12-19T18:06:41\",\"2020-12-18T01:02:56\",\"2020-12-19T19:49:13\",\"2020-12-20T18:53:27\",\"2020-12-18T10:39:12\",\"2020-12-20T18:58:33\",\"2020-12-19T09:42:03\",\"2020-12-20T02:31:31\",\"2020-12-23T15:43:14\",\"2020-12-29T22:17:13\",\"2020-12-19T23:40:29\",\"2020-12-20T11:13:53\",\"2020-12-24T17:42:58\",\"2020-12-27T08:14:29\",\"2020-12-19T06:25:19\",\"2020-12-26T07:34:14\",\"2020-12-19T23:26:30\",\"2020-12-20T07:09:29\",\"2020-12-25T07:43:45\",\"2020-12-19T18:57:26\",\"2020-12-19T08:39:58\",\"2020-12-20T12:19:24\",\"2020-12-21T19:43:39\",\"2020-12-22T04:13:10\",\"2020-12-19T15:15:18\",\"2020-12-20T02:00:29\",\"2020-12-21T20:09:28\",\"2020-12-19T21:33:06\",\"2020-12-24T16:48:50\",\"2020-12-19T11:19:25\",\"2020-12-20T14:13:18\",\"2020-12-22T22:43:41\",\"2020-12-25T09:20:52\",\"2020-12-28T11:30:04\",\"2020-12-19T13:29:53\",\"2020-12-23T11:57:25\",\"2020-12-28T04:31:17\",\"2020-12-19T21:33:42\",\"2020-12-20T15:37:57\",\"2020-12-24T10:21:05\",\"2020-12-19T08:52:52\",\"2020-12-20T07:20:25\",\"2020-12-21T21:11:53\",\"2020-12-26T15:24:56\",\"2020-12-20T04:42:03\",\"2020-12-21T22:40:53\",\"2020-12-24T20:38:37\",\"2020-12-26T00:44:19\",\"2020-12-20T15:10:17\",\"2020-12-20T14:38:30\",\"2020-12-21T07:23:49\",\"2020-12-22T01:29:54\",\"2020-12-23T00:07:25\",\"2020-12-20T07:33:25\",\"2020-12-21T06:40:20\",\"2020-12-25T23:07:24\",\"2020-12-20T20:17:06\",\"2020-12-21T23:26:58\",\"2020-12-22T18:20:15\",\"2020-12-20T22:32:36\",\"2020-12-21T19:03:31\",\"2020-12-22T16:55:27\",\"2020-12-20T09:11:27\",\"2020-12-22T18:19:59\",\"2020-12-24T00:51:14\",\"2020-12-27T17:07:28\",\"2020-12-20T10:08:36\",\"2020-12-21T22:14:38\",\"2020-12-23T15:55:02\",\"2020-12-28T04:31:15\",\"2020-12-20T12:05:49\",\"2020-12-20T01:01:34\",\"2020-12-27T13:22:09\",\"2020-12-29T17:59:56\",\"2020-12-20T05:59:11\",\"2020-12-22T16:13:40\",\"2020-12-23T06:42:52\",\"2020-12-20T04:12:00\",\"2020-12-21T16:45:56\",\"2020-12-22T01:00:15\",\"2020-12-20T07:10:58\",\"2020-12-21T00:43:41\",\"2020-12-23T17:21:15\",\"2020-12-29T07:56:19\",\"2020-12-20T10:52:43\",\"2020-12-21T04:32:17\",\"2020-12-25T00:28:10\",\"2020-12-28T06:46:37\",\"2020-12-20T09:13:16\",\"2020-12-23T18:06:06\",\"2020-12-20T15:28:38\",\"2020-12-23T17:14:48\",\"2020-12-27T01:11:10\",\"2020-12-20T19:26:08\",\"2020-12-21T02:33:10\",\"2020-12-20T06:42:15\",\"2020-12-21T02:59:19\",\"2020-12-22T03:29:56\",\"2020-12-27T21:41:01\",\"2020-12-21T16:34:23\",\"2020-12-22T00:08:44\",\"2020-12-25T17:39:42\",\"2020-12-21T04:36:16\",\"2020-12-22T06:08:02\",\"2020-12-24T03:52:00\",\"2020-12-28T10:36:26\",\"2020-12-29T11:52:51\",\"2020-12-21T11:00:13\",\"2020-12-23T13:41:04\",\"2020-12-27T18:04:57\",\"2020-12-21T19:32:15\",\"2020-12-26T02:51:17\",\"2020-12-21T22:43:35\",\"2020-12-22T13:54:54\",\"2020-12-23T09:34:22\",\"2020-12-21T17:46:28\",\"2020-12-22T03:51:14\",\"2020-12-24T05:41:08\",\"2020-12-21T11:11:20\",\"2020-12-28T15:56:12\",\"2020-12-21T07:39:16\",\"2020-12-22T08:16:24\",\"2020-12-21T18:42:38\",\"2020-12-21T06:42:17\",\"2020-12-28T00:18:09\",\"2020-12-21T15:31:56\",\"2020-12-25T15:25:54\",\"2020-12-21T17:50:55\",\"2020-12-25T22:13:42\",\"2020-12-21T13:06:59\",\"2020-12-22T05:53:56\",\"2020-12-21T09:27:56\",\"2020-12-25T13:02:11\",\"2020-12-21T11:31:09\",\"2020-12-22T11:49:28\",\"2020-12-21T20:57:47\",\"2020-12-21T14:00:21\",\"2020-12-22T03:26:36\",\"2020-12-21T22:05:26\",\"2020-12-22T00:22:07\",\"2020-12-27T03:03:49\",\"2020-12-21T17:17:34\",\"2020-12-22T20:39:21\",\"2020-12-25T01:08:53\",\"2020-12-21T03:49:49\",\"2020-12-22T18:52:25\",\"2020-12-24T22:11:00\"],\"type\":\"histogram\",\"opacity\":0.75}],                        {\"template\":{\"data\":{\"bar\":[{\"error_x\":{\"color\":\"#2a3f5f\"},\"error_y\":{\"color\":\"#2a3f5f\"},\"marker\":{\"line\":{\"color\":\"#E5ECF6\",\"width\":0.5},\"pattern\":{\"fillmode\":\"overlay\",\"size\":10,\"solidity\":0.2}},\"type\":\"bar\"}],\"barpolar\":[{\"marker\":{\"line\":{\"color\":\"#E5ECF6\",\"width\":0.5},\"pattern\":{\"fillmode\":\"overlay\",\"size\":10,\"solidity\":0.2}},\"type\":\"barpolar\"}],\"carpet\":[{\"aaxis\":{\"endlinecolor\":\"#2a3f5f\",\"gridcolor\":\"white\",\"linecolor\":\"white\",\"minorgridcolor\":\"white\",\"startlinecolor\":\"#2a3f5f\"},\"baxis\":{\"endlinecolor\":\"#2a3f5f\",\"gridcolor\":\"white\",\"linecolor\":\"white\",\"minorgridcolor\":\"white\",\"startlinecolor\":\"#2a3f5f\"},\"type\":\"carpet\"}],\"choropleth\":[{\"colorbar\":{\"outlinewidth\":0,\"ticks\":\"\"},\"type\":\"choropleth\"}],\"contour\":[{\"colorbar\":{\"outlinewidth\":0,\"ticks\":\"\"},\"colorscale\":[[0.0,\"#0d0887\"],[0.1111111111111111,\"#46039f\"],[0.2222222222222222,\"#7201a8\"],[0.3333333333333333,\"#9c179e\"],[0.4444444444444444,\"#bd3786\"],[0.5555555555555556,\"#d8576b\"],[0.6666666666666666,\"#ed7953\"],[0.7777777777777778,\"#fb9f3a\"],[0.8888888888888888,\"#fdca26\"],[1.0,\"#f0f921\"]],\"type\":\"contour\"}],\"contourcarpet\":[{\"colorbar\":{\"outlinewidth\":0,\"ticks\":\"\"},\"type\":\"contourcarpet\"}],\"heatmap\":[{\"colorbar\":{\"outlinewidth\":0,\"ticks\":\"\"},\"colorscale\":[[0.0,\"#0d0887\"],[0.1111111111111111,\"#46039f\"],[0.2222222222222222,\"#7201a8\"],[0.3333333333333333,\"#9c179e\"],[0.4444444444444444,\"#bd3786\"],[0.5555555555555556,\"#d8576b\"],[0.6666666666666666,\"#ed7953\"],[0.7777777777777778,\"#fb9f3a\"],[0.8888888888888888,\"#fdca26\"],[1.0,\"#f0f921\"]],\"type\":\"heatmap\"}],\"heatmapgl\":[{\"colorbar\":{\"outlinewidth\":0,\"ticks\":\"\"},\"colorscale\":[[0.0,\"#0d0887\"],[0.1111111111111111,\"#46039f\"],[0.2222222222222222,\"#7201a8\"],[0.3333333333333333,\"#9c179e\"],[0.4444444444444444,\"#bd3786\"],[0.5555555555555556,\"#d8576b\"],[0.6666666666666666,\"#ed7953\"],[0.7777777777777778,\"#fb9f3a\"],[0.8888888888888888,\"#fdca26\"],[1.0,\"#f0f921\"]],\"type\":\"heatmapgl\"}],\"histogram\":[{\"marker\":{\"pattern\":{\"fillmode\":\"overlay\",\"size\":10,\"solidity\":0.2}},\"type\":\"histogram\"}],\"histogram2d\":[{\"colorbar\":{\"outlinewidth\":0,\"ticks\":\"\"},\"colorscale\":[[0.0,\"#0d0887\"],[0.1111111111111111,\"#46039f\"],[0.2222222222222222,\"#7201a8\"],[0.3333333333333333,\"#9c179e\"],[0.4444444444444444,\"#bd3786\"],[0.5555555555555556,\"#d8576b\"],[0.6666666666666666,\"#ed7953\"],[0.7777777777777778,\"#fb9f3a\"],[0.8888888888888888,\"#fdca26\"],[1.0,\"#f0f921\"]],\"type\":\"histogram2d\"}],\"histogram2dcontour\":[{\"colorbar\":{\"outlinewidth\":0,\"ticks\":\"\"},\"colorscale\":[[0.0,\"#0d0887\"],[0.1111111111111111,\"#46039f\"],[0.2222222222222222,\"#7201a8\"],[0.3333333333333333,\"#9c179e\"],[0.4444444444444444,\"#bd3786\"],[0.5555555555555556,\"#d8576b\"],[0.6666666666666666,\"#ed7953\"],[0.7777777777777778,\"#fb9f3a\"],[0.8888888888888888,\"#fdca26\"],[1.0,\"#f0f921\"]],\"type\":\"histogram2dcontour\"}],\"mesh3d\":[{\"colorbar\":{\"outlinewidth\":0,\"ticks\":\"\"},\"type\":\"mesh3d\"}],\"parcoords\":[{\"line\":{\"colorbar\":{\"outlinewidth\":0,\"ticks\":\"\"}},\"type\":\"parcoords\"}],\"pie\":[{\"automargin\":true,\"type\":\"pie\"}],\"scatter\":[{\"marker\":{\"colorbar\":{\"outlinewidth\":0,\"ticks\":\"\"}},\"type\":\"scatter\"}],\"scatter3d\":[{\"line\":{\"colorbar\":{\"outlinewidth\":0,\"ticks\":\"\"}},\"marker\":{\"colorbar\":{\"outlinewidth\":0,\"ticks\":\"\"}},\"type\":\"scatter3d\"}],\"scattercarpet\":[{\"marker\":{\"colorbar\":{\"outlinewidth\":0,\"ticks\":\"\"}},\"type\":\"scattercarpet\"}],\"scattergeo\":[{\"marker\":{\"colorbar\":{\"outlinewidth\":0,\"ticks\":\"\"}},\"type\":\"scattergeo\"}],\"scattergl\":[{\"marker\":{\"colorbar\":{\"outlinewidth\":0,\"ticks\":\"\"}},\"type\":\"scattergl\"}],\"scattermapbox\":[{\"marker\":{\"colorbar\":{\"outlinewidth\":0,\"ticks\":\"\"}},\"type\":\"scattermapbox\"}],\"scatterpolar\":[{\"marker\":{\"colorbar\":{\"outlinewidth\":0,\"ticks\":\"\"}},\"type\":\"scatterpolar\"}],\"scatterpolargl\":[{\"marker\":{\"colorbar\":{\"outlinewidth\":0,\"ticks\":\"\"}},\"type\":\"scatterpolargl\"}],\"scatterternary\":[{\"marker\":{\"colorbar\":{\"outlinewidth\":0,\"ticks\":\"\"}},\"type\":\"scatterternary\"}],\"surface\":[{\"colorbar\":{\"outlinewidth\":0,\"ticks\":\"\"},\"colorscale\":[[0.0,\"#0d0887\"],[0.1111111111111111,\"#46039f\"],[0.2222222222222222,\"#7201a8\"],[0.3333333333333333,\"#9c179e\"],[0.4444444444444444,\"#bd3786\"],[0.5555555555555556,\"#d8576b\"],[0.6666666666666666,\"#ed7953\"],[0.7777777777777778,\"#fb9f3a\"],[0.8888888888888888,\"#fdca26\"],[1.0,\"#f0f921\"]],\"type\":\"surface\"}],\"table\":[{\"cells\":{\"fill\":{\"color\":\"#EBF0F8\"},\"line\":{\"color\":\"white\"}},\"header\":{\"fill\":{\"color\":\"#C8D4E3\"},\"line\":{\"color\":\"white\"}},\"type\":\"table\"}]},\"layout\":{\"annotationdefaults\":{\"arrowcolor\":\"#2a3f5f\",\"arrowhead\":0,\"arrowwidth\":1},\"autotypenumbers\":\"strict\",\"coloraxis\":{\"colorbar\":{\"outlinewidth\":0,\"ticks\":\"\"}},\"colorscale\":{\"diverging\":[[0,\"#8e0152\"],[0.1,\"#c51b7d\"],[0.2,\"#de77ae\"],[0.3,\"#f1b6da\"],[0.4,\"#fde0ef\"],[0.5,\"#f7f7f7\"],[0.6,\"#e6f5d0\"],[0.7,\"#b8e186\"],[0.8,\"#7fbc41\"],[0.9,\"#4d9221\"],[1,\"#276419\"]],\"sequential\":[[0.0,\"#0d0887\"],[0.1111111111111111,\"#46039f\"],[0.2222222222222222,\"#7201a8\"],[0.3333333333333333,\"#9c179e\"],[0.4444444444444444,\"#bd3786\"],[0.5555555555555556,\"#d8576b\"],[0.6666666666666666,\"#ed7953\"],[0.7777777777777778,\"#fb9f3a\"],[0.8888888888888888,\"#fdca26\"],[1.0,\"#f0f921\"]],\"sequentialminus\":[[0.0,\"#0d0887\"],[0.1111111111111111,\"#46039f\"],[0.2222222222222222,\"#7201a8\"],[0.3333333333333333,\"#9c179e\"],[0.4444444444444444,\"#bd3786\"],[0.5555555555555556,\"#d8576b\"],[0.6666666666666666,\"#ed7953\"],[0.7777777777777778,\"#fb9f3a\"],[0.8888888888888888,\"#fdca26\"],[1.0,\"#f0f921\"]]},\"colorway\":[\"#636efa\",\"#EF553B\",\"#00cc96\",\"#ab63fa\",\"#FFA15A\",\"#19d3f3\",\"#FF6692\",\"#B6E880\",\"#FF97FF\",\"#FECB52\"],\"font\":{\"color\":\"#2a3f5f\"},\"geo\":{\"bgcolor\":\"white\",\"lakecolor\":\"white\",\"landcolor\":\"#E5ECF6\",\"showlakes\":true,\"showland\":true,\"subunitcolor\":\"white\"},\"hoverlabel\":{\"align\":\"left\"},\"hovermode\":\"closest\",\"mapbox\":{\"style\":\"light\"},\"paper_bgcolor\":\"white\",\"plot_bgcolor\":\"#E5ECF6\",\"polar\":{\"angularaxis\":{\"gridcolor\":\"white\",\"linecolor\":\"white\",\"ticks\":\"\"},\"bgcolor\":\"#E5ECF6\",\"radialaxis\":{\"gridcolor\":\"white\",\"linecolor\":\"white\",\"ticks\":\"\"}},\"scene\":{\"xaxis\":{\"backgroundcolor\":\"#E5ECF6\",\"gridcolor\":\"white\",\"gridwidth\":2,\"linecolor\":\"white\",\"showbackground\":true,\"ticks\":\"\",\"zerolinecolor\":\"white\"},\"yaxis\":{\"backgroundcolor\":\"#E5ECF6\",\"gridcolor\":\"white\",\"gridwidth\":2,\"linecolor\":\"white\",\"showbackground\":true,\"ticks\":\"\",\"zerolinecolor\":\"white\"},\"zaxis\":{\"backgroundcolor\":\"#E5ECF6\",\"gridcolor\":\"white\",\"gridwidth\":2,\"linecolor\":\"white\",\"showbackground\":true,\"ticks\":\"\",\"zerolinecolor\":\"white\"}},\"shapedefaults\":{\"line\":{\"color\":\"#2a3f5f\"}},\"ternary\":{\"aaxis\":{\"gridcolor\":\"white\",\"linecolor\":\"white\",\"ticks\":\"\"},\"baxis\":{\"gridcolor\":\"white\",\"linecolor\":\"white\",\"ticks\":\"\"},\"bgcolor\":\"#E5ECF6\",\"caxis\":{\"gridcolor\":\"white\",\"linecolor\":\"white\",\"ticks\":\"\"}},\"title\":{\"x\":0.05},\"xaxis\":{\"automargin\":true,\"gridcolor\":\"white\",\"linecolor\":\"white\",\"ticks\":\"\",\"title\":{\"standoff\":15},\"zerolinecolor\":\"white\",\"zerolinewidth\":2},\"yaxis\":{\"automargin\":true,\"gridcolor\":\"white\",\"linecolor\":\"white\",\"ticks\":\"\",\"title\":{\"standoff\":15},\"zerolinecolor\":\"white\",\"zerolinewidth\":2}}},\"barmode\":\"group\",\"title\":{\"text\":\"\\u0420\\u0430\\u0441\\u043f\\u0440\\u0435\\u0434\\u0435\\u043b\\u0435\\u043d\\u0438\\u0435 \\u0441\\u043e\\u0431\\u044b\\u0442\\u0438\\u0439 \\u043f\\u043e \\u0432\\u0440\\u0435\\u043c\\u0435\\u043d\\u0438\"},\"xaxis\":{\"title\":{\"text\":\"\\u0412\\u0440\\u0435\\u043c\\u044f\"}},\"yaxis\":{\"title\":{\"text\":\"\\u041a\\u043e\\u043b\\u0438\\u0447\\u0435\\u0441\\u0442\\u0432\\u043e \\u0441\\u043e\\u0431\\u044b\\u0442\\u0438\\u0439\"}},\"height\":600},                        {\"responsive\": true}                    ).then(function(){\n",
              "                            \n",
              "var gd = document.getElementById('24f3804a-9925-4352-a611-6812a2516bbd');\n",
              "var x = new MutationObserver(function (mutations, observer) {{\n",
              "        var display = window.getComputedStyle(gd).display;\n",
              "        if (!display || display === 'none') {{\n",
              "            console.log([gd, 'removed!']);\n",
              "            Plotly.purge(gd);\n",
              "            observer.disconnect();\n",
              "        }}\n",
              "}});\n",
              "\n",
              "// Listen for the removal of the full notebook cells\n",
              "var notebookContainer = gd.closest('#notebook-container');\n",
              "if (notebookContainer) {{\n",
              "    x.observe(notebookContainer, {childList: true});\n",
              "}}\n",
              "\n",
              "// Listen for the clearing of the current output cell\n",
              "var outputEl = gd.closest('.output');\n",
              "if (outputEl) {{\n",
              "    x.observe(outputEl, {childList: true});\n",
              "}}\n",
              "\n",
              "                        })                };                            </script>        </div>\n",
              "</body>\n",
              "</html>"
            ]
          },
          "metadata": {}
        }
      ],
      "source": [
        "x0 = log.query('group==\"A\"')['event_dt']\n",
        "x1 = log.query('group==\"B\"')['event_dt']\n",
        "\n",
        "fig = go.Figure()\n",
        "fig.add_trace(go.Histogram(x=x0,name='Группа A'))\n",
        "fig.add_trace(go.Histogram(x=x1,name='Группа B'))\n",
        "\n",
        "fig.update_traces(opacity=0.75)\n",
        "fig.update_layout(barmode='group',title='Распределение событий по времени',\n",
        "                   xaxis_title='Время',yaxis_title='Количество событий', height=600)\n",
        "fig.show()"
      ]
    },
    {
      "cell_type": "markdown",
      "metadata": {
        "id": "_xRE9LhjaoCu"
      },
      "source": [
        "### Вывод\n",
        "\n",
        "На графиках видно что группа Б распределена равномерно, а группа А в середине тестирования имеет всплеск."
      ]
    },
    {
      "cell_type": "markdown",
      "metadata": {
        "id": "ndUn7ewOaxp2"
      },
      "source": [
        "## Как меняется конверсия в воронке в выборках на разных этапах?"
      ]
    },
    {
      "cell_type": "code",
      "execution_count": null,
      "metadata": {
        "colab": {
          "base_uri": "https://localhost:8080/",
          "height": 542
        },
        "id": "u9ayTHdsZRyl",
        "outputId": "34a4872a-c05f-4467-b60d-75bd00ae7fc0"
      },
      "outputs": [
        {
          "output_type": "display_data",
          "data": {
            "text/html": [
              "<html>\n",
              "<head><meta charset=\"utf-8\" /></head>\n",
              "<body>\n",
              "    <div>            <script src=\"https://cdnjs.cloudflare.com/ajax/libs/mathjax/2.7.5/MathJax.js?config=TeX-AMS-MML_SVG\"></script><script type=\"text/javascript\">if (window.MathJax) {MathJax.Hub.Config({SVG: {font: \"STIX-Web\"}});}</script>                <script type=\"text/javascript\">window.PlotlyConfig = {MathJaxConfig: 'local'};</script>\n",
              "        <script src=\"https://cdn.plot.ly/plotly-2.8.3.min.js\"></script>                <div id=\"21917834-57d7-4c8b-bb73-208dd0d1637d\" class=\"plotly-graph-div\" style=\"height:525px; width:100%;\"></div>            <script type=\"text/javascript\">                                    window.PLOTLYENV=window.PLOTLYENV || {};                                    if (document.getElementById(\"21917834-57d7-4c8b-bb73-208dd0d1637d\")) {                    Plotly.newPlot(                        \"21917834-57d7-4c8b-bb73-208dd0d1637d\",                        [{\"marker\":{\"color\":[\"deepskyblue\",\"deepskyblue\",\"deepskyblue\"]},\"textinfo\":\"value+percent initial+percent previous\",\"x\":[3480,2178,1026,1082],\"y\":[\"login\",\"product_page\",\"product_cart\",\"purchase\"],\"type\":\"funnel\"}],                        {\"template\":{\"data\":{\"bar\":[{\"error_x\":{\"color\":\"#2a3f5f\"},\"error_y\":{\"color\":\"#2a3f5f\"},\"marker\":{\"line\":{\"color\":\"#E5ECF6\",\"width\":0.5},\"pattern\":{\"fillmode\":\"overlay\",\"size\":10,\"solidity\":0.2}},\"type\":\"bar\"}],\"barpolar\":[{\"marker\":{\"line\":{\"color\":\"#E5ECF6\",\"width\":0.5},\"pattern\":{\"fillmode\":\"overlay\",\"size\":10,\"solidity\":0.2}},\"type\":\"barpolar\"}],\"carpet\":[{\"aaxis\":{\"endlinecolor\":\"#2a3f5f\",\"gridcolor\":\"white\",\"linecolor\":\"white\",\"minorgridcolor\":\"white\",\"startlinecolor\":\"#2a3f5f\"},\"baxis\":{\"endlinecolor\":\"#2a3f5f\",\"gridcolor\":\"white\",\"linecolor\":\"white\",\"minorgridcolor\":\"white\",\"startlinecolor\":\"#2a3f5f\"},\"type\":\"carpet\"}],\"choropleth\":[{\"colorbar\":{\"outlinewidth\":0,\"ticks\":\"\"},\"type\":\"choropleth\"}],\"contour\":[{\"colorbar\":{\"outlinewidth\":0,\"ticks\":\"\"},\"colorscale\":[[0.0,\"#0d0887\"],[0.1111111111111111,\"#46039f\"],[0.2222222222222222,\"#7201a8\"],[0.3333333333333333,\"#9c179e\"],[0.4444444444444444,\"#bd3786\"],[0.5555555555555556,\"#d8576b\"],[0.6666666666666666,\"#ed7953\"],[0.7777777777777778,\"#fb9f3a\"],[0.8888888888888888,\"#fdca26\"],[1.0,\"#f0f921\"]],\"type\":\"contour\"}],\"contourcarpet\":[{\"colorbar\":{\"outlinewidth\":0,\"ticks\":\"\"},\"type\":\"contourcarpet\"}],\"heatmap\":[{\"colorbar\":{\"outlinewidth\":0,\"ticks\":\"\"},\"colorscale\":[[0.0,\"#0d0887\"],[0.1111111111111111,\"#46039f\"],[0.2222222222222222,\"#7201a8\"],[0.3333333333333333,\"#9c179e\"],[0.4444444444444444,\"#bd3786\"],[0.5555555555555556,\"#d8576b\"],[0.6666666666666666,\"#ed7953\"],[0.7777777777777778,\"#fb9f3a\"],[0.8888888888888888,\"#fdca26\"],[1.0,\"#f0f921\"]],\"type\":\"heatmap\"}],\"heatmapgl\":[{\"colorbar\":{\"outlinewidth\":0,\"ticks\":\"\"},\"colorscale\":[[0.0,\"#0d0887\"],[0.1111111111111111,\"#46039f\"],[0.2222222222222222,\"#7201a8\"],[0.3333333333333333,\"#9c179e\"],[0.4444444444444444,\"#bd3786\"],[0.5555555555555556,\"#d8576b\"],[0.6666666666666666,\"#ed7953\"],[0.7777777777777778,\"#fb9f3a\"],[0.8888888888888888,\"#fdca26\"],[1.0,\"#f0f921\"]],\"type\":\"heatmapgl\"}],\"histogram\":[{\"marker\":{\"pattern\":{\"fillmode\":\"overlay\",\"size\":10,\"solidity\":0.2}},\"type\":\"histogram\"}],\"histogram2d\":[{\"colorbar\":{\"outlinewidth\":0,\"ticks\":\"\"},\"colorscale\":[[0.0,\"#0d0887\"],[0.1111111111111111,\"#46039f\"],[0.2222222222222222,\"#7201a8\"],[0.3333333333333333,\"#9c179e\"],[0.4444444444444444,\"#bd3786\"],[0.5555555555555556,\"#d8576b\"],[0.6666666666666666,\"#ed7953\"],[0.7777777777777778,\"#fb9f3a\"],[0.8888888888888888,\"#fdca26\"],[1.0,\"#f0f921\"]],\"type\":\"histogram2d\"}],\"histogram2dcontour\":[{\"colorbar\":{\"outlinewidth\":0,\"ticks\":\"\"},\"colorscale\":[[0.0,\"#0d0887\"],[0.1111111111111111,\"#46039f\"],[0.2222222222222222,\"#7201a8\"],[0.3333333333333333,\"#9c179e\"],[0.4444444444444444,\"#bd3786\"],[0.5555555555555556,\"#d8576b\"],[0.6666666666666666,\"#ed7953\"],[0.7777777777777778,\"#fb9f3a\"],[0.8888888888888888,\"#fdca26\"],[1.0,\"#f0f921\"]],\"type\":\"histogram2dcontour\"}],\"mesh3d\":[{\"colorbar\":{\"outlinewidth\":0,\"ticks\":\"\"},\"type\":\"mesh3d\"}],\"parcoords\":[{\"line\":{\"colorbar\":{\"outlinewidth\":0,\"ticks\":\"\"}},\"type\":\"parcoords\"}],\"pie\":[{\"automargin\":true,\"type\":\"pie\"}],\"scatter\":[{\"marker\":{\"colorbar\":{\"outlinewidth\":0,\"ticks\":\"\"}},\"type\":\"scatter\"}],\"scatter3d\":[{\"line\":{\"colorbar\":{\"outlinewidth\":0,\"ticks\":\"\"}},\"marker\":{\"colorbar\":{\"outlinewidth\":0,\"ticks\":\"\"}},\"type\":\"scatter3d\"}],\"scattercarpet\":[{\"marker\":{\"colorbar\":{\"outlinewidth\":0,\"ticks\":\"\"}},\"type\":\"scattercarpet\"}],\"scattergeo\":[{\"marker\":{\"colorbar\":{\"outlinewidth\":0,\"ticks\":\"\"}},\"type\":\"scattergeo\"}],\"scattergl\":[{\"marker\":{\"colorbar\":{\"outlinewidth\":0,\"ticks\":\"\"}},\"type\":\"scattergl\"}],\"scattermapbox\":[{\"marker\":{\"colorbar\":{\"outlinewidth\":0,\"ticks\":\"\"}},\"type\":\"scattermapbox\"}],\"scatterpolar\":[{\"marker\":{\"colorbar\":{\"outlinewidth\":0,\"ticks\":\"\"}},\"type\":\"scatterpolar\"}],\"scatterpolargl\":[{\"marker\":{\"colorbar\":{\"outlinewidth\":0,\"ticks\":\"\"}},\"type\":\"scatterpolargl\"}],\"scatterternary\":[{\"marker\":{\"colorbar\":{\"outlinewidth\":0,\"ticks\":\"\"}},\"type\":\"scatterternary\"}],\"surface\":[{\"colorbar\":{\"outlinewidth\":0,\"ticks\":\"\"},\"colorscale\":[[0.0,\"#0d0887\"],[0.1111111111111111,\"#46039f\"],[0.2222222222222222,\"#7201a8\"],[0.3333333333333333,\"#9c179e\"],[0.4444444444444444,\"#bd3786\"],[0.5555555555555556,\"#d8576b\"],[0.6666666666666666,\"#ed7953\"],[0.7777777777777778,\"#fb9f3a\"],[0.8888888888888888,\"#fdca26\"],[1.0,\"#f0f921\"]],\"type\":\"surface\"}],\"table\":[{\"cells\":{\"fill\":{\"color\":\"#EBF0F8\"},\"line\":{\"color\":\"white\"}},\"header\":{\"fill\":{\"color\":\"#C8D4E3\"},\"line\":{\"color\":\"white\"}},\"type\":\"table\"}]},\"layout\":{\"annotationdefaults\":{\"arrowcolor\":\"#2a3f5f\",\"arrowhead\":0,\"arrowwidth\":1},\"autotypenumbers\":\"strict\",\"coloraxis\":{\"colorbar\":{\"outlinewidth\":0,\"ticks\":\"\"}},\"colorscale\":{\"diverging\":[[0,\"#8e0152\"],[0.1,\"#c51b7d\"],[0.2,\"#de77ae\"],[0.3,\"#f1b6da\"],[0.4,\"#fde0ef\"],[0.5,\"#f7f7f7\"],[0.6,\"#e6f5d0\"],[0.7,\"#b8e186\"],[0.8,\"#7fbc41\"],[0.9,\"#4d9221\"],[1,\"#276419\"]],\"sequential\":[[0.0,\"#0d0887\"],[0.1111111111111111,\"#46039f\"],[0.2222222222222222,\"#7201a8\"],[0.3333333333333333,\"#9c179e\"],[0.4444444444444444,\"#bd3786\"],[0.5555555555555556,\"#d8576b\"],[0.6666666666666666,\"#ed7953\"],[0.7777777777777778,\"#fb9f3a\"],[0.8888888888888888,\"#fdca26\"],[1.0,\"#f0f921\"]],\"sequentialminus\":[[0.0,\"#0d0887\"],[0.1111111111111111,\"#46039f\"],[0.2222222222222222,\"#7201a8\"],[0.3333333333333333,\"#9c179e\"],[0.4444444444444444,\"#bd3786\"],[0.5555555555555556,\"#d8576b\"],[0.6666666666666666,\"#ed7953\"],[0.7777777777777778,\"#fb9f3a\"],[0.8888888888888888,\"#fdca26\"],[1.0,\"#f0f921\"]]},\"colorway\":[\"#636efa\",\"#EF553B\",\"#00cc96\",\"#ab63fa\",\"#FFA15A\",\"#19d3f3\",\"#FF6692\",\"#B6E880\",\"#FF97FF\",\"#FECB52\"],\"font\":{\"color\":\"#2a3f5f\"},\"geo\":{\"bgcolor\":\"white\",\"lakecolor\":\"white\",\"landcolor\":\"#E5ECF6\",\"showlakes\":true,\"showland\":true,\"subunitcolor\":\"white\"},\"hoverlabel\":{\"align\":\"left\"},\"hovermode\":\"closest\",\"mapbox\":{\"style\":\"light\"},\"paper_bgcolor\":\"white\",\"plot_bgcolor\":\"#E5ECF6\",\"polar\":{\"angularaxis\":{\"gridcolor\":\"white\",\"linecolor\":\"white\",\"ticks\":\"\"},\"bgcolor\":\"#E5ECF6\",\"radialaxis\":{\"gridcolor\":\"white\",\"linecolor\":\"white\",\"ticks\":\"\"}},\"scene\":{\"xaxis\":{\"backgroundcolor\":\"#E5ECF6\",\"gridcolor\":\"white\",\"gridwidth\":2,\"linecolor\":\"white\",\"showbackground\":true,\"ticks\":\"\",\"zerolinecolor\":\"white\"},\"yaxis\":{\"backgroundcolor\":\"#E5ECF6\",\"gridcolor\":\"white\",\"gridwidth\":2,\"linecolor\":\"white\",\"showbackground\":true,\"ticks\":\"\",\"zerolinecolor\":\"white\"},\"zaxis\":{\"backgroundcolor\":\"#E5ECF6\",\"gridcolor\":\"white\",\"gridwidth\":2,\"linecolor\":\"white\",\"showbackground\":true,\"ticks\":\"\",\"zerolinecolor\":\"white\"}},\"shapedefaults\":{\"line\":{\"color\":\"#2a3f5f\"}},\"ternary\":{\"aaxis\":{\"gridcolor\":\"white\",\"linecolor\":\"white\",\"ticks\":\"\"},\"baxis\":{\"gridcolor\":\"white\",\"linecolor\":\"white\",\"ticks\":\"\"},\"bgcolor\":\"#E5ECF6\",\"caxis\":{\"gridcolor\":\"white\",\"linecolor\":\"white\",\"ticks\":\"\"}},\"title\":{\"x\":0.05},\"xaxis\":{\"automargin\":true,\"gridcolor\":\"white\",\"linecolor\":\"white\",\"ticks\":\"\",\"title\":{\"standoff\":15},\"zerolinecolor\":\"white\",\"zerolinewidth\":2},\"yaxis\":{\"automargin\":true,\"gridcolor\":\"white\",\"linecolor\":\"white\",\"ticks\":\"\",\"title\":{\"standoff\":15},\"zerolinecolor\":\"white\",\"zerolinewidth\":2}}},\"title\":{\"text\":\"\\u0412\\u043e\\u0440\\u043e\\u043d\\u043a\\u0430 \\u0434\\u043b\\u044f \\u0410 \\u0438 \\u0412\"}},                        {\"responsive\": true}                    ).then(function(){\n",
              "                            \n",
              "var gd = document.getElementById('21917834-57d7-4c8b-bb73-208dd0d1637d');\n",
              "var x = new MutationObserver(function (mutations, observer) {{\n",
              "        var display = window.getComputedStyle(gd).display;\n",
              "        if (!display || display === 'none') {{\n",
              "            console.log([gd, 'removed!']);\n",
              "            Plotly.purge(gd);\n",
              "            observer.disconnect();\n",
              "        }}\n",
              "}});\n",
              "\n",
              "// Listen for the removal of the full notebook cells\n",
              "var notebookContainer = gd.closest('#notebook-container');\n",
              "if (notebookContainer) {{\n",
              "    x.observe(notebookContainer, {childList: true});\n",
              "}}\n",
              "\n",
              "// Listen for the clearing of the current output cell\n",
              "var outputEl = gd.closest('.output');\n",
              "if (outputEl) {{\n",
              "    x.observe(outputEl, {childList: true});\n",
              "}}\n",
              "\n",
              "                        })                };                            </script>        </div>\n",
              "</body>\n",
              "</html>"
            ]
          },
          "metadata": {}
        }
      ],
      "source": [
        "funnel_ab = log.pivot_table(index=['event_name'], values='user_id', aggfunc='nunique')\n",
        "funnel_a = log.query('group==\"A\"').pivot_table(index=['event_name'], values='user_id', aggfunc='nunique')\n",
        "funnel_b = log.query('group==\"B\"').pivot_table(index=['event_name'], values='user_id', aggfunc='nunique')\n",
        "new_index = ['login', 'product_page', 'product_cart', 'purchase']\n",
        "funnel_ab =funnel_ab.reindex(new_index)\n",
        "funnel_a = funnel_a.reindex(new_index)\n",
        "funnel_b = funnel_b.reindex(new_index)\n",
        "\n",
        "fig = go.Figure(go.Funnel(\n",
        "    y = funnel_ab.index, \n",
        "    x = funnel_ab['user_id'],\n",
        "    textinfo = \"value+percent initial + percent previous\",\n",
        "    marker = {\"color\": [\"deepskyblue\", \"deepskyblue\", \"deepskyblue\"]},\n",
        "    ))\n",
        "fig.update_layout(title=\"Воронка для А и В\")\n",
        "fig.show()"
      ]
    },
    {
      "cell_type": "code",
      "execution_count": null,
      "metadata": {
        "colab": {
          "base_uri": "https://localhost:8080/",
          "height": 542
        },
        "id": "MbcleO0ZZizc",
        "outputId": "0dfca6d8-70fc-4a11-c2ab-debde4def4e3"
      },
      "outputs": [
        {
          "output_type": "display_data",
          "data": {
            "text/html": [
              "<html>\n",
              "<head><meta charset=\"utf-8\" /></head>\n",
              "<body>\n",
              "    <div>            <script src=\"https://cdnjs.cloudflare.com/ajax/libs/mathjax/2.7.5/MathJax.js?config=TeX-AMS-MML_SVG\"></script><script type=\"text/javascript\">if (window.MathJax) {MathJax.Hub.Config({SVG: {font: \"STIX-Web\"}});}</script>                <script type=\"text/javascript\">window.PlotlyConfig = {MathJaxConfig: 'local'};</script>\n",
              "        <script src=\"https://cdn.plot.ly/plotly-2.8.3.min.js\"></script>                <div id=\"d1d3d019-903e-482c-92cd-b90f3f765091\" class=\"plotly-graph-div\" style=\"height:525px; width:100%;\"></div>            <script type=\"text/javascript\">                                    window.PLOTLYENV=window.PLOTLYENV || {};                                    if (document.getElementById(\"d1d3d019-903e-482c-92cd-b90f3f765091\")) {                    Plotly.newPlot(                        \"d1d3d019-903e-482c-92cd-b90f3f765091\",                        [{\"marker\":{\"color\":[\"lightsalmon\",\"lightsalmon\",\"lightsalmon\"]},\"textinfo\":\"value+percent initial+percent previous\",\"x\":[2604,1685,782,833],\"y\":[\"login\",\"product_page\",\"product_cart\",\"purchase\"],\"type\":\"funnel\"}],                        {\"template\":{\"data\":{\"bar\":[{\"error_x\":{\"color\":\"#2a3f5f\"},\"error_y\":{\"color\":\"#2a3f5f\"},\"marker\":{\"line\":{\"color\":\"#E5ECF6\",\"width\":0.5},\"pattern\":{\"fillmode\":\"overlay\",\"size\":10,\"solidity\":0.2}},\"type\":\"bar\"}],\"barpolar\":[{\"marker\":{\"line\":{\"color\":\"#E5ECF6\",\"width\":0.5},\"pattern\":{\"fillmode\":\"overlay\",\"size\":10,\"solidity\":0.2}},\"type\":\"barpolar\"}],\"carpet\":[{\"aaxis\":{\"endlinecolor\":\"#2a3f5f\",\"gridcolor\":\"white\",\"linecolor\":\"white\",\"minorgridcolor\":\"white\",\"startlinecolor\":\"#2a3f5f\"},\"baxis\":{\"endlinecolor\":\"#2a3f5f\",\"gridcolor\":\"white\",\"linecolor\":\"white\",\"minorgridcolor\":\"white\",\"startlinecolor\":\"#2a3f5f\"},\"type\":\"carpet\"}],\"choropleth\":[{\"colorbar\":{\"outlinewidth\":0,\"ticks\":\"\"},\"type\":\"choropleth\"}],\"contour\":[{\"colorbar\":{\"outlinewidth\":0,\"ticks\":\"\"},\"colorscale\":[[0.0,\"#0d0887\"],[0.1111111111111111,\"#46039f\"],[0.2222222222222222,\"#7201a8\"],[0.3333333333333333,\"#9c179e\"],[0.4444444444444444,\"#bd3786\"],[0.5555555555555556,\"#d8576b\"],[0.6666666666666666,\"#ed7953\"],[0.7777777777777778,\"#fb9f3a\"],[0.8888888888888888,\"#fdca26\"],[1.0,\"#f0f921\"]],\"type\":\"contour\"}],\"contourcarpet\":[{\"colorbar\":{\"outlinewidth\":0,\"ticks\":\"\"},\"type\":\"contourcarpet\"}],\"heatmap\":[{\"colorbar\":{\"outlinewidth\":0,\"ticks\":\"\"},\"colorscale\":[[0.0,\"#0d0887\"],[0.1111111111111111,\"#46039f\"],[0.2222222222222222,\"#7201a8\"],[0.3333333333333333,\"#9c179e\"],[0.4444444444444444,\"#bd3786\"],[0.5555555555555556,\"#d8576b\"],[0.6666666666666666,\"#ed7953\"],[0.7777777777777778,\"#fb9f3a\"],[0.8888888888888888,\"#fdca26\"],[1.0,\"#f0f921\"]],\"type\":\"heatmap\"}],\"heatmapgl\":[{\"colorbar\":{\"outlinewidth\":0,\"ticks\":\"\"},\"colorscale\":[[0.0,\"#0d0887\"],[0.1111111111111111,\"#46039f\"],[0.2222222222222222,\"#7201a8\"],[0.3333333333333333,\"#9c179e\"],[0.4444444444444444,\"#bd3786\"],[0.5555555555555556,\"#d8576b\"],[0.6666666666666666,\"#ed7953\"],[0.7777777777777778,\"#fb9f3a\"],[0.8888888888888888,\"#fdca26\"],[1.0,\"#f0f921\"]],\"type\":\"heatmapgl\"}],\"histogram\":[{\"marker\":{\"pattern\":{\"fillmode\":\"overlay\",\"size\":10,\"solidity\":0.2}},\"type\":\"histogram\"}],\"histogram2d\":[{\"colorbar\":{\"outlinewidth\":0,\"ticks\":\"\"},\"colorscale\":[[0.0,\"#0d0887\"],[0.1111111111111111,\"#46039f\"],[0.2222222222222222,\"#7201a8\"],[0.3333333333333333,\"#9c179e\"],[0.4444444444444444,\"#bd3786\"],[0.5555555555555556,\"#d8576b\"],[0.6666666666666666,\"#ed7953\"],[0.7777777777777778,\"#fb9f3a\"],[0.8888888888888888,\"#fdca26\"],[1.0,\"#f0f921\"]],\"type\":\"histogram2d\"}],\"histogram2dcontour\":[{\"colorbar\":{\"outlinewidth\":0,\"ticks\":\"\"},\"colorscale\":[[0.0,\"#0d0887\"],[0.1111111111111111,\"#46039f\"],[0.2222222222222222,\"#7201a8\"],[0.3333333333333333,\"#9c179e\"],[0.4444444444444444,\"#bd3786\"],[0.5555555555555556,\"#d8576b\"],[0.6666666666666666,\"#ed7953\"],[0.7777777777777778,\"#fb9f3a\"],[0.8888888888888888,\"#fdca26\"],[1.0,\"#f0f921\"]],\"type\":\"histogram2dcontour\"}],\"mesh3d\":[{\"colorbar\":{\"outlinewidth\":0,\"ticks\":\"\"},\"type\":\"mesh3d\"}],\"parcoords\":[{\"line\":{\"colorbar\":{\"outlinewidth\":0,\"ticks\":\"\"}},\"type\":\"parcoords\"}],\"pie\":[{\"automargin\":true,\"type\":\"pie\"}],\"scatter\":[{\"marker\":{\"colorbar\":{\"outlinewidth\":0,\"ticks\":\"\"}},\"type\":\"scatter\"}],\"scatter3d\":[{\"line\":{\"colorbar\":{\"outlinewidth\":0,\"ticks\":\"\"}},\"marker\":{\"colorbar\":{\"outlinewidth\":0,\"ticks\":\"\"}},\"type\":\"scatter3d\"}],\"scattercarpet\":[{\"marker\":{\"colorbar\":{\"outlinewidth\":0,\"ticks\":\"\"}},\"type\":\"scattercarpet\"}],\"scattergeo\":[{\"marker\":{\"colorbar\":{\"outlinewidth\":0,\"ticks\":\"\"}},\"type\":\"scattergeo\"}],\"scattergl\":[{\"marker\":{\"colorbar\":{\"outlinewidth\":0,\"ticks\":\"\"}},\"type\":\"scattergl\"}],\"scattermapbox\":[{\"marker\":{\"colorbar\":{\"outlinewidth\":0,\"ticks\":\"\"}},\"type\":\"scattermapbox\"}],\"scatterpolar\":[{\"marker\":{\"colorbar\":{\"outlinewidth\":0,\"ticks\":\"\"}},\"type\":\"scatterpolar\"}],\"scatterpolargl\":[{\"marker\":{\"colorbar\":{\"outlinewidth\":0,\"ticks\":\"\"}},\"type\":\"scatterpolargl\"}],\"scatterternary\":[{\"marker\":{\"colorbar\":{\"outlinewidth\":0,\"ticks\":\"\"}},\"type\":\"scatterternary\"}],\"surface\":[{\"colorbar\":{\"outlinewidth\":0,\"ticks\":\"\"},\"colorscale\":[[0.0,\"#0d0887\"],[0.1111111111111111,\"#46039f\"],[0.2222222222222222,\"#7201a8\"],[0.3333333333333333,\"#9c179e\"],[0.4444444444444444,\"#bd3786\"],[0.5555555555555556,\"#d8576b\"],[0.6666666666666666,\"#ed7953\"],[0.7777777777777778,\"#fb9f3a\"],[0.8888888888888888,\"#fdca26\"],[1.0,\"#f0f921\"]],\"type\":\"surface\"}],\"table\":[{\"cells\":{\"fill\":{\"color\":\"#EBF0F8\"},\"line\":{\"color\":\"white\"}},\"header\":{\"fill\":{\"color\":\"#C8D4E3\"},\"line\":{\"color\":\"white\"}},\"type\":\"table\"}]},\"layout\":{\"annotationdefaults\":{\"arrowcolor\":\"#2a3f5f\",\"arrowhead\":0,\"arrowwidth\":1},\"autotypenumbers\":\"strict\",\"coloraxis\":{\"colorbar\":{\"outlinewidth\":0,\"ticks\":\"\"}},\"colorscale\":{\"diverging\":[[0,\"#8e0152\"],[0.1,\"#c51b7d\"],[0.2,\"#de77ae\"],[0.3,\"#f1b6da\"],[0.4,\"#fde0ef\"],[0.5,\"#f7f7f7\"],[0.6,\"#e6f5d0\"],[0.7,\"#b8e186\"],[0.8,\"#7fbc41\"],[0.9,\"#4d9221\"],[1,\"#276419\"]],\"sequential\":[[0.0,\"#0d0887\"],[0.1111111111111111,\"#46039f\"],[0.2222222222222222,\"#7201a8\"],[0.3333333333333333,\"#9c179e\"],[0.4444444444444444,\"#bd3786\"],[0.5555555555555556,\"#d8576b\"],[0.6666666666666666,\"#ed7953\"],[0.7777777777777778,\"#fb9f3a\"],[0.8888888888888888,\"#fdca26\"],[1.0,\"#f0f921\"]],\"sequentialminus\":[[0.0,\"#0d0887\"],[0.1111111111111111,\"#46039f\"],[0.2222222222222222,\"#7201a8\"],[0.3333333333333333,\"#9c179e\"],[0.4444444444444444,\"#bd3786\"],[0.5555555555555556,\"#d8576b\"],[0.6666666666666666,\"#ed7953\"],[0.7777777777777778,\"#fb9f3a\"],[0.8888888888888888,\"#fdca26\"],[1.0,\"#f0f921\"]]},\"colorway\":[\"#636efa\",\"#EF553B\",\"#00cc96\",\"#ab63fa\",\"#FFA15A\",\"#19d3f3\",\"#FF6692\",\"#B6E880\",\"#FF97FF\",\"#FECB52\"],\"font\":{\"color\":\"#2a3f5f\"},\"geo\":{\"bgcolor\":\"white\",\"lakecolor\":\"white\",\"landcolor\":\"#E5ECF6\",\"showlakes\":true,\"showland\":true,\"subunitcolor\":\"white\"},\"hoverlabel\":{\"align\":\"left\"},\"hovermode\":\"closest\",\"mapbox\":{\"style\":\"light\"},\"paper_bgcolor\":\"white\",\"plot_bgcolor\":\"#E5ECF6\",\"polar\":{\"angularaxis\":{\"gridcolor\":\"white\",\"linecolor\":\"white\",\"ticks\":\"\"},\"bgcolor\":\"#E5ECF6\",\"radialaxis\":{\"gridcolor\":\"white\",\"linecolor\":\"white\",\"ticks\":\"\"}},\"scene\":{\"xaxis\":{\"backgroundcolor\":\"#E5ECF6\",\"gridcolor\":\"white\",\"gridwidth\":2,\"linecolor\":\"white\",\"showbackground\":true,\"ticks\":\"\",\"zerolinecolor\":\"white\"},\"yaxis\":{\"backgroundcolor\":\"#E5ECF6\",\"gridcolor\":\"white\",\"gridwidth\":2,\"linecolor\":\"white\",\"showbackground\":true,\"ticks\":\"\",\"zerolinecolor\":\"white\"},\"zaxis\":{\"backgroundcolor\":\"#E5ECF6\",\"gridcolor\":\"white\",\"gridwidth\":2,\"linecolor\":\"white\",\"showbackground\":true,\"ticks\":\"\",\"zerolinecolor\":\"white\"}},\"shapedefaults\":{\"line\":{\"color\":\"#2a3f5f\"}},\"ternary\":{\"aaxis\":{\"gridcolor\":\"white\",\"linecolor\":\"white\",\"ticks\":\"\"},\"baxis\":{\"gridcolor\":\"white\",\"linecolor\":\"white\",\"ticks\":\"\"},\"bgcolor\":\"#E5ECF6\",\"caxis\":{\"gridcolor\":\"white\",\"linecolor\":\"white\",\"ticks\":\"\"}},\"title\":{\"x\":0.05},\"xaxis\":{\"automargin\":true,\"gridcolor\":\"white\",\"linecolor\":\"white\",\"ticks\":\"\",\"title\":{\"standoff\":15},\"zerolinecolor\":\"white\",\"zerolinewidth\":2},\"yaxis\":{\"automargin\":true,\"gridcolor\":\"white\",\"linecolor\":\"white\",\"ticks\":\"\",\"title\":{\"standoff\":15},\"zerolinecolor\":\"white\",\"zerolinewidth\":2}}},\"title\":{\"text\":\"\\u0412\\u043e\\u0440\\u043e\\u043d\\u043a\\u0430 \\u0434\\u043b\\u044f \\u0410 \"}},                        {\"responsive\": true}                    ).then(function(){\n",
              "                            \n",
              "var gd = document.getElementById('d1d3d019-903e-482c-92cd-b90f3f765091');\n",
              "var x = new MutationObserver(function (mutations, observer) {{\n",
              "        var display = window.getComputedStyle(gd).display;\n",
              "        if (!display || display === 'none') {{\n",
              "            console.log([gd, 'removed!']);\n",
              "            Plotly.purge(gd);\n",
              "            observer.disconnect();\n",
              "        }}\n",
              "}});\n",
              "\n",
              "// Listen for the removal of the full notebook cells\n",
              "var notebookContainer = gd.closest('#notebook-container');\n",
              "if (notebookContainer) {{\n",
              "    x.observe(notebookContainer, {childList: true});\n",
              "}}\n",
              "\n",
              "// Listen for the clearing of the current output cell\n",
              "var outputEl = gd.closest('.output');\n",
              "if (outputEl) {{\n",
              "    x.observe(outputEl, {childList: true});\n",
              "}}\n",
              "\n",
              "                        })                };                            </script>        </div>\n",
              "</body>\n",
              "</html>"
            ]
          },
          "metadata": {}
        }
      ],
      "source": [
        "fig = go.Figure(go.Funnel(\n",
        "    y = funnel_a.index, \n",
        "    x = funnel_a['user_id'],\n",
        "    textinfo = \"value+percent initial + percent previous\",\n",
        "    marker = {\"color\": [\"lightsalmon\", \"lightsalmon\", \"lightsalmon\"]},\n",
        "    ))\n",
        "fig.update_layout(title=\"Воронка для А \")\n",
        "fig.show()"
      ]
    },
    {
      "cell_type": "code",
      "execution_count": null,
      "metadata": {
        "colab": {
          "base_uri": "https://localhost:8080/",
          "height": 542
        },
        "id": "tFh_GLZ3bC9e",
        "outputId": "942c1650-e4f3-4adf-b17b-5115979c1a78"
      },
      "outputs": [
        {
          "output_type": "display_data",
          "data": {
            "text/html": [
              "<html>\n",
              "<head><meta charset=\"utf-8\" /></head>\n",
              "<body>\n",
              "    <div>            <script src=\"https://cdnjs.cloudflare.com/ajax/libs/mathjax/2.7.5/MathJax.js?config=TeX-AMS-MML_SVG\"></script><script type=\"text/javascript\">if (window.MathJax) {MathJax.Hub.Config({SVG: {font: \"STIX-Web\"}});}</script>                <script type=\"text/javascript\">window.PlotlyConfig = {MathJaxConfig: 'local'};</script>\n",
              "        <script src=\"https://cdn.plot.ly/plotly-2.8.3.min.js\"></script>                <div id=\"466386ca-d609-42cd-9329-bf45d71cba2a\" class=\"plotly-graph-div\" style=\"height:525px; width:100%;\"></div>            <script type=\"text/javascript\">                                    window.PLOTLYENV=window.PLOTLYENV || {};                                    if (document.getElementById(\"466386ca-d609-42cd-9329-bf45d71cba2a\")) {                    Plotly.newPlot(                        \"466386ca-d609-42cd-9329-bf45d71cba2a\",                        [{\"marker\":{\"color\":[\"tan\",\"tan\",\"tan\"]},\"textinfo\":\"value+percent initial+percent previous\",\"x\":[876,493,244,249],\"y\":[\"login\",\"product_page\",\"product_cart\",\"purchase\"],\"type\":\"funnel\"}],                        {\"template\":{\"data\":{\"bar\":[{\"error_x\":{\"color\":\"#2a3f5f\"},\"error_y\":{\"color\":\"#2a3f5f\"},\"marker\":{\"line\":{\"color\":\"#E5ECF6\",\"width\":0.5},\"pattern\":{\"fillmode\":\"overlay\",\"size\":10,\"solidity\":0.2}},\"type\":\"bar\"}],\"barpolar\":[{\"marker\":{\"line\":{\"color\":\"#E5ECF6\",\"width\":0.5},\"pattern\":{\"fillmode\":\"overlay\",\"size\":10,\"solidity\":0.2}},\"type\":\"barpolar\"}],\"carpet\":[{\"aaxis\":{\"endlinecolor\":\"#2a3f5f\",\"gridcolor\":\"white\",\"linecolor\":\"white\",\"minorgridcolor\":\"white\",\"startlinecolor\":\"#2a3f5f\"},\"baxis\":{\"endlinecolor\":\"#2a3f5f\",\"gridcolor\":\"white\",\"linecolor\":\"white\",\"minorgridcolor\":\"white\",\"startlinecolor\":\"#2a3f5f\"},\"type\":\"carpet\"}],\"choropleth\":[{\"colorbar\":{\"outlinewidth\":0,\"ticks\":\"\"},\"type\":\"choropleth\"}],\"contour\":[{\"colorbar\":{\"outlinewidth\":0,\"ticks\":\"\"},\"colorscale\":[[0.0,\"#0d0887\"],[0.1111111111111111,\"#46039f\"],[0.2222222222222222,\"#7201a8\"],[0.3333333333333333,\"#9c179e\"],[0.4444444444444444,\"#bd3786\"],[0.5555555555555556,\"#d8576b\"],[0.6666666666666666,\"#ed7953\"],[0.7777777777777778,\"#fb9f3a\"],[0.8888888888888888,\"#fdca26\"],[1.0,\"#f0f921\"]],\"type\":\"contour\"}],\"contourcarpet\":[{\"colorbar\":{\"outlinewidth\":0,\"ticks\":\"\"},\"type\":\"contourcarpet\"}],\"heatmap\":[{\"colorbar\":{\"outlinewidth\":0,\"ticks\":\"\"},\"colorscale\":[[0.0,\"#0d0887\"],[0.1111111111111111,\"#46039f\"],[0.2222222222222222,\"#7201a8\"],[0.3333333333333333,\"#9c179e\"],[0.4444444444444444,\"#bd3786\"],[0.5555555555555556,\"#d8576b\"],[0.6666666666666666,\"#ed7953\"],[0.7777777777777778,\"#fb9f3a\"],[0.8888888888888888,\"#fdca26\"],[1.0,\"#f0f921\"]],\"type\":\"heatmap\"}],\"heatmapgl\":[{\"colorbar\":{\"outlinewidth\":0,\"ticks\":\"\"},\"colorscale\":[[0.0,\"#0d0887\"],[0.1111111111111111,\"#46039f\"],[0.2222222222222222,\"#7201a8\"],[0.3333333333333333,\"#9c179e\"],[0.4444444444444444,\"#bd3786\"],[0.5555555555555556,\"#d8576b\"],[0.6666666666666666,\"#ed7953\"],[0.7777777777777778,\"#fb9f3a\"],[0.8888888888888888,\"#fdca26\"],[1.0,\"#f0f921\"]],\"type\":\"heatmapgl\"}],\"histogram\":[{\"marker\":{\"pattern\":{\"fillmode\":\"overlay\",\"size\":10,\"solidity\":0.2}},\"type\":\"histogram\"}],\"histogram2d\":[{\"colorbar\":{\"outlinewidth\":0,\"ticks\":\"\"},\"colorscale\":[[0.0,\"#0d0887\"],[0.1111111111111111,\"#46039f\"],[0.2222222222222222,\"#7201a8\"],[0.3333333333333333,\"#9c179e\"],[0.4444444444444444,\"#bd3786\"],[0.5555555555555556,\"#d8576b\"],[0.6666666666666666,\"#ed7953\"],[0.7777777777777778,\"#fb9f3a\"],[0.8888888888888888,\"#fdca26\"],[1.0,\"#f0f921\"]],\"type\":\"histogram2d\"}],\"histogram2dcontour\":[{\"colorbar\":{\"outlinewidth\":0,\"ticks\":\"\"},\"colorscale\":[[0.0,\"#0d0887\"],[0.1111111111111111,\"#46039f\"],[0.2222222222222222,\"#7201a8\"],[0.3333333333333333,\"#9c179e\"],[0.4444444444444444,\"#bd3786\"],[0.5555555555555556,\"#d8576b\"],[0.6666666666666666,\"#ed7953\"],[0.7777777777777778,\"#fb9f3a\"],[0.8888888888888888,\"#fdca26\"],[1.0,\"#f0f921\"]],\"type\":\"histogram2dcontour\"}],\"mesh3d\":[{\"colorbar\":{\"outlinewidth\":0,\"ticks\":\"\"},\"type\":\"mesh3d\"}],\"parcoords\":[{\"line\":{\"colorbar\":{\"outlinewidth\":0,\"ticks\":\"\"}},\"type\":\"parcoords\"}],\"pie\":[{\"automargin\":true,\"type\":\"pie\"}],\"scatter\":[{\"marker\":{\"colorbar\":{\"outlinewidth\":0,\"ticks\":\"\"}},\"type\":\"scatter\"}],\"scatter3d\":[{\"line\":{\"colorbar\":{\"outlinewidth\":0,\"ticks\":\"\"}},\"marker\":{\"colorbar\":{\"outlinewidth\":0,\"ticks\":\"\"}},\"type\":\"scatter3d\"}],\"scattercarpet\":[{\"marker\":{\"colorbar\":{\"outlinewidth\":0,\"ticks\":\"\"}},\"type\":\"scattercarpet\"}],\"scattergeo\":[{\"marker\":{\"colorbar\":{\"outlinewidth\":0,\"ticks\":\"\"}},\"type\":\"scattergeo\"}],\"scattergl\":[{\"marker\":{\"colorbar\":{\"outlinewidth\":0,\"ticks\":\"\"}},\"type\":\"scattergl\"}],\"scattermapbox\":[{\"marker\":{\"colorbar\":{\"outlinewidth\":0,\"ticks\":\"\"}},\"type\":\"scattermapbox\"}],\"scatterpolar\":[{\"marker\":{\"colorbar\":{\"outlinewidth\":0,\"ticks\":\"\"}},\"type\":\"scatterpolar\"}],\"scatterpolargl\":[{\"marker\":{\"colorbar\":{\"outlinewidth\":0,\"ticks\":\"\"}},\"type\":\"scatterpolargl\"}],\"scatterternary\":[{\"marker\":{\"colorbar\":{\"outlinewidth\":0,\"ticks\":\"\"}},\"type\":\"scatterternary\"}],\"surface\":[{\"colorbar\":{\"outlinewidth\":0,\"ticks\":\"\"},\"colorscale\":[[0.0,\"#0d0887\"],[0.1111111111111111,\"#46039f\"],[0.2222222222222222,\"#7201a8\"],[0.3333333333333333,\"#9c179e\"],[0.4444444444444444,\"#bd3786\"],[0.5555555555555556,\"#d8576b\"],[0.6666666666666666,\"#ed7953\"],[0.7777777777777778,\"#fb9f3a\"],[0.8888888888888888,\"#fdca26\"],[1.0,\"#f0f921\"]],\"type\":\"surface\"}],\"table\":[{\"cells\":{\"fill\":{\"color\":\"#EBF0F8\"},\"line\":{\"color\":\"white\"}},\"header\":{\"fill\":{\"color\":\"#C8D4E3\"},\"line\":{\"color\":\"white\"}},\"type\":\"table\"}]},\"layout\":{\"annotationdefaults\":{\"arrowcolor\":\"#2a3f5f\",\"arrowhead\":0,\"arrowwidth\":1},\"autotypenumbers\":\"strict\",\"coloraxis\":{\"colorbar\":{\"outlinewidth\":0,\"ticks\":\"\"}},\"colorscale\":{\"diverging\":[[0,\"#8e0152\"],[0.1,\"#c51b7d\"],[0.2,\"#de77ae\"],[0.3,\"#f1b6da\"],[0.4,\"#fde0ef\"],[0.5,\"#f7f7f7\"],[0.6,\"#e6f5d0\"],[0.7,\"#b8e186\"],[0.8,\"#7fbc41\"],[0.9,\"#4d9221\"],[1,\"#276419\"]],\"sequential\":[[0.0,\"#0d0887\"],[0.1111111111111111,\"#46039f\"],[0.2222222222222222,\"#7201a8\"],[0.3333333333333333,\"#9c179e\"],[0.4444444444444444,\"#bd3786\"],[0.5555555555555556,\"#d8576b\"],[0.6666666666666666,\"#ed7953\"],[0.7777777777777778,\"#fb9f3a\"],[0.8888888888888888,\"#fdca26\"],[1.0,\"#f0f921\"]],\"sequentialminus\":[[0.0,\"#0d0887\"],[0.1111111111111111,\"#46039f\"],[0.2222222222222222,\"#7201a8\"],[0.3333333333333333,\"#9c179e\"],[0.4444444444444444,\"#bd3786\"],[0.5555555555555556,\"#d8576b\"],[0.6666666666666666,\"#ed7953\"],[0.7777777777777778,\"#fb9f3a\"],[0.8888888888888888,\"#fdca26\"],[1.0,\"#f0f921\"]]},\"colorway\":[\"#636efa\",\"#EF553B\",\"#00cc96\",\"#ab63fa\",\"#FFA15A\",\"#19d3f3\",\"#FF6692\",\"#B6E880\",\"#FF97FF\",\"#FECB52\"],\"font\":{\"color\":\"#2a3f5f\"},\"geo\":{\"bgcolor\":\"white\",\"lakecolor\":\"white\",\"landcolor\":\"#E5ECF6\",\"showlakes\":true,\"showland\":true,\"subunitcolor\":\"white\"},\"hoverlabel\":{\"align\":\"left\"},\"hovermode\":\"closest\",\"mapbox\":{\"style\":\"light\"},\"paper_bgcolor\":\"white\",\"plot_bgcolor\":\"#E5ECF6\",\"polar\":{\"angularaxis\":{\"gridcolor\":\"white\",\"linecolor\":\"white\",\"ticks\":\"\"},\"bgcolor\":\"#E5ECF6\",\"radialaxis\":{\"gridcolor\":\"white\",\"linecolor\":\"white\",\"ticks\":\"\"}},\"scene\":{\"xaxis\":{\"backgroundcolor\":\"#E5ECF6\",\"gridcolor\":\"white\",\"gridwidth\":2,\"linecolor\":\"white\",\"showbackground\":true,\"ticks\":\"\",\"zerolinecolor\":\"white\"},\"yaxis\":{\"backgroundcolor\":\"#E5ECF6\",\"gridcolor\":\"white\",\"gridwidth\":2,\"linecolor\":\"white\",\"showbackground\":true,\"ticks\":\"\",\"zerolinecolor\":\"white\"},\"zaxis\":{\"backgroundcolor\":\"#E5ECF6\",\"gridcolor\":\"white\",\"gridwidth\":2,\"linecolor\":\"white\",\"showbackground\":true,\"ticks\":\"\",\"zerolinecolor\":\"white\"}},\"shapedefaults\":{\"line\":{\"color\":\"#2a3f5f\"}},\"ternary\":{\"aaxis\":{\"gridcolor\":\"white\",\"linecolor\":\"white\",\"ticks\":\"\"},\"baxis\":{\"gridcolor\":\"white\",\"linecolor\":\"white\",\"ticks\":\"\"},\"bgcolor\":\"#E5ECF6\",\"caxis\":{\"gridcolor\":\"white\",\"linecolor\":\"white\",\"ticks\":\"\"}},\"title\":{\"x\":0.05},\"xaxis\":{\"automargin\":true,\"gridcolor\":\"white\",\"linecolor\":\"white\",\"ticks\":\"\",\"title\":{\"standoff\":15},\"zerolinecolor\":\"white\",\"zerolinewidth\":2},\"yaxis\":{\"automargin\":true,\"gridcolor\":\"white\",\"linecolor\":\"white\",\"ticks\":\"\",\"title\":{\"standoff\":15},\"zerolinecolor\":\"white\",\"zerolinewidth\":2}}},\"title\":{\"text\":\"\\u0412\\u043e\\u0440\\u043e\\u043d\\u043a\\u0430 \\u0434\\u043b\\u044f \\u0412\"}},                        {\"responsive\": true}                    ).then(function(){\n",
              "                            \n",
              "var gd = document.getElementById('466386ca-d609-42cd-9329-bf45d71cba2a');\n",
              "var x = new MutationObserver(function (mutations, observer) {{\n",
              "        var display = window.getComputedStyle(gd).display;\n",
              "        if (!display || display === 'none') {{\n",
              "            console.log([gd, 'removed!']);\n",
              "            Plotly.purge(gd);\n",
              "            observer.disconnect();\n",
              "        }}\n",
              "}});\n",
              "\n",
              "// Listen for the removal of the full notebook cells\n",
              "var notebookContainer = gd.closest('#notebook-container');\n",
              "if (notebookContainer) {{\n",
              "    x.observe(notebookContainer, {childList: true});\n",
              "}}\n",
              "\n",
              "// Listen for the clearing of the current output cell\n",
              "var outputEl = gd.closest('.output');\n",
              "if (outputEl) {{\n",
              "    x.observe(outputEl, {childList: true});\n",
              "}}\n",
              "\n",
              "                        })                };                            </script>        </div>\n",
              "</body>\n",
              "</html>"
            ]
          },
          "metadata": {}
        }
      ],
      "source": [
        "fig = go.Figure(go.Funnel(\n",
        "    y = funnel_b.index, \n",
        "    x = funnel_b['user_id'],\n",
        "    textinfo = \"value+percent initial + percent previous\",\n",
        "    marker = {\"color\": [\"tan\", \"tan\", \"tan\"]},\n",
        "    ))\n",
        "fig.update_layout(title=\"Воронка для В\")\n",
        "fig.show()"
      ]
    },
    {
      "cell_type": "markdown",
      "metadata": {
        "id": "cW_Ic1OuaoCx"
      },
      "source": [
        "### Вывод \n",
        "\n",
        "Воронки продаж немного странные, количество продаж больше чем добавлений в корзину, значит есть какой то способ купить, без добавления товара в корзину."
      ]
    },
    {
      "cell_type": "markdown",
      "metadata": {
        "id": "GaYfPQaEa1DO"
      },
      "source": [
        "## Какие особенности данных нужно учесть, прежде чем приступать к A/B-тестированию?\n",
        "\n",
        "\n",
        "Почему то покупок меньше чем добавлений в корзину. Очевидно есть способ покупки не добавляя товар в корзину."
      ]
    },
    {
      "cell_type": "markdown",
      "metadata": {
        "id": "YlRNhonpa3f0"
      },
      "source": [
        "# Оцените результаты A/B-тестирования"
      ]
    },
    {
      "cell_type": "code",
      "execution_count": null,
      "metadata": {
        "colab": {
          "base_uri": "https://localhost:8080/"
        },
        "id": "l3_3wHT0K9VY",
        "outputId": "f0ef380a-fd49-4c5e-b6ff-650832eca8eb"
      },
      "outputs": [
        {
          "output_type": "stream",
          "name": "stdout",
          "text": [
            "          event   a_b     a    b      a_b_CR        a_CR        b_CR\n",
            "0         login  3480  2604  876  100.000000  100.000000  100.000000\n",
            "1  product_page  2178  1685  493   62.586207   64.708141   56.278539\n",
            "2  product_cart  1026   782  244   29.482759   30.030722   27.853881\n",
            "3      purchase  1082   833  249   31.091954   31.989247   28.424658\n"
          ]
        }
      ],
      "source": [
        "funnel_ab = funnel_ab.merge(funnel_a, on='event_name').merge(funnel_b, on='event_name').reset_index()\n",
        "funnel_ab.columns = ['event','a_b','a','b']\n",
        "\n",
        "for i in funnel_ab.index:\n",
        "    if i>0:\n",
        "        funnel_ab.loc[[i], ['a_b_CR']] = funnel_ab.loc[i]['a_b'] / funnel_ab.loc[0]['a_b'] *100\n",
        "        funnel_ab.loc[[i], ['a_CR']] = funnel_ab.loc[i]['a'] / funnel_ab.loc[0]['a'] *100\n",
        "        funnel_ab.loc[[i], ['b_CR']] = funnel_ab.loc[i]['b'] / funnel_ab.loc[0]['b'] *100\n",
        "    else:\n",
        "        funnel_ab.loc[[i], ['a_b_CR']] = 100\n",
        "        funnel_ab.loc[[i], ['a_CR']] = 100\n",
        "        funnel_ab.loc[[i], ['b_CR']] = 100        \n",
        "        \n",
        "print(funnel_ab)  "
      ]
    },
    {
      "cell_type": "markdown",
      "metadata": {
        "id": "tis_X67XLCDj"
      },
      "source": [
        "### Вывод \n",
        "\n",
        "Конверсия даже уменьшилась в группе Б. И естественно нигде не достигла прироста в 10%"
      ]
    },
    {
      "cell_type": "markdown",
      "metadata": {
        "id": "lY4EfLAUa5Ke"
      },
      "source": [
        "## Гипотеза\n",
        "\n",
        "Нулевая гипотеза: конверсия пользователей из группы A и группы B одинаковая "
      ]
    },
    {
      "cell_type": "markdown",
      "metadata": {
        "id": "ITq6BdWia8V8"
      },
      "source": [
        "## Проверьте статистическую разницу долей z-критерием."
      ]
    },
    {
      "cell_type": "code",
      "execution_count": null,
      "metadata": {
        "id": "58nVVqpACIuG"
      },
      "outputs": [],
      "source": [
        "# Уровень значимости возьмем 0,05\n",
        "alpha = .05 "
      ]
    },
    {
      "cell_type": "code",
      "execution_count": null,
      "metadata": {
        "id": "twhwEiNJAlQ2"
      },
      "outputs": [],
      "source": [
        "# процедура сасчитывает статистическую  значимость разницы(взял ее из тренажера)\n",
        "def z_val(successes,trials):\n",
        "    \n",
        "    # пропорция успехов в первой группе:\n",
        "    p1 = successes[0]/trials[0]\n",
        "\n",
        "    # пропорция успехов во второй группе:\n",
        "    p2 = successes[1]/trials[1]\n",
        "    \n",
        "    # пропорция успехов в комбинированном датасете:\n",
        "    p_combined = (successes[0] + successes[1]) / (trials[0] + trials[1])\n",
        "\n",
        "    # разница пропорций в датасетах\n",
        "    difference = p1 - p2 \n",
        "    \n",
        "    # считаем статистику в ст.отклонениях стандартного нормального распределения\n",
        "    z_value = difference / mth.sqrt(p_combined * (1 - p_combined) * (1/trials[0] + 1/trials[1]))\n",
        "\n",
        "    # задаем стандартное нормальное распределение (среднее 0, ст.отклонение 1)\n",
        "    distr = st.norm(0, 1)  \n",
        "    \n",
        "    p_value = (1 - distr.cdf(abs(z_value))) * 2\n",
        "    print('P-value',p_value)\n",
        "    return p_value"
      ]
    },
    {
      "cell_type": "markdown",
      "metadata": {
        "id": "Nqt2XTq6IDdI"
      },
      "source": [
        "## Проверим воронки"
      ]
    },
    {
      "cell_type": "code",
      "execution_count": null,
      "metadata": {
        "colab": {
          "base_uri": "https://localhost:8080/"
        },
        "id": "UgoNV5YlAqmX",
        "outputId": "16624db1-0950-43fb-cc3b-95c3397e5f58"
      },
      "outputs": [
        {
          "output_type": "stream",
          "name": "stdout",
          "text": [
            "\n",
            "Группы a b Проверяем событие product_page\n",
            "P-value 8.195976000324734e-06\n",
            "Отвергаем нулевую гипотезу: между группами есть значимая разница\n",
            "\n",
            "Группы a b Проверяем событие product_cart\n",
            "P-value 0.2215941567364419\n",
            "Не получилось отвергнуть нулевую гипотезу, нет оснований считать группами разными\n",
            "\n",
            "Группы a b Проверяем событие purchase\n",
            "P-value 0.04864766695042433\n",
            "Отвергаем нулевую гипотезу: между группами есть значимая разница\n"
          ]
        }
      ],
      "source": [
        "# Заполняем параметры и вызываем процедуру        \n",
        "g1 = 'a'\n",
        "g2 = 'b'\n",
        "trials = np.array([funnel_ab.loc[0,g1], funnel_ab.loc[0,g2]])\n",
        "for i in funnel_ab.index:\n",
        "    if i>0:\n",
        "        successes = np.array([funnel_ab.loc[i,g1], funnel_ab.loc[i,g2]])\n",
        "        print()\n",
        "        print('Группы',g1,g2,'Проверяем событие',funnel_ab.loc[i, 'event'])\n",
        "        if z_val(successes,trials)  < alpha:\n",
        "            print('Отвергаем нулевую гипотезу: между группами есть значимая разница')\n",
        "        else:\n",
        "            print('Не получилось отвергнуть нулевую гипотезу, нет оснований считать группами разными')       "
      ]
    },
    {
      "cell_type": "markdown",
      "metadata": {
        "id": "mc6q8qCla-yc"
      },
      "source": [
        "# Итог \n",
        "\n",
        "\n",
        "Был проведен аб тест, корректность его проведения вызывает сомнение.  Он проходит во время акции, также некоторые пользователи, учавствующие в тесте, учавствовали в другом тесте. Также количество учавствующих пользователей меньше необходимого 6000 и процент от всей аудитории тоже меньше 15%\n",
        "\n",
        "Акция влияла сразу на всех пользователей и, ей можно пренебречь.\n",
        "\n",
        "Исходя из теста\n",
        "\n",
        "- По событию product_page между группами есть значимая разница\n",
        "- По событию product_cart нет оснований считать группами разными\n",
        "- По событию product_page между группами есть значимая разница\n",
        "\n",
        "Так как конверсия уменьшилась, то внедрение изменения нецелесообразно."
      ]
    }
  ],
  "metadata": {
    "ExecuteTimeLog": [
      {
        "duration": 1493,
        "start_time": "2022-12-14T09:47:40.571Z"
      },
      {
        "duration": 0,
        "start_time": "2022-12-14T09:47:42.067Z"
      },
      {
        "duration": 0,
        "start_time": "2022-12-14T09:47:42.068Z"
      },
      {
        "duration": 0,
        "start_time": "2022-12-14T09:47:42.069Z"
      },
      {
        "duration": 0,
        "start_time": "2022-12-14T09:47:42.071Z"
      },
      {
        "duration": 0,
        "start_time": "2022-12-14T09:47:42.071Z"
      },
      {
        "duration": 0,
        "start_time": "2022-12-14T09:47:42.072Z"
      },
      {
        "duration": 0,
        "start_time": "2022-12-14T09:47:42.073Z"
      },
      {
        "duration": 0,
        "start_time": "2022-12-14T09:47:42.074Z"
      },
      {
        "duration": 0,
        "start_time": "2022-12-14T09:47:42.075Z"
      },
      {
        "duration": 0,
        "start_time": "2022-12-14T09:47:42.076Z"
      },
      {
        "duration": 0,
        "start_time": "2022-12-14T09:47:42.077Z"
      },
      {
        "duration": 0,
        "start_time": "2022-12-14T09:47:42.078Z"
      },
      {
        "duration": 0,
        "start_time": "2022-12-14T09:47:42.079Z"
      },
      {
        "duration": 0,
        "start_time": "2022-12-14T09:47:42.080Z"
      },
      {
        "duration": 0,
        "start_time": "2022-12-14T09:47:42.081Z"
      },
      {
        "duration": 0,
        "start_time": "2022-12-14T09:47:42.082Z"
      },
      {
        "duration": 0,
        "start_time": "2022-12-14T09:47:42.083Z"
      },
      {
        "duration": 0,
        "start_time": "2022-12-14T09:47:42.084Z"
      },
      {
        "duration": 0,
        "start_time": "2022-12-14T09:47:42.112Z"
      },
      {
        "duration": 0,
        "start_time": "2022-12-14T09:47:42.113Z"
      },
      {
        "duration": 0,
        "start_time": "2022-12-14T09:47:42.115Z"
      },
      {
        "duration": 1,
        "start_time": "2022-12-14T09:47:42.115Z"
      },
      {
        "duration": 0,
        "start_time": "2022-12-14T09:47:42.116Z"
      },
      {
        "duration": 0,
        "start_time": "2022-12-14T09:47:42.117Z"
      },
      {
        "duration": 0,
        "start_time": "2022-12-14T09:47:42.118Z"
      },
      {
        "duration": 0,
        "start_time": "2022-12-14T09:47:42.120Z"
      },
      {
        "duration": 0,
        "start_time": "2022-12-14T09:47:42.121Z"
      },
      {
        "duration": 1524,
        "start_time": "2022-12-14T09:48:30.622Z"
      },
      {
        "duration": 520,
        "start_time": "2022-12-14T09:48:32.148Z"
      },
      {
        "duration": 9,
        "start_time": "2022-12-14T09:48:32.670Z"
      },
      {
        "duration": 10,
        "start_time": "2022-12-14T09:48:32.742Z"
      },
      {
        "duration": 11,
        "start_time": "2022-12-14T09:48:33.061Z"
      },
      {
        "duration": 9,
        "start_time": "2022-12-14T09:49:07.533Z"
      },
      {
        "duration": 1292,
        "start_time": "2022-12-14T09:49:08.487Z"
      },
      {
        "duration": 497,
        "start_time": "2022-12-14T09:49:09.782Z"
      },
      {
        "duration": 141,
        "start_time": "2022-12-14T09:49:10.281Z"
      },
      {
        "duration": 132,
        "start_time": "2022-12-14T09:49:10.425Z"
      },
      {
        "duration": 262,
        "start_time": "2022-12-14T09:49:10.559Z"
      },
      {
        "duration": 9,
        "start_time": "2022-12-14T09:49:10.992Z"
      },
      {
        "duration": 8,
        "start_time": "2022-12-14T09:49:11.407Z"
      },
      {
        "duration": 106,
        "start_time": "2022-12-14T09:49:13.262Z"
      },
      {
        "duration": 35,
        "start_time": "2022-12-14T09:49:14.022Z"
      },
      {
        "duration": 10,
        "start_time": "2022-12-14T09:49:14.821Z"
      },
      {
        "duration": 62,
        "start_time": "2022-12-14T09:49:15.659Z"
      },
      {
        "duration": 6,
        "start_time": "2022-12-14T09:49:16.130Z"
      },
      {
        "duration": 35,
        "start_time": "2022-12-14T09:49:16.352Z"
      },
      {
        "duration": 626,
        "start_time": "2022-12-14T09:49:16.791Z"
      },
      {
        "duration": 168,
        "start_time": "2022-12-14T09:49:17.493Z"
      },
      {
        "duration": 161,
        "start_time": "2022-12-14T09:49:17.972Z"
      },
      {
        "duration": 608,
        "start_time": "2022-12-14T09:49:18.476Z"
      },
      {
        "duration": 564,
        "start_time": "2022-12-14T09:49:19.087Z"
      },
      {
        "duration": 663,
        "start_time": "2022-12-14T09:49:19.652Z"
      },
      {
        "duration": 40,
        "start_time": "2022-12-14T09:49:20.317Z"
      },
      {
        "duration": 10,
        "start_time": "2022-12-14T09:49:20.359Z"
      },
      {
        "duration": 38,
        "start_time": "2022-12-14T09:49:20.371Z"
      },
      {
        "duration": 35,
        "start_time": "2022-12-14T09:49:20.937Z"
      },
      {
        "duration": 2,
        "start_time": "2022-12-14T09:49:21.970Z"
      },
      {
        "duration": 5,
        "start_time": "2022-12-14T09:49:22.219Z"
      },
      {
        "duration": 12,
        "start_time": "2022-12-14T09:49:22.746Z"
      },
      {
        "duration": 11,
        "start_time": "2022-12-14T09:49:23.296Z"
      },
      {
        "duration": 5,
        "start_time": "2022-12-14T10:00:07.111Z"
      },
      {
        "duration": 11,
        "start_time": "2022-12-14T10:00:08.080Z"
      },
      {
        "duration": 5,
        "start_time": "2022-12-14T10:00:15.484Z"
      },
      {
        "duration": 13,
        "start_time": "2022-12-14T10:00:16.482Z"
      },
      {
        "duration": 7,
        "start_time": "2022-12-14T10:00:49.520Z"
      },
      {
        "duration": 16,
        "start_time": "2022-12-14T10:00:50.348Z"
      },
      {
        "duration": 12,
        "start_time": "2022-12-14T10:00:54.250Z"
      },
      {
        "duration": 5,
        "start_time": "2022-12-14T10:02:22.851Z"
      },
      {
        "duration": 11,
        "start_time": "2022-12-14T10:02:23.370Z"
      },
      {
        "duration": 11,
        "start_time": "2022-12-14T10:02:24.302Z"
      },
      {
        "duration": 1456,
        "start_time": "2022-12-14T10:18:08.916Z"
      },
      {
        "duration": 6,
        "start_time": "2022-12-14T10:18:10.375Z"
      },
      {
        "duration": 1358,
        "start_time": "2022-12-14T10:18:10.382Z"
      },
      {
        "duration": 482,
        "start_time": "2022-12-14T10:18:11.742Z"
      },
      {
        "duration": 138,
        "start_time": "2022-12-14T10:18:12.226Z"
      },
      {
        "duration": 146,
        "start_time": "2022-12-14T10:18:12.365Z"
      },
      {
        "duration": 259,
        "start_time": "2022-12-14T10:18:12.513Z"
      },
      {
        "duration": 9,
        "start_time": "2022-12-14T10:18:12.773Z"
      },
      {
        "duration": 10,
        "start_time": "2022-12-14T10:18:12.784Z"
      },
      {
        "duration": 114,
        "start_time": "2022-12-14T10:18:12.797Z"
      },
      {
        "duration": 33,
        "start_time": "2022-12-14T10:18:12.921Z"
      },
      {
        "duration": 11,
        "start_time": "2022-12-14T10:18:12.956Z"
      },
      {
        "duration": 82,
        "start_time": "2022-12-14T10:18:12.969Z"
      },
      {
        "duration": 5,
        "start_time": "2022-12-14T10:18:13.052Z"
      },
      {
        "duration": 36,
        "start_time": "2022-12-14T10:18:13.059Z"
      },
      {
        "duration": 429,
        "start_time": "2022-12-14T10:18:13.096Z"
      },
      {
        "duration": 213,
        "start_time": "2022-12-14T10:18:13.527Z"
      },
      {
        "duration": 165,
        "start_time": "2022-12-14T10:18:13.741Z"
      },
      {
        "duration": 672,
        "start_time": "2022-12-14T10:18:13.908Z"
      },
      {
        "duration": 515,
        "start_time": "2022-12-14T10:18:14.581Z"
      },
      {
        "duration": 617,
        "start_time": "2022-12-14T10:18:15.098Z"
      },
      {
        "duration": 38,
        "start_time": "2022-12-14T10:18:15.721Z"
      },
      {
        "duration": 10,
        "start_time": "2022-12-14T10:18:15.760Z"
      },
      {
        "duration": 12,
        "start_time": "2022-12-14T10:18:15.771Z"
      },
      {
        "duration": 62,
        "start_time": "2022-12-14T10:18:15.784Z"
      },
      {
        "duration": 3,
        "start_time": "2022-12-14T10:18:15.848Z"
      },
      {
        "duration": 18,
        "start_time": "2022-12-14T10:18:15.852Z"
      },
      {
        "duration": 35,
        "start_time": "2022-12-14T10:18:15.874Z"
      },
      {
        "duration": 12,
        "start_time": "2022-12-14T10:18:15.911Z"
      },
      {
        "duration": 28,
        "start_time": "2022-12-14T10:24:19.633Z"
      },
      {
        "duration": 1204,
        "start_time": "2022-12-14T10:24:57.160Z"
      },
      {
        "duration": 1333,
        "start_time": "2022-12-14T10:25:49.306Z"
      },
      {
        "duration": 1305,
        "start_time": "2022-12-14T10:26:09.169Z"
      },
      {
        "duration": 638,
        "start_time": "2022-12-14T10:26:31.130Z"
      },
      {
        "duration": 1278,
        "start_time": "2022-12-14T10:26:40.113Z"
      },
      {
        "duration": 22,
        "start_time": "2022-12-14T10:30:12.107Z"
      },
      {
        "duration": 9,
        "start_time": "2022-12-14T10:32:59.085Z"
      },
      {
        "duration": 20,
        "start_time": "2022-12-14T10:34:25.351Z"
      },
      {
        "duration": 8,
        "start_time": "2022-12-14T10:34:31.918Z"
      },
      {
        "duration": 14,
        "start_time": "2022-12-14T10:34:53.976Z"
      },
      {
        "duration": 7,
        "start_time": "2022-12-14T10:34:55.798Z"
      },
      {
        "duration": 1264,
        "start_time": "2022-12-14T10:35:29.130Z"
      },
      {
        "duration": 4,
        "start_time": "2022-12-14T10:35:30.396Z"
      },
      {
        "duration": 1442,
        "start_time": "2022-12-14T10:35:30.402Z"
      },
      {
        "duration": 507,
        "start_time": "2022-12-14T10:35:31.845Z"
      },
      {
        "duration": 147,
        "start_time": "2022-12-14T10:35:32.353Z"
      },
      {
        "duration": 142,
        "start_time": "2022-12-14T10:35:32.502Z"
      },
      {
        "duration": 297,
        "start_time": "2022-12-14T10:35:32.645Z"
      },
      {
        "duration": 7,
        "start_time": "2022-12-14T10:35:32.943Z"
      },
      {
        "duration": 9,
        "start_time": "2022-12-14T10:35:32.952Z"
      },
      {
        "duration": 117,
        "start_time": "2022-12-14T10:35:32.963Z"
      },
      {
        "duration": 46,
        "start_time": "2022-12-14T10:35:33.081Z"
      },
      {
        "duration": 12,
        "start_time": "2022-12-14T10:35:33.129Z"
      },
      {
        "duration": 60,
        "start_time": "2022-12-14T10:35:33.142Z"
      },
      {
        "duration": 6,
        "start_time": "2022-12-14T10:35:33.221Z"
      },
      {
        "duration": 37,
        "start_time": "2022-12-14T10:35:33.228Z"
      },
      {
        "duration": 422,
        "start_time": "2022-12-14T10:35:33.266Z"
      },
      {
        "duration": 198,
        "start_time": "2022-12-14T10:35:33.689Z"
      },
      {
        "duration": 172,
        "start_time": "2022-12-14T10:35:33.889Z"
      },
      {
        "duration": 1416,
        "start_time": "2022-12-14T10:35:34.063Z"
      },
      {
        "duration": 183,
        "start_time": "2022-12-14T10:35:35.481Z"
      },
      {
        "duration": 0,
        "start_time": "2022-12-14T10:35:35.666Z"
      },
      {
        "duration": 0,
        "start_time": "2022-12-14T10:35:35.668Z"
      },
      {
        "duration": 0,
        "start_time": "2022-12-14T10:35:35.669Z"
      },
      {
        "duration": 0,
        "start_time": "2022-12-14T10:35:35.670Z"
      },
      {
        "duration": 0,
        "start_time": "2022-12-14T10:35:35.671Z"
      },
      {
        "duration": 0,
        "start_time": "2022-12-14T10:35:35.672Z"
      },
      {
        "duration": 0,
        "start_time": "2022-12-14T10:35:35.674Z"
      },
      {
        "duration": 0,
        "start_time": "2022-12-14T10:35:35.675Z"
      },
      {
        "duration": 1268,
        "start_time": "2022-12-14T10:35:58.123Z"
      },
      {
        "duration": 5,
        "start_time": "2022-12-14T10:35:59.392Z"
      },
      {
        "duration": 1124,
        "start_time": "2022-12-14T10:35:59.398Z"
      },
      {
        "duration": 549,
        "start_time": "2022-12-14T10:36:00.525Z"
      },
      {
        "duration": 150,
        "start_time": "2022-12-14T10:36:01.076Z"
      },
      {
        "duration": 141,
        "start_time": "2022-12-14T10:36:01.228Z"
      },
      {
        "duration": 290,
        "start_time": "2022-12-14T10:36:01.371Z"
      },
      {
        "duration": 10,
        "start_time": "2022-12-14T10:36:01.664Z"
      },
      {
        "duration": 12,
        "start_time": "2022-12-14T10:36:01.675Z"
      },
      {
        "duration": 113,
        "start_time": "2022-12-14T10:36:01.690Z"
      },
      {
        "duration": 51,
        "start_time": "2022-12-14T10:36:01.804Z"
      },
      {
        "duration": 13,
        "start_time": "2022-12-14T10:36:01.856Z"
      },
      {
        "duration": 77,
        "start_time": "2022-12-14T10:36:01.870Z"
      },
      {
        "duration": 7,
        "start_time": "2022-12-14T10:36:01.948Z"
      },
      {
        "duration": 38,
        "start_time": "2022-12-14T10:36:01.957Z"
      },
      {
        "duration": 457,
        "start_time": "2022-12-14T10:36:01.996Z"
      },
      {
        "duration": 224,
        "start_time": "2022-12-14T10:36:02.455Z"
      },
      {
        "duration": 186,
        "start_time": "2022-12-14T10:36:02.683Z"
      },
      {
        "duration": 1446,
        "start_time": "2022-12-14T10:36:02.871Z"
      },
      {
        "duration": 46,
        "start_time": "2022-12-14T10:36:04.319Z"
      },
      {
        "duration": 15,
        "start_time": "2022-12-14T10:36:04.367Z"
      },
      {
        "duration": 39,
        "start_time": "2022-12-14T10:36:04.383Z"
      },
      {
        "duration": 40,
        "start_time": "2022-12-14T10:36:04.423Z"
      },
      {
        "duration": 12,
        "start_time": "2022-12-14T10:36:04.464Z"
      },
      {
        "duration": 24,
        "start_time": "2022-12-14T10:36:04.478Z"
      },
      {
        "duration": 41,
        "start_time": "2022-12-14T10:36:04.504Z"
      },
      {
        "duration": 35,
        "start_time": "2022-12-14T10:36:04.547Z"
      },
      {
        "duration": 14,
        "start_time": "2022-12-14T10:37:10.095Z"
      },
      {
        "duration": 8,
        "start_time": "2022-12-14T10:37:13.993Z"
      },
      {
        "duration": 7,
        "start_time": "2022-12-14T10:38:18.425Z"
      },
      {
        "duration": 6,
        "start_time": "2022-12-14T10:38:21.138Z"
      },
      {
        "duration": 13,
        "start_time": "2022-12-14T10:38:42.280Z"
      },
      {
        "duration": 5,
        "start_time": "2022-12-14T10:38:45.026Z"
      },
      {
        "duration": 46,
        "start_time": "2022-12-14T10:39:01.965Z"
      },
      {
        "duration": 7,
        "start_time": "2022-12-14T10:39:12.473Z"
      },
      {
        "duration": 42,
        "start_time": "2022-12-14T10:39:38.710Z"
      },
      {
        "duration": 45,
        "start_time": "2022-12-14T10:40:17.903Z"
      },
      {
        "duration": 33,
        "start_time": "2022-12-14T10:40:47.396Z"
      },
      {
        "duration": 7,
        "start_time": "2022-12-14T10:40:55.258Z"
      },
      {
        "duration": 8,
        "start_time": "2022-12-14T10:41:16.220Z"
      },
      {
        "duration": 6,
        "start_time": "2022-12-14T10:41:19.363Z"
      },
      {
        "duration": 45,
        "start_time": "2022-12-14T10:41:51.653Z"
      },
      {
        "duration": 8,
        "start_time": "2022-12-14T10:41:54.196Z"
      },
      {
        "duration": 15,
        "start_time": "2022-12-14T10:43:14.500Z"
      },
      {
        "duration": 6,
        "start_time": "2022-12-14T10:43:18.173Z"
      },
      {
        "duration": 18,
        "start_time": "2022-12-14T10:43:27.723Z"
      },
      {
        "duration": 6,
        "start_time": "2022-12-14T10:43:30.708Z"
      },
      {
        "duration": 7,
        "start_time": "2022-12-14T10:43:37.893Z"
      },
      {
        "duration": 191,
        "start_time": "2022-12-14T10:44:33.831Z"
      },
      {
        "duration": 35,
        "start_time": "2022-12-14T10:44:42.776Z"
      },
      {
        "duration": 6,
        "start_time": "2022-12-14T10:44:46.870Z"
      },
      {
        "duration": 11,
        "start_time": "2022-12-14T10:44:52.925Z"
      },
      {
        "duration": 47,
        "start_time": "2022-12-14T10:45:01.240Z"
      },
      {
        "duration": 12,
        "start_time": "2022-12-14T10:45:04.335Z"
      },
      {
        "duration": 10,
        "start_time": "2022-12-14T10:45:06.573Z"
      },
      {
        "duration": 42,
        "start_time": "2022-12-14T10:45:12.494Z"
      },
      {
        "duration": 1269,
        "start_time": "2022-12-14T10:45:45.915Z"
      },
      {
        "duration": 4,
        "start_time": "2022-12-14T10:45:47.186Z"
      },
      {
        "duration": 1283,
        "start_time": "2022-12-14T10:45:47.191Z"
      },
      {
        "duration": 496,
        "start_time": "2022-12-14T10:45:48.476Z"
      },
      {
        "duration": 158,
        "start_time": "2022-12-14T10:45:48.974Z"
      },
      {
        "duration": 159,
        "start_time": "2022-12-14T10:45:49.134Z"
      },
      {
        "duration": 258,
        "start_time": "2022-12-14T10:45:49.295Z"
      },
      {
        "duration": 7,
        "start_time": "2022-12-14T10:45:49.555Z"
      },
      {
        "duration": 16,
        "start_time": "2022-12-14T10:45:49.564Z"
      },
      {
        "duration": 113,
        "start_time": "2022-12-14T10:45:49.583Z"
      },
      {
        "duration": 44,
        "start_time": "2022-12-14T10:45:49.697Z"
      },
      {
        "duration": 11,
        "start_time": "2022-12-14T10:45:49.742Z"
      },
      {
        "duration": 78,
        "start_time": "2022-12-14T10:45:49.754Z"
      },
      {
        "duration": 6,
        "start_time": "2022-12-14T10:45:49.834Z"
      },
      {
        "duration": 44,
        "start_time": "2022-12-14T10:45:49.841Z"
      },
      {
        "duration": 428,
        "start_time": "2022-12-14T10:45:49.888Z"
      },
      {
        "duration": 225,
        "start_time": "2022-12-14T10:45:50.318Z"
      },
      {
        "duration": 162,
        "start_time": "2022-12-14T10:45:50.545Z"
      },
      {
        "duration": 1365,
        "start_time": "2022-12-14T10:45:50.709Z"
      },
      {
        "duration": 53,
        "start_time": "2022-12-14T10:45:52.076Z"
      },
      {
        "duration": 10,
        "start_time": "2022-12-14T10:45:52.131Z"
      },
      {
        "duration": 11,
        "start_time": "2022-12-14T10:45:52.142Z"
      },
      {
        "duration": 34,
        "start_time": "2022-12-14T10:45:52.154Z"
      },
      {
        "duration": 32,
        "start_time": "2022-12-14T10:45:52.190Z"
      },
      {
        "duration": 11,
        "start_time": "2022-12-14T10:45:52.224Z"
      },
      {
        "duration": 14,
        "start_time": "2022-12-14T10:45:52.237Z"
      },
      {
        "duration": 11,
        "start_time": "2022-12-14T10:45:52.252Z"
      },
      {
        "duration": 9,
        "start_time": "2022-12-14T10:48:19.480Z"
      },
      {
        "duration": 225,
        "start_time": "2022-12-14T10:49:55.843Z"
      },
      {
        "duration": 210,
        "start_time": "2022-12-14T10:50:32.579Z"
      },
      {
        "duration": 83,
        "start_time": "2022-12-14T10:51:41.730Z"
      },
      {
        "duration": 1297,
        "start_time": "2022-12-14T10:52:15.400Z"
      },
      {
        "duration": 4,
        "start_time": "2022-12-14T10:52:16.699Z"
      },
      {
        "duration": 1681,
        "start_time": "2022-12-14T10:52:16.704Z"
      },
      {
        "duration": 539,
        "start_time": "2022-12-14T10:52:18.387Z"
      },
      {
        "duration": 164,
        "start_time": "2022-12-14T10:52:18.928Z"
      },
      {
        "duration": 179,
        "start_time": "2022-12-14T10:52:19.094Z"
      },
      {
        "duration": 284,
        "start_time": "2022-12-14T10:52:19.275Z"
      },
      {
        "duration": 9,
        "start_time": "2022-12-14T10:52:19.561Z"
      },
      {
        "duration": 14,
        "start_time": "2022-12-14T10:52:19.571Z"
      },
      {
        "duration": 120,
        "start_time": "2022-12-14T10:52:19.588Z"
      },
      {
        "duration": 44,
        "start_time": "2022-12-14T10:52:19.709Z"
      },
      {
        "duration": 11,
        "start_time": "2022-12-14T10:52:19.755Z"
      },
      {
        "duration": 97,
        "start_time": "2022-12-14T10:52:19.767Z"
      },
      {
        "duration": 8,
        "start_time": "2022-12-14T10:52:19.869Z"
      },
      {
        "duration": 46,
        "start_time": "2022-12-14T10:52:19.879Z"
      },
      {
        "duration": 426,
        "start_time": "2022-12-14T10:52:19.926Z"
      },
      {
        "duration": 210,
        "start_time": "2022-12-14T10:52:20.353Z"
      },
      {
        "duration": 35,
        "start_time": "2022-12-14T10:52:20.565Z"
      },
      {
        "duration": 86,
        "start_time": "2022-12-14T10:52:20.601Z"
      },
      {
        "duration": 79,
        "start_time": "2022-12-14T10:52:20.688Z"
      },
      {
        "duration": 72,
        "start_time": "2022-12-14T10:52:20.769Z"
      },
      {
        "duration": 199,
        "start_time": "2022-12-14T10:52:20.842Z"
      },
      {
        "duration": 1408,
        "start_time": "2022-12-14T10:52:21.043Z"
      },
      {
        "duration": 48,
        "start_time": "2022-12-14T10:52:22.453Z"
      },
      {
        "duration": 25,
        "start_time": "2022-12-14T10:52:22.503Z"
      },
      {
        "duration": 13,
        "start_time": "2022-12-14T10:52:22.530Z"
      },
      {
        "duration": 48,
        "start_time": "2022-12-14T10:52:22.544Z"
      },
      {
        "duration": 9,
        "start_time": "2022-12-14T10:52:22.595Z"
      },
      {
        "duration": 35,
        "start_time": "2022-12-14T10:52:22.605Z"
      },
      {
        "duration": 40,
        "start_time": "2022-12-14T10:52:22.642Z"
      },
      {
        "duration": 1261,
        "start_time": "2022-12-14T10:53:41.922Z"
      },
      {
        "duration": 6,
        "start_time": "2022-12-14T10:53:43.185Z"
      },
      {
        "duration": 1200,
        "start_time": "2022-12-14T10:53:43.192Z"
      },
      {
        "duration": 516,
        "start_time": "2022-12-14T10:53:44.394Z"
      },
      {
        "duration": 148,
        "start_time": "2022-12-14T10:53:44.912Z"
      },
      {
        "duration": 140,
        "start_time": "2022-12-14T10:53:45.062Z"
      },
      {
        "duration": 274,
        "start_time": "2022-12-14T10:53:45.204Z"
      },
      {
        "duration": 7,
        "start_time": "2022-12-14T10:53:45.480Z"
      },
      {
        "duration": 11,
        "start_time": "2022-12-14T10:53:45.489Z"
      },
      {
        "duration": 128,
        "start_time": "2022-12-14T10:53:45.502Z"
      },
      {
        "duration": 51,
        "start_time": "2022-12-14T10:53:45.632Z"
      },
      {
        "duration": 12,
        "start_time": "2022-12-14T10:53:45.685Z"
      },
      {
        "duration": 79,
        "start_time": "2022-12-14T10:53:45.699Z"
      },
      {
        "duration": 5,
        "start_time": "2022-12-14T10:53:45.780Z"
      },
      {
        "duration": 50,
        "start_time": "2022-12-14T10:53:45.786Z"
      },
      {
        "duration": 458,
        "start_time": "2022-12-14T10:53:45.838Z"
      },
      {
        "duration": 224,
        "start_time": "2022-12-14T10:53:46.298Z"
      },
      {
        "duration": 41,
        "start_time": "2022-12-14T10:53:46.524Z"
      },
      {
        "duration": 102,
        "start_time": "2022-12-14T10:53:46.567Z"
      },
      {
        "duration": 89,
        "start_time": "2022-12-14T10:53:46.671Z"
      },
      {
        "duration": 74,
        "start_time": "2022-12-14T10:53:46.762Z"
      },
      {
        "duration": 202,
        "start_time": "2022-12-14T10:53:46.838Z"
      },
      {
        "duration": 1331,
        "start_time": "2022-12-14T10:53:47.041Z"
      },
      {
        "duration": 53,
        "start_time": "2022-12-14T10:53:48.374Z"
      },
      {
        "duration": 10,
        "start_time": "2022-12-14T10:53:48.429Z"
      },
      {
        "duration": 13,
        "start_time": "2022-12-14T10:53:48.440Z"
      },
      {
        "duration": 34,
        "start_time": "2022-12-14T10:53:48.455Z"
      },
      {
        "duration": 3,
        "start_time": "2022-12-14T10:53:48.492Z"
      },
      {
        "duration": 4,
        "start_time": "2022-12-14T10:53:48.523Z"
      },
      {
        "duration": 13,
        "start_time": "2022-12-14T10:53:48.530Z"
      },
      {
        "duration": 1327,
        "start_time": "2022-12-14T11:05:52.324Z"
      },
      {
        "duration": 4,
        "start_time": "2022-12-14T11:05:53.653Z"
      },
      {
        "duration": 1187,
        "start_time": "2022-12-14T11:05:53.660Z"
      },
      {
        "duration": 530,
        "start_time": "2022-12-14T11:05:54.849Z"
      },
      {
        "duration": 148,
        "start_time": "2022-12-14T11:05:55.381Z"
      },
      {
        "duration": 143,
        "start_time": "2022-12-14T11:05:55.531Z"
      },
      {
        "duration": 293,
        "start_time": "2022-12-14T11:05:55.676Z"
      },
      {
        "duration": 8,
        "start_time": "2022-12-14T11:05:55.971Z"
      },
      {
        "duration": 10,
        "start_time": "2022-12-14T11:05:55.981Z"
      },
      {
        "duration": 128,
        "start_time": "2022-12-14T11:05:55.994Z"
      },
      {
        "duration": 35,
        "start_time": "2022-12-14T11:05:56.123Z"
      },
      {
        "duration": 10,
        "start_time": "2022-12-14T11:05:56.160Z"
      },
      {
        "duration": 80,
        "start_time": "2022-12-14T11:05:56.172Z"
      },
      {
        "duration": 6,
        "start_time": "2022-12-14T11:05:56.254Z"
      },
      {
        "duration": 38,
        "start_time": "2022-12-14T11:05:56.262Z"
      },
      {
        "duration": 451,
        "start_time": "2022-12-14T11:05:56.302Z"
      },
      {
        "duration": 209,
        "start_time": "2022-12-14T11:05:56.754Z"
      },
      {
        "duration": 35,
        "start_time": "2022-12-14T11:05:56.965Z"
      },
      {
        "duration": 92,
        "start_time": "2022-12-14T11:05:57.002Z"
      },
      {
        "duration": 76,
        "start_time": "2022-12-14T11:05:57.096Z"
      },
      {
        "duration": 68,
        "start_time": "2022-12-14T11:05:57.174Z"
      },
      {
        "duration": 1375,
        "start_time": "2022-12-14T11:05:57.244Z"
      },
      {
        "duration": 48,
        "start_time": "2022-12-14T11:05:58.622Z"
      },
      {
        "duration": 10,
        "start_time": "2022-12-14T11:05:58.671Z"
      },
      {
        "duration": 16,
        "start_time": "2022-12-14T11:05:58.683Z"
      },
      {
        "duration": 53,
        "start_time": "2022-12-14T11:05:58.700Z"
      },
      {
        "duration": 3,
        "start_time": "2022-12-14T11:05:58.754Z"
      },
      {
        "duration": 4,
        "start_time": "2022-12-14T11:05:58.760Z"
      },
      {
        "duration": 12,
        "start_time": "2022-12-14T11:05:58.766Z"
      },
      {
        "duration": 1233,
        "start_time": "2022-12-14T12:54:59.377Z"
      },
      {
        "duration": 5,
        "start_time": "2022-12-14T12:55:00.612Z"
      },
      {
        "duration": 1541,
        "start_time": "2022-12-14T12:55:00.621Z"
      },
      {
        "duration": 549,
        "start_time": "2022-12-14T12:55:02.164Z"
      },
      {
        "duration": 154,
        "start_time": "2022-12-14T12:55:02.715Z"
      },
      {
        "duration": 155,
        "start_time": "2022-12-14T12:55:02.871Z"
      },
      {
        "duration": 284,
        "start_time": "2022-12-14T12:55:03.028Z"
      },
      {
        "duration": 115,
        "start_time": "2022-12-14T12:55:03.313Z"
      },
      {
        "duration": 37,
        "start_time": "2022-12-14T12:55:03.429Z"
      },
      {
        "duration": 20,
        "start_time": "2022-12-14T12:55:03.469Z"
      },
      {
        "duration": 89,
        "start_time": "2022-12-14T12:55:03.490Z"
      },
      {
        "duration": 7,
        "start_time": "2022-12-14T12:55:03.582Z"
      },
      {
        "duration": 96,
        "start_time": "2022-12-14T12:55:03.590Z"
      },
      {
        "duration": 493,
        "start_time": "2022-12-14T12:55:03.688Z"
      },
      {
        "duration": 266,
        "start_time": "2022-12-14T12:55:04.183Z"
      },
      {
        "duration": 37,
        "start_time": "2022-12-14T12:55:04.451Z"
      },
      {
        "duration": 97,
        "start_time": "2022-12-14T12:55:04.490Z"
      },
      {
        "duration": 86,
        "start_time": "2022-12-14T12:55:04.589Z"
      },
      {
        "duration": 54,
        "start_time": "2022-12-14T12:55:04.677Z"
      },
      {
        "duration": 1431,
        "start_time": "2022-12-14T12:55:04.733Z"
      },
      {
        "duration": 58,
        "start_time": "2022-12-14T12:55:06.166Z"
      },
      {
        "duration": 9,
        "start_time": "2022-12-14T12:55:06.226Z"
      },
      {
        "duration": 27,
        "start_time": "2022-12-14T12:55:06.237Z"
      },
      {
        "duration": 47,
        "start_time": "2022-12-14T12:55:06.266Z"
      },
      {
        "duration": 15,
        "start_time": "2022-12-14T12:55:06.316Z"
      },
      {
        "duration": 15,
        "start_time": "2022-12-14T12:55:06.333Z"
      },
      {
        "duration": 35,
        "start_time": "2022-12-14T12:55:06.350Z"
      },
      {
        "duration": 1260,
        "start_time": "2022-12-14T12:55:58.130Z"
      },
      {
        "duration": 8,
        "start_time": "2022-12-14T12:55:59.391Z"
      },
      {
        "duration": 1325,
        "start_time": "2022-12-14T12:55:59.400Z"
      },
      {
        "duration": 556,
        "start_time": "2022-12-14T12:56:00.727Z"
      },
      {
        "duration": 153,
        "start_time": "2022-12-14T12:56:01.285Z"
      },
      {
        "duration": 153,
        "start_time": "2022-12-14T12:56:01.439Z"
      },
      {
        "duration": 293,
        "start_time": "2022-12-14T12:56:01.594Z"
      },
      {
        "duration": 105,
        "start_time": "2022-12-14T12:56:01.889Z"
      },
      {
        "duration": 49,
        "start_time": "2022-12-14T12:56:01.996Z"
      },
      {
        "duration": 11,
        "start_time": "2022-12-14T12:56:02.047Z"
      },
      {
        "duration": 81,
        "start_time": "2022-12-14T12:56:02.060Z"
      },
      {
        "duration": 6,
        "start_time": "2022-12-14T12:56:02.143Z"
      },
      {
        "duration": 43,
        "start_time": "2022-12-14T12:56:02.151Z"
      },
      {
        "duration": 441,
        "start_time": "2022-12-14T12:56:02.196Z"
      },
      {
        "duration": 234,
        "start_time": "2022-12-14T12:56:02.639Z"
      },
      {
        "duration": 46,
        "start_time": "2022-12-14T12:56:02.876Z"
      },
      {
        "duration": 98,
        "start_time": "2022-12-14T12:56:02.924Z"
      },
      {
        "duration": 63,
        "start_time": "2022-12-14T12:56:03.024Z"
      },
      {
        "duration": 75,
        "start_time": "2022-12-14T12:56:03.089Z"
      },
      {
        "duration": 1460,
        "start_time": "2022-12-14T12:56:03.165Z"
      },
      {
        "duration": 100,
        "start_time": "2022-12-14T12:56:04.627Z"
      },
      {
        "duration": 10,
        "start_time": "2022-12-14T12:56:04.728Z"
      },
      {
        "duration": 10,
        "start_time": "2022-12-14T12:56:04.740Z"
      },
      {
        "duration": 90,
        "start_time": "2022-12-14T12:56:04.751Z"
      },
      {
        "duration": 3,
        "start_time": "2022-12-14T12:56:04.843Z"
      },
      {
        "duration": 6,
        "start_time": "2022-12-14T12:56:04.848Z"
      },
      {
        "duration": 67,
        "start_time": "2022-12-14T12:56:04.856Z"
      },
      {
        "duration": 13,
        "start_time": "2022-12-14T13:00:11.300Z"
      },
      {
        "duration": 20,
        "start_time": "2022-12-14T13:01:03.575Z"
      },
      {
        "duration": 5,
        "start_time": "2022-12-14T13:01:34.550Z"
      },
      {
        "duration": 4,
        "start_time": "2022-12-14T13:01:51.920Z"
      },
      {
        "duration": 4,
        "start_time": "2022-12-14T13:02:25.357Z"
      },
      {
        "duration": 7,
        "start_time": "2022-12-14T13:02:25.363Z"
      },
      {
        "duration": 1140,
        "start_time": "2022-12-14T13:02:25.371Z"
      },
      {
        "duration": 489,
        "start_time": "2022-12-14T13:02:26.513Z"
      },
      {
        "duration": 132,
        "start_time": "2022-12-14T13:02:27.005Z"
      },
      {
        "duration": 137,
        "start_time": "2022-12-14T13:02:27.139Z"
      },
      {
        "duration": 268,
        "start_time": "2022-12-14T13:02:27.277Z"
      },
      {
        "duration": 112,
        "start_time": "2022-12-14T13:02:27.546Z"
      },
      {
        "duration": 5,
        "start_time": "2022-12-14T13:02:31.704Z"
      },
      {
        "duration": 4,
        "start_time": "2022-12-14T13:02:57.527Z"
      },
      {
        "duration": 10,
        "start_time": "2022-12-14T13:04:04.007Z"
      },
      {
        "duration": 6,
        "start_time": "2022-12-14T13:04:45.809Z"
      },
      {
        "duration": 10,
        "start_time": "2022-12-14T13:04:59.175Z"
      },
      {
        "duration": 33,
        "start_time": "2022-12-14T13:10:12.150Z"
      },
      {
        "duration": 65,
        "start_time": "2022-12-14T13:10:25.183Z"
      },
      {
        "duration": 33,
        "start_time": "2022-12-14T13:10:30.775Z"
      },
      {
        "duration": 1304,
        "start_time": "2022-12-14T13:14:47.012Z"
      },
      {
        "duration": 4,
        "start_time": "2022-12-14T13:14:48.318Z"
      },
      {
        "duration": 1343,
        "start_time": "2022-12-14T13:14:48.324Z"
      },
      {
        "duration": 544,
        "start_time": "2022-12-14T13:14:49.670Z"
      },
      {
        "duration": 150,
        "start_time": "2022-12-14T13:14:50.216Z"
      },
      {
        "duration": 140,
        "start_time": "2022-12-14T13:14:50.367Z"
      },
      {
        "duration": 266,
        "start_time": "2022-12-14T13:14:50.509Z"
      },
      {
        "duration": 107,
        "start_time": "2022-12-14T13:14:50.776Z"
      },
      {
        "duration": 5,
        "start_time": "2022-12-14T13:14:50.884Z"
      },
      {
        "duration": 9,
        "start_time": "2022-12-14T13:14:50.891Z"
      },
      {
        "duration": 25,
        "start_time": "2022-12-14T13:14:50.901Z"
      },
      {
        "duration": 37,
        "start_time": "2022-12-14T13:14:50.928Z"
      },
      {
        "duration": 11,
        "start_time": "2022-12-14T13:14:50.966Z"
      },
      {
        "duration": 88,
        "start_time": "2022-12-14T13:14:50.978Z"
      },
      {
        "duration": 70,
        "start_time": "2022-12-14T13:14:51.067Z"
      },
      {
        "duration": 434,
        "start_time": "2022-12-14T13:14:51.139Z"
      },
      {
        "duration": 6,
        "start_time": "2022-12-14T13:14:51.574Z"
      },
      {
        "duration": 221,
        "start_time": "2022-12-14T13:14:51.582Z"
      },
      {
        "duration": 41,
        "start_time": "2022-12-14T13:14:51.805Z"
      },
      {
        "duration": 93,
        "start_time": "2022-12-14T13:14:51.849Z"
      },
      {
        "duration": 86,
        "start_time": "2022-12-14T13:14:51.944Z"
      },
      {
        "duration": 54,
        "start_time": "2022-12-14T13:14:52.031Z"
      },
      {
        "duration": 1343,
        "start_time": "2022-12-14T13:14:52.087Z"
      },
      {
        "duration": 46,
        "start_time": "2022-12-14T13:14:53.431Z"
      },
      {
        "duration": 13,
        "start_time": "2022-12-14T13:14:53.479Z"
      },
      {
        "duration": 34,
        "start_time": "2022-12-14T13:14:53.493Z"
      },
      {
        "duration": 33,
        "start_time": "2022-12-14T13:14:53.528Z"
      },
      {
        "duration": 3,
        "start_time": "2022-12-14T13:14:53.565Z"
      },
      {
        "duration": 7,
        "start_time": "2022-12-14T13:14:53.570Z"
      },
      {
        "duration": 15,
        "start_time": "2022-12-14T13:14:53.579Z"
      },
      {
        "duration": 1311,
        "start_time": "2022-12-14T13:18:18.134Z"
      },
      {
        "duration": 5,
        "start_time": "2022-12-14T13:18:19.447Z"
      },
      {
        "duration": 1369,
        "start_time": "2022-12-14T13:18:19.453Z"
      },
      {
        "duration": 548,
        "start_time": "2022-12-14T13:18:20.824Z"
      },
      {
        "duration": 150,
        "start_time": "2022-12-14T13:18:21.374Z"
      },
      {
        "duration": 148,
        "start_time": "2022-12-14T13:18:21.525Z"
      },
      {
        "duration": 281,
        "start_time": "2022-12-14T13:18:21.676Z"
      },
      {
        "duration": 109,
        "start_time": "2022-12-14T13:18:21.959Z"
      },
      {
        "duration": 182,
        "start_time": "2022-12-14T13:18:22.071Z"
      },
      {
        "duration": 22,
        "start_time": "2022-12-14T13:18:22.256Z"
      },
      {
        "duration": 4,
        "start_time": "2022-12-14T13:18:22.280Z"
      },
      {
        "duration": 7,
        "start_time": "2022-12-14T13:18:22.285Z"
      },
      {
        "duration": 31,
        "start_time": "2022-12-14T13:18:22.294Z"
      },
      {
        "duration": 37,
        "start_time": "2022-12-14T13:18:22.327Z"
      },
      {
        "duration": 11,
        "start_time": "2022-12-14T13:18:22.366Z"
      },
      {
        "duration": 86,
        "start_time": "2022-12-14T13:18:22.379Z"
      },
      {
        "duration": 67,
        "start_time": "2022-12-14T13:18:22.466Z"
      },
      {
        "duration": 440,
        "start_time": "2022-12-14T13:18:22.535Z"
      },
      {
        "duration": 7,
        "start_time": "2022-12-14T13:18:22.977Z"
      },
      {
        "duration": 143,
        "start_time": "2022-12-14T13:18:22.985Z"
      },
      {
        "duration": 161,
        "start_time": "2022-12-14T13:18:23.130Z"
      },
      {
        "duration": 111,
        "start_time": "2022-12-14T13:18:23.293Z"
      },
      {
        "duration": 122,
        "start_time": "2022-12-14T13:18:23.406Z"
      },
      {
        "duration": 1569,
        "start_time": "2022-12-14T13:18:23.530Z"
      },
      {
        "duration": 100,
        "start_time": "2022-12-14T13:18:25.101Z"
      },
      {
        "duration": 19,
        "start_time": "2022-12-14T13:18:25.203Z"
      },
      {
        "duration": 27,
        "start_time": "2022-12-14T13:18:25.224Z"
      },
      {
        "duration": 48,
        "start_time": "2022-12-14T13:18:25.254Z"
      },
      {
        "duration": 4,
        "start_time": "2022-12-14T13:18:25.304Z"
      },
      {
        "duration": 23,
        "start_time": "2022-12-14T13:18:25.310Z"
      },
      {
        "duration": 54,
        "start_time": "2022-12-14T13:18:25.335Z"
      },
      {
        "duration": 8,
        "start_time": "2022-12-14T13:18:46.840Z"
      },
      {
        "duration": 1263,
        "start_time": "2022-12-14T13:20:11.480Z"
      },
      {
        "duration": 4,
        "start_time": "2022-12-14T13:20:12.745Z"
      },
      {
        "duration": 1211,
        "start_time": "2022-12-14T13:20:12.751Z"
      },
      {
        "duration": 578,
        "start_time": "2022-12-14T13:20:13.964Z"
      },
      {
        "duration": 147,
        "start_time": "2022-12-14T13:20:14.543Z"
      },
      {
        "duration": 142,
        "start_time": "2022-12-14T13:20:14.692Z"
      },
      {
        "duration": 271,
        "start_time": "2022-12-14T13:20:14.836Z"
      },
      {
        "duration": 118,
        "start_time": "2022-12-14T13:20:15.109Z"
      },
      {
        "duration": 176,
        "start_time": "2022-12-14T13:20:15.228Z"
      },
      {
        "duration": 28,
        "start_time": "2022-12-14T13:20:15.408Z"
      },
      {
        "duration": 9,
        "start_time": "2022-12-14T13:20:15.438Z"
      },
      {
        "duration": 11,
        "start_time": "2022-12-14T13:20:15.449Z"
      },
      {
        "duration": 14,
        "start_time": "2022-12-14T13:20:15.462Z"
      },
      {
        "duration": 65,
        "start_time": "2022-12-14T13:20:15.477Z"
      },
      {
        "duration": 9,
        "start_time": "2022-12-14T13:20:15.544Z"
      },
      {
        "duration": 104,
        "start_time": "2022-12-14T13:20:15.555Z"
      },
      {
        "duration": 71,
        "start_time": "2022-12-14T13:20:15.661Z"
      },
      {
        "duration": 445,
        "start_time": "2022-12-14T13:20:15.734Z"
      },
      {
        "duration": 6,
        "start_time": "2022-12-14T13:20:16.181Z"
      },
      {
        "duration": 90,
        "start_time": "2022-12-14T13:20:16.188Z"
      },
      {
        "duration": 141,
        "start_time": "2022-12-14T13:20:16.321Z"
      },
      {
        "duration": 115,
        "start_time": "2022-12-14T13:20:16.463Z"
      },
      {
        "duration": 97,
        "start_time": "2022-12-14T13:20:16.580Z"
      },
      {
        "duration": 1361,
        "start_time": "2022-12-14T13:20:16.678Z"
      },
      {
        "duration": 88,
        "start_time": "2022-12-14T13:20:18.041Z"
      },
      {
        "duration": 11,
        "start_time": "2022-12-14T13:20:18.131Z"
      },
      {
        "duration": 14,
        "start_time": "2022-12-14T13:20:18.144Z"
      },
      {
        "duration": 63,
        "start_time": "2022-12-14T13:20:18.160Z"
      },
      {
        "duration": 3,
        "start_time": "2022-12-14T13:20:18.225Z"
      },
      {
        "duration": 7,
        "start_time": "2022-12-14T13:20:18.229Z"
      },
      {
        "duration": 14,
        "start_time": "2022-12-14T13:20:18.238Z"
      },
      {
        "duration": 35,
        "start_time": "2022-12-14T13:21:26.372Z"
      },
      {
        "duration": 34,
        "start_time": "2022-12-14T13:21:28.107Z"
      },
      {
        "duration": 1314,
        "start_time": "2022-12-14T13:21:38.817Z"
      },
      {
        "duration": 4,
        "start_time": "2022-12-14T13:21:40.133Z"
      },
      {
        "duration": 2169,
        "start_time": "2022-12-14T13:21:40.139Z"
      },
      {
        "duration": 535,
        "start_time": "2022-12-14T13:21:42.310Z"
      },
      {
        "duration": 144,
        "start_time": "2022-12-14T13:21:42.847Z"
      },
      {
        "duration": 139,
        "start_time": "2022-12-14T13:21:42.992Z"
      },
      {
        "duration": 262,
        "start_time": "2022-12-14T13:21:43.133Z"
      },
      {
        "duration": 109,
        "start_time": "2022-12-14T13:21:43.396Z"
      },
      {
        "duration": 183,
        "start_time": "2022-12-14T13:21:43.507Z"
      },
      {
        "duration": 29,
        "start_time": "2022-12-14T13:21:43.693Z"
      },
      {
        "duration": 11,
        "start_time": "2022-12-14T13:21:43.724Z"
      },
      {
        "duration": 30,
        "start_time": "2022-12-14T13:21:43.737Z"
      },
      {
        "duration": 31,
        "start_time": "2022-12-14T13:21:43.769Z"
      },
      {
        "duration": 70,
        "start_time": "2022-12-14T13:21:43.801Z"
      },
      {
        "duration": 38,
        "start_time": "2022-12-14T13:21:43.874Z"
      },
      {
        "duration": 16,
        "start_time": "2022-12-14T13:21:43.914Z"
      },
      {
        "duration": 110,
        "start_time": "2022-12-14T13:21:43.932Z"
      },
      {
        "duration": 91,
        "start_time": "2022-12-14T13:21:44.045Z"
      },
      {
        "duration": 462,
        "start_time": "2022-12-14T13:21:44.137Z"
      },
      {
        "duration": 6,
        "start_time": "2022-12-14T13:21:44.601Z"
      },
      {
        "duration": 127,
        "start_time": "2022-12-14T13:21:44.608Z"
      },
      {
        "duration": 152,
        "start_time": "2022-12-14T13:21:44.737Z"
      },
      {
        "duration": 110,
        "start_time": "2022-12-14T13:21:44.891Z"
      },
      {
        "duration": 96,
        "start_time": "2022-12-14T13:21:45.003Z"
      },
      {
        "duration": 1429,
        "start_time": "2022-12-14T13:21:45.100Z"
      },
      {
        "duration": 96,
        "start_time": "2022-12-14T13:21:46.531Z"
      },
      {
        "duration": 11,
        "start_time": "2022-12-14T13:21:46.629Z"
      },
      {
        "duration": 24,
        "start_time": "2022-12-14T13:21:46.643Z"
      },
      {
        "duration": 42,
        "start_time": "2022-12-14T13:21:46.669Z"
      },
      {
        "duration": 2,
        "start_time": "2022-12-14T13:21:46.722Z"
      },
      {
        "duration": 29,
        "start_time": "2022-12-14T13:21:46.726Z"
      },
      {
        "duration": 31,
        "start_time": "2022-12-14T13:21:46.757Z"
      },
      {
        "duration": 7,
        "start_time": "2022-12-14T13:22:48.639Z"
      },
      {
        "duration": 160,
        "start_time": "2022-12-14T13:22:59.884Z"
      },
      {
        "duration": 33,
        "start_time": "2022-12-14T13:24:46.854Z"
      },
      {
        "duration": 4,
        "start_time": "2022-12-14T13:25:07.147Z"
      },
      {
        "duration": 7,
        "start_time": "2022-12-14T13:25:07.154Z"
      },
      {
        "duration": 1275,
        "start_time": "2022-12-14T13:25:07.163Z"
      },
      {
        "duration": 524,
        "start_time": "2022-12-14T13:25:08.440Z"
      },
      {
        "duration": 135,
        "start_time": "2022-12-14T13:25:08.966Z"
      },
      {
        "duration": 140,
        "start_time": "2022-12-14T13:25:09.103Z"
      },
      {
        "duration": 274,
        "start_time": "2022-12-14T13:25:09.245Z"
      },
      {
        "duration": 115,
        "start_time": "2022-12-14T13:25:09.520Z"
      },
      {
        "duration": 20,
        "start_time": "2022-12-14T13:25:14.812Z"
      },
      {
        "duration": 5,
        "start_time": "2022-12-14T13:25:23.414Z"
      },
      {
        "duration": 9,
        "start_time": "2022-12-14T13:25:23.421Z"
      },
      {
        "duration": 1065,
        "start_time": "2022-12-14T13:25:23.432Z"
      },
      {
        "duration": 676,
        "start_time": "2022-12-14T13:25:24.500Z"
      },
      {
        "duration": 146,
        "start_time": "2022-12-14T13:25:25.178Z"
      },
      {
        "duration": 141,
        "start_time": "2022-12-14T13:25:25.327Z"
      },
      {
        "duration": 286,
        "start_time": "2022-12-14T13:25:25.470Z"
      },
      {
        "duration": 126,
        "start_time": "2022-12-14T13:25:25.758Z"
      },
      {
        "duration": 176,
        "start_time": "2022-12-14T13:25:25.887Z"
      },
      {
        "duration": 30,
        "start_time": "2022-12-14T13:25:32.180Z"
      },
      {
        "duration": 13,
        "start_time": "2022-12-14T13:26:28.156Z"
      },
      {
        "duration": 59,
        "start_time": "2022-12-14T13:26:33.612Z"
      },
      {
        "duration": 4,
        "start_time": "2022-12-14T13:29:00.602Z"
      },
      {
        "duration": 18,
        "start_time": "2022-12-14T13:29:00.609Z"
      },
      {
        "duration": 1127,
        "start_time": "2022-12-14T13:29:00.629Z"
      },
      {
        "duration": 534,
        "start_time": "2022-12-14T13:29:01.758Z"
      },
      {
        "duration": 154,
        "start_time": "2022-12-14T13:29:02.295Z"
      },
      {
        "duration": 147,
        "start_time": "2022-12-14T13:29:02.452Z"
      },
      {
        "duration": 283,
        "start_time": "2022-12-14T13:29:02.601Z"
      },
      {
        "duration": 106,
        "start_time": "2022-12-14T13:29:05.602Z"
      },
      {
        "duration": 130,
        "start_time": "2022-12-14T13:29:08.779Z"
      },
      {
        "duration": 17,
        "start_time": "2022-12-14T13:29:10.599Z"
      },
      {
        "duration": 15,
        "start_time": "2022-12-14T13:29:37.056Z"
      },
      {
        "duration": 9,
        "start_time": "2022-12-14T13:29:41.712Z"
      },
      {
        "duration": 17,
        "start_time": "2022-12-14T13:29:59.496Z"
      },
      {
        "duration": 53,
        "start_time": "2022-12-14T13:30:02.912Z"
      },
      {
        "duration": 21,
        "start_time": "2022-12-14T13:30:04.727Z"
      },
      {
        "duration": 12,
        "start_time": "2022-12-14T13:31:23.732Z"
      },
      {
        "duration": 8,
        "start_time": "2022-12-14T13:31:26.197Z"
      },
      {
        "duration": 130,
        "start_time": "2022-12-14T13:31:38.282Z"
      },
      {
        "duration": 170,
        "start_time": "2022-12-14T13:31:44.164Z"
      },
      {
        "duration": 65,
        "start_time": "2022-12-14T13:34:03.509Z"
      },
      {
        "duration": 70,
        "start_time": "2022-12-14T13:34:20.019Z"
      },
      {
        "duration": 8,
        "start_time": "2022-12-14T13:34:30.987Z"
      },
      {
        "duration": 58,
        "start_time": "2022-12-14T13:34:36.009Z"
      },
      {
        "duration": 9,
        "start_time": "2022-12-14T13:34:59.017Z"
      },
      {
        "duration": 132,
        "start_time": "2022-12-14T13:35:12.236Z"
      },
      {
        "duration": 140,
        "start_time": "2022-12-14T13:37:34.977Z"
      },
      {
        "duration": 43,
        "start_time": "2022-12-14T13:37:36.784Z"
      },
      {
        "duration": 77,
        "start_time": "2022-12-14T13:37:54.569Z"
      },
      {
        "duration": 1297,
        "start_time": "2022-12-14T13:46:27.197Z"
      },
      {
        "duration": 20,
        "start_time": "2022-12-14T13:54:07.215Z"
      },
      {
        "duration": 14,
        "start_time": "2022-12-14T13:54:17.010Z"
      },
      {
        "duration": 186,
        "start_time": "2022-12-14T13:54:35.115Z"
      },
      {
        "duration": 66,
        "start_time": "2022-12-14T13:54:51.672Z"
      },
      {
        "duration": 125,
        "start_time": "2022-12-14T13:55:24.995Z"
      },
      {
        "duration": 62,
        "start_time": "2022-12-14T13:59:00.219Z"
      },
      {
        "duration": 55,
        "start_time": "2022-12-14T14:04:42.537Z"
      },
      {
        "duration": 6,
        "start_time": "2022-12-14T14:05:04.369Z"
      },
      {
        "duration": 22,
        "start_time": "2022-12-14T14:05:06.357Z"
      },
      {
        "duration": 7,
        "start_time": "2022-12-14T14:06:59.450Z"
      },
      {
        "duration": 8,
        "start_time": "2022-12-14T14:07:28.777Z"
      },
      {
        "duration": 20,
        "start_time": "2022-12-14T14:07:33.880Z"
      },
      {
        "duration": 20,
        "start_time": "2022-12-14T14:08:02.350Z"
      },
      {
        "duration": 1257,
        "start_time": "2022-12-14T14:08:32.129Z"
      },
      {
        "duration": 4,
        "start_time": "2022-12-14T14:08:33.388Z"
      },
      {
        "duration": 1214,
        "start_time": "2022-12-14T14:08:33.394Z"
      },
      {
        "duration": 517,
        "start_time": "2022-12-14T14:08:34.610Z"
      },
      {
        "duration": 143,
        "start_time": "2022-12-14T14:08:35.129Z"
      },
      {
        "duration": 140,
        "start_time": "2022-12-14T14:08:35.274Z"
      },
      {
        "duration": 267,
        "start_time": "2022-12-14T14:08:35.416Z"
      },
      {
        "duration": 108,
        "start_time": "2022-12-14T14:08:35.685Z"
      },
      {
        "duration": 216,
        "start_time": "2022-12-14T14:08:35.795Z"
      },
      {
        "duration": 15,
        "start_time": "2022-12-14T14:08:36.014Z"
      },
      {
        "duration": 23,
        "start_time": "2022-12-14T14:08:36.031Z"
      },
      {
        "duration": 53,
        "start_time": "2022-12-14T14:08:36.056Z"
      },
      {
        "duration": 91,
        "start_time": "2022-12-14T14:08:36.111Z"
      },
      {
        "duration": 9,
        "start_time": "2022-12-14T14:08:36.204Z"
      },
      {
        "duration": 52,
        "start_time": "2022-12-14T14:08:36.214Z"
      },
      {
        "duration": 61,
        "start_time": "2022-12-14T14:08:36.268Z"
      },
      {
        "duration": 9,
        "start_time": "2022-12-14T14:08:36.331Z"
      },
      {
        "duration": 153,
        "start_time": "2022-12-14T14:08:36.342Z"
      },
      {
        "duration": 76,
        "start_time": "2022-12-14T14:08:36.497Z"
      },
      {
        "duration": 438,
        "start_time": "2022-12-14T14:08:36.575Z"
      },
      {
        "duration": 6,
        "start_time": "2022-12-14T14:08:37.014Z"
      },
      {
        "duration": 48,
        "start_time": "2022-12-14T14:08:37.022Z"
      },
      {
        "duration": 198,
        "start_time": "2022-12-14T14:08:37.072Z"
      },
      {
        "duration": 0,
        "start_time": "2022-12-14T14:08:37.272Z"
      },
      {
        "duration": 0,
        "start_time": "2022-12-14T14:08:37.273Z"
      },
      {
        "duration": 0,
        "start_time": "2022-12-14T14:08:37.274Z"
      },
      {
        "duration": 0,
        "start_time": "2022-12-14T14:08:37.275Z"
      },
      {
        "duration": 0,
        "start_time": "2022-12-14T14:08:37.276Z"
      },
      {
        "duration": 0,
        "start_time": "2022-12-14T14:08:37.277Z"
      },
      {
        "duration": 0,
        "start_time": "2022-12-14T14:08:37.279Z"
      },
      {
        "duration": 0,
        "start_time": "2022-12-14T14:08:37.280Z"
      },
      {
        "duration": 0,
        "start_time": "2022-12-14T14:08:37.281Z"
      },
      {
        "duration": 0,
        "start_time": "2022-12-14T14:08:37.282Z"
      },
      {
        "duration": 0,
        "start_time": "2022-12-14T14:08:37.283Z"
      },
      {
        "duration": 0,
        "start_time": "2022-12-14T14:08:37.284Z"
      },
      {
        "duration": 12,
        "start_time": "2022-12-14T14:08:59.657Z"
      },
      {
        "duration": 1297,
        "start_time": "2022-12-14T14:09:04.794Z"
      },
      {
        "duration": 4,
        "start_time": "2022-12-14T14:09:06.093Z"
      },
      {
        "duration": 1040,
        "start_time": "2022-12-14T14:09:06.099Z"
      },
      {
        "duration": 531,
        "start_time": "2022-12-14T14:09:07.141Z"
      },
      {
        "duration": 149,
        "start_time": "2022-12-14T14:09:07.673Z"
      },
      {
        "duration": 145,
        "start_time": "2022-12-14T14:09:07.824Z"
      },
      {
        "duration": 260,
        "start_time": "2022-12-14T14:09:07.971Z"
      },
      {
        "duration": 109,
        "start_time": "2022-12-14T14:09:08.232Z"
      },
      {
        "duration": 179,
        "start_time": "2022-12-14T14:09:08.343Z"
      },
      {
        "duration": 10,
        "start_time": "2022-12-14T14:09:08.524Z"
      },
      {
        "duration": 20,
        "start_time": "2022-12-14T14:09:08.535Z"
      },
      {
        "duration": 25,
        "start_time": "2022-12-14T14:09:08.557Z"
      },
      {
        "duration": 74,
        "start_time": "2022-12-14T14:09:08.583Z"
      },
      {
        "duration": 8,
        "start_time": "2022-12-14T14:09:08.658Z"
      },
      {
        "duration": 26,
        "start_time": "2022-12-14T14:09:08.667Z"
      },
      {
        "duration": 67,
        "start_time": "2022-12-14T14:09:08.695Z"
      },
      {
        "duration": 7,
        "start_time": "2022-12-14T14:09:08.764Z"
      },
      {
        "duration": 148,
        "start_time": "2022-12-14T14:09:08.773Z"
      },
      {
        "duration": 70,
        "start_time": "2022-12-14T14:09:08.922Z"
      },
      {
        "duration": 430,
        "start_time": "2022-12-14T14:09:08.993Z"
      },
      {
        "duration": 6,
        "start_time": "2022-12-14T14:09:09.425Z"
      },
      {
        "duration": 90,
        "start_time": "2022-12-14T14:09:09.432Z"
      },
      {
        "duration": 14,
        "start_time": "2022-12-14T14:09:09.524Z"
      },
      {
        "duration": 108,
        "start_time": "2022-12-14T14:09:09.540Z"
      },
      {
        "duration": 124,
        "start_time": "2022-12-14T14:09:09.650Z"
      },
      {
        "duration": 113,
        "start_time": "2022-12-14T14:09:09.776Z"
      },
      {
        "duration": 91,
        "start_time": "2022-12-14T14:09:09.891Z"
      },
      {
        "duration": 1351,
        "start_time": "2022-12-14T14:09:09.985Z"
      },
      {
        "duration": 111,
        "start_time": "2022-12-14T14:09:11.338Z"
      },
      {
        "duration": 10,
        "start_time": "2022-12-14T14:09:11.451Z"
      },
      {
        "duration": 30,
        "start_time": "2022-12-14T14:09:11.463Z"
      },
      {
        "duration": 68,
        "start_time": "2022-12-14T14:09:11.496Z"
      },
      {
        "duration": 29,
        "start_time": "2022-12-14T14:09:11.566Z"
      },
      {
        "duration": 48,
        "start_time": "2022-12-14T14:09:11.598Z"
      },
      {
        "duration": 65,
        "start_time": "2022-12-14T14:09:11.648Z"
      },
      {
        "duration": 41,
        "start_time": "2022-12-14T14:09:27.274Z"
      },
      {
        "duration": 94,
        "start_time": "2022-12-14T14:09:59.692Z"
      },
      {
        "duration": 10,
        "start_time": "2022-12-14T14:10:04.692Z"
      },
      {
        "duration": 7,
        "start_time": "2022-12-14T14:10:37.475Z"
      },
      {
        "duration": 117,
        "start_time": "2022-12-14T14:10:45.885Z"
      },
      {
        "duration": 66,
        "start_time": "2022-12-14T14:10:50.394Z"
      },
      {
        "duration": 1255,
        "start_time": "2022-12-14T14:11:32.117Z"
      },
      {
        "duration": 4,
        "start_time": "2022-12-14T14:11:33.374Z"
      },
      {
        "duration": 1233,
        "start_time": "2022-12-14T14:11:33.379Z"
      },
      {
        "duration": 516,
        "start_time": "2022-12-14T14:11:34.615Z"
      },
      {
        "duration": 138,
        "start_time": "2022-12-14T14:11:35.133Z"
      },
      {
        "duration": 140,
        "start_time": "2022-12-14T14:11:35.273Z"
      },
      {
        "duration": 266,
        "start_time": "2022-12-14T14:11:35.414Z"
      },
      {
        "duration": 105,
        "start_time": "2022-12-14T14:11:35.682Z"
      },
      {
        "duration": 213,
        "start_time": "2022-12-14T14:11:35.789Z"
      },
      {
        "duration": 18,
        "start_time": "2022-12-14T14:11:36.005Z"
      },
      {
        "duration": 8,
        "start_time": "2022-12-14T14:11:36.024Z"
      },
      {
        "duration": 15,
        "start_time": "2022-12-14T14:11:36.033Z"
      },
      {
        "duration": 60,
        "start_time": "2022-12-14T14:11:36.050Z"
      },
      {
        "duration": 15,
        "start_time": "2022-12-14T14:11:36.111Z"
      },
      {
        "duration": 25,
        "start_time": "2022-12-14T14:11:36.128Z"
      },
      {
        "duration": 69,
        "start_time": "2022-12-14T14:11:36.155Z"
      },
      {
        "duration": 9,
        "start_time": "2022-12-14T14:11:36.227Z"
      },
      {
        "duration": 138,
        "start_time": "2022-12-14T14:11:36.237Z"
      },
      {
        "duration": 76,
        "start_time": "2022-12-14T14:11:36.377Z"
      },
      {
        "duration": 439,
        "start_time": "2022-12-14T14:11:36.454Z"
      },
      {
        "duration": 6,
        "start_time": "2022-12-14T14:11:36.895Z"
      },
      {
        "duration": 31,
        "start_time": "2022-12-14T14:11:36.902Z"
      },
      {
        "duration": 16,
        "start_time": "2022-12-14T14:11:36.934Z"
      },
      {
        "duration": 141,
        "start_time": "2022-12-14T14:11:36.952Z"
      },
      {
        "duration": 144,
        "start_time": "2022-12-14T14:11:37.095Z"
      },
      {
        "duration": 122,
        "start_time": "2022-12-14T14:11:37.241Z"
      },
      {
        "duration": 110,
        "start_time": "2022-12-14T14:11:37.365Z"
      },
      {
        "duration": 1339,
        "start_time": "2022-12-14T14:11:37.479Z"
      },
      {
        "duration": 102,
        "start_time": "2022-12-14T14:11:38.822Z"
      },
      {
        "duration": 11,
        "start_time": "2022-12-14T14:11:38.926Z"
      },
      {
        "duration": 11,
        "start_time": "2022-12-14T14:11:38.939Z"
      },
      {
        "duration": 40,
        "start_time": "2022-12-14T14:11:38.951Z"
      },
      {
        "duration": 30,
        "start_time": "2022-12-14T14:11:38.993Z"
      },
      {
        "duration": 16,
        "start_time": "2022-12-14T14:11:39.025Z"
      },
      {
        "duration": 15,
        "start_time": "2022-12-14T14:11:39.043Z"
      },
      {
        "duration": 1223,
        "start_time": "2022-12-14T14:16:09.672Z"
      },
      {
        "duration": 4,
        "start_time": "2022-12-14T14:16:10.897Z"
      },
      {
        "duration": 1356,
        "start_time": "2022-12-14T14:16:10.903Z"
      },
      {
        "duration": 507,
        "start_time": "2022-12-14T14:16:12.261Z"
      },
      {
        "duration": 147,
        "start_time": "2022-12-14T14:16:12.770Z"
      },
      {
        "duration": 135,
        "start_time": "2022-12-14T14:16:12.921Z"
      },
      {
        "duration": 272,
        "start_time": "2022-12-14T14:16:13.057Z"
      },
      {
        "duration": 108,
        "start_time": "2022-12-14T14:16:13.331Z"
      },
      {
        "duration": 163,
        "start_time": "2022-12-14T14:16:13.440Z"
      },
      {
        "duration": 17,
        "start_time": "2022-12-14T14:16:13.606Z"
      },
      {
        "duration": 18,
        "start_time": "2022-12-14T14:16:13.625Z"
      },
      {
        "duration": 16,
        "start_time": "2022-12-14T14:16:13.645Z"
      },
      {
        "duration": 66,
        "start_time": "2022-12-14T14:16:13.663Z"
      },
      {
        "duration": 17,
        "start_time": "2022-12-14T14:16:13.731Z"
      },
      {
        "duration": 17,
        "start_time": "2022-12-14T14:16:13.750Z"
      },
      {
        "duration": 54,
        "start_time": "2022-12-14T14:16:13.769Z"
      },
      {
        "duration": 9,
        "start_time": "2022-12-14T14:16:13.825Z"
      },
      {
        "duration": 142,
        "start_time": "2022-12-14T14:16:13.835Z"
      },
      {
        "duration": 74,
        "start_time": "2022-12-14T14:16:13.979Z"
      },
      {
        "duration": 474,
        "start_time": "2022-12-14T14:16:14.055Z"
      },
      {
        "duration": 7,
        "start_time": "2022-12-14T14:16:14.530Z"
      },
      {
        "duration": 43,
        "start_time": "2022-12-14T14:16:14.538Z"
      },
      {
        "duration": 52,
        "start_time": "2022-12-14T14:16:14.583Z"
      },
      {
        "duration": 118,
        "start_time": "2022-12-14T14:16:14.637Z"
      },
      {
        "duration": 126,
        "start_time": "2022-12-14T14:16:14.757Z"
      },
      {
        "duration": 117,
        "start_time": "2022-12-14T14:16:14.885Z"
      },
      {
        "duration": 100,
        "start_time": "2022-12-14T14:16:15.022Z"
      },
      {
        "duration": 1432,
        "start_time": "2022-12-14T14:16:15.126Z"
      },
      {
        "duration": 104,
        "start_time": "2022-12-14T14:16:16.559Z"
      },
      {
        "duration": 10,
        "start_time": "2022-12-14T14:16:16.664Z"
      },
      {
        "duration": 13,
        "start_time": "2022-12-14T14:16:16.676Z"
      },
      {
        "duration": 52,
        "start_time": "2022-12-14T14:16:16.690Z"
      },
      {
        "duration": 2,
        "start_time": "2022-12-14T14:16:16.744Z"
      },
      {
        "duration": 14,
        "start_time": "2022-12-14T14:16:16.748Z"
      },
      {
        "duration": 15,
        "start_time": "2022-12-14T14:16:16.764Z"
      },
      {
        "duration": 1523,
        "start_time": "2022-12-14T20:33:29.620Z"
      },
      {
        "duration": 1386,
        "start_time": "2022-12-14T20:33:31.145Z"
      },
      {
        "duration": 494,
        "start_time": "2022-12-14T20:33:32.533Z"
      },
      {
        "duration": 132,
        "start_time": "2022-12-14T20:33:33.029Z"
      },
      {
        "duration": 120,
        "start_time": "2022-12-14T20:33:33.162Z"
      },
      {
        "duration": 247,
        "start_time": "2022-12-14T20:33:33.284Z"
      },
      {
        "duration": 106,
        "start_time": "2022-12-14T20:33:33.533Z"
      },
      {
        "duration": 155,
        "start_time": "2022-12-14T20:33:33.641Z"
      },
      {
        "duration": 9,
        "start_time": "2022-12-14T20:33:33.798Z"
      },
      {
        "duration": 19,
        "start_time": "2022-12-14T20:33:33.810Z"
      },
      {
        "duration": 8,
        "start_time": "2022-12-14T20:33:33.831Z"
      },
      {
        "duration": 65,
        "start_time": "2022-12-14T20:33:33.841Z"
      },
      {
        "duration": 21,
        "start_time": "2022-12-14T20:33:33.908Z"
      },
      {
        "duration": 15,
        "start_time": "2022-12-14T20:33:33.930Z"
      },
      {
        "duration": 57,
        "start_time": "2022-12-14T20:33:33.946Z"
      },
      {
        "duration": 11,
        "start_time": "2022-12-14T20:33:34.028Z"
      },
      {
        "duration": 140,
        "start_time": "2022-12-14T20:33:34.041Z"
      },
      {
        "duration": 83,
        "start_time": "2022-12-14T20:33:34.183Z"
      },
      {
        "duration": 682,
        "start_time": "2022-12-14T20:33:34.267Z"
      },
      {
        "duration": 8,
        "start_time": "2022-12-14T20:33:34.950Z"
      },
      {
        "duration": 19,
        "start_time": "2022-12-14T20:33:34.960Z"
      },
      {
        "duration": 56,
        "start_time": "2022-12-14T20:33:34.981Z"
      },
      {
        "duration": 115,
        "start_time": "2022-12-14T20:33:35.039Z"
      },
      {
        "duration": 128,
        "start_time": "2022-12-14T20:33:35.155Z"
      },
      {
        "duration": 113,
        "start_time": "2022-12-14T20:33:35.285Z"
      },
      {
        "duration": 97,
        "start_time": "2022-12-14T20:33:35.400Z"
      },
      {
        "duration": 1360,
        "start_time": "2022-12-14T20:33:35.498Z"
      },
      {
        "duration": 99,
        "start_time": "2022-12-14T20:33:36.861Z"
      },
      {
        "duration": 9,
        "start_time": "2022-12-14T20:33:36.961Z"
      },
      {
        "duration": 13,
        "start_time": "2022-12-14T20:33:36.972Z"
      },
      {
        "duration": 44,
        "start_time": "2022-12-14T20:33:36.986Z"
      },
      {
        "duration": 3,
        "start_time": "2022-12-14T20:33:37.031Z"
      },
      {
        "duration": 14,
        "start_time": "2022-12-14T20:33:37.035Z"
      },
      {
        "duration": 24,
        "start_time": "2022-12-14T20:33:37.051Z"
      },
      {
        "duration": 20,
        "start_time": "2022-12-14T20:36:37.478Z"
      },
      {
        "duration": 10,
        "start_time": "2022-12-14T20:39:10.339Z"
      },
      {
        "duration": 30,
        "start_time": "2022-12-14T20:40:11.175Z"
      },
      {
        "duration": 1428,
        "start_time": "2022-12-15T07:21:58.827Z"
      },
      {
        "duration": 1526,
        "start_time": "2022-12-15T07:22:00.257Z"
      },
      {
        "duration": 546,
        "start_time": "2022-12-15T07:22:01.784Z"
      },
      {
        "duration": 166,
        "start_time": "2022-12-15T07:22:02.333Z"
      },
      {
        "duration": 163,
        "start_time": "2022-12-15T07:22:02.501Z"
      },
      {
        "duration": 290,
        "start_time": "2022-12-15T07:22:02.666Z"
      },
      {
        "duration": 110,
        "start_time": "2022-12-15T07:22:02.958Z"
      },
      {
        "duration": 201,
        "start_time": "2022-12-15T07:22:03.070Z"
      },
      {
        "duration": 9,
        "start_time": "2022-12-15T07:22:03.273Z"
      },
      {
        "duration": 7,
        "start_time": "2022-12-15T07:22:03.285Z"
      },
      {
        "duration": 28,
        "start_time": "2022-12-15T07:22:03.294Z"
      },
      {
        "duration": 65,
        "start_time": "2022-12-15T07:22:03.324Z"
      },
      {
        "duration": 7,
        "start_time": "2022-12-15T07:22:03.391Z"
      },
      {
        "duration": 28,
        "start_time": "2022-12-15T07:22:03.400Z"
      },
      {
        "duration": 55,
        "start_time": "2022-12-15T07:22:03.430Z"
      },
      {
        "duration": 11,
        "start_time": "2022-12-15T07:22:03.489Z"
      },
      {
        "duration": 136,
        "start_time": "2022-12-15T07:22:03.501Z"
      },
      {
        "duration": 64,
        "start_time": "2022-12-15T07:22:03.638Z"
      },
      {
        "duration": 424,
        "start_time": "2022-12-15T07:22:03.703Z"
      },
      {
        "duration": 7,
        "start_time": "2022-12-15T07:22:04.129Z"
      },
      {
        "duration": 250,
        "start_time": "2022-12-15T07:22:04.138Z"
      },
      {
        "duration": 0,
        "start_time": "2022-12-15T07:22:04.390Z"
      },
      {
        "duration": 0,
        "start_time": "2022-12-15T07:22:04.391Z"
      },
      {
        "duration": 0,
        "start_time": "2022-12-15T07:22:04.392Z"
      },
      {
        "duration": 0,
        "start_time": "2022-12-15T07:22:04.393Z"
      },
      {
        "duration": 0,
        "start_time": "2022-12-15T07:22:04.394Z"
      },
      {
        "duration": 0,
        "start_time": "2022-12-15T07:22:04.396Z"
      },
      {
        "duration": 0,
        "start_time": "2022-12-15T07:22:04.396Z"
      },
      {
        "duration": 0,
        "start_time": "2022-12-15T07:22:04.397Z"
      },
      {
        "duration": 0,
        "start_time": "2022-12-15T07:22:04.399Z"
      },
      {
        "duration": 0,
        "start_time": "2022-12-15T07:22:04.422Z"
      },
      {
        "duration": 0,
        "start_time": "2022-12-15T07:22:04.423Z"
      },
      {
        "duration": 0,
        "start_time": "2022-12-15T07:22:04.424Z"
      },
      {
        "duration": 0,
        "start_time": "2022-12-15T07:22:04.425Z"
      },
      {
        "duration": 11,
        "start_time": "2022-12-15T07:22:30.690Z"
      },
      {
        "duration": 1178,
        "start_time": "2022-12-15T07:23:39.864Z"
      },
      {
        "duration": 1302,
        "start_time": "2022-12-15T07:23:41.044Z"
      },
      {
        "duration": 491,
        "start_time": "2022-12-15T07:23:42.348Z"
      },
      {
        "duration": 141,
        "start_time": "2022-12-15T07:23:42.841Z"
      },
      {
        "duration": 126,
        "start_time": "2022-12-15T07:23:42.984Z"
      },
      {
        "duration": 275,
        "start_time": "2022-12-15T07:23:43.112Z"
      },
      {
        "duration": 96,
        "start_time": "2022-12-15T07:23:43.389Z"
      },
      {
        "duration": 167,
        "start_time": "2022-12-15T07:23:43.487Z"
      },
      {
        "duration": 9,
        "start_time": "2022-12-15T07:23:43.655Z"
      },
      {
        "duration": 9,
        "start_time": "2022-12-15T07:23:43.666Z"
      },
      {
        "duration": 22,
        "start_time": "2022-12-15T07:23:43.677Z"
      },
      {
        "duration": 60,
        "start_time": "2022-12-15T07:23:43.701Z"
      },
      {
        "duration": 8,
        "start_time": "2022-12-15T07:23:43.764Z"
      },
      {
        "duration": 20,
        "start_time": "2022-12-15T07:23:43.773Z"
      },
      {
        "duration": 52,
        "start_time": "2022-12-15T07:23:43.795Z"
      },
      {
        "duration": 8,
        "start_time": "2022-12-15T07:23:43.849Z"
      },
      {
        "duration": 130,
        "start_time": "2022-12-15T07:23:43.858Z"
      },
      {
        "duration": 71,
        "start_time": "2022-12-15T07:23:43.990Z"
      },
      {
        "duration": 381,
        "start_time": "2022-12-15T07:23:44.063Z"
      },
      {
        "duration": 28,
        "start_time": "2022-12-15T07:23:44.445Z"
      },
      {
        "duration": 3,
        "start_time": "2022-12-15T07:23:44.474Z"
      },
      {
        "duration": 53,
        "start_time": "2022-12-15T07:23:44.479Z"
      },
      {
        "duration": 19,
        "start_time": "2022-12-15T07:23:44.534Z"
      },
      {
        "duration": 167,
        "start_time": "2022-12-15T07:23:44.554Z"
      },
      {
        "duration": 124,
        "start_time": "2022-12-15T07:23:44.723Z"
      },
      {
        "duration": 121,
        "start_time": "2022-12-15T07:23:44.849Z"
      },
      {
        "duration": 90,
        "start_time": "2022-12-15T07:23:44.971Z"
      },
      {
        "duration": 183,
        "start_time": "2022-12-15T07:23:45.064Z"
      },
      {
        "duration": 0,
        "start_time": "2022-12-15T07:23:45.249Z"
      },
      {
        "duration": 0,
        "start_time": "2022-12-15T07:23:45.250Z"
      },
      {
        "duration": 0,
        "start_time": "2022-12-15T07:23:45.252Z"
      },
      {
        "duration": 0,
        "start_time": "2022-12-15T07:23:45.253Z"
      },
      {
        "duration": 0,
        "start_time": "2022-12-15T07:23:45.254Z"
      },
      {
        "duration": 0,
        "start_time": "2022-12-15T07:23:45.255Z"
      },
      {
        "duration": 0,
        "start_time": "2022-12-15T07:23:45.256Z"
      },
      {
        "duration": 1251,
        "start_time": "2022-12-15T07:24:47.695Z"
      },
      {
        "duration": 1214,
        "start_time": "2022-12-15T07:24:48.948Z"
      },
      {
        "duration": 504,
        "start_time": "2022-12-15T07:24:50.163Z"
      },
      {
        "duration": 142,
        "start_time": "2022-12-15T07:24:50.669Z"
      },
      {
        "duration": 130,
        "start_time": "2022-12-15T07:24:50.813Z"
      },
      {
        "duration": 272,
        "start_time": "2022-12-15T07:24:50.945Z"
      },
      {
        "duration": 105,
        "start_time": "2022-12-15T07:24:51.220Z"
      },
      {
        "duration": 168,
        "start_time": "2022-12-15T07:24:51.326Z"
      },
      {
        "duration": 12,
        "start_time": "2022-12-15T07:24:51.496Z"
      },
      {
        "duration": 8,
        "start_time": "2022-12-15T07:24:51.520Z"
      },
      {
        "duration": 32,
        "start_time": "2022-12-15T07:24:51.529Z"
      },
      {
        "duration": 72,
        "start_time": "2022-12-15T07:24:51.563Z"
      },
      {
        "duration": 8,
        "start_time": "2022-12-15T07:24:51.637Z"
      },
      {
        "duration": 15,
        "start_time": "2022-12-15T07:24:51.647Z"
      },
      {
        "duration": 63,
        "start_time": "2022-12-15T07:24:51.665Z"
      },
      {
        "duration": 8,
        "start_time": "2022-12-15T07:24:51.729Z"
      },
      {
        "duration": 145,
        "start_time": "2022-12-15T07:24:51.739Z"
      },
      {
        "duration": 68,
        "start_time": "2022-12-15T07:24:51.886Z"
      },
      {
        "duration": 411,
        "start_time": "2022-12-15T07:24:51.956Z"
      },
      {
        "duration": 20,
        "start_time": "2022-12-15T07:24:52.369Z"
      },
      {
        "duration": 10,
        "start_time": "2022-12-15T07:24:52.391Z"
      },
      {
        "duration": 10,
        "start_time": "2022-12-15T07:24:52.421Z"
      },
      {
        "duration": 21,
        "start_time": "2022-12-15T07:24:52.433Z"
      },
      {
        "duration": 69,
        "start_time": "2022-12-15T07:24:52.456Z"
      },
      {
        "duration": 86,
        "start_time": "2022-12-15T07:24:52.527Z"
      },
      {
        "duration": 57,
        "start_time": "2022-12-15T07:24:52.621Z"
      },
      {
        "duration": 75,
        "start_time": "2022-12-15T07:24:52.680Z"
      },
      {
        "duration": 178,
        "start_time": "2022-12-15T07:24:52.757Z"
      },
      {
        "duration": 0,
        "start_time": "2022-12-15T07:24:52.937Z"
      },
      {
        "duration": 0,
        "start_time": "2022-12-15T07:24:52.938Z"
      },
      {
        "duration": 0,
        "start_time": "2022-12-15T07:24:52.939Z"
      },
      {
        "duration": 0,
        "start_time": "2022-12-15T07:24:52.940Z"
      },
      {
        "duration": 0,
        "start_time": "2022-12-15T07:24:52.941Z"
      },
      {
        "duration": 0,
        "start_time": "2022-12-15T07:24:52.942Z"
      },
      {
        "duration": 0,
        "start_time": "2022-12-15T07:24:52.943Z"
      },
      {
        "duration": 528,
        "start_time": "2022-12-15T07:28:40.040Z"
      },
      {
        "duration": 11,
        "start_time": "2022-12-15T07:29:20.348Z"
      },
      {
        "duration": 586,
        "start_time": "2022-12-15T07:29:27.948Z"
      },
      {
        "duration": 499,
        "start_time": "2022-12-15T07:30:47.467Z"
      },
      {
        "duration": 447,
        "start_time": "2022-12-15T07:31:38.070Z"
      },
      {
        "duration": 451,
        "start_time": "2022-12-15T07:31:54.103Z"
      },
      {
        "duration": 448,
        "start_time": "2022-12-15T07:32:45.410Z"
      },
      {
        "duration": 462,
        "start_time": "2022-12-15T07:33:20.912Z"
      },
      {
        "duration": 36,
        "start_time": "2022-12-15T07:34:10.814Z"
      },
      {
        "duration": 469,
        "start_time": "2022-12-15T07:34:36.568Z"
      },
      {
        "duration": 477,
        "start_time": "2022-12-15T07:35:02.778Z"
      },
      {
        "duration": 445,
        "start_time": "2022-12-15T07:35:39.562Z"
      },
      {
        "duration": 475,
        "start_time": "2022-12-15T07:35:45.281Z"
      },
      {
        "duration": 455,
        "start_time": "2022-12-15T07:35:51.628Z"
      },
      {
        "duration": 451,
        "start_time": "2022-12-15T07:36:17.712Z"
      },
      {
        "duration": 1270,
        "start_time": "2022-12-15T07:37:33.392Z"
      },
      {
        "duration": 1156,
        "start_time": "2022-12-15T07:37:34.664Z"
      },
      {
        "duration": 491,
        "start_time": "2022-12-15T07:37:35.822Z"
      },
      {
        "duration": 127,
        "start_time": "2022-12-15T07:37:36.320Z"
      },
      {
        "duration": 129,
        "start_time": "2022-12-15T07:37:36.448Z"
      },
      {
        "duration": 268,
        "start_time": "2022-12-15T07:37:36.578Z"
      },
      {
        "duration": 102,
        "start_time": "2022-12-15T07:37:36.848Z"
      },
      {
        "duration": 154,
        "start_time": "2022-12-15T07:37:36.952Z"
      },
      {
        "duration": 15,
        "start_time": "2022-12-15T07:37:37.108Z"
      },
      {
        "duration": 7,
        "start_time": "2022-12-15T07:37:37.126Z"
      },
      {
        "duration": 8,
        "start_time": "2022-12-15T07:37:37.135Z"
      },
      {
        "duration": 77,
        "start_time": "2022-12-15T07:37:37.144Z"
      },
      {
        "duration": 8,
        "start_time": "2022-12-15T07:37:37.223Z"
      },
      {
        "duration": 16,
        "start_time": "2022-12-15T07:37:37.232Z"
      },
      {
        "duration": 48,
        "start_time": "2022-12-15T07:37:37.250Z"
      },
      {
        "duration": 24,
        "start_time": "2022-12-15T07:37:37.299Z"
      },
      {
        "duration": 112,
        "start_time": "2022-12-15T07:37:37.324Z"
      },
      {
        "duration": 58,
        "start_time": "2022-12-15T07:37:37.437Z"
      },
      {
        "duration": 415,
        "start_time": "2022-12-15T07:37:37.496Z"
      },
      {
        "duration": 11,
        "start_time": "2022-12-15T07:37:37.912Z"
      },
      {
        "duration": 32,
        "start_time": "2022-12-15T07:37:37.924Z"
      },
      {
        "duration": 14,
        "start_time": "2022-12-15T07:37:37.957Z"
      },
      {
        "duration": 66,
        "start_time": "2022-12-15T07:37:37.972Z"
      },
      {
        "duration": 70,
        "start_time": "2022-12-15T07:37:38.040Z"
      },
      {
        "duration": 58,
        "start_time": "2022-12-15T07:37:38.120Z"
      },
      {
        "duration": 68,
        "start_time": "2022-12-15T07:37:38.179Z"
      },
      {
        "duration": 474,
        "start_time": "2022-12-15T07:37:38.248Z"
      },
      {
        "duration": 48,
        "start_time": "2022-12-15T07:37:38.725Z"
      },
      {
        "duration": 46,
        "start_time": "2022-12-15T07:37:38.775Z"
      },
      {
        "duration": 14,
        "start_time": "2022-12-15T07:37:38.823Z"
      },
      {
        "duration": 40,
        "start_time": "2022-12-15T07:37:38.839Z"
      },
      {
        "duration": 3,
        "start_time": "2022-12-15T07:37:38.880Z"
      },
      {
        "duration": 8,
        "start_time": "2022-12-15T07:37:38.885Z"
      },
      {
        "duration": 15,
        "start_time": "2022-12-15T07:37:38.894Z"
      },
      {
        "duration": 36,
        "start_time": "2022-12-15T07:45:57.655Z"
      },
      {
        "duration": 185,
        "start_time": "2022-12-15T07:48:01.003Z"
      },
      {
        "duration": 31,
        "start_time": "2022-12-15T07:49:08.348Z"
      },
      {
        "duration": 1174,
        "start_time": "2022-12-15T07:49:46.369Z"
      },
      {
        "duration": 1281,
        "start_time": "2022-12-15T07:49:47.545Z"
      },
      {
        "duration": 546,
        "start_time": "2022-12-15T07:49:48.830Z"
      },
      {
        "duration": 138,
        "start_time": "2022-12-15T07:49:49.377Z"
      },
      {
        "duration": 132,
        "start_time": "2022-12-15T07:49:49.517Z"
      },
      {
        "duration": 258,
        "start_time": "2022-12-15T07:49:49.651Z"
      },
      {
        "duration": 111,
        "start_time": "2022-12-15T07:49:49.911Z"
      },
      {
        "duration": 163,
        "start_time": "2022-12-15T07:49:50.023Z"
      },
      {
        "duration": 9,
        "start_time": "2022-12-15T07:49:50.189Z"
      },
      {
        "duration": 15,
        "start_time": "2022-12-15T07:49:50.199Z"
      },
      {
        "duration": 15,
        "start_time": "2022-12-15T07:49:50.221Z"
      },
      {
        "duration": 67,
        "start_time": "2022-12-15T07:49:50.238Z"
      },
      {
        "duration": 11,
        "start_time": "2022-12-15T07:49:50.307Z"
      },
      {
        "duration": 25,
        "start_time": "2022-12-15T07:49:50.320Z"
      },
      {
        "duration": 57,
        "start_time": "2022-12-15T07:49:50.346Z"
      },
      {
        "duration": 8,
        "start_time": "2022-12-15T07:49:50.405Z"
      },
      {
        "duration": 163,
        "start_time": "2022-12-15T07:49:50.415Z"
      },
      {
        "duration": 88,
        "start_time": "2022-12-15T07:49:50.580Z"
      },
      {
        "duration": 410,
        "start_time": "2022-12-15T07:49:50.670Z"
      },
      {
        "duration": 14,
        "start_time": "2022-12-15T07:49:51.081Z"
      },
      {
        "duration": 26,
        "start_time": "2022-12-15T07:49:51.097Z"
      },
      {
        "duration": 13,
        "start_time": "2022-12-15T07:49:51.125Z"
      },
      {
        "duration": 102,
        "start_time": "2022-12-15T07:49:51.139Z"
      },
      {
        "duration": 85,
        "start_time": "2022-12-15T07:49:51.243Z"
      },
      {
        "duration": 60,
        "start_time": "2022-12-15T07:49:51.330Z"
      },
      {
        "duration": 102,
        "start_time": "2022-12-15T07:49:51.391Z"
      },
      {
        "duration": 513,
        "start_time": "2022-12-15T07:49:51.497Z"
      },
      {
        "duration": 48,
        "start_time": "2022-12-15T07:49:52.021Z"
      },
      {
        "duration": 14,
        "start_time": "2022-12-15T07:49:52.071Z"
      },
      {
        "duration": 42,
        "start_time": "2022-12-15T07:49:52.087Z"
      },
      {
        "duration": 31,
        "start_time": "2022-12-15T07:49:52.131Z"
      },
      {
        "duration": 2,
        "start_time": "2022-12-15T07:49:52.164Z"
      },
      {
        "duration": 23,
        "start_time": "2022-12-15T07:49:52.168Z"
      },
      {
        "duration": 21,
        "start_time": "2022-12-15T07:49:52.193Z"
      },
      {
        "duration": 28,
        "start_time": "2022-12-15T07:53:04.453Z"
      },
      {
        "duration": 1243,
        "start_time": "2022-12-15T07:53:54.250Z"
      },
      {
        "duration": 1032,
        "start_time": "2022-12-15T07:53:55.495Z"
      },
      {
        "duration": 505,
        "start_time": "2022-12-15T07:53:56.529Z"
      },
      {
        "duration": 130,
        "start_time": "2022-12-15T07:53:57.036Z"
      },
      {
        "duration": 132,
        "start_time": "2022-12-15T07:53:57.168Z"
      },
      {
        "duration": 250,
        "start_time": "2022-12-15T07:53:57.301Z"
      },
      {
        "duration": 97,
        "start_time": "2022-12-15T07:53:57.553Z"
      },
      {
        "duration": 156,
        "start_time": "2022-12-15T07:53:57.652Z"
      },
      {
        "duration": 14,
        "start_time": "2022-12-15T07:53:57.810Z"
      },
      {
        "duration": 11,
        "start_time": "2022-12-15T07:53:57.827Z"
      },
      {
        "duration": 10,
        "start_time": "2022-12-15T07:53:57.840Z"
      },
      {
        "duration": 75,
        "start_time": "2022-12-15T07:53:57.851Z"
      },
      {
        "duration": 8,
        "start_time": "2022-12-15T07:53:57.928Z"
      },
      {
        "duration": 7,
        "start_time": "2022-12-15T07:53:57.937Z"
      },
      {
        "duration": 58,
        "start_time": "2022-12-15T07:53:57.946Z"
      },
      {
        "duration": 20,
        "start_time": "2022-12-15T07:53:58.006Z"
      },
      {
        "duration": 124,
        "start_time": "2022-12-15T07:53:58.028Z"
      },
      {
        "duration": 71,
        "start_time": "2022-12-15T07:53:58.154Z"
      },
      {
        "duration": 408,
        "start_time": "2022-12-15T07:53:58.226Z"
      },
      {
        "duration": 9,
        "start_time": "2022-12-15T07:53:58.636Z"
      },
      {
        "duration": 9,
        "start_time": "2022-12-15T07:53:58.646Z"
      },
      {
        "duration": 7,
        "start_time": "2022-12-15T07:53:58.656Z"
      },
      {
        "duration": 78,
        "start_time": "2022-12-15T07:53:58.664Z"
      },
      {
        "duration": 105,
        "start_time": "2022-12-15T07:53:58.744Z"
      },
      {
        "duration": 73,
        "start_time": "2022-12-15T07:53:58.850Z"
      },
      {
        "duration": 50,
        "start_time": "2022-12-15T07:53:58.924Z"
      },
      {
        "duration": 496,
        "start_time": "2022-12-15T07:53:58.975Z"
      },
      {
        "duration": 68,
        "start_time": "2022-12-15T07:53:59.474Z"
      },
      {
        "duration": 9,
        "start_time": "2022-12-15T07:53:59.544Z"
      },
      {
        "duration": 25,
        "start_time": "2022-12-15T07:53:59.555Z"
      },
      {
        "duration": 47,
        "start_time": "2022-12-15T07:53:59.581Z"
      },
      {
        "duration": 2,
        "start_time": "2022-12-15T07:53:59.630Z"
      },
      {
        "duration": 7,
        "start_time": "2022-12-15T07:53:59.633Z"
      },
      {
        "duration": 14,
        "start_time": "2022-12-15T07:53:59.641Z"
      },
      {
        "duration": 115,
        "start_time": "2022-12-15T07:59:19.507Z"
      },
      {
        "duration": 39,
        "start_time": "2022-12-15T08:03:40.705Z"
      },
      {
        "duration": 1248,
        "start_time": "2022-12-15T08:03:59.025Z"
      },
      {
        "duration": 1397,
        "start_time": "2022-12-15T08:04:00.275Z"
      },
      {
        "duration": 539,
        "start_time": "2022-12-15T08:04:01.675Z"
      },
      {
        "duration": 141,
        "start_time": "2022-12-15T08:04:02.216Z"
      },
      {
        "duration": 128,
        "start_time": "2022-12-15T08:04:02.360Z"
      },
      {
        "duration": 272,
        "start_time": "2022-12-15T08:04:02.490Z"
      },
      {
        "duration": 108,
        "start_time": "2022-12-15T08:04:02.764Z"
      },
      {
        "duration": 187,
        "start_time": "2022-12-15T08:04:02.873Z"
      },
      {
        "duration": 10,
        "start_time": "2022-12-15T08:04:03.061Z"
      },
      {
        "duration": 27,
        "start_time": "2022-12-15T08:04:03.074Z"
      },
      {
        "duration": 38,
        "start_time": "2022-12-15T08:04:03.102Z"
      },
      {
        "duration": 60,
        "start_time": "2022-12-15T08:04:03.142Z"
      },
      {
        "duration": 10,
        "start_time": "2022-12-15T08:04:03.205Z"
      },
      {
        "duration": 11,
        "start_time": "2022-12-15T08:04:03.218Z"
      },
      {
        "duration": 57,
        "start_time": "2022-12-15T08:04:03.231Z"
      },
      {
        "duration": 141,
        "start_time": "2022-12-15T08:04:03.290Z"
      },
      {
        "duration": 8,
        "start_time": "2022-12-15T08:04:03.433Z"
      },
      {
        "duration": 129,
        "start_time": "2022-12-15T08:04:03.443Z"
      },
      {
        "duration": 78,
        "start_time": "2022-12-15T08:04:03.574Z"
      },
      {
        "duration": 414,
        "start_time": "2022-12-15T08:04:03.654Z"
      },
      {
        "duration": 9,
        "start_time": "2022-12-15T08:04:04.069Z"
      },
      {
        "duration": 13,
        "start_time": "2022-12-15T08:04:04.079Z"
      },
      {
        "duration": 28,
        "start_time": "2022-12-15T08:04:04.093Z"
      },
      {
        "duration": 38,
        "start_time": "2022-12-15T08:04:04.123Z"
      },
      {
        "duration": 131,
        "start_time": "2022-12-15T08:04:04.162Z"
      },
      {
        "duration": 74,
        "start_time": "2022-12-15T08:04:04.295Z"
      },
      {
        "duration": 67,
        "start_time": "2022-12-15T08:04:04.371Z"
      },
      {
        "duration": 478,
        "start_time": "2022-12-15T08:04:04.441Z"
      },
      {
        "duration": 48,
        "start_time": "2022-12-15T08:04:04.920Z"
      },
      {
        "duration": 51,
        "start_time": "2022-12-15T08:04:04.970Z"
      },
      {
        "duration": 10,
        "start_time": "2022-12-15T08:04:05.023Z"
      },
      {
        "duration": 35,
        "start_time": "2022-12-15T08:04:05.035Z"
      },
      {
        "duration": 2,
        "start_time": "2022-12-15T08:04:05.072Z"
      },
      {
        "duration": 18,
        "start_time": "2022-12-15T08:04:05.076Z"
      },
      {
        "duration": 22,
        "start_time": "2022-12-15T08:04:05.096Z"
      },
      {
        "duration": 1400,
        "start_time": "2022-12-15T15:11:07.425Z"
      },
      {
        "duration": 913,
        "start_time": "2022-12-15T15:11:08.827Z"
      },
      {
        "duration": 500,
        "start_time": "2022-12-15T15:11:09.742Z"
      },
      {
        "duration": 130,
        "start_time": "2022-12-15T15:11:10.243Z"
      },
      {
        "duration": 124,
        "start_time": "2022-12-15T15:11:10.375Z"
      },
      {
        "duration": 268,
        "start_time": "2022-12-15T15:11:10.500Z"
      },
      {
        "duration": 103,
        "start_time": "2022-12-15T15:11:10.770Z"
      },
      {
        "duration": 148,
        "start_time": "2022-12-15T15:11:10.874Z"
      },
      {
        "duration": 9,
        "start_time": "2022-12-15T15:11:11.024Z"
      },
      {
        "duration": 8,
        "start_time": "2022-12-15T15:11:11.035Z"
      },
      {
        "duration": 7,
        "start_time": "2022-12-15T15:11:11.044Z"
      },
      {
        "duration": 77,
        "start_time": "2022-12-15T15:11:11.053Z"
      },
      {
        "duration": 8,
        "start_time": "2022-12-15T15:11:11.131Z"
      },
      {
        "duration": 25,
        "start_time": "2022-12-15T15:11:11.141Z"
      },
      {
        "duration": 72,
        "start_time": "2022-12-15T15:11:11.168Z"
      },
      {
        "duration": 122,
        "start_time": "2022-12-15T15:11:11.242Z"
      },
      {
        "duration": 9,
        "start_time": "2022-12-15T15:11:11.365Z"
      },
      {
        "duration": 128,
        "start_time": "2022-12-15T15:11:11.375Z"
      },
      {
        "duration": 60,
        "start_time": "2022-12-15T15:11:11.504Z"
      },
      {
        "duration": 658,
        "start_time": "2022-12-15T15:11:11.566Z"
      },
      {
        "duration": 11,
        "start_time": "2022-12-15T15:11:12.226Z"
      },
      {
        "duration": 12,
        "start_time": "2022-12-15T15:11:12.238Z"
      },
      {
        "duration": 45,
        "start_time": "2022-12-15T15:11:12.252Z"
      },
      {
        "duration": 98,
        "start_time": "2022-12-15T15:11:12.299Z"
      },
      {
        "duration": 70,
        "start_time": "2022-12-15T15:11:12.399Z"
      },
      {
        "duration": 77,
        "start_time": "2022-12-15T15:11:12.471Z"
      },
      {
        "duration": 67,
        "start_time": "2022-12-15T15:11:12.550Z"
      },
      {
        "duration": 470,
        "start_time": "2022-12-15T15:11:12.620Z"
      },
      {
        "duration": 45,
        "start_time": "2022-12-15T15:11:13.092Z"
      },
      {
        "duration": 8,
        "start_time": "2022-12-15T15:11:13.139Z"
      },
      {
        "duration": 54,
        "start_time": "2022-12-15T15:11:13.149Z"
      },
      {
        "duration": 30,
        "start_time": "2022-12-15T15:11:13.205Z"
      },
      {
        "duration": 3,
        "start_time": "2022-12-15T15:11:13.237Z"
      },
      {
        "duration": 6,
        "start_time": "2022-12-15T15:11:13.241Z"
      },
      {
        "duration": 17,
        "start_time": "2022-12-15T15:11:13.249Z"
      },
      {
        "duration": 19,
        "start_time": "2022-12-15T15:12:46.430Z"
      },
      {
        "duration": 22,
        "start_time": "2022-12-15T15:12:54.783Z"
      },
      {
        "duration": 7,
        "start_time": "2022-12-15T15:16:15.147Z"
      },
      {
        "duration": 9,
        "start_time": "2022-12-15T15:17:11.397Z"
      },
      {
        "duration": 7,
        "start_time": "2022-12-15T15:18:27.810Z"
      },
      {
        "duration": 7,
        "start_time": "2022-12-15T15:18:28.374Z"
      },
      {
        "duration": 8,
        "start_time": "2022-12-15T15:18:28.636Z"
      },
      {
        "duration": 9,
        "start_time": "2022-12-15T15:18:29.553Z"
      },
      {
        "duration": 1336,
        "start_time": "2022-12-15T19:25:07.534Z"
      },
      {
        "duration": 1343,
        "start_time": "2022-12-15T19:25:08.872Z"
      },
      {
        "duration": 470,
        "start_time": "2022-12-15T19:25:10.217Z"
      },
      {
        "duration": 131,
        "start_time": "2022-12-15T19:25:10.690Z"
      },
      {
        "duration": 144,
        "start_time": "2022-12-15T19:25:10.822Z"
      },
      {
        "duration": 260,
        "start_time": "2022-12-15T19:25:10.967Z"
      },
      {
        "duration": 104,
        "start_time": "2022-12-15T19:25:11.229Z"
      },
      {
        "duration": 148,
        "start_time": "2022-12-15T19:25:11.334Z"
      },
      {
        "duration": 16,
        "start_time": "2022-12-15T19:25:11.484Z"
      },
      {
        "duration": 8,
        "start_time": "2022-12-15T19:25:11.502Z"
      },
      {
        "duration": 8,
        "start_time": "2022-12-15T19:25:11.511Z"
      },
      {
        "duration": 53,
        "start_time": "2022-12-15T19:25:11.520Z"
      },
      {
        "duration": 27,
        "start_time": "2022-12-15T19:25:11.575Z"
      },
      {
        "duration": 12,
        "start_time": "2022-12-15T19:25:11.603Z"
      },
      {
        "duration": 51,
        "start_time": "2022-12-15T19:25:11.616Z"
      },
      {
        "duration": 136,
        "start_time": "2022-12-15T19:25:11.668Z"
      },
      {
        "duration": 9,
        "start_time": "2022-12-15T19:25:11.805Z"
      },
      {
        "duration": 136,
        "start_time": "2022-12-15T19:25:11.816Z"
      },
      {
        "duration": 72,
        "start_time": "2022-12-15T19:25:11.953Z"
      },
      {
        "duration": 418,
        "start_time": "2022-12-15T19:25:12.027Z"
      },
      {
        "duration": 9,
        "start_time": "2022-12-15T19:25:12.446Z"
      },
      {
        "duration": 7,
        "start_time": "2022-12-15T19:25:12.457Z"
      },
      {
        "duration": 37,
        "start_time": "2022-12-15T19:25:12.465Z"
      },
      {
        "duration": 11,
        "start_time": "2022-12-15T19:25:12.504Z"
      },
      {
        "duration": 90,
        "start_time": "2022-12-15T19:25:12.517Z"
      },
      {
        "duration": 71,
        "start_time": "2022-12-15T19:25:12.608Z"
      },
      {
        "duration": 54,
        "start_time": "2022-12-15T19:25:12.697Z"
      },
      {
        "duration": 64,
        "start_time": "2022-12-15T19:25:12.754Z"
      },
      {
        "duration": 481,
        "start_time": "2022-12-15T19:25:12.820Z"
      },
      {
        "duration": 105,
        "start_time": "2022-12-15T19:25:13.303Z"
      },
      {
        "duration": 9,
        "start_time": "2022-12-15T19:25:13.409Z"
      },
      {
        "duration": 12,
        "start_time": "2022-12-15T19:25:13.419Z"
      },
      {
        "duration": 27,
        "start_time": "2022-12-15T19:25:13.432Z"
      },
      {
        "duration": 2,
        "start_time": "2022-12-15T19:25:13.461Z"
      },
      {
        "duration": 6,
        "start_time": "2022-12-15T19:25:13.464Z"
      },
      {
        "duration": 35,
        "start_time": "2022-12-15T19:25:13.471Z"
      },
      {
        "duration": 4,
        "start_time": "2022-12-15T19:25:34.370Z"
      },
      {
        "duration": 26,
        "start_time": "2022-12-15T19:25:51.033Z"
      },
      {
        "duration": 16,
        "start_time": "2022-12-15T19:26:17.547Z"
      },
      {
        "duration": 23,
        "start_time": "2022-12-15T19:27:25.533Z"
      },
      {
        "duration": 1292,
        "start_time": "2022-12-15T19:28:15.311Z"
      },
      {
        "duration": 914,
        "start_time": "2022-12-15T19:28:16.604Z"
      },
      {
        "duration": 484,
        "start_time": "2022-12-15T19:28:17.520Z"
      },
      {
        "duration": 143,
        "start_time": "2022-12-15T19:28:18.006Z"
      },
      {
        "duration": 124,
        "start_time": "2022-12-15T19:28:18.151Z"
      },
      {
        "duration": 257,
        "start_time": "2022-12-15T19:28:18.276Z"
      },
      {
        "duration": 97,
        "start_time": "2022-12-15T19:28:18.535Z"
      },
      {
        "duration": 141,
        "start_time": "2022-12-15T19:28:18.634Z"
      },
      {
        "duration": 9,
        "start_time": "2022-12-15T19:28:18.777Z"
      },
      {
        "duration": 7,
        "start_time": "2022-12-15T19:28:18.797Z"
      },
      {
        "duration": 9,
        "start_time": "2022-12-15T19:28:18.805Z"
      },
      {
        "duration": 50,
        "start_time": "2022-12-15T19:28:18.815Z"
      },
      {
        "duration": 7,
        "start_time": "2022-12-15T19:28:18.867Z"
      },
      {
        "duration": 24,
        "start_time": "2022-12-15T19:28:18.897Z"
      },
      {
        "duration": 3,
        "start_time": "2022-12-15T19:28:18.922Z"
      },
      {
        "duration": 180,
        "start_time": "2022-12-15T19:28:18.927Z"
      },
      {
        "duration": 0,
        "start_time": "2022-12-15T19:28:19.109Z"
      },
      {
        "duration": 0,
        "start_time": "2022-12-15T19:28:19.110Z"
      },
      {
        "duration": 0,
        "start_time": "2022-12-15T19:28:19.118Z"
      },
      {
        "duration": 0,
        "start_time": "2022-12-15T19:28:19.119Z"
      },
      {
        "duration": 0,
        "start_time": "2022-12-15T19:28:19.120Z"
      },
      {
        "duration": 0,
        "start_time": "2022-12-15T19:28:19.121Z"
      },
      {
        "duration": 0,
        "start_time": "2022-12-15T19:28:19.123Z"
      },
      {
        "duration": 0,
        "start_time": "2022-12-15T19:28:19.124Z"
      },
      {
        "duration": 0,
        "start_time": "2022-12-15T19:28:19.125Z"
      },
      {
        "duration": 0,
        "start_time": "2022-12-15T19:28:19.127Z"
      },
      {
        "duration": 0,
        "start_time": "2022-12-15T19:28:19.128Z"
      },
      {
        "duration": 0,
        "start_time": "2022-12-15T19:28:19.129Z"
      },
      {
        "duration": 0,
        "start_time": "2022-12-15T19:28:19.131Z"
      },
      {
        "duration": 0,
        "start_time": "2022-12-15T19:28:19.132Z"
      },
      {
        "duration": 0,
        "start_time": "2022-12-15T19:28:19.133Z"
      },
      {
        "duration": 0,
        "start_time": "2022-12-15T19:28:19.135Z"
      },
      {
        "duration": 0,
        "start_time": "2022-12-15T19:28:19.136Z"
      },
      {
        "duration": 0,
        "start_time": "2022-12-15T19:28:19.137Z"
      },
      {
        "duration": 0,
        "start_time": "2022-12-15T19:28:19.138Z"
      },
      {
        "duration": 0,
        "start_time": "2022-12-15T19:28:19.139Z"
      },
      {
        "duration": 0,
        "start_time": "2022-12-15T19:28:19.140Z"
      },
      {
        "duration": 1227,
        "start_time": "2022-12-15T19:28:41.488Z"
      },
      {
        "duration": 1186,
        "start_time": "2022-12-15T19:28:42.716Z"
      },
      {
        "duration": 459,
        "start_time": "2022-12-15T19:28:43.903Z"
      },
      {
        "duration": 134,
        "start_time": "2022-12-15T19:28:44.364Z"
      },
      {
        "duration": 121,
        "start_time": "2022-12-15T19:28:44.499Z"
      },
      {
        "duration": 246,
        "start_time": "2022-12-15T19:28:44.622Z"
      },
      {
        "duration": 103,
        "start_time": "2022-12-15T19:28:44.870Z"
      },
      {
        "duration": 160,
        "start_time": "2022-12-15T19:28:44.974Z"
      },
      {
        "duration": 10,
        "start_time": "2022-12-15T19:28:45.136Z"
      },
      {
        "duration": 16,
        "start_time": "2022-12-15T19:28:45.148Z"
      },
      {
        "duration": 9,
        "start_time": "2022-12-15T19:28:45.166Z"
      },
      {
        "duration": 70,
        "start_time": "2022-12-15T19:28:45.177Z"
      },
      {
        "duration": 9,
        "start_time": "2022-12-15T19:28:45.249Z"
      },
      {
        "duration": 41,
        "start_time": "2022-12-15T19:28:45.260Z"
      },
      {
        "duration": 3,
        "start_time": "2022-12-15T19:28:45.303Z"
      },
      {
        "duration": 51,
        "start_time": "2022-12-15T19:28:45.307Z"
      },
      {
        "duration": 137,
        "start_time": "2022-12-15T19:28:45.360Z"
      },
      {
        "duration": 8,
        "start_time": "2022-12-15T19:28:45.498Z"
      },
      {
        "duration": 121,
        "start_time": "2022-12-15T19:28:45.508Z"
      },
      {
        "duration": 68,
        "start_time": "2022-12-15T19:28:45.630Z"
      },
      {
        "duration": 447,
        "start_time": "2022-12-15T19:28:45.700Z"
      },
      {
        "duration": 12,
        "start_time": "2022-12-15T19:28:46.150Z"
      },
      {
        "duration": 36,
        "start_time": "2022-12-15T19:28:46.164Z"
      },
      {
        "duration": 12,
        "start_time": "2022-12-15T19:28:46.203Z"
      },
      {
        "duration": 12,
        "start_time": "2022-12-15T19:28:46.217Z"
      },
      {
        "duration": 95,
        "start_time": "2022-12-15T19:28:46.231Z"
      },
      {
        "duration": 110,
        "start_time": "2022-12-15T19:28:46.328Z"
      },
      {
        "duration": 80,
        "start_time": "2022-12-15T19:28:46.442Z"
      },
      {
        "duration": 50,
        "start_time": "2022-12-15T19:28:46.524Z"
      },
      {
        "duration": 481,
        "start_time": "2022-12-15T19:28:46.596Z"
      },
      {
        "duration": 70,
        "start_time": "2022-12-15T19:28:47.079Z"
      },
      {
        "duration": 56,
        "start_time": "2022-12-15T19:28:47.150Z"
      },
      {
        "duration": 10,
        "start_time": "2022-12-15T19:28:47.208Z"
      },
      {
        "duration": 31,
        "start_time": "2022-12-15T19:28:47.219Z"
      },
      {
        "duration": 2,
        "start_time": "2022-12-15T19:28:47.252Z"
      },
      {
        "duration": 9,
        "start_time": "2022-12-15T19:28:47.255Z"
      },
      {
        "duration": 40,
        "start_time": "2022-12-15T19:28:47.265Z"
      },
      {
        "duration": 9,
        "start_time": "2022-12-15T19:31:20.534Z"
      },
      {
        "duration": 21,
        "start_time": "2022-12-15T19:32:30.215Z"
      },
      {
        "duration": 10,
        "start_time": "2022-12-15T19:32:51.190Z"
      },
      {
        "duration": 1230,
        "start_time": "2022-12-15T19:32:59.318Z"
      },
      {
        "duration": 1234,
        "start_time": "2022-12-15T19:33:00.549Z"
      },
      {
        "duration": 483,
        "start_time": "2022-12-15T19:33:01.785Z"
      },
      {
        "duration": 162,
        "start_time": "2022-12-15T19:33:02.271Z"
      },
      {
        "duration": 136,
        "start_time": "2022-12-15T19:33:02.435Z"
      },
      {
        "duration": 256,
        "start_time": "2022-12-15T19:33:02.572Z"
      },
      {
        "duration": 108,
        "start_time": "2022-12-15T19:33:02.829Z"
      },
      {
        "duration": 168,
        "start_time": "2022-12-15T19:33:02.938Z"
      },
      {
        "duration": 9,
        "start_time": "2022-12-15T19:33:03.107Z"
      },
      {
        "duration": 7,
        "start_time": "2022-12-15T19:33:03.119Z"
      },
      {
        "duration": 7,
        "start_time": "2022-12-15T19:33:03.128Z"
      },
      {
        "duration": 88,
        "start_time": "2022-12-15T19:33:03.137Z"
      },
      {
        "duration": 7,
        "start_time": "2022-12-15T19:33:03.227Z"
      },
      {
        "duration": 6,
        "start_time": "2022-12-15T19:33:03.235Z"
      },
      {
        "duration": 66,
        "start_time": "2022-12-15T19:33:03.242Z"
      },
      {
        "duration": 134,
        "start_time": "2022-12-15T19:33:03.309Z"
      },
      {
        "duration": 0,
        "start_time": "2022-12-15T19:33:03.445Z"
      },
      {
        "duration": 0,
        "start_time": "2022-12-15T19:33:03.446Z"
      },
      {
        "duration": 0,
        "start_time": "2022-12-15T19:33:03.447Z"
      },
      {
        "duration": 0,
        "start_time": "2022-12-15T19:33:03.449Z"
      },
      {
        "duration": 0,
        "start_time": "2022-12-15T19:33:03.450Z"
      },
      {
        "duration": 0,
        "start_time": "2022-12-15T19:33:03.451Z"
      },
      {
        "duration": 0,
        "start_time": "2022-12-15T19:33:03.452Z"
      },
      {
        "duration": 0,
        "start_time": "2022-12-15T19:33:03.453Z"
      },
      {
        "duration": 0,
        "start_time": "2022-12-15T19:33:03.455Z"
      },
      {
        "duration": 0,
        "start_time": "2022-12-15T19:33:03.456Z"
      },
      {
        "duration": 0,
        "start_time": "2022-12-15T19:33:03.458Z"
      },
      {
        "duration": 0,
        "start_time": "2022-12-15T19:33:03.460Z"
      },
      {
        "duration": 0,
        "start_time": "2022-12-15T19:33:03.461Z"
      },
      {
        "duration": 0,
        "start_time": "2022-12-15T19:33:03.463Z"
      },
      {
        "duration": 0,
        "start_time": "2022-12-15T19:33:03.465Z"
      },
      {
        "duration": 0,
        "start_time": "2022-12-15T19:33:03.497Z"
      },
      {
        "duration": 0,
        "start_time": "2022-12-15T19:33:03.499Z"
      },
      {
        "duration": 0,
        "start_time": "2022-12-15T19:33:03.500Z"
      },
      {
        "duration": 0,
        "start_time": "2022-12-15T19:33:03.501Z"
      },
      {
        "duration": 0,
        "start_time": "2022-12-15T19:33:03.503Z"
      },
      {
        "duration": 0,
        "start_time": "2022-12-15T19:33:03.505Z"
      },
      {
        "duration": 0,
        "start_time": "2022-12-15T19:33:03.506Z"
      },
      {
        "duration": 33,
        "start_time": "2022-12-15T19:33:21.260Z"
      },
      {
        "duration": 34,
        "start_time": "2022-12-15T19:33:49.438Z"
      },
      {
        "duration": 20,
        "start_time": "2022-12-15T19:34:05.943Z"
      },
      {
        "duration": 117,
        "start_time": "2022-12-15T19:34:20.106Z"
      },
      {
        "duration": 1237,
        "start_time": "2022-12-15T19:34:58.175Z"
      },
      {
        "duration": 1130,
        "start_time": "2022-12-15T19:34:59.414Z"
      },
      {
        "duration": 496,
        "start_time": "2022-12-15T19:35:00.545Z"
      },
      {
        "duration": 137,
        "start_time": "2022-12-15T19:35:01.042Z"
      },
      {
        "duration": 132,
        "start_time": "2022-12-15T19:35:01.180Z"
      },
      {
        "duration": 256,
        "start_time": "2022-12-15T19:35:01.314Z"
      },
      {
        "duration": 100,
        "start_time": "2022-12-15T19:35:01.571Z"
      },
      {
        "duration": 181,
        "start_time": "2022-12-15T19:35:01.673Z"
      },
      {
        "duration": 8,
        "start_time": "2022-12-15T19:35:01.856Z"
      },
      {
        "duration": 61,
        "start_time": "2022-12-15T19:35:01.867Z"
      },
      {
        "duration": 37,
        "start_time": "2022-12-15T19:35:01.930Z"
      },
      {
        "duration": 77,
        "start_time": "2022-12-15T19:35:01.968Z"
      },
      {
        "duration": 8,
        "start_time": "2022-12-15T19:35:02.047Z"
      },
      {
        "duration": 4,
        "start_time": "2022-12-15T19:35:02.056Z"
      },
      {
        "duration": 71,
        "start_time": "2022-12-15T19:35:02.061Z"
      },
      {
        "duration": 30,
        "start_time": "2022-12-15T19:35:02.134Z"
      },
      {
        "duration": 32,
        "start_time": "2022-12-15T19:35:02.166Z"
      },
      {
        "duration": 137,
        "start_time": "2022-12-15T19:35:02.199Z"
      },
      {
        "duration": 8,
        "start_time": "2022-12-15T19:35:02.337Z"
      },
      {
        "duration": 130,
        "start_time": "2022-12-15T19:35:02.347Z"
      },
      {
        "duration": 73,
        "start_time": "2022-12-15T19:35:02.479Z"
      },
      {
        "duration": 428,
        "start_time": "2022-12-15T19:35:02.554Z"
      },
      {
        "duration": 13,
        "start_time": "2022-12-15T19:35:02.983Z"
      },
      {
        "duration": 8,
        "start_time": "2022-12-15T19:35:02.998Z"
      },
      {
        "duration": 7,
        "start_time": "2022-12-15T19:35:03.007Z"
      },
      {
        "duration": 9,
        "start_time": "2022-12-15T19:35:03.015Z"
      },
      {
        "duration": 86,
        "start_time": "2022-12-15T19:35:03.025Z"
      },
      {
        "duration": 92,
        "start_time": "2022-12-15T19:35:03.114Z"
      },
      {
        "duration": 54,
        "start_time": "2022-12-15T19:35:03.207Z"
      },
      {
        "duration": 73,
        "start_time": "2022-12-15T19:35:03.263Z"
      },
      {
        "duration": 489,
        "start_time": "2022-12-15T19:35:03.337Z"
      },
      {
        "duration": 85,
        "start_time": "2022-12-15T19:35:03.828Z"
      },
      {
        "duration": 9,
        "start_time": "2022-12-15T19:35:03.914Z"
      },
      {
        "duration": 14,
        "start_time": "2022-12-15T19:35:03.925Z"
      },
      {
        "duration": 59,
        "start_time": "2022-12-15T19:35:03.941Z"
      },
      {
        "duration": 3,
        "start_time": "2022-12-15T19:35:04.001Z"
      },
      {
        "duration": 10,
        "start_time": "2022-12-15T19:35:04.005Z"
      },
      {
        "duration": 11,
        "start_time": "2022-12-15T19:35:04.017Z"
      },
      {
        "duration": 10,
        "start_time": "2022-12-15T19:36:25.327Z"
      },
      {
        "duration": 8,
        "start_time": "2022-12-15T19:38:51.236Z"
      },
      {
        "duration": 13,
        "start_time": "2022-12-15T19:38:53.425Z"
      },
      {
        "duration": 8,
        "start_time": "2022-12-15T19:39:00.297Z"
      },
      {
        "duration": 5,
        "start_time": "2022-12-15T19:39:13.435Z"
      },
      {
        "duration": 7,
        "start_time": "2022-12-15T19:39:42.260Z"
      },
      {
        "duration": 1352,
        "start_time": "2022-12-15T19:39:55.139Z"
      },
      {
        "duration": 1049,
        "start_time": "2022-12-15T19:39:56.493Z"
      },
      {
        "duration": 443,
        "start_time": "2022-12-15T19:39:57.544Z"
      },
      {
        "duration": 127,
        "start_time": "2022-12-15T19:39:57.996Z"
      },
      {
        "duration": 127,
        "start_time": "2022-12-15T19:39:58.124Z"
      },
      {
        "duration": 255,
        "start_time": "2022-12-15T19:39:58.253Z"
      },
      {
        "duration": 113,
        "start_time": "2022-12-15T19:39:58.510Z"
      },
      {
        "duration": 160,
        "start_time": "2022-12-15T19:39:58.624Z"
      },
      {
        "duration": 16,
        "start_time": "2022-12-15T19:39:58.786Z"
      },
      {
        "duration": 7,
        "start_time": "2022-12-15T19:39:58.805Z"
      },
      {
        "duration": 7,
        "start_time": "2022-12-15T19:39:58.814Z"
      },
      {
        "duration": 52,
        "start_time": "2022-12-15T19:39:58.822Z"
      },
      {
        "duration": 10,
        "start_time": "2022-12-15T19:39:58.895Z"
      },
      {
        "duration": 2,
        "start_time": "2022-12-15T19:39:58.907Z"
      },
      {
        "duration": 49,
        "start_time": "2022-12-15T19:39:58.911Z"
      },
      {
        "duration": 140,
        "start_time": "2022-12-15T19:39:58.962Z"
      },
      {
        "duration": 29,
        "start_time": "2022-12-15T19:39:59.103Z"
      },
      {
        "duration": 14,
        "start_time": "2022-12-15T19:39:59.134Z"
      },
      {
        "duration": 6,
        "start_time": "2022-12-15T19:39:59.149Z"
      },
      {
        "duration": 15,
        "start_time": "2022-12-15T19:39:59.156Z"
      },
      {
        "duration": 29,
        "start_time": "2022-12-15T19:39:59.173Z"
      },
      {
        "duration": 122,
        "start_time": "2022-12-15T19:39:59.203Z"
      },
      {
        "duration": 58,
        "start_time": "2022-12-15T19:39:59.327Z"
      },
      {
        "duration": 419,
        "start_time": "2022-12-15T19:39:59.396Z"
      },
      {
        "duration": 10,
        "start_time": "2022-12-15T19:39:59.816Z"
      },
      {
        "duration": 8,
        "start_time": "2022-12-15T19:39:59.828Z"
      },
      {
        "duration": 7,
        "start_time": "2022-12-15T19:39:59.837Z"
      },
      {
        "duration": 8,
        "start_time": "2022-12-15T19:39:59.847Z"
      },
      {
        "duration": 40,
        "start_time": "2022-12-15T19:39:59.896Z"
      },
      {
        "duration": 119,
        "start_time": "2022-12-15T19:39:59.938Z"
      },
      {
        "duration": 74,
        "start_time": "2022-12-15T19:40:00.059Z"
      },
      {
        "duration": 61,
        "start_time": "2022-12-15T19:40:00.135Z"
      },
      {
        "duration": 498,
        "start_time": "2022-12-15T19:40:00.198Z"
      },
      {
        "duration": 50,
        "start_time": "2022-12-15T19:40:00.698Z"
      },
      {
        "duration": 52,
        "start_time": "2022-12-15T19:40:00.750Z"
      },
      {
        "duration": 22,
        "start_time": "2022-12-15T19:40:00.803Z"
      },
      {
        "duration": 55,
        "start_time": "2022-12-15T19:40:00.827Z"
      },
      {
        "duration": 28,
        "start_time": "2022-12-15T19:40:00.883Z"
      },
      {
        "duration": 23,
        "start_time": "2022-12-15T19:40:00.913Z"
      },
      {
        "duration": 29,
        "start_time": "2022-12-15T19:40:00.938Z"
      },
      {
        "duration": 1291,
        "start_time": "2022-12-15T19:46:09.162Z"
      },
      {
        "duration": 1020,
        "start_time": "2022-12-15T19:46:10.455Z"
      },
      {
        "duration": 531,
        "start_time": "2022-12-15T19:46:11.476Z"
      },
      {
        "duration": 135,
        "start_time": "2022-12-15T19:46:12.009Z"
      },
      {
        "duration": 132,
        "start_time": "2022-12-15T19:46:12.146Z"
      },
      {
        "duration": 259,
        "start_time": "2022-12-15T19:46:12.280Z"
      },
      {
        "duration": 101,
        "start_time": "2022-12-15T19:46:12.541Z"
      },
      {
        "duration": 186,
        "start_time": "2022-12-15T19:46:12.644Z"
      },
      {
        "duration": 9,
        "start_time": "2022-12-15T19:46:12.832Z"
      },
      {
        "duration": 19,
        "start_time": "2022-12-15T19:46:12.843Z"
      },
      {
        "duration": 16,
        "start_time": "2022-12-15T19:46:12.864Z"
      },
      {
        "duration": 60,
        "start_time": "2022-12-15T19:46:12.881Z"
      },
      {
        "duration": 6,
        "start_time": "2022-12-15T19:46:12.943Z"
      },
      {
        "duration": 10,
        "start_time": "2022-12-15T19:46:12.951Z"
      },
      {
        "duration": 59,
        "start_time": "2022-12-15T19:46:12.962Z"
      },
      {
        "duration": 129,
        "start_time": "2022-12-15T19:46:13.022Z"
      },
      {
        "duration": 33,
        "start_time": "2022-12-15T19:46:13.152Z"
      },
      {
        "duration": 16,
        "start_time": "2022-12-15T19:46:13.197Z"
      },
      {
        "duration": 6,
        "start_time": "2022-12-15T19:46:13.215Z"
      },
      {
        "duration": 13,
        "start_time": "2022-12-15T19:46:13.223Z"
      },
      {
        "duration": 8,
        "start_time": "2022-12-15T19:46:13.237Z"
      },
      {
        "duration": 139,
        "start_time": "2022-12-15T19:46:13.247Z"
      },
      {
        "duration": 61,
        "start_time": "2022-12-15T19:46:13.388Z"
      },
      {
        "duration": 379,
        "start_time": "2022-12-15T19:46:13.450Z"
      },
      {
        "duration": 2,
        "start_time": "2022-12-15T19:46:13.830Z"
      },
      {
        "duration": 17,
        "start_time": "2022-12-15T19:46:13.833Z"
      },
      {
        "duration": 9,
        "start_time": "2022-12-15T19:46:13.851Z"
      },
      {
        "duration": 39,
        "start_time": "2022-12-15T19:46:13.863Z"
      },
      {
        "duration": 17,
        "start_time": "2022-12-15T19:46:13.904Z"
      },
      {
        "duration": 5,
        "start_time": "2022-12-15T19:46:13.922Z"
      },
      {
        "duration": 79,
        "start_time": "2022-12-15T19:46:13.929Z"
      },
      {
        "duration": 68,
        "start_time": "2022-12-15T19:46:14.009Z"
      },
      {
        "duration": 68,
        "start_time": "2022-12-15T19:46:14.079Z"
      },
      {
        "duration": 67,
        "start_time": "2022-12-15T19:46:14.149Z"
      },
      {
        "duration": 490,
        "start_time": "2022-12-15T19:46:14.218Z"
      },
      {
        "duration": 45,
        "start_time": "2022-12-15T19:46:14.710Z"
      },
      {
        "duration": 10,
        "start_time": "2022-12-15T19:46:14.796Z"
      },
      {
        "duration": 11,
        "start_time": "2022-12-15T19:46:14.808Z"
      },
      {
        "duration": 30,
        "start_time": "2022-12-15T19:46:14.820Z"
      },
      {
        "duration": 2,
        "start_time": "2022-12-15T19:46:14.852Z"
      },
      {
        "duration": 9,
        "start_time": "2022-12-15T19:46:14.856Z"
      },
      {
        "duration": 33,
        "start_time": "2022-12-15T19:46:14.866Z"
      },
      {
        "duration": 1247,
        "start_time": "2022-12-15T19:46:58.894Z"
      },
      {
        "duration": 1369,
        "start_time": "2022-12-15T19:47:00.143Z"
      },
      {
        "duration": 558,
        "start_time": "2022-12-15T19:47:01.518Z"
      },
      {
        "duration": 151,
        "start_time": "2022-12-15T19:47:02.078Z"
      },
      {
        "duration": 138,
        "start_time": "2022-12-15T19:47:02.230Z"
      },
      {
        "duration": 253,
        "start_time": "2022-12-15T19:47:02.369Z"
      },
      {
        "duration": 102,
        "start_time": "2022-12-15T19:47:02.623Z"
      },
      {
        "duration": 186,
        "start_time": "2022-12-15T19:47:02.727Z"
      },
      {
        "duration": 9,
        "start_time": "2022-12-15T19:47:02.917Z"
      },
      {
        "duration": 12,
        "start_time": "2022-12-15T19:47:02.928Z"
      },
      {
        "duration": 8,
        "start_time": "2022-12-15T19:47:02.941Z"
      },
      {
        "duration": 78,
        "start_time": "2022-12-15T19:47:02.950Z"
      },
      {
        "duration": 7,
        "start_time": "2022-12-15T19:47:03.029Z"
      },
      {
        "duration": 6,
        "start_time": "2022-12-15T19:47:03.038Z"
      },
      {
        "duration": 65,
        "start_time": "2022-12-15T19:47:03.045Z"
      },
      {
        "duration": 145,
        "start_time": "2022-12-15T19:47:03.111Z"
      },
      {
        "duration": 41,
        "start_time": "2022-12-15T19:47:03.257Z"
      },
      {
        "duration": 17,
        "start_time": "2022-12-15T19:47:03.300Z"
      },
      {
        "duration": 6,
        "start_time": "2022-12-15T19:47:03.319Z"
      },
      {
        "duration": 12,
        "start_time": "2022-12-15T19:47:03.327Z"
      },
      {
        "duration": 10,
        "start_time": "2022-12-15T19:47:03.341Z"
      },
      {
        "duration": 157,
        "start_time": "2022-12-15T19:47:03.354Z"
      },
      {
        "duration": 65,
        "start_time": "2022-12-15T19:47:03.512Z"
      },
      {
        "duration": 435,
        "start_time": "2022-12-15T19:47:03.579Z"
      },
      {
        "duration": 3,
        "start_time": "2022-12-15T19:47:04.015Z"
      },
      {
        "duration": 21,
        "start_time": "2022-12-15T19:47:04.019Z"
      },
      {
        "duration": 14,
        "start_time": "2022-12-15T19:47:04.043Z"
      },
      {
        "duration": 45,
        "start_time": "2022-12-15T19:47:04.058Z"
      },
      {
        "duration": 8,
        "start_time": "2022-12-15T19:47:04.105Z"
      },
      {
        "duration": 8,
        "start_time": "2022-12-15T19:47:04.114Z"
      },
      {
        "duration": 34,
        "start_time": "2022-12-15T19:47:04.124Z"
      },
      {
        "duration": 107,
        "start_time": "2022-12-15T19:47:04.160Z"
      },
      {
        "duration": 74,
        "start_time": "2022-12-15T19:47:04.269Z"
      },
      {
        "duration": 57,
        "start_time": "2022-12-15T19:47:04.345Z"
      },
      {
        "duration": 451,
        "start_time": "2022-12-15T19:47:04.404Z"
      },
      {
        "duration": 72,
        "start_time": "2022-12-15T19:47:04.857Z"
      },
      {
        "duration": 8,
        "start_time": "2022-12-15T19:47:04.930Z"
      },
      {
        "duration": 10,
        "start_time": "2022-12-15T19:47:04.940Z"
      },
      {
        "duration": 75,
        "start_time": "2022-12-15T19:47:04.952Z"
      },
      {
        "duration": 20,
        "start_time": "2022-12-15T19:47:05.029Z"
      },
      {
        "duration": 9,
        "start_time": "2022-12-15T19:47:05.051Z"
      },
      {
        "duration": 12,
        "start_time": "2022-12-15T19:47:05.062Z"
      },
      {
        "duration": 1212,
        "start_time": "2022-12-15T19:52:01.224Z"
      },
      {
        "duration": 1360,
        "start_time": "2022-12-15T19:52:02.438Z"
      },
      {
        "duration": 475,
        "start_time": "2022-12-15T19:52:03.800Z"
      },
      {
        "duration": 129,
        "start_time": "2022-12-15T19:52:04.277Z"
      },
      {
        "duration": 154,
        "start_time": "2022-12-15T19:52:04.408Z"
      },
      {
        "duration": 245,
        "start_time": "2022-12-15T19:52:04.563Z"
      },
      {
        "duration": 113,
        "start_time": "2022-12-15T19:52:04.810Z"
      },
      {
        "duration": 158,
        "start_time": "2022-12-15T19:52:04.925Z"
      },
      {
        "duration": 13,
        "start_time": "2022-12-15T19:52:05.084Z"
      },
      {
        "duration": 9,
        "start_time": "2022-12-15T19:52:05.100Z"
      },
      {
        "duration": 11,
        "start_time": "2022-12-15T19:52:05.110Z"
      },
      {
        "duration": 73,
        "start_time": "2022-12-15T19:52:05.123Z"
      },
      {
        "duration": 7,
        "start_time": "2022-12-15T19:52:05.198Z"
      },
      {
        "duration": 27,
        "start_time": "2022-12-15T19:52:05.206Z"
      },
      {
        "duration": 56,
        "start_time": "2022-12-15T19:52:05.235Z"
      },
      {
        "duration": 117,
        "start_time": "2022-12-15T19:52:05.292Z"
      },
      {
        "duration": 8,
        "start_time": "2022-12-15T19:52:05.410Z"
      },
      {
        "duration": 151,
        "start_time": "2022-12-15T19:52:05.420Z"
      },
      {
        "duration": 76,
        "start_time": "2022-12-15T19:52:05.573Z"
      },
      {
        "duration": 441,
        "start_time": "2022-12-15T19:52:05.651Z"
      },
      {
        "duration": 11,
        "start_time": "2022-12-15T19:52:06.094Z"
      },
      {
        "duration": 13,
        "start_time": "2022-12-15T19:52:06.107Z"
      },
      {
        "duration": 8,
        "start_time": "2022-12-15T19:52:06.121Z"
      },
      {
        "duration": 9,
        "start_time": "2022-12-15T19:52:06.130Z"
      },
      {
        "duration": 88,
        "start_time": "2022-12-15T19:52:06.140Z"
      },
      {
        "duration": 115,
        "start_time": "2022-12-15T19:52:06.230Z"
      },
      {
        "duration": 81,
        "start_time": "2022-12-15T19:52:06.347Z"
      },
      {
        "duration": 75,
        "start_time": "2022-12-15T19:52:06.432Z"
      },
      {
        "duration": 466,
        "start_time": "2022-12-15T19:52:06.509Z"
      },
      {
        "duration": 59,
        "start_time": "2022-12-15T19:52:06.977Z"
      },
      {
        "duration": 10,
        "start_time": "2022-12-15T19:52:07.038Z"
      },
      {
        "duration": 47,
        "start_time": "2022-12-15T19:52:07.050Z"
      },
      {
        "duration": 32,
        "start_time": "2022-12-15T19:52:07.098Z"
      },
      {
        "duration": 3,
        "start_time": "2022-12-15T19:52:07.131Z"
      },
      {
        "duration": 8,
        "start_time": "2022-12-15T19:52:07.135Z"
      },
      {
        "duration": 11,
        "start_time": "2022-12-15T19:52:07.145Z"
      },
      {
        "duration": 1361,
        "start_time": "2022-12-16T06:38:16.358Z"
      },
      {
        "duration": 1731,
        "start_time": "2022-12-16T06:38:17.721Z"
      },
      {
        "duration": 503,
        "start_time": "2022-12-16T06:38:19.457Z"
      },
      {
        "duration": 163,
        "start_time": "2022-12-16T06:38:19.962Z"
      },
      {
        "duration": 131,
        "start_time": "2022-12-16T06:38:20.127Z"
      },
      {
        "duration": 264,
        "start_time": "2022-12-16T06:38:20.260Z"
      },
      {
        "duration": 107,
        "start_time": "2022-12-16T06:38:20.526Z"
      },
      {
        "duration": 153,
        "start_time": "2022-12-16T06:38:20.635Z"
      },
      {
        "duration": 11,
        "start_time": "2022-12-16T06:38:20.791Z"
      },
      {
        "duration": 19,
        "start_time": "2022-12-16T06:38:20.803Z"
      },
      {
        "duration": 9,
        "start_time": "2022-12-16T06:38:20.824Z"
      },
      {
        "duration": 54,
        "start_time": "2022-12-16T06:38:20.835Z"
      },
      {
        "duration": 29,
        "start_time": "2022-12-16T06:38:20.891Z"
      },
      {
        "duration": 12,
        "start_time": "2022-12-16T06:38:20.921Z"
      },
      {
        "duration": 65,
        "start_time": "2022-12-16T06:38:20.935Z"
      },
      {
        "duration": 134,
        "start_time": "2022-12-16T06:38:21.002Z"
      },
      {
        "duration": 8,
        "start_time": "2022-12-16T06:38:21.137Z"
      },
      {
        "duration": 125,
        "start_time": "2022-12-16T06:38:21.147Z"
      },
      {
        "duration": 71,
        "start_time": "2022-12-16T06:38:21.273Z"
      },
      {
        "duration": 645,
        "start_time": "2022-12-16T06:38:21.346Z"
      },
      {
        "duration": 13,
        "start_time": "2022-12-16T06:38:21.993Z"
      },
      {
        "duration": 19,
        "start_time": "2022-12-16T06:38:22.007Z"
      },
      {
        "duration": 6,
        "start_time": "2022-12-16T06:38:22.028Z"
      },
      {
        "duration": 9,
        "start_time": "2022-12-16T06:38:22.036Z"
      },
      {
        "duration": 92,
        "start_time": "2022-12-16T06:38:22.046Z"
      },
      {
        "duration": 110,
        "start_time": "2022-12-16T06:38:22.140Z"
      },
      {
        "duration": 65,
        "start_time": "2022-12-16T06:38:22.253Z"
      },
      {
        "duration": 49,
        "start_time": "2022-12-16T06:38:22.320Z"
      },
      {
        "duration": 489,
        "start_time": "2022-12-16T06:38:22.370Z"
      },
      {
        "duration": 75,
        "start_time": "2022-12-16T06:38:22.861Z"
      },
      {
        "duration": 9,
        "start_time": "2022-12-16T06:38:22.937Z"
      },
      {
        "duration": 12,
        "start_time": "2022-12-16T06:38:22.947Z"
      },
      {
        "duration": 55,
        "start_time": "2022-12-16T06:38:22.960Z"
      },
      {
        "duration": 2,
        "start_time": "2022-12-16T06:38:23.017Z"
      },
      {
        "duration": 10,
        "start_time": "2022-12-16T06:38:23.020Z"
      },
      {
        "duration": 11,
        "start_time": "2022-12-16T06:38:23.031Z"
      }
    ],
    "colab": {
      "provenance": [],
      "toc_visible": true,
      "include_colab_link": true
    },
    "kernelspec": {
      "display_name": "Python 3 (ipykernel)",
      "language": "python",
      "name": "python3"
    },
    "language_info": {
      "codemirror_mode": {
        "name": "ipython",
        "version": 3
      },
      "file_extension": ".py",
      "mimetype": "text/x-python",
      "name": "python",
      "nbconvert_exporter": "python",
      "pygments_lexer": "ipython3",
      "version": "3.9.5"
    },
    "toc": {
      "base_numbering": 1,
      "nav_menu": {},
      "number_sections": true,
      "sideBar": true,
      "skip_h1_title": true,
      "title_cell": "Table of Contents",
      "title_sidebar": "Contents",
      "toc_cell": false,
      "toc_position": {},
      "toc_section_display": true,
      "toc_window_display": false
    }
  },
  "nbformat": 4,
  "nbformat_minor": 0
}